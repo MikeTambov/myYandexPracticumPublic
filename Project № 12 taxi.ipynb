{
 "cells": [
  {
   "cell_type": "markdown",
   "metadata": {
    "toc": true
   },
   "source": [
    "<h1>Содержание<span class=\"tocSkip\"></span></h1>\n",
    "<div class=\"toc\"><ul class=\"toc-item\"><li><span><a href=\"#Подготовка-и-загрузка-данных\" data-toc-modified-id=\"Подготовка-и-загрузка-данных-1\"><span class=\"toc-item-num\">1&nbsp;&nbsp;</span>Подготовка и загрузка данных</a></span></li><li><span><a href=\"#Анализ-и-подготовка-данных\" data-toc-modified-id=\"Анализ-и-подготовка-данных-2\"><span class=\"toc-item-num\">2&nbsp;&nbsp;</span>Анализ и подготовка данных</a></span><ul class=\"toc-item\"><li><span><a href=\"#Общая-информация\" data-toc-modified-id=\"Общая-информация-2.1\"><span class=\"toc-item-num\">2.1&nbsp;&nbsp;</span>Общая информация</a></span></li><li><span><a href=\"#Анализ-данных\" data-toc-modified-id=\"Анализ-данных-2.2\"><span class=\"toc-item-num\">2.2&nbsp;&nbsp;</span>Анализ данных</a></span><ul class=\"toc-item\"><li><span><a href=\"#Разделение-ряда-на-составляющие-(тренд,-сезонность-и-шум)\" data-toc-modified-id=\"Разделение-ряда-на-составляющие-(тренд,-сезонность-и-шум)-2.2.1\"><span class=\"toc-item-num\">2.2.1&nbsp;&nbsp;</span>Разделение ряда на составляющие (тренд, сезонность и шум)</a></span><ul class=\"toc-item\"><li><span><a href=\"#Данные-10-по-15-августа\" data-toc-modified-id=\"Данные-10-по-15-августа-2.2.1.1\"><span class=\"toc-item-num\">2.2.1.1&nbsp;&nbsp;</span>Данные 10 по 15 августа</a></span></li></ul></li><li><span><a href=\"#Тест-Дики-Фуллера-на-стационарность-ряда\" data-toc-modified-id=\"Тест-Дики-Фуллера-на-стационарность-ряда-2.2.2\"><span class=\"toc-item-num\">2.2.2&nbsp;&nbsp;</span>Тест Дики-Фуллера на стационарность ряда</a></span></li><li><span><a href=\"#Автокорреляция\" data-toc-modified-id=\"Автокорреляция-2.2.3\"><span class=\"toc-item-num\">2.2.3&nbsp;&nbsp;</span>Автокорреляция</a></span></li></ul></li><li><span><a href=\"#Выводы-по-разделу:\" data-toc-modified-id=\"Выводы-по-разделу:-2.3\"><span class=\"toc-item-num\">2.3&nbsp;&nbsp;</span>Выводы по разделу:</a></span></li></ul></li><li><span><a href=\"#Подготовка-признаков\" data-toc-modified-id=\"Подготовка-признаков-3\"><span class=\"toc-item-num\">3&nbsp;&nbsp;</span>Подготовка признаков</a></span><ul class=\"toc-item\"><li><span><a href=\"#Выводы-по-разделу\" data-toc-modified-id=\"Выводы-по-разделу-3.1\"><span class=\"toc-item-num\">3.1&nbsp;&nbsp;</span>Выводы по разделу</a></span></li></ul></li><li><span><a href=\"#Обучение-моделей\" data-toc-modified-id=\"Обучение-моделей-4\"><span class=\"toc-item-num\">4&nbsp;&nbsp;</span>Обучение моделей</a></span><ul class=\"toc-item\"><li><span><a href=\"#Модель-LinearRegression\" data-toc-modified-id=\"Модель-LinearRegression-4.1\"><span class=\"toc-item-num\">4.1&nbsp;&nbsp;</span>Модель LinearRegression</a></span></li><li><span><a href=\"#Модель-LightGBMRegressor\" data-toc-modified-id=\"Модель-LightGBMRegressor-4.2\"><span class=\"toc-item-num\">4.2&nbsp;&nbsp;</span>Модель LightGBMRegressor</a></span></li><li><span><a href=\"#Выводы-по-разделу\" data-toc-modified-id=\"Выводы-по-разделу-4.3\"><span class=\"toc-item-num\">4.3&nbsp;&nbsp;</span>Выводы по разделу</a></span></li></ul></li><li><span><a href=\"#Тестирование-моделей\" data-toc-modified-id=\"Тестирование-моделей-5\"><span class=\"toc-item-num\">5&nbsp;&nbsp;</span>Тестирование моделей</a></span></li><li><span><a href=\"#Выводы-по-проекту\" data-toc-modified-id=\"Выводы-по-проекту-6\"><span class=\"toc-item-num\">6&nbsp;&nbsp;</span>Выводы по проекту</a></span></li><li><span><a href=\"#Чек-лист-проверки\" data-toc-modified-id=\"Чек-лист-проверки-7\"><span class=\"toc-item-num\">7&nbsp;&nbsp;</span>Чек-лист проверки</a></span></li></ul></div>"
   ]
  },
  {
   "cell_type": "markdown",
   "metadata": {},
   "source": [
    "*Уважаемый ревьювер представляю на проверку проект. Замечания и предложения по улучшению проекта принимаются. Надеюсь все будет понятно.*"
   ]
  },
  {
   "cell_type": "markdown",
   "metadata": {},
   "source": [
    "#  Проект \"Прогнозирование заказов такси\""
   ]
  },
  {
   "cell_type": "markdown",
   "metadata": {},
   "source": [
    "**<i>Цель: Разработать модель прогнозирующую стоимость автомобиля. </i>**\n",
    "\n",
    "**Задачами проекта являются:**\n",
    "1. Выбрать модель прогнозирования количества заказов такси в час:\n",
    "    - качества прогнозирования, метрика RMSE должна быть не больше 48.\n",
    "\n",
    "**Объектом исследования является датасет со статистикой количества заказов такси.** \n",
    "\n",
    "**Проект выполняется в основных этапов:**\n",
    "1. Подготовка и загрузка данных.\n",
    "2. Анализ и данных\n",
    "3. Подготовка признаков.\n",
    "4. Обучение моделей.\n",
    "5. Тестирование моделей.\n",
    "6. Общий выввод."
   ]
  },
  {
   "cell_type": "markdown",
   "metadata": {},
   "source": [
    "## Подготовка и загрузка данных"
   ]
  },
  {
   "cell_type": "code",
   "execution_count": 1,
   "metadata": {},
   "outputs": [],
   "source": [
    "# Импорт библиотек.\n",
    "import os\n",
    "import pandas as pd\n",
    "import matplotlib.pyplot as plt\n",
    "from statsmodels.tsa.seasonal import seasonal_decompose\n",
    "from sklearn.model_selection import train_test_split\n",
    "from sklearn.linear_model import LinearRegression\n",
    "from pylab import rcParams\n",
    "from statsmodels.tsa.stattools import adfuller\n",
    "from statsmodels.graphics.tsaplots import plot_acf\n",
    "from sklearn.model_selection import TimeSeriesSplit, cross_val_score, GridSearchCV\n",
    "from sklearn.metrics import r2_score, mean_squared_error\n",
    "from lightgbm import LGBMRegressor"
   ]
  },
  {
   "cell_type": "code",
   "execution_count": 2,
   "metadata": {},
   "outputs": [],
   "source": [
    "#Загрузка данных\n",
    "pth1 = 'taxi.csv'\n",
    "pth2 = '/datasets/taxi.csv'\n",
    "\n",
    "if os.path.exists(pth1):\n",
    "    df = pd.read_csv(pth1, index_col=[0], parse_dates=[0])\n",
    "elif os.path.exists(pth2):\n",
    "    df = pd.read_csv(pth2, index_col=[0], parse_dates=[0])\n",
    "else:\n",
    "    print('Something is wrong')"
   ]
  },
  {
   "cell_type": "markdown",
   "metadata": {},
   "source": [
    "## Анализ и подготовка данных"
   ]
  },
  {
   "cell_type": "markdown",
   "metadata": {},
   "source": [
    "### Общая информация"
   ]
  },
  {
   "cell_type": "code",
   "execution_count": 3,
   "metadata": {},
   "outputs": [
    {
     "name": "stdout",
     "output_type": "stream",
     "text": [
      "<class 'pandas.core.frame.DataFrame'>\n",
      "DatetimeIndex: 26496 entries, 2018-03-01 00:00:00 to 2018-08-31 23:50:00\n",
      "Data columns (total 1 columns):\n",
      " #   Column      Non-Null Count  Dtype\n",
      "---  ------      --------------  -----\n",
      " 0   num_orders  26496 non-null  int64\n",
      "dtypes: int64(1)\n",
      "memory usage: 414.0 KB\n"
     ]
    },
    {
     "data": {
      "text/html": [
       "<div>\n",
       "<style scoped>\n",
       "    .dataframe tbody tr th:only-of-type {\n",
       "        vertical-align: middle;\n",
       "    }\n",
       "\n",
       "    .dataframe tbody tr th {\n",
       "        vertical-align: top;\n",
       "    }\n",
       "\n",
       "    .dataframe thead th {\n",
       "        text-align: right;\n",
       "    }\n",
       "</style>\n",
       "<table border=\"1\" class=\"dataframe\">\n",
       "  <thead>\n",
       "    <tr style=\"text-align: right;\">\n",
       "      <th></th>\n",
       "      <th>num_orders</th>\n",
       "    </tr>\n",
       "    <tr>\n",
       "      <th>datetime</th>\n",
       "      <th></th>\n",
       "    </tr>\n",
       "  </thead>\n",
       "  <tbody>\n",
       "    <tr>\n",
       "      <th>2018-03-01 00:00:00</th>\n",
       "      <td>9</td>\n",
       "    </tr>\n",
       "    <tr>\n",
       "      <th>2018-03-01 00:10:00</th>\n",
       "      <td>14</td>\n",
       "    </tr>\n",
       "    <tr>\n",
       "      <th>2018-03-01 00:20:00</th>\n",
       "      <td>28</td>\n",
       "    </tr>\n",
       "    <tr>\n",
       "      <th>2018-03-01 00:30:00</th>\n",
       "      <td>20</td>\n",
       "    </tr>\n",
       "    <tr>\n",
       "      <th>2018-03-01 00:40:00</th>\n",
       "      <td>32</td>\n",
       "    </tr>\n",
       "  </tbody>\n",
       "</table>\n",
       "</div>"
      ],
      "text/plain": [
       "                     num_orders\n",
       "datetime                       \n",
       "2018-03-01 00:00:00           9\n",
       "2018-03-01 00:10:00          14\n",
       "2018-03-01 00:20:00          28\n",
       "2018-03-01 00:30:00          20\n",
       "2018-03-01 00:40:00          32"
      ]
     },
     "metadata": {},
     "output_type": "display_data"
    }
   ],
   "source": [
    "df.info()\n",
    "display(df.head())"
   ]
  },
  {
   "cell_type": "code",
   "execution_count": 4,
   "metadata": {
    "scrolled": true
   },
   "outputs": [
    {
     "data": {
      "text/html": [
       "<div>\n",
       "<style scoped>\n",
       "    .dataframe tbody tr th:only-of-type {\n",
       "        vertical-align: middle;\n",
       "    }\n",
       "\n",
       "    .dataframe tbody tr th {\n",
       "        vertical-align: top;\n",
       "    }\n",
       "\n",
       "    .dataframe thead th {\n",
       "        text-align: right;\n",
       "    }\n",
       "</style>\n",
       "<table border=\"1\" class=\"dataframe\">\n",
       "  <thead>\n",
       "    <tr style=\"text-align: right;\">\n",
       "      <th></th>\n",
       "      <th>count</th>\n",
       "      <th>mean</th>\n",
       "      <th>std</th>\n",
       "      <th>min</th>\n",
       "      <th>25%</th>\n",
       "      <th>50%</th>\n",
       "      <th>75%</th>\n",
       "      <th>max</th>\n",
       "    </tr>\n",
       "  </thead>\n",
       "  <tbody>\n",
       "    <tr>\n",
       "      <th>num_orders</th>\n",
       "      <td>26496.0</td>\n",
       "      <td>14.070463</td>\n",
       "      <td>9.21133</td>\n",
       "      <td>0.0</td>\n",
       "      <td>8.0</td>\n",
       "      <td>13.0</td>\n",
       "      <td>19.0</td>\n",
       "      <td>119.0</td>\n",
       "    </tr>\n",
       "  </tbody>\n",
       "</table>\n",
       "</div>"
      ],
      "text/plain": [
       "              count       mean      std  min  25%   50%   75%    max\n",
       "num_orders  26496.0  14.070463  9.21133  0.0  8.0  13.0  19.0  119.0"
      ]
     },
     "execution_count": 4,
     "metadata": {},
     "output_type": "execute_result"
    }
   ],
   "source": [
    "# Статистики данных (число заказов)\n",
    "df.describe(include='all').T"
   ]
  },
  {
   "cell_type": "markdown",
   "metadata": {},
   "source": [
    "**Выводы:**\n",
    "\n",
    "1. Явных пропусков данных нет.\n",
    "2. Максимальное значение числа заказов значительно превышает среднее значение, но судя по распределению таких выдающихся часов очень мало."
   ]
  },
  {
   "cell_type": "markdown",
   "metadata": {},
   "source": [
    "### Анализ данных"
   ]
  },
  {
   "cell_type": "code",
   "execution_count": 5,
   "metadata": {},
   "outputs": [
    {
     "data": {
      "text/html": [
       "<div>\n",
       "<style scoped>\n",
       "    .dataframe tbody tr th:only-of-type {\n",
       "        vertical-align: middle;\n",
       "    }\n",
       "\n",
       "    .dataframe tbody tr th {\n",
       "        vertical-align: top;\n",
       "    }\n",
       "\n",
       "    .dataframe thead th {\n",
       "        text-align: right;\n",
       "    }\n",
       "</style>\n",
       "<table border=\"1\" class=\"dataframe\">\n",
       "  <thead>\n",
       "    <tr style=\"text-align: right;\">\n",
       "      <th></th>\n",
       "      <th>num_orders</th>\n",
       "    </tr>\n",
       "    <tr>\n",
       "      <th>datetime</th>\n",
       "      <th></th>\n",
       "    </tr>\n",
       "  </thead>\n",
       "  <tbody>\n",
       "    <tr>\n",
       "      <th>2018-03-01 00:00:00</th>\n",
       "      <td>124</td>\n",
       "    </tr>\n",
       "    <tr>\n",
       "      <th>2018-03-01 01:00:00</th>\n",
       "      <td>85</td>\n",
       "    </tr>\n",
       "    <tr>\n",
       "      <th>2018-03-01 02:00:00</th>\n",
       "      <td>71</td>\n",
       "    </tr>\n",
       "    <tr>\n",
       "      <th>2018-03-01 03:00:00</th>\n",
       "      <td>66</td>\n",
       "    </tr>\n",
       "    <tr>\n",
       "      <th>2018-03-01 04:00:00</th>\n",
       "      <td>43</td>\n",
       "    </tr>\n",
       "    <tr>\n",
       "      <th>...</th>\n",
       "      <td>...</td>\n",
       "    </tr>\n",
       "    <tr>\n",
       "      <th>2018-08-31 19:00:00</th>\n",
       "      <td>136</td>\n",
       "    </tr>\n",
       "    <tr>\n",
       "      <th>2018-08-31 20:00:00</th>\n",
       "      <td>154</td>\n",
       "    </tr>\n",
       "    <tr>\n",
       "      <th>2018-08-31 21:00:00</th>\n",
       "      <td>159</td>\n",
       "    </tr>\n",
       "    <tr>\n",
       "      <th>2018-08-31 22:00:00</th>\n",
       "      <td>223</td>\n",
       "    </tr>\n",
       "    <tr>\n",
       "      <th>2018-08-31 23:00:00</th>\n",
       "      <td>205</td>\n",
       "    </tr>\n",
       "  </tbody>\n",
       "</table>\n",
       "<p>4416 rows × 1 columns</p>\n",
       "</div>"
      ],
      "text/plain": [
       "                     num_orders\n",
       "datetime                       \n",
       "2018-03-01 00:00:00         124\n",
       "2018-03-01 01:00:00          85\n",
       "2018-03-01 02:00:00          71\n",
       "2018-03-01 03:00:00          66\n",
       "2018-03-01 04:00:00          43\n",
       "...                         ...\n",
       "2018-08-31 19:00:00         136\n",
       "2018-08-31 20:00:00         154\n",
       "2018-08-31 21:00:00         159\n",
       "2018-08-31 22:00:00         223\n",
       "2018-08-31 23:00:00         205\n",
       "\n",
       "[4416 rows x 1 columns]"
      ]
     },
     "execution_count": 5,
     "metadata": {},
     "output_type": "execute_result"
    }
   ],
   "source": [
    "# Сортировка данных по индексу\n",
    "df.sort_index(inplace=True)\n",
    "# Ресемплирование данных по 1 часу\n",
    "df = df.resample('1H').sum()\n",
    "df"
   ]
  },
  {
   "cell_type": "code",
   "execution_count": 6,
   "metadata": {
    "scrolled": false
   },
   "outputs": [
    {
     "data": {
      "image/png": "[encoded data removed]",
      "text/plain": [
       "<Figure size 1296x576 with 1 Axes>"
      ]
     },
     "metadata": {
      "needs_background": "light"
     },
     "output_type": "display_data"
    }
   ],
   "source": [
    "# График числа заказов и среднее за неделю\n",
    "plt.figure(figsize = (18,8))\n",
    " \n",
    "plt.plot(df, label = 'Количество заказов такси', color = 'steelblue')\n",
    "plt.plot(df.rolling(window = 7*24).mean(), label = 'Скользящее среднее за 1 неделю', color = 'orange')\n",
    " \n",
    "plt.legend(title = '', loc = 'upper left', fontsize = 14)\n",
    " \n",
    "plt.xlabel('Месяцы', fontsize = 14)\n",
    "plt.ylabel('Количество заказов такси в день, ед.', fontsize = 14)\n",
    "plt.title('Количество заказов такси в час', fontsize = 16)\n",
    " \n",
    "plt.show()"
   ]
  },
  {
   "cell_type": "markdown",
   "metadata": {},
   "source": [
    "**Выводы:**\n",
    "\n",
    "1. Наблюдается наличие тренда, количество заказов со временем растет, для оценки тренда необходимо провести тест Дики-Фуллера, в случае если гипотеза о наличии тренда не подтвердится, то будем считать, что наблюдаемый тренд не является сильно выраженным и не должен исказить результаты предсказания.\n",
    "2. Также заметны дни с экстримальным количеством заказов, удалять данные значения не будем, так как они не являются ошибками. В случае если качество предсказания будет неудовлетворительным, то вероятно будет необходимо отфильтровать данные."
   ]
  },
  {
   "cell_type": "code",
   "execution_count": 7,
   "metadata": {
    "scrolled": false
   },
   "outputs": [
    {
     "data": {
      "image/png": "[encoded data removed]",
      "text/plain": [
       "<Figure size 432x288 with 1 Axes>"
      ]
     },
     "metadata": {
      "needs_background": "light"
     },
     "output_type": "display_data"
    }
   ],
   "source": [
    "# Гистограмма распределения числа заказов\n",
    "df['num_orders'].hist(bins=24)\n",
    "plt.xlabel('Количество, ед', fontsize = 10)\n",
    "plt.ylabel('Количество заказов такси в час, ед.', fontsize = 10)\n",
    "plt.title('Распределение количества заказов такси в день', fontsize = 12)\n",
    "\n",
    "plt.show()"
   ]
  },
  {
   "cell_type": "markdown",
   "metadata": {},
   "source": [
    "**Выводы:**\n",
    "\n",
    "1. Распределение количества заказов похоже на распределение Пуассона."
   ]
  },
  {
   "cell_type": "markdown",
   "metadata": {},
   "source": [
    "#### Разделение ряда на составляющие (тренд, сезонность и шум)"
   ]
  },
  {
   "cell_type": "code",
   "execution_count": 8,
   "metadata": {
    "scrolled": false
   },
   "outputs": [
    {
     "data": {
      "image/png": "[encoded data removed]",
      "text/plain": [
       "<Figure size 792x576 with 4 Axes>"
      ]
     },
     "metadata": {
      "needs_background": "light"
     },
     "output_type": "display_data"
    }
   ],
   "source": [
    "# Декомпозиция данных на составляющие (тренд, сезонность и шум)\n",
    "rcParams['figure.figsize'] = 11, 8\n",
    "decompose = seasonal_decompose(df)\n",
    "decompose.plot()\n",
    " \n",
    "plt.show()"
   ]
  },
  {
   "cell_type": "markdown",
   "metadata": {},
   "source": [
    "**Выводы:**\n",
    "\n",
    "1. Наблюдается наличие тренда, но не ярко выраженного.\n",
    "2. Наблюдается сезонность в данных, что логично, прос на данную услугу зависит как от времени, так и от дня недели.\n",
    "3. Шум в данных распределен равномерно без ярко выреженных экстримальных значений, только в конце временного ряда диапазон расширяется и появляются экстримальные значения."
   ]
  },
  {
   "cell_type": "markdown",
   "metadata": {},
   "source": [
    "##### Данные 10 по 15 августа"
   ]
  },
  {
   "cell_type": "code",
   "execution_count": 9,
   "metadata": {
    "scrolled": false
   },
   "outputs": [
    {
     "data": {
      "image/png": "[encoded data removed]",
      "text/plain": [
       "<Figure size 792x576 with 4 Axes>"
      ]
     },
     "metadata": {
      "needs_background": "light"
     },
     "output_type": "display_data"
    }
   ],
   "source": [
    "# Декомпозиция данных на составляющие (тренд, сезонность и шум)\n",
    "rcParams['figure.figsize'] = 11, 8\n",
    "df_period = df['2018-08-10 00:00:00':'2018-08-15 23:00:00']\n",
    "decompose = seasonal_decompose(df_period)\n",
    "decompose.plot()\n",
    " \n",
    "plt.show()"
   ]
  },
  {
   "cell_type": "markdown",
   "metadata": {},
   "source": [
    "**Выводы:**\n",
    "\n",
    "1. В данных за вторую неделю августа нет тренда, небольшое возмущение вносит повышение количества заказов 13 августа\n",
    "2. Наблюдается суточная сезонность в данных. Число заказов меняется от времени суток, утром минимальное, в обед выходит на плато, вечером количество заказов начинает расти, затем падает."
   ]
  },
  {
   "cell_type": "markdown",
   "metadata": {},
   "source": [
    "#### Тест Дики-Фуллера на стационарность ряда"
   ]
  },
  {
   "cell_type": "markdown",
   "metadata": {},
   "source": [
    "Проведем тест Дики-Фуллера для оценки стационарности ряда."
   ]
  },
  {
   "cell_type": "code",
   "execution_count": 10,
   "metadata": {
    "scrolled": true
   },
   "outputs": [
    {
     "name": "stdout",
     "output_type": "stream",
     "text": [
      "Критерий ADF: -3.068924\n",
      "P-значение: 0.028940\n",
      "Критические значения:\n",
      "\t1%: -3.432\n",
      "Нулевая гипотеза отвергнута – Временной ряд стационарен\n",
      "\t5%: -2.862\n",
      "Нулевая гипотеза отвергнута – Временной ряд стационарен\n",
      "\t10%: -2.567\n",
      "Нулевая гипотеза отвергнута – Временной ряд стационарен\n"
     ]
    }
   ],
   "source": [
    "# Тест на Дики-Фуллера на стационарность ряда, проверка при различном уровне значимости.\n",
    "result = adfuller(df['num_orders'], autolag='AIC')\n",
    "\n",
    "print('Критерий ADF: %f' % result[0])\n",
    "\n",
    "print('P-значение: %f' % result[1])\n",
    "\n",
    "print('Критические значения:')\n",
    "\n",
    "for key, value in result[4].items():\n",
    "    print('\\t%s: %.3f' % (key, value))\n",
    "    if result[0] < result[4][\"5%\"]:\n",
    "        print (\"Нулевая гипотеза отвергнута – Временной ряд стационарен\")\n",
    "    else:\n",
    "        print (\"Нулевая гипотеза не отвергнута – Временной ряд не стационарен\")"
   ]
  },
  {
   "cell_type": "markdown",
   "metadata": {},
   "source": [
    "**Выводы:**\n",
    "\n",
    "1. Считаем ряд стационарным."
   ]
  },
  {
   "cell_type": "markdown",
   "metadata": {},
   "source": [
    "#### Автокорреляция"
   ]
  },
  {
   "cell_type": "code",
   "execution_count": 11,
   "metadata": {
    "scrolled": false
   },
   "outputs": [
    {
     "data": {
      "image/png": "[encoded data removed]",
      "text/plain": [
       "<Figure size 792x576 with 1 Axes>"
      ]
     },
     "metadata": {
      "needs_background": "light"
     },
     "output_type": "display_data"
    }
   ],
   "source": [
    "# Расчет автокорелляция и построение графика найденных значений\n",
    "plot_acf(df)\n",
    "plt.show()"
   ]
  },
  {
   "cell_type": "markdown",
   "metadata": {},
   "source": [
    "**Выводы:**\n",
    "\n",
    "1. Ряд имеет статистически значимую автокорелляцию (точки расположены выше синей области).\n",
    "2. Наблюдается средняя прямая автокорреляция данных с лагом 1, 2 и 23, 24, 26, 27 и сильная - 25. Данные лаги необходимо учесть при моделировании."
   ]
  },
  {
   "cell_type": "markdown",
   "metadata": {},
   "source": [
    "### Выводы по разделу:"
   ]
  },
  {
   "cell_type": "markdown",
   "metadata": {},
   "source": [
    "1. Рассматриваемый временной ряд является стационарным - проверено тестом Дики-Фуллера. Ряд характеризуется суточной сезонностью.\n",
    "2. Определены временные лаги имеющие наибольшую корреляцию с исходным рядом.\n",
    "3. Данные ряда подходят для обучения модели прогнозирования."
   ]
  },
  {
   "cell_type": "markdown",
   "metadata": {},
   "source": [
    "## Подготовка признаков"
   ]
  },
  {
   "cell_type": "code",
   "execution_count": 12,
   "metadata": {},
   "outputs": [],
   "source": [
    "# Функция извлечения признаков из исходного ряда и их добавление в датавфрейм.\n",
    "def make_features(df, max_lag, rolling_mean_size):\n",
    "    df_n = df.copy()\n",
    "    df_n['month'] = df_n.index.month\n",
    "    df_n['day'] = df_n.index.day\n",
    "    df_n['dayofweek'] = df_n.index.dayofweek\n",
    "    \n",
    "    for lag in range(1, max_lag + 1):\n",
    "        df_n['lag_{}'.format(lag)] = df_n['num_orders'].shift(lag)\n",
    "\n",
    "    df_n['rolling_mean'] = df_n['num_orders'].shift().rolling(rolling_mean_size).mean()\n",
    "    return df_n"
   ]
  },
  {
   "cell_type": "code",
   "execution_count": 13,
   "metadata": {
    "scrolled": false
   },
   "outputs": [
    {
     "data": {
      "text/html": [
       "<div>\n",
       "<style scoped>\n",
       "    .dataframe tbody tr th:only-of-type {\n",
       "        vertical-align: middle;\n",
       "    }\n",
       "\n",
       "    .dataframe tbody tr th {\n",
       "        vertical-align: top;\n",
       "    }\n",
       "\n",
       "    .dataframe thead th {\n",
       "        text-align: right;\n",
       "    }\n",
       "</style>\n",
       "<table border=\"1\" class=\"dataframe\">\n",
       "  <thead>\n",
       "    <tr style=\"text-align: right;\">\n",
       "      <th></th>\n",
       "      <th>num_orders</th>\n",
       "      <th>month</th>\n",
       "      <th>day</th>\n",
       "      <th>dayofweek</th>\n",
       "      <th>lag_1</th>\n",
       "      <th>lag_2</th>\n",
       "      <th>lag_3</th>\n",
       "      <th>lag_4</th>\n",
       "      <th>lag_5</th>\n",
       "      <th>lag_6</th>\n",
       "      <th>...</th>\n",
       "      <th>lag_19</th>\n",
       "      <th>lag_20</th>\n",
       "      <th>lag_21</th>\n",
       "      <th>lag_22</th>\n",
       "      <th>lag_23</th>\n",
       "      <th>lag_24</th>\n",
       "      <th>lag_25</th>\n",
       "      <th>lag_26</th>\n",
       "      <th>lag_27</th>\n",
       "      <th>rolling_mean</th>\n",
       "    </tr>\n",
       "    <tr>\n",
       "      <th>datetime</th>\n",
       "      <th></th>\n",
       "      <th></th>\n",
       "      <th></th>\n",
       "      <th></th>\n",
       "      <th></th>\n",
       "      <th></th>\n",
       "      <th></th>\n",
       "      <th></th>\n",
       "      <th></th>\n",
       "      <th></th>\n",
       "      <th></th>\n",
       "      <th></th>\n",
       "      <th></th>\n",
       "      <th></th>\n",
       "      <th></th>\n",
       "      <th></th>\n",
       "      <th></th>\n",
       "      <th></th>\n",
       "      <th></th>\n",
       "      <th></th>\n",
       "      <th></th>\n",
       "    </tr>\n",
       "  </thead>\n",
       "  <tbody>\n",
       "    <tr>\n",
       "      <th>2018-03-01 00:00:00</th>\n",
       "      <td>124</td>\n",
       "      <td>3</td>\n",
       "      <td>1</td>\n",
       "      <td>3</td>\n",
       "      <td>NaN</td>\n",
       "      <td>NaN</td>\n",
       "      <td>NaN</td>\n",
       "      <td>NaN</td>\n",
       "      <td>NaN</td>\n",
       "      <td>NaN</td>\n",
       "      <td>...</td>\n",
       "      <td>NaN</td>\n",
       "      <td>NaN</td>\n",
       "      <td>NaN</td>\n",
       "      <td>NaN</td>\n",
       "      <td>NaN</td>\n",
       "      <td>NaN</td>\n",
       "      <td>NaN</td>\n",
       "      <td>NaN</td>\n",
       "      <td>NaN</td>\n",
       "      <td>NaN</td>\n",
       "    </tr>\n",
       "    <tr>\n",
       "      <th>2018-03-01 01:00:00</th>\n",
       "      <td>85</td>\n",
       "      <td>3</td>\n",
       "      <td>1</td>\n",
       "      <td>3</td>\n",
       "      <td>124.0</td>\n",
       "      <td>NaN</td>\n",
       "      <td>NaN</td>\n",
       "      <td>NaN</td>\n",
       "      <td>NaN</td>\n",
       "      <td>NaN</td>\n",
       "      <td>...</td>\n",
       "      <td>NaN</td>\n",
       "      <td>NaN</td>\n",
       "      <td>NaN</td>\n",
       "      <td>NaN</td>\n",
       "      <td>NaN</td>\n",
       "      <td>NaN</td>\n",
       "      <td>NaN</td>\n",
       "      <td>NaN</td>\n",
       "      <td>NaN</td>\n",
       "      <td>NaN</td>\n",
       "    </tr>\n",
       "    <tr>\n",
       "      <th>2018-03-01 02:00:00</th>\n",
       "      <td>71</td>\n",
       "      <td>3</td>\n",
       "      <td>1</td>\n",
       "      <td>3</td>\n",
       "      <td>85.0</td>\n",
       "      <td>124.0</td>\n",
       "      <td>NaN</td>\n",
       "      <td>NaN</td>\n",
       "      <td>NaN</td>\n",
       "      <td>NaN</td>\n",
       "      <td>...</td>\n",
       "      <td>NaN</td>\n",
       "      <td>NaN</td>\n",
       "      <td>NaN</td>\n",
       "      <td>NaN</td>\n",
       "      <td>NaN</td>\n",
       "      <td>NaN</td>\n",
       "      <td>NaN</td>\n",
       "      <td>NaN</td>\n",
       "      <td>NaN</td>\n",
       "      <td>NaN</td>\n",
       "    </tr>\n",
       "    <tr>\n",
       "      <th>2018-03-01 03:00:00</th>\n",
       "      <td>66</td>\n",
       "      <td>3</td>\n",
       "      <td>1</td>\n",
       "      <td>3</td>\n",
       "      <td>71.0</td>\n",
       "      <td>85.0</td>\n",
       "      <td>124.0</td>\n",
       "      <td>NaN</td>\n",
       "      <td>NaN</td>\n",
       "      <td>NaN</td>\n",
       "      <td>...</td>\n",
       "      <td>NaN</td>\n",
       "      <td>NaN</td>\n",
       "      <td>NaN</td>\n",
       "      <td>NaN</td>\n",
       "      <td>NaN</td>\n",
       "      <td>NaN</td>\n",
       "      <td>NaN</td>\n",
       "      <td>NaN</td>\n",
       "      <td>NaN</td>\n",
       "      <td>NaN</td>\n",
       "    </tr>\n",
       "    <tr>\n",
       "      <th>2018-03-01 04:00:00</th>\n",
       "      <td>43</td>\n",
       "      <td>3</td>\n",
       "      <td>1</td>\n",
       "      <td>3</td>\n",
       "      <td>66.0</td>\n",
       "      <td>71.0</td>\n",
       "      <td>85.0</td>\n",
       "      <td>124.0</td>\n",
       "      <td>NaN</td>\n",
       "      <td>NaN</td>\n",
       "      <td>...</td>\n",
       "      <td>NaN</td>\n",
       "      <td>NaN</td>\n",
       "      <td>NaN</td>\n",
       "      <td>NaN</td>\n",
       "      <td>NaN</td>\n",
       "      <td>NaN</td>\n",
       "      <td>NaN</td>\n",
       "      <td>NaN</td>\n",
       "      <td>NaN</td>\n",
       "      <td>NaN</td>\n",
       "    </tr>\n",
       "    <tr>\n",
       "      <th>2018-03-01 05:00:00</th>\n",
       "      <td>6</td>\n",
       "      <td>3</td>\n",
       "      <td>1</td>\n",
       "      <td>3</td>\n",
       "      <td>43.0</td>\n",
       "      <td>66.0</td>\n",
       "      <td>71.0</td>\n",
       "      <td>85.0</td>\n",
       "      <td>124.0</td>\n",
       "      <td>NaN</td>\n",
       "      <td>...</td>\n",
       "      <td>NaN</td>\n",
       "      <td>NaN</td>\n",
       "      <td>NaN</td>\n",
       "      <td>NaN</td>\n",
       "      <td>NaN</td>\n",
       "      <td>NaN</td>\n",
       "      <td>NaN</td>\n",
       "      <td>NaN</td>\n",
       "      <td>NaN</td>\n",
       "      <td>NaN</td>\n",
       "    </tr>\n",
       "    <tr>\n",
       "      <th>2018-03-01 06:00:00</th>\n",
       "      <td>12</td>\n",
       "      <td>3</td>\n",
       "      <td>1</td>\n",
       "      <td>3</td>\n",
       "      <td>6.0</td>\n",
       "      <td>43.0</td>\n",
       "      <td>66.0</td>\n",
       "      <td>71.0</td>\n",
       "      <td>85.0</td>\n",
       "      <td>124.0</td>\n",
       "      <td>...</td>\n",
       "      <td>NaN</td>\n",
       "      <td>NaN</td>\n",
       "      <td>NaN</td>\n",
       "      <td>NaN</td>\n",
       "      <td>NaN</td>\n",
       "      <td>NaN</td>\n",
       "      <td>NaN</td>\n",
       "      <td>NaN</td>\n",
       "      <td>NaN</td>\n",
       "      <td>NaN</td>\n",
       "    </tr>\n",
       "    <tr>\n",
       "      <th>2018-03-01 07:00:00</th>\n",
       "      <td>15</td>\n",
       "      <td>3</td>\n",
       "      <td>1</td>\n",
       "      <td>3</td>\n",
       "      <td>12.0</td>\n",
       "      <td>6.0</td>\n",
       "      <td>43.0</td>\n",
       "      <td>66.0</td>\n",
       "      <td>71.0</td>\n",
       "      <td>85.0</td>\n",
       "      <td>...</td>\n",
       "      <td>NaN</td>\n",
       "      <td>NaN</td>\n",
       "      <td>NaN</td>\n",
       "      <td>NaN</td>\n",
       "      <td>NaN</td>\n",
       "      <td>NaN</td>\n",
       "      <td>NaN</td>\n",
       "      <td>NaN</td>\n",
       "      <td>NaN</td>\n",
       "      <td>NaN</td>\n",
       "    </tr>\n",
       "    <tr>\n",
       "      <th>2018-03-01 08:00:00</th>\n",
       "      <td>34</td>\n",
       "      <td>3</td>\n",
       "      <td>1</td>\n",
       "      <td>3</td>\n",
       "      <td>15.0</td>\n",
       "      <td>12.0</td>\n",
       "      <td>6.0</td>\n",
       "      <td>43.0</td>\n",
       "      <td>66.0</td>\n",
       "      <td>71.0</td>\n",
       "      <td>...</td>\n",
       "      <td>NaN</td>\n",
       "      <td>NaN</td>\n",
       "      <td>NaN</td>\n",
       "      <td>NaN</td>\n",
       "      <td>NaN</td>\n",
       "      <td>NaN</td>\n",
       "      <td>NaN</td>\n",
       "      <td>NaN</td>\n",
       "      <td>NaN</td>\n",
       "      <td>NaN</td>\n",
       "    </tr>\n",
       "    <tr>\n",
       "      <th>2018-03-01 09:00:00</th>\n",
       "      <td>69</td>\n",
       "      <td>3</td>\n",
       "      <td>1</td>\n",
       "      <td>3</td>\n",
       "      <td>34.0</td>\n",
       "      <td>15.0</td>\n",
       "      <td>12.0</td>\n",
       "      <td>6.0</td>\n",
       "      <td>43.0</td>\n",
       "      <td>66.0</td>\n",
       "      <td>...</td>\n",
       "      <td>NaN</td>\n",
       "      <td>NaN</td>\n",
       "      <td>NaN</td>\n",
       "      <td>NaN</td>\n",
       "      <td>NaN</td>\n",
       "      <td>NaN</td>\n",
       "      <td>NaN</td>\n",
       "      <td>NaN</td>\n",
       "      <td>NaN</td>\n",
       "      <td>NaN</td>\n",
       "    </tr>\n",
       "    <tr>\n",
       "      <th>2018-03-01 10:00:00</th>\n",
       "      <td>64</td>\n",
       "      <td>3</td>\n",
       "      <td>1</td>\n",
       "      <td>3</td>\n",
       "      <td>69.0</td>\n",
       "      <td>34.0</td>\n",
       "      <td>15.0</td>\n",
       "      <td>12.0</td>\n",
       "      <td>6.0</td>\n",
       "      <td>43.0</td>\n",
       "      <td>...</td>\n",
       "      <td>NaN</td>\n",
       "      <td>NaN</td>\n",
       "      <td>NaN</td>\n",
       "      <td>NaN</td>\n",
       "      <td>NaN</td>\n",
       "      <td>NaN</td>\n",
       "      <td>NaN</td>\n",
       "      <td>NaN</td>\n",
       "      <td>NaN</td>\n",
       "      <td>NaN</td>\n",
       "    </tr>\n",
       "    <tr>\n",
       "      <th>2018-03-01 11:00:00</th>\n",
       "      <td>96</td>\n",
       "      <td>3</td>\n",
       "      <td>1</td>\n",
       "      <td>3</td>\n",
       "      <td>64.0</td>\n",
       "      <td>69.0</td>\n",
       "      <td>34.0</td>\n",
       "      <td>15.0</td>\n",
       "      <td>12.0</td>\n",
       "      <td>6.0</td>\n",
       "      <td>...</td>\n",
       "      <td>NaN</td>\n",
       "      <td>NaN</td>\n",
       "      <td>NaN</td>\n",
       "      <td>NaN</td>\n",
       "      <td>NaN</td>\n",
       "      <td>NaN</td>\n",
       "      <td>NaN</td>\n",
       "      <td>NaN</td>\n",
       "      <td>NaN</td>\n",
       "      <td>NaN</td>\n",
       "    </tr>\n",
       "    <tr>\n",
       "      <th>2018-03-01 12:00:00</th>\n",
       "      <td>30</td>\n",
       "      <td>3</td>\n",
       "      <td>1</td>\n",
       "      <td>3</td>\n",
       "      <td>96.0</td>\n",
       "      <td>64.0</td>\n",
       "      <td>69.0</td>\n",
       "      <td>34.0</td>\n",
       "      <td>15.0</td>\n",
       "      <td>12.0</td>\n",
       "      <td>...</td>\n",
       "      <td>NaN</td>\n",
       "      <td>NaN</td>\n",
       "      <td>NaN</td>\n",
       "      <td>NaN</td>\n",
       "      <td>NaN</td>\n",
       "      <td>NaN</td>\n",
       "      <td>NaN</td>\n",
       "      <td>NaN</td>\n",
       "      <td>NaN</td>\n",
       "      <td>NaN</td>\n",
       "    </tr>\n",
       "    <tr>\n",
       "      <th>2018-03-01 13:00:00</th>\n",
       "      <td>32</td>\n",
       "      <td>3</td>\n",
       "      <td>1</td>\n",
       "      <td>3</td>\n",
       "      <td>30.0</td>\n",
       "      <td>96.0</td>\n",
       "      <td>64.0</td>\n",
       "      <td>69.0</td>\n",
       "      <td>34.0</td>\n",
       "      <td>15.0</td>\n",
       "      <td>...</td>\n",
       "      <td>NaN</td>\n",
       "      <td>NaN</td>\n",
       "      <td>NaN</td>\n",
       "      <td>NaN</td>\n",
       "      <td>NaN</td>\n",
       "      <td>NaN</td>\n",
       "      <td>NaN</td>\n",
       "      <td>NaN</td>\n",
       "      <td>NaN</td>\n",
       "      <td>NaN</td>\n",
       "    </tr>\n",
       "    <tr>\n",
       "      <th>2018-03-01 14:00:00</th>\n",
       "      <td>48</td>\n",
       "      <td>3</td>\n",
       "      <td>1</td>\n",
       "      <td>3</td>\n",
       "      <td>32.0</td>\n",
       "      <td>30.0</td>\n",
       "      <td>96.0</td>\n",
       "      <td>64.0</td>\n",
       "      <td>69.0</td>\n",
       "      <td>34.0</td>\n",
       "      <td>...</td>\n",
       "      <td>NaN</td>\n",
       "      <td>NaN</td>\n",
       "      <td>NaN</td>\n",
       "      <td>NaN</td>\n",
       "      <td>NaN</td>\n",
       "      <td>NaN</td>\n",
       "      <td>NaN</td>\n",
       "      <td>NaN</td>\n",
       "      <td>NaN</td>\n",
       "      <td>53.357143</td>\n",
       "    </tr>\n",
       "  </tbody>\n",
       "</table>\n",
       "<p>15 rows × 32 columns</p>\n",
       "</div>"
      ],
      "text/plain": [
       "                     num_orders  month  day  dayofweek  lag_1  lag_2  lag_3  \\\n",
       "datetime                                                                      \n",
       "2018-03-01 00:00:00         124      3    1          3    NaN    NaN    NaN   \n",
       "2018-03-01 01:00:00          85      3    1          3  124.0    NaN    NaN   \n",
       "2018-03-01 02:00:00          71      3    1          3   85.0  124.0    NaN   \n",
       "2018-03-01 03:00:00          66      3    1          3   71.0   85.0  124.0   \n",
       "2018-03-01 04:00:00          43      3    1          3   66.0   71.0   85.0   \n",
       "2018-03-01 05:00:00           6      3    1          3   43.0   66.0   71.0   \n",
       "2018-03-01 06:00:00          12      3    1          3    6.0   43.0   66.0   \n",
       "2018-03-01 07:00:00          15      3    1          3   12.0    6.0   43.0   \n",
       "2018-03-01 08:00:00          34      3    1          3   15.0   12.0    6.0   \n",
       "2018-03-01 09:00:00          69      3    1          3   34.0   15.0   12.0   \n",
       "2018-03-01 10:00:00          64      3    1          3   69.0   34.0   15.0   \n",
       "2018-03-01 11:00:00          96      3    1          3   64.0   69.0   34.0   \n",
       "2018-03-01 12:00:00          30      3    1          3   96.0   64.0   69.0   \n",
       "2018-03-01 13:00:00          32      3    1          3   30.0   96.0   64.0   \n",
       "2018-03-01 14:00:00          48      3    1          3   32.0   30.0   96.0   \n",
       "\n",
       "                     lag_4  lag_5  lag_6  ...  lag_19  lag_20  lag_21  lag_22  \\\n",
       "datetime                                  ...                                   \n",
       "2018-03-01 00:00:00    NaN    NaN    NaN  ...     NaN     NaN     NaN     NaN   \n",
       "2018-03-01 01:00:00    NaN    NaN    NaN  ...     NaN     NaN     NaN     NaN   \n",
       "2018-03-01 02:00:00    NaN    NaN    NaN  ...     NaN     NaN     NaN     NaN   \n",
       "2018-03-01 03:00:00    NaN    NaN    NaN  ...     NaN     NaN     NaN     NaN   \n",
       "2018-03-01 04:00:00  124.0    NaN    NaN  ...     NaN     NaN     NaN     NaN   \n",
       "2018-03-01 05:00:00   85.0  124.0    NaN  ...     NaN     NaN     NaN     NaN   \n",
       "2018-03-01 06:00:00   71.0   85.0  124.0  ...     NaN     NaN     NaN     NaN   \n",
       "2018-03-01 07:00:00   66.0   71.0   85.0  ...     NaN     NaN     NaN     NaN   \n",
       "2018-03-01 08:00:00   43.0   66.0   71.0  ...     NaN     NaN     NaN     NaN   \n",
       "2018-03-01 09:00:00    6.0   43.0   66.0  ...     NaN     NaN     NaN     NaN   \n",
       "2018-03-01 10:00:00   12.0    6.0   43.0  ...     NaN     NaN     NaN     NaN   \n",
       "2018-03-01 11:00:00   15.0   12.0    6.0  ...     NaN     NaN     NaN     NaN   \n",
       "2018-03-01 12:00:00   34.0   15.0   12.0  ...     NaN     NaN     NaN     NaN   \n",
       "2018-03-01 13:00:00   69.0   34.0   15.0  ...     NaN     NaN     NaN     NaN   \n",
       "2018-03-01 14:00:00   64.0   69.0   34.0  ...     NaN     NaN     NaN     NaN   \n",
       "\n",
       "                     lag_23  lag_24  lag_25  lag_26  lag_27  rolling_mean  \n",
       "datetime                                                                   \n",
       "2018-03-01 00:00:00     NaN     NaN     NaN     NaN     NaN           NaN  \n",
       "2018-03-01 01:00:00     NaN     NaN     NaN     NaN     NaN           NaN  \n",
       "2018-03-01 02:00:00     NaN     NaN     NaN     NaN     NaN           NaN  \n",
       "2018-03-01 03:00:00     NaN     NaN     NaN     NaN     NaN           NaN  \n",
       "2018-03-01 04:00:00     NaN     NaN     NaN     NaN     NaN           NaN  \n",
       "2018-03-01 05:00:00     NaN     NaN     NaN     NaN     NaN           NaN  \n",
       "2018-03-01 06:00:00     NaN     NaN     NaN     NaN     NaN           NaN  \n",
       "2018-03-01 07:00:00     NaN     NaN     NaN     NaN     NaN           NaN  \n",
       "2018-03-01 08:00:00     NaN     NaN     NaN     NaN     NaN           NaN  \n",
       "2018-03-01 09:00:00     NaN     NaN     NaN     NaN     NaN           NaN  \n",
       "2018-03-01 10:00:00     NaN     NaN     NaN     NaN     NaN           NaN  \n",
       "2018-03-01 11:00:00     NaN     NaN     NaN     NaN     NaN           NaN  \n",
       "2018-03-01 12:00:00     NaN     NaN     NaN     NaN     NaN           NaN  \n",
       "2018-03-01 13:00:00     NaN     NaN     NaN     NaN     NaN           NaN  \n",
       "2018-03-01 14:00:00     NaN     NaN     NaN     NaN     NaN     53.357143  \n",
       "\n",
       "[15 rows x 32 columns]"
      ]
     },
     "execution_count": 13,
     "metadata": {},
     "output_type": "execute_result"
    }
   ],
   "source": [
    "# Запуск функции извлечения признаков\n",
    "df_new = make_features(df, 27, 14)\n",
    "df_new.head(15)"
   ]
  },
  {
   "cell_type": "code",
   "execution_count": 14,
   "metadata": {},
   "outputs": [],
   "source": [
    "# Разедление временного ряда на обучающую и тестовую выборки\n",
    "train, test = train_test_split(df_new, shuffle=False, test_size=0.1)\n",
    "train = train.dropna()"
   ]
  },
  {
   "cell_type": "code",
   "execution_count": 15,
   "metadata": {},
   "outputs": [],
   "source": [
    "#display(train.head())\n",
    "#display(test.head())"
   ]
  },
  {
   "cell_type": "code",
   "execution_count": 16,
   "metadata": {},
   "outputs": [],
   "source": [
    "# Выделение признаков и целевого признака для двух типов выборок\n",
    "features_train = train.drop(['num_orders'], axis=1)\n",
    "target_train = train['num_orders']\n",
    "features_test = test.drop(['num_orders'], axis=1)\n",
    "target_test = test['num_orders']"
   ]
  },
  {
   "cell_type": "markdown",
   "metadata": {},
   "source": [
    "### Выводы по разделу"
   ]
  },
  {
   "cell_type": "markdown",
   "metadata": {},
   "source": [
    "1. Подготовлены признаки для модели (месяц, число и день недели, лаги до 27 порядка, среднее скользящее 14 порядка)\n",
    "2. Проведено разделение на обучающую и тестовую выборки."
   ]
  },
  {
   "cell_type": "markdown",
   "metadata": {},
   "source": [
    "## Обучение моделей"
   ]
  },
  {
   "cell_type": "markdown",
   "metadata": {},
   "source": [
    "### Модель LinearRegression"
   ]
  },
  {
   "cell_type": "code",
   "execution_count": 17,
   "metadata": {},
   "outputs": [
    {
     "data": {
      "text/plain": [
       "-26.67852561695596"
      ]
     },
     "execution_count": 17,
     "metadata": {},
     "output_type": "execute_result"
    }
   ],
   "source": [
    "# Создание экземпляра класса модели, задание количества разделений данных для кросс-валидации \n",
    "# и ее расчет, вывод метрики оценки.\n",
    "model_lr = LinearRegression()\n",
    "tscv = TimeSeriesSplit(n_splits=5)\n",
    "scores = cross_val_score(model_lr, \n",
    "                         features_train, \n",
    "                         target_train, \n",
    "                         cv=tscv, \n",
    "                         scoring = 'neg_root_mean_squared_error')\n",
    "scores.mean()"
   ]
  },
  {
   "cell_type": "markdown",
   "metadata": {},
   "source": [
    "### Модель LightGBMRegressor"
   ]
  },
  {
   "cell_type": "code",
   "execution_count": 18,
   "metadata": {},
   "outputs": [
    {
     "data": {
      "text/plain": [
       "-25.488638652297453"
      ]
     },
     "execution_count": 18,
     "metadata": {},
     "output_type": "execute_result"
    }
   ],
   "source": [
    "# Создание экземпляра класса модели, задание параметров модели и количества разделений данных для \n",
    "# кросс-валидации, подбор оптимальных гиперпараметров, вывод метрики оценки.\n",
    "model_lgbm = LGBMRegressor(random_state = 10)\n",
    "params = {'max_depth' : [-1, 3],\n",
    "          'learning_rate' : [0.03, 0.1, 0.2],\n",
    "          'n_estimators' : [50, 60]\n",
    "               }\n",
    "tscv = TimeSeriesSplit(n_splits=5)\n",
    "gridsearch_lgbm = GridSearchCV(estimator=model_lgbm, \n",
    "                            cv=tscv,\n",
    "                            param_grid=params, \n",
    "                            scoring = 'neg_root_mean_squared_error')\n",
    "gridsearch_lgbm.fit(features_train, target_train)\n",
    "gridsearch_lgbm.best_score_"
   ]
  },
  {
   "cell_type": "code",
   "execution_count": 19,
   "metadata": {
    "scrolled": true
   },
   "outputs": [
    {
     "data": {
      "text/plain": [
       "{'learning_rate': 0.1, 'max_depth': -1, 'n_estimators': 60}"
      ]
     },
     "execution_count": 19,
     "metadata": {},
     "output_type": "execute_result"
    }
   ],
   "source": [
    "# Вывод оптимальных гиперпараметров модели\n",
    "gridsearch_lgbm.best_params_"
   ]
  },
  {
   "cell_type": "markdown",
   "metadata": {},
   "source": [
    "### Выводы по разделу"
   ]
  },
  {
   "cell_type": "markdown",
   "metadata": {},
   "source": [
    "1. Обучены две модели LinearRegression и LGBMRegressor.\n",
    "2. Подобраны гиперпараметры для LGBMRegressor."
   ]
  },
  {
   "cell_type": "markdown",
   "metadata": {},
   "source": [
    "## Тестирование моделей"
   ]
  },
  {
   "cell_type": "code",
   "execution_count": 20,
   "metadata": {},
   "outputs": [
    {
     "name": "stdout",
     "output_type": "stream",
     "text": [
      "Метрика RMSE для модели LinearRegression(): 46.0\n"
     ]
    }
   ],
   "source": [
    "# Тестирование моделей на тестовой выборки и вывод значения метрики RMSE\n",
    "model_lr.fit(features_train, target_train)\n",
    "predictions = model_lr.predict(features_test)\n",
    "rmse = mean_squared_error(predictions, target_test) ** 0.5\n",
    "print(f'Метрика RMSE для модели {model_lr}: {rmse:0.1F}')"
   ]
  },
  {
   "cell_type": "code",
   "execution_count": 21,
   "metadata": {},
   "outputs": [
    {
     "name": "stdout",
     "output_type": "stream",
     "text": [
      "Метрика RMSE для модели LGBMRegressor(random_state=10): 42.6\n"
     ]
    }
   ],
   "source": [
    "# Тестирование моделей на тестовой выборки и вывод значения метрики RMSE\n",
    "model_lgbm.fit(features_train, target_train)\n",
    "predictions = model_lgbm.predict(features_test)\n",
    "rmse = mean_squared_error(predictions, target_test) ** 0.5\n",
    "print(f'Метрика RMSE для модели {model_lgbm}: {rmse:0.1F}')"
   ]
  },
  {
   "cell_type": "markdown",
   "metadata": {},
   "source": [
    "## Выводы по проекту\n",
    "\n",
    "1. Метрика качества предсказания рассмотренных моделей соответствует требованиям заказчика.\n",
    "2. В данном случае, с точки зрения качества, лучше использовать LGBMRegressor с метрикой RMSE равной 42.6"
   ]
  }
 ],
 "metadata": {
  "ExecuteTimeLog": [
   {
    "duration": 1452,
    "start_time": "2022-07-16T08:37:12.513Z"
   },
   {
    "duration": 168,
    "start_time": "2022-07-16T08:37:40.067Z"
   },
   {
    "duration": 18,
    "start_time": "2022-07-16T08:37:50.083Z"
   },
   {
    "duration": 11,
    "start_time": "2022-07-16T08:38:12.864Z"
   },
   {
    "duration": 3,
    "start_time": "2022-07-16T08:38:52.778Z"
   },
   {
    "duration": 12,
    "start_time": "2022-07-16T08:39:10.100Z"
   },
   {
    "duration": 131,
    "start_time": "2022-07-16T08:39:31.778Z"
   },
   {
    "duration": 4,
    "start_time": "2022-07-16T08:39:52.036Z"
   },
   {
    "duration": 22,
    "start_time": "2022-07-16T08:40:05.862Z"
   },
   {
    "duration": 9,
    "start_time": "2022-07-16T08:40:37.700Z"
   },
   {
    "duration": 25,
    "start_time": "2022-07-16T08:41:01.373Z"
   },
   {
    "duration": 3,
    "start_time": "2022-07-16T08:41:49.769Z"
   },
   {
    "duration": 7,
    "start_time": "2022-07-16T08:43:23.738Z"
   },
   {
    "duration": 6,
    "start_time": "2022-07-16T08:43:39.635Z"
   },
   {
    "duration": 2,
    "start_time": "2022-07-16T08:46:04.478Z"
   },
   {
    "duration": 1466,
    "start_time": "2022-07-16T10:37:07.525Z"
   },
   {
    "duration": 240,
    "start_time": "2022-07-16T10:37:09.276Z"
   },
   {
    "duration": 21,
    "start_time": "2022-07-16T10:37:13.636Z"
   },
   {
    "duration": 11,
    "start_time": "2022-07-16T10:37:14.584Z"
   },
   {
    "duration": 2,
    "start_time": "2022-07-16T10:37:27.238Z"
   },
   {
    "duration": 13,
    "start_time": "2022-07-16T10:37:32.607Z"
   },
   {
    "duration": 157,
    "start_time": "2022-07-16T10:37:34.727Z"
   },
   {
    "duration": 228,
    "start_time": "2022-07-16T10:38:45.055Z"
   },
   {
    "duration": 226,
    "start_time": "2022-07-16T10:39:01.675Z"
   },
   {
    "duration": 314,
    "start_time": "2022-07-16T10:39:14.065Z"
   },
   {
    "duration": 351,
    "start_time": "2022-07-16T10:40:49.517Z"
   },
   {
    "duration": 238,
    "start_time": "2022-07-16T10:43:21.839Z"
   },
   {
    "duration": 256,
    "start_time": "2022-07-16T10:45:24.628Z"
   },
   {
    "duration": 300,
    "start_time": "2022-07-16T10:46:00.485Z"
   },
   {
    "duration": 143,
    "start_time": "2022-07-16T10:47:16.469Z"
   },
   {
    "duration": 140,
    "start_time": "2022-07-16T10:47:28.855Z"
   },
   {
    "duration": 251,
    "start_time": "2022-07-16T10:48:29.364Z"
   },
   {
    "duration": 256,
    "start_time": "2022-07-16T10:49:01.193Z"
   },
   {
    "duration": 638,
    "start_time": "2022-07-16T10:50:18.002Z"
   },
   {
    "duration": 4,
    "start_time": "2022-07-16T10:50:56.019Z"
   },
   {
    "duration": 626,
    "start_time": "2022-07-16T10:51:23.556Z"
   },
   {
    "duration": 680,
    "start_time": "2022-07-16T10:51:48.541Z"
   },
   {
    "duration": 565,
    "start_time": "2022-07-16T10:51:57.777Z"
   },
   {
    "duration": 123,
    "start_time": "2022-07-16T10:52:30.074Z"
   },
   {
    "duration": 48,
    "start_time": "2022-07-16T10:53:18.476Z"
   },
   {
    "duration": 1184,
    "start_time": "2022-07-16T10:53:36.622Z"
   },
   {
    "duration": 6,
    "start_time": "2022-07-16T10:55:09.175Z"
   },
   {
    "duration": 5,
    "start_time": "2022-07-16T11:14:50.692Z"
   },
   {
    "duration": 65,
    "start_time": "2022-07-16T11:15:05.939Z"
   },
   {
    "duration": 578,
    "start_time": "2022-07-16T11:17:29.300Z"
   },
   {
    "duration": 726,
    "start_time": "2022-07-16T11:17:37.111Z"
   },
   {
    "duration": 4,
    "start_time": "2022-07-16T11:19:13.278Z"
   },
   {
    "duration": 747,
    "start_time": "2022-07-16T11:19:14.709Z"
   },
   {
    "duration": 102,
    "start_time": "2022-07-16T11:19:21.509Z"
   },
   {
    "duration": 4,
    "start_time": "2022-07-16T11:20:39.808Z"
   },
   {
    "duration": 256,
    "start_time": "2022-07-16T11:21:41.851Z"
   },
   {
    "duration": 4,
    "start_time": "2022-07-16T11:59:12.851Z"
   },
   {
    "duration": 33,
    "start_time": "2022-07-16T11:59:32.519Z"
   },
   {
    "duration": 30,
    "start_time": "2022-07-16T11:59:46.527Z"
   },
   {
    "duration": 7,
    "start_time": "2022-07-16T12:00:39.076Z"
   },
   {
    "duration": 3,
    "start_time": "2022-07-16T12:00:39.909Z"
   },
   {
    "duration": 6,
    "start_time": "2022-07-16T12:00:42.178Z"
   },
   {
    "duration": 5,
    "start_time": "2022-07-16T12:01:44.069Z"
   },
   {
    "duration": 4,
    "start_time": "2022-07-16T12:05:11.581Z"
   },
   {
    "duration": 3,
    "start_time": "2022-07-16T12:06:09.944Z"
   },
   {
    "duration": 3,
    "start_time": "2022-07-16T12:07:44.259Z"
   },
   {
    "duration": 106,
    "start_time": "2022-07-16T12:07:45.718Z"
   },
   {
    "duration": 4,
    "start_time": "2022-07-16T12:08:21.595Z"
   },
   {
    "duration": 11,
    "start_time": "2022-07-16T12:08:27.176Z"
   },
   {
    "duration": 7,
    "start_time": "2022-07-16T12:09:46.491Z"
   },
   {
    "duration": 17,
    "start_time": "2022-07-16T12:09:59.859Z"
   },
   {
    "duration": 41,
    "start_time": "2022-07-16T12:10:22.342Z"
   },
   {
    "duration": 48,
    "start_time": "2022-07-16T12:10:27.953Z"
   },
   {
    "duration": 42,
    "start_time": "2022-07-16T12:10:32.488Z"
   },
   {
    "duration": 9,
    "start_time": "2022-07-16T13:47:09.905Z"
   },
   {
    "duration": 1405,
    "start_time": "2022-07-16T14:03:05.545Z"
   },
   {
    "duration": 74,
    "start_time": "2022-07-16T14:03:07.639Z"
   },
   {
    "duration": 19,
    "start_time": "2022-07-16T14:03:08.967Z"
   },
   {
    "duration": 20,
    "start_time": "2022-07-16T14:03:09.315Z"
   },
   {
    "duration": 13,
    "start_time": "2022-07-16T14:03:10.313Z"
   },
   {
    "duration": 376,
    "start_time": "2022-07-16T14:03:10.696Z"
   },
   {
    "duration": 168,
    "start_time": "2022-07-16T14:03:11.074Z"
   },
   {
    "duration": 718,
    "start_time": "2022-07-16T14:03:11.444Z"
   },
   {
    "duration": 3,
    "start_time": "2022-07-16T14:10:32.154Z"
   },
   {
    "duration": 1282,
    "start_time": "2022-07-16T15:16:28.668Z"
   },
   {
    "duration": 71,
    "start_time": "2022-07-16T15:16:29.952Z"
   },
   {
    "duration": 18,
    "start_time": "2022-07-16T15:16:30.025Z"
   },
   {
    "duration": 10,
    "start_time": "2022-07-16T15:16:30.045Z"
   },
   {
    "duration": 9,
    "start_time": "2022-07-16T15:16:30.057Z"
   },
   {
    "duration": 344,
    "start_time": "2022-07-16T15:16:30.068Z"
   },
   {
    "duration": 144,
    "start_time": "2022-07-16T15:16:30.414Z"
   },
   {
    "duration": 682,
    "start_time": "2022-07-16T15:16:30.560Z"
   },
   {
    "duration": 1558,
    "start_time": "2022-07-16T15:16:31.243Z"
   },
   {
    "duration": 365,
    "start_time": "2022-07-16T15:16:32.803Z"
   },
   {
    "duration": 4,
    "start_time": "2022-07-16T15:16:33.170Z"
   },
   {
    "duration": 40,
    "start_time": "2022-07-16T15:16:33.176Z"
   },
   {
    "duration": 7,
    "start_time": "2022-07-16T15:16:33.218Z"
   },
   {
    "duration": 3,
    "start_time": "2022-07-16T15:16:33.227Z"
   },
   {
    "duration": 10,
    "start_time": "2022-07-16T15:16:33.231Z"
   },
   {
    "duration": 106,
    "start_time": "2022-07-16T15:17:15.798Z"
   },
   {
    "duration": 3,
    "start_time": "2022-07-16T15:17:32.774Z"
   },
   {
    "duration": 31,
    "start_time": "2022-07-16T15:17:33.344Z"
   },
   {
    "duration": 4,
    "start_time": "2022-07-16T15:19:44.398Z"
   },
   {
    "duration": 70,
    "start_time": "2022-07-16T15:19:44.404Z"
   },
   {
    "duration": 14,
    "start_time": "2022-07-16T15:19:44.476Z"
   },
   {
    "duration": 10,
    "start_time": "2022-07-16T15:19:44.492Z"
   },
   {
    "duration": 7,
    "start_time": "2022-07-16T15:19:44.503Z"
   },
   {
    "duration": 266,
    "start_time": "2022-07-16T15:19:44.512Z"
   },
   {
    "duration": 178,
    "start_time": "2022-07-16T15:19:44.780Z"
   },
   {
    "duration": 670,
    "start_time": "2022-07-16T15:19:44.959Z"
   },
   {
    "duration": 1575,
    "start_time": "2022-07-16T15:19:45.631Z"
   },
   {
    "duration": 462,
    "start_time": "2022-07-16T15:19:47.208Z"
   },
   {
    "duration": 27,
    "start_time": "2022-07-16T15:20:34.045Z"
   },
   {
    "duration": 7,
    "start_time": "2022-07-16T15:20:38.556Z"
   },
   {
    "duration": 2,
    "start_time": "2022-07-16T15:20:39.856Z"
   },
   {
    "duration": 4,
    "start_time": "2022-07-16T15:20:40.485Z"
   },
   {
    "duration": 2,
    "start_time": "2022-07-16T15:20:41.956Z"
   },
   {
    "duration": 31,
    "start_time": "2022-07-16T15:20:42.977Z"
   },
   {
    "duration": 4,
    "start_time": "2022-07-16T15:24:29.673Z"
   },
   {
    "duration": 76,
    "start_time": "2022-07-16T15:24:29.679Z"
   },
   {
    "duration": 12,
    "start_time": "2022-07-16T15:24:29.757Z"
   },
   {
    "duration": 12,
    "start_time": "2022-07-16T15:24:29.771Z"
   },
   {
    "duration": 6,
    "start_time": "2022-07-16T15:24:29.785Z"
   },
   {
    "duration": 238,
    "start_time": "2022-07-16T15:24:29.792Z"
   },
   {
    "duration": 172,
    "start_time": "2022-07-16T15:24:30.032Z"
   },
   {
    "duration": 585,
    "start_time": "2022-07-16T15:24:30.205Z"
   },
   {
    "duration": 1413,
    "start_time": "2022-07-16T15:24:30.792Z"
   },
   {
    "duration": 545,
    "start_time": "2022-07-16T15:24:32.207Z"
   },
   {
    "duration": 5,
    "start_time": "2022-07-16T15:24:32.754Z"
   },
   {
    "duration": 42,
    "start_time": "2022-07-16T15:24:59.006Z"
   },
   {
    "duration": 9,
    "start_time": "2022-07-16T15:25:07.085Z"
   },
   {
    "duration": 2,
    "start_time": "2022-07-16T15:25:10.780Z"
   },
   {
    "duration": 6,
    "start_time": "2022-07-16T15:25:12.615Z"
   },
   {
    "duration": 2,
    "start_time": "2022-07-16T15:25:14.266Z"
   },
   {
    "duration": 594,
    "start_time": "2022-07-16T15:25:14.908Z"
   },
   {
    "duration": 4,
    "start_time": "2022-07-16T15:28:52.977Z"
   },
   {
    "duration": 117,
    "start_time": "2022-07-16T15:28:52.984Z"
   },
   {
    "duration": 14,
    "start_time": "2022-07-16T15:28:53.103Z"
   },
   {
    "duration": 13,
    "start_time": "2022-07-16T15:28:53.119Z"
   },
   {
    "duration": 10,
    "start_time": "2022-07-16T15:28:53.133Z"
   },
   {
    "duration": 253,
    "start_time": "2022-07-16T15:28:53.144Z"
   },
   {
    "duration": 176,
    "start_time": "2022-07-16T15:28:53.400Z"
   },
   {
    "duration": 604,
    "start_time": "2022-07-16T15:28:53.578Z"
   },
   {
    "duration": 2621,
    "start_time": "2022-07-16T15:28:54.184Z"
   },
   {
    "duration": 453,
    "start_time": "2022-07-16T15:28:56.809Z"
   },
   {
    "duration": 4,
    "start_time": "2022-07-16T15:28:57.264Z"
   },
   {
    "duration": 1753,
    "start_time": "2022-07-16T18:18:46.432Z"
   },
   {
    "duration": 169,
    "start_time": "2022-07-16T18:19:44.426Z"
   },
   {
    "duration": 28,
    "start_time": "2022-07-16T18:19:46.280Z"
   },
   {
    "duration": 15,
    "start_time": "2022-07-16T18:19:47.330Z"
   },
   {
    "duration": 10,
    "start_time": "2022-07-16T18:19:49.778Z"
   },
   {
    "duration": 383,
    "start_time": "2022-07-16T18:19:50.369Z"
   },
   {
    "duration": 247,
    "start_time": "2022-07-16T18:19:51.089Z"
   },
   {
    "duration": 728,
    "start_time": "2022-07-16T18:19:52.970Z"
   },
   {
    "duration": 6531,
    "start_time": "2022-07-16T18:19:55.080Z"
   },
   {
    "duration": 405,
    "start_time": "2022-07-16T18:20:01.613Z"
   },
   {
    "duration": 9,
    "start_time": "2022-07-16T18:20:02.021Z"
   },
   {
    "duration": 70,
    "start_time": "2022-07-16T18:20:11.874Z"
   },
   {
    "duration": 10,
    "start_time": "2022-07-16T18:20:13.469Z"
   },
   {
    "duration": 3,
    "start_time": "2022-07-16T18:20:14.027Z"
   },
   {
    "duration": 5,
    "start_time": "2022-07-16T18:20:16.276Z"
   },
   {
    "duration": 3,
    "start_time": "2022-07-16T18:20:24.973Z"
   },
   {
    "duration": 1112,
    "start_time": "2022-07-16T18:20:25.399Z"
   },
   {
    "duration": 1290,
    "start_time": "2022-07-16T18:20:37.229Z"
   },
   {
    "duration": 1370,
    "start_time": "2022-07-16T18:20:58.165Z"
   },
   {
    "duration": 7,
    "start_time": "2022-07-16T18:22:18.236Z"
   },
   {
    "duration": 2,
    "start_time": "2022-07-16T18:22:40.673Z"
   },
   {
    "duration": 1619,
    "start_time": "2022-07-16T18:28:16.286Z"
   },
   {
    "duration": 18,
    "start_time": "2022-07-16T18:28:20.089Z"
   },
   {
    "duration": 17,
    "start_time": "2022-07-16T18:28:26.830Z"
   },
   {
    "duration": 17,
    "start_time": "2022-07-16T18:29:31.096Z"
   },
   {
    "duration": 15,
    "start_time": "2022-07-16T18:29:41.081Z"
   },
   {
    "duration": 24,
    "start_time": "2022-07-16T18:29:45.676Z"
   },
   {
    "duration": 18,
    "start_time": "2022-07-16T18:29:48.579Z"
   },
   {
    "duration": 148,
    "start_time": "2022-07-16T18:31:00.279Z"
   },
   {
    "duration": 4,
    "start_time": "2022-07-16T18:31:33.825Z"
   },
   {
    "duration": 4,
    "start_time": "2022-07-16T18:31:40.227Z"
   },
   {
    "duration": 2,
    "start_time": "2022-07-16T18:31:40.673Z"
   },
   {
    "duration": 10,
    "start_time": "2022-07-16T18:31:41.540Z"
   },
   {
    "duration": 25,
    "start_time": "2022-07-16T18:31:51.499Z"
   },
   {
    "duration": 74,
    "start_time": "2022-07-16T18:32:19.974Z"
   },
   {
    "duration": 1427,
    "start_time": "2022-07-16T18:40:45.666Z"
   },
   {
    "duration": 85,
    "start_time": "2022-07-16T18:40:47.095Z"
   },
   {
    "duration": 17,
    "start_time": "2022-07-16T18:40:47.181Z"
   },
   {
    "duration": 26,
    "start_time": "2022-07-16T18:40:47.203Z"
   },
   {
    "duration": 9,
    "start_time": "2022-07-16T18:40:47.231Z"
   },
   {
    "duration": 403,
    "start_time": "2022-07-16T18:40:47.241Z"
   },
   {
    "duration": 229,
    "start_time": "2022-07-16T18:40:47.646Z"
   },
   {
    "duration": 665,
    "start_time": "2022-07-16T18:40:47.876Z"
   },
   {
    "duration": 6581,
    "start_time": "2022-07-16T18:40:48.542Z"
   },
   {
    "duration": 506,
    "start_time": "2022-07-16T18:40:55.125Z"
   },
   {
    "duration": 4,
    "start_time": "2022-07-16T18:42:44.863Z"
   },
   {
    "duration": 61,
    "start_time": "2022-07-16T18:42:50.983Z"
   },
   {
    "duration": 10,
    "start_time": "2022-07-16T18:42:59.527Z"
   },
   {
    "duration": 2,
    "start_time": "2022-07-16T18:43:00.047Z"
   },
   {
    "duration": 6,
    "start_time": "2022-07-16T18:43:00.736Z"
   },
   {
    "duration": 1100,
    "start_time": "2022-07-16T18:43:03.238Z"
   },
   {
    "duration": 144,
    "start_time": "2022-07-16T18:43:05.675Z"
   },
   {
    "duration": 15,
    "start_time": "2022-07-16T18:43:15.498Z"
   },
   {
    "duration": 4,
    "start_time": "2022-07-16T18:43:15.976Z"
   },
   {
    "duration": 296177,
    "start_time": "2022-07-16T18:43:16.879Z"
   },
   {
    "duration": 1580,
    "start_time": "2022-07-16T18:48:38.269Z"
   },
   {
    "duration": 77,
    "start_time": "2022-07-16T18:48:39.851Z"
   },
   {
    "duration": 24,
    "start_time": "2022-07-16T18:48:39.930Z"
   },
   {
    "duration": 14,
    "start_time": "2022-07-16T18:48:39.957Z"
   },
   {
    "duration": 11,
    "start_time": "2022-07-16T18:48:39.973Z"
   },
   {
    "duration": 495,
    "start_time": "2022-07-16T18:48:39.985Z"
   },
   {
    "duration": 268,
    "start_time": "2022-07-16T18:48:40.482Z"
   },
   {
    "duration": 713,
    "start_time": "2022-07-16T18:48:40.752Z"
   },
   {
    "duration": 7371,
    "start_time": "2022-07-16T18:48:41.468Z"
   },
   {
    "duration": 379,
    "start_time": "2022-07-16T18:48:48.938Z"
   },
   {
    "duration": 5,
    "start_time": "2022-07-16T18:48:49.333Z"
   },
   {
    "duration": 43,
    "start_time": "2022-07-16T18:49:04.608Z"
   },
   {
    "duration": 24,
    "start_time": "2022-07-16T18:49:05.899Z"
   },
   {
    "duration": 6,
    "start_time": "2022-07-16T18:49:06.330Z"
   },
   {
    "duration": 5,
    "start_time": "2022-07-16T18:49:06.738Z"
   },
   {
    "duration": 62,
    "start_time": "2022-07-16T18:49:08.243Z"
   },
   {
    "duration": 11,
    "start_time": "2022-07-16T18:49:10.473Z"
   },
   {
    "duration": 7,
    "start_time": "2022-07-16T18:49:13.568Z"
   },
   {
    "duration": 3,
    "start_time": "2022-07-16T18:49:14.347Z"
   },
   {
    "duration": 41919,
    "start_time": "2022-07-16T18:49:33.368Z"
   },
   {
    "duration": 7,
    "start_time": "2022-07-16T18:52:23.916Z"
   },
   {
    "duration": 31609,
    "start_time": "2022-07-16T19:03:16.108Z"
   },
   {
    "duration": 5,
    "start_time": "2022-07-16T19:04:08.388Z"
   },
   {
    "duration": 5,
    "start_time": "2022-07-16T19:06:14.420Z"
   },
   {
    "duration": 107,
    "start_time": "2022-07-16T19:06:45.026Z"
   },
   {
    "duration": 3,
    "start_time": "2022-07-16T19:07:05.050Z"
   },
   {
    "duration": 11,
    "start_time": "2022-07-16T19:12:22.346Z"
   },
   {
    "duration": 51,
    "start_time": "2022-07-16T19:25:28.511Z"
   },
   {
    "duration": 1568,
    "start_time": "2022-07-16T19:25:34.970Z"
   },
   {
    "duration": 95,
    "start_time": "2022-07-16T19:25:36.540Z"
   },
   {
    "duration": 17,
    "start_time": "2022-07-16T19:25:36.637Z"
   },
   {
    "duration": 11,
    "start_time": "2022-07-16T19:25:36.656Z"
   },
   {
    "duration": 10,
    "start_time": "2022-07-16T19:25:36.668Z"
   },
   {
    "duration": 377,
    "start_time": "2022-07-16T19:25:36.888Z"
   },
   {
    "duration": 221,
    "start_time": "2022-07-16T19:25:37.267Z"
   },
   {
    "duration": 618,
    "start_time": "2022-07-16T19:25:37.558Z"
   },
   {
    "duration": 4229,
    "start_time": "2022-07-16T19:25:38.178Z"
   },
   {
    "duration": 451,
    "start_time": "2022-07-16T19:25:42.413Z"
   },
   {
    "duration": 3,
    "start_time": "2022-07-16T19:25:42.866Z"
   },
   {
    "duration": 62,
    "start_time": "2022-07-16T19:25:42.871Z"
   },
   {
    "duration": 10,
    "start_time": "2022-07-16T19:25:42.935Z"
   },
   {
    "duration": 7,
    "start_time": "2022-07-16T19:25:42.947Z"
   },
   {
    "duration": 10,
    "start_time": "2022-07-16T19:25:42.955Z"
   },
   {
    "duration": 1055,
    "start_time": "2022-07-16T19:25:42.967Z"
   },
   {
    "duration": 330880,
    "start_time": "2022-07-16T19:25:52.558Z"
   },
   {
    "duration": 0,
    "start_time": "2022-07-16T19:31:23.441Z"
   },
   {
    "duration": 0,
    "start_time": "2022-07-16T19:31:23.442Z"
   },
   {
    "duration": 1651,
    "start_time": "2022-07-17T09:31:44.410Z"
   },
   {
    "duration": 162,
    "start_time": "2022-07-17T09:31:51.493Z"
   },
   {
    "duration": 19,
    "start_time": "2022-07-17T09:31:55.289Z"
   },
   {
    "duration": 11,
    "start_time": "2022-07-17T09:31:55.971Z"
   },
   {
    "duration": 9,
    "start_time": "2022-07-17T09:32:05.734Z"
   },
   {
    "duration": 11,
    "start_time": "2022-07-17T09:38:51.514Z"
   },
   {
    "duration": 96,
    "start_time": "2022-07-17T10:01:11.621Z"
   },
   {
    "duration": 1769,
    "start_time": "2022-07-17T10:01:34.084Z"
   },
   {
    "duration": 72,
    "start_time": "2022-07-17T10:04:04.943Z"
   },
   {
    "duration": 5,
    "start_time": "2022-07-17T10:48:16.246Z"
   },
   {
    "duration": 76,
    "start_time": "2022-07-17T10:49:22.484Z"
   },
   {
    "duration": 4,
    "start_time": "2022-07-17T10:50:09.329Z"
   },
   {
    "duration": 51,
    "start_time": "2022-07-17T10:50:16.888Z"
   },
   {
    "duration": 10,
    "start_time": "2022-07-17T10:50:18.497Z"
   },
   {
    "duration": 2,
    "start_time": "2022-07-17T10:50:20.685Z"
   },
   {
    "duration": 5,
    "start_time": "2022-07-17T10:50:21.788Z"
   },
   {
    "duration": 1061,
    "start_time": "2022-07-17T10:50:28.493Z"
   },
   {
    "duration": 12066,
    "start_time": "2022-07-17T10:51:28.794Z"
   },
   {
    "duration": 4,
    "start_time": "2022-07-17T10:51:48.484Z"
   },
   {
    "duration": 23,
    "start_time": "2022-07-17T10:52:16.136Z"
   },
   {
    "duration": 1223,
    "start_time": "2022-07-17T10:52:36.136Z"
   },
   {
    "duration": 33053,
    "start_time": "2022-07-17T10:53:54.617Z"
   },
   {
    "duration": 82,
    "start_time": "2022-07-17T10:54:27.672Z"
   },
   {
    "duration": 18478,
    "start_time": "2022-07-17T10:54:53.593Z"
   },
   {
    "duration": 4,
    "start_time": "2022-07-17T10:55:12.072Z"
   },
   {
    "duration": 26917,
    "start_time": "2022-07-17T10:55:39.442Z"
   },
   {
    "duration": 3,
    "start_time": "2022-07-17T10:56:06.361Z"
   },
   {
    "duration": 1070,
    "start_time": "2022-07-17T10:56:18.788Z"
   },
   {
    "duration": 1521,
    "start_time": "2022-07-17T11:14:42.541Z"
   },
   {
    "duration": 81,
    "start_time": "2022-07-17T11:14:44.064Z"
   },
   {
    "duration": 17,
    "start_time": "2022-07-17T11:14:44.147Z"
   },
   {
    "duration": 12,
    "start_time": "2022-07-17T11:14:44.165Z"
   },
   {
    "duration": 12,
    "start_time": "2022-07-17T11:14:44.179Z"
   },
   {
    "duration": 382,
    "start_time": "2022-07-17T11:14:44.193Z"
   },
   {
    "duration": 222,
    "start_time": "2022-07-17T11:14:44.577Z"
   },
   {
    "duration": 614,
    "start_time": "2022-07-17T11:14:44.801Z"
   },
   {
    "duration": 1536,
    "start_time": "2022-07-17T11:14:45.417Z"
   },
   {
    "duration": 365,
    "start_time": "2022-07-17T11:14:46.955Z"
   },
   {
    "duration": 4,
    "start_time": "2022-07-17T11:14:47.322Z"
   },
   {
    "duration": 63,
    "start_time": "2022-07-17T11:14:47.328Z"
   },
   {
    "duration": 10,
    "start_time": "2022-07-17T11:14:47.393Z"
   },
   {
    "duration": 2,
    "start_time": "2022-07-17T11:14:47.406Z"
   },
   {
    "duration": 10,
    "start_time": "2022-07-17T11:14:47.410Z"
   },
   {
    "duration": 738,
    "start_time": "2022-07-17T11:14:47.422Z"
   },
   {
    "duration": 29702,
    "start_time": "2022-07-17T11:14:48.162Z"
   },
   {
    "duration": 4,
    "start_time": "2022-07-17T11:15:17.866Z"
   },
   {
    "duration": 184,
    "start_time": "2022-07-17T11:15:17.872Z"
   },
   {
    "duration": 1144,
    "start_time": "2022-07-17T11:15:54.712Z"
   },
   {
    "duration": 1598,
    "start_time": "2022-07-17T11:21:12.961Z"
   },
   {
    "duration": 83,
    "start_time": "2022-07-17T11:21:14.561Z"
   },
   {
    "duration": 18,
    "start_time": "2022-07-17T11:21:14.646Z"
   },
   {
    "duration": 12,
    "start_time": "2022-07-17T11:21:14.665Z"
   },
   {
    "duration": 16,
    "start_time": "2022-07-17T11:21:14.678Z"
   },
   {
    "duration": 417,
    "start_time": "2022-07-17T11:21:14.698Z"
   },
   {
    "duration": 221,
    "start_time": "2022-07-17T11:21:15.117Z"
   },
   {
    "duration": 673,
    "start_time": "2022-07-17T11:21:15.340Z"
   },
   {
    "duration": 1438,
    "start_time": "2022-07-17T11:21:16.015Z"
   },
   {
    "duration": 382,
    "start_time": "2022-07-17T11:21:17.456Z"
   },
   {
    "duration": 14,
    "start_time": "2022-07-17T11:21:17.839Z"
   },
   {
    "duration": 54,
    "start_time": "2022-07-17T11:21:17.855Z"
   },
   {
    "duration": 10,
    "start_time": "2022-07-17T11:21:17.911Z"
   },
   {
    "duration": 4,
    "start_time": "2022-07-17T11:21:17.922Z"
   },
   {
    "duration": 24,
    "start_time": "2022-07-17T11:21:17.928Z"
   },
   {
    "duration": 998,
    "start_time": "2022-07-17T11:21:17.954Z"
   },
   {
    "duration": 24110,
    "start_time": "2022-07-17T11:21:18.954Z"
   },
   {
    "duration": 4,
    "start_time": "2022-07-17T11:21:43.066Z"
   },
   {
    "duration": 14,
    "start_time": "2022-07-17T11:21:43.152Z"
   },
   {
    "duration": 1985,
    "start_time": "2022-07-17T11:21:43.167Z"
   },
   {
    "duration": 4,
    "start_time": "2022-07-17T11:33:12.898Z"
   },
   {
    "duration": 39,
    "start_time": "2022-07-17T11:36:13.741Z"
   },
   {
    "duration": 85,
    "start_time": "2022-07-17T11:36:56.356Z"
   },
   {
    "duration": 83,
    "start_time": "2022-07-17T11:37:18.766Z"
   },
   {
    "duration": 75,
    "start_time": "2022-07-17T11:37:33.414Z"
   },
   {
    "duration": 16,
    "start_time": "2022-07-17T11:37:34.649Z"
   },
   {
    "duration": 16,
    "start_time": "2022-07-17T11:37:35.304Z"
   },
   {
    "duration": 173,
    "start_time": "2022-07-17T11:38:59.987Z"
   },
   {
    "duration": 1508,
    "start_time": "2022-07-17T11:42:24.751Z"
   },
   {
    "duration": 85,
    "start_time": "2022-07-17T11:49:33.983Z"
   },
   {
    "duration": 1442,
    "start_time": "2022-07-17T11:49:34.181Z"
   },
   {
    "duration": 83,
    "start_time": "2022-07-17T11:49:35.625Z"
   },
   {
    "duration": 20,
    "start_time": "2022-07-17T11:49:35.709Z"
   },
   {
    "duration": 17,
    "start_time": "2022-07-17T11:49:35.730Z"
   },
   {
    "duration": 13,
    "start_time": "2022-07-17T11:49:35.749Z"
   },
   {
    "duration": 390,
    "start_time": "2022-07-17T11:49:35.764Z"
   },
   {
    "duration": 201,
    "start_time": "2022-07-17T11:49:36.156Z"
   },
   {
    "duration": 674,
    "start_time": "2022-07-17T11:49:36.359Z"
   },
   {
    "duration": 1518,
    "start_time": "2022-07-17T11:49:37.035Z"
   },
   {
    "duration": 383,
    "start_time": "2022-07-17T11:49:38.555Z"
   },
   {
    "duration": 14,
    "start_time": "2022-07-17T11:49:38.939Z"
   },
   {
    "duration": 51,
    "start_time": "2022-07-17T11:49:38.955Z"
   },
   {
    "duration": 10,
    "start_time": "2022-07-17T11:49:39.007Z"
   },
   {
    "duration": 2,
    "start_time": "2022-07-17T11:49:39.019Z"
   },
   {
    "duration": 7,
    "start_time": "2022-07-17T11:49:39.023Z"
   },
   {
    "duration": 833,
    "start_time": "2022-07-17T11:49:39.031Z"
   },
   {
    "duration": 25202,
    "start_time": "2022-07-17T11:49:39.955Z"
   },
   {
    "duration": 3,
    "start_time": "2022-07-17T11:50:05.159Z"
   },
   {
    "duration": 93,
    "start_time": "2022-07-17T11:50:05.164Z"
   },
   {
    "duration": 1398,
    "start_time": "2022-07-17T11:50:05.260Z"
   },
   {
    "duration": 4,
    "start_time": "2022-07-17T11:52:42.814Z"
   },
   {
    "duration": 81,
    "start_time": "2022-07-17T11:52:42.825Z"
   },
   {
    "duration": 13,
    "start_time": "2022-07-17T11:52:42.908Z"
   },
   {
    "duration": 13,
    "start_time": "2022-07-17T11:52:42.922Z"
   },
   {
    "duration": 10,
    "start_time": "2022-07-17T11:52:42.936Z"
   },
   {
    "duration": 233,
    "start_time": "2022-07-17T11:52:42.947Z"
   },
   {
    "duration": 177,
    "start_time": "2022-07-17T11:52:43.181Z"
   },
   {
    "duration": 586,
    "start_time": "2022-07-17T11:52:43.359Z"
   },
   {
    "duration": 1315,
    "start_time": "2022-07-17T11:52:43.946Z"
   },
   {
    "duration": 451,
    "start_time": "2022-07-17T11:52:45.262Z"
   },
   {
    "duration": 1367,
    "start_time": "2022-07-17T11:53:46.123Z"
   },
   {
    "duration": 81,
    "start_time": "2022-07-17T11:53:47.492Z"
   },
   {
    "duration": 18,
    "start_time": "2022-07-17T11:53:47.575Z"
   },
   {
    "duration": 15,
    "start_time": "2022-07-17T11:53:47.595Z"
   },
   {
    "duration": 13,
    "start_time": "2022-07-17T11:53:47.612Z"
   },
   {
    "duration": 363,
    "start_time": "2022-07-17T11:53:47.627Z"
   },
   {
    "duration": 162,
    "start_time": "2022-07-17T11:53:47.992Z"
   },
   {
    "duration": 776,
    "start_time": "2022-07-17T11:53:48.157Z"
   },
   {
    "duration": 1422,
    "start_time": "2022-07-17T11:53:48.935Z"
   },
   {
    "duration": 381,
    "start_time": "2022-07-17T11:53:50.359Z"
   },
   {
    "duration": 10,
    "start_time": "2022-07-17T11:53:50.742Z"
   },
   {
    "duration": 49,
    "start_time": "2022-07-17T11:53:50.754Z"
   },
   {
    "duration": 10,
    "start_time": "2022-07-17T11:53:50.805Z"
   },
   {
    "duration": 2,
    "start_time": "2022-07-17T11:53:50.817Z"
   },
   {
    "duration": 31,
    "start_time": "2022-07-17T11:53:50.821Z"
   },
   {
    "duration": 908,
    "start_time": "2022-07-17T11:53:50.854Z"
   },
   {
    "duration": 38391,
    "start_time": "2022-07-17T11:53:51.764Z"
   },
   {
    "duration": 4,
    "start_time": "2022-07-17T11:54:30.157Z"
   },
   {
    "duration": 1370,
    "start_time": "2022-07-17T11:55:24.050Z"
   },
   {
    "duration": 83,
    "start_time": "2022-07-17T11:55:25.422Z"
   },
   {
    "duration": 20,
    "start_time": "2022-07-17T11:55:25.507Z"
   },
   {
    "duration": 18,
    "start_time": "2022-07-17T11:55:25.529Z"
   },
   {
    "duration": 14,
    "start_time": "2022-07-17T11:55:25.549Z"
   },
   {
    "duration": 397,
    "start_time": "2022-07-17T11:55:25.564Z"
   },
   {
    "duration": 202,
    "start_time": "2022-07-17T11:55:25.963Z"
   },
   {
    "duration": 728,
    "start_time": "2022-07-17T11:55:26.167Z"
   },
   {
    "duration": 2655,
    "start_time": "2022-07-17T11:55:26.897Z"
   },
   {
    "duration": 371,
    "start_time": "2022-07-17T11:55:29.558Z"
   },
   {
    "duration": 3,
    "start_time": "2022-07-17T11:55:29.931Z"
   },
   {
    "duration": 62,
    "start_time": "2022-07-17T11:55:29.936Z"
   },
   {
    "duration": 10,
    "start_time": "2022-07-17T11:55:30.000Z"
   },
   {
    "duration": 9,
    "start_time": "2022-07-17T11:55:30.011Z"
   },
   {
    "duration": 10,
    "start_time": "2022-07-17T11:55:30.021Z"
   },
   {
    "duration": 823,
    "start_time": "2022-07-17T11:55:30.033Z"
   },
   {
    "duration": 32494,
    "start_time": "2022-07-17T11:55:30.859Z"
   },
   {
    "duration": 5,
    "start_time": "2022-07-17T11:56:03.355Z"
   },
   {
    "duration": 192,
    "start_time": "2022-07-17T11:56:03.362Z"
   },
   {
    "duration": 1296,
    "start_time": "2022-07-17T11:56:03.556Z"
   },
   {
    "duration": 737,
    "start_time": "2022-07-17T11:56:26.519Z"
   },
   {
    "duration": 1001,
    "start_time": "2022-07-17T11:56:43.053Z"
   },
   {
    "duration": 970,
    "start_time": "2022-07-17T11:59:22.883Z"
   },
   {
    "duration": 38253,
    "start_time": "2022-07-17T12:00:00.902Z"
   },
   {
    "duration": 4,
    "start_time": "2022-07-17T12:01:25.203Z"
   },
   {
    "duration": 82,
    "start_time": "2022-07-17T12:01:25.209Z"
   },
   {
    "duration": 15,
    "start_time": "2022-07-17T12:01:25.294Z"
   },
   {
    "duration": 16,
    "start_time": "2022-07-17T12:01:25.311Z"
   },
   {
    "duration": 23,
    "start_time": "2022-07-17T12:01:25.329Z"
   },
   {
    "duration": 257,
    "start_time": "2022-07-17T12:01:25.354Z"
   },
   {
    "duration": 183,
    "start_time": "2022-07-17T12:01:25.613Z"
   },
   {
    "duration": 682,
    "start_time": "2022-07-17T12:01:25.798Z"
   },
   {
    "duration": 1474,
    "start_time": "2022-07-17T12:01:26.481Z"
   },
   {
    "duration": 371,
    "start_time": "2022-07-17T12:01:27.957Z"
   },
   {
    "duration": 4,
    "start_time": "2022-07-17T12:01:28.330Z"
   },
   {
    "duration": 55,
    "start_time": "2022-07-17T12:01:28.336Z"
   },
   {
    "duration": 8,
    "start_time": "2022-07-17T12:01:28.394Z"
   },
   {
    "duration": 2,
    "start_time": "2022-07-17T12:01:28.404Z"
   },
   {
    "duration": 7,
    "start_time": "2022-07-17T12:01:28.408Z"
   },
   {
    "duration": 443,
    "start_time": "2022-07-17T12:01:28.417Z"
   },
   {
    "duration": 27101,
    "start_time": "2022-07-17T12:01:28.862Z"
   },
   {
    "duration": 4,
    "start_time": "2022-07-17T12:01:55.964Z"
   },
   {
    "duration": 286,
    "start_time": "2022-07-17T12:01:55.970Z"
   },
   {
    "duration": 1297,
    "start_time": "2022-07-17T12:01:56.258Z"
   },
   {
    "duration": 1092,
    "start_time": "2022-07-17T12:02:13.128Z"
   },
   {
    "duration": 1081,
    "start_time": "2022-07-17T12:02:31.908Z"
   },
   {
    "duration": 1000,
    "start_time": "2022-07-17T12:02:44.687Z"
   },
   {
    "duration": 3,
    "start_time": "2022-07-17T12:03:12.697Z"
   },
   {
    "duration": 96,
    "start_time": "2022-07-17T12:03:12.703Z"
   },
   {
    "duration": 15,
    "start_time": "2022-07-17T12:03:12.801Z"
   },
   {
    "duration": 16,
    "start_time": "2022-07-17T12:03:12.817Z"
   },
   {
    "duration": 12,
    "start_time": "2022-07-17T12:03:12.835Z"
   },
   {
    "duration": 270,
    "start_time": "2022-07-17T12:03:12.848Z"
   },
   {
    "duration": 191,
    "start_time": "2022-07-17T12:03:13.121Z"
   },
   {
    "duration": 635,
    "start_time": "2022-07-17T12:03:13.314Z"
   },
   {
    "duration": 2001,
    "start_time": "2022-07-17T12:03:13.952Z"
   },
   {
    "duration": 412,
    "start_time": "2022-07-17T12:03:15.959Z"
   },
   {
    "duration": 4,
    "start_time": "2022-07-17T12:03:16.374Z"
   },
   {
    "duration": 165,
    "start_time": "2022-07-17T12:03:16.380Z"
   },
   {
    "duration": 13,
    "start_time": "2022-07-17T12:03:16.546Z"
   },
   {
    "duration": 2,
    "start_time": "2022-07-17T12:03:16.561Z"
   },
   {
    "duration": 7,
    "start_time": "2022-07-17T12:03:16.565Z"
   },
   {
    "duration": 884,
    "start_time": "2022-07-17T12:03:16.574Z"
   },
   {
    "duration": 1342,
    "start_time": "2022-07-17T12:03:33.190Z"
   },
   {
    "duration": 95,
    "start_time": "2022-07-17T12:03:34.533Z"
   },
   {
    "duration": 20,
    "start_time": "2022-07-17T12:03:34.630Z"
   },
   {
    "duration": 17,
    "start_time": "2022-07-17T12:03:34.653Z"
   },
   {
    "duration": 17,
    "start_time": "2022-07-17T12:03:34.671Z"
   },
   {
    "duration": 385,
    "start_time": "2022-07-17T12:03:34.690Z"
   },
   {
    "duration": 166,
    "start_time": "2022-07-17T12:03:35.078Z"
   },
   {
    "duration": 689,
    "start_time": "2022-07-17T12:03:35.251Z"
   },
   {
    "duration": 1511,
    "start_time": "2022-07-17T12:03:35.942Z"
   },
   {
    "duration": 368,
    "start_time": "2022-07-17T12:03:37.456Z"
   },
   {
    "duration": 4,
    "start_time": "2022-07-17T12:03:37.826Z"
   },
   {
    "duration": 71,
    "start_time": "2022-07-17T12:03:37.832Z"
   },
   {
    "duration": 13,
    "start_time": "2022-07-17T12:03:37.905Z"
   },
   {
    "duration": 12,
    "start_time": "2022-07-17T12:03:37.920Z"
   },
   {
    "duration": 8,
    "start_time": "2022-07-17T12:03:37.934Z"
   },
   {
    "duration": 1005,
    "start_time": "2022-07-17T12:03:37.952Z"
   },
   {
    "duration": 25901,
    "start_time": "2022-07-17T12:03:38.959Z"
   },
   {
    "duration": 4,
    "start_time": "2022-07-17T12:04:04.861Z"
   },
   {
    "duration": 186,
    "start_time": "2022-07-17T12:04:04.866Z"
   },
   {
    "duration": 1207,
    "start_time": "2022-07-17T12:04:05.054Z"
   },
   {
    "duration": 1620,
    "start_time": "2022-07-18T09:29:16.392Z"
   },
   {
    "duration": 154,
    "start_time": "2022-07-18T09:29:21.352Z"
   },
   {
    "duration": 58,
    "start_time": "2022-07-18T09:29:39.984Z"
   },
   {
    "duration": 18,
    "start_time": "2022-07-18T09:29:52.408Z"
   },
   {
    "duration": 113,
    "start_time": "2022-07-18T09:42:45.712Z"
   },
   {
    "duration": 11,
    "start_time": "2022-07-18T09:43:21.368Z"
   },
   {
    "duration": 14,
    "start_time": "2022-07-18T09:44:03.887Z"
   },
   {
    "duration": 13,
    "start_time": "2022-07-18T09:44:24.904Z"
   },
   {
    "duration": 14,
    "start_time": "2022-07-18T09:44:25.568Z"
   },
   {
    "duration": 14,
    "start_time": "2022-07-18T09:44:29.503Z"
   },
   {
    "duration": 375,
    "start_time": "2022-07-18T09:44:30.746Z"
   },
   {
    "duration": 175,
    "start_time": "2022-07-18T09:44:32.962Z"
   },
   {
    "duration": 712,
    "start_time": "2022-07-18T09:44:36.816Z"
   },
   {
    "duration": 633,
    "start_time": "2022-07-18T09:44:53.184Z"
   },
   {
    "duration": 13,
    "start_time": "2022-07-18T09:47:35.224Z"
   },
   {
    "duration": 717,
    "start_time": "2022-07-18T09:48:15.944Z"
   },
   {
    "duration": 661,
    "start_time": "2022-07-18T09:49:23.931Z"
   },
   {
    "duration": 1383,
    "start_time": "2022-07-18T09:58:33.395Z"
   },
   {
    "duration": 126,
    "start_time": "2022-07-18T09:58:34.780Z"
   },
   {
    "duration": 19,
    "start_time": "2022-07-18T09:58:34.908Z"
   },
   {
    "duration": 15,
    "start_time": "2022-07-18T09:58:34.929Z"
   },
   {
    "duration": 18,
    "start_time": "2022-07-18T09:58:34.950Z"
   },
   {
    "duration": 390,
    "start_time": "2022-07-18T09:58:34.969Z"
   },
   {
    "duration": 177,
    "start_time": "2022-07-18T09:58:35.361Z"
   },
   {
    "duration": 720,
    "start_time": "2022-07-18T09:58:35.540Z"
   },
   {
    "duration": 592,
    "start_time": "2022-07-18T09:59:23.004Z"
   },
   {
    "duration": 621,
    "start_time": "2022-07-18T10:00:11.037Z"
   },
   {
    "duration": 162,
    "start_time": "2022-07-18T10:01:16.476Z"
   },
   {
    "duration": 595,
    "start_time": "2022-07-18T10:01:27.715Z"
   },
   {
    "duration": 631,
    "start_time": "2022-07-18T10:01:48.986Z"
   },
   {
    "duration": 632,
    "start_time": "2022-07-18T10:02:16.235Z"
   },
   {
    "duration": 751,
    "start_time": "2022-07-18T10:06:46.836Z"
   },
   {
    "duration": 626,
    "start_time": "2022-07-18T10:16:49.970Z"
   },
   {
    "duration": 680,
    "start_time": "2022-07-18T10:18:24.930Z"
   }
  ],
  "kernelspec": {
   "display_name": "Python 3 (ipykernel)",
   "language": "python",
   "name": "python3"
  },
  "language_info": {
   "codemirror_mode": {
    "name": "ipython",
    "version": 3
   },
   "file_extension": ".py",
   "mimetype": "text/x-python",
   "name": "python",
   "nbconvert_exporter": "python",
   "pygments_lexer": "ipython3",
   "version": "3.9.5"
  },
  "toc": {
   "base_numbering": 1,
   "nav_menu": {},
   "number_sections": true,
   "sideBar": true,
   "skip_h1_title": true,
   "title_cell": "Содержание",
   "title_sidebar": "Contents",
   "toc_cell": true,
   "toc_position": {
    "height": "calc(100% - 180px)",
    "left": "10px",
    "top": "150px",
    "width": "335.195px"
   },
   "toc_section_display": true,
   "toc_window_display": true
  }
 },
 "nbformat": 4,
 "nbformat_minor": 2
}
