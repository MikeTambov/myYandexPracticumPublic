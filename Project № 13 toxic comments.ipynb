{
 "cells": [
  {
   "cell_type": "markdown",
   "metadata": {
    "toc": true
   },
   "source": [
    "<h1>Содержание<span class=\"tocSkip\"></span></h1>\n",
    "<div class=\"toc\"><ul class=\"toc-item\"><li><span><a href=\"#Подготовка\" data-toc-modified-id=\"Подготовка-1\"><span class=\"toc-item-num\">1&nbsp;&nbsp;</span>Подготовка</a></span><ul class=\"toc-item\"><li><span><a href=\"#Загрузка-данных-и-EDA\" data-toc-modified-id=\"Загрузка-данных-и-EDA-1.1\"><span class=\"toc-item-num\">1.1&nbsp;&nbsp;</span>Загрузка данных и EDA</a></span></li><li><span><a href=\"#Подготовка-данных\" data-toc-modified-id=\"Подготовка-данных-1.2\"><span class=\"toc-item-num\">1.2&nbsp;&nbsp;</span>Подготовка данных</a></span></li><li><span><a href=\"#Построение-облака-слов-и-анализ-частот-наиболее-распространенных-слов\" data-toc-modified-id=\"Построение-облака-слов-и-анализ-частот-наиболее-распространенных-слов-1.3\"><span class=\"toc-item-num\">1.3&nbsp;&nbsp;</span>Построение облака слов и анализ частот наиболее распространенных слов</a></span></li><li><span><a href=\"#Выводы-разделу\" data-toc-modified-id=\"Выводы-разделу-1.4\"><span class=\"toc-item-num\">1.4&nbsp;&nbsp;</span>Выводы разделу</a></span></li></ul></li><li><span><a href=\"#Обучение-и-тестирование-моделей\" data-toc-modified-id=\"Обучение-и-тестирование-моделей-2\"><span class=\"toc-item-num\">2&nbsp;&nbsp;</span>Обучение и тестирование моделей</a></span><ul class=\"toc-item\"><li><span><a href=\"#Подготовка-обучающих-и-тестовых-выборок\" data-toc-modified-id=\"Подготовка-обучающих-и-тестовых-выборок-2.1\"><span class=\"toc-item-num\">2.1&nbsp;&nbsp;</span>Подготовка обучающих и тестовых выборок</a></span></li><li><span><a href=\"#Подбор-оптимальных-гиперпараметров-и-обучение-модели\" data-toc-modified-id=\"Подбор-оптимальных-гиперпараметров-и-обучение-модели-2.2\"><span class=\"toc-item-num\">2.2&nbsp;&nbsp;</span>Подбор оптимальных гиперпараметров и обучение модели</a></span></li><li><span><a href=\"#Тестирование-модели\" data-toc-modified-id=\"Тестирование-модели-2.3\"><span class=\"toc-item-num\">2.3&nbsp;&nbsp;</span>Тестирование модели</a></span></li></ul></li><li><span><a href=\"#Выводы\" data-toc-modified-id=\"Выводы-3\"><span class=\"toc-item-num\">3&nbsp;&nbsp;</span>Выводы</a></span></li><li><span><a href=\"#Чек-лист-проверки\" data-toc-modified-id=\"Чек-лист-проверки-4\"><span class=\"toc-item-num\">4&nbsp;&nbsp;</span>Чек-лист проверки</a></span></li></ul></div>"
   ]
  },
  {
   "cell_type": "markdown",
   "metadata": {},
   "source": [
    "Уважаемый ревьювер представляю на суд проект по классификации комментариев. Замечания и предложения по улучшению работы приветствуются. Сразу сообщу, что лемматизация текста идет от 17 до 20 минут, так что аккуратнее. Я применил две простые модели, с другими моделями время расчета было слишком большим, а иногда ядро платформы умирало, что очень расстраивало необходимостью новой операции лемматизации длительностью от 17 до 20 минут. Хотя на платформе colab таких глюков было меньше. Пока время есть хочу поделать данный проект с BERTом, но в зачет пойдет данный проект. Дисбаланс классов устранил настройкой гиперпараметров, сначала сделал через oversampling минорного класса, но у Яндекса ядро помирало слишком часто, поэтому только гиперпараметры."
   ]
  },
  {
   "cell_type": "markdown",
   "metadata": {},
   "source": [
    "# Проект  «Викишоп»"
   ]
  },
  {
   "cell_type": "markdown",
   "metadata": {},
   "source": [
    "**<i>Цель: Разработать модель классифицирующую комментарии на позитивные и негативные. </i>**\n",
    "\n",
    "**Описание:**\n",
    "\n",
    "Интернет-магазин «Викишоп» запускает новый сервис. Теперь пользователи могут редактировать и дополнять описания товаров, как в вики-сообществах. То есть клиенты предлагают свои правки и комментируют изменения других. Магазину нужен инструмент, который будет искать токсичные комментарии и отправлять их на модерацию.\n",
    "\n",
    "**Задачей проекта является:**\n",
    "1. Выбрать модель классификации комментариев с качеством прогнозирования по метрике f1 не менее 0.75.\n",
    "\n",
    "**Объектом исследования является датасет с комментариями с меткой принадлежности к позитивным или негативным.** \n",
    "\n",
    "**Проект выполняется в следующие этапы:**\n",
    "1. Подготовка.\n",
    "2. Обучение и тестирование моделей.\n",
    "3. Общий вывод."
   ]
  },
  {
   "cell_type": "markdown",
   "metadata": {},
   "source": [
    "## Подготовка"
   ]
  },
  {
   "cell_type": "markdown",
   "metadata": {},
   "source": [
    "### Загрузка данных и EDA"
   ]
  },
  {
   "cell_type": "code",
   "execution_count": 1,
   "metadata": {},
   "outputs": [],
   "source": [
    "# код ревьюера\n",
    "#!pip install wordcloud"
   ]
  },
  {
   "cell_type": "code",
   "execution_count": 2,
   "metadata": {},
   "outputs": [
    {
     "name": "stdout",
     "output_type": "stream",
     "text": [
      "Collecting wordcloud\n",
      "  Downloading wordcloud-1.8.2.2-cp39-cp39-manylinux_2_17_x86_64.manylinux2014_x86_64.whl (458 kB)\n",
      "\u001b[K     |████████████████████████████████| 458 kB 1.3 MB/s eta 0:00:01\n",
      "\u001b[?25hRequirement already satisfied: matplotlib in /opt/conda/lib/python3.9/site-packages (from wordcloud) (3.3.4)\n",
      "Requirement already satisfied: pillow in /opt/conda/lib/python3.9/site-packages (from wordcloud) (8.4.0)\n",
      "Requirement already satisfied: numpy>=1.6.1 in /opt/conda/lib/python3.9/site-packages (from wordcloud) (1.21.1)\n",
      "Requirement already satisfied: pyparsing!=2.0.4,!=2.1.2,!=2.1.6,>=2.0.3 in /opt/conda/lib/python3.9/site-packages (from matplotlib->wordcloud) (2.4.7)\n",
      "Requirement already satisfied: python-dateutil>=2.1 in /opt/conda/lib/python3.9/site-packages (from matplotlib->wordcloud) (2.8.1)\n",
      "Requirement already satisfied: kiwisolver>=1.0.1 in /opt/conda/lib/python3.9/site-packages (from matplotlib->wordcloud) (1.4.2)\n",
      "Requirement already satisfied: cycler>=0.10 in /opt/conda/lib/python3.9/site-packages (from matplotlib->wordcloud) (0.11.0)\n",
      "Requirement already satisfied: six>=1.5 in /opt/conda/lib/python3.9/site-packages (from python-dateutil>=2.1->matplotlib->wordcloud) (1.16.0)\n",
      "Installing collected packages: wordcloud\n",
      "Successfully installed wordcloud-1.8.2.2\n"
     ]
    }
   ],
   "source": [
    "!pip install wordcloud"
   ]
  },
  {
   "cell_type": "code",
   "execution_count": 3,
   "metadata": {},
   "outputs": [
    {
     "name": "stderr",
     "output_type": "stream",
     "text": [
      "[nltk_data] Downloading package wordnet to /home/jovyan/nltk_data...\n",
      "[nltk_data]   Package wordnet is already up-to-date!\n",
      "[nltk_data] Downloading package omw-1.4 to /home/jovyan/nltk_data...\n",
      "[nltk_data] Downloading package punkt to /home/jovyan/nltk_data...\n",
      "[nltk_data]   Unzipping tokenizers/punkt.zip.\n",
      "[nltk_data] Downloading package averaged_perceptron_tagger to\n",
      "[nltk_data]     /home/jovyan/nltk_data...\n",
      "[nltk_data]   Unzipping taggers/averaged_perceptron_tagger.zip.\n",
      "[nltk_data] Downloading package stopwords to /home/jovyan/nltk_data...\n",
      "[nltk_data]   Unzipping corpora/stopwords.zip.\n"
     ]
    },
    {
     "data": {
      "text/plain": [
       "True"
      ]
     },
     "execution_count": 3,
     "metadata": {},
     "output_type": "execute_result"
    }
   ],
   "source": [
    "# Импорт библиотек и методов\n",
    "import os\n",
    "import pandas as pd\n",
    "import matplotlib.pyplot as plt\n",
    "import numpy as np\n",
    "import re\n",
    "import nltk\n",
    "import wordcloud\n",
    "from pprint import pprint\n",
    "from time import time\n",
    "import logging\n",
    "import warnings\n",
    "\n",
    "#from lightgbm import LGBMClassifier\n",
    "from sklearn.neighbors import KNeighborsClassifier\n",
    "from sklearn.utils import shuffle\n",
    "from sklearn.linear_model import SGDClassifier\n",
    "from sklearn.metrics import f1_score, classification_report\n",
    "from sklearn.model_selection import train_test_split, GridSearchCV\n",
    "from sklearn.feature_extraction.text import CountVectorizer\n",
    "from wordcloud import WordCloud\n",
    "from sklearn.pipeline import Pipeline\n",
    "\n",
    "warnings.filterwarnings(\"ignore\")\n",
    "pd.options.mode.chained_assignment = None\n",
    "\n",
    "from nltk.probability import FreqDist\n",
    "from nltk.corpus import stopwords as nltk_stopwords\n",
    "from sklearn.feature_extraction.text import TfidfVectorizer\n",
    "from sklearn.feature_extraction.text import CountVectorizer\n",
    "from sklearn.feature_extraction.text import TfidfTransformer\n",
    "from nltk.corpus import stopwords\n",
    "from nltk.stem import WordNetLemmatizer \n",
    "from nltk import word_tokenize, pos_tag\n",
    "from nltk.corpus import wordnet\n",
    "nltk.download('wordnet')\n",
    "nltk.download('omw-1.4')\n",
    "nltk.download('punkt')\n",
    "nltk.download('averaged_perceptron_tagger')\n",
    "nltk.download('stopwords')"
   ]
  },
  {
   "cell_type": "code",
   "execution_count": 4,
   "metadata": {},
   "outputs": [],
   "source": [
    "#Загрузка данных\n",
    "pth1 = '/datasets/toxic_comments.csv'\n",
    "pth2 = '/content/drive/MyDrive/toxic/toxic_comments.csv'\n",
    "\n",
    "if os.path.exists(pth1):\n",
    "    df = pd.read_csv(pth1, dtype={'text':'object', \n",
    "                                  'toxic':'int8'\n",
    "                                  })\n",
    "    \n",
    "elif os.path.exists(pth2):\n",
    "    df = pd.read_csv(pth2, dtype={'text':'object', \n",
    "                                  'toxic':'int8'\n",
    "                                  })\n",
    "else:\n",
    "    print('Something is wrong, but sunshine so bright!')  \n"
   ]
  },
  {
   "cell_type": "code",
   "execution_count": 5,
   "metadata": {},
   "outputs": [
    {
     "name": "stdout",
     "output_type": "stream",
     "text": [
      "<class 'pandas.core.frame.DataFrame'>\n",
      "RangeIndex: 159571 entries, 0 to 159570\n",
      "Data columns (total 2 columns):\n",
      " #   Column  Non-Null Count   Dtype \n",
      "---  ------  --------------   ----- \n",
      " 0   text    159571 non-null  object\n",
      " 1   toxic   159571 non-null  int8  \n",
      "dtypes: int8(1), object(1)\n",
      "memory usage: 1.4+ MB\n"
     ]
    }
   ],
   "source": [
    "# Общая информация о датафрейме\n",
    "df.info()"
   ]
  },
  {
   "cell_type": "code",
   "execution_count": 6,
   "metadata": {
    "scrolled": true
   },
   "outputs": [
    {
     "data": {
      "text/html": [
       "<div>\n",
       "<style scoped>\n",
       "    .dataframe tbody tr th:only-of-type {\n",
       "        vertical-align: middle;\n",
       "    }\n",
       "\n",
       "    .dataframe tbody tr th {\n",
       "        vertical-align: top;\n",
       "    }\n",
       "\n",
       "    .dataframe thead th {\n",
       "        text-align: right;\n",
       "    }\n",
       "</style>\n",
       "<table border=\"1\" class=\"dataframe\">\n",
       "  <thead>\n",
       "    <tr style=\"text-align: right;\">\n",
       "      <th></th>\n",
       "      <th>text</th>\n",
       "      <th>toxic</th>\n",
       "    </tr>\n",
       "  </thead>\n",
       "  <tbody>\n",
       "    <tr>\n",
       "      <th>109716</th>\n",
       "      <td>Umm.... so you respond to censorship allegatio...</td>\n",
       "      <td>0</td>\n",
       "    </tr>\n",
       "    <tr>\n",
       "      <th>51661</th>\n",
       "      <td>\"\\n\\n notability and sourcing \\nDear 74\\n\\ntha...</td>\n",
       "      <td>0</td>\n",
       "    </tr>\n",
       "    <tr>\n",
       "      <th>130528</th>\n",
       "      <td>Warning\\n\\nI am not breaking any tules. You ar...</td>\n",
       "      <td>0</td>\n",
       "    </tr>\n",
       "    <tr>\n",
       "      <th>132677</th>\n",
       "      <td>Get off my fucking back.. You God-damn little ...</td>\n",
       "      <td>1</td>\n",
       "    </tr>\n",
       "    <tr>\n",
       "      <th>43232</th>\n",
       "      <td>oh dear god, how handsome is this man?? withou...</td>\n",
       "      <td>0</td>\n",
       "    </tr>\n",
       "  </tbody>\n",
       "</table>\n",
       "</div>"
      ],
      "text/plain": [
       "                                                     text  toxic\n",
       "109716  Umm.... so you respond to censorship allegatio...      0\n",
       "51661   \"\\n\\n notability and sourcing \\nDear 74\\n\\ntha...      0\n",
       "130528  Warning\\n\\nI am not breaking any tules. You ar...      0\n",
       "132677  Get off my fucking back.. You God-damn little ...      1\n",
       "43232   oh dear god, how handsome is this man?? withou...      0"
      ]
     },
     "execution_count": 6,
     "metadata": {},
     "output_type": "execute_result"
    }
   ],
   "source": [
    "# Первые пять строк датафрейма\n",
    "df.sample(5)"
   ]
  },
  {
   "cell_type": "code",
   "execution_count": 7,
   "metadata": {},
   "outputs": [
    {
     "data": {
      "text/html": [
       "<div>\n",
       "<style scoped>\n",
       "    .dataframe tbody tr th:only-of-type {\n",
       "        vertical-align: middle;\n",
       "    }\n",
       "\n",
       "    .dataframe tbody tr th {\n",
       "        vertical-align: top;\n",
       "    }\n",
       "\n",
       "    .dataframe thead th {\n",
       "        text-align: right;\n",
       "    }\n",
       "</style>\n",
       "<table border=\"1\" class=\"dataframe\">\n",
       "  <thead>\n",
       "    <tr style=\"text-align: right;\">\n",
       "      <th></th>\n",
       "      <th>text</th>\n",
       "      <th>toxic</th>\n",
       "    </tr>\n",
       "  </thead>\n",
       "  <tbody>\n",
       "    <tr>\n",
       "      <th>count</th>\n",
       "      <td>159571</td>\n",
       "      <td>159571.000000</td>\n",
       "    </tr>\n",
       "    <tr>\n",
       "      <th>unique</th>\n",
       "      <td>159571</td>\n",
       "      <td>NaN</td>\n",
       "    </tr>\n",
       "    <tr>\n",
       "      <th>top</th>\n",
       "      <td>Thanks Walter for your contact details I will ...</td>\n",
       "      <td>NaN</td>\n",
       "    </tr>\n",
       "    <tr>\n",
       "      <th>freq</th>\n",
       "      <td>1</td>\n",
       "      <td>NaN</td>\n",
       "    </tr>\n",
       "    <tr>\n",
       "      <th>mean</th>\n",
       "      <td>NaN</td>\n",
       "      <td>0.101679</td>\n",
       "    </tr>\n",
       "    <tr>\n",
       "      <th>std</th>\n",
       "      <td>NaN</td>\n",
       "      <td>0.302226</td>\n",
       "    </tr>\n",
       "    <tr>\n",
       "      <th>min</th>\n",
       "      <td>NaN</td>\n",
       "      <td>0.000000</td>\n",
       "    </tr>\n",
       "    <tr>\n",
       "      <th>25%</th>\n",
       "      <td>NaN</td>\n",
       "      <td>0.000000</td>\n",
       "    </tr>\n",
       "    <tr>\n",
       "      <th>50%</th>\n",
       "      <td>NaN</td>\n",
       "      <td>0.000000</td>\n",
       "    </tr>\n",
       "    <tr>\n",
       "      <th>75%</th>\n",
       "      <td>NaN</td>\n",
       "      <td>0.000000</td>\n",
       "    </tr>\n",
       "    <tr>\n",
       "      <th>max</th>\n",
       "      <td>NaN</td>\n",
       "      <td>1.000000</td>\n",
       "    </tr>\n",
       "  </tbody>\n",
       "</table>\n",
       "</div>"
      ],
      "text/plain": [
       "                                                     text          toxic\n",
       "count                                              159571  159571.000000\n",
       "unique                                             159571            NaN\n",
       "top     Thanks Walter for your contact details I will ...            NaN\n",
       "freq                                                    1            NaN\n",
       "mean                                                  NaN       0.101679\n",
       "std                                                   NaN       0.302226\n",
       "min                                                   NaN       0.000000\n",
       "25%                                                   NaN       0.000000\n",
       "50%                                                   NaN       0.000000\n",
       "75%                                                   NaN       0.000000\n",
       "max                                                   NaN       1.000000"
      ]
     },
     "execution_count": 7,
     "metadata": {},
     "output_type": "execute_result"
    }
   ],
   "source": [
    "# Статистика датафрейма\n",
    "df.describe(include='all')"
   ]
  },
  {
   "cell_type": "code",
   "execution_count": 8,
   "metadata": {},
   "outputs": [
    {
     "data": {
      "image/png": "[encoded data removed]",
      "text/plain": [
       "<Figure size 432x288 with 1 Axes>"
      ]
     },
     "metadata": {
      "needs_background": "light"
     },
     "output_type": "display_data"
    }
   ],
   "source": [
    "# Графическое представление распределение оценок\n",
    "fig, ax = plt.subplots()\n",
    "fig.suptitle('Оценка комментария', fontsize=14)\n",
    "df['toxic'].reset_index().groupby('toxic').count().sort_values(by='index').plot(kind='barh', \n",
    "                                                                                legend=False, ax=ax)\n",
    "plt.ylabel('1 - положительный\\n 0 - отрицательный', fontsize=12)\n",
    "plt.xlabel('количество записей', fontsize=12)\n",
    "ax.grid(axis='x')\n",
    "plt.show()"
   ]
  },
  {
   "cell_type": "markdown",
   "metadata": {},
   "source": [
    "**Выводы:**\n",
    "\n",
    "1. Явных пропусков данных нет.\n",
    "2. Текст включает знаки препинания, прописные буквы, служебные символы.\n",
    "3. Наблюдается несбалансированность классов, доля класса 1 - 10,16 %."
   ]
  },
  {
   "cell_type": "markdown",
   "metadata": {},
   "source": [
    "### Подготовка данных"
   ]
  },
  {
   "cell_type": "code",
   "execution_count": 9,
   "metadata": {},
   "outputs": [],
   "source": [
    "# Функция очистки текста, от \n",
    "def clear_text(text):\n",
    "    sub_text = re.sub(r'[^a-zA-Z]', ' ', text)\n",
    "    return ' '.join(sub_text.split())"
   ]
  },
  {
   "cell_type": "code",
   "execution_count": 10,
   "metadata": {},
   "outputs": [],
   "source": [
    "#Очистка текста\n",
    "df['text_clear'] = df['text'].apply(clear_text)"
   ]
  },
  {
   "cell_type": "code",
   "execution_count": 11,
   "metadata": {},
   "outputs": [],
   "source": [
    "# Функция определения части речи слова\n",
    "def get_wordnet_pos(word):\n",
    "    \"\"\"Map POS tag to first character lemmatize() accepts\"\"\"\n",
    "    tag = nltk.pos_tag([word])[0][1][0].upper()\n",
    "    tag_dict = {\"J\": wordnet.ADJ,\n",
    "                \"N\": wordnet.NOUN,\n",
    "                \"V\": wordnet.VERB,\n",
    "                \"R\": wordnet.ADV}\n",
    "\n",
    "    return tag_dict.get(tag, wordnet.NOUN)"
   ]
  },
  {
   "cell_type": "code",
   "execution_count": 12,
   "metadata": {},
   "outputs": [],
   "source": [
    "#\n",
    "df['text_clear'] = df['text_clear'].str.lower()"
   ]
  },
  {
   "cell_type": "code",
   "execution_count": 13,
   "metadata": {},
   "outputs": [],
   "source": [
    "# Создание экземпляра класса лемматизатора\n",
    "lemmatizer = WordNetLemmatizer()"
   ]
  },
  {
   "cell_type": "code",
   "execution_count": 14,
   "metadata": {},
   "outputs": [],
   "source": [
    "# Объявление списка стоп слов для английского языка\n",
    "stopwords_english = set(stopwords.words('english'))"
   ]
  },
  {
   "cell_type": "code",
   "execution_count": 15,
   "metadata": {},
   "outputs": [],
   "source": [
    "# Функция лемматизации предложения\n",
    "def lemmatize(text):\n",
    "    word_list = nltk.word_tokenize(text)\n",
    "    word_list_without_stop_words = [word for word in word_list if not word in stopwords_english]\n",
    "    return ' '.join([lemmatizer.lemmatize(w, get_wordnet_pos(w)) for w in word_list_without_stop_words]) "
   ]
  },
  {
   "cell_type": "code",
   "execution_count": 16,
   "metadata": {},
   "outputs": [
    {
     "name": "stdout",
     "output_type": "stream",
     "text": [
      "CPU times: user 11min 8s, sys: 59.5 s, total: 12min 8s\n",
      "Wall time: 12min 12s\n"
     ]
    }
   ],
   "source": [
    "%%time \n",
    "\n",
    "# Лемматизация текста\n",
    "df['lemma'] = df['text_clear'].apply(lemmatize)"
   ]
  },
  {
   "cell_type": "markdown",
   "metadata": {},
   "source": [
    "Дубль вывода для информации\n",
    "CPU times: user 10min 47s, sys: 51 s, total: 11min 38s\n",
    "Wall time: 11min 39s"
   ]
  },
  {
   "cell_type": "code",
   "execution_count": 17,
   "metadata": {
    "scrolled": true
   },
   "outputs": [
    {
     "data": {
      "text/html": [
       "<div>\n",
       "<style scoped>\n",
       "    .dataframe tbody tr th:only-of-type {\n",
       "        vertical-align: middle;\n",
       "    }\n",
       "\n",
       "    .dataframe tbody tr th {\n",
       "        vertical-align: top;\n",
       "    }\n",
       "\n",
       "    .dataframe thead th {\n",
       "        text-align: right;\n",
       "    }\n",
       "</style>\n",
       "<table border=\"1\" class=\"dataframe\">\n",
       "  <thead>\n",
       "    <tr style=\"text-align: right;\">\n",
       "      <th></th>\n",
       "      <th>text</th>\n",
       "      <th>toxic</th>\n",
       "      <th>text_clear</th>\n",
       "      <th>lemma</th>\n",
       "    </tr>\n",
       "  </thead>\n",
       "  <tbody>\n",
       "    <tr>\n",
       "      <th>98728</th>\n",
       "      <td>Mathematicians hired to monitor transactions \\...</td>\n",
       "      <td>0</td>\n",
       "      <td>mathematicians hired to monitor transactions i...</td>\n",
       "      <td>mathematician hire monitor transaction remove ...</td>\n",
       "    </tr>\n",
       "    <tr>\n",
       "      <th>78045</th>\n",
       "      <td>Much appreciated. Thank you )</td>\n",
       "      <td>0</td>\n",
       "      <td>much appreciated thank you</td>\n",
       "      <td>much appreciate thank</td>\n",
       "    </tr>\n",
       "    <tr>\n",
       "      <th>29064</th>\n",
       "      <td>\"\\n\\nAgain, not that natal women have the same...</td>\n",
       "      <td>0</td>\n",
       "      <td>again not that natal women have the same hiv r...</td>\n",
       "      <td>natal woman hiv risk tg t woman rather total n...</td>\n",
       "    </tr>\n",
       "    <tr>\n",
       "      <th>61128</th>\n",
       "      <td>\"\\n (cur) (last)  17:00, 27 June 2006 MatthewF...</td>\n",
       "      <td>0</td>\n",
       "      <td>cur last june matthewfenton talk contribs rv n...</td>\n",
       "      <td>cur last june matthewfenton talk contribs rv n...</td>\n",
       "    </tr>\n",
       "    <tr>\n",
       "      <th>156434</th>\n",
       "      <td>More important to follow the rules. When I get...</td>\n",
       "      <td>0</td>\n",
       "      <td>more important to follow the rules when i get ...</td>\n",
       "      <td>important follow rule get paid full time edit ...</td>\n",
       "    </tr>\n",
       "  </tbody>\n",
       "</table>\n",
       "</div>"
      ],
      "text/plain": [
       "                                                     text  toxic  \\\n",
       "98728   Mathematicians hired to monitor transactions \\...      0   \n",
       "78045                       Much appreciated. Thank you )      0   \n",
       "29064   \"\\n\\nAgain, not that natal women have the same...      0   \n",
       "61128   \"\\n (cur) (last)  17:00, 27 June 2006 MatthewF...      0   \n",
       "156434  More important to follow the rules. When I get...      0   \n",
       "\n",
       "                                               text_clear  \\\n",
       "98728   mathematicians hired to monitor transactions i...   \n",
       "78045                          much appreciated thank you   \n",
       "29064   again not that natal women have the same hiv r...   \n",
       "61128   cur last june matthewfenton talk contribs rv n...   \n",
       "156434  more important to follow the rules when i get ...   \n",
       "\n",
       "                                                    lemma  \n",
       "98728   mathematician hire monitor transaction remove ...  \n",
       "78045                               much appreciate thank  \n",
       "29064   natal woman hiv risk tg t woman rather total n...  \n",
       "61128   cur last june matthewfenton talk contribs rv n...  \n",
       "156434  important follow rule get paid full time edit ...  "
      ]
     },
     "execution_count": 17,
     "metadata": {},
     "output_type": "execute_result"
    }
   ],
   "source": [
    "# Случайные пять строк датафрейма\n",
    "df.sample(5)"
   ]
  },
  {
   "cell_type": "markdown",
   "metadata": {},
   "source": [
    "### Построение облака слов и анализ частот наиболее распространенных слов"
   ]
  },
  {
   "cell_type": "code",
   "execution_count": 18,
   "metadata": {},
   "outputs": [],
   "source": [
    "# Записи отмеченные как положительные и негативные\n",
    "string_positive = pd.Series(df[df['toxic'] == 0]['lemma']).str.cat(sep=' ')\n",
    "string_negative = pd.Series(df[df['toxic'] == 1]['lemma']).str.cat(sep=' ')\n",
    "#string = pd.Series(df['lemma']).str.cat(sep=' ')"
   ]
  },
  {
   "cell_type": "code",
   "execution_count": 19,
   "metadata": {},
   "outputs": [
    {
     "data": {
      "image/png": "[encoded data removed]",
      "text/plain": [
       "<Figure size 576x360 with 1 Axes>"
      ]
     },
     "metadata": {
      "needs_background": "light"
     },
     "output_type": "display_data"
    }
   ],
   "source": [
    "# Облако наиболее 50 наиболее распространенных положительных слов\n",
    "wordcloud_positive = WordCloud(width=1200, height=800, \n",
    "                               max_font_size=150, max_words=50, \n",
    "                               collocations=False, \n",
    "                               background_color='black').generate(string_positive)\n",
    "plt.figure(figsize=(8, 5))\n",
    "plt.imshow(wordcloud_positive, interpolation=\"bilinear\")\n",
    "plt.axis(\"off\")\n",
    "plt.show()"
   ]
  },
  {
   "cell_type": "code",
   "execution_count": 20,
   "metadata": {},
   "outputs": [
    {
     "data": {
      "image/png": "[encoded data removed]",
      "text/plain": [
       "<Figure size 864x360 with 1 Axes>"
      ]
     },
     "metadata": {
      "needs_background": "light"
     },
     "output_type": "display_data"
    }
   ],
   "source": [
    "# Количество появлений 50 наиболее распространенных положительных слов\n",
    "fdist_positive = FreqDist()\n",
    "for word in word_tokenize(string_positive):\n",
    "    fdist_positive[word] += 1\n",
    "plt.figure(figsize=(12, 5))\n",
    "fdist_positive.plot(50, cumulative=False)\n",
    "plt.show()"
   ]
  },
  {
   "cell_type": "code",
   "execution_count": 21,
   "metadata": {
    "scrolled": true
   },
   "outputs": [
    {
     "data": {
      "image/png": "[encoded data removed]",
      "text/plain": [
       "<Figure size 576x360 with 1 Axes>"
      ]
     },
     "metadata": {
      "needs_background": "light"
     },
     "output_type": "display_data"
    }
   ],
   "source": [
    "# Облако наиболее 50 наиболее распространенных негативных слов\n",
    "wordcloud_negative = WordCloud(width=1200, height=800, \n",
    "                               max_font_size=150, max_words=50, \n",
    "                               collocations=False, \n",
    "                               background_color='black').generate(string_negative)\n",
    "plt.figure(figsize=(8, 5))\n",
    "plt.imshow(wordcloud_negative, interpolation=\"bilinear\")\n",
    "plt.axis(\"off\")\n",
    "plt.show()"
   ]
  },
  {
   "cell_type": "code",
   "execution_count": 22,
   "metadata": {},
   "outputs": [
    {
     "data": {
      "image/png": "[encoded data removed]",
      "text/plain": [
       "<Figure size 864x360 with 1 Axes>"
      ]
     },
     "metadata": {
      "needs_background": "light"
     },
     "output_type": "display_data"
    }
   ],
   "source": [
    "# Количество появлений 50 наиболее распространенных негативных слов\n",
    "fdist_negative = FreqDist()\n",
    "for word in word_tokenize(string_negative):\n",
    "    fdist_negative[word] += 1\n",
    "plt.figure(figsize=(12, 5))\n",
    "fdist_negative.plot(50,cumulative=False)\n",
    "plt.show()"
   ]
  },
  {
   "cell_type": "markdown",
   "metadata": {},
   "source": [
    "**Выводы:**\n",
    "\n",
    "1. Проведена очистка данных с помощью использования регулярных выражений\n",
    "2. Слова приведены к нижнему регистру.\n",
    "3. Проведена лемматизация данных с учетом части речи слова."
   ]
  },
  {
   "cell_type": "markdown",
   "metadata": {},
   "source": [
    "### Выводы разделу"
   ]
  },
  {
   "cell_type": "markdown",
   "metadata": {},
   "source": [
    "1. Проведен обзор исходных данных и определены пути и методы подготовки данных.\n",
    "2. Подготовлены данные для классификации."
   ]
  },
  {
   "cell_type": "markdown",
   "metadata": {},
   "source": [
    "## Обучение и тестирование моделей"
   ]
  },
  {
   "cell_type": "markdown",
   "metadata": {},
   "source": [
    "### Подготовка обучающих и тестовых выборок"
   ]
  },
  {
   "cell_type": "code",
   "execution_count": 23,
   "metadata": {},
   "outputs": [],
   "source": [
    "# Выделение выборок признаков модели и целевого признака\n",
    "features = df['lemma']\n",
    "target = df['toxic']"
   ]
  },
  {
   "cell_type": "code",
   "execution_count": 24,
   "metadata": {},
   "outputs": [],
   "source": [
    "# Разделение выборок на тренировочные и тестовые\n",
    "features_train, features_test, target_train, target_test = train_test_split(features, \n",
    "                                                                            target,\n",
    "                                                                            stratify=target,\n",
    "                                                                            test_size=0.25, \n",
    "                                                                            random_state=12)"
   ]
  },
  {
   "cell_type": "code",
   "execution_count": 25,
   "metadata": {},
   "outputs": [
    {
     "name": "stdout",
     "output_type": "stream",
     "text": [
      "Размер обучающей выборки: (119678,)\n",
      "Размер целевой выборки: (119678,)\n"
     ]
    }
   ],
   "source": [
    "print(f'Размер обучающей выборки: {features_train.shape}')\n",
    "print(f'Размер целевой выборки: {target_train.shape}')"
   ]
  },
  {
   "cell_type": "markdown",
   "metadata": {},
   "source": [
    "**Выводы:**\n",
    "\n",
    "1. Произведена подготовка обучающих и тестовых выборок, со стратифицированным целевым признаком."
   ]
  },
  {
   "cell_type": "markdown",
   "metadata": {},
   "source": [
    "### Подбор оптимальных гиперпараметров и обучение модели"
   ]
  },
  {
   "cell_type": "code",
   "execution_count": 26,
   "metadata": {},
   "outputs": [],
   "source": [
    "# Создание Pipeline из трех экземпляров классов\n",
    "pipe = Pipeline(\n",
    "    [\n",
    "        (\"vect\", CountVectorizer()),\n",
    "        (\"tfidf\", TfidfTransformer()),\n",
    "        (\"classifier\", SGDClassifier()),\n",
    "    ]\n",
    ")"
   ]
  },
  {
   "cell_type": "code",
   "execution_count": 27,
   "metadata": {},
   "outputs": [],
   "source": [
    "# Задание сетки гиперпараметров \n",
    "param_grid = [{\n",
    "    'classifier': [SGDClassifier()],\n",
    "    #\"vect__max_df\": (0.75, 1.0),\n",
    "    # 'vect__max_features': (None, 5000, 10000, 50000),\n",
    "    \"vect__ngram_range\": ((1, 1), (1, 2)),  # unigrams or bigrams\n",
    "    # 'tfidf__use_idf': (True, False),\n",
    "    # 'tfidf__norm': ('l1', 'l2'),\n",
    "    # \"sgdc__max_iter\": (20,),\n",
    "    \"classifier__alpha\": (0.00001, 0.000001),\n",
    "    # \"classifier__penalty\": (\"l2\", \"elasticnet\"),\n",
    "    # 'classifier__max_iter': (10, 50, 80),\n",
    "    'classifier__class_weight':['balanced'],\n",
    "    'classifier__n_jobs':(-1,)\n",
    "},\n",
    "    {\n",
    "    'classifier': [KNeighborsClassifier()],\n",
    "    #\"vect__max_df\": (0.75, 1.0),\n",
    "    # 'vect__max_features': (None, 5000, 10000, 50000),\n",
    "    \"vect__ngram_range\": ((1, 1), (1, 2)),  # unigrams or bigrams\n",
    "    # 'tfidf__use_idf': (True, False),\n",
    "    # 'tfidf__norm': ('l1', 'l2'),\n",
    "    # \"lr__max_iter\": (20,),\n",
    "    \"classifier__n_neighbors\": (5, 10),\n",
    "    #\"classifier__learning_rate\": (0.1, 1),\n",
    "    'classifier__n_jobs':(-1,)\n",
    "}]"
   ]
  },
  {
   "cell_type": "code",
   "execution_count": 28,
   "metadata": {},
   "outputs": [],
   "source": [
    "# Создание конструкции поиска оптимильной модели с настроенными гиперпараметрами\n",
    "grid_search = GridSearchCV(pipe, param_grid, n_jobs=-1, verbose=1, scoring='f1', cv=5)"
   ]
  },
  {
   "cell_type": "code",
   "execution_count": 29,
   "metadata": {
    "scrolled": true
   },
   "outputs": [
    {
     "name": "stdout",
     "output_type": "stream",
     "text": [
      "Performing grid search for model: \n",
      "pipeline: ['vect', 'tfidf', 'classifier']\n",
      "parameters:\n",
      "[{'classifier': [SGDClassifier()],\n",
      "  'classifier__alpha': (1e-05, 1e-06),\n",
      "  'classifier__class_weight': ['balanced'],\n",
      "  'classifier__n_jobs': (-1,),\n",
      "  'vect__ngram_range': ((1, 1), (1, 2))},\n",
      " {'classifier': [KNeighborsClassifier()],\n",
      "  'classifier__n_jobs': (-1,),\n",
      "  'classifier__n_neighbors': (5, 10),\n",
      "  'vect__ngram_range': ((1, 1), (1, 2))}]\n",
      "Fitting 5 folds for each of 8 candidates, totalling 40 fits\n",
      "done in 2214.907s\n"
     ]
    }
   ],
   "source": [
    "# Поиск оптимильной модели с настроенными гиперпараметрами и вывод метрики f1\n",
    "print(\"Performing grid search for model: \")\n",
    "print(\"pipeline:\", [name for name, _ in pipe.steps])\n",
    "print(\"parameters:\")\n",
    "pprint(param_grid)\n",
    "t0 = time()\n",
    "grid_search.fit(features_train, target_train)\n",
    "print(\"done in %0.3fs\" % (time() - t0))"
   ]
  },
  {
   "cell_type": "markdown",
   "metadata": {},
   "source": [
    "Performing grid search for model: \n",
    "pipeline: ['vect', 'tfidf', 'classifier']\n",
    "parameters:\n",
    "[{'classifier': [SGDClassifier()],\n",
    "  'classifier__alpha': (1e-05, 1e-06),\n",
    "  'classifier__class_weight': ['balanced'],\n",
    "  'classifier__n_jobs': (-1,),\n",
    "  'vect__ngram_range': ((1, 1), (1, 2))},\n",
    " {'classifier': [KNeighborsClassifier()],\n",
    "  'classifier__n_jobs': (-1,),\n",
    "  'classifier__n_neighbors': (5, 10),\n",
    "  'vect__ngram_range': ((1, 1), (1, 2))}]\n",
    "Fitting 5 folds for each of 8 candidates, totalling 40 fits\n",
    "done in 2214.473s"
   ]
  },
  {
   "cell_type": "code",
   "execution_count": 30,
   "metadata": {},
   "outputs": [
    {
     "name": "stdout",
     "output_type": "stream",
     "text": [
      "Структура и параметры лучшей модели:\n",
      "Pipeline(steps=[('vect', CountVectorizer(ngram_range=(1, 2))),\n",
      "                ('tfidf', TfidfTransformer()),\n",
      "                ('classifier',\n",
      "                 SGDClassifier(alpha=1e-05, class_weight='balanced',\n",
      "                               n_jobs=-1))])\n",
      "Best f1-score: 0.790\n"
     ]
    }
   ],
   "source": [
    "# Вывод структуры pipeline и параметров лучшей модели\n",
    "print('Структура и параметры лучшей модели:')\n",
    "print(grid_search.best_estimator_)\n",
    "print(\"Best f1-score: %0.3f\" % grid_search.best_score_)"
   ]
  },
  {
   "cell_type": "markdown",
   "metadata": {},
   "source": [
    "**Выводы:**\n",
    "\n",
    "1. В качестве лучшей модели выбрана модель SGDClassifier с метрикой f1 равной: 0.79"
   ]
  },
  {
   "cell_type": "markdown",
   "metadata": {},
   "source": [
    "### Тестирование модели"
   ]
  },
  {
   "cell_type": "code",
   "execution_count": 31,
   "metadata": {},
   "outputs": [
    {
     "data": {
      "text/plain": [
       "Pipeline(steps=[('vect', CountVectorizer(ngram_range=(1, 2))),\n",
       "                ('tfidf', TfidfTransformer()),\n",
       "                ('classifier',\n",
       "                 SGDClassifier(alpha=1e-05, class_weight='balanced',\n",
       "                               n_jobs=-1))])"
      ]
     },
     "execution_count": 31,
     "metadata": {},
     "output_type": "execute_result"
    }
   ],
   "source": [
    "# Создание экземпляра лучшей модели\n",
    "best_model = grid_search.best_estimator_.fit(features_train, target_train)\n",
    "best_model"
   ]
  },
  {
   "cell_type": "code",
   "execution_count": 32,
   "metadata": {},
   "outputs": [
    {
     "name": "stdout",
     "output_type": "stream",
     "text": [
      "Метрика f1 на тестовой выборке: 0.79\n"
     ]
    }
   ],
   "source": [
    "# Расчет метрики f1 на тестовой выборке для лучшей модели\n",
    "print(\"Метрика f1 на тестовой выборке: {:.2f}\".format(f1_score(target_test, \n",
    "                                                             best_model.predict(features_test))))"
   ]
  },
  {
   "cell_type": "code",
   "execution_count": 33,
   "metadata": {},
   "outputs": [
    {
     "name": "stdout",
     "output_type": "stream",
     "text": [
      "Отчет о точности предсказания по тестовой выборки для модели SGDClassifier():\n",
      "              precision    recall  f1-score   support\n",
      "\n",
      "           0       0.98      0.97      0.98     35837\n",
      "           1       0.78      0.80      0.79      4056\n",
      "\n",
      "    accuracy                           0.96     39893\n",
      "   macro avg       0.88      0.89      0.88     39893\n",
      "weighted avg       0.96      0.96      0.96     39893\n",
      "\n"
     ]
    }
   ],
   "source": [
    "# Отчет о точности и полноте предсказания модели\n",
    "print('Отчет о точности предсказания по тестовой выборки для модели SGDClassifier():')\n",
    "print(classification_report(target_test, best_model.predict(features_test)))"
   ]
  },
  {
   "cell_type": "markdown",
   "metadata": {},
   "source": [
    "**Выводы:**\n",
    "\n",
    "1. Качество предсказания модели SGDClassifier на тестовых данных соответствует требованиям заказчика метрика f1 равна: 0.79.\n",
    "2. Модель SGDClassifier можно охарактеризовать достаточной точностью (0.78) и полнотой (0.80) определения негативных комментариев."
   ]
  },
  {
   "cell_type": "markdown",
   "metadata": {},
   "source": [
    "**Выводы по разделу 2:**\n",
    "\n",
    "1. Из двух моделей классификации KNeighborsClassifier и SGDClassifier, лучшей была выбрана SGDClassifier с метрикой f1 на обучающих данных равной 0.789, далее на тестовой выборке значение метрики составило 0.79, что говорит, о том, что модель не переобучилась, размер обучающей выборки обеспечил качественное обучение модели."
   ]
  },
  {
   "cell_type": "markdown",
   "metadata": {},
   "source": [
    "## Выводы"
   ]
  },
  {
   "cell_type": "markdown",
   "metadata": {},
   "source": [
    "1. В ходе предварительного анализа данных было проведено:\n",
    "- очистка текста с помощью регулярных выражений, удалены стоп- слова и приведено написание к нижнему регистру;\n",
    "- проведен анализ распространенности основных слов для комментариев с положительной и негативной оценкой;\n",
    "2. Методом сеточного поиска оптимизированы и выбрана лучшая модель среди KNeighborsClassifier и SGDClassifier для классификации комментариев по их оценке. Модель SGDClassifier выбрана лучшей, метрика f1 составила:\n",
    "- на обучающих выборках - 0.789;\n",
    "- на тестовых выборках - 0.79.\n",
    "3. Для классификации комментариев на положительные и негативные предпочтительно использовать модель SGDClassifier."
   ]
  }
 ],
 "metadata": {
  "ExecuteTimeLog": [
   {
    "duration": 4419,
    "start_time": "2022-07-19T12:36:19.188Z"
   },
   {
    "duration": 134,
    "start_time": "2022-07-19T12:39:07.939Z"
   },
   {
    "duration": 107,
    "start_time": "2022-07-19T12:39:22.263Z"
   },
   {
    "duration": 2847,
    "start_time": "2022-07-19T12:39:28.773Z"
   },
   {
    "duration": 35,
    "start_time": "2022-07-19T12:39:47.379Z"
   },
   {
    "duration": 10,
    "start_time": "2022-07-19T12:39:56.130Z"
   },
   {
    "duration": 8,
    "start_time": "2022-07-19T12:40:06.499Z"
   },
   {
    "duration": 70,
    "start_time": "2022-07-19T12:40:59.950Z"
   },
   {
    "duration": 299,
    "start_time": "2022-07-19T12:41:19.253Z"
   },
   {
    "duration": 3,
    "start_time": "2022-07-19T12:43:19.742Z"
   },
   {
    "duration": 4516,
    "start_time": "2022-07-19T12:43:25.614Z"
   },
   {
    "duration": 13,
    "start_time": "2022-07-19T12:44:04.340Z"
   },
   {
    "duration": 8,
    "start_time": "2022-07-19T12:45:39.601Z"
   },
   {
    "duration": 4,
    "start_time": "2022-07-19T12:45:48.970Z"
   },
   {
    "duration": 21,
    "start_time": "2022-07-19T12:46:06.047Z"
   },
   {
    "duration": 5,
    "start_time": "2022-07-19T12:46:22.041Z"
   },
   {
    "duration": 30,
    "start_time": "2022-07-19T12:46:23.149Z"
   },
   {
    "duration": 501,
    "start_time": "2022-07-19T12:46:40.164Z"
   },
   {
    "duration": 1556,
    "start_time": "2022-07-19T12:46:45.138Z"
   },
   {
    "duration": 10,
    "start_time": "2022-07-19T12:49:46.010Z"
   },
   {
    "duration": 3,
    "start_time": "2022-07-19T12:53:43.648Z"
   },
   {
    "duration": 43,
    "start_time": "2022-07-19T12:53:53.794Z"
   },
   {
    "duration": 7,
    "start_time": "2022-07-19T12:53:59.755Z"
   },
   {
    "duration": 447946,
    "start_time": "2022-07-19T12:55:15.251Z"
   },
   {
    "duration": 82,
    "start_time": "2022-07-19T13:03:15.152Z"
   },
   {
    "duration": 12,
    "start_time": "2022-07-19T13:03:19.476Z"
   },
   {
    "duration": 4,
    "start_time": "2022-07-19T13:03:42.412Z"
   },
   {
    "duration": 36,
    "start_time": "2022-07-19T13:03:47.960Z"
   },
   {
    "duration": 50,
    "start_time": "2022-07-19T13:04:34.865Z"
   },
   {
    "duration": 3,
    "start_time": "2022-07-19T13:04:48.872Z"
   },
   {
    "duration": 10,
    "start_time": "2022-07-19T13:05:02.295Z"
   },
   {
    "duration": 8544,
    "start_time": "2022-07-19T13:05:05.249Z"
   },
   {
    "duration": 15,
    "start_time": "2022-07-19T13:07:49.657Z"
   },
   {
    "duration": 827,
    "start_time": "2022-07-19T13:07:50.936Z"
   },
   {
    "duration": 36,
    "start_time": "2022-07-19T13:07:51.977Z"
   },
   {
    "duration": 7,
    "start_time": "2022-07-19T13:07:52.579Z"
   },
   {
    "duration": 299,
    "start_time": "2022-07-19T13:07:53.058Z"
   },
   {
    "duration": 3,
    "start_time": "2022-07-19T13:07:55.266Z"
   },
   {
    "duration": 4269,
    "start_time": "2022-07-19T13:07:55.634Z"
   },
   {
    "duration": 4,
    "start_time": "2022-07-19T13:07:59.906Z"
   },
   {
    "duration": 28,
    "start_time": "2022-07-19T13:07:59.912Z"
   },
   {
    "duration": 9,
    "start_time": "2022-07-19T13:07:59.942Z"
   },
   {
    "duration": 20,
    "start_time": "2022-07-19T13:08:08.562Z"
   },
   {
    "duration": 7921,
    "start_time": "2022-07-19T13:08:11.754Z"
   },
   {
    "duration": 3,
    "start_time": "2022-07-19T13:08:34.370Z"
   },
   {
    "duration": 10,
    "start_time": "2022-07-19T13:08:36.322Z"
   },
   {
    "duration": 243,
    "start_time": "2022-07-19T13:08:38.009Z"
   },
   {
    "duration": 92,
    "start_time": "2022-07-19T13:08:39.841Z"
   },
   {
    "duration": 30,
    "start_time": "2022-07-19T13:08:41.835Z"
   },
   {
    "duration": 7,
    "start_time": "2022-07-19T13:08:43.441Z"
   },
   {
    "duration": 9,
    "start_time": "2022-07-19T13:08:45.121Z"
   },
   {
    "duration": 18,
    "start_time": "2022-07-19T13:09:22.009Z"
   },
   {
    "duration": 77128,
    "start_time": "2022-07-19T13:09:25.171Z"
   },
   {
    "duration": 4,
    "start_time": "2022-07-19T13:11:01.763Z"
   },
   {
    "duration": 6,
    "start_time": "2022-07-19T13:11:02.809Z"
   },
   {
    "duration": 11,
    "start_time": "2022-07-19T13:11:05.378Z"
   },
   {
    "duration": 758,
    "start_time": "2022-07-19T13:11:06.857Z"
   },
   {
    "duration": 7662,
    "start_time": "2022-07-19T13:11:08.266Z"
   },
   {
    "duration": 8,
    "start_time": "2022-07-19T13:11:17.681Z"
   },
   {
    "duration": 6,
    "start_time": "2022-07-19T13:11:19.306Z"
   },
   {
    "duration": 15,
    "start_time": "2022-07-19T13:12:41.290Z"
   },
   {
    "duration": 143767,
    "start_time": "2022-07-19T13:13:07.883Z"
   },
   {
    "duration": 3,
    "start_time": "2022-07-19T13:17:01.681Z"
   },
   {
    "duration": 4,
    "start_time": "2022-07-19T13:17:04.556Z"
   },
   {
    "duration": 8,
    "start_time": "2022-07-19T13:17:05.532Z"
   },
   {
    "duration": 11,
    "start_time": "2022-07-19T13:17:06.489Z"
   },
   {
    "duration": 1461,
    "start_time": "2022-07-19T13:17:40.763Z"
   },
   {
    "duration": 8843,
    "start_time": "2022-07-19T13:17:56.680Z"
   },
   {
    "duration": 97,
    "start_time": "2022-07-19T13:18:05.530Z"
   },
   {
    "duration": 26,
    "start_time": "2022-07-19T13:18:05.629Z"
   },
   {
    "duration": 11,
    "start_time": "2022-07-19T13:20:15.176Z"
   },
   {
    "duration": 5,
    "start_time": "2022-07-19T13:20:27.696Z"
   },
   {
    "duration": 10,
    "start_time": "2022-07-19T13:20:36.896Z"
   },
   {
    "duration": 1809,
    "start_time": "2022-07-19T13:20:54.210Z"
   },
   {
    "duration": 872,
    "start_time": "2022-07-19T13:20:57.962Z"
   },
   {
    "duration": 27,
    "start_time": "2022-07-19T13:20:58.836Z"
   },
   {
    "duration": 9,
    "start_time": "2022-07-19T13:20:59.001Z"
   },
   {
    "duration": 267,
    "start_time": "2022-07-19T13:20:59.297Z"
   },
   {
    "duration": 3,
    "start_time": "2022-07-19T13:21:00.378Z"
   },
   {
    "duration": 4302,
    "start_time": "2022-07-19T13:21:00.761Z"
   },
   {
    "duration": 4,
    "start_time": "2022-07-19T13:21:05.065Z"
   },
   {
    "duration": 11,
    "start_time": "2022-07-19T13:21:05.071Z"
   },
   {
    "duration": 13,
    "start_time": "2022-07-19T13:21:05.084Z"
   },
   {
    "duration": 15,
    "start_time": "2022-07-19T13:21:05.099Z"
   },
   {
    "duration": 25021,
    "start_time": "2022-07-19T13:21:05.116Z"
   },
   {
    "duration": 3,
    "start_time": "2022-07-19T13:21:30.139Z"
   },
   {
    "duration": 42,
    "start_time": "2022-07-19T13:21:30.144Z"
   },
   {
    "duration": 0,
    "start_time": "2022-07-19T13:21:30.188Z"
   },
   {
    "duration": 0,
    "start_time": "2022-07-19T13:21:30.189Z"
   },
   {
    "duration": 12,
    "start_time": "2022-07-19T13:21:38.481Z"
   },
   {
    "duration": 216201,
    "start_time": "2022-07-19T13:21:44.857Z"
   },
   {
    "duration": 3,
    "start_time": "2022-07-19T13:25:21.060Z"
   },
   {
    "duration": 15,
    "start_time": "2022-07-19T13:25:21.064Z"
   },
   {
    "duration": 6,
    "start_time": "2022-07-19T13:25:21.081Z"
   },
   {
    "duration": 8,
    "start_time": "2022-07-19T13:25:21.089Z"
   },
   {
    "duration": 2156,
    "start_time": "2022-07-19T13:26:45.062Z"
   },
   {
    "duration": 9327,
    "start_time": "2022-07-19T13:26:49.197Z"
   },
   {
    "duration": 12,
    "start_time": "2022-07-19T13:27:00.813Z"
   },
   {
    "duration": 9,
    "start_time": "2022-07-19T13:27:02.316Z"
   },
   {
    "duration": 17,
    "start_time": "2022-07-19T13:28:30.156Z"
   },
   {
    "duration": 762529,
    "start_time": "2022-07-19T13:28:33.556Z"
   },
   {
    "duration": 3,
    "start_time": "2022-07-19T13:41:16.088Z"
   },
   {
    "duration": 41,
    "start_time": "2022-07-19T13:41:16.094Z"
   },
   {
    "duration": 5,
    "start_time": "2022-07-19T13:41:16.138Z"
   },
   {
    "duration": 14,
    "start_time": "2022-07-19T13:41:16.145Z"
   },
   {
    "duration": 8175,
    "start_time": "2022-07-19T13:41:16.161Z"
   },
   {
    "duration": 119,
    "start_time": "2022-07-19T13:42:05.024Z"
   },
   {
    "duration": 16,
    "start_time": "2022-07-19T13:42:05.145Z"
   },
   {
    "duration": 41269,
    "start_time": "2022-07-19T13:42:05.163Z"
   },
   {
    "duration": 3,
    "start_time": "2022-07-19T16:29:48.270Z"
   },
   {
    "duration": 82,
    "start_time": "2022-07-19T16:30:09.759Z"
   },
   {
    "duration": 2936,
    "start_time": "2022-07-19T16:30:19.278Z"
   },
   {
    "duration": 27,
    "start_time": "2022-07-19T16:30:23.208Z"
   },
   {
    "duration": 8,
    "start_time": "2022-07-19T16:30:24.087Z"
   },
   {
    "duration": 206,
    "start_time": "2022-07-19T16:30:24.817Z"
   },
   {
    "duration": 3,
    "start_time": "2022-07-19T16:30:27.047Z"
   },
   {
    "duration": 3396,
    "start_time": "2022-07-19T16:30:27.568Z"
   },
   {
    "duration": 3,
    "start_time": "2022-07-19T16:30:32.845Z"
   },
   {
    "duration": 3,
    "start_time": "2022-07-19T16:30:38.417Z"
   },
   {
    "duration": 3,
    "start_time": "2022-07-19T16:30:40.005Z"
   },
   {
    "duration": 965229,
    "start_time": "2022-07-19T16:31:02.166Z"
   },
   {
    "duration": 2,
    "start_time": "2022-07-19T16:51:44.435Z"
   },
   {
    "duration": 28,
    "start_time": "2022-07-19T16:51:46.554Z"
   },
   {
    "duration": 3,
    "start_time": "2022-07-19T16:51:55.755Z"
   },
   {
    "duration": 9269,
    "start_time": "2022-07-19T16:51:57.722Z"
   },
   {
    "duration": 40097,
    "start_time": "2022-07-19T16:52:11.514Z"
   },
   {
    "duration": 36,
    "start_time": "2022-07-19T16:52:54.625Z"
   },
   {
    "duration": 16,
    "start_time": "2022-07-19T16:52:56.513Z"
   },
   {
    "duration": 41,
    "start_time": "2022-07-19T16:53:20.282Z"
   },
   {
    "duration": 2,
    "start_time": "2022-07-19T16:53:20.972Z"
   },
   {
    "duration": 9819,
    "start_time": "2022-07-19T16:53:21.371Z"
   },
   {
    "duration": 41933,
    "start_time": "2022-07-19T16:53:31.192Z"
   },
   {
    "duration": 200,
    "start_time": "2022-07-19T16:54:13.126Z"
   },
   {
    "duration": 13,
    "start_time": "2022-07-19T16:54:13.328Z"
   },
   {
    "duration": 45,
    "start_time": "2022-07-19T16:54:19.398Z"
   },
   {
    "duration": 18,
    "start_time": "2022-07-19T16:54:20.678Z"
   },
   {
    "duration": 30,
    "start_time": "2022-07-19T16:54:30.553Z"
   },
   {
    "duration": 3,
    "start_time": "2022-07-19T16:54:30.990Z"
   },
   {
    "duration": 10143,
    "start_time": "2022-07-19T16:54:31.592Z"
   },
   {
    "duration": 43268,
    "start_time": "2022-07-19T16:54:41.737Z"
   },
   {
    "duration": 44,
    "start_time": "2022-07-19T16:55:25.010Z"
   },
   {
    "duration": 12,
    "start_time": "2022-07-19T16:55:25.056Z"
   },
   {
    "duration": 123,
    "start_time": "2022-07-19T17:04:50.403Z"
   },
   {
    "duration": 9,
    "start_time": "2022-07-19T17:04:58.286Z"
   },
   {
    "duration": 19,
    "start_time": "2022-07-19T17:05:07.017Z"
   },
   {
    "duration": 25,
    "start_time": "2022-07-19T17:05:17.902Z"
   },
   {
    "duration": 687943,
    "start_time": "2022-07-19T17:05:45.478Z"
   },
   {
    "duration": 111876,
    "start_time": "2022-07-19T17:57:38.236Z"
   },
   {
    "duration": 680,
    "start_time": "2022-07-19T18:54:28.794Z"
   },
   {
    "duration": 26,
    "start_time": "2022-07-19T18:54:36.452Z"
   },
   {
    "duration": 6,
    "start_time": "2022-07-19T18:54:36.932Z"
   },
   {
    "duration": 3846,
    "start_time": "2022-07-20T07:20:38.416Z"
   },
   {
    "duration": 3082,
    "start_time": "2022-07-20T07:20:48.093Z"
   },
   {
    "duration": 40,
    "start_time": "2022-07-20T07:21:30.332Z"
   },
   {
    "duration": 11,
    "start_time": "2022-07-20T07:21:31.413Z"
   },
   {
    "duration": 249,
    "start_time": "2022-07-20T07:21:41.229Z"
   },
   {
    "duration": 6,
    "start_time": "2022-07-20T07:24:40.804Z"
   },
   {
    "duration": 3,
    "start_time": "2022-07-20T07:26:02.172Z"
   },
   {
    "duration": 3540,
    "start_time": "2022-07-20T07:26:05.364Z"
   },
   {
    "duration": 4,
    "start_time": "2022-07-20T07:26:34.405Z"
   },
   {
    "duration": 3,
    "start_time": "2022-07-20T07:26:53.128Z"
   },
   {
    "duration": 3,
    "start_time": "2022-07-20T07:28:03.968Z"
   },
   {
    "duration": 2,
    "start_time": "2022-07-20T07:28:04.766Z"
   },
   {
    "duration": 3,
    "start_time": "2022-07-20T07:31:30.119Z"
   },
   {
    "duration": 1466,
    "start_time": "2022-07-20T07:31:32.453Z"
   },
   {
    "duration": 629,
    "start_time": "2022-07-20T07:31:51.629Z"
   },
   {
    "duration": 3,
    "start_time": "2022-07-20T07:32:00.453Z"
   },
   {
    "duration": 126364,
    "start_time": "2022-07-20T07:32:18.493Z"
   },
   {
    "duration": 75,
    "start_time": "2022-07-20T07:34:53.803Z"
   },
   {
    "duration": 3,
    "start_time": "2022-07-20T07:34:59.019Z"
   },
   {
    "duration": 6,
    "start_time": "2022-07-20T07:35:16.588Z"
   },
   {
    "duration": 4,
    "start_time": "2022-07-20T07:36:14.405Z"
   },
   {
    "duration": 1210,
    "start_time": "2022-07-20T07:42:52.661Z"
   },
   {
    "duration": 8211,
    "start_time": "2022-07-20T07:43:30.492Z"
   },
   {
    "duration": 16,
    "start_time": "2022-07-20T07:43:56.220Z"
   },
   {
    "duration": 7,
    "start_time": "2022-07-20T07:44:09.125Z"
   },
   {
    "duration": 9,
    "start_time": "2022-07-20T07:44:49.228Z"
   },
   {
    "duration": 1706,
    "start_time": "2022-07-20T07:44:59.100Z"
   },
   {
    "duration": 1690,
    "start_time": "2022-07-20T07:45:08.739Z"
   },
   {
    "duration": 110,
    "start_time": "2022-07-20T07:48:09.668Z"
   },
   {
    "duration": 165,
    "start_time": "2022-07-20T07:49:28.820Z"
   },
   {
    "duration": 35,
    "start_time": "2022-07-20T07:55:05.915Z"
   },
   {
    "duration": 8,
    "start_time": "2022-07-20T07:56:03.108Z"
   },
   {
    "duration": 20,
    "start_time": "2022-07-20T08:01:59.990Z"
   },
   {
    "duration": 3,
    "start_time": "2022-07-20T08:02:02.781Z"
   },
   {
    "duration": 4,
    "start_time": "2022-07-20T08:02:25.940Z"
   },
   {
    "duration": 3,
    "start_time": "2022-07-20T08:02:33.301Z"
   },
   {
    "duration": 3,
    "start_time": "2022-07-20T08:03:08.723Z"
   },
   {
    "duration": 3728,
    "start_time": "2022-07-20T08:03:40.259Z"
   },
   {
    "duration": 3704,
    "start_time": "2022-07-20T08:04:20.668Z"
   },
   {
    "duration": 19838,
    "start_time": "2022-07-20T08:04:38.182Z"
   },
   {
    "duration": 1813,
    "start_time": "2022-07-20T08:05:17.652Z"
   },
   {
    "duration": 3538,
    "start_time": "2022-07-20T08:05:19.467Z"
   },
   {
    "duration": 3925,
    "start_time": "2022-07-20T08:05:34.005Z"
   },
   {
    "duration": 20478,
    "start_time": "2022-07-20T08:05:37.932Z"
   },
   {
    "duration": 86,
    "start_time": "2022-07-20T08:10:31.868Z"
   },
   {
    "duration": 33,
    "start_time": "2022-07-20T08:13:30.822Z"
   },
   {
    "duration": 9,
    "start_time": "2022-07-20T08:13:34.207Z"
   },
   {
    "duration": 13,
    "start_time": "2022-07-20T08:15:24.957Z"
   },
   {
    "duration": 3,
    "start_time": "2022-07-20T08:15:34.125Z"
   },
   {
    "duration": 10,
    "start_time": "2022-07-20T08:19:44.808Z"
   },
   {
    "duration": 19,
    "start_time": "2022-07-20T08:20:21.120Z"
   },
   {
    "duration": 14,
    "start_time": "2022-07-20T08:20:34.320Z"
   },
   {
    "duration": 4,
    "start_time": "2022-07-20T08:20:42.431Z"
   },
   {
    "duration": 7,
    "start_time": "2022-07-20T08:20:42.919Z"
   },
   {
    "duration": 13,
    "start_time": "2022-07-20T08:20:43.447Z"
   },
   {
    "duration": 1184,
    "start_time": "2022-07-20T08:20:43.854Z"
   },
   {
    "duration": 7735,
    "start_time": "2022-07-20T08:20:45.671Z"
   },
   {
    "duration": 94,
    "start_time": "2022-07-20T08:20:53.408Z"
   },
   {
    "duration": 207,
    "start_time": "2022-07-20T08:21:48.400Z"
   },
   {
    "duration": 8,
    "start_time": "2022-07-20T08:21:50.120Z"
   },
   {
    "duration": 8,
    "start_time": "2022-07-20T08:22:03.401Z"
   },
   {
    "duration": 24,
    "start_time": "2022-07-20T08:22:04.067Z"
   },
   {
    "duration": 3,
    "start_time": "2022-07-20T08:22:04.849Z"
   },
   {
    "duration": 3,
    "start_time": "2022-07-20T08:22:05.470Z"
   },
   {
    "duration": 3771,
    "start_time": "2022-07-20T08:22:06.706Z"
   },
   {
    "duration": 310,
    "start_time": "2022-07-20T08:22:21.871Z"
   },
   {
    "duration": 4,
    "start_time": "2022-07-20T08:23:21.039Z"
   },
   {
    "duration": 127073,
    "start_time": "2022-07-20T08:23:21.552Z"
   },
   {
    "duration": 3,
    "start_time": "2022-07-20T08:25:28.627Z"
   },
   {
    "duration": 16,
    "start_time": "2022-07-20T08:25:28.632Z"
   },
   {
    "duration": 8,
    "start_time": "2022-07-20T08:25:28.650Z"
   },
   {
    "duration": 1261,
    "start_time": "2022-07-20T08:25:28.660Z"
   },
   {
    "duration": 182,
    "start_time": "2022-07-20T08:25:29.922Z"
   },
   {
    "duration": 6,
    "start_time": "2022-07-20T08:25:30.106Z"
   },
   {
    "duration": 12,
    "start_time": "2022-07-20T08:25:30.113Z"
   },
   {
    "duration": 39,
    "start_time": "2022-07-20T08:25:30.126Z"
   },
   {
    "duration": 3,
    "start_time": "2022-07-20T08:25:30.168Z"
   },
   {
    "duration": 17,
    "start_time": "2022-07-20T08:25:30.172Z"
   },
   {
    "duration": 3793,
    "start_time": "2022-07-20T08:25:30.190Z"
   },
   {
    "duration": 349,
    "start_time": "2022-07-20T08:25:33.985Z"
   },
   {
    "duration": 3,
    "start_time": "2022-07-20T08:28:44.455Z"
   },
   {
    "duration": 128503,
    "start_time": "2022-07-20T08:28:45.608Z"
   },
   {
    "duration": 3,
    "start_time": "2022-07-20T08:30:54.112Z"
   },
   {
    "duration": 11,
    "start_time": "2022-07-20T08:30:54.117Z"
   },
   {
    "duration": 3,
    "start_time": "2022-07-20T08:30:54.130Z"
   },
   {
    "duration": 1356,
    "start_time": "2022-07-20T08:30:54.135Z"
   },
   {
    "duration": 211,
    "start_time": "2022-07-20T08:30:55.492Z"
   },
   {
    "duration": 6,
    "start_time": "2022-07-20T08:30:55.705Z"
   },
   {
    "duration": 9,
    "start_time": "2022-07-20T08:30:55.712Z"
   },
   {
    "duration": 25,
    "start_time": "2022-07-20T08:30:55.722Z"
   },
   {
    "duration": 3,
    "start_time": "2022-07-20T08:30:55.749Z"
   },
   {
    "duration": 9,
    "start_time": "2022-07-20T08:30:55.754Z"
   },
   {
    "duration": 3837,
    "start_time": "2022-07-20T08:30:55.765Z"
   },
   {
    "duration": 332,
    "start_time": "2022-07-20T08:30:59.604Z"
   },
   {
    "duration": 6,
    "start_time": "2022-07-20T08:31:24.847Z"
   },
   {
    "duration": 2,
    "start_time": "2022-07-20T08:31:25.512Z"
   },
   {
    "duration": 3645,
    "start_time": "2022-07-20T08:31:25.943Z"
   },
   {
    "duration": 3,
    "start_time": "2022-07-20T08:31:29.590Z"
   },
   {
    "duration": 8,
    "start_time": "2022-07-20T08:31:29.594Z"
   },
   {
    "duration": 5,
    "start_time": "2022-07-20T08:31:29.604Z"
   },
   {
    "duration": 4,
    "start_time": "2022-07-20T08:31:29.611Z"
   },
   {
    "duration": 310417,
    "start_time": "2022-07-20T08:31:29.617Z"
   },
   {
    "duration": 7,
    "start_time": "2022-07-20T08:36:40.036Z"
   },
   {
    "duration": 17,
    "start_time": "2022-07-20T08:36:40.044Z"
   },
   {
    "duration": 3,
    "start_time": "2022-07-20T08:36:40.062Z"
   },
   {
    "duration": 3048,
    "start_time": "2022-07-20T08:36:40.066Z"
   },
   {
    "duration": 229,
    "start_time": "2022-07-20T08:36:43.116Z"
   },
   {
    "duration": 6,
    "start_time": "2022-07-20T08:36:43.347Z"
   },
   {
    "duration": 48,
    "start_time": "2022-07-20T08:36:43.355Z"
   },
   {
    "duration": 51,
    "start_time": "2022-07-20T08:36:43.404Z"
   },
   {
    "duration": 3,
    "start_time": "2022-07-20T08:36:43.457Z"
   },
   {
    "duration": 5,
    "start_time": "2022-07-20T08:36:43.462Z"
   },
   {
    "duration": 9855,
    "start_time": "2022-07-20T08:36:43.468Z"
   },
   {
    "duration": 602,
    "start_time": "2022-07-20T08:36:53.324Z"
   },
   {
    "duration": 3,
    "start_time": "2022-07-20T08:45:28.978Z"
   },
   {
    "duration": 12,
    "start_time": "2022-07-20T08:45:29.304Z"
   },
   {
    "duration": 3,
    "start_time": "2022-07-20T08:45:29.567Z"
   },
   {
    "duration": 3381,
    "start_time": "2022-07-20T08:45:29.856Z"
   },
   {
    "duration": 20464,
    "start_time": "2022-07-20T08:45:33.239Z"
   },
   {
    "duration": 99,
    "start_time": "2022-07-20T08:45:53.705Z"
   },
   {
    "duration": 13,
    "start_time": "2022-07-20T08:45:53.805Z"
   },
   {
    "duration": 54,
    "start_time": "2022-07-20T08:45:53.820Z"
   },
   {
    "duration": 3,
    "start_time": "2022-07-20T08:45:53.876Z"
   },
   {
    "duration": 3,
    "start_time": "2022-07-20T08:45:54.088Z"
   },
   {
    "duration": 4832,
    "start_time": "2022-07-20T08:45:54.360Z"
   },
   {
    "duration": 18310,
    "start_time": "2022-07-20T08:45:59.194Z"
   },
   {
    "duration": 9,
    "start_time": "2022-07-20T08:46:48.135Z"
   },
   {
    "duration": 282,
    "start_time": "2022-07-20T08:47:49.626Z"
   },
   {
    "duration": 9,
    "start_time": "2022-07-20T08:47:56.885Z"
   },
   {
    "duration": 15,
    "start_time": "2022-07-20T08:48:36.047Z"
   },
   {
    "duration": 14,
    "start_time": "2022-07-20T08:48:53.015Z"
   },
   {
    "duration": 13,
    "start_time": "2022-07-20T08:49:00.735Z"
   },
   {
    "duration": 10197,
    "start_time": "2022-07-20T08:51:41.847Z"
   },
   {
    "duration": 56598,
    "start_time": "2022-07-20T08:51:52.046Z"
   },
   {
    "duration": 16,
    "start_time": "2022-07-20T08:52:53.335Z"
   },
   {
    "duration": 18378,
    "start_time": "2022-07-20T08:53:12.855Z"
   },
   {
    "duration": 79168,
    "start_time": "2022-07-20T08:53:31.234Z"
   },
   {
    "duration": 14,
    "start_time": "2022-07-20T08:54:50.403Z"
   },
   {
    "duration": 706,
    "start_time": "2022-07-20T08:55:35.169Z"
   },
   {
    "duration": 32,
    "start_time": "2022-07-20T08:55:35.877Z"
   },
   {
    "duration": 6,
    "start_time": "2022-07-20T08:55:35.910Z"
   },
   {
    "duration": 260,
    "start_time": "2022-07-20T08:55:36.176Z"
   },
   {
    "duration": 6,
    "start_time": "2022-07-20T08:55:38.939Z"
   },
   {
    "duration": 3,
    "start_time": "2022-07-20T08:55:39.328Z"
   },
   {
    "duration": 3430,
    "start_time": "2022-07-20T08:55:39.695Z"
   },
   {
    "duration": 3,
    "start_time": "2022-07-20T08:55:43.127Z"
   },
   {
    "duration": 8,
    "start_time": "2022-07-20T08:55:43.132Z"
   },
   {
    "duration": 3,
    "start_time": "2022-07-20T08:55:43.975Z"
   },
   {
    "duration": 2,
    "start_time": "2022-07-20T08:55:48.809Z"
   },
   {
    "duration": 1030171,
    "start_time": "2022-07-20T08:55:53.775Z"
   },
   {
    "duration": 12,
    "start_time": "2022-07-20T09:13:03.948Z"
   },
   {
    "duration": 42,
    "start_time": "2022-07-20T09:13:03.962Z"
   },
   {
    "duration": 4,
    "start_time": "2022-07-20T09:13:04.007Z"
   },
   {
    "duration": 10499,
    "start_time": "2022-07-20T09:13:04.013Z"
   },
   {
    "duration": 46800,
    "start_time": "2022-07-20T09:13:14.515Z"
   },
   {
    "duration": 13,
    "start_time": "2022-07-20T09:14:01.403Z"
   },
   {
    "duration": 66,
    "start_time": "2022-07-20T09:14:01.417Z"
   },
   {
    "duration": 170,
    "start_time": "2022-07-20T09:14:01.501Z"
   },
   {
    "duration": 3,
    "start_time": "2022-07-20T09:14:01.674Z"
   },
   {
    "duration": 5,
    "start_time": "2022-07-20T09:14:01.679Z"
   },
   {
    "duration": 45,
    "start_time": "2022-07-20T09:14:41.033Z"
   },
   {
    "duration": 6,
    "start_time": "2022-07-20T09:14:51.281Z"
   },
   {
    "duration": 2710,
    "start_time": "2022-07-20T09:15:25.997Z"
   },
   {
    "duration": 3152,
    "start_time": "2022-07-20T09:15:28.710Z"
   },
   {
    "duration": 26,
    "start_time": "2022-07-20T09:15:31.864Z"
   },
   {
    "duration": 10,
    "start_time": "2022-07-20T09:15:31.892Z"
   },
   {
    "duration": 254,
    "start_time": "2022-07-20T09:15:31.903Z"
   },
   {
    "duration": 7,
    "start_time": "2022-07-20T09:15:32.159Z"
   },
   {
    "duration": 4,
    "start_time": "2022-07-20T09:15:32.168Z"
   },
   {
    "duration": 3745,
    "start_time": "2022-07-20T09:15:32.174Z"
   },
   {
    "duration": 4,
    "start_time": "2022-07-20T09:15:35.921Z"
   },
   {
    "duration": 9,
    "start_time": "2022-07-20T09:15:35.926Z"
   },
   {
    "duration": 6,
    "start_time": "2022-07-20T09:15:35.937Z"
   },
   {
    "duration": 2,
    "start_time": "2022-07-20T09:15:37.052Z"
   },
   {
    "duration": 1070338,
    "start_time": "2022-07-20T09:15:38.860Z"
   },
   {
    "duration": 4,
    "start_time": "2022-07-20T09:34:05.923Z"
   },
   {
    "duration": 49,
    "start_time": "2022-07-20T09:34:44.400Z"
   },
   {
    "duration": 7,
    "start_time": "2022-07-20T09:34:46.055Z"
   },
   {
    "duration": 10850,
    "start_time": "2022-07-20T09:34:47.840Z"
   },
   {
    "duration": 50422,
    "start_time": "2022-07-20T09:34:58.692Z"
   },
   {
    "duration": 18,
    "start_time": "2022-07-20T09:35:49.115Z"
   },
   {
    "duration": 40,
    "start_time": "2022-07-20T09:36:48.840Z"
   },
   {
    "duration": 66,
    "start_time": "2022-07-20T09:37:24.578Z"
   },
   {
    "duration": 165,
    "start_time": "2022-07-20T09:37:26.698Z"
   },
   {
    "duration": 3,
    "start_time": "2022-07-20T09:37:28.917Z"
   },
   {
    "duration": 3,
    "start_time": "2022-07-20T09:37:30.982Z"
   },
   {
    "duration": 2608,
    "start_time": "2022-07-20T09:43:21.217Z"
   },
   {
    "duration": 3218,
    "start_time": "2022-07-20T09:43:23.827Z"
   },
   {
    "duration": 30,
    "start_time": "2022-07-20T09:43:27.046Z"
   },
   {
    "duration": 15,
    "start_time": "2022-07-20T09:43:27.078Z"
   },
   {
    "duration": 245,
    "start_time": "2022-07-20T09:43:27.095Z"
   },
   {
    "duration": 17,
    "start_time": "2022-07-20T09:43:27.342Z"
   },
   {
    "duration": 10,
    "start_time": "2022-07-20T09:43:27.362Z"
   },
   {
    "duration": 3815,
    "start_time": "2022-07-20T09:43:27.374Z"
   },
   {
    "duration": 3,
    "start_time": "2022-07-20T09:43:31.191Z"
   },
   {
    "duration": 18,
    "start_time": "2022-07-20T09:43:31.204Z"
   },
   {
    "duration": 12,
    "start_time": "2022-07-20T09:43:31.223Z"
   },
   {
    "duration": 18,
    "start_time": "2022-07-20T09:43:31.236Z"
   },
   {
    "duration": 1070286,
    "start_time": "2022-07-20T09:43:31.256Z"
   },
   {
    "duration": 3,
    "start_time": "2022-07-20T10:12:10.200Z"
   },
   {
    "duration": 45,
    "start_time": "2022-07-20T10:12:11.489Z"
   },
   {
    "duration": 6,
    "start_time": "2022-07-20T10:12:12.161Z"
   },
   {
    "duration": 9745,
    "start_time": "2022-07-20T10:12:12.601Z"
   },
   {
    "duration": 42656,
    "start_time": "2022-07-20T10:12:22.348Z"
   },
   {
    "duration": 17,
    "start_time": "2022-07-20T10:13:05.006Z"
   },
   {
    "duration": 113,
    "start_time": "2022-07-20T10:13:05.025Z"
   },
   {
    "duration": 77,
    "start_time": "2022-07-20T10:13:05.140Z"
   },
   {
    "duration": 32,
    "start_time": "2022-07-20T10:14:02.454Z"
   },
   {
    "duration": 170,
    "start_time": "2022-07-20T10:14:06.572Z"
   },
   {
    "duration": 2,
    "start_time": "2022-07-20T10:14:10.168Z"
   },
   {
    "duration": 6,
    "start_time": "2022-07-20T10:14:22.296Z"
   },
   {
    "duration": 5,
    "start_time": "2022-07-20T10:14:31.470Z"
   },
   {
    "duration": 12,
    "start_time": "2022-07-20T10:15:04.554Z"
   },
   {
    "duration": 13,
    "start_time": "2022-07-20T10:16:44.135Z"
   },
   {
    "duration": 2606,
    "start_time": "2022-07-20T10:32:21.498Z"
   },
   {
    "duration": 3020,
    "start_time": "2022-07-20T10:32:24.106Z"
   },
   {
    "duration": 31,
    "start_time": "2022-07-20T10:32:27.127Z"
   },
   {
    "duration": 9,
    "start_time": "2022-07-20T10:32:27.159Z"
   },
   {
    "duration": 269,
    "start_time": "2022-07-20T10:32:27.171Z"
   },
   {
    "duration": 6,
    "start_time": "2022-07-20T10:32:27.443Z"
   },
   {
    "duration": 15,
    "start_time": "2022-07-20T10:32:27.451Z"
   },
   {
    "duration": 3548,
    "start_time": "2022-07-20T10:32:27.468Z"
   },
   {
    "duration": 3,
    "start_time": "2022-07-20T10:32:31.018Z"
   },
   {
    "duration": 23,
    "start_time": "2022-07-20T10:32:31.023Z"
   },
   {
    "duration": 17,
    "start_time": "2022-07-20T10:32:31.048Z"
   },
   {
    "duration": 13,
    "start_time": "2022-07-20T10:32:31.067Z"
   },
   {
    "duration": 19,
    "start_time": "2022-07-20T10:32:31.082Z"
   },
   {
    "duration": 109,
    "start_time": "2022-07-20T10:32:35.994Z"
   },
   {
    "duration": 2649,
    "start_time": "2022-07-20T10:32:42.467Z"
   },
   {
    "duration": 2872,
    "start_time": "2022-07-20T10:34:31.228Z"
   },
   {
    "duration": 4728,
    "start_time": "2022-07-20T12:06:01.300Z"
   },
   {
    "duration": 3148,
    "start_time": "2022-07-20T12:06:06.031Z"
   },
   {
    "duration": 25,
    "start_time": "2022-07-20T12:06:09.180Z"
   },
   {
    "duration": 8,
    "start_time": "2022-07-20T12:06:09.207Z"
   },
   {
    "duration": 244,
    "start_time": "2022-07-20T12:06:09.217Z"
   },
   {
    "duration": 7,
    "start_time": "2022-07-20T12:06:09.463Z"
   },
   {
    "duration": 13,
    "start_time": "2022-07-20T12:06:09.472Z"
   },
   {
    "duration": 3428,
    "start_time": "2022-07-20T12:06:09.487Z"
   },
   {
    "duration": 4,
    "start_time": "2022-07-20T12:06:12.916Z"
   },
   {
    "duration": 7,
    "start_time": "2022-07-20T12:06:12.922Z"
   },
   {
    "duration": 5,
    "start_time": "2022-07-20T12:06:12.930Z"
   },
   {
    "duration": 5,
    "start_time": "2022-07-20T12:06:12.936Z"
   },
   {
    "duration": 6,
    "start_time": "2022-07-20T12:06:12.942Z"
   },
   {
    "duration": 4209,
    "start_time": "2022-07-20T12:06:12.949Z"
   },
   {
    "duration": 2,
    "start_time": "2022-07-20T12:06:22.051Z"
   },
   {
    "duration": 10,
    "start_time": "2022-07-20T12:06:27.092Z"
   },
   {
    "duration": 2,
    "start_time": "2022-07-20T12:07:05.155Z"
   },
   {
    "duration": 2,
    "start_time": "2022-07-20T12:09:27.371Z"
   },
   {
    "duration": 313127,
    "start_time": "2022-07-20T12:09:28.050Z"
   },
   {
    "duration": 2,
    "start_time": "2022-07-20T12:14:45.263Z"
   },
   {
    "duration": 12,
    "start_time": "2022-07-20T12:14:46.564Z"
   },
   {
    "duration": 3,
    "start_time": "2022-07-20T12:14:53.471Z"
   },
   {
    "duration": 11,
    "start_time": "2022-07-20T12:14:54.335Z"
   },
   {
    "duration": 5,
    "start_time": "2022-07-20T12:14:54.882Z"
   },
   {
    "duration": 3122,
    "start_time": "2022-07-20T12:14:55.375Z"
   },
   {
    "duration": 22105,
    "start_time": "2022-07-20T12:14:58.500Z"
   },
   {
    "duration": 95,
    "start_time": "2022-07-20T12:15:20.607Z"
   },
   {
    "duration": 22,
    "start_time": "2022-07-20T12:15:20.704Z"
   },
   {
    "duration": 17,
    "start_time": "2022-07-20T12:15:44.858Z"
   },
   {
    "duration": 3,
    "start_time": "2022-07-20T12:15:57.193Z"
   },
   {
    "duration": 35,
    "start_time": "2022-07-20T12:15:59.203Z"
   },
   {
    "duration": 3,
    "start_time": "2022-07-20T12:16:00.954Z"
   },
   {
    "duration": 3,
    "start_time": "2022-07-20T12:16:03.252Z"
   },
   {
    "duration": 9,
    "start_time": "2022-07-20T12:16:04.753Z"
   },
   {
    "duration": 6693,
    "start_time": "2022-07-20T12:16:05.506Z"
   },
   {
    "duration": 1261,
    "start_time": "2022-07-20T12:16:13.305Z"
   },
   {
    "duration": 49675,
    "start_time": "2022-07-20T12:16:14.753Z"
   },
   {
    "duration": 18,
    "start_time": "2022-07-20T12:17:04.430Z"
   },
   {
    "duration": 415,
    "start_time": "2022-07-20T12:17:37.068Z"
   },
   {
    "duration": 18,
    "start_time": "2022-07-20T12:17:42.171Z"
   },
   {
    "duration": 2,
    "start_time": "2022-07-20T12:18:14.226Z"
   },
   {
    "duration": 37,
    "start_time": "2022-07-20T12:18:15.339Z"
   },
   {
    "duration": 4,
    "start_time": "2022-07-20T12:18:16.474Z"
   },
   {
    "duration": 3,
    "start_time": "2022-07-20T12:18:26.538Z"
   },
   {
    "duration": 50,
    "start_time": "2022-07-20T12:18:55.351Z"
   },
   {
    "duration": 6,
    "start_time": "2022-07-20T12:19:08.150Z"
   },
   {
    "duration": 3,
    "start_time": "2022-07-20T12:19:15.334Z"
   },
   {
    "duration": 75,
    "start_time": "2022-07-20T12:19:17.038Z"
   },
   {
    "duration": 7010,
    "start_time": "2022-07-20T12:19:18.374Z"
   },
   {
    "duration": 1293,
    "start_time": "2022-07-20T12:19:26.646Z"
   },
   {
    "duration": 497,
    "start_time": "2022-07-20T12:19:28.535Z"
   },
   {
    "duration": 19,
    "start_time": "2022-07-20T12:19:31.774Z"
   },
   {
    "duration": 39715,
    "start_time": "2022-07-20T12:19:56.014Z"
   },
   {
    "duration": 19,
    "start_time": "2022-07-20T12:20:35.731Z"
   },
   {
    "duration": 2,
    "start_time": "2022-07-20T12:21:00.226Z"
   },
   {
    "duration": 39,
    "start_time": "2022-07-20T12:21:00.708Z"
   },
   {
    "duration": 4,
    "start_time": "2022-07-20T12:21:02.306Z"
   },
   {
    "duration": 5,
    "start_time": "2022-07-20T12:21:03.609Z"
   },
   {
    "duration": 4,
    "start_time": "2022-07-20T12:21:05.066Z"
   },
   {
    "duration": 85,
    "start_time": "2022-07-20T12:21:05.787Z"
   },
   {
    "duration": 7580,
    "start_time": "2022-07-20T12:21:06.137Z"
   },
   {
    "duration": 1210,
    "start_time": "2022-07-20T12:21:13.719Z"
   },
   {
    "duration": 27998,
    "start_time": "2022-07-20T12:21:14.931Z"
   },
   {
    "duration": 24,
    "start_time": "2022-07-20T12:21:47.550Z"
   },
   {
    "duration": 3,
    "start_time": "2022-07-20T12:22:07.978Z"
   },
   {
    "duration": 45,
    "start_time": "2022-07-20T12:22:08.353Z"
   },
   {
    "duration": 4,
    "start_time": "2022-07-20T12:22:08.785Z"
   },
   {
    "duration": 7,
    "start_time": "2022-07-20T12:22:09.787Z"
   },
   {
    "duration": 3,
    "start_time": "2022-07-20T12:22:10.386Z"
   },
   {
    "duration": 70,
    "start_time": "2022-07-20T12:22:11.290Z"
   },
   {
    "duration": 8468,
    "start_time": "2022-07-20T12:22:11.849Z"
   },
   {
    "duration": 1230,
    "start_time": "2022-07-20T12:22:20.319Z"
   },
   {
    "duration": 73994,
    "start_time": "2022-07-20T12:22:21.551Z"
   },
   {
    "duration": 22,
    "start_time": "2022-07-20T12:23:35.548Z"
   },
   {
    "duration": 665,
    "start_time": "2022-07-20T12:24:17.188Z"
   },
   {
    "duration": 20,
    "start_time": "2022-07-20T12:24:19.660Z"
   },
   {
    "duration": 642,
    "start_time": "2022-07-20T12:25:41.655Z"
   },
   {
    "duration": 5,
    "start_time": "2022-07-20T12:25:47.714Z"
   },
   {
    "duration": 3,
    "start_time": "2022-07-20T12:25:48.033Z"
   },
   {
    "duration": 3469,
    "start_time": "2022-07-20T12:25:48.389Z"
   },
   {
    "duration": 3,
    "start_time": "2022-07-20T12:25:51.860Z"
   },
   {
    "duration": 10,
    "start_time": "2022-07-20T12:25:51.864Z"
   },
   {
    "duration": 4,
    "start_time": "2022-07-20T12:25:51.876Z"
   },
   {
    "duration": 3,
    "start_time": "2022-07-20T12:25:58.756Z"
   },
   {
    "duration": 1010869,
    "start_time": "2022-07-20T12:26:00.353Z"
   },
   {
    "duration": 11,
    "start_time": "2022-07-20T12:43:53.836Z"
   },
   {
    "duration": 4,
    "start_time": "2022-07-20T12:43:58.069Z"
   },
   {
    "duration": 34,
    "start_time": "2022-07-20T12:43:59.917Z"
   },
   {
    "duration": 3,
    "start_time": "2022-07-20T12:44:01.796Z"
   },
   {
    "duration": 9636,
    "start_time": "2022-07-20T12:44:04.372Z"
   },
   {
    "duration": 42899,
    "start_time": "2022-07-20T12:44:14.010Z"
   },
   {
    "duration": 21,
    "start_time": "2022-07-20T12:44:56.911Z"
   },
   {
    "duration": 83,
    "start_time": "2022-07-20T12:45:35.419Z"
   },
   {
    "duration": 3,
    "start_time": "2022-07-20T12:45:41.849Z"
   },
   {
    "duration": 130,
    "start_time": "2022-07-20T12:45:45.354Z"
   },
   {
    "duration": 3,
    "start_time": "2022-07-20T12:45:49.351Z"
   },
   {
    "duration": 7,
    "start_time": "2022-07-20T12:45:51.386Z"
   },
   {
    "duration": 17,
    "start_time": "2022-07-20T12:46:07.553Z"
   },
   {
    "duration": 461,
    "start_time": "2022-07-20T12:46:13.449Z"
   },
   {
    "duration": 43,
    "start_time": "2022-07-20T12:47:02.331Z"
   },
   {
    "duration": 2448,
    "start_time": "2022-07-20T12:49:35.475Z"
   },
   {
    "duration": 3471,
    "start_time": "2022-07-20T12:49:37.925Z"
   },
   {
    "duration": 29,
    "start_time": "2022-07-20T12:49:41.398Z"
   },
   {
    "duration": 12,
    "start_time": "2022-07-20T12:49:41.428Z"
   },
   {
    "duration": 240,
    "start_time": "2022-07-20T12:49:41.441Z"
   },
   {
    "duration": 5,
    "start_time": "2022-07-20T12:49:41.682Z"
   },
   {
    "duration": 6,
    "start_time": "2022-07-20T12:49:41.689Z"
   },
   {
    "duration": 3446,
    "start_time": "2022-07-20T12:49:42.199Z"
   },
   {
    "duration": 3,
    "start_time": "2022-07-20T12:49:45.647Z"
   },
   {
    "duration": 5,
    "start_time": "2022-07-20T12:49:45.652Z"
   },
   {
    "duration": 5,
    "start_time": "2022-07-20T12:49:45.658Z"
   },
   {
    "duration": 5,
    "start_time": "2022-07-20T12:49:45.665Z"
   },
   {
    "duration": 3,
    "start_time": "2022-07-20T13:02:00.491Z"
   },
   {
    "duration": 1826,
    "start_time": "2022-07-20T13:02:20.729Z"
   },
   {
    "duration": 702,
    "start_time": "2022-07-20T13:02:22.557Z"
   },
   {
    "duration": 30,
    "start_time": "2022-07-20T13:02:23.260Z"
   },
   {
    "duration": 9,
    "start_time": "2022-07-20T13:02:23.301Z"
   },
   {
    "duration": 273,
    "start_time": "2022-07-20T13:02:23.312Z"
   },
   {
    "duration": 6,
    "start_time": "2022-07-20T13:02:23.586Z"
   },
   {
    "duration": 9,
    "start_time": "2022-07-20T13:02:23.594Z"
   },
   {
    "duration": 3532,
    "start_time": "2022-07-20T13:02:23.604Z"
   },
   {
    "duration": 4,
    "start_time": "2022-07-20T13:02:27.139Z"
   },
   {
    "duration": 8,
    "start_time": "2022-07-20T13:02:27.144Z"
   },
   {
    "duration": 4,
    "start_time": "2022-07-20T13:02:27.154Z"
   },
   {
    "duration": 14,
    "start_time": "2022-07-20T13:02:27.160Z"
   },
   {
    "duration": 190910,
    "start_time": "2022-07-20T13:02:27.176Z"
   },
   {
    "duration": 2,
    "start_time": "2022-07-20T13:07:02.852Z"
   },
   {
    "duration": 8,
    "start_time": "2022-07-20T13:07:04.091Z"
   },
   {
    "duration": 10,
    "start_time": "2022-07-20T13:07:04.972Z"
   },
   {
    "duration": 1747,
    "start_time": "2022-07-20T13:07:15.015Z"
   },
   {
    "duration": 8654,
    "start_time": "2022-07-20T13:07:19.349Z"
   },
   {
    "duration": 9,
    "start_time": "2022-07-20T13:07:31.564Z"
   },
   {
    "duration": 18,
    "start_time": "2022-07-20T13:07:34.014Z"
   },
   {
    "duration": 4119,
    "start_time": "2022-07-20T13:07:45.253Z"
   },
   {
    "duration": 26719,
    "start_time": "2022-07-20T13:07:49.812Z"
   },
   {
    "duration": 9,
    "start_time": "2022-07-20T13:08:16.533Z"
   },
   {
    "duration": 75,
    "start_time": "2022-07-20T13:08:16.543Z"
   },
   {
    "duration": 27512,
    "start_time": "2022-07-20T13:08:44.291Z"
   },
   {
    "duration": 8,
    "start_time": "2022-07-20T13:09:11.805Z"
   },
   {
    "duration": 14,
    "start_time": "2022-07-20T13:09:11.814Z"
   },
   {
    "duration": 27229,
    "start_time": "2022-07-20T13:09:58.301Z"
   },
   {
    "duration": 7,
    "start_time": "2022-07-20T13:10:25.532Z"
   },
   {
    "duration": 76,
    "start_time": "2022-07-20T13:10:25.541Z"
   },
   {
    "duration": 43450,
    "start_time": "2022-07-20T13:10:37.965Z"
   },
   {
    "duration": 10,
    "start_time": "2022-07-20T13:11:21.417Z"
   },
   {
    "duration": 14,
    "start_time": "2022-07-20T13:11:21.428Z"
   },
   {
    "duration": 11036,
    "start_time": "2022-07-20T13:12:25.569Z"
   },
   {
    "duration": 9,
    "start_time": "2022-07-20T13:12:36.607Z"
   },
   {
    "duration": 13,
    "start_time": "2022-07-20T13:12:36.618Z"
   },
   {
    "duration": 47220,
    "start_time": "2022-07-20T13:13:47.883Z"
   },
   {
    "duration": 9,
    "start_time": "2022-07-20T13:14:35.105Z"
   },
   {
    "duration": 17,
    "start_time": "2022-07-20T13:14:35.116Z"
   },
   {
    "duration": 8,
    "start_time": "2022-07-20T13:17:33.169Z"
   },
   {
    "duration": 123,
    "start_time": "2022-07-20T13:18:24.362Z"
   },
   {
    "duration": 9,
    "start_time": "2022-07-20T13:18:42.676Z"
   },
   {
    "duration": 103909,
    "start_time": "2022-07-20T13:20:55.221Z"
   },
   {
    "duration": 1749,
    "start_time": "2022-07-20T13:23:12.565Z"
   },
   {
    "duration": 726,
    "start_time": "2022-07-20T13:23:14.316Z"
   },
   {
    "duration": 43,
    "start_time": "2022-07-20T13:23:15.043Z"
   },
   {
    "duration": 8,
    "start_time": "2022-07-20T13:23:15.088Z"
   },
   {
    "duration": 254,
    "start_time": "2022-07-20T13:23:15.098Z"
   },
   {
    "duration": 5,
    "start_time": "2022-07-20T13:23:15.353Z"
   },
   {
    "duration": 7,
    "start_time": "2022-07-20T13:23:15.360Z"
   },
   {
    "duration": 3597,
    "start_time": "2022-07-20T13:23:15.369Z"
   },
   {
    "duration": 5,
    "start_time": "2022-07-20T13:23:18.968Z"
   },
   {
    "duration": 18,
    "start_time": "2022-07-20T13:23:18.975Z"
   },
   {
    "duration": 22,
    "start_time": "2022-07-20T13:23:18.995Z"
   },
   {
    "duration": 20,
    "start_time": "2022-07-20T13:23:19.019Z"
   },
   {
    "duration": 313427,
    "start_time": "2022-07-20T13:23:19.041Z"
   },
   {
    "duration": 3,
    "start_time": "2022-07-20T13:29:24.124Z"
   },
   {
    "duration": 11,
    "start_time": "2022-07-20T13:29:26.314Z"
   },
   {
    "duration": 5,
    "start_time": "2022-07-20T13:29:27.691Z"
   },
   {
    "duration": 3127,
    "start_time": "2022-07-20T13:29:35.475Z"
   },
   {
    "duration": 11889,
    "start_time": "2022-07-20T13:29:48.323Z"
   },
   {
    "duration": 94,
    "start_time": "2022-07-20T13:30:00.215Z"
   },
   {
    "duration": 23,
    "start_time": "2022-07-20T13:30:00.311Z"
   },
   {
    "duration": 16230,
    "start_time": "2022-07-20T13:30:23.873Z"
   },
   {
    "duration": 10,
    "start_time": "2022-07-20T13:30:40.106Z"
   },
   {
    "duration": 98,
    "start_time": "2022-07-20T13:30:40.117Z"
   },
   {
    "duration": 24806,
    "start_time": "2022-07-20T13:30:56.997Z"
   },
   {
    "duration": 97,
    "start_time": "2022-07-20T13:31:21.809Z"
   },
   {
    "duration": 25403,
    "start_time": "2022-07-20T13:31:39.000Z"
   },
   {
    "duration": 9,
    "start_time": "2022-07-20T13:32:04.405Z"
   },
   {
    "duration": 24443,
    "start_time": "2022-07-20T13:32:16.761Z"
   },
   {
    "duration": 10,
    "start_time": "2022-07-20T13:32:41.206Z"
   },
   {
    "duration": 21699,
    "start_time": "2022-07-20T13:32:52.905Z"
   },
   {
    "duration": 94,
    "start_time": "2022-07-20T13:33:14.609Z"
   },
   {
    "duration": 16546,
    "start_time": "2022-07-20T13:33:24.357Z"
   },
   {
    "duration": 95,
    "start_time": "2022-07-20T13:33:40.910Z"
   },
   {
    "duration": 16,
    "start_time": "2022-07-20T13:33:54.167Z"
   },
   {
    "duration": 25503,
    "start_time": "2022-07-20T13:33:59.608Z"
   },
   {
    "duration": 96,
    "start_time": "2022-07-20T13:34:25.114Z"
   },
   {
    "duration": 103,
    "start_time": "2022-07-20T13:34:25.216Z"
   },
   {
    "duration": 7460,
    "start_time": "2022-07-20T13:34:34.282Z"
   },
   {
    "duration": 68428,
    "start_time": "2022-07-20T13:34:43.899Z"
   },
   {
    "duration": 12,
    "start_time": "2022-07-20T13:35:52.329Z"
   },
   {
    "duration": 18,
    "start_time": "2022-07-20T13:36:13.192Z"
   },
   {
    "duration": 12915,
    "start_time": "2022-07-20T13:36:36.332Z"
   },
   {
    "duration": 111522,
    "start_time": "2022-07-20T13:36:49.249Z"
   },
   {
    "duration": 12,
    "start_time": "2022-07-20T13:38:40.772Z"
   },
   {
    "duration": 36,
    "start_time": "2022-07-20T13:38:40.786Z"
   },
   {
    "duration": 7619,
    "start_time": "2022-07-20T13:38:55.090Z"
   },
   {
    "duration": 74232,
    "start_time": "2022-07-20T13:39:02.711Z"
   },
   {
    "duration": 10,
    "start_time": "2022-07-20T13:40:16.944Z"
   },
   {
    "duration": 48,
    "start_time": "2022-07-20T13:40:16.956Z"
   },
   {
    "duration": 69754,
    "start_time": "2022-07-20T13:40:33.174Z"
   },
   {
    "duration": 11,
    "start_time": "2022-07-20T13:41:42.929Z"
   },
   {
    "duration": 78,
    "start_time": "2022-07-20T13:41:42.942Z"
   },
   {
    "duration": 71972,
    "start_time": "2022-07-20T13:41:51.652Z"
   },
   {
    "duration": 10,
    "start_time": "2022-07-20T13:43:03.626Z"
   },
   {
    "duration": 26,
    "start_time": "2022-07-20T13:43:03.638Z"
   },
   {
    "duration": 69997,
    "start_time": "2022-07-20T13:44:22.033Z"
   },
   {
    "duration": 11,
    "start_time": "2022-07-20T13:45:32.033Z"
   },
   {
    "duration": 19,
    "start_time": "2022-07-20T13:45:35.932Z"
   },
   {
    "duration": 5,
    "start_time": "2022-07-20T13:48:20.790Z"
   },
   {
    "duration": 110,
    "start_time": "2022-07-20T13:49:13.109Z"
   },
   {
    "duration": 3,
    "start_time": "2022-07-20T13:49:18.767Z"
   },
   {
    "duration": 4825,
    "start_time": "2022-07-20T15:38:17.795Z"
   },
   {
    "duration": 3272,
    "start_time": "2022-07-20T15:38:26.608Z"
   },
   {
    "duration": 35,
    "start_time": "2022-07-20T15:38:29.882Z"
   },
   {
    "duration": 11,
    "start_time": "2022-07-20T15:38:29.919Z"
   },
   {
    "duration": 296,
    "start_time": "2022-07-20T15:38:30.253Z"
   },
   {
    "duration": 8,
    "start_time": "2022-07-20T15:38:37.051Z"
   },
   {
    "duration": 3,
    "start_time": "2022-07-20T15:38:37.654Z"
   },
   {
    "duration": 4522,
    "start_time": "2022-07-20T15:38:38.094Z"
   },
   {
    "duration": 4,
    "start_time": "2022-07-20T15:38:42.618Z"
   },
   {
    "duration": 28,
    "start_time": "2022-07-20T15:38:42.624Z"
   },
   {
    "duration": 3,
    "start_time": "2022-07-20T15:38:43.201Z"
   },
   {
    "duration": 3,
    "start_time": "2022-07-20T15:38:51.780Z"
   },
   {
    "duration": 1237295,
    "start_time": "2022-07-20T15:38:53.424Z"
   },
   {
    "duration": 4,
    "start_time": "2022-07-20T16:01:23.256Z"
   },
   {
    "duration": 41,
    "start_time": "2022-07-20T16:01:25.365Z"
   },
   {
    "duration": 4,
    "start_time": "2022-07-20T16:01:26.587Z"
   },
   {
    "duration": 28879,
    "start_time": "2022-07-20T16:01:28.854Z"
   },
   {
    "duration": 124919,
    "start_time": "2022-07-20T16:02:04.557Z"
   },
   {
    "duration": 30,
    "start_time": "2022-07-20T16:05:11.184Z"
   },
   {
    "duration": 71,
    "start_time": "2022-07-20T16:05:17.524Z"
   },
   {
    "duration": 139,
    "start_time": "2022-07-20T16:23:59.815Z"
   },
   {
    "duration": 1553,
    "start_time": "2022-07-20T16:24:06.904Z"
   },
   {
    "duration": 30,
    "start_time": "2022-07-20T16:24:13.668Z"
   },
   {
    "duration": 77,
    "start_time": "2022-07-20T16:24:15.626Z"
   },
   {
    "duration": 100,
    "start_time": "2022-07-20T16:24:27.458Z"
   },
   {
    "duration": 1875,
    "start_time": "2022-07-20T16:33:16.955Z"
   },
   {
    "duration": 906,
    "start_time": "2022-07-20T16:33:18.833Z"
   },
   {
    "duration": 34,
    "start_time": "2022-07-20T16:33:19.741Z"
   },
   {
    "duration": 10,
    "start_time": "2022-07-20T16:33:19.778Z"
   },
   {
    "duration": 300,
    "start_time": "2022-07-20T16:33:19.790Z"
   },
   {
    "duration": 20,
    "start_time": "2022-07-20T16:33:20.092Z"
   },
   {
    "duration": 5,
    "start_time": "2022-07-20T16:33:20.114Z"
   },
   {
    "duration": 4557,
    "start_time": "2022-07-20T16:33:20.121Z"
   },
   {
    "duration": 4,
    "start_time": "2022-07-20T16:33:24.680Z"
   },
   {
    "duration": 7,
    "start_time": "2022-07-20T16:33:24.687Z"
   },
   {
    "duration": 4,
    "start_time": "2022-07-20T16:33:24.696Z"
   },
   {
    "duration": 4,
    "start_time": "2022-07-20T16:33:24.711Z"
   },
   {
    "duration": 73647,
    "start_time": "2022-07-20T16:33:24.717Z"
   },
   {
    "duration": 1944,
    "start_time": "2022-07-20T16:34:43.189Z"
   },
   {
    "duration": 955,
    "start_time": "2022-07-20T16:34:45.136Z"
   },
   {
    "duration": 35,
    "start_time": "2022-07-20T16:34:46.092Z"
   },
   {
    "duration": 10,
    "start_time": "2022-07-20T16:34:46.129Z"
   },
   {
    "duration": 338,
    "start_time": "2022-07-20T16:34:46.140Z"
   },
   {
    "duration": 6,
    "start_time": "2022-07-20T16:34:46.480Z"
   },
   {
    "duration": 7,
    "start_time": "2022-07-20T16:34:46.488Z"
   },
   {
    "duration": 4421,
    "start_time": "2022-07-20T16:34:46.511Z"
   },
   {
    "duration": 4,
    "start_time": "2022-07-20T16:34:50.934Z"
   },
   {
    "duration": 11,
    "start_time": "2022-07-20T16:34:50.942Z"
   },
   {
    "duration": 8,
    "start_time": "2022-07-20T16:34:50.955Z"
   },
   {
    "duration": 5,
    "start_time": "2022-07-20T16:34:50.966Z"
   },
   {
    "duration": 1246027,
    "start_time": "2022-07-20T16:34:50.972Z"
   },
   {
    "duration": 9,
    "start_time": "2022-07-20T16:55:37.001Z"
   },
   {
    "duration": 42,
    "start_time": "2022-07-20T16:55:37.012Z"
   },
   {
    "duration": 4,
    "start_time": "2022-07-20T16:55:37.055Z"
   },
   {
    "duration": 29802,
    "start_time": "2022-07-20T16:55:37.061Z"
   },
   {
    "duration": 125771,
    "start_time": "2022-07-20T16:56:06.865Z"
   },
   {
    "duration": 30,
    "start_time": "2022-07-20T16:58:12.638Z"
   },
   {
    "duration": 84,
    "start_time": "2022-07-20T16:58:12.669Z"
   },
   {
    "duration": 1559,
    "start_time": "2022-07-20T16:58:12.755Z"
   },
   {
    "duration": 210,
    "start_time": "2022-07-20T16:58:14.316Z"
   },
   {
    "duration": 88,
    "start_time": "2022-07-20T16:58:14.527Z"
   },
   {
    "duration": 4,
    "start_time": "2022-07-20T16:58:14.616Z"
   },
   {
    "duration": 5697,
    "start_time": "2022-07-21T04:11:20.920Z"
   },
   {
    "duration": 2831,
    "start_time": "2022-07-21T04:11:26.620Z"
   },
   {
    "duration": 50,
    "start_time": "2022-07-21T04:11:29.453Z"
   },
   {
    "duration": 14,
    "start_time": "2022-07-21T04:11:29.505Z"
   },
   {
    "duration": 281,
    "start_time": "2022-07-21T04:11:29.521Z"
   },
   {
    "duration": 7,
    "start_time": "2022-07-21T04:11:29.804Z"
   },
   {
    "duration": 12,
    "start_time": "2022-07-21T04:11:29.813Z"
   },
   {
    "duration": 4472,
    "start_time": "2022-07-21T04:11:29.827Z"
   },
   {
    "duration": 5,
    "start_time": "2022-07-21T04:11:34.300Z"
   },
   {
    "duration": 33,
    "start_time": "2022-07-21T04:11:34.308Z"
   },
   {
    "duration": 7,
    "start_time": "2022-07-21T04:11:34.344Z"
   },
   {
    "duration": 6,
    "start_time": "2022-07-21T04:11:34.352Z"
   },
   {
    "duration": 28,
    "start_time": "2022-07-21T04:11:34.359Z"
   },
   {
    "duration": 0,
    "start_time": "2022-07-21T04:11:34.389Z"
   },
   {
    "duration": 0,
    "start_time": "2022-07-21T04:11:34.465Z"
   },
   {
    "duration": 0,
    "start_time": "2022-07-21T04:11:34.466Z"
   },
   {
    "duration": 0,
    "start_time": "2022-07-21T04:11:34.466Z"
   },
   {
    "duration": 0,
    "start_time": "2022-07-21T04:11:34.467Z"
   },
   {
    "duration": 0,
    "start_time": "2022-07-21T04:11:34.467Z"
   },
   {
    "duration": 0,
    "start_time": "2022-07-21T04:11:34.475Z"
   },
   {
    "duration": 0,
    "start_time": "2022-07-21T04:11:34.476Z"
   },
   {
    "duration": 0,
    "start_time": "2022-07-21T04:11:34.478Z"
   },
   {
    "duration": 0,
    "start_time": "2022-07-21T04:11:34.479Z"
   },
   {
    "duration": 0,
    "start_time": "2022-07-21T04:11:34.481Z"
   },
   {
    "duration": 2095,
    "start_time": "2022-07-21T04:19:05.360Z"
   },
   {
    "duration": 817,
    "start_time": "2022-07-21T04:19:07.460Z"
   },
   {
    "duration": 29,
    "start_time": "2022-07-21T04:19:08.279Z"
   },
   {
    "duration": 8,
    "start_time": "2022-07-21T04:19:08.309Z"
   },
   {
    "duration": 267,
    "start_time": "2022-07-21T04:19:08.319Z"
   },
   {
    "duration": 5,
    "start_time": "2022-07-21T04:19:08.588Z"
   },
   {
    "duration": 7,
    "start_time": "2022-07-21T04:19:08.595Z"
   },
   {
    "duration": 4065,
    "start_time": "2022-07-21T04:19:08.603Z"
   },
   {
    "duration": 4,
    "start_time": "2022-07-21T04:19:12.669Z"
   },
   {
    "duration": 9,
    "start_time": "2022-07-21T04:19:12.675Z"
   },
   {
    "duration": 7,
    "start_time": "2022-07-21T04:19:12.685Z"
   },
   {
    "duration": 12,
    "start_time": "2022-07-21T04:19:12.693Z"
   },
   {
    "duration": 23,
    "start_time": "2022-07-21T04:19:12.706Z"
   },
   {
    "duration": 0,
    "start_time": "2022-07-21T04:19:12.731Z"
   },
   {
    "duration": 0,
    "start_time": "2022-07-21T04:19:12.733Z"
   },
   {
    "duration": 0,
    "start_time": "2022-07-21T04:19:12.734Z"
   },
   {
    "duration": 0,
    "start_time": "2022-07-21T04:19:12.735Z"
   },
   {
    "duration": 0,
    "start_time": "2022-07-21T04:19:12.737Z"
   },
   {
    "duration": 0,
    "start_time": "2022-07-21T04:19:12.738Z"
   },
   {
    "duration": 0,
    "start_time": "2022-07-21T04:19:12.739Z"
   },
   {
    "duration": 0,
    "start_time": "2022-07-21T04:19:12.740Z"
   },
   {
    "duration": 0,
    "start_time": "2022-07-21T04:19:12.743Z"
   },
   {
    "duration": 0,
    "start_time": "2022-07-21T04:19:12.744Z"
   },
   {
    "duration": 0,
    "start_time": "2022-07-21T04:19:12.746Z"
   },
   {
    "duration": 0,
    "start_time": "2022-07-21T04:19:12.760Z"
   },
   {
    "duration": 11,
    "start_time": "2022-07-21T04:19:29.000Z"
   },
   {
    "duration": 7,
    "start_time": "2022-07-21T04:21:28.660Z"
   },
   {
    "duration": 34,
    "start_time": "2022-07-21T04:21:31.765Z"
   },
   {
    "duration": 2075,
    "start_time": "2022-07-21T04:30:48.000Z"
   },
   {
    "duration": 853,
    "start_time": "2022-07-21T04:30:50.077Z"
   },
   {
    "duration": 37,
    "start_time": "2022-07-21T04:30:50.932Z"
   },
   {
    "duration": 11,
    "start_time": "2022-07-21T04:30:50.970Z"
   },
   {
    "duration": 278,
    "start_time": "2022-07-21T04:30:50.983Z"
   },
   {
    "duration": 7,
    "start_time": "2022-07-21T04:30:51.262Z"
   },
   {
    "duration": 18,
    "start_time": "2022-07-21T04:30:51.271Z"
   },
   {
    "duration": 3845,
    "start_time": "2022-07-21T04:30:51.291Z"
   },
   {
    "duration": 4,
    "start_time": "2022-07-21T04:30:55.141Z"
   },
   {
    "duration": 15,
    "start_time": "2022-07-21T04:30:55.147Z"
   },
   {
    "duration": 173,
    "start_time": "2022-07-21T04:30:55.165Z"
   },
   {
    "duration": 0,
    "start_time": "2022-07-21T04:30:55.340Z"
   },
   {
    "duration": 0,
    "start_time": "2022-07-21T04:30:55.342Z"
   },
   {
    "duration": 0,
    "start_time": "2022-07-21T04:30:55.343Z"
   },
   {
    "duration": 0,
    "start_time": "2022-07-21T04:30:55.345Z"
   },
   {
    "duration": 0,
    "start_time": "2022-07-21T04:30:55.346Z"
   },
   {
    "duration": 0,
    "start_time": "2022-07-21T04:30:55.361Z"
   },
   {
    "duration": 0,
    "start_time": "2022-07-21T04:30:55.363Z"
   },
   {
    "duration": 0,
    "start_time": "2022-07-21T04:30:55.364Z"
   },
   {
    "duration": 0,
    "start_time": "2022-07-21T04:30:55.366Z"
   },
   {
    "duration": 0,
    "start_time": "2022-07-21T04:30:55.367Z"
   },
   {
    "duration": 0,
    "start_time": "2022-07-21T04:30:55.368Z"
   },
   {
    "duration": 0,
    "start_time": "2022-07-21T04:30:55.370Z"
   },
   {
    "duration": 0,
    "start_time": "2022-07-21T04:30:55.371Z"
   },
   {
    "duration": 0,
    "start_time": "2022-07-21T04:30:55.372Z"
   },
   {
    "duration": 0,
    "start_time": "2022-07-21T04:30:55.374Z"
   },
   {
    "duration": 14,
    "start_time": "2022-07-21T04:31:09.577Z"
   },
   {
    "duration": 45138,
    "start_time": "2022-07-21T04:31:58.107Z"
   },
   {
    "duration": 11,
    "start_time": "2022-07-21T04:34:07.873Z"
   },
   {
    "duration": 119,
    "start_time": "2022-07-21T04:34:24.217Z"
   },
   {
    "duration": 2001,
    "start_time": "2022-07-21T04:34:52.465Z"
   },
   {
    "duration": 5,
    "start_time": "2022-07-21T04:34:58.160Z"
   },
   {
    "duration": 5,
    "start_time": "2022-07-21T04:35:06.672Z"
   },
   {
    "duration": 6,
    "start_time": "2022-07-21T04:35:18.088Z"
   },
   {
    "duration": 4,
    "start_time": "2022-07-21T04:35:47.160Z"
   },
   {
    "duration": 4,
    "start_time": "2022-07-21T04:36:14.530Z"
   },
   {
    "duration": 4,
    "start_time": "2022-07-21T04:36:19.410Z"
   },
   {
    "duration": 1880,
    "start_time": "2022-07-21T04:36:47.411Z"
   },
   {
    "duration": 883,
    "start_time": "2022-07-21T04:36:49.293Z"
   },
   {
    "duration": 32,
    "start_time": "2022-07-21T04:36:50.177Z"
   },
   {
    "duration": 28,
    "start_time": "2022-07-21T04:36:50.211Z"
   },
   {
    "duration": 267,
    "start_time": "2022-07-21T04:36:50.242Z"
   },
   {
    "duration": 6,
    "start_time": "2022-07-21T04:36:50.511Z"
   },
   {
    "duration": 18,
    "start_time": "2022-07-21T04:36:50.519Z"
   },
   {
    "duration": 3891,
    "start_time": "2022-07-21T04:36:50.539Z"
   },
   {
    "duration": 4,
    "start_time": "2022-07-21T04:36:54.432Z"
   },
   {
    "duration": 9,
    "start_time": "2022-07-21T04:36:54.437Z"
   },
   {
    "duration": 1423,
    "start_time": "2022-07-21T04:36:54.448Z"
   },
   {
    "duration": 4,
    "start_time": "2022-07-21T04:36:55.873Z"
   },
   {
    "duration": 45487,
    "start_time": "2022-07-21T04:36:55.878Z"
   },
   {
    "duration": 116,
    "start_time": "2022-07-21T04:37:41.367Z"
   },
   {
    "duration": 0,
    "start_time": "2022-07-21T04:37:41.484Z"
   },
   {
    "duration": 0,
    "start_time": "2022-07-21T04:37:41.486Z"
   },
   {
    "duration": 0,
    "start_time": "2022-07-21T04:37:41.487Z"
   },
   {
    "duration": 0,
    "start_time": "2022-07-21T04:37:41.488Z"
   },
   {
    "duration": 0,
    "start_time": "2022-07-21T04:37:41.489Z"
   },
   {
    "duration": 1,
    "start_time": "2022-07-21T04:37:41.489Z"
   },
   {
    "duration": 0,
    "start_time": "2022-07-21T04:37:41.491Z"
   },
   {
    "duration": 0,
    "start_time": "2022-07-21T04:37:41.492Z"
   },
   {
    "duration": 0,
    "start_time": "2022-07-21T04:37:41.493Z"
   },
   {
    "duration": 0,
    "start_time": "2022-07-21T04:37:41.494Z"
   },
   {
    "duration": 0,
    "start_time": "2022-07-21T04:37:41.495Z"
   },
   {
    "duration": 0,
    "start_time": "2022-07-21T04:37:41.496Z"
   },
   {
    "duration": 0,
    "start_time": "2022-07-21T04:37:41.497Z"
   },
   {
    "duration": 0,
    "start_time": "2022-07-21T04:37:41.498Z"
   },
   {
    "duration": 0,
    "start_time": "2022-07-21T04:37:41.499Z"
   },
   {
    "duration": 1849,
    "start_time": "2022-07-21T04:38:32.981Z"
   },
   {
    "duration": 832,
    "start_time": "2022-07-21T04:38:34.833Z"
   },
   {
    "duration": 29,
    "start_time": "2022-07-21T04:38:35.667Z"
   },
   {
    "duration": 9,
    "start_time": "2022-07-21T04:38:35.697Z"
   },
   {
    "duration": 272,
    "start_time": "2022-07-21T04:38:35.708Z"
   },
   {
    "duration": 6,
    "start_time": "2022-07-21T04:38:35.981Z"
   },
   {
    "duration": 9,
    "start_time": "2022-07-21T04:38:35.988Z"
   },
   {
    "duration": 4123,
    "start_time": "2022-07-21T04:38:35.998Z"
   },
   {
    "duration": 4,
    "start_time": "2022-07-21T04:38:40.123Z"
   },
   {
    "duration": 6,
    "start_time": "2022-07-21T04:38:40.129Z"
   },
   {
    "duration": 122,
    "start_time": "2022-07-21T04:38:40.137Z"
   },
   {
    "duration": 0,
    "start_time": "2022-07-21T04:38:40.261Z"
   },
   {
    "duration": 0,
    "start_time": "2022-07-21T04:38:40.262Z"
   },
   {
    "duration": 0,
    "start_time": "2022-07-21T04:38:40.263Z"
   },
   {
    "duration": 0,
    "start_time": "2022-07-21T04:38:40.264Z"
   },
   {
    "duration": 0,
    "start_time": "2022-07-21T04:38:40.265Z"
   },
   {
    "duration": 0,
    "start_time": "2022-07-21T04:38:40.266Z"
   },
   {
    "duration": 0,
    "start_time": "2022-07-21T04:38:40.267Z"
   },
   {
    "duration": 0,
    "start_time": "2022-07-21T04:38:40.268Z"
   },
   {
    "duration": 0,
    "start_time": "2022-07-21T04:38:40.269Z"
   },
   {
    "duration": 0,
    "start_time": "2022-07-21T04:38:40.270Z"
   },
   {
    "duration": 0,
    "start_time": "2022-07-21T04:38:40.270Z"
   },
   {
    "duration": 0,
    "start_time": "2022-07-21T04:38:40.271Z"
   },
   {
    "duration": 0,
    "start_time": "2022-07-21T04:38:40.272Z"
   },
   {
    "duration": 0,
    "start_time": "2022-07-21T04:38:40.274Z"
   },
   {
    "duration": 0,
    "start_time": "2022-07-21T04:38:40.275Z"
   },
   {
    "duration": 0,
    "start_time": "2022-07-21T04:38:40.276Z"
   },
   {
    "duration": 0,
    "start_time": "2022-07-21T04:38:40.277Z"
   },
   {
    "duration": 0,
    "start_time": "2022-07-21T04:38:40.278Z"
   },
   {
    "duration": 2003,
    "start_time": "2022-07-21T04:40:50.649Z"
   },
   {
    "duration": 881,
    "start_time": "2022-07-21T04:40:52.660Z"
   },
   {
    "duration": 36,
    "start_time": "2022-07-21T04:40:53.543Z"
   },
   {
    "duration": 8,
    "start_time": "2022-07-21T04:40:53.581Z"
   },
   {
    "duration": 339,
    "start_time": "2022-07-21T04:40:53.591Z"
   },
   {
    "duration": 7,
    "start_time": "2022-07-21T04:40:53.934Z"
   },
   {
    "duration": 7,
    "start_time": "2022-07-21T04:40:53.943Z"
   },
   {
    "duration": 4199,
    "start_time": "2022-07-21T04:40:53.960Z"
   },
   {
    "duration": 4,
    "start_time": "2022-07-21T04:40:58.161Z"
   },
   {
    "duration": 6,
    "start_time": "2022-07-21T04:40:58.169Z"
   },
   {
    "duration": 8,
    "start_time": "2022-07-21T04:40:58.177Z"
   },
   {
    "duration": 8,
    "start_time": "2022-07-21T04:40:58.187Z"
   },
   {
    "duration": 8,
    "start_time": "2022-07-21T04:40:58.197Z"
   },
   {
    "duration": 0,
    "start_time": "2022-07-21T04:40:58.206Z"
   },
   {
    "duration": 0,
    "start_time": "2022-07-21T04:40:58.208Z"
   },
   {
    "duration": 0,
    "start_time": "2022-07-21T04:40:58.209Z"
   },
   {
    "duration": 0,
    "start_time": "2022-07-21T04:40:58.210Z"
   },
   {
    "duration": 0,
    "start_time": "2022-07-21T04:40:58.211Z"
   },
   {
    "duration": 0,
    "start_time": "2022-07-21T04:40:58.213Z"
   },
   {
    "duration": 0,
    "start_time": "2022-07-21T04:40:58.214Z"
   },
   {
    "duration": 0,
    "start_time": "2022-07-21T04:40:58.215Z"
   },
   {
    "duration": 0,
    "start_time": "2022-07-21T04:40:58.216Z"
   },
   {
    "duration": 0,
    "start_time": "2022-07-21T04:40:58.217Z"
   },
   {
    "duration": 0,
    "start_time": "2022-07-21T04:40:58.218Z"
   },
   {
    "duration": 0,
    "start_time": "2022-07-21T04:40:58.219Z"
   },
   {
    "duration": 0,
    "start_time": "2022-07-21T04:40:58.220Z"
   },
   {
    "duration": 1,
    "start_time": "2022-07-21T04:40:58.221Z"
   },
   {
    "duration": 2055,
    "start_time": "2022-07-21T04:41:22.937Z"
   },
   {
    "duration": 868,
    "start_time": "2022-07-21T04:41:24.994Z"
   },
   {
    "duration": 32,
    "start_time": "2022-07-21T04:41:25.865Z"
   },
   {
    "duration": 14,
    "start_time": "2022-07-21T04:41:25.899Z"
   },
   {
    "duration": 267,
    "start_time": "2022-07-21T04:41:25.915Z"
   },
   {
    "duration": 6,
    "start_time": "2022-07-21T04:41:26.184Z"
   },
   {
    "duration": 11,
    "start_time": "2022-07-21T04:41:26.194Z"
   },
   {
    "duration": 4036,
    "start_time": "2022-07-21T04:41:26.207Z"
   },
   {
    "duration": 4,
    "start_time": "2022-07-21T04:41:30.245Z"
   },
   {
    "duration": 10,
    "start_time": "2022-07-21T04:41:30.251Z"
   },
   {
    "duration": 13,
    "start_time": "2022-07-21T04:41:30.263Z"
   },
   {
    "duration": 13,
    "start_time": "2022-07-21T04:41:30.278Z"
   },
   {
    "duration": 1061413,
    "start_time": "2022-07-21T04:41:30.293Z"
   },
   {
    "duration": 123,
    "start_time": "2022-07-21T04:59:11.709Z"
   },
   {
    "duration": 0,
    "start_time": "2022-07-21T04:59:11.833Z"
   },
   {
    "duration": 0,
    "start_time": "2022-07-21T04:59:11.834Z"
   },
   {
    "duration": 0,
    "start_time": "2022-07-21T04:59:11.835Z"
   },
   {
    "duration": 0,
    "start_time": "2022-07-21T04:59:11.836Z"
   },
   {
    "duration": 0,
    "start_time": "2022-07-21T04:59:11.837Z"
   },
   {
    "duration": 0,
    "start_time": "2022-07-21T04:59:11.838Z"
   },
   {
    "duration": 0,
    "start_time": "2022-07-21T04:59:11.840Z"
   },
   {
    "duration": 0,
    "start_time": "2022-07-21T04:59:11.841Z"
   },
   {
    "duration": 0,
    "start_time": "2022-07-21T04:59:11.842Z"
   },
   {
    "duration": 0,
    "start_time": "2022-07-21T04:59:11.860Z"
   },
   {
    "duration": 0,
    "start_time": "2022-07-21T04:59:11.861Z"
   },
   {
    "duration": 0,
    "start_time": "2022-07-21T04:59:11.861Z"
   },
   {
    "duration": 0,
    "start_time": "2022-07-21T04:59:11.862Z"
   },
   {
    "duration": 14,
    "start_time": "2022-07-21T05:00:41.133Z"
   },
   {
    "duration": 4,
    "start_time": "2022-07-21T05:01:25.142Z"
   },
   {
    "duration": 1995,
    "start_time": "2022-07-21T05:12:19.389Z"
   },
   {
    "duration": 834,
    "start_time": "2022-07-21T05:12:21.386Z"
   },
   {
    "duration": 39,
    "start_time": "2022-07-21T05:12:22.221Z"
   },
   {
    "duration": 19,
    "start_time": "2022-07-21T05:12:22.262Z"
   },
   {
    "duration": 314,
    "start_time": "2022-07-21T05:12:22.283Z"
   },
   {
    "duration": 6,
    "start_time": "2022-07-21T05:12:22.598Z"
   },
   {
    "duration": 35,
    "start_time": "2022-07-21T05:12:22.606Z"
   },
   {
    "duration": 4080,
    "start_time": "2022-07-21T05:12:22.642Z"
   },
   {
    "duration": 4,
    "start_time": "2022-07-21T05:12:26.724Z"
   },
   {
    "duration": 45,
    "start_time": "2022-07-21T05:12:26.730Z"
   },
   {
    "duration": 59,
    "start_time": "2022-07-21T05:12:26.777Z"
   },
   {
    "duration": 36,
    "start_time": "2022-07-21T05:12:26.838Z"
   },
   {
    "duration": 3578,
    "start_time": "2022-07-21T05:12:26.875Z"
   },
   {
    "duration": 13,
    "start_time": "2022-07-21T05:12:30.455Z"
   },
   {
    "duration": 25,
    "start_time": "2022-07-21T05:12:30.470Z"
   },
   {
    "duration": 1558,
    "start_time": "2022-07-21T05:12:30.497Z"
   },
   {
    "duration": 0,
    "start_time": "2022-07-21T05:12:32.057Z"
   },
   {
    "duration": 0,
    "start_time": "2022-07-21T05:12:32.059Z"
   },
   {
    "duration": 0,
    "start_time": "2022-07-21T05:12:32.060Z"
   },
   {
    "duration": 0,
    "start_time": "2022-07-21T05:12:32.061Z"
   },
   {
    "duration": 0,
    "start_time": "2022-07-21T05:12:32.062Z"
   },
   {
    "duration": 0,
    "start_time": "2022-07-21T05:12:32.063Z"
   },
   {
    "duration": 0,
    "start_time": "2022-07-21T05:12:32.065Z"
   },
   {
    "duration": 0,
    "start_time": "2022-07-21T05:12:32.066Z"
   },
   {
    "duration": 0,
    "start_time": "2022-07-21T05:12:32.067Z"
   },
   {
    "duration": 0,
    "start_time": "2022-07-21T05:12:32.069Z"
   },
   {
    "duration": 1943,
    "start_time": "2022-07-21T05:13:18.894Z"
   },
   {
    "duration": 825,
    "start_time": "2022-07-21T05:13:20.839Z"
   },
   {
    "duration": 32,
    "start_time": "2022-07-21T05:13:21.666Z"
   },
   {
    "duration": 8,
    "start_time": "2022-07-21T05:13:21.700Z"
   },
   {
    "duration": 272,
    "start_time": "2022-07-21T05:13:21.709Z"
   },
   {
    "duration": 5,
    "start_time": "2022-07-21T05:13:21.983Z"
   },
   {
    "duration": 14,
    "start_time": "2022-07-21T05:13:21.990Z"
   },
   {
    "duration": 3846,
    "start_time": "2022-07-21T05:13:22.005Z"
   },
   {
    "duration": 3,
    "start_time": "2022-07-21T05:13:25.853Z"
   },
   {
    "duration": 3,
    "start_time": "2022-07-21T05:13:25.861Z"
   },
   {
    "duration": 11,
    "start_time": "2022-07-21T05:13:25.866Z"
   },
   {
    "duration": 11,
    "start_time": "2022-07-21T05:13:25.879Z"
   },
   {
    "duration": 130,
    "start_time": "2022-07-21T05:13:25.892Z"
   },
   {
    "duration": 0,
    "start_time": "2022-07-21T05:13:26.024Z"
   },
   {
    "duration": 0,
    "start_time": "2022-07-21T05:13:26.025Z"
   },
   {
    "duration": 0,
    "start_time": "2022-07-21T05:13:26.026Z"
   },
   {
    "duration": 0,
    "start_time": "2022-07-21T05:13:26.028Z"
   },
   {
    "duration": 0,
    "start_time": "2022-07-21T05:13:26.028Z"
   },
   {
    "duration": 0,
    "start_time": "2022-07-21T05:13:26.029Z"
   },
   {
    "duration": 0,
    "start_time": "2022-07-21T05:13:26.030Z"
   },
   {
    "duration": 0,
    "start_time": "2022-07-21T05:13:26.031Z"
   },
   {
    "duration": 0,
    "start_time": "2022-07-21T05:13:26.032Z"
   },
   {
    "duration": 0,
    "start_time": "2022-07-21T05:13:26.033Z"
   },
   {
    "duration": 0,
    "start_time": "2022-07-21T05:13:26.034Z"
   },
   {
    "duration": 0,
    "start_time": "2022-07-21T05:13:26.034Z"
   },
   {
    "duration": 0,
    "start_time": "2022-07-21T05:13:26.035Z"
   },
   {
    "duration": 0,
    "start_time": "2022-07-21T05:13:26.036Z"
   },
   {
    "duration": 2103,
    "start_time": "2022-07-21T05:14:22.632Z"
   },
   {
    "duration": 553,
    "start_time": "2022-07-21T05:15:40.679Z"
   },
   {
    "duration": 739,
    "start_time": "2022-07-21T05:16:10.384Z"
   },
   {
    "duration": 783,
    "start_time": "2022-07-21T05:16:29.487Z"
   },
   {
    "duration": 727,
    "start_time": "2022-07-21T05:17:29.287Z"
   },
   {
    "duration": 755,
    "start_time": "2022-07-21T05:18:31.777Z"
   },
   {
    "duration": 4,
    "start_time": "2022-07-21T05:20:13.517Z"
   },
   {
    "duration": 4,
    "start_time": "2022-07-21T05:20:22.814Z"
   },
   {
    "duration": 6,
    "start_time": "2022-07-21T05:20:25.685Z"
   },
   {
    "duration": 650,
    "start_time": "2022-07-21T05:25:22.715Z"
   },
   {
    "duration": 662,
    "start_time": "2022-07-21T05:25:44.331Z"
   },
   {
    "duration": 674,
    "start_time": "2022-07-21T05:26:02.987Z"
   },
   {
    "duration": 3,
    "start_time": "2022-07-21T05:27:11.370Z"
   },
   {
    "duration": 1875,
    "start_time": "2022-07-21T05:27:49.647Z"
   },
   {
    "duration": 853,
    "start_time": "2022-07-21T05:27:51.523Z"
   },
   {
    "duration": 31,
    "start_time": "2022-07-21T05:27:52.378Z"
   },
   {
    "duration": 11,
    "start_time": "2022-07-21T05:27:52.411Z"
   },
   {
    "duration": 249,
    "start_time": "2022-07-21T05:27:52.424Z"
   },
   {
    "duration": 6,
    "start_time": "2022-07-21T05:27:52.675Z"
   },
   {
    "duration": 6,
    "start_time": "2022-07-21T05:27:52.683Z"
   },
   {
    "duration": 4120,
    "start_time": "2022-07-21T05:27:52.690Z"
   },
   {
    "duration": 4,
    "start_time": "2022-07-21T05:27:56.812Z"
   },
   {
    "duration": 7,
    "start_time": "2022-07-21T05:27:56.818Z"
   },
   {
    "duration": 8,
    "start_time": "2022-07-21T05:27:56.826Z"
   },
   {
    "duration": 8,
    "start_time": "2022-07-21T05:27:56.835Z"
   },
   {
    "duration": 6,
    "start_time": "2022-07-21T05:27:56.845Z"
   },
   {
    "duration": 0,
    "start_time": "2022-07-21T05:27:56.852Z"
   },
   {
    "duration": 1,
    "start_time": "2022-07-21T05:27:56.853Z"
   },
   {
    "duration": 0,
    "start_time": "2022-07-21T05:27:56.862Z"
   },
   {
    "duration": 0,
    "start_time": "2022-07-21T05:27:56.863Z"
   },
   {
    "duration": 0,
    "start_time": "2022-07-21T05:27:56.863Z"
   },
   {
    "duration": 0,
    "start_time": "2022-07-21T05:27:56.864Z"
   },
   {
    "duration": 0,
    "start_time": "2022-07-21T05:27:56.865Z"
   },
   {
    "duration": 0,
    "start_time": "2022-07-21T05:27:56.866Z"
   },
   {
    "duration": 0,
    "start_time": "2022-07-21T05:27:56.866Z"
   },
   {
    "duration": 0,
    "start_time": "2022-07-21T05:27:56.867Z"
   },
   {
    "duration": 0,
    "start_time": "2022-07-21T05:27:56.868Z"
   },
   {
    "duration": 0,
    "start_time": "2022-07-21T05:27:56.868Z"
   },
   {
    "duration": 0,
    "start_time": "2022-07-21T05:27:56.869Z"
   },
   {
    "duration": 1916,
    "start_time": "2022-07-21T05:28:26.535Z"
   },
   {
    "duration": 862,
    "start_time": "2022-07-21T05:28:28.454Z"
   },
   {
    "duration": 24,
    "start_time": "2022-07-21T05:28:29.317Z"
   },
   {
    "duration": 24,
    "start_time": "2022-07-21T05:28:29.342Z"
   },
   {
    "duration": 233,
    "start_time": "2022-07-21T05:28:29.370Z"
   },
   {
    "duration": 6,
    "start_time": "2022-07-21T05:28:29.604Z"
   },
   {
    "duration": 9,
    "start_time": "2022-07-21T05:28:29.611Z"
   },
   {
    "duration": 4051,
    "start_time": "2022-07-21T05:28:29.621Z"
   },
   {
    "duration": 4,
    "start_time": "2022-07-21T05:28:33.674Z"
   },
   {
    "duration": 7,
    "start_time": "2022-07-21T05:28:33.680Z"
   },
   {
    "duration": 5,
    "start_time": "2022-07-21T05:28:33.688Z"
   },
   {
    "duration": 7,
    "start_time": "2022-07-21T05:28:33.694Z"
   },
   {
    "duration": 1113475,
    "start_time": "2022-07-21T05:28:33.702Z"
   },
   {
    "duration": 14,
    "start_time": "2022-07-21T05:47:07.179Z"
   },
   {
    "duration": 6,
    "start_time": "2022-07-21T05:47:07.195Z"
   },
   {
    "duration": 5,
    "start_time": "2022-07-21T05:47:07.203Z"
   },
   {
    "duration": 33,
    "start_time": "2022-07-21T05:47:07.209Z"
   },
   {
    "duration": 16,
    "start_time": "2022-07-21T05:47:07.243Z"
   },
   {
    "duration": 27229,
    "start_time": "2022-07-21T05:47:07.261Z"
   },
   {
    "duration": 127394,
    "start_time": "2022-07-21T05:47:34.492Z"
   },
   {
    "duration": 27,
    "start_time": "2022-07-21T05:49:41.892Z"
   },
   {
    "duration": 79,
    "start_time": "2022-07-21T05:49:41.921Z"
   },
   {
    "duration": 1392,
    "start_time": "2022-07-21T05:49:42.002Z"
   },
   {
    "duration": 179,
    "start_time": "2022-07-21T05:49:43.400Z"
   },
   {
    "duration": 87,
    "start_time": "2022-07-21T05:49:43.581Z"
   },
   {
    "duration": 11,
    "start_time": "2022-07-21T05:49:43.675Z"
   },
   {
    "duration": 1939,
    "start_time": "2022-07-21T07:41:58.253Z"
   },
   {
    "duration": 867,
    "start_time": "2022-07-21T07:42:00.195Z"
   },
   {
    "duration": 33,
    "start_time": "2022-07-21T07:42:01.064Z"
   },
   {
    "duration": 29,
    "start_time": "2022-07-21T07:42:01.099Z"
   },
   {
    "duration": 263,
    "start_time": "2022-07-21T07:42:01.130Z"
   },
   {
    "duration": 6,
    "start_time": "2022-07-21T07:42:01.395Z"
   },
   {
    "duration": 24,
    "start_time": "2022-07-21T07:42:01.403Z"
   },
   {
    "duration": 3905,
    "start_time": "2022-07-21T07:42:01.429Z"
   },
   {
    "duration": 4,
    "start_time": "2022-07-21T07:42:05.336Z"
   },
   {
    "duration": 15,
    "start_time": "2022-07-21T07:42:05.342Z"
   },
   {
    "duration": 10,
    "start_time": "2022-07-21T07:42:05.358Z"
   },
   {
    "duration": 9,
    "start_time": "2022-07-21T07:42:05.370Z"
   },
   {
    "duration": 1096825,
    "start_time": "2022-07-21T07:42:05.380Z"
   },
   {
    "duration": 3,
    "start_time": "2022-07-21T08:00:22.206Z"
   },
   {
    "duration": 35,
    "start_time": "2022-07-21T08:00:22.211Z"
   },
   {
    "duration": 12,
    "start_time": "2022-07-21T08:00:22.248Z"
   },
   {
    "duration": 27221,
    "start_time": "2022-07-21T08:00:22.262Z"
   },
   {
    "duration": 126203,
    "start_time": "2022-07-21T08:00:49.484Z"
   },
   {
    "duration": 25,
    "start_time": "2022-07-21T08:02:55.689Z"
   },
   {
    "duration": 72,
    "start_time": "2022-07-21T08:02:55.716Z"
   },
   {
    "duration": 1290,
    "start_time": "2022-07-21T08:02:55.789Z"
   },
   {
    "duration": 194,
    "start_time": "2022-07-21T08:02:57.082Z"
   },
   {
    "duration": 58,
    "start_time": "2022-07-21T08:02:57.278Z"
   },
   {
    "duration": 3,
    "start_time": "2022-07-21T08:02:57.339Z"
   },
   {
    "duration": 1854,
    "start_time": "2022-07-21T08:07:47.389Z"
   },
   {
    "duration": 846,
    "start_time": "2022-07-21T08:07:49.245Z"
   },
   {
    "duration": 26,
    "start_time": "2022-07-21T08:07:50.093Z"
   },
   {
    "duration": 8,
    "start_time": "2022-07-21T08:07:50.121Z"
   },
   {
    "duration": 282,
    "start_time": "2022-07-21T08:07:50.136Z"
   },
   {
    "duration": 6,
    "start_time": "2022-07-21T08:07:50.420Z"
   },
   {
    "duration": 9,
    "start_time": "2022-07-21T08:07:50.428Z"
   },
   {
    "duration": 3888,
    "start_time": "2022-07-21T08:07:50.438Z"
   },
   {
    "duration": 3,
    "start_time": "2022-07-21T08:07:54.328Z"
   },
   {
    "duration": 7,
    "start_time": "2022-07-21T08:07:54.333Z"
   },
   {
    "duration": 7,
    "start_time": "2022-07-21T08:07:54.342Z"
   },
   {
    "duration": 10,
    "start_time": "2022-07-21T08:07:54.351Z"
   },
   {
    "duration": 1059403,
    "start_time": "2022-07-21T08:07:54.363Z"
   },
   {
    "duration": 2,
    "start_time": "2022-07-21T08:25:33.770Z"
   },
   {
    "duration": 36,
    "start_time": "2022-07-21T08:25:33.776Z"
   },
   {
    "duration": 4,
    "start_time": "2022-07-21T08:25:33.816Z"
   },
   {
    "duration": 25821,
    "start_time": "2022-07-21T08:25:33.821Z"
   },
   {
    "duration": 130809,
    "start_time": "2022-07-21T08:25:59.644Z"
   },
   {
    "duration": 29,
    "start_time": "2022-07-21T08:28:10.455Z"
   },
   {
    "duration": 59,
    "start_time": "2022-07-21T08:28:10.485Z"
   },
   {
    "duration": 1251,
    "start_time": "2022-07-21T08:28:10.560Z"
   },
   {
    "duration": 112,
    "start_time": "2022-07-21T08:28:11.862Z"
   },
   {
    "duration": 90,
    "start_time": "2022-07-21T08:28:11.976Z"
   },
   {
    "duration": 3,
    "start_time": "2022-07-21T08:28:12.068Z"
   },
   {
    "duration": 4476,
    "start_time": "2022-07-21T16:50:17.081Z"
   },
   {
    "duration": 2794,
    "start_time": "2022-07-21T16:57:17.951Z"
   },
   {
    "duration": 16,
    "start_time": "2022-07-21T16:59:36.160Z"
   },
   {
    "duration": 854,
    "start_time": "2022-07-21T16:59:38.084Z"
   },
   {
    "duration": 41,
    "start_time": "2022-07-21T16:59:39.554Z"
   },
   {
    "duration": 8,
    "start_time": "2022-07-21T16:59:40.833Z"
   },
   {
    "duration": 13,
    "start_time": "2022-07-21T16:59:48.514Z"
   },
   {
    "duration": 6,
    "start_time": "2022-07-21T17:02:05.754Z"
   },
   {
    "duration": 14,
    "start_time": "2022-07-21T17:04:56.145Z"
   },
   {
    "duration": 11,
    "start_time": "2022-07-21T17:05:00.687Z"
   },
   {
    "duration": 111,
    "start_time": "2022-07-21T17:05:44.721Z"
   },
   {
    "duration": 390,
    "start_time": "2022-07-21T17:05:52.996Z"
   },
   {
    "duration": 24,
    "start_time": "2022-07-21T17:05:59.145Z"
   },
   {
    "duration": 12,
    "start_time": "2022-07-21T17:06:04.202Z"
   },
   {
    "duration": 1804,
    "start_time": "2022-07-21T17:08:51.786Z"
   },
   {
    "duration": 881,
    "start_time": "2022-07-21T17:08:53.592Z"
   },
   {
    "duration": 34,
    "start_time": "2022-07-21T17:08:54.475Z"
   },
   {
    "duration": 13,
    "start_time": "2022-07-21T17:08:54.511Z"
   },
   {
    "duration": 338,
    "start_time": "2022-07-21T17:08:54.526Z"
   },
   {
    "duration": 0,
    "start_time": "2022-07-21T17:11:00.776Z"
   },
   {
    "duration": 1838,
    "start_time": "2022-07-21T17:11:06.782Z"
   },
   {
    "duration": 977,
    "start_time": "2022-07-21T17:11:08.622Z"
   },
   {
    "duration": 35,
    "start_time": "2022-07-21T17:11:09.601Z"
   },
   {
    "duration": 27,
    "start_time": "2022-07-21T17:11:09.639Z"
   },
   {
    "duration": 323,
    "start_time": "2022-07-21T17:11:09.668Z"
   },
   {
    "duration": 74,
    "start_time": "2022-07-21T17:11:22.969Z"
   },
   {
    "duration": 62,
    "start_time": "2022-07-21T17:11:34.366Z"
   },
   {
    "duration": 165,
    "start_time": "2022-07-21T17:12:22.687Z"
   },
   {
    "duration": 133,
    "start_time": "2022-07-21T17:15:47.149Z"
   },
   {
    "duration": 311,
    "start_time": "2022-07-21T17:15:53.180Z"
   },
   {
    "duration": 226,
    "start_time": "2022-07-21T17:16:13.631Z"
   },
   {
    "duration": 118,
    "start_time": "2022-07-21T17:17:05.103Z"
   },
   {
    "duration": 136,
    "start_time": "2022-07-21T17:17:22.959Z"
   },
   {
    "duration": 206,
    "start_time": "2022-07-21T17:19:37.300Z"
   },
   {
    "duration": 161,
    "start_time": "2022-07-21T17:19:51.848Z"
   },
   {
    "duration": 145,
    "start_time": "2022-07-21T17:20:05.881Z"
   },
   {
    "duration": 175,
    "start_time": "2022-07-21T17:20:43.845Z"
   },
   {
    "duration": 190,
    "start_time": "2022-07-21T17:20:59.043Z"
   },
   {
    "duration": 152,
    "start_time": "2022-07-21T17:21:09.487Z"
   },
   {
    "duration": 150,
    "start_time": "2022-07-21T17:21:20.595Z"
   },
   {
    "duration": 1794,
    "start_time": "2022-07-21T17:23:01.748Z"
   },
   {
    "duration": 975,
    "start_time": "2022-07-21T17:23:03.544Z"
   },
   {
    "duration": 28,
    "start_time": "2022-07-21T17:23:04.521Z"
   },
   {
    "duration": 31,
    "start_time": "2022-07-21T17:23:04.550Z"
   },
   {
    "duration": 323,
    "start_time": "2022-07-21T17:23:04.583Z"
   },
   {
    "duration": 143,
    "start_time": "2022-07-21T17:23:04.907Z"
   },
   {
    "duration": 1859,
    "start_time": "2022-07-21T17:25:04.199Z"
   },
   {
    "duration": 976,
    "start_time": "2022-07-21T17:25:06.060Z"
   },
   {
    "duration": 32,
    "start_time": "2022-07-21T17:25:07.038Z"
   },
   {
    "duration": 54,
    "start_time": "2022-07-21T17:25:07.074Z"
   },
   {
    "duration": 325,
    "start_time": "2022-07-21T17:25:07.130Z"
   },
   {
    "duration": 167,
    "start_time": "2022-07-21T17:25:07.457Z"
   },
   {
    "duration": 242,
    "start_time": "2022-07-21T17:29:05.443Z"
   },
   {
    "duration": 138,
    "start_time": "2022-07-21T17:29:26.119Z"
   },
   {
    "duration": 138,
    "start_time": "2022-07-21T17:29:46.194Z"
   },
   {
    "duration": 286,
    "start_time": "2022-07-21T17:30:01.229Z"
   },
   {
    "duration": 130,
    "start_time": "2022-07-21T17:30:08.327Z"
   },
   {
    "duration": 138,
    "start_time": "2022-07-21T17:30:20.973Z"
   },
   {
    "duration": 148,
    "start_time": "2022-07-21T17:31:13.587Z"
   },
   {
    "duration": 151,
    "start_time": "2022-07-21T17:31:46.448Z"
   },
   {
    "duration": 4,
    "start_time": "2022-07-21T17:35:15.457Z"
   },
   {
    "duration": 4878,
    "start_time": "2022-07-21T17:35:18.180Z"
   },
   {
    "duration": 4,
    "start_time": "2022-07-21T17:35:27.900Z"
   },
   {
    "duration": 2,
    "start_time": "2022-07-21T17:35:46.381Z"
   },
   {
    "duration": 5,
    "start_time": "2022-07-21T17:35:48.047Z"
   },
   {
    "duration": 2,
    "start_time": "2022-07-21T18:12:04.290Z"
   },
   {
    "duration": 220544,
    "start_time": "2022-07-21T18:12:26.650Z"
   },
   {
    "duration": 44,
    "start_time": "2022-07-21T18:22:11.651Z"
   },
   {
    "duration": 12,
    "start_time": "2022-07-21T18:23:21.884Z"
   },
   {
    "duration": 12,
    "start_time": "2022-07-21T18:23:28.084Z"
   },
   {
    "duration": 33,
    "start_time": "2022-07-21T18:24:16.484Z"
   },
   {
    "duration": 3,
    "start_time": "2022-07-21T18:24:18.984Z"
   },
   {
    "duration": 4,
    "start_time": "2022-07-21T18:24:19.331Z"
   },
   {
    "duration": 3,
    "start_time": "2022-07-21T18:24:21.004Z"
   },
   {
    "duration": 213109,
    "start_time": "2022-07-21T18:24:25.085Z"
   },
   {
    "duration": 9,
    "start_time": "2022-07-21T18:27:58.196Z"
   },
   {
    "duration": 12,
    "start_time": "2022-07-21T18:28:14.964Z"
   },
   {
    "duration": 10,
    "start_time": "2022-07-21T18:28:24.453Z"
   },
   {
    "duration": 9,
    "start_time": "2022-07-21T18:29:20.764Z"
   },
   {
    "duration": 11,
    "start_time": "2022-07-21T18:42:45.932Z"
   },
   {
    "duration": 1603,
    "start_time": "2022-07-21T18:43:24.095Z"
   },
   {
    "duration": 850,
    "start_time": "2022-07-21T18:43:25.700Z"
   },
   {
    "duration": 24,
    "start_time": "2022-07-21T18:43:26.552Z"
   },
   {
    "duration": 14,
    "start_time": "2022-07-21T18:43:26.770Z"
   },
   {
    "duration": 245,
    "start_time": "2022-07-21T18:43:29.113Z"
   },
   {
    "duration": 137,
    "start_time": "2022-07-21T18:43:30.015Z"
   },
   {
    "duration": 3,
    "start_time": "2022-07-21T18:43:34.020Z"
   },
   {
    "duration": 3840,
    "start_time": "2022-07-21T18:43:34.400Z"
   },
   {
    "duration": 5,
    "start_time": "2022-07-21T18:43:38.241Z"
   },
   {
    "duration": 222,
    "start_time": "2022-07-21T18:43:38.247Z"
   },
   {
    "duration": 2,
    "start_time": "2022-07-21T18:43:38.471Z"
   },
   {
    "duration": 3,
    "start_time": "2022-07-21T18:43:43.046Z"
   },
   {
    "duration": 3,
    "start_time": "2022-07-21T18:43:51.052Z"
   },
   {
    "duration": 69023,
    "start_time": "2022-07-21T18:43:51.712Z"
   },
   {
    "duration": 51,
    "start_time": "2022-07-21T18:45:00.737Z"
   },
   {
    "duration": 11,
    "start_time": "2022-07-21T18:45:00.789Z"
   },
   {
    "duration": 8,
    "start_time": "2022-07-21T18:45:31.573Z"
   },
   {
    "duration": 10,
    "start_time": "2022-07-21T18:45:32.740Z"
   },
   {
    "duration": 6,
    "start_time": "2022-07-21T18:45:53.262Z"
   },
   {
    "duration": 348,
    "start_time": "2022-07-21T18:50:44.636Z"
   },
   {
    "duration": 193,
    "start_time": "2022-07-21T18:53:24.747Z"
   },
   {
    "duration": 19,
    "start_time": "2022-07-21T18:55:46.720Z"
   },
   {
    "duration": 1718,
    "start_time": "2022-07-21T19:15:35.596Z"
   },
   {
    "duration": 843,
    "start_time": "2022-07-21T19:15:37.315Z"
   },
   {
    "duration": 31,
    "start_time": "2022-07-21T19:15:38.159Z"
   },
   {
    "duration": 12,
    "start_time": "2022-07-21T19:15:38.192Z"
   },
   {
    "duration": 282,
    "start_time": "2022-07-21T19:15:38.205Z"
   },
   {
    "duration": 148,
    "start_time": "2022-07-21T19:15:38.489Z"
   },
   {
    "duration": 2,
    "start_time": "2022-07-21T19:15:38.639Z"
   },
   {
    "duration": 3849,
    "start_time": "2022-07-21T19:15:38.643Z"
   },
   {
    "duration": 4,
    "start_time": "2022-07-21T19:15:42.493Z"
   },
   {
    "duration": 244,
    "start_time": "2022-07-21T19:15:42.499Z"
   },
   {
    "duration": 4,
    "start_time": "2022-07-21T19:15:42.746Z"
   },
   {
    "duration": 11,
    "start_time": "2022-07-21T19:15:42.752Z"
   },
   {
    "duration": 10,
    "start_time": "2022-07-21T19:15:42.765Z"
   },
   {
    "duration": 68111,
    "start_time": "2022-07-21T19:15:42.776Z"
   },
   {
    "duration": 39,
    "start_time": "2022-07-21T19:16:50.889Z"
   },
   {
    "duration": 5,
    "start_time": "2022-07-21T19:26:19.208Z"
   },
   {
    "duration": 6,
    "start_time": "2022-07-21T19:26:26.553Z"
   },
   {
    "duration": 3,
    "start_time": "2022-07-21T19:26:47.114Z"
   },
   {
    "duration": 3,
    "start_time": "2022-07-21T19:27:38.720Z"
   },
   {
    "duration": 2622,
    "start_time": "2022-07-21T19:27:40.711Z"
   },
   {
    "duration": 13,
    "start_time": "2022-07-21T19:27:54.465Z"
   },
   {
    "duration": 10,
    "start_time": "2022-07-21T19:30:02.818Z"
   },
   {
    "duration": 774,
    "start_time": "2022-07-21T19:30:02.830Z"
   },
   {
    "duration": 35,
    "start_time": "2022-07-21T19:30:03.606Z"
   },
   {
    "duration": 24,
    "start_time": "2022-07-21T19:30:03.643Z"
   },
   {
    "duration": 260,
    "start_time": "2022-07-21T19:30:03.670Z"
   },
   {
    "duration": 133,
    "start_time": "2022-07-21T19:30:03.932Z"
   },
   {
    "duration": 3,
    "start_time": "2022-07-21T19:30:04.067Z"
   },
   {
    "duration": 3893,
    "start_time": "2022-07-21T19:30:04.072Z"
   },
   {
    "duration": 3,
    "start_time": "2022-07-21T19:30:07.967Z"
   },
   {
    "duration": 252,
    "start_time": "2022-07-21T19:30:07.972Z"
   },
   {
    "duration": 4,
    "start_time": "2022-07-21T19:30:08.226Z"
   },
   {
    "duration": 20,
    "start_time": "2022-07-21T19:30:08.231Z"
   },
   {
    "duration": 4,
    "start_time": "2022-07-21T19:30:11.378Z"
   },
   {
    "duration": 70576,
    "start_time": "2022-07-21T19:30:19.108Z"
   },
   {
    "duration": 1784,
    "start_time": "2022-07-21T19:31:38.755Z"
   },
   {
    "duration": 839,
    "start_time": "2022-07-21T19:31:40.541Z"
   },
   {
    "duration": 29,
    "start_time": "2022-07-21T19:31:41.383Z"
   },
   {
    "duration": 13,
    "start_time": "2022-07-21T19:31:41.414Z"
   },
   {
    "duration": 262,
    "start_time": "2022-07-21T19:31:41.429Z"
   },
   {
    "duration": 146,
    "start_time": "2022-07-21T19:31:41.693Z"
   },
   {
    "duration": 2,
    "start_time": "2022-07-21T19:31:41.841Z"
   },
   {
    "duration": 3912,
    "start_time": "2022-07-21T19:31:41.845Z"
   },
   {
    "duration": 5,
    "start_time": "2022-07-21T19:31:45.759Z"
   },
   {
    "duration": 241,
    "start_time": "2022-07-21T19:31:45.766Z"
   },
   {
    "duration": 3,
    "start_time": "2022-07-21T19:31:46.008Z"
   },
   {
    "duration": 38,
    "start_time": "2022-07-21T19:31:46.012Z"
   },
   {
    "duration": 4,
    "start_time": "2022-07-21T19:31:52.267Z"
   },
   {
    "duration": 3,
    "start_time": "2022-07-21T19:32:23.964Z"
   },
   {
    "duration": 44475,
    "start_time": "2022-07-21T19:32:26.437Z"
   },
   {
    "duration": 51,
    "start_time": "2022-07-21T19:33:10.913Z"
   },
   {
    "duration": 2,
    "start_time": "2022-07-21T19:33:51.627Z"
   },
   {
    "duration": 18,
    "start_time": "2022-07-21T19:34:28.129Z"
   },
   {
    "duration": 4,
    "start_time": "2022-07-21T19:39:34.648Z"
   },
   {
    "duration": 4,
    "start_time": "2022-07-21T19:39:44.360Z"
   },
   {
    "duration": 16,
    "start_time": "2022-07-21T19:39:57.451Z"
   },
   {
    "duration": 9,
    "start_time": "2022-07-21T19:42:32.215Z"
   },
   {
    "duration": 302,
    "start_time": "2022-07-21T19:43:36.077Z"
   },
   {
    "duration": 4,
    "start_time": "2022-07-21T19:43:54.618Z"
   },
   {
    "duration": 12,
    "start_time": "2022-07-21T19:44:03.429Z"
   },
   {
    "duration": 32,
    "start_time": "2022-07-21T19:44:41.251Z"
   },
   {
    "duration": 141,
    "start_time": "2022-07-21T19:45:28.025Z"
   },
   {
    "duration": 36,
    "start_time": "2022-07-21T19:45:43.306Z"
   },
   {
    "duration": 44,
    "start_time": "2022-07-21T19:46:05.636Z"
   },
   {
    "duration": 45,
    "start_time": "2022-07-21T19:46:30.640Z"
   },
   {
    "duration": 36,
    "start_time": "2022-07-21T19:46:35.521Z"
   },
   {
    "duration": 1658,
    "start_time": "2022-07-21T19:56:00.579Z"
   },
   {
    "duration": 880,
    "start_time": "2022-07-21T19:56:02.239Z"
   },
   {
    "duration": 30,
    "start_time": "2022-07-21T19:56:03.121Z"
   },
   {
    "duration": 17,
    "start_time": "2022-07-21T19:56:03.153Z"
   },
   {
    "duration": 273,
    "start_time": "2022-07-21T19:56:03.171Z"
   },
   {
    "duration": 150,
    "start_time": "2022-07-21T19:56:03.446Z"
   },
   {
    "duration": 3,
    "start_time": "2022-07-21T19:56:03.598Z"
   },
   {
    "duration": 3780,
    "start_time": "2022-07-21T19:56:03.602Z"
   },
   {
    "duration": 5,
    "start_time": "2022-07-21T19:56:07.384Z"
   },
   {
    "duration": 231,
    "start_time": "2022-07-21T19:56:07.392Z"
   },
   {
    "duration": 4,
    "start_time": "2022-07-21T19:56:07.624Z"
   },
   {
    "duration": 8,
    "start_time": "2022-07-21T19:56:07.629Z"
   },
   {
    "duration": 5,
    "start_time": "2022-07-21T19:56:07.639Z"
   },
   {
    "duration": 4,
    "start_time": "2022-07-21T19:56:07.646Z"
   },
   {
    "duration": 7,
    "start_time": "2022-07-21T19:56:07.651Z"
   },
   {
    "duration": 44643,
    "start_time": "2022-07-21T19:56:07.664Z"
   },
   {
    "duration": 44,
    "start_time": "2022-07-21T19:56:52.309Z"
   },
   {
    "duration": 10,
    "start_time": "2022-07-21T19:56:52.355Z"
   },
   {
    "duration": 451,
    "start_time": "2022-07-21T19:56:52.366Z"
   },
   {
    "duration": 5,
    "start_time": "2022-07-21T19:57:49.087Z"
   },
   {
    "duration": 122,
    "start_time": "2022-07-21T19:58:21.437Z"
   },
   {
    "duration": 4,
    "start_time": "2022-07-21T19:58:40.094Z"
   },
   {
    "duration": 2305,
    "start_time": "2022-07-22T07:54:23.730Z"
   },
   {
    "duration": 3237,
    "start_time": "2022-07-22T07:54:33.131Z"
   },
   {
    "duration": 36,
    "start_time": "2022-07-22T07:54:36.370Z"
   },
   {
    "duration": 15,
    "start_time": "2022-07-22T07:54:36.408Z"
   },
   {
    "duration": 297,
    "start_time": "2022-07-22T07:54:36.425Z"
   },
   {
    "duration": 159,
    "start_time": "2022-07-22T07:54:36.724Z"
   },
   {
    "duration": 3,
    "start_time": "2022-07-22T07:54:50.046Z"
   },
   {
    "duration": 3786,
    "start_time": "2022-07-22T07:54:51.791Z"
   },
   {
    "duration": 4,
    "start_time": "2022-07-22T07:54:55.579Z"
   },
   {
    "duration": 203,
    "start_time": "2022-07-22T07:54:55.584Z"
   },
   {
    "duration": 16,
    "start_time": "2022-07-22T07:54:55.789Z"
   },
   {
    "duration": 0,
    "start_time": "2022-07-22T07:54:55.807Z"
   },
   {
    "duration": 10,
    "start_time": "2022-07-22T07:55:11.279Z"
   },
   {
    "duration": 87,
    "start_time": "2022-07-22T07:55:42.661Z"
   },
   {
    "duration": 75,
    "start_time": "2022-07-22T08:01:57.131Z"
   },
   {
    "duration": 2859,
    "start_time": "2022-07-22T08:09:22.068Z"
   },
   {
    "duration": 3,
    "start_time": "2022-07-22T08:09:38.339Z"
   },
   {
    "duration": 3843,
    "start_time": "2022-07-22T08:09:38.770Z"
   },
   {
    "duration": 4,
    "start_time": "2022-07-22T08:09:42.615Z"
   },
   {
    "duration": 196,
    "start_time": "2022-07-22T08:09:46.821Z"
   },
   {
    "duration": 2,
    "start_time": "2022-07-22T08:09:47.131Z"
   },
   {
    "duration": 4,
    "start_time": "2022-07-22T08:09:48.572Z"
   },
   {
    "duration": 5,
    "start_time": "2022-07-22T08:09:49.022Z"
   },
   {
    "duration": 2,
    "start_time": "2022-07-22T08:09:50.892Z"
   },
   {
    "duration": 3,
    "start_time": "2022-07-22T08:09:55.133Z"
   },
   {
    "duration": 47097,
    "start_time": "2022-07-22T08:09:56.092Z"
   },
   {
    "duration": 14,
    "start_time": "2022-07-22T08:11:32.020Z"
   },
   {
    "duration": 99,
    "start_time": "2022-07-22T08:20:58.622Z"
   },
   {
    "duration": 321,
    "start_time": "2022-07-22T08:22:27.284Z"
   },
   {
    "duration": 30,
    "start_time": "2022-07-22T08:26:29.623Z"
   },
   {
    "duration": 16,
    "start_time": "2022-07-22T08:26:44.120Z"
   },
   {
    "duration": 16,
    "start_time": "2022-07-22T08:37:20.174Z"
   },
   {
    "duration": 11,
    "start_time": "2022-07-22T08:40:27.941Z"
   },
   {
    "duration": 786,
    "start_time": "2022-07-22T08:40:29.135Z"
   },
   {
    "duration": 32,
    "start_time": "2022-07-22T08:40:29.924Z"
   },
   {
    "duration": 14,
    "start_time": "2022-07-22T08:40:30.188Z"
   },
   {
    "duration": 289,
    "start_time": "2022-07-22T08:40:31.742Z"
   },
   {
    "duration": 157,
    "start_time": "2022-07-22T08:40:33.577Z"
   },
   {
    "duration": 130,
    "start_time": "2022-07-22T08:40:57.549Z"
   },
   {
    "duration": 3,
    "start_time": "2022-07-22T08:41:06.054Z"
   },
   {
    "duration": 4148,
    "start_time": "2022-07-22T08:41:06.261Z"
   },
   {
    "duration": 4,
    "start_time": "2022-07-22T08:41:10.411Z"
   },
   {
    "duration": 207,
    "start_time": "2022-07-22T08:41:10.417Z"
   },
   {
    "duration": 2,
    "start_time": "2022-07-22T08:41:10.627Z"
   },
   {
    "duration": 6,
    "start_time": "2022-07-22T08:41:10.631Z"
   },
   {
    "duration": 8,
    "start_time": "2022-07-22T08:41:10.639Z"
   },
   {
    "duration": 9,
    "start_time": "2022-07-22T08:41:10.648Z"
   },
   {
    "duration": 3,
    "start_time": "2022-07-22T08:41:13.828Z"
   },
   {
    "duration": 49080,
    "start_time": "2022-07-22T08:41:14.148Z"
   },
   {
    "duration": 25,
    "start_time": "2022-07-22T08:42:03.231Z"
   },
   {
    "duration": 14,
    "start_time": "2022-07-22T08:47:16.524Z"
   },
   {
    "duration": 4067,
    "start_time": "2022-07-22T13:25:30.116Z"
   },
   {
    "duration": 4196,
    "start_time": "2022-07-22T13:25:58.412Z"
   },
   {
    "duration": 2221,
    "start_time": "2022-07-22T13:27:42.403Z"
   },
   {
    "duration": 2054,
    "start_time": "2022-07-22T13:27:44.626Z"
   },
   {
    "duration": 924,
    "start_time": "2022-07-22T13:27:46.682Z"
   },
   {
    "duration": 31,
    "start_time": "2022-07-22T13:27:47.609Z"
   },
   {
    "duration": 12,
    "start_time": "2022-07-22T13:27:47.642Z"
   },
   {
    "duration": 250,
    "start_time": "2022-07-22T13:27:47.659Z"
   },
   {
    "duration": 154,
    "start_time": "2022-07-22T13:27:47.911Z"
   },
   {
    "duration": 4,
    "start_time": "2022-07-22T13:27:48.067Z"
   },
   {
    "duration": 3895,
    "start_time": "2022-07-22T13:27:48.073Z"
   },
   {
    "duration": 4,
    "start_time": "2022-07-22T13:27:51.971Z"
   },
   {
    "duration": 220,
    "start_time": "2022-07-22T13:27:51.976Z"
   },
   {
    "duration": 3,
    "start_time": "2022-07-22T13:27:52.198Z"
   },
   {
    "duration": 34,
    "start_time": "2022-07-22T13:27:52.202Z"
   },
   {
    "duration": 37,
    "start_time": "2022-07-22T13:27:52.237Z"
   },
   {
    "duration": 2,
    "start_time": "2022-07-22T13:27:52.345Z"
   },
   {
    "duration": 44,
    "start_time": "2022-07-22T13:27:52.348Z"
   },
   {
    "duration": 44289,
    "start_time": "2022-07-22T13:27:52.394Z"
   },
   {
    "duration": 45,
    "start_time": "2022-07-22T13:28:36.685Z"
   },
   {
    "duration": 3,
    "start_time": "2022-07-22T13:28:36.731Z"
   },
   {
    "duration": 311,
    "start_time": "2022-07-22T13:28:36.735Z"
   },
   {
    "duration": 532,
    "start_time": "2022-07-22T13:28:37.048Z"
   },
   {
    "duration": 0,
    "start_time": "2022-07-22T13:28:37.581Z"
   },
   {
    "duration": 0,
    "start_time": "2022-07-22T13:28:37.583Z"
   },
   {
    "duration": 0,
    "start_time": "2022-07-22T13:28:37.584Z"
   },
   {
    "duration": 0,
    "start_time": "2022-07-22T13:28:37.587Z"
   },
   {
    "duration": 0,
    "start_time": "2022-07-22T13:28:37.588Z"
   },
   {
    "duration": 0,
    "start_time": "2022-07-22T13:28:37.589Z"
   },
   {
    "duration": 0,
    "start_time": "2022-07-22T13:28:37.590Z"
   },
   {
    "duration": 0,
    "start_time": "2022-07-22T13:28:37.591Z"
   },
   {
    "duration": 0,
    "start_time": "2022-07-22T13:28:37.592Z"
   },
   {
    "duration": 0,
    "start_time": "2022-07-22T13:28:37.594Z"
   },
   {
    "duration": 5,
    "start_time": "2022-07-22T13:36:17.960Z"
   },
   {
    "duration": 2117,
    "start_time": "2022-07-22T13:39:19.494Z"
   },
   {
    "duration": 1916,
    "start_time": "2022-07-22T13:39:21.613Z"
   },
   {
    "duration": 804,
    "start_time": "2022-07-22T13:39:23.531Z"
   },
   {
    "duration": 25,
    "start_time": "2022-07-22T13:39:24.337Z"
   },
   {
    "duration": 12,
    "start_time": "2022-07-22T13:39:24.363Z"
   },
   {
    "duration": 243,
    "start_time": "2022-07-22T13:39:24.377Z"
   },
   {
    "duration": 149,
    "start_time": "2022-07-22T13:39:24.621Z"
   },
   {
    "duration": 3,
    "start_time": "2022-07-22T13:39:24.771Z"
   },
   {
    "duration": 3864,
    "start_time": "2022-07-22T13:39:24.776Z"
   },
   {
    "duration": 4,
    "start_time": "2022-07-22T13:39:28.642Z"
   },
   {
    "duration": 202,
    "start_time": "2022-07-22T13:39:28.647Z"
   },
   {
    "duration": 3,
    "start_time": "2022-07-22T13:39:28.851Z"
   },
   {
    "duration": 7,
    "start_time": "2022-07-22T13:39:28.860Z"
   },
   {
    "duration": 78,
    "start_time": "2022-07-22T13:39:28.869Z"
   },
   {
    "duration": 2,
    "start_time": "2022-07-22T13:39:28.949Z"
   },
   {
    "duration": 11,
    "start_time": "2022-07-22T13:39:28.960Z"
   },
   {
    "duration": 44219,
    "start_time": "2022-07-22T13:39:28.972Z"
   },
   {
    "duration": 35,
    "start_time": "2022-07-22T13:40:13.192Z"
   },
   {
    "duration": 8,
    "start_time": "2022-07-22T13:40:13.229Z"
   },
   {
    "duration": 316,
    "start_time": "2022-07-22T13:40:13.239Z"
   },
   {
    "duration": 3,
    "start_time": "2022-07-22T13:40:13.557Z"
   },
   {
    "duration": 121,
    "start_time": "2022-07-22T13:40:13.562Z"
   },
   {
    "duration": 0,
    "start_time": "2022-07-22T13:40:13.685Z"
   },
   {
    "duration": 0,
    "start_time": "2022-07-22T13:40:13.686Z"
   },
   {
    "duration": 0,
    "start_time": "2022-07-22T13:40:13.687Z"
   },
   {
    "duration": 0,
    "start_time": "2022-07-22T13:40:13.689Z"
   },
   {
    "duration": 0,
    "start_time": "2022-07-22T13:40:13.690Z"
   },
   {
    "duration": 0,
    "start_time": "2022-07-22T13:40:13.691Z"
   },
   {
    "duration": 0,
    "start_time": "2022-07-22T13:40:13.692Z"
   },
   {
    "duration": 0,
    "start_time": "2022-07-22T13:40:13.693Z"
   },
   {
    "duration": 0,
    "start_time": "2022-07-22T13:40:13.694Z"
   },
   {
    "duration": 3,
    "start_time": "2022-07-22T13:44:20.366Z"
   },
   {
    "duration": 3169,
    "start_time": "2022-07-22T16:29:53.365Z"
   },
   {
    "duration": 3,
    "start_time": "2022-07-22T16:30:22.784Z"
   },
   {
    "duration": 6696,
    "start_time": "2022-07-22T16:30:32.546Z"
   },
   {
    "duration": 2982,
    "start_time": "2022-07-22T16:30:45.107Z"
   },
   {
    "duration": 33,
    "start_time": "2022-07-22T16:30:48.092Z"
   },
   {
    "duration": 16,
    "start_time": "2022-07-22T16:30:48.126Z"
   },
   {
    "duration": 263,
    "start_time": "2022-07-22T16:30:53.889Z"
   },
   {
    "duration": 163,
    "start_time": "2022-07-22T16:31:08.446Z"
   },
   {
    "duration": 3,
    "start_time": "2022-07-22T16:31:23.705Z"
   },
   {
    "duration": 4108,
    "start_time": "2022-07-22T16:31:26.010Z"
   },
   {
    "duration": 5,
    "start_time": "2022-07-22T16:31:30.120Z"
   },
   {
    "duration": 222,
    "start_time": "2022-07-22T16:31:30.127Z"
   },
   {
    "duration": 3,
    "start_time": "2022-07-22T16:31:30.460Z"
   },
   {
    "duration": 3,
    "start_time": "2022-07-22T16:31:34.630Z"
   },
   {
    "duration": 6,
    "start_time": "2022-07-22T16:31:36.180Z"
   },
   {
    "duration": 3,
    "start_time": "2022-07-22T16:31:51.205Z"
   },
   {
    "duration": 48476,
    "start_time": "2022-07-22T16:31:56.399Z"
   },
   {
    "duration": 40,
    "start_time": "2022-07-22T16:32:44.876Z"
   },
   {
    "duration": 13,
    "start_time": "2022-07-22T16:33:25.183Z"
   },
   {
    "duration": 241,
    "start_time": "2022-07-22T16:34:07.663Z"
   },
   {
    "duration": 108,
    "start_time": "2022-07-22T16:34:46.671Z"
   },
   {
    "duration": 1436,
    "start_time": "2022-07-22T16:35:21.445Z"
   },
   {
    "duration": 107,
    "start_time": "2022-07-22T16:35:41.347Z"
   },
   {
    "duration": 1235,
    "start_time": "2022-07-22T16:35:53.657Z"
   },
   {
    "duration": 1263,
    "start_time": "2022-07-22T16:36:13.041Z"
   },
   {
    "duration": 1358,
    "start_time": "2022-07-22T16:36:31.961Z"
   },
   {
    "duration": 1446,
    "start_time": "2022-07-22T16:36:46.417Z"
   },
   {
    "duration": 1644,
    "start_time": "2022-07-22T16:37:22.048Z"
   },
   {
    "duration": 1455,
    "start_time": "2022-07-22T16:37:37.966Z"
   },
   {
    "duration": 1743,
    "start_time": "2022-07-22T16:39:05.210Z"
   },
   {
    "duration": 1247,
    "start_time": "2022-07-22T16:39:46.135Z"
   },
   {
    "duration": 1118,
    "start_time": "2022-07-22T16:40:00.998Z"
   },
   {
    "duration": 453,
    "start_time": "2022-07-22T16:40:55.262Z"
   },
   {
    "duration": 715,
    "start_time": "2022-07-22T16:41:05.413Z"
   },
   {
    "duration": 1377,
    "start_time": "2022-07-22T16:44:37.763Z"
   },
   {
    "duration": 1341,
    "start_time": "2022-07-22T16:44:52.321Z"
   },
   {
    "duration": 1684,
    "start_time": "2022-07-22T16:45:15.203Z"
   },
   {
    "duration": 243,
    "start_time": "2022-07-22T16:46:07.101Z"
   },
   {
    "duration": 307,
    "start_time": "2022-07-22T16:46:26.381Z"
   },
   {
    "duration": 13,
    "start_time": "2022-07-22T16:46:40.699Z"
   },
   {
    "duration": 1470,
    "start_time": "2022-07-22T16:47:38.978Z"
   },
   {
    "duration": 1714,
    "start_time": "2022-07-22T16:47:54.712Z"
   },
   {
    "duration": 1669,
    "start_time": "2022-07-22T16:48:37.051Z"
   },
   {
    "duration": 385,
    "start_time": "2022-07-22T16:49:05.691Z"
   },
   {
    "duration": 3160,
    "start_time": "2022-07-25T10:24:52.230Z"
   },
   {
    "duration": 4021,
    "start_time": "2022-07-25T10:24:55.393Z"
   },
   {
    "duration": 2374,
    "start_time": "2022-07-25T10:25:03.090Z"
   },
   {
    "duration": 33,
    "start_time": "2022-07-25T10:25:05.466Z"
   },
   {
    "duration": 12,
    "start_time": "2022-07-25T10:25:06.187Z"
   },
   {
    "duration": 267,
    "start_time": "2022-07-25T10:25:08.450Z"
   },
   {
    "duration": 145,
    "start_time": "2022-07-25T10:25:09.055Z"
   },
   {
    "duration": 3,
    "start_time": "2022-07-25T10:25:14.960Z"
   },
   {
    "duration": 4042,
    "start_time": "2022-07-25T10:25:16.290Z"
   },
   {
    "duration": 5,
    "start_time": "2022-07-25T10:25:20.334Z"
   },
   {
    "duration": 213,
    "start_time": "2022-07-25T10:25:21.770Z"
   },
   {
    "duration": 3,
    "start_time": "2022-07-25T10:25:23.041Z"
   },
   {
    "duration": 4,
    "start_time": "2022-07-25T10:25:24.386Z"
   },
   {
    "duration": 4,
    "start_time": "2022-07-25T10:25:29.802Z"
   },
   {
    "duration": 4,
    "start_time": "2022-07-25T10:25:38.539Z"
   },
   {
    "duration": 25030,
    "start_time": "2022-07-25T10:25:39.370Z"
   },
   {
    "duration": 44,
    "start_time": "2022-07-25T10:26:04.403Z"
   },
   {
    "duration": 24,
    "start_time": "2022-07-25T10:26:04.449Z"
   },
   {
    "duration": 1030,
    "start_time": "2022-07-25T10:26:11.626Z"
   },
   {
    "duration": 935,
    "start_time": "2022-07-25T10:26:20.181Z"
   },
   {
    "duration": 1038,
    "start_time": "2022-07-25T10:26:28.739Z"
   },
   {
    "duration": 648,
    "start_time": "2022-07-25T10:26:37.250Z"
   },
   {
    "duration": 323,
    "start_time": "2022-07-25T10:26:42.283Z"
   },
   {
    "duration": 4,
    "start_time": "2022-07-25T10:28:32.601Z"
   },
   {
    "duration": 5,
    "start_time": "2022-07-25T10:28:36.578Z"
   },
   {
    "duration": 53,
    "start_time": "2022-07-25T10:29:07.356Z"
   },
   {
    "duration": 7,
    "start_time": "2022-07-25T10:29:13.845Z"
   },
   {
    "duration": 53,
    "start_time": "2022-07-25T10:32:56.945Z"
   },
   {
    "duration": 3,
    "start_time": "2022-07-25T10:33:54.066Z"
   },
   {
    "duration": 570,
    "start_time": "2022-07-25T10:34:10.863Z"
   },
   {
    "duration": 95,
    "start_time": "2022-07-25T10:51:37.157Z"
   },
   {
    "duration": 145,
    "start_time": "2022-07-25T10:52:42.480Z"
   },
   {
    "duration": 11,
    "start_time": "2022-07-25T10:53:18.282Z"
   },
   {
    "duration": 4,
    "start_time": "2022-07-25T10:53:32.000Z"
   },
   {
    "duration": 9,
    "start_time": "2022-07-25T10:55:40.150Z"
   },
   {
    "duration": 4,
    "start_time": "2022-07-25T10:56:13.528Z"
   },
   {
    "duration": 4,
    "start_time": "2022-07-25T10:57:10.410Z"
   },
   {
    "duration": 3,
    "start_time": "2022-07-25T10:57:12.355Z"
   },
   {
    "duration": 3,
    "start_time": "2022-07-25T10:57:24.825Z"
   },
   {
    "duration": 28,
    "start_time": "2022-07-25T11:02:10.605Z"
   },
   {
    "duration": 29,
    "start_time": "2022-07-25T11:03:29.534Z"
   },
   {
    "duration": 12,
    "start_time": "2022-07-25T11:08:43.032Z"
   },
   {
    "duration": 57247,
    "start_time": "2022-07-25T11:09:17.519Z"
   },
   {
    "duration": 4,
    "start_time": "2022-07-25T11:25:57.262Z"
   },
   {
    "duration": 3,
    "start_time": "2022-07-25T11:25:58.944Z"
   },
   {
    "duration": 118018,
    "start_time": "2022-07-25T11:26:03.269Z"
   },
   {
    "duration": 118664,
    "start_time": "2022-07-25T11:36:36.713Z"
   },
   {
    "duration": 3,
    "start_time": "2022-07-25T11:40:24.235Z"
   },
   {
    "duration": 4,
    "start_time": "2022-07-25T11:40:24.596Z"
   },
   {
    "duration": 3,
    "start_time": "2022-07-25T11:40:24.994Z"
   },
   {
    "duration": 11,
    "start_time": "2022-07-25T11:40:27.475Z"
   },
   {
    "duration": 3,
    "start_time": "2022-07-25T11:42:28.235Z"
   },
   {
    "duration": 3,
    "start_time": "2022-07-25T11:42:28.989Z"
   },
   {
    "duration": 3,
    "start_time": "2022-07-25T11:42:29.865Z"
   },
   {
    "duration": 128161,
    "start_time": "2022-07-25T11:42:31.634Z"
   },
   {
    "duration": 417,
    "start_time": "2022-07-25T11:57:02.835Z"
   },
   {
    "duration": 366,
    "start_time": "2022-07-25T11:59:28.467Z"
   },
   {
    "duration": 4,
    "start_time": "2022-07-25T12:03:29.468Z"
   },
   {
    "duration": 4,
    "start_time": "2022-07-25T12:03:31.682Z"
   },
   {
    "duration": 3,
    "start_time": "2022-07-25T12:03:48.002Z"
   },
   {
    "duration": 33,
    "start_time": "2022-07-25T12:03:50.514Z"
   },
   {
    "duration": 14,
    "start_time": "2022-07-25T12:04:52.518Z"
   },
   {
    "duration": 4,
    "start_time": "2022-07-25T12:04:57.254Z"
   },
   {
    "duration": 3,
    "start_time": "2022-07-25T12:04:57.937Z"
   },
   {
    "duration": 121392,
    "start_time": "2022-07-25T12:04:58.821Z"
   },
   {
    "duration": 3,
    "start_time": "2022-07-25T12:08:43.941Z"
   },
   {
    "duration": 2070,
    "start_time": "2022-07-25T12:08:43.946Z"
   },
   {
    "duration": 1688,
    "start_time": "2022-07-25T12:08:46.018Z"
   },
   {
    "duration": 832,
    "start_time": "2022-07-25T12:08:47.708Z"
   },
   {
    "duration": 31,
    "start_time": "2022-07-25T12:08:48.542Z"
   },
   {
    "duration": 13,
    "start_time": "2022-07-25T12:08:48.574Z"
   },
   {
    "duration": 266,
    "start_time": "2022-07-25T12:08:48.589Z"
   },
   {
    "duration": 148,
    "start_time": "2022-07-25T12:08:48.857Z"
   },
   {
    "duration": 3,
    "start_time": "2022-07-25T12:08:49.006Z"
   },
   {
    "duration": 4183,
    "start_time": "2022-07-25T12:08:49.011Z"
   },
   {
    "duration": 4,
    "start_time": "2022-07-25T12:08:53.197Z"
   },
   {
    "duration": 219,
    "start_time": "2022-07-25T12:08:53.202Z"
   },
   {
    "duration": 3,
    "start_time": "2022-07-25T12:08:53.422Z"
   },
   {
    "duration": 27,
    "start_time": "2022-07-25T12:08:53.427Z"
   },
   {
    "duration": 84,
    "start_time": "2022-07-25T12:08:53.456Z"
   },
   {
    "duration": 3,
    "start_time": "2022-07-25T12:08:53.542Z"
   },
   {
    "duration": 22849,
    "start_time": "2022-07-25T12:08:53.546Z"
   },
   {
    "duration": 41,
    "start_time": "2022-07-25T12:09:16.397Z"
   },
   {
    "duration": 16,
    "start_time": "2022-07-25T12:09:16.440Z"
   },
   {
    "duration": 915,
    "start_time": "2022-07-25T12:09:16.457Z"
   },
   {
    "duration": 911,
    "start_time": "2022-07-25T12:09:17.373Z"
   },
   {
    "duration": 655,
    "start_time": "2022-07-25T12:09:18.286Z"
   },
   {
    "duration": 299,
    "start_time": "2022-07-25T12:09:18.943Z"
   },
   {
    "duration": 4,
    "start_time": "2022-07-25T12:09:19.244Z"
   },
   {
    "duration": 28,
    "start_time": "2022-07-25T12:09:19.250Z"
   },
   {
    "duration": 19,
    "start_time": "2022-07-25T12:09:19.279Z"
   },
   {
    "duration": 18,
    "start_time": "2022-07-25T12:09:19.299Z"
   },
   {
    "duration": 594,
    "start_time": "2022-07-25T12:09:19.318Z"
   },
   {
    "duration": 4,
    "start_time": "2022-07-25T12:09:19.915Z"
   },
   {
    "duration": 9,
    "start_time": "2022-07-25T12:09:19.920Z"
   },
   {
    "duration": 117,
    "start_time": "2022-07-25T12:09:56.058Z"
   },
   {
    "duration": 2,
    "start_time": "2022-07-25T12:10:05.514Z"
   },
   {
    "duration": 2,
    "start_time": "2022-07-25T12:10:50.549Z"
   },
   {
    "duration": 4,
    "start_time": "2022-07-25T12:14:43.200Z"
   },
   {
    "duration": 3,
    "start_time": "2022-07-25T12:14:45.267Z"
   },
   {
    "duration": 3,
    "start_time": "2022-07-25T12:14:54.401Z"
   },
   {
    "duration": 13,
    "start_time": "2022-07-25T12:16:08.442Z"
   },
   {
    "duration": 120423,
    "start_time": "2022-07-25T12:16:22.442Z"
   },
   {
    "duration": 121427,
    "start_time": "2022-07-25T12:20:17.239Z"
   },
   {
    "duration": 104,
    "start_time": "2022-07-25T12:22:51.086Z"
   },
   {
    "duration": 8,
    "start_time": "2022-07-25T12:23:19.761Z"
   },
   {
    "duration": 2387,
    "start_time": "2022-07-25T12:23:19.772Z"
   },
   {
    "duration": 1913,
    "start_time": "2022-07-25T12:23:22.161Z"
   },
   {
    "duration": 928,
    "start_time": "2022-07-25T12:23:24.076Z"
   },
   {
    "duration": 36,
    "start_time": "2022-07-25T12:23:25.007Z"
   },
   {
    "duration": 30,
    "start_time": "2022-07-25T12:23:25.045Z"
   },
   {
    "duration": 312,
    "start_time": "2022-07-25T12:23:25.078Z"
   },
   {
    "duration": 161,
    "start_time": "2022-07-25T12:23:25.392Z"
   },
   {
    "duration": 9,
    "start_time": "2022-07-25T12:23:25.555Z"
   },
   {
    "duration": 4181,
    "start_time": "2022-07-25T12:23:25.566Z"
   },
   {
    "duration": 3,
    "start_time": "2022-07-25T12:23:29.749Z"
   },
   {
    "duration": 269,
    "start_time": "2022-07-25T12:23:29.753Z"
   },
   {
    "duration": 3,
    "start_time": "2022-07-25T12:23:30.024Z"
   },
   {
    "duration": 10,
    "start_time": "2022-07-25T12:23:30.030Z"
   },
   {
    "duration": 10,
    "start_time": "2022-07-25T12:23:30.042Z"
   },
   {
    "duration": 3,
    "start_time": "2022-07-25T12:23:43.241Z"
   },
   {
    "duration": 89885,
    "start_time": "2022-07-25T12:23:46.593Z"
   },
   {
    "duration": 46,
    "start_time": "2022-07-25T12:25:16.481Z"
   },
   {
    "duration": 37,
    "start_time": "2022-07-25T12:25:16.529Z"
   },
   {
    "duration": 1488,
    "start_time": "2022-07-25T12:25:16.568Z"
   },
   {
    "duration": 3105,
    "start_time": "2022-07-25T12:25:18.057Z"
   },
   {
    "duration": 701,
    "start_time": "2022-07-25T12:25:21.165Z"
   },
   {
    "duration": 676,
    "start_time": "2022-07-25T12:25:21.867Z"
   },
   {
    "duration": 4,
    "start_time": "2022-07-25T12:25:22.545Z"
   },
   {
    "duration": 35,
    "start_time": "2022-07-25T12:25:22.551Z"
   },
   {
    "duration": 6,
    "start_time": "2022-07-25T12:25:22.589Z"
   },
   {
    "duration": 21,
    "start_time": "2022-07-25T12:25:22.597Z"
   },
   {
    "duration": 157,
    "start_time": "2022-07-25T12:25:22.620Z"
   },
   {
    "duration": 0,
    "start_time": "2022-07-25T12:25:22.778Z"
   },
   {
    "duration": 0,
    "start_time": "2022-07-25T12:25:22.779Z"
   },
   {
    "duration": 0,
    "start_time": "2022-07-25T12:25:22.781Z"
   },
   {
    "duration": 4,
    "start_time": "2022-07-25T12:28:40.893Z"
   },
   {
    "duration": 4,
    "start_time": "2022-07-25T12:28:43.679Z"
   },
   {
    "duration": 2,
    "start_time": "2022-07-25T12:28:46.775Z"
   },
   {
    "duration": 428399,
    "start_time": "2022-07-25T12:28:48.646Z"
   },
   {
    "duration": 3,
    "start_time": "2022-07-25T12:35:57.047Z"
   },
   {
    "duration": 1925,
    "start_time": "2022-07-25T12:36:13.844Z"
   },
   {
    "duration": 3,
    "start_time": "2022-07-25T12:36:31.056Z"
   },
   {
    "duration": 4,
    "start_time": "2022-07-25T12:36:39.383Z"
   },
   {
    "duration": 5,
    "start_time": "2022-07-25T12:37:36.309Z"
   },
   {
    "duration": 14,
    "start_time": "2022-07-25T12:38:15.008Z"
   },
   {
    "duration": 3,
    "start_time": "2022-07-25T12:41:06.970Z"
   },
   {
    "duration": 22371,
    "start_time": "2022-07-25T12:41:07.955Z"
   },
   {
    "duration": 9,
    "start_time": "2022-07-25T12:41:30.328Z"
   },
   {
    "duration": 22,
    "start_time": "2022-07-25T12:41:30.339Z"
   },
   {
    "duration": 929,
    "start_time": "2022-07-25T12:41:30.364Z"
   },
   {
    "duration": 978,
    "start_time": "2022-07-25T12:41:31.295Z"
   },
   {
    "duration": 685,
    "start_time": "2022-07-25T12:41:32.275Z"
   },
   {
    "duration": 348,
    "start_time": "2022-07-25T12:41:32.962Z"
   },
   {
    "duration": 3,
    "start_time": "2022-07-25T12:41:33.313Z"
   },
   {
    "duration": 16,
    "start_time": "2022-07-25T12:41:33.317Z"
   },
   {
    "duration": 4,
    "start_time": "2022-07-25T12:41:33.335Z"
   },
   {
    "duration": 5,
    "start_time": "2022-07-25T12:41:38.458Z"
   },
   {
    "duration": 3,
    "start_time": "2022-07-25T12:41:48.258Z"
   },
   {
    "duration": 2,
    "start_time": "2022-07-25T12:41:49.586Z"
   },
   {
    "duration": 4,
    "start_time": "2022-07-25T12:41:51.411Z"
   },
   {
    "duration": 4,
    "start_time": "2022-07-25T12:41:53.066Z"
   },
   {
    "duration": 15,
    "start_time": "2022-07-25T12:42:01.549Z"
   },
   {
    "duration": 17,
    "start_time": "2022-07-25T12:43:20.273Z"
   },
   {
    "duration": 13,
    "start_time": "2022-07-25T12:43:57.007Z"
   },
   {
    "duration": 15,
    "start_time": "2022-07-25T12:56:08.581Z"
   },
   {
    "duration": 15,
    "start_time": "2022-07-25T12:58:09.295Z"
   },
   {
    "duration": 4,
    "start_time": "2022-07-25T12:58:27.456Z"
   },
   {
    "duration": 16,
    "start_time": "2022-07-25T12:59:58.249Z"
   },
   {
    "duration": 4,
    "start_time": "2022-07-25T13:00:49.849Z"
   },
   {
    "duration": 4,
    "start_time": "2022-07-25T13:01:01.366Z"
   },
   {
    "duration": 4,
    "start_time": "2022-07-25T13:04:57.990Z"
   },
   {
    "duration": 4,
    "start_time": "2022-07-25T13:04:59.622Z"
   },
   {
    "duration": 15,
    "start_time": "2022-07-25T13:05:02.460Z"
   },
   {
    "duration": 4,
    "start_time": "2022-07-25T13:05:16.621Z"
   },
   {
    "duration": 126262,
    "start_time": "2022-07-25T13:05:18.190Z"
   },
   {
    "duration": 2730,
    "start_time": "2022-07-25T17:01:40.921Z"
   },
   {
    "duration": 3962,
    "start_time": "2022-07-25T17:01:43.654Z"
   },
   {
    "duration": 2841,
    "start_time": "2022-07-25T17:01:48.073Z"
   },
   {
    "duration": 23,
    "start_time": "2022-07-25T17:01:50.916Z"
   },
   {
    "duration": 12,
    "start_time": "2022-07-25T17:01:50.941Z"
   },
   {
    "duration": 221,
    "start_time": "2022-07-25T17:01:50.955Z"
   },
   {
    "duration": 130,
    "start_time": "2022-07-25T17:01:51.177Z"
   },
   {
    "duration": 3,
    "start_time": "2022-07-25T17:01:54.022Z"
   },
   {
    "duration": 3449,
    "start_time": "2022-07-25T17:01:54.401Z"
   },
   {
    "duration": 4,
    "start_time": "2022-07-25T17:01:57.852Z"
   },
   {
    "duration": 177,
    "start_time": "2022-07-25T17:01:57.857Z"
   },
   {
    "duration": 2,
    "start_time": "2022-07-25T17:01:58.036Z"
   },
   {
    "duration": 7,
    "start_time": "2022-07-25T17:01:58.040Z"
   },
   {
    "duration": 10,
    "start_time": "2022-07-25T17:01:58.049Z"
   },
   {
    "duration": 3,
    "start_time": "2022-07-25T17:01:58.755Z"
   },
   {
    "duration": 21036,
    "start_time": "2022-07-25T17:02:00.175Z"
   },
   {
    "duration": 43,
    "start_time": "2022-07-25T17:02:21.213Z"
   },
   {
    "duration": 9,
    "start_time": "2022-07-25T17:02:21.259Z"
   },
   {
    "duration": 902,
    "start_time": "2022-07-25T17:02:21.271Z"
   },
   {
    "duration": 783,
    "start_time": "2022-07-25T17:02:22.175Z"
   },
   {
    "duration": 556,
    "start_time": "2022-07-25T17:02:22.960Z"
   },
   {
    "duration": 258,
    "start_time": "2022-07-25T17:02:23.518Z"
   },
   {
    "duration": 3,
    "start_time": "2022-07-25T17:02:23.777Z"
   },
   {
    "duration": 7,
    "start_time": "2022-07-25T17:31:36.354Z"
   },
   {
    "duration": 3,
    "start_time": "2022-07-25T17:31:36.785Z"
   },
   {
    "duration": 3,
    "start_time": "2022-07-25T17:31:44.907Z"
   },
   {
    "duration": 3,
    "start_time": "2022-07-25T17:32:07.602Z"
   },
   {
    "duration": 4,
    "start_time": "2022-07-25T17:32:14.815Z"
   },
   {
    "duration": 3,
    "start_time": "2022-07-25T17:32:15.595Z"
   },
   {
    "duration": 108029,
    "start_time": "2022-07-25T17:32:16.203Z"
   },
   {
    "duration": 110,
    "start_time": "2022-07-25T17:36:59.407Z"
   },
   {
    "duration": 4,
    "start_time": "2022-07-25T17:37:29.366Z"
   },
   {
    "duration": 3,
    "start_time": "2022-07-25T17:38:45.699Z"
   },
   {
    "duration": 2,
    "start_time": "2022-07-25T17:39:50.643Z"
   },
   {
    "duration": 3,
    "start_time": "2022-07-25T17:53:07.681Z"
   },
   {
    "duration": 1808,
    "start_time": "2022-07-25T17:53:07.686Z"
   },
   {
    "duration": 1609,
    "start_time": "2022-07-25T17:53:09.496Z"
   },
   {
    "duration": 719,
    "start_time": "2022-07-25T17:53:11.106Z"
   },
   {
    "duration": 30,
    "start_time": "2022-07-25T17:53:11.827Z"
   },
   {
    "duration": 14,
    "start_time": "2022-07-25T17:53:11.858Z"
   },
   {
    "duration": 248,
    "start_time": "2022-07-25T17:53:11.874Z"
   },
   {
    "duration": 128,
    "start_time": "2022-07-25T17:53:12.124Z"
   },
   {
    "duration": 3,
    "start_time": "2022-07-25T17:53:12.253Z"
   },
   {
    "duration": 3599,
    "start_time": "2022-07-25T17:53:12.258Z"
   },
   {
    "duration": 3,
    "start_time": "2022-07-25T17:53:15.859Z"
   },
   {
    "duration": 178,
    "start_time": "2022-07-25T17:53:15.864Z"
   },
   {
    "duration": 2,
    "start_time": "2022-07-25T17:53:16.044Z"
   },
   {
    "duration": 5,
    "start_time": "2022-07-25T17:53:16.049Z"
   },
   {
    "duration": 6,
    "start_time": "2022-07-25T17:53:16.056Z"
   },
   {
    "duration": 4,
    "start_time": "2022-07-25T17:53:16.063Z"
   },
   {
    "duration": 21512,
    "start_time": "2022-07-25T17:53:16.068Z"
   },
   {
    "duration": 41,
    "start_time": "2022-07-25T17:53:37.581Z"
   },
   {
    "duration": 21,
    "start_time": "2022-07-25T17:53:37.630Z"
   },
   {
    "duration": 884,
    "start_time": "2022-07-25T17:53:37.653Z"
   },
   {
    "duration": 786,
    "start_time": "2022-07-25T17:53:38.539Z"
   },
   {
    "duration": 628,
    "start_time": "2022-07-25T17:53:39.326Z"
   },
   {
    "duration": 266,
    "start_time": "2022-07-25T17:53:39.956Z"
   },
   {
    "duration": 7,
    "start_time": "2022-07-25T17:53:40.224Z"
   },
   {
    "duration": 8,
    "start_time": "2022-07-25T17:53:40.233Z"
   },
   {
    "duration": 4,
    "start_time": "2022-07-25T17:53:40.242Z"
   },
   {
    "duration": 4,
    "start_time": "2022-07-25T17:53:40.247Z"
   },
   {
    "duration": 487,
    "start_time": "2022-07-25T17:53:40.252Z"
   },
   {
    "duration": 3,
    "start_time": "2022-07-25T17:53:40.741Z"
   },
   {
    "duration": 3,
    "start_time": "2022-07-25T18:08:35.722Z"
   },
   {
    "duration": 3,
    "start_time": "2022-07-25T18:08:37.027Z"
   },
   {
    "duration": 93,
    "start_time": "2022-07-25T18:08:38.098Z"
   },
   {
    "duration": 3,
    "start_time": "2022-07-25T18:08:47.371Z"
   },
   {
    "duration": 3,
    "start_time": "2022-07-25T18:09:28.993Z"
   },
   {
    "duration": 4,
    "start_time": "2022-07-25T18:12:36.256Z"
   },
   {
    "duration": 4,
    "start_time": "2022-07-25T18:12:42.493Z"
   },
   {
    "duration": 3,
    "start_time": "2022-07-25T18:12:43.774Z"
   },
   {
    "duration": 109482,
    "start_time": "2022-07-25T18:12:45.556Z"
   },
   {
    "duration": 3,
    "start_time": "2022-07-25T18:15:40.607Z"
   },
   {
    "duration": 3,
    "start_time": "2022-07-25T18:15:43.853Z"
   },
   {
    "duration": 3,
    "start_time": "2022-07-25T18:16:00.779Z"
   },
   {
    "duration": 183959,
    "start_time": "2022-07-25T18:16:28.981Z"
   },
   {
    "duration": 4,
    "start_time": "2022-07-25T18:22:06.515Z"
   },
   {
    "duration": 5,
    "start_time": "2022-07-25T18:22:08.346Z"
   },
   {
    "duration": 4,
    "start_time": "2022-07-25T18:22:27.046Z"
   },
   {
    "duration": 53423,
    "start_time": "2022-07-25T18:22:30.309Z"
   },
   {
    "duration": 3,
    "start_time": "2022-07-25T18:23:23.734Z"
   },
   {
    "duration": 6,
    "start_time": "2022-07-25T18:23:23.739Z"
   },
   {
    "duration": 3,
    "start_time": "2022-07-25T18:23:46.946Z"
   },
   {
    "duration": 3,
    "start_time": "2022-07-25T18:28:30.494Z"
   },
   {
    "duration": 1784,
    "start_time": "2022-07-25T18:28:30.498Z"
   },
   {
    "duration": 1671,
    "start_time": "2022-07-25T18:28:32.284Z"
   },
   {
    "duration": 736,
    "start_time": "2022-07-25T18:28:33.957Z"
   },
   {
    "duration": 36,
    "start_time": "2022-07-25T18:28:34.695Z"
   },
   {
    "duration": 12,
    "start_time": "2022-07-25T18:28:34.732Z"
   },
   {
    "duration": 242,
    "start_time": "2022-07-25T18:28:34.745Z"
   },
   {
    "duration": 137,
    "start_time": "2022-07-25T18:28:34.989Z"
   },
   {
    "duration": 3,
    "start_time": "2022-07-25T18:28:35.130Z"
   },
   {
    "duration": 3741,
    "start_time": "2022-07-25T18:28:35.134Z"
   },
   {
    "duration": 3,
    "start_time": "2022-07-25T18:28:38.878Z"
   },
   {
    "duration": 200,
    "start_time": "2022-07-25T18:28:38.882Z"
   },
   {
    "duration": 3,
    "start_time": "2022-07-25T18:28:39.084Z"
   },
   {
    "duration": 10,
    "start_time": "2022-07-25T18:28:39.089Z"
   },
   {
    "duration": 8,
    "start_time": "2022-07-25T18:28:39.100Z"
   },
   {
    "duration": 4,
    "start_time": "2022-07-25T18:28:39.109Z"
   },
   {
    "duration": 21116,
    "start_time": "2022-07-25T18:28:39.114Z"
   },
   {
    "duration": 41,
    "start_time": "2022-07-25T18:29:00.231Z"
   },
   {
    "duration": 18,
    "start_time": "2022-07-25T18:29:00.274Z"
   },
   {
    "duration": 867,
    "start_time": "2022-07-25T18:29:00.294Z"
   },
   {
    "duration": 782,
    "start_time": "2022-07-25T18:29:01.163Z"
   },
   {
    "duration": 613,
    "start_time": "2022-07-25T18:29:01.946Z"
   },
   {
    "duration": 261,
    "start_time": "2022-07-25T18:29:02.562Z"
   },
   {
    "duration": 2,
    "start_time": "2022-07-25T18:29:02.831Z"
   },
   {
    "duration": 8,
    "start_time": "2022-07-25T18:29:02.835Z"
   },
   {
    "duration": 4,
    "start_time": "2022-07-25T18:29:02.844Z"
   },
   {
    "duration": 4,
    "start_time": "2022-07-25T18:29:02.849Z"
   },
   {
    "duration": 485,
    "start_time": "2022-07-25T18:29:02.855Z"
   },
   {
    "duration": 3,
    "start_time": "2022-07-25T18:29:03.342Z"
   },
   {
    "duration": 5,
    "start_time": "2022-07-25T18:29:03.347Z"
   },
   {
    "duration": 8,
    "start_time": "2022-07-25T18:29:03.353Z"
   },
   {
    "duration": 52075,
    "start_time": "2022-07-25T18:29:03.363Z"
   },
   {
    "duration": 91,
    "start_time": "2022-07-25T18:29:55.441Z"
   },
   {
    "duration": 116,
    "start_time": "2022-07-25T18:29:55.534Z"
   },
   {
    "duration": 0,
    "start_time": "2022-07-25T18:29:55.651Z"
   },
   {
    "duration": 0,
    "start_time": "2022-07-25T18:29:55.652Z"
   },
   {
    "duration": 3,
    "start_time": "2022-07-25T18:30:04.022Z"
   },
   {
    "duration": 4,
    "start_time": "2022-07-25T18:30:45.979Z"
   },
   {
    "duration": 2,
    "start_time": "2022-07-25T18:30:48.255Z"
   },
   {
    "duration": 43,
    "start_time": "2022-07-25T18:30:49.821Z"
   },
   {
    "duration": 3,
    "start_time": "2022-07-25T18:31:44.969Z"
   },
   {
    "duration": 2,
    "start_time": "2022-07-25T18:31:45.662Z"
   },
   {
    "duration": 407842,
    "start_time": "2022-07-25T18:31:46.656Z"
   },
   {
    "duration": 3,
    "start_time": "2022-07-25T18:38:48.392Z"
   },
   {
    "duration": 1783,
    "start_time": "2022-07-25T18:38:48.396Z"
   },
   {
    "duration": 1627,
    "start_time": "2022-07-25T18:38:50.180Z"
   },
   {
    "duration": 712,
    "start_time": "2022-07-25T18:38:51.809Z"
   },
   {
    "duration": 32,
    "start_time": "2022-07-25T18:38:52.523Z"
   },
   {
    "duration": 11,
    "start_time": "2022-07-25T18:38:52.556Z"
   },
   {
    "duration": 240,
    "start_time": "2022-07-25T18:38:52.569Z"
   },
   {
    "duration": 132,
    "start_time": "2022-07-25T18:38:52.810Z"
   },
   {
    "duration": 3,
    "start_time": "2022-07-25T18:38:52.943Z"
   },
   {
    "duration": 3447,
    "start_time": "2022-07-25T18:38:52.947Z"
   },
   {
    "duration": 3,
    "start_time": "2022-07-25T18:38:56.395Z"
   },
   {
    "duration": 185,
    "start_time": "2022-07-25T18:38:56.400Z"
   },
   {
    "duration": 2,
    "start_time": "2022-07-25T18:38:56.587Z"
   },
   {
    "duration": 4,
    "start_time": "2022-07-25T18:38:56.592Z"
   },
   {
    "duration": 5,
    "start_time": "2022-07-25T18:38:56.597Z"
   },
   {
    "duration": 3,
    "start_time": "2022-07-25T18:38:56.603Z"
   },
   {
    "duration": 21016,
    "start_time": "2022-07-25T18:38:56.607Z"
   },
   {
    "duration": 43,
    "start_time": "2022-07-25T18:39:17.625Z"
   },
   {
    "duration": 6,
    "start_time": "2022-07-25T18:39:17.670Z"
   },
   {
    "duration": 916,
    "start_time": "2022-07-25T18:39:17.678Z"
   },
   {
    "duration": 804,
    "start_time": "2022-07-25T18:39:18.595Z"
   },
   {
    "duration": 582,
    "start_time": "2022-07-25T18:39:19.401Z"
   },
   {
    "duration": 267,
    "start_time": "2022-07-25T18:39:19.985Z"
   },
   {
    "duration": 3,
    "start_time": "2022-07-25T18:39:20.254Z"
   },
   {
    "duration": 10,
    "start_time": "2022-07-25T18:39:20.258Z"
   },
   {
    "duration": 8,
    "start_time": "2022-07-25T18:39:20.269Z"
   },
   {
    "duration": 5,
    "start_time": "2022-07-25T18:39:20.279Z"
   },
   {
    "duration": 519,
    "start_time": "2022-07-25T18:39:20.285Z"
   },
   {
    "duration": 3,
    "start_time": "2022-07-25T18:39:28.313Z"
   },
   {
    "duration": 4,
    "start_time": "2022-07-25T18:40:16.430Z"
   },
   {
    "duration": 3,
    "start_time": "2022-07-25T18:40:19.353Z"
   },
   {
    "duration": 34975,
    "start_time": "2022-07-25T18:40:19.357Z"
   },
   {
    "duration": 3,
    "start_time": "2022-07-25T18:40:54.334Z"
   },
   {
    "duration": 6,
    "start_time": "2022-07-25T18:40:54.339Z"
   },
   {
    "duration": 10,
    "start_time": "2022-07-25T18:42:34.568Z"
   },
   {
    "duration": 3,
    "start_time": "2022-07-25T18:42:55.412Z"
   },
   {
    "duration": 4,
    "start_time": "2022-07-25T18:42:55.913Z"
   },
   {
    "duration": 3,
    "start_time": "2022-07-25T18:42:57.011Z"
   },
   {
    "duration": 25253,
    "start_time": "2022-07-25T18:43:02.384Z"
   },
   {
    "duration": 3,
    "start_time": "2022-07-25T18:43:49.175Z"
   },
   {
    "duration": 3,
    "start_time": "2022-07-25T18:43:49.848Z"
   },
   {
    "duration": 3,
    "start_time": "2022-07-25T18:43:59.548Z"
   },
   {
    "duration": 422584,
    "start_time": "2022-07-25T18:44:01.347Z"
   },
   {
    "duration": 3,
    "start_time": "2022-07-25T18:58:28.753Z"
   },
   {
    "duration": 3,
    "start_time": "2022-07-25T18:58:29.478Z"
   },
   {
    "duration": 9575,
    "start_time": "2022-07-25T18:58:31.358Z"
   },
   {
    "duration": 3,
    "start_time": "2022-07-25T18:59:15.182Z"
   },
   {
    "duration": 3,
    "start_time": "2022-07-25T18:59:18.054Z"
   },
   {
    "duration": 3,
    "start_time": "2022-07-25T18:59:21.122Z"
   },
   {
    "duration": 311968,
    "start_time": "2022-07-25T18:59:36.969Z"
   },
   {
    "duration": 3,
    "start_time": "2022-07-25T19:09:56.151Z"
   },
   {
    "duration": 3,
    "start_time": "2022-07-25T19:09:56.439Z"
   },
   {
    "duration": 2,
    "start_time": "2022-07-25T19:09:57.426Z"
   },
   {
    "duration": 9551,
    "start_time": "2022-07-25T19:09:58.780Z"
   },
   {
    "duration": 3,
    "start_time": "2022-07-25T19:11:08.128Z"
   },
   {
    "duration": 2108,
    "start_time": "2022-07-25T19:11:08.133Z"
   },
   {
    "duration": 1712,
    "start_time": "2022-07-25T19:11:10.243Z"
   },
   {
    "duration": 713,
    "start_time": "2022-07-25T19:11:11.957Z"
   },
   {
    "duration": 23,
    "start_time": "2022-07-25T19:11:12.672Z"
   },
   {
    "duration": 11,
    "start_time": "2022-07-25T19:11:12.696Z"
   },
   {
    "duration": 244,
    "start_time": "2022-07-25T19:11:12.709Z"
   },
   {
    "duration": 146,
    "start_time": "2022-07-25T19:11:12.955Z"
   },
   {
    "duration": 3,
    "start_time": "2022-07-25T19:11:13.102Z"
   },
   {
    "duration": 3493,
    "start_time": "2022-07-25T19:11:13.106Z"
   },
   {
    "duration": 3,
    "start_time": "2022-07-25T19:11:16.600Z"
   },
   {
    "duration": 184,
    "start_time": "2022-07-25T19:11:16.605Z"
   },
   {
    "duration": 3,
    "start_time": "2022-07-25T19:11:16.790Z"
   },
   {
    "duration": 6,
    "start_time": "2022-07-25T19:11:16.795Z"
   },
   {
    "duration": 7,
    "start_time": "2022-07-25T19:11:16.802Z"
   },
   {
    "duration": 6,
    "start_time": "2022-07-25T19:11:16.810Z"
   },
   {
    "duration": 42026,
    "start_time": "2022-07-25T19:11:18.143Z"
   },
   {
    "duration": 37,
    "start_time": "2022-07-25T19:12:00.171Z"
   },
   {
    "duration": 28,
    "start_time": "2022-07-25T19:12:00.210Z"
   },
   {
    "duration": 1017,
    "start_time": "2022-07-25T19:12:00.240Z"
   },
   {
    "duration": 1411,
    "start_time": "2022-07-25T19:12:01.259Z"
   },
   {
    "duration": 584,
    "start_time": "2022-07-25T19:12:02.671Z"
   },
   {
    "duration": 317,
    "start_time": "2022-07-25T19:12:03.256Z"
   },
   {
    "duration": 3,
    "start_time": "2022-07-25T19:12:03.574Z"
   },
   {
    "duration": 17,
    "start_time": "2022-07-25T19:12:03.579Z"
   },
   {
    "duration": 5,
    "start_time": "2022-07-25T19:12:03.598Z"
   },
   {
    "duration": 4,
    "start_time": "2022-07-25T19:12:03.604Z"
   },
   {
    "duration": 5,
    "start_time": "2022-07-25T19:12:03.610Z"
   },
   {
    "duration": 5,
    "start_time": "2022-07-25T19:12:03.617Z"
   },
   {
    "duration": 3,
    "start_time": "2022-07-25T19:12:03.631Z"
   },
   {
    "duration": 6,
    "start_time": "2022-07-25T19:12:03.636Z"
   },
   {
    "duration": 14590,
    "start_time": "2022-07-25T19:12:03.643Z"
   },
   {
    "duration": 3,
    "start_time": "2022-07-25T19:12:53.426Z"
   },
   {
    "duration": 3,
    "start_time": "2022-07-25T19:12:53.837Z"
   },
   {
    "duration": 3,
    "start_time": "2022-07-25T19:12:56.151Z"
   },
   {
    "duration": 536046,
    "start_time": "2022-07-25T19:12:56.586Z"
   },
   {
    "duration": 3,
    "start_time": "2022-07-26T11:36:01.268Z"
   },
   {
    "duration": 2839,
    "start_time": "2022-07-26T11:36:01.272Z"
   },
   {
    "duration": 5609,
    "start_time": "2022-07-26T11:36:04.113Z"
   },
   {
    "duration": 3041,
    "start_time": "2022-07-26T11:36:09.724Z"
   },
   {
    "duration": 27,
    "start_time": "2022-07-26T11:36:12.766Z"
   },
   {
    "duration": 20,
    "start_time": "2022-07-26T11:36:12.794Z"
   },
   {
    "duration": 222,
    "start_time": "2022-07-26T11:36:12.816Z"
   },
   {
    "duration": 134,
    "start_time": "2022-07-26T11:36:13.040Z"
   },
   {
    "duration": 2,
    "start_time": "2022-07-26T11:36:13.177Z"
   },
   {
    "duration": 3592,
    "start_time": "2022-07-26T11:36:13.180Z"
   },
   {
    "duration": 4,
    "start_time": "2022-07-26T11:36:16.773Z"
   },
   {
    "duration": 186,
    "start_time": "2022-07-26T11:36:16.778Z"
   },
   {
    "duration": 2,
    "start_time": "2022-07-26T11:36:16.966Z"
   },
   {
    "duration": 9,
    "start_time": "2022-07-26T11:36:16.969Z"
   },
   {
    "duration": 76,
    "start_time": "2022-07-26T11:36:16.980Z"
   },
   {
    "duration": 3,
    "start_time": "2022-07-26T11:36:17.057Z"
   },
   {
    "duration": 42601,
    "start_time": "2022-07-26T11:36:17.061Z"
   },
   {
    "duration": 33,
    "start_time": "2022-07-26T11:36:59.664Z"
   },
   {
    "duration": 9,
    "start_time": "2022-07-26T11:36:59.699Z"
   },
   {
    "duration": 1034,
    "start_time": "2022-07-26T11:36:59.709Z"
   },
   {
    "duration": 1424,
    "start_time": "2022-07-26T11:37:00.744Z"
   },
   {
    "duration": 582,
    "start_time": "2022-07-26T11:37:02.170Z"
   },
   {
    "duration": 328,
    "start_time": "2022-07-26T11:37:02.754Z"
   },
   {
    "duration": 3,
    "start_time": "2022-07-26T11:37:03.084Z"
   },
   {
    "duration": 20,
    "start_time": "2022-07-26T11:37:03.089Z"
   },
   {
    "duration": 4,
    "start_time": "2022-07-26T11:37:03.110Z"
   },
   {
    "duration": 5,
    "start_time": "2022-07-26T11:37:03.115Z"
   },
   {
    "duration": 3,
    "start_time": "2022-07-26T11:37:34.407Z"
   },
   {
    "duration": 7,
    "start_time": "2022-07-26T11:37:35.174Z"
   },
   {
    "duration": 3,
    "start_time": "2022-07-26T11:37:36.454Z"
   },
   {
    "duration": 3,
    "start_time": "2022-07-26T11:37:38.801Z"
   },
   {
    "duration": 2,
    "start_time": "2022-07-26T11:37:39.329Z"
   },
   {
    "duration": 84,
    "start_time": "2022-07-26T11:40:13.156Z"
   },
   {
    "duration": 3,
    "start_time": "2022-07-26T11:42:55.642Z"
   },
   {
    "duration": 3,
    "start_time": "2022-07-26T11:54:08.666Z"
   },
   {
    "duration": 3,
    "start_time": "2022-07-26T11:54:09.987Z"
   },
   {
    "duration": 145,
    "start_time": "2022-07-26T11:55:26.111Z"
   },
   {
    "duration": 3,
    "start_time": "2022-07-26T11:55:32.023Z"
   },
   {
    "duration": 114279,
    "start_time": "2022-07-26T11:56:50.575Z"
   },
   {
    "duration": 99666,
    "start_time": "2022-07-26T11:59:14.988Z"
   },
   {
    "duration": 2,
    "start_time": "2022-07-26T12:04:57.152Z"
   },
   {
    "duration": 1791,
    "start_time": "2022-07-26T12:04:57.156Z"
   },
   {
    "duration": 1649,
    "start_time": "2022-07-26T12:04:58.950Z"
   },
   {
    "duration": 688,
    "start_time": "2022-07-26T12:05:00.600Z"
   },
   {
    "duration": 24,
    "start_time": "2022-07-26T12:05:01.290Z"
   },
   {
    "duration": 26,
    "start_time": "2022-07-26T12:05:01.315Z"
   },
   {
    "duration": 235,
    "start_time": "2022-07-26T12:05:01.343Z"
   },
   {
    "duration": 135,
    "start_time": "2022-07-26T12:05:01.579Z"
   },
   {
    "duration": 2,
    "start_time": "2022-07-26T12:05:01.716Z"
   },
   {
    "duration": 3548,
    "start_time": "2022-07-26T12:05:01.719Z"
   },
   {
    "duration": 3,
    "start_time": "2022-07-26T12:05:05.269Z"
   },
   {
    "duration": 173,
    "start_time": "2022-07-26T12:05:05.274Z"
   },
   {
    "duration": 2,
    "start_time": "2022-07-26T12:05:05.452Z"
   },
   {
    "duration": 5,
    "start_time": "2022-07-26T12:05:05.456Z"
   },
   {
    "duration": 6,
    "start_time": "2022-07-26T12:05:05.462Z"
   },
   {
    "duration": 73,
    "start_time": "2022-07-26T12:05:05.469Z"
   },
   {
    "duration": 42510,
    "start_time": "2022-07-26T12:05:05.544Z"
   },
   {
    "duration": 35,
    "start_time": "2022-07-26T12:05:48.055Z"
   },
   {
    "duration": 12,
    "start_time": "2022-07-26T12:05:48.092Z"
   },
   {
    "duration": 1036,
    "start_time": "2022-07-26T12:05:48.106Z"
   },
   {
    "duration": 1482,
    "start_time": "2022-07-26T12:05:49.144Z"
   },
   {
    "duration": 643,
    "start_time": "2022-07-26T12:05:50.628Z"
   },
   {
    "duration": 347,
    "start_time": "2022-07-26T12:05:51.273Z"
   },
   {
    "duration": 3,
    "start_time": "2022-07-26T12:05:51.622Z"
   },
   {
    "duration": 10,
    "start_time": "2022-07-26T12:05:51.627Z"
   },
   {
    "duration": 13,
    "start_time": "2022-07-26T12:05:51.639Z"
   },
   {
    "duration": 5,
    "start_time": "2022-07-26T12:05:51.654Z"
   },
   {
    "duration": 4,
    "start_time": "2022-07-26T12:05:51.660Z"
   },
   {
    "duration": 3,
    "start_time": "2022-07-26T12:06:00.772Z"
   },
   {
    "duration": 3,
    "start_time": "2022-07-26T12:06:02.716Z"
   },
   {
    "duration": 110,
    "start_time": "2022-07-26T12:06:05.211Z"
   },
   {
    "duration": 19,
    "start_time": "2022-07-26T12:06:05.852Z"
   },
   {
    "duration": 4,
    "start_time": "2022-07-26T12:06:44.673Z"
   },
   {
    "duration": 3,
    "start_time": "2022-07-26T12:06:46.908Z"
   },
   {
    "duration": 123331,
    "start_time": "2022-07-26T12:07:36.023Z"
   },
   {
    "duration": 9,
    "start_time": "2022-07-26T12:10:02.225Z"
   },
   {
    "duration": 11,
    "start_time": "2022-07-26T12:12:27.386Z"
   },
   {
    "duration": 5,
    "start_time": "2022-07-26T12:14:17.954Z"
   },
   {
    "duration": 14,
    "start_time": "2022-07-26T12:14:47.168Z"
   },
   {
    "duration": 10,
    "start_time": "2022-07-26T12:16:11.172Z"
   },
   {
    "duration": 11,
    "start_time": "2022-07-26T12:16:50.812Z"
   },
   {
    "duration": 14,
    "start_time": "2022-07-26T12:17:03.995Z"
   },
   {
    "duration": 10,
    "start_time": "2022-07-26T12:17:18.394Z"
   },
   {
    "duration": 10,
    "start_time": "2022-07-26T12:17:27.573Z"
   },
   {
    "duration": 9,
    "start_time": "2022-07-26T12:17:37.194Z"
   },
   {
    "duration": 3,
    "start_time": "2022-07-26T12:21:57.154Z"
   },
   {
    "duration": 3,
    "start_time": "2022-07-26T12:21:57.883Z"
   },
   {
    "duration": 3,
    "start_time": "2022-07-26T12:22:18.866Z"
   },
   {
    "duration": 4,
    "start_time": "2022-07-26T12:22:24.027Z"
   },
   {
    "duration": 3,
    "start_time": "2022-07-26T12:22:27.634Z"
   },
   {
    "duration": 138059,
    "start_time": "2022-07-26T12:22:38.302Z"
   },
   {
    "duration": 6,
    "start_time": "2022-07-26T12:26:04.041Z"
   },
   {
    "duration": 3,
    "start_time": "2022-07-26T12:27:05.434Z"
   },
   {
    "duration": 3,
    "start_time": "2022-07-26T12:27:20.251Z"
   },
   {
    "duration": 5,
    "start_time": "2022-07-26T12:27:30.089Z"
   },
   {
    "duration": 5,
    "start_time": "2022-07-26T12:27:45.019Z"
   },
   {
    "duration": 9,
    "start_time": "2022-07-26T12:28:00.843Z"
   },
   {
    "duration": 5,
    "start_time": "2022-07-26T12:28:12.243Z"
   },
   {
    "duration": 5,
    "start_time": "2022-07-26T12:28:19.478Z"
   },
   {
    "duration": 4,
    "start_time": "2022-07-26T12:28:41.838Z"
   },
   {
    "duration": 4,
    "start_time": "2022-07-26T12:35:00.889Z"
   },
   {
    "duration": 1880,
    "start_time": "2022-07-26T12:35:00.895Z"
   },
   {
    "duration": 2162,
    "start_time": "2022-07-26T12:35:02.778Z"
   },
   {
    "duration": 697,
    "start_time": "2022-07-26T12:35:04.941Z"
   },
   {
    "duration": 29,
    "start_time": "2022-07-26T12:35:05.640Z"
   },
   {
    "duration": 46,
    "start_time": "2022-07-26T12:35:05.670Z"
   },
   {
    "duration": 236,
    "start_time": "2022-07-26T12:35:05.718Z"
   },
   {
    "duration": 184,
    "start_time": "2022-07-26T12:35:05.956Z"
   },
   {
    "duration": 4,
    "start_time": "2022-07-26T12:35:06.142Z"
   },
   {
    "duration": 3678,
    "start_time": "2022-07-26T12:35:06.153Z"
   },
   {
    "duration": 4,
    "start_time": "2022-07-26T12:35:09.833Z"
   },
   {
    "duration": 180,
    "start_time": "2022-07-26T12:35:09.838Z"
   },
   {
    "duration": 4,
    "start_time": "2022-07-26T12:35:10.020Z"
   },
   {
    "duration": 6,
    "start_time": "2022-07-26T12:35:10.026Z"
   },
   {
    "duration": 4,
    "start_time": "2022-07-26T12:35:10.034Z"
   },
   {
    "duration": 10,
    "start_time": "2022-07-26T12:35:10.040Z"
   },
   {
    "duration": 211936,
    "start_time": "2022-07-26T12:35:12.957Z"
   },
   {
    "duration": 65,
    "start_time": "2022-07-26T12:38:44.896Z"
   },
   {
    "duration": 28,
    "start_time": "2022-07-26T12:38:44.963Z"
   },
   {
    "duration": 2514,
    "start_time": "2022-07-26T12:38:44.993Z"
   },
   {
    "duration": 6755,
    "start_time": "2022-07-26T12:38:47.510Z"
   },
   {
    "duration": 742,
    "start_time": "2022-07-26T12:38:54.267Z"
   },
   {
    "duration": 1438,
    "start_time": "2022-07-26T12:38:55.010Z"
   },
   {
    "duration": 3,
    "start_time": "2022-07-26T12:38:56.451Z"
   },
   {
    "duration": 21,
    "start_time": "2022-07-26T12:38:56.455Z"
   },
   {
    "duration": 3,
    "start_time": "2022-07-26T12:38:56.478Z"
   },
   {
    "duration": 6,
    "start_time": "2022-07-26T12:38:56.482Z"
   },
   {
    "duration": 6385,
    "start_time": "2022-07-26T12:39:55.289Z"
   },
   {
    "duration": 1554,
    "start_time": "2022-07-26T12:40:15.850Z"
   },
   {
    "duration": 6636,
    "start_time": "2022-07-26T12:41:03.653Z"
   },
   {
    "duration": 6546,
    "start_time": "2022-07-26T12:41:29.869Z"
   },
   {
    "duration": 6309,
    "start_time": "2022-07-26T12:42:16.784Z"
   },
   {
    "duration": 6513,
    "start_time": "2022-07-26T12:42:35.871Z"
   },
   {
    "duration": 6315,
    "start_time": "2022-07-26T12:42:57.583Z"
   },
   {
    "duration": 6427,
    "start_time": "2022-07-26T12:43:29.816Z"
   },
   {
    "duration": 6354,
    "start_time": "2022-07-26T12:43:42.451Z"
   },
   {
    "duration": 3,
    "start_time": "2022-07-26T12:44:10.864Z"
   },
   {
    "duration": 3,
    "start_time": "2022-07-26T12:44:13.182Z"
   },
   {
    "duration": 4,
    "start_time": "2022-07-26T12:44:15.910Z"
   },
   {
    "duration": 3,
    "start_time": "2022-07-26T12:44:26.683Z"
   },
   {
    "duration": 504851,
    "start_time": "2022-07-26T12:44:38.114Z"
   },
   {
    "duration": 39,
    "start_time": "2022-07-26T12:58:04.438Z"
   },
   {
    "duration": 4,
    "start_time": "2022-07-26T13:02:59.835Z"
   },
   {
    "duration": 3,
    "start_time": "2022-07-26T13:03:01.624Z"
   },
   {
    "duration": 4,
    "start_time": "2022-07-26T13:03:07.831Z"
   },
   {
    "duration": 4,
    "start_time": "2022-07-26T13:03:09.860Z"
   },
   {
    "duration": 682477,
    "start_time": "2022-07-26T13:03:11.901Z"
   },
   {
    "duration": 3,
    "start_time": "2022-07-26T13:16:22.182Z"
   },
   {
    "duration": 1940,
    "start_time": "2022-07-26T13:16:22.188Z"
   },
   {
    "duration": 1958,
    "start_time": "2022-07-26T13:16:24.129Z"
   },
   {
    "duration": 756,
    "start_time": "2022-07-26T13:16:26.089Z"
   },
   {
    "duration": 37,
    "start_time": "2022-07-26T13:16:26.847Z"
   },
   {
    "duration": 15,
    "start_time": "2022-07-26T13:16:26.886Z"
   },
   {
    "duration": 265,
    "start_time": "2022-07-26T13:16:26.903Z"
   },
   {
    "duration": 223,
    "start_time": "2022-07-26T13:16:27.170Z"
   },
   {
    "duration": 3,
    "start_time": "2022-07-26T13:16:27.395Z"
   },
   {
    "duration": 4004,
    "start_time": "2022-07-26T13:16:27.399Z"
   },
   {
    "duration": 4,
    "start_time": "2022-07-26T13:16:31.405Z"
   },
   {
    "duration": 208,
    "start_time": "2022-07-26T13:16:31.410Z"
   },
   {
    "duration": 2,
    "start_time": "2022-07-26T13:16:31.620Z"
   },
   {
    "duration": 10,
    "start_time": "2022-07-26T13:16:31.624Z"
   },
   {
    "duration": 6,
    "start_time": "2022-07-26T13:16:31.635Z"
   },
   {
    "duration": 14,
    "start_time": "2022-07-26T13:16:31.643Z"
   },
   {
    "duration": 223131,
    "start_time": "2022-07-26T13:16:31.659Z"
   },
   {
    "duration": 35,
    "start_time": "2022-07-26T13:20:14.791Z"
   },
   {
    "duration": 52,
    "start_time": "2022-07-26T13:20:14.828Z"
   },
   {
    "duration": 2621,
    "start_time": "2022-07-26T13:20:14.882Z"
   },
   {
    "duration": 6575,
    "start_time": "2022-07-26T13:20:17.504Z"
   },
   {
    "duration": 802,
    "start_time": "2022-07-26T13:20:24.081Z"
   },
   {
    "duration": 1630,
    "start_time": "2022-07-26T13:20:24.885Z"
   },
   {
    "duration": 3,
    "start_time": "2022-07-26T13:20:26.517Z"
   },
   {
    "duration": 23,
    "start_time": "2022-07-26T13:20:26.521Z"
   },
   {
    "duration": 13,
    "start_time": "2022-07-26T13:20:26.546Z"
   },
   {
    "duration": 5,
    "start_time": "2022-07-26T13:20:26.564Z"
   },
   {
    "duration": 156,
    "start_time": "2022-07-26T13:20:49.752Z"
   },
   {
    "duration": 23,
    "start_time": "2022-07-26T13:21:48.504Z"
   },
   {
    "duration": 4,
    "start_time": "2022-07-26T13:21:55.521Z"
   },
   {
    "duration": 4,
    "start_time": "2022-07-26T13:22:00.711Z"
   },
   {
    "duration": 3,
    "start_time": "2022-07-26T13:22:16.559Z"
   },
   {
    "duration": 13,
    "start_time": "2022-07-26T13:28:20.079Z"
   },
   {
    "duration": 5,
    "start_time": "2022-07-26T13:28:42.683Z"
   },
   {
    "duration": 9,
    "start_time": "2022-07-26T13:29:00.975Z"
   },
   {
    "duration": 4,
    "start_time": "2022-07-26T13:29:40.637Z"
   },
   {
    "duration": 12,
    "start_time": "2022-07-26T13:32:16.049Z"
   },
   {
    "duration": 10,
    "start_time": "2022-07-26T13:32:46.708Z"
   },
   {
    "duration": 6185,
    "start_time": "2022-07-26T13:36:45.446Z"
   },
   {
    "duration": 5728,
    "start_time": "2022-07-26T13:37:52.438Z"
   },
   {
    "duration": 10,
    "start_time": "2022-07-26T13:38:00.998Z"
   },
   {
    "duration": 9,
    "start_time": "2022-07-26T13:38:20.514Z"
   },
   {
    "duration": 6,
    "start_time": "2022-07-26T13:38:24.125Z"
   },
   {
    "duration": 857,
    "start_time": "2022-07-26T13:38:50.868Z"
   },
   {
    "duration": 746,
    "start_time": "2022-07-26T13:39:16.403Z"
   },
   {
    "duration": 798,
    "start_time": "2022-07-26T13:39:55.683Z"
   },
   {
    "duration": 2810,
    "start_time": "2022-07-26T16:03:48.610Z"
   },
   {
    "duration": 4570,
    "start_time": "2022-07-26T16:03:51.423Z"
   },
   {
    "duration": 3069,
    "start_time": "2022-07-26T16:03:55.996Z"
   },
   {
    "duration": 29,
    "start_time": "2022-07-26T16:03:59.067Z"
   },
   {
    "duration": 11,
    "start_time": "2022-07-26T16:03:59.098Z"
   },
   {
    "duration": 211,
    "start_time": "2022-07-26T16:04:04.257Z"
   },
   {
    "duration": 204,
    "start_time": "2022-07-26T16:04:08.529Z"
   },
   {
    "duration": 4,
    "start_time": "2022-07-26T16:04:14.192Z"
   },
   {
    "duration": 3526,
    "start_time": "2022-07-26T16:04:14.966Z"
   },
   {
    "duration": 4,
    "start_time": "2022-07-26T16:04:18.494Z"
   },
   {
    "duration": 174,
    "start_time": "2022-07-26T16:04:18.499Z"
   },
   {
    "duration": 3,
    "start_time": "2022-07-26T16:04:19.434Z"
   },
   {
    "duration": 3,
    "start_time": "2022-07-26T16:04:20.336Z"
   },
   {
    "duration": 3,
    "start_time": "2022-07-26T16:04:21.641Z"
   },
   {
    "duration": 3,
    "start_time": "2022-07-26T16:04:31.806Z"
   },
   {
    "duration": 683714,
    "start_time": "2022-07-26T16:04:39.596Z"
   },
   {
    "duration": 44,
    "start_time": "2022-07-26T16:16:03.312Z"
   },
   {
    "duration": 113,
    "start_time": "2022-07-26T16:16:55.097Z"
   },
   {
    "duration": 6058,
    "start_time": "2022-07-26T16:17:35.157Z"
   },
   {
    "duration": 20240,
    "start_time": "2022-07-26T16:18:23.810Z"
   },
   {
    "duration": 20498,
    "start_time": "2022-07-26T16:19:01.057Z"
   },
   {
    "duration": 20049,
    "start_time": "2022-07-26T16:19:40.694Z"
   },
   {
    "duration": 1040,
    "start_time": "2022-07-26T16:20:13.156Z"
   },
   {
    "duration": 3097,
    "start_time": "2022-07-26T16:20:32.414Z"
   },
   {
    "duration": 4,
    "start_time": "2022-07-26T16:23:04.757Z"
   },
   {
    "duration": 73,
    "start_time": "2022-07-26T16:23:07.925Z"
   },
   {
    "duration": 4,
    "start_time": "2022-07-26T16:23:09.872Z"
   },
   {
    "duration": 3,
    "start_time": "2022-07-26T16:25:05.663Z"
   },
   {
    "duration": 4,
    "start_time": "2022-07-26T16:25:40.429Z"
   },
   {
    "duration": 3,
    "start_time": "2022-07-26T16:26:27.068Z"
   },
   {
    "duration": 214607,
    "start_time": "2022-07-26T16:26:55.944Z"
   },
   {
    "duration": 6,
    "start_time": "2022-07-26T16:43:03.978Z"
   },
   {
    "duration": 3,
    "start_time": "2022-07-26T16:44:11.240Z"
   },
   {
    "duration": 5,
    "start_time": "2022-07-26T16:44:30.969Z"
   },
   {
    "duration": 3,
    "start_time": "2022-07-26T16:44:33.233Z"
   },
   {
    "duration": 2312966,
    "start_time": "2022-07-26T16:44:35.298Z"
   },
   {
    "duration": 190,
    "start_time": "2022-07-26T17:23:08.268Z"
   },
   {
    "duration": 8,
    "start_time": "2022-07-26T17:24:33.615Z"
   },
   {
    "duration": 4,
    "start_time": "2022-07-26T17:24:40.775Z"
   },
   {
    "duration": 4,
    "start_time": "2022-07-26T17:25:24.706Z"
   },
   {
    "duration": 23183,
    "start_time": "2022-07-26T17:26:08.783Z"
   },
   {
    "duration": 3266,
    "start_time": "2022-07-26T17:26:35.712Z"
   },
   {
    "duration": 3296,
    "start_time": "2022-07-26T17:26:45.536Z"
   },
   {
    "duration": 21909,
    "start_time": "2022-07-26T17:27:26.045Z"
   },
   {
    "duration": 3288,
    "start_time": "2022-07-26T17:29:01.561Z"
   },
   {
    "duration": 3268,
    "start_time": "2022-07-26T17:29:14.016Z"
   },
   {
    "duration": 3,
    "start_time": "2022-07-26T17:36:47.224Z"
   },
   {
    "duration": 2222,
    "start_time": "2022-07-26T17:36:47.228Z"
   },
   {
    "duration": 3213,
    "start_time": "2022-07-26T17:36:49.452Z"
   },
   {
    "duration": 1774,
    "start_time": "2022-07-26T17:36:52.667Z"
   },
   {
    "duration": 36,
    "start_time": "2022-07-26T17:36:54.443Z"
   },
   {
    "duration": 21,
    "start_time": "2022-07-26T17:36:54.481Z"
   },
   {
    "duration": 255,
    "start_time": "2022-07-26T17:36:54.503Z"
   },
   {
    "duration": 243,
    "start_time": "2022-07-26T17:36:54.760Z"
   },
   {
    "duration": 3,
    "start_time": "2022-07-26T17:36:55.004Z"
   },
   {
    "duration": 4005,
    "start_time": "2022-07-26T17:36:55.008Z"
   },
   {
    "duration": 3,
    "start_time": "2022-07-26T17:36:59.016Z"
   },
   {
    "duration": 226,
    "start_time": "2022-07-26T17:36:59.021Z"
   },
   {
    "duration": 4,
    "start_time": "2022-07-26T17:36:59.249Z"
   },
   {
    "duration": 13,
    "start_time": "2022-07-26T17:36:59.254Z"
   },
   {
    "duration": 9,
    "start_time": "2022-07-26T17:36:59.269Z"
   },
   {
    "duration": 699684,
    "start_time": "2022-07-26T17:36:59.280Z"
   },
   {
    "duration": 42,
    "start_time": "2022-07-26T17:48:38.965Z"
   },
   {
    "duration": 124,
    "start_time": "2022-07-26T17:48:39.008Z"
   },
   {
    "duration": 6109,
    "start_time": "2022-07-26T17:48:39.134Z"
   },
   {
    "duration": 21560,
    "start_time": "2022-07-26T17:48:45.244Z"
   },
   {
    "duration": 1022,
    "start_time": "2022-07-26T17:49:06.805Z"
   },
   {
    "duration": 3348,
    "start_time": "2022-07-26T17:49:07.829Z"
   },
   {
    "duration": 3,
    "start_time": "2022-07-26T17:49:11.179Z"
   },
   {
    "duration": 57,
    "start_time": "2022-07-26T17:49:11.183Z"
   },
   {
    "duration": 12,
    "start_time": "2022-07-26T17:49:11.242Z"
   },
   {
    "duration": 8,
    "start_time": "2022-07-26T17:49:11.256Z"
   },
   {
    "duration": 11,
    "start_time": "2022-07-26T17:49:11.266Z"
   },
   {
    "duration": 8,
    "start_time": "2022-07-26T17:49:11.279Z"
   },
   {
    "duration": 2214484,
    "start_time": "2022-07-26T17:49:11.290Z"
   },
   {
    "duration": 74,
    "start_time": "2022-07-26T18:26:05.777Z"
   },
   {
    "duration": 19405,
    "start_time": "2022-07-26T18:26:05.854Z"
   },
   {
    "duration": 3040,
    "start_time": "2022-07-26T18:26:25.261Z"
   },
   {
    "duration": 3046,
    "start_time": "2022-07-26T18:26:28.303Z"
   },
   {
    "duration": 3,
    "start_time": "2022-07-26T18:26:31.353Z"
   },
   {
    "duration": 131,
    "start_time": "2022-07-26T18:27:41.484Z"
   },
   {
    "duration": 3,
    "start_time": "2022-07-26T18:27:51.286Z"
   },
   {
    "duration": 3,
    "start_time": "2022-07-26T18:28:12.253Z"
   },
   {
    "duration": 11,
    "start_time": "2022-07-26T18:28:26.018Z"
   },
   {
    "duration": 18504,
    "start_time": "2022-07-26T18:28:53.075Z"
   },
   {
    "duration": 2993,
    "start_time": "2022-07-26T18:29:13.903Z"
   },
   {
    "duration": 2814,
    "start_time": "2022-07-26T18:29:32.584Z"
   },
   {
    "duration": 2764,
    "start_time": "2022-07-26T18:29:40.671Z"
   },
   {
    "duration": 92,
    "start_time": "2022-07-26T18:32:04.426Z"
   },
   {
    "duration": 76,
    "start_time": "2022-07-26T18:33:50.265Z"
   },
   {
    "duration": 3,
    "start_time": "2022-07-27T04:22:18.104Z"
   },
   {
    "duration": 3040,
    "start_time": "2022-07-27T04:22:18.108Z"
   },
   {
    "duration": 4387,
    "start_time": "2022-07-27T04:22:21.150Z"
   },
   {
    "duration": 2312,
    "start_time": "2022-07-27T04:22:25.540Z"
   },
   {
    "duration": 27,
    "start_time": "2022-07-27T04:22:27.853Z"
   },
   {
    "duration": 70,
    "start_time": "2022-07-27T04:22:27.882Z"
   },
   {
    "duration": 224,
    "start_time": "2022-07-27T04:22:27.953Z"
   },
   {
    "duration": 159,
    "start_time": "2022-07-27T04:22:28.178Z"
   },
   {
    "duration": 3,
    "start_time": "2022-07-27T04:22:28.339Z"
   },
   {
    "duration": 3966,
    "start_time": "2022-07-27T04:22:28.344Z"
   },
   {
    "duration": 3,
    "start_time": "2022-07-27T04:22:32.312Z"
   },
   {
    "duration": 170,
    "start_time": "2022-07-27T04:22:32.316Z"
   },
   {
    "duration": 2,
    "start_time": "2022-07-27T04:22:32.488Z"
   },
   {
    "duration": 13,
    "start_time": "2022-07-27T04:22:32.492Z"
   },
   {
    "duration": 19,
    "start_time": "2022-07-27T04:22:32.507Z"
   },
   {
    "duration": 732815,
    "start_time": "2022-07-27T04:22:32.527Z"
   },
   {
    "duration": 33,
    "start_time": "2022-07-27T04:34:45.344Z"
   },
   {
    "duration": 96,
    "start_time": "2022-07-27T04:34:45.379Z"
   },
   {
    "duration": 6365,
    "start_time": "2022-07-27T04:34:45.476Z"
   },
   {
    "duration": 23410,
    "start_time": "2022-07-27T04:34:51.843Z"
   },
   {
    "duration": 1093,
    "start_time": "2022-07-27T04:35:15.254Z"
   },
   {
    "duration": 3935,
    "start_time": "2022-07-27T04:35:16.349Z"
   },
   {
    "duration": 12,
    "start_time": "2022-07-27T04:35:20.286Z"
   },
   {
    "duration": 58,
    "start_time": "2022-07-27T04:35:20.301Z"
   },
   {
    "duration": 3,
    "start_time": "2022-07-27T04:35:20.362Z"
   },
   {
    "duration": 4,
    "start_time": "2022-07-27T04:35:20.367Z"
   },
   {
    "duration": 25,
    "start_time": "2022-07-27T04:35:20.373Z"
   },
   {
    "duration": 8,
    "start_time": "2022-07-27T04:35:20.400Z"
   },
   {
    "duration": 2214922,
    "start_time": "2022-07-27T04:35:20.409Z"
   },
   {
    "duration": 65,
    "start_time": "2022-07-27T05:12:15.334Z"
   },
   {
    "duration": 18597,
    "start_time": "2022-07-27T05:12:15.402Z"
   },
   {
    "duration": 2888,
    "start_time": "2022-07-27T05:12:34.003Z"
   },
   {
    "duration": 2809,
    "start_time": "2022-07-27T05:12:36.893Z"
   }
  ],
  "kernelspec": {
   "display_name": "Python 3",
   "language": "python",
   "name": "python3"
  },
  "language_info": {
   "codemirror_mode": {
    "name": "ipython",
    "version": 3
   },
   "file_extension": ".py",
   "mimetype": "text/x-python",
   "name": "python",
   "nbconvert_exporter": "python",
   "pygments_lexer": "ipython3",
   "version": "3.8.10"
  },
  "toc": {
   "base_numbering": 1,
   "nav_menu": {},
   "number_sections": true,
   "sideBar": true,
   "skip_h1_title": true,
   "title_cell": "Содержание",
   "title_sidebar": "Contents",
   "toc_cell": true,
   "toc_position": {
    "height": "calc(100% - 180px)",
    "left": "10px",
    "top": "150px",
    "width": "302.391px"
   },
   "toc_section_display": true,
   "toc_window_display": false
  }
 },
 "nbformat": 4,
 "nbformat_minor": 4
}
