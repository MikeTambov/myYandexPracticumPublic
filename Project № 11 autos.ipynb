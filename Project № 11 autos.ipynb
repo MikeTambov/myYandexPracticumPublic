{
 "cells": [
  {
   "cell_type": "markdown",
   "metadata": {
    "id": "LZQl8mfvDRPb"
   },
   "source": [
    "# Проект <b>\"Определение стоимости автомобилей\".</b>"
   ]
  },
  {
   "cell_type": "markdown",
   "metadata": {
    "id": "WA59XF_oDRPb"
   },
   "source": [
    "**<i>Цель: Разработать модель прогнозирующую стоимость автомобиля. </i>**\n",
    "\n",
    "**Задачами проекта являются:**\n",
    "1. Выбрать модель прогнозирования стоимости автомобиля с учетом:\n",
    "    - качества прогнозирования;\n",
    "    - скрости обучения и прогнозирования.\n",
    "\n",
    "**Объектом исследования является датасеты со статистикой объявлений по продаже автомобилей.** \n",
    "\n",
    "**Проект выполняется в основных этапов:**\n",
    "1. Загрузка и предварительный обзор данных.\n",
    "2. Предобработка данных.\n",
    "3. Подготовка обучающих и тренировочных таблиц.\n",
    "4. Применение модели регрессий для описания исходных данных.\n",
    "5. Анализ моделей.\n",
    "6. Общий выввод."
   ]
  },
  {
   "cell_type": "markdown",
   "metadata": {
    "id": "cpew9J9FDRPb"
   },
   "source": [
    "## Загрузка и предварительный обзор данных"
   ]
  },
  {
   "cell_type": "code",
   "execution_count": 3,
   "metadata": {
    "id": "thlfNBWHDRPb"
   },
   "outputs": [],
   "source": [
    "# Импорт библиотек, классов и методов\n",
    "import pandas as pd\n",
    "import matplotlib.pyplot as plt\n",
    "import numpy as np\n",
    "import seaborn as sns\n",
    "from sklearn.ensemble import RandomForestRegressor, GradientBoostingRegressor, RandomForestClassifier\n",
    "from sklearn.linear_model import  LinearRegression, Ridge, Lasso, ElasticNet, SGDRegressor, LogisticRegression\n",
    "from sklearn.metrics import make_scorer, mean_absolute_error, r2_score, mean_squared_error\n",
    "from sklearn.model_selection import train_test_split\n",
    "from sklearn.svm import SVR, NuSVR\n",
    "from sklearn.model_selection import cross_val_score\n",
    "from sklearn.model_selection import GridSearchCV\n",
    "from sklearn.dummy import DummyRegressor\n",
    "from sklearn.model_selection import train_test_split\n",
    "from sklearn.preprocessing import OrdinalEncoder, OneHotEncoder\n",
    "import warnings\n",
    "warnings.filterwarnings(\"ignore\")\n",
    "from sklearn.preprocessing import StandardScaler \n",
    "pd.options.mode.chained_assignment = None\n",
    "#from sklearn.utils import shuffle\n",
    "from lightgbm import LGBMRegressor\n",
    "from xgboost import XGBRegressor\n",
    "from catboost import CatBoostRegressor\n",
    "from sklearn.svm import SVC\n",
    "from sklearn.neighbors import KNeighborsClassifier\n",
    "from sklearn.tree import DecisionTreeClassifier\n",
    "import time\n",
    "import catboost as cb\n",
    "from sklearn.impute import KNNImputer\n",
    "from sklearn.pipeline import Pipeline\n",
    "from sklearn.pipeline import make_pipeline"
   ]
  },
  {
   "cell_type": "markdown",
   "metadata": {
    "id": "TapmMNSODRPr"
   },
   "source": [
    "## Подготовка данных"
   ]
  },
  {
   "cell_type": "code",
   "execution_count": 5,
   "metadata": {
    "id": "0sDZSVWvDRPr"
   },
   "outputs": [],
   "source": [
    "#Загрузка данных\n",
    "try:\n",
    "    df = pd.read_csv('/content/drive/MyDrive/autos/autos.csv', parse_dates=[0, 12, 15])\n",
    "    \n",
    "except:\n",
    "    df = pd.read_csv('/datasets/autos.csv', parse_dates=[0, 12, 15])"
   ]
  },
  {
   "cell_type": "code",
   "execution_count": 6,
   "metadata": {
    "colab": {
     "base_uri": "https://localhost:8080/"
    },
    "id": "abPaX3TrDRPr",
    "outputId": "89519f7e-b34b-4b49-cb34-b56167643a84"
   },
   "outputs": [
    {
     "name": "stdout",
     "output_type": "stream",
     "text": [
      "<class 'pandas.core.frame.DataFrame'>\n",
      "RangeIndex: 354369 entries, 0 to 354368\n",
      "Data columns (total 16 columns):\n",
      " #   Column             Non-Null Count   Dtype         \n",
      "---  ------             --------------   -----         \n",
      " 0   DateCrawled        354369 non-null  datetime64[ns]\n",
      " 1   Price              354369 non-null  int64         \n",
      " 2   VehicleType        316879 non-null  object        \n",
      " 3   RegistrationYear   354369 non-null  int64         \n",
      " 4   Gearbox            334536 non-null  object        \n",
      " 5   Power              354369 non-null  int64         \n",
      " 6   Model              334664 non-null  object        \n",
      " 7   Kilometer          354369 non-null  int64         \n",
      " 8   RegistrationMonth  354369 non-null  int64         \n",
      " 9   FuelType           321474 non-null  object        \n",
      " 10  Brand              354369 non-null  object        \n",
      " 11  NotRepaired        283215 non-null  object        \n",
      " 12  DateCreated        354369 non-null  datetime64[ns]\n",
      " 13  NumberOfPictures   354369 non-null  int64         \n",
      " 14  PostalCode         354369 non-null  int64         \n",
      " 15  LastSeen           354369 non-null  datetime64[ns]\n",
      "dtypes: datetime64[ns](3), int64(7), object(6)\n",
      "memory usage: 43.3+ MB\n"
     ]
    }
   ],
   "source": [
    "# Вывод общей информации и первых пяти строк датафрейма.\n",
    "#print(\"\\033[1m\" 'Общая информация по датафрейму data и вывод первых пяти строк', \"\\033[0m\")\n",
    "df.info()\n",
    "#display(df.head())"
   ]
  },
  {
   "cell_type": "code",
   "execution_count": 7,
   "metadata": {
    "colab": {
     "base_uri": "https://localhost:8080/",
     "height": 625
    },
    "id": "BlXGem8CDRPr",
    "outputId": "34adaf24-cdab-4d60-9f3d-27d0306a7848",
    "scrolled": true
   },
   "outputs": [
    {
     "data": {
      "text/html": [
       "\n",
       "  <div id=\"df-e9e67536-8374-4599-b9c7-f6456a752c88\">\n",
       "    <div class=\"colab-df-container\">\n",
       "      <div>\n",
       "<style scoped>\n",
       "    .dataframe tbody tr th:only-of-type {\n",
       "        vertical-align: middle;\n",
       "    }\n",
       "\n",
       "    .dataframe tbody tr th {\n",
       "        vertical-align: top;\n",
       "    }\n",
       "\n",
       "    .dataframe thead th {\n",
       "        text-align: right;\n",
       "    }\n",
       "</style>\n",
       "<table border=\"1\" class=\"dataframe\">\n",
       "  <thead>\n",
       "    <tr style=\"text-align: right;\">\n",
       "      <th></th>\n",
       "      <th>DateCrawled</th>\n",
       "      <th>Price</th>\n",
       "      <th>VehicleType</th>\n",
       "      <th>RegistrationYear</th>\n",
       "      <th>Gearbox</th>\n",
       "      <th>Power</th>\n",
       "      <th>Model</th>\n",
       "      <th>Kilometer</th>\n",
       "      <th>RegistrationMonth</th>\n",
       "      <th>FuelType</th>\n",
       "      <th>Brand</th>\n",
       "      <th>NotRepaired</th>\n",
       "      <th>DateCreated</th>\n",
       "      <th>NumberOfPictures</th>\n",
       "      <th>PostalCode</th>\n",
       "      <th>LastSeen</th>\n",
       "    </tr>\n",
       "  </thead>\n",
       "  <tbody>\n",
       "    <tr>\n",
       "      <th>count</th>\n",
       "      <td>354369</td>\n",
       "      <td>354369.000000</td>\n",
       "      <td>316879</td>\n",
       "      <td>354369.000000</td>\n",
       "      <td>334536</td>\n",
       "      <td>354369.000000</td>\n",
       "      <td>334664</td>\n",
       "      <td>354369.000000</td>\n",
       "      <td>354369.000000</td>\n",
       "      <td>321474</td>\n",
       "      <td>354369</td>\n",
       "      <td>283215</td>\n",
       "      <td>354369</td>\n",
       "      <td>354369.0</td>\n",
       "      <td>354369.000000</td>\n",
       "      <td>354369</td>\n",
       "    </tr>\n",
       "    <tr>\n",
       "      <th>unique</th>\n",
       "      <td>271174</td>\n",
       "      <td>NaN</td>\n",
       "      <td>8</td>\n",
       "      <td>NaN</td>\n",
       "      <td>2</td>\n",
       "      <td>NaN</td>\n",
       "      <td>250</td>\n",
       "      <td>NaN</td>\n",
       "      <td>NaN</td>\n",
       "      <td>7</td>\n",
       "      <td>40</td>\n",
       "      <td>2</td>\n",
       "      <td>109</td>\n",
       "      <td>NaN</td>\n",
       "      <td>NaN</td>\n",
       "      <td>179150</td>\n",
       "    </tr>\n",
       "    <tr>\n",
       "      <th>top</th>\n",
       "      <td>2016-03-24 14:49:47</td>\n",
       "      <td>NaN</td>\n",
       "      <td>sedan</td>\n",
       "      <td>NaN</td>\n",
       "      <td>manual</td>\n",
       "      <td>NaN</td>\n",
       "      <td>golf</td>\n",
       "      <td>NaN</td>\n",
       "      <td>NaN</td>\n",
       "      <td>petrol</td>\n",
       "      <td>volkswagen</td>\n",
       "      <td>no</td>\n",
       "      <td>2016-04-03 00:00:00</td>\n",
       "      <td>NaN</td>\n",
       "      <td>NaN</td>\n",
       "      <td>2016-04-06 13:45:54</td>\n",
       "    </tr>\n",
       "    <tr>\n",
       "      <th>freq</th>\n",
       "      <td>7</td>\n",
       "      <td>NaN</td>\n",
       "      <td>91457</td>\n",
       "      <td>NaN</td>\n",
       "      <td>268251</td>\n",
       "      <td>NaN</td>\n",
       "      <td>29232</td>\n",
       "      <td>NaN</td>\n",
       "      <td>NaN</td>\n",
       "      <td>216352</td>\n",
       "      <td>77013</td>\n",
       "      <td>247161</td>\n",
       "      <td>13719</td>\n",
       "      <td>NaN</td>\n",
       "      <td>NaN</td>\n",
       "      <td>17</td>\n",
       "    </tr>\n",
       "    <tr>\n",
       "      <th>first</th>\n",
       "      <td>2016-03-05 14:06:22</td>\n",
       "      <td>NaN</td>\n",
       "      <td>NaN</td>\n",
       "      <td>NaN</td>\n",
       "      <td>NaN</td>\n",
       "      <td>NaN</td>\n",
       "      <td>NaN</td>\n",
       "      <td>NaN</td>\n",
       "      <td>NaN</td>\n",
       "      <td>NaN</td>\n",
       "      <td>NaN</td>\n",
       "      <td>NaN</td>\n",
       "      <td>2014-03-10 00:00:00</td>\n",
       "      <td>NaN</td>\n",
       "      <td>NaN</td>\n",
       "      <td>2016-03-05 14:15:08</td>\n",
       "    </tr>\n",
       "    <tr>\n",
       "      <th>last</th>\n",
       "      <td>2016-04-07 14:36:58</td>\n",
       "      <td>NaN</td>\n",
       "      <td>NaN</td>\n",
       "      <td>NaN</td>\n",
       "      <td>NaN</td>\n",
       "      <td>NaN</td>\n",
       "      <td>NaN</td>\n",
       "      <td>NaN</td>\n",
       "      <td>NaN</td>\n",
       "      <td>NaN</td>\n",
       "      <td>NaN</td>\n",
       "      <td>NaN</td>\n",
       "      <td>2016-04-07 00:00:00</td>\n",
       "      <td>NaN</td>\n",
       "      <td>NaN</td>\n",
       "      <td>2016-04-07 14:58:51</td>\n",
       "    </tr>\n",
       "    <tr>\n",
       "      <th>mean</th>\n",
       "      <td>NaN</td>\n",
       "      <td>4416.656776</td>\n",
       "      <td>NaN</td>\n",
       "      <td>2004.234448</td>\n",
       "      <td>NaN</td>\n",
       "      <td>110.094337</td>\n",
       "      <td>NaN</td>\n",
       "      <td>128211.172535</td>\n",
       "      <td>5.714645</td>\n",
       "      <td>NaN</td>\n",
       "      <td>NaN</td>\n",
       "      <td>NaN</td>\n",
       "      <td>NaN</td>\n",
       "      <td>0.0</td>\n",
       "      <td>50508.689087</td>\n",
       "      <td>NaN</td>\n",
       "    </tr>\n",
       "    <tr>\n",
       "      <th>std</th>\n",
       "      <td>NaN</td>\n",
       "      <td>4514.158514</td>\n",
       "      <td>NaN</td>\n",
       "      <td>90.227958</td>\n",
       "      <td>NaN</td>\n",
       "      <td>189.850405</td>\n",
       "      <td>NaN</td>\n",
       "      <td>37905.341530</td>\n",
       "      <td>3.726421</td>\n",
       "      <td>NaN</td>\n",
       "      <td>NaN</td>\n",
       "      <td>NaN</td>\n",
       "      <td>NaN</td>\n",
       "      <td>0.0</td>\n",
       "      <td>25783.096248</td>\n",
       "      <td>NaN</td>\n",
       "    </tr>\n",
       "    <tr>\n",
       "      <th>min</th>\n",
       "      <td>NaN</td>\n",
       "      <td>0.000000</td>\n",
       "      <td>NaN</td>\n",
       "      <td>1000.000000</td>\n",
       "      <td>NaN</td>\n",
       "      <td>0.000000</td>\n",
       "      <td>NaN</td>\n",
       "      <td>5000.000000</td>\n",
       "      <td>0.000000</td>\n",
       "      <td>NaN</td>\n",
       "      <td>NaN</td>\n",
       "      <td>NaN</td>\n",
       "      <td>NaN</td>\n",
       "      <td>0.0</td>\n",
       "      <td>1067.000000</td>\n",
       "      <td>NaN</td>\n",
       "    </tr>\n",
       "    <tr>\n",
       "      <th>25%</th>\n",
       "      <td>NaN</td>\n",
       "      <td>1050.000000</td>\n",
       "      <td>NaN</td>\n",
       "      <td>1999.000000</td>\n",
       "      <td>NaN</td>\n",
       "      <td>69.000000</td>\n",
       "      <td>NaN</td>\n",
       "      <td>125000.000000</td>\n",
       "      <td>3.000000</td>\n",
       "      <td>NaN</td>\n",
       "      <td>NaN</td>\n",
       "      <td>NaN</td>\n",
       "      <td>NaN</td>\n",
       "      <td>0.0</td>\n",
       "      <td>30165.000000</td>\n",
       "      <td>NaN</td>\n",
       "    </tr>\n",
       "    <tr>\n",
       "      <th>50%</th>\n",
       "      <td>NaN</td>\n",
       "      <td>2700.000000</td>\n",
       "      <td>NaN</td>\n",
       "      <td>2003.000000</td>\n",
       "      <td>NaN</td>\n",
       "      <td>105.000000</td>\n",
       "      <td>NaN</td>\n",
       "      <td>150000.000000</td>\n",
       "      <td>6.000000</td>\n",
       "      <td>NaN</td>\n",
       "      <td>NaN</td>\n",
       "      <td>NaN</td>\n",
       "      <td>NaN</td>\n",
       "      <td>0.0</td>\n",
       "      <td>49413.000000</td>\n",
       "      <td>NaN</td>\n",
       "    </tr>\n",
       "    <tr>\n",
       "      <th>75%</th>\n",
       "      <td>NaN</td>\n",
       "      <td>6400.000000</td>\n",
       "      <td>NaN</td>\n",
       "      <td>2008.000000</td>\n",
       "      <td>NaN</td>\n",
       "      <td>143.000000</td>\n",
       "      <td>NaN</td>\n",
       "      <td>150000.000000</td>\n",
       "      <td>9.000000</td>\n",
       "      <td>NaN</td>\n",
       "      <td>NaN</td>\n",
       "      <td>NaN</td>\n",
       "      <td>NaN</td>\n",
       "      <td>0.0</td>\n",
       "      <td>71083.000000</td>\n",
       "      <td>NaN</td>\n",
       "    </tr>\n",
       "    <tr>\n",
       "      <th>max</th>\n",
       "      <td>NaN</td>\n",
       "      <td>20000.000000</td>\n",
       "      <td>NaN</td>\n",
       "      <td>9999.000000</td>\n",
       "      <td>NaN</td>\n",
       "      <td>20000.000000</td>\n",
       "      <td>NaN</td>\n",
       "      <td>150000.000000</td>\n",
       "      <td>12.000000</td>\n",
       "      <td>NaN</td>\n",
       "      <td>NaN</td>\n",
       "      <td>NaN</td>\n",
       "      <td>NaN</td>\n",
       "      <td>0.0</td>\n",
       "      <td>99998.000000</td>\n",
       "      <td>NaN</td>\n",
       "    </tr>\n",
       "  </tbody>\n",
       "</table>\n",
       "</div>\n",
       "      <button class=\"colab-df-convert\" onclick=\"convertToInteractive('df-e9e67536-8374-4599-b9c7-f6456a752c88')\"\n",
       "              title=\"Convert this dataframe to an interactive table.\"\n",
       "              style=\"display:none;\">\n",
       "        \n",
       "  <svg xmlns=\"http://www.w3.org/2000/svg\" height=\"24px\"viewBox=\"0 0 24 24\"\n",
       "       width=\"24px\">\n",
       "    <path d=\"M0 0h24v24H0V0z\" fill=\"none\"/>\n",
       "    <path d=\"M18.56 5.44l.94 2.06.94-2.06 2.06-.94-2.06-.94-.94-2.06-.94 2.06-2.06.94zm-11 1L8.5 8.5l.94-2.06 2.06-.94-2.06-.94L8.5 2.5l-.94 2.06-2.06.94zm10 10l.94 2.06.94-2.06 2.06-.94-2.06-.94-.94-2.06-.94 2.06-2.06.94z\"/><path d=\"M17.41 7.96l-1.37-1.37c-.4-.4-.92-.59-1.43-.59-.52 0-1.04.2-1.43.59L10.3 9.45l-7.72 7.72c-.78.78-.78 2.05 0 2.83L4 21.41c.39.39.9.59 1.41.59.51 0 1.02-.2 1.41-.59l7.78-7.78 2.81-2.81c.8-.78.8-2.07 0-2.86zM5.41 20L4 18.59l7.72-7.72 1.47 1.35L5.41 20z\"/>\n",
       "  </svg>\n",
       "      </button>\n",
       "      \n",
       "  <style>\n",
       "    .colab-df-container {\n",
       "      display:flex;\n",
       "      flex-wrap:wrap;\n",
       "      gap: 12px;\n",
       "    }\n",
       "\n",
       "    .colab-df-convert {\n",
       "      background-color: #E8F0FE;\n",
       "      border: none;\n",
       "      border-radius: 50%;\n",
       "      cursor: pointer;\n",
       "      display: none;\n",
       "      fill: #1967D2;\n",
       "      height: 32px;\n",
       "      padding: 0 0 0 0;\n",
       "      width: 32px;\n",
       "    }\n",
       "\n",
       "    .colab-df-convert:hover {\n",
       "      background-color: #E2EBFA;\n",
       "      box-shadow: 0px 1px 2px rgba(60, 64, 67, 0.3), 0px 1px 3px 1px rgba(60, 64, 67, 0.15);\n",
       "      fill: #174EA6;\n",
       "    }\n",
       "\n",
       "    [theme=dark] .colab-df-convert {\n",
       "      background-color: #3B4455;\n",
       "      fill: #D2E3FC;\n",
       "    }\n",
       "\n",
       "    [theme=dark] .colab-df-convert:hover {\n",
       "      background-color: #434B5C;\n",
       "      box-shadow: 0px 1px 3px 1px rgba(0, 0, 0, 0.15);\n",
       "      filter: drop-shadow(0px 1px 2px rgba(0, 0, 0, 0.3));\n",
       "      fill: #FFFFFF;\n",
       "    }\n",
       "  </style>\n",
       "\n",
       "      <script>\n",
       "        const buttonEl =\n",
       "          document.querySelector('#df-e9e67536-8374-4599-b9c7-f6456a752c88 button.colab-df-convert');\n",
       "        buttonEl.style.display =\n",
       "          google.colab.kernel.accessAllowed ? 'block' : 'none';\n",
       "\n",
       "        async function convertToInteractive(key) {\n",
       "          const element = document.querySelector('#df-e9e67536-8374-4599-b9c7-f6456a752c88');\n",
       "          const dataTable =\n",
       "            await google.colab.kernel.invokeFunction('convertToInteractive',\n",
       "                                                     [key], {});\n",
       "          if (!dataTable) return;\n",
       "\n",
       "          const docLinkHtml = 'Like what you see? Visit the ' +\n",
       "            '<a target=\"_blank\" href=https://colab.research.google.com/notebooks/data_table.ipynb>data table notebook</a>'\n",
       "            + ' to learn more about interactive tables.';\n",
       "          element.innerHTML = '';\n",
       "          dataTable['output_type'] = 'display_data';\n",
       "          await google.colab.output.renderOutput(dataTable, element);\n",
       "          const docLink = document.createElement('div');\n",
       "          docLink.innerHTML = docLinkHtml;\n",
       "          element.appendChild(docLink);\n",
       "        }\n",
       "      </script>\n",
       "    </div>\n",
       "  </div>\n",
       "  "
      ],
      "text/plain": [
       "                DateCrawled          Price VehicleType  RegistrationYear  \\\n",
       "count                354369  354369.000000      316879     354369.000000   \n",
       "unique               271174            NaN           8               NaN   \n",
       "top     2016-03-24 14:49:47            NaN       sedan               NaN   \n",
       "freq                      7            NaN       91457               NaN   \n",
       "first   2016-03-05 14:06:22            NaN         NaN               NaN   \n",
       "last    2016-04-07 14:36:58            NaN         NaN               NaN   \n",
       "mean                    NaN    4416.656776         NaN       2004.234448   \n",
       "std                     NaN    4514.158514         NaN         90.227958   \n",
       "min                     NaN       0.000000         NaN       1000.000000   \n",
       "25%                     NaN    1050.000000         NaN       1999.000000   \n",
       "50%                     NaN    2700.000000         NaN       2003.000000   \n",
       "75%                     NaN    6400.000000         NaN       2008.000000   \n",
       "max                     NaN   20000.000000         NaN       9999.000000   \n",
       "\n",
       "       Gearbox          Power   Model      Kilometer  RegistrationMonth  \\\n",
       "count   334536  354369.000000  334664  354369.000000      354369.000000   \n",
       "unique       2            NaN     250            NaN                NaN   \n",
       "top     manual            NaN    golf            NaN                NaN   \n",
       "freq    268251            NaN   29232            NaN                NaN   \n",
       "first      NaN            NaN     NaN            NaN                NaN   \n",
       "last       NaN            NaN     NaN            NaN                NaN   \n",
       "mean       NaN     110.094337     NaN  128211.172535           5.714645   \n",
       "std        NaN     189.850405     NaN   37905.341530           3.726421   \n",
       "min        NaN       0.000000     NaN    5000.000000           0.000000   \n",
       "25%        NaN      69.000000     NaN  125000.000000           3.000000   \n",
       "50%        NaN     105.000000     NaN  150000.000000           6.000000   \n",
       "75%        NaN     143.000000     NaN  150000.000000           9.000000   \n",
       "max        NaN   20000.000000     NaN  150000.000000          12.000000   \n",
       "\n",
       "       FuelType       Brand NotRepaired          DateCreated  \\\n",
       "count    321474      354369      283215               354369   \n",
       "unique        7          40           2                  109   \n",
       "top      petrol  volkswagen          no  2016-04-03 00:00:00   \n",
       "freq     216352       77013      247161                13719   \n",
       "first       NaN         NaN         NaN  2014-03-10 00:00:00   \n",
       "last        NaN         NaN         NaN  2016-04-07 00:00:00   \n",
       "mean        NaN         NaN         NaN                  NaN   \n",
       "std         NaN         NaN         NaN                  NaN   \n",
       "min         NaN         NaN         NaN                  NaN   \n",
       "25%         NaN         NaN         NaN                  NaN   \n",
       "50%         NaN         NaN         NaN                  NaN   \n",
       "75%         NaN         NaN         NaN                  NaN   \n",
       "max         NaN         NaN         NaN                  NaN   \n",
       "\n",
       "        NumberOfPictures     PostalCode             LastSeen  \n",
       "count           354369.0  354369.000000               354369  \n",
       "unique               NaN            NaN               179150  \n",
       "top                  NaN            NaN  2016-04-06 13:45:54  \n",
       "freq                 NaN            NaN                   17  \n",
       "first                NaN            NaN  2016-03-05 14:15:08  \n",
       "last                 NaN            NaN  2016-04-07 14:58:51  \n",
       "mean                 0.0   50508.689087                  NaN  \n",
       "std                  0.0   25783.096248                  NaN  \n",
       "min                  0.0    1067.000000                  NaN  \n",
       "25%                  0.0   30165.000000                  NaN  \n",
       "50%                  0.0   49413.000000                  NaN  \n",
       "75%                  0.0   71083.000000                  NaN  \n",
       "max                  0.0   99998.000000                  NaN  "
      ]
     },
     "execution_count": 7,
     "metadata": {},
     "output_type": "execute_result"
    }
   ],
   "source": [
    "df.describe(include='all')"
   ]
  },
  {
   "cell_type": "markdown",
   "metadata": {
    "id": "-IoKse5cDRPr"
   },
   "source": [
    "<blockquote>\n",
    "<b>Выводы по разделу 1:</b>\n",
    "    \n",
    "1. В датафрейме имеются явные пропуски.\n",
    "\n",
    "2. Присутствуют данные типа datetime64, object, int64.\n",
    "   \n",
    "4. Данные в столбцах (согласно своей сущности)  VehicleType, Gearbox, Model, FuelType, Brand, NotRepaired необходимо привести к типу данных string, но не обязательно, будем делать по необходимости.\n",
    "\n",
    "5. Столбцы 'DateCrawled' - \"дата скачивания анкеты из базы\", 'DateCreated' - \"дата создания анкеты\", 'LastSeen' - \"дата последней активности пользователя\" - можно удалить, так как они несут уникальную информацию, не нужную для построения моделей предсказания.\n",
    "    \n",
    "6. Столбец 'PostalCode' также удалим, конечно машина в Берлина и в Нойштрелице может стоить по-разному, но оставим это другим.\n",
    "    \n",
    "7. Количестов фотографий равно нулю - соответствующий столбец подлежит удалению.\n",
    " \n",
    "8. Количество строк 354369, столбцов 16.\n",
    "\n",
    "</blockquote>"
   ]
  },
  {
   "cell_type": "markdown",
   "metadata": {
    "id": "t03FWw5nDRPr"
   },
   "source": [
    "## Предобработка данных"
   ]
  },
  {
   "cell_type": "code",
   "execution_count": 8,
   "metadata": {
    "colab": {
     "base_uri": "https://localhost:8080/"
    },
    "id": "4uyP4L6pDRPr",
    "outputId": "365389d6-d0f3-48e5-fe95-9efbf5181058"
   },
   "outputs": [
    {
     "data": {
      "text/plain": [
       "0    354369\n",
       "Name: NumberOfPictures, dtype: int64"
      ]
     },
     "execution_count": 8,
     "metadata": {},
     "output_type": "execute_result"
    }
   ],
   "source": [
    "df['NumberOfPictures'].value_counts()"
   ]
  },
  {
   "cell_type": "markdown",
   "metadata": {
    "id": "TuR7TMryDRPr"
   },
   "source": [
    "Количество фотографий в данных равно нулю, кто-то забыл выгрузить эти данные, поэтому данный столбец тоже удалим."
   ]
  },
  {
   "cell_type": "code",
   "execution_count": 9,
   "metadata": {
    "id": "xfTpRhJJDRPr"
   },
   "outputs": [],
   "source": [
    "#Удаление столбцов\n",
    "df = df.drop(['DateCrawled', \n",
    "              'LastSeen', \n",
    "              'NumberOfPictures', \n",
    "              'PostalCode'], \n",
    "             axis=1)"
   ]
  },
  {
   "cell_type": "code",
   "execution_count": 10,
   "metadata": {
    "colab": {
     "base_uri": "https://localhost:8080/",
     "height": 288
    },
    "id": "qATHko54DRPr",
    "outputId": "fea3512a-02e2-4547-fa65-ac72b3368990",
    "scrolled": true
   },
   "outputs": [
    {
     "name": "stdout",
     "output_type": "stream",
     "text": [
      "Количество явных дупликатов в датафрейме data: 11834\n"
     ]
    },
    {
     "data": {
      "text/html": [
       "\n",
       "  <div id=\"df-f2842798-0320-416d-9929-090f66f01fda\">\n",
       "    <div class=\"colab-df-container\">\n",
       "      <div>\n",
       "<style scoped>\n",
       "    .dataframe tbody tr th:only-of-type {\n",
       "        vertical-align: middle;\n",
       "    }\n",
       "\n",
       "    .dataframe tbody tr th {\n",
       "        vertical-align: top;\n",
       "    }\n",
       "\n",
       "    .dataframe thead th {\n",
       "        text-align: right;\n",
       "    }\n",
       "</style>\n",
       "<table border=\"1\" class=\"dataframe\">\n",
       "  <thead>\n",
       "    <tr style=\"text-align: right;\">\n",
       "      <th></th>\n",
       "      <th>Price</th>\n",
       "      <th>VehicleType</th>\n",
       "      <th>RegistrationYear</th>\n",
       "      <th>Gearbox</th>\n",
       "      <th>Power</th>\n",
       "      <th>Model</th>\n",
       "      <th>Kilometer</th>\n",
       "      <th>RegistrationMonth</th>\n",
       "      <th>FuelType</th>\n",
       "      <th>Brand</th>\n",
       "      <th>NotRepaired</th>\n",
       "      <th>DateCreated</th>\n",
       "    </tr>\n",
       "  </thead>\n",
       "  <tbody>\n",
       "    <tr>\n",
       "      <th>4222</th>\n",
       "      <td>14500</td>\n",
       "      <td>wagon</td>\n",
       "      <td>2007</td>\n",
       "      <td>manual</td>\n",
       "      <td>140</td>\n",
       "      <td>a6</td>\n",
       "      <td>100000</td>\n",
       "      <td>3</td>\n",
       "      <td>gasoline</td>\n",
       "      <td>audi</td>\n",
       "      <td>no</td>\n",
       "      <td>2016-03-19</td>\n",
       "    </tr>\n",
       "    <tr>\n",
       "      <th>6360</th>\n",
       "      <td>7199</td>\n",
       "      <td>sedan</td>\n",
       "      <td>2009</td>\n",
       "      <td>manual</td>\n",
       "      <td>140</td>\n",
       "      <td>golf</td>\n",
       "      <td>150000</td>\n",
       "      <td>2</td>\n",
       "      <td>gasoline</td>\n",
       "      <td>volkswagen</td>\n",
       "      <td>no</td>\n",
       "      <td>2016-03-23</td>\n",
       "    </tr>\n",
       "    <tr>\n",
       "      <th>6503</th>\n",
       "      <td>1700</td>\n",
       "      <td>sedan</td>\n",
       "      <td>2004</td>\n",
       "      <td>manual</td>\n",
       "      <td>115</td>\n",
       "      <td>focus</td>\n",
       "      <td>150000</td>\n",
       "      <td>6</td>\n",
       "      <td>gasoline</td>\n",
       "      <td>ford</td>\n",
       "      <td>NaN</td>\n",
       "      <td>2016-03-10</td>\n",
       "    </tr>\n",
       "    <tr>\n",
       "      <th>8803</th>\n",
       "      <td>1700</td>\n",
       "      <td>sedan</td>\n",
       "      <td>2004</td>\n",
       "      <td>manual</td>\n",
       "      <td>0</td>\n",
       "      <td>mondeo</td>\n",
       "      <td>150000</td>\n",
       "      <td>9</td>\n",
       "      <td>gasoline</td>\n",
       "      <td>ford</td>\n",
       "      <td>NaN</td>\n",
       "      <td>2016-03-12</td>\n",
       "    </tr>\n",
       "    <tr>\n",
       "      <th>9025</th>\n",
       "      <td>1600</td>\n",
       "      <td>small</td>\n",
       "      <td>2000</td>\n",
       "      <td>manual</td>\n",
       "      <td>50</td>\n",
       "      <td>polo</td>\n",
       "      <td>150000</td>\n",
       "      <td>10</td>\n",
       "      <td>petrol</td>\n",
       "      <td>volkswagen</td>\n",
       "      <td>no</td>\n",
       "      <td>2016-03-24</td>\n",
       "    </tr>\n",
       "  </tbody>\n",
       "</table>\n",
       "</div>\n",
       "      <button class=\"colab-df-convert\" onclick=\"convertToInteractive('df-f2842798-0320-416d-9929-090f66f01fda')\"\n",
       "              title=\"Convert this dataframe to an interactive table.\"\n",
       "              style=\"display:none;\">\n",
       "        \n",
       "  <svg xmlns=\"http://www.w3.org/2000/svg\" height=\"24px\"viewBox=\"0 0 24 24\"\n",
       "       width=\"24px\">\n",
       "    <path d=\"M0 0h24v24H0V0z\" fill=\"none\"/>\n",
       "    <path d=\"M18.56 5.44l.94 2.06.94-2.06 2.06-.94-2.06-.94-.94-2.06-.94 2.06-2.06.94zm-11 1L8.5 8.5l.94-2.06 2.06-.94-2.06-.94L8.5 2.5l-.94 2.06-2.06.94zm10 10l.94 2.06.94-2.06 2.06-.94-2.06-.94-.94-2.06-.94 2.06-2.06.94z\"/><path d=\"M17.41 7.96l-1.37-1.37c-.4-.4-.92-.59-1.43-.59-.52 0-1.04.2-1.43.59L10.3 9.45l-7.72 7.72c-.78.78-.78 2.05 0 2.83L4 21.41c.39.39.9.59 1.41.59.51 0 1.02-.2 1.41-.59l7.78-7.78 2.81-2.81c.8-.78.8-2.07 0-2.86zM5.41 20L4 18.59l7.72-7.72 1.47 1.35L5.41 20z\"/>\n",
       "  </svg>\n",
       "      </button>\n",
       "      \n",
       "  <style>\n",
       "    .colab-df-container {\n",
       "      display:flex;\n",
       "      flex-wrap:wrap;\n",
       "      gap: 12px;\n",
       "    }\n",
       "\n",
       "    .colab-df-convert {\n",
       "      background-color: #E8F0FE;\n",
       "      border: none;\n",
       "      border-radius: 50%;\n",
       "      cursor: pointer;\n",
       "      display: none;\n",
       "      fill: #1967D2;\n",
       "      height: 32px;\n",
       "      padding: 0 0 0 0;\n",
       "      width: 32px;\n",
       "    }\n",
       "\n",
       "    .colab-df-convert:hover {\n",
       "      background-color: #E2EBFA;\n",
       "      box-shadow: 0px 1px 2px rgba(60, 64, 67, 0.3), 0px 1px 3px 1px rgba(60, 64, 67, 0.15);\n",
       "      fill: #174EA6;\n",
       "    }\n",
       "\n",
       "    [theme=dark] .colab-df-convert {\n",
       "      background-color: #3B4455;\n",
       "      fill: #D2E3FC;\n",
       "    }\n",
       "\n",
       "    [theme=dark] .colab-df-convert:hover {\n",
       "      background-color: #434B5C;\n",
       "      box-shadow: 0px 1px 3px 1px rgba(0, 0, 0, 0.15);\n",
       "      filter: drop-shadow(0px 1px 2px rgba(0, 0, 0, 0.3));\n",
       "      fill: #FFFFFF;\n",
       "    }\n",
       "  </style>\n",
       "\n",
       "      <script>\n",
       "        const buttonEl =\n",
       "          document.querySelector('#df-f2842798-0320-416d-9929-090f66f01fda button.colab-df-convert');\n",
       "        buttonEl.style.display =\n",
       "          google.colab.kernel.accessAllowed ? 'block' : 'none';\n",
       "\n",
       "        async function convertToInteractive(key) {\n",
       "          const element = document.querySelector('#df-f2842798-0320-416d-9929-090f66f01fda');\n",
       "          const dataTable =\n",
       "            await google.colab.kernel.invokeFunction('convertToInteractive',\n",
       "                                                     [key], {});\n",
       "          if (!dataTable) return;\n",
       "\n",
       "          const docLinkHtml = 'Like what you see? Visit the ' +\n",
       "            '<a target=\"_blank\" href=https://colab.research.google.com/notebooks/data_table.ipynb>data table notebook</a>'\n",
       "            + ' to learn more about interactive tables.';\n",
       "          element.innerHTML = '';\n",
       "          dataTable['output_type'] = 'display_data';\n",
       "          await google.colab.output.renderOutput(dataTable, element);\n",
       "          const docLink = document.createElement('div');\n",
       "          docLink.innerHTML = docLinkHtml;\n",
       "          element.appendChild(docLink);\n",
       "        }\n",
       "      </script>\n",
       "    </div>\n",
       "  </div>\n",
       "  "
      ],
      "text/plain": [
       "      Price VehicleType  RegistrationYear Gearbox  Power   Model  Kilometer  \\\n",
       "4222  14500       wagon              2007  manual    140      a6     100000   \n",
       "6360   7199       sedan              2009  manual    140    golf     150000   \n",
       "6503   1700       sedan              2004  manual    115   focus     150000   \n",
       "8803   1700       sedan              2004  manual      0  mondeo     150000   \n",
       "9025   1600       small              2000  manual     50    polo     150000   \n",
       "\n",
       "      RegistrationMonth  FuelType       Brand NotRepaired DateCreated  \n",
       "4222                  3  gasoline        audi          no  2016-03-19  \n",
       "6360                  2  gasoline  volkswagen          no  2016-03-23  \n",
       "6503                  6  gasoline        ford         NaN  2016-03-10  \n",
       "8803                  9  gasoline        ford         NaN  2016-03-12  \n",
       "9025                 10    petrol  volkswagen          no  2016-03-24  "
      ]
     },
     "execution_count": 10,
     "metadata": {},
     "output_type": "execute_result"
    }
   ],
   "source": [
    "#Вывод явных дупликатов\n",
    "print(f'Количество явных дупликатов в датафрейме data: {df.duplicated().sum()}')\n",
    "df[df.duplicated()].head()"
   ]
  },
  {
   "cell_type": "code",
   "execution_count": 11,
   "metadata": {
    "id": "oSaazlGmDRPr"
   },
   "outputs": [],
   "source": [
    "#Удаление явных дупликатов\n",
    "df = df.drop_duplicates().reset_index(drop=True)"
   ]
  },
  {
   "cell_type": "code",
   "execution_count": 12,
   "metadata": {
    "colab": {
     "base_uri": "https://localhost:8080/"
    },
    "id": "QWLXYBTmDRPr",
    "outputId": "840eab52-b45d-4247-cddc-81e0f5b4e1cf"
   },
   "outputs": [
    {
     "name": "stdout",
     "output_type": "stream",
     "text": [
      "CPU times: user 111 ms, sys: 459 µs, total: 111 ms\n",
      "Wall time: 113 ms\n"
     ]
    },
    {
     "data": {
      "text/plain": [
       "Price                 0.000000\n",
       "VehicleType          10.755689\n",
       "RegistrationYear      0.000000\n",
       "Gearbox               5.549506\n",
       "Power                 0.000000\n",
       "Model                 5.647306\n",
       "Kilometer             0.000000\n",
       "RegistrationMonth     0.000000\n",
       "FuelType              9.445166\n",
       "Brand                 0.000000\n",
       "NotRepaired          20.328142\n",
       "DateCreated           0.000000\n",
       "dtype: float64"
      ]
     },
     "execution_count": 12,
     "metadata": {},
     "output_type": "execute_result"
    }
   ],
   "source": [
    "%%time\n",
    "#Доля (%) пропусков в соответствующих столбцах\n",
    "df.isnull().mean() * 100"
   ]
  },
  {
   "cell_type": "markdown",
   "metadata": {
    "id": "ul1xC24sDRPr"
   },
   "source": [
    "<blockquote>\n",
    "<b>Выводы:</b>\n",
    " \n",
    "1. Количество пропусков данных велико (достигает 20,35 %), необходимо определить возможно ли их восстановить или необходимо удалить.\n",
    "</blockquote>"
   ]
  },
  {
   "cell_type": "markdown",
   "metadata": {
    "id": "TxY98tZSDRPr"
   },
   "source": [
    "### Обработка пропусков и аномалий данных"
   ]
  },
  {
   "cell_type": "markdown",
   "metadata": {
    "id": "DD9sczw7DRP6"
   },
   "source": [
    "Рассмотрим автомобиль как некую сущность.\n",
    "\n",
    "Автомобиль это некая дискретная величина, разнообразие которой ограничено конструкцией и техническими характеристиками. Например, не бывает модели автомобиля марки BMW с мощностью двигателя в диапазоне от 5 до 1000 кВт, или Lada с двигателем потребляющим что-то среднее между дизелем и бензином. Таким, образом характиристики авто представляют собой категориальные переменные, которые, в случае пропуска значения, заменять, например, средним или медианой будет не правильным. В таком случае получим средненькую BMW и СРЕДНЮЮ Lada.\n",
    "\n",
    "В данном случае возможно рассмотреть вопрос восстановления данных методом классификации. Будем исходить из того, что пропуски являются категориальными переменными и методом классификации можно с \"легкостью\" заменить пропущенные значения. Для этого необходимо выбрать в качестве признаков соответствующие целевому признаку данные, так например, мощность двигателя должна соотноситься с потребляемым топливом, а тип двигателя (опять возвращемся к мощности) с типом коробки скоростей.\n",
    "\n",
    "Таким образом, мы вероятно сможем восстановить данные, но для начала необходимо избавиться от совсем безнадежных случаев, когда существующей информации не хватит для качественного восстановления данных. В данном случае необходимо, чтобы не было более 2 пропусков одновременно в одном из столбцов:'Gearbox', 'Model', 'VehicleType', 'FuelType'."
   ]
  },
  {
   "cell_type": "code",
   "execution_count": 13,
   "metadata": {
    "id": "G6x3quq9DRP6"
   },
   "outputs": [],
   "source": [
    "#Удаление строк с пропусками одновременно в 3 столбцах\n",
    "df =df.dropna(subset=['Gearbox', 'Model', 'VehicleType', 'FuelType'], thresh=3)"
   ]
  },
  {
   "cell_type": "code",
   "execution_count": 14,
   "metadata": {
    "colab": {
     "base_uri": "https://localhost:8080/",
     "height": 300
    },
    "id": "qWvCZBr6DRP6",
    "outputId": "70350ca4-f26a-4f1d-b48b-519d753750d8"
   },
   "outputs": [
    {
     "data": {
      "text/html": [
       "\n",
       "  <div id=\"df-f7e566d2-3837-4c9d-baa1-6101a022c2ed\">\n",
       "    <div class=\"colab-df-container\">\n",
       "      <div>\n",
       "<style scoped>\n",
       "    .dataframe tbody tr th:only-of-type {\n",
       "        vertical-align: middle;\n",
       "    }\n",
       "\n",
       "    .dataframe tbody tr th {\n",
       "        vertical-align: top;\n",
       "    }\n",
       "\n",
       "    .dataframe thead th {\n",
       "        text-align: right;\n",
       "    }\n",
       "</style>\n",
       "<table border=\"1\" class=\"dataframe\">\n",
       "  <thead>\n",
       "    <tr style=\"text-align: right;\">\n",
       "      <th></th>\n",
       "      <th>Price</th>\n",
       "      <th>RegistrationYear</th>\n",
       "      <th>Power</th>\n",
       "      <th>Kilometer</th>\n",
       "      <th>RegistrationMonth</th>\n",
       "    </tr>\n",
       "  </thead>\n",
       "  <tbody>\n",
       "    <tr>\n",
       "      <th>count</th>\n",
       "      <td>315562.000000</td>\n",
       "      <td>315562.000000</td>\n",
       "      <td>315562.000000</td>\n",
       "      <td>315562.000000</td>\n",
       "      <td>315562.000000</td>\n",
       "    </tr>\n",
       "    <tr>\n",
       "      <th>mean</th>\n",
       "      <td>4585.229362</td>\n",
       "      <td>2002.887702</td>\n",
       "      <td>113.814341</td>\n",
       "      <td>128665.412819</td>\n",
       "      <td>5.895247</td>\n",
       "    </tr>\n",
       "    <tr>\n",
       "      <th>std</th>\n",
       "      <td>4558.276310</td>\n",
       "      <td>23.359231</td>\n",
       "      <td>189.970462</td>\n",
       "      <td>36876.373687</td>\n",
       "      <td>3.640438</td>\n",
       "    </tr>\n",
       "    <tr>\n",
       "      <th>min</th>\n",
       "      <td>0.000000</td>\n",
       "      <td>1000.000000</td>\n",
       "      <td>0.000000</td>\n",
       "      <td>5000.000000</td>\n",
       "      <td>0.000000</td>\n",
       "    </tr>\n",
       "    <tr>\n",
       "      <th>25%</th>\n",
       "      <td>1200.000000</td>\n",
       "      <td>1999.000000</td>\n",
       "      <td>75.000000</td>\n",
       "      <td>125000.000000</td>\n",
       "      <td>3.000000</td>\n",
       "    </tr>\n",
       "    <tr>\n",
       "      <th>50%</th>\n",
       "      <td>2900.000000</td>\n",
       "      <td>2003.000000</td>\n",
       "      <td>105.000000</td>\n",
       "      <td>150000.000000</td>\n",
       "      <td>6.000000</td>\n",
       "    </tr>\n",
       "    <tr>\n",
       "      <th>75%</th>\n",
       "      <td>6600.000000</td>\n",
       "      <td>2007.000000</td>\n",
       "      <td>143.000000</td>\n",
       "      <td>150000.000000</td>\n",
       "      <td>9.000000</td>\n",
       "    </tr>\n",
       "    <tr>\n",
       "      <th>max</th>\n",
       "      <td>20000.000000</td>\n",
       "      <td>9000.000000</td>\n",
       "      <td>20000.000000</td>\n",
       "      <td>150000.000000</td>\n",
       "      <td>12.000000</td>\n",
       "    </tr>\n",
       "  </tbody>\n",
       "</table>\n",
       "</div>\n",
       "      <button class=\"colab-df-convert\" onclick=\"convertToInteractive('df-f7e566d2-3837-4c9d-baa1-6101a022c2ed')\"\n",
       "              title=\"Convert this dataframe to an interactive table.\"\n",
       "              style=\"display:none;\">\n",
       "        \n",
       "  <svg xmlns=\"http://www.w3.org/2000/svg\" height=\"24px\"viewBox=\"0 0 24 24\"\n",
       "       width=\"24px\">\n",
       "    <path d=\"M0 0h24v24H0V0z\" fill=\"none\"/>\n",
       "    <path d=\"M18.56 5.44l.94 2.06.94-2.06 2.06-.94-2.06-.94-.94-2.06-.94 2.06-2.06.94zm-11 1L8.5 8.5l.94-2.06 2.06-.94-2.06-.94L8.5 2.5l-.94 2.06-2.06.94zm10 10l.94 2.06.94-2.06 2.06-.94-2.06-.94-.94-2.06-.94 2.06-2.06.94z\"/><path d=\"M17.41 7.96l-1.37-1.37c-.4-.4-.92-.59-1.43-.59-.52 0-1.04.2-1.43.59L10.3 9.45l-7.72 7.72c-.78.78-.78 2.05 0 2.83L4 21.41c.39.39.9.59 1.41.59.51 0 1.02-.2 1.41-.59l7.78-7.78 2.81-2.81c.8-.78.8-2.07 0-2.86zM5.41 20L4 18.59l7.72-7.72 1.47 1.35L5.41 20z\"/>\n",
       "  </svg>\n",
       "      </button>\n",
       "      \n",
       "  <style>\n",
       "    .colab-df-container {\n",
       "      display:flex;\n",
       "      flex-wrap:wrap;\n",
       "      gap: 12px;\n",
       "    }\n",
       "\n",
       "    .colab-df-convert {\n",
       "      background-color: #E8F0FE;\n",
       "      border: none;\n",
       "      border-radius: 50%;\n",
       "      cursor: pointer;\n",
       "      display: none;\n",
       "      fill: #1967D2;\n",
       "      height: 32px;\n",
       "      padding: 0 0 0 0;\n",
       "      width: 32px;\n",
       "    }\n",
       "\n",
       "    .colab-df-convert:hover {\n",
       "      background-color: #E2EBFA;\n",
       "      box-shadow: 0px 1px 2px rgba(60, 64, 67, 0.3), 0px 1px 3px 1px rgba(60, 64, 67, 0.15);\n",
       "      fill: #174EA6;\n",
       "    }\n",
       "\n",
       "    [theme=dark] .colab-df-convert {\n",
       "      background-color: #3B4455;\n",
       "      fill: #D2E3FC;\n",
       "    }\n",
       "\n",
       "    [theme=dark] .colab-df-convert:hover {\n",
       "      background-color: #434B5C;\n",
       "      box-shadow: 0px 1px 3px 1px rgba(0, 0, 0, 0.15);\n",
       "      filter: drop-shadow(0px 1px 2px rgba(0, 0, 0, 0.3));\n",
       "      fill: #FFFFFF;\n",
       "    }\n",
       "  </style>\n",
       "\n",
       "      <script>\n",
       "        const buttonEl =\n",
       "          document.querySelector('#df-f7e566d2-3837-4c9d-baa1-6101a022c2ed button.colab-df-convert');\n",
       "        buttonEl.style.display =\n",
       "          google.colab.kernel.accessAllowed ? 'block' : 'none';\n",
       "\n",
       "        async function convertToInteractive(key) {\n",
       "          const element = document.querySelector('#df-f7e566d2-3837-4c9d-baa1-6101a022c2ed');\n",
       "          const dataTable =\n",
       "            await google.colab.kernel.invokeFunction('convertToInteractive',\n",
       "                                                     [key], {});\n",
       "          if (!dataTable) return;\n",
       "\n",
       "          const docLinkHtml = 'Like what you see? Visit the ' +\n",
       "            '<a target=\"_blank\" href=https://colab.research.google.com/notebooks/data_table.ipynb>data table notebook</a>'\n",
       "            + ' to learn more about interactive tables.';\n",
       "          element.innerHTML = '';\n",
       "          dataTable['output_type'] = 'display_data';\n",
       "          await google.colab.output.renderOutput(dataTable, element);\n",
       "          const docLink = document.createElement('div');\n",
       "          docLink.innerHTML = docLinkHtml;\n",
       "          element.appendChild(docLink);\n",
       "        }\n",
       "      </script>\n",
       "    </div>\n",
       "  </div>\n",
       "  "
      ],
      "text/plain": [
       "               Price  RegistrationYear          Power      Kilometer  \\\n",
       "count  315562.000000     315562.000000  315562.000000  315562.000000   \n",
       "mean     4585.229362       2002.887702     113.814341  128665.412819   \n",
       "std      4558.276310         23.359231     189.970462   36876.373687   \n",
       "min         0.000000       1000.000000       0.000000    5000.000000   \n",
       "25%      1200.000000       1999.000000      75.000000  125000.000000   \n",
       "50%      2900.000000       2003.000000     105.000000  150000.000000   \n",
       "75%      6600.000000       2007.000000     143.000000  150000.000000   \n",
       "max     20000.000000       9000.000000   20000.000000  150000.000000   \n",
       "\n",
       "       RegistrationMonth  \n",
       "count      315562.000000  \n",
       "mean            5.895247  \n",
       "std             3.640438  \n",
       "min             0.000000  \n",
       "25%             3.000000  \n",
       "50%             6.000000  \n",
       "75%             9.000000  \n",
       "max            12.000000  "
      ]
     },
     "execution_count": 14,
     "metadata": {},
     "output_type": "execute_result"
    }
   ],
   "source": [
    "#Статистики датафрейма\n",
    "df.describe()"
   ]
  },
  {
   "cell_type": "markdown",
   "metadata": {
    "id": "KA3qHfaWDRP6"
   },
   "source": [
    "<blockquote>\n",
    "<b>Выводы:</b>\n",
    " \n",
    "1. Согласно статистикам можно наблюдать совершенно невообразимые данные, автомобиль с датой регистрации 9999 г или мощностью 20000 л.с. (наверно судовой), также присутствуют нулевые значения.\n",
    "2. Данные аномалии необходимо удалить, чтобы убрать их влияние на дальнейшее обучение транзисторов.\n",
    "</blockquote>"
   ]
  },
  {
   "cell_type": "code",
   "execution_count": 15,
   "metadata": {
    "colab": {
     "base_uri": "https://localhost:8080/",
     "height": 610
    },
    "id": "yN5I0yg1DRP6",
    "outputId": "5a696259-2456-4e26-a83b-d63ccfaef00a"
   },
   "outputs": [
    {
     "data": {
      "image/png": "[encoded data removed]",
      "text/plain": [
       "<Figure size 936x720 with 4 Axes>"
      ]
     },
     "metadata": {},
     "output_type": "display_data"
    }
   ],
   "source": [
    "#Усатые ящики \n",
    "sns.set(rc={'figure.figsize':(13, 10)})\n",
    "\n",
    "plt.subplot(2, 2, 1)\n",
    "sns.boxplot(data=df['Price'], width=0.3)\n",
    "plt.title('Стоимость')\n",
    "plt.ylabel('руб.')\n",
    "\n",
    "plt.subplot(2, 2, 2)\n",
    "sns.boxplot(data=df['RegistrationYear'], width=0.3)\n",
    "plt.title('Год регистрации')\n",
    "plt.ylabel('г.')\n",
    "\n",
    "plt.subplot(2, 2, 3)\n",
    "sns.boxplot(data=df['Power'], width=0.3)\n",
    "plt.title('Мощность')\n",
    "plt.ylabel('л.с.')\n",
    "\n",
    "plt.subplot(2, 2, 4)\n",
    "sns.boxplot(data=df['Kilometer'], width=0.3)\n",
    "plt.title('Пробег')\n",
    "plt.ylabel('км')\n",
    "plt.show()"
   ]
  },
  {
   "cell_type": "markdown",
   "metadata": {
    "id": "SbEB08c9DRP6"
   },
   "source": [
    "Графики также подтверждают наличие выбросов, от которых необходимо избавиться, конечно мы можем потерять экслюзивные данные о стоимости автомобилей, имеющих историческую стоимость, но так как наша база в большей мере предназначена для автомобилей широкого потребления, то потеря данной информации наоборот сделает нашу модель точнее. А к раритетам необходимо подходить индивидуально."
   ]
  },
  {
   "cell_type": "code",
   "execution_count": 16,
   "metadata": {
    "id": "OxfmFQYRDRP6"
   },
   "outputs": [],
   "source": [
    "#Фильтрация данных\n",
    "data = df[(df['Power'] < 400) & (df['Power'] > 20)]\n",
    "data = data[(data['RegistrationYear'] < 2020) & (data['RegistrationYear'] > 1980)]\n",
    "data = data[data['Price'] > 300]"
   ]
  },
  {
   "cell_type": "code",
   "execution_count": 17,
   "metadata": {
    "colab": {
     "base_uri": "https://localhost:8080/",
     "height": 238
    },
    "id": "N2J2BUNIDRP6",
    "outputId": "8e6ed7b3-e91c-415a-f6de-b5f841db826c"
   },
   "outputs": [
    {
     "data": {
      "image/png": "[encoded data removed]",
      "text/plain": [
       "<Figure size 1224x288 with 4 Axes>"
      ]
     },
     "metadata": {},
     "output_type": "display_data"
    }
   ],
   "source": [
    "#Гистограммы распределений \n",
    "sns.set(rc={'figure.figsize':(17, 4)})\n",
    "\n",
    "plt.subplot(1, 4, 1)\n",
    "data['Price'].hist(bins=50)\n",
    "plt.title('Стоимость')\n",
    "plt.ylabel('руб.')\n",
    "\n",
    "plt.subplot(1, 4, 2)\n",
    "data['RegistrationYear'].hist(bins=50)\n",
    "plt.title('Год регистрации')\n",
    "plt.ylabel('г.')\n",
    "\n",
    "plt.subplot(1, 4, 3)\n",
    "data['Power'].hist(bins=50)\n",
    "plt.title('Мощность')\n",
    "plt.ylabel('л.с.')\n",
    "\n",
    "plt.subplot(1, 4, 4)\n",
    "data['Kilometer'].hist(bins=10)\n",
    "plt.title('Пробег')\n",
    "plt.ylabel('км')\n",
    "plt.show()"
   ]
  },
  {
   "cell_type": "code",
   "execution_count": 18,
   "metadata": {
    "colab": {
     "base_uri": "https://localhost:8080/"
    },
    "id": "HzPzfqmmDRP6",
    "outputId": "4bb33ea0-063b-4ac1-8e05-879485a5d732",
    "scrolled": true
   },
   "outputs": [
    {
     "data": {
      "text/plain": [
       "Price                 0.000000\n",
       "VehicleType           3.430438\n",
       "RegistrationYear      0.000000\n",
       "Gearbox               1.051922\n",
       "Power                 0.000000\n",
       "Model                 2.367101\n",
       "Kilometer             0.000000\n",
       "RegistrationMonth     0.000000\n",
       "FuelType              2.803408\n",
       "Brand                 0.000000\n",
       "NotRepaired          13.560115\n",
       "DateCreated           0.000000\n",
       "dtype: float64"
      ]
     },
     "execution_count": 18,
     "metadata": {},
     "output_type": "execute_result"
    }
   ],
   "source": [
    "#Доля (%) пропусков после фильтрации\n",
    "data.isna().mean() * 100"
   ]
  },
  {
   "cell_type": "markdown",
   "metadata": {
    "id": "bIWucaHNDRP6"
   },
   "source": [
    "### Оценка возможности восстановления пропусков данных"
   ]
  },
  {
   "cell_type": "markdown",
   "metadata": {
    "id": "rpoxeZ__DRP6"
   },
   "source": [
    "Так как после удаления аномалий в данных все равно присутствуют пропуски, то оценим возможность восстановления данных путем использования методов классификации."
   ]
  },
  {
   "cell_type": "code",
   "execution_count": 19,
   "metadata": {
    "colab": {
     "base_uri": "https://localhost:8080/"
    },
    "id": "598d6wy1DRP6",
    "outputId": "26138013-23d7-486a-d7df-0f22e44589e2"
   },
   "outputs": [
    {
     "name": "stdout",
     "output_type": "stream",
     "text": [
      "CPU times: user 11.7 ms, sys: 2.07 ms, total: 13.8 ms\n",
      "Wall time: 13.1 ms\n"
     ]
    }
   ],
   "source": [
    "%%time\n",
    "#Копия датафрейма\n",
    "dt = data.copy()"
   ]
  },
  {
   "cell_type": "code",
   "execution_count": 20,
   "metadata": {
    "colab": {
     "base_uri": "https://localhost:8080/",
     "height": 206
    },
    "id": "JhNVEpr0DRP6",
    "outputId": "91550c07-1a2b-4393-89c8-7a5ca306c24b",
    "scrolled": true
   },
   "outputs": [
    {
     "data": {
      "text/html": [
       "\n",
       "  <div id=\"df-1de241eb-eeaa-47ef-a104-fad09d362674\">\n",
       "    <div class=\"colab-df-container\">\n",
       "      <div>\n",
       "<style scoped>\n",
       "    .dataframe tbody tr th:only-of-type {\n",
       "        vertical-align: middle;\n",
       "    }\n",
       "\n",
       "    .dataframe tbody tr th {\n",
       "        vertical-align: top;\n",
       "    }\n",
       "\n",
       "    .dataframe thead th {\n",
       "        text-align: right;\n",
       "    }\n",
       "</style>\n",
       "<table border=\"1\" class=\"dataframe\">\n",
       "  <thead>\n",
       "    <tr style=\"text-align: right;\">\n",
       "      <th></th>\n",
       "      <th>VehicleType</th>\n",
       "      <th>Gearbox</th>\n",
       "      <th>Power</th>\n",
       "      <th>Model</th>\n",
       "      <th>RegistrationMonth</th>\n",
       "      <th>FuelType</th>\n",
       "      <th>Brand</th>\n",
       "    </tr>\n",
       "  </thead>\n",
       "  <tbody>\n",
       "    <tr>\n",
       "      <th>1</th>\n",
       "      <td>coupe</td>\n",
       "      <td>manual</td>\n",
       "      <td>190</td>\n",
       "      <td>NaN</td>\n",
       "      <td>5</td>\n",
       "      <td>gasoline</td>\n",
       "      <td>audi</td>\n",
       "    </tr>\n",
       "    <tr>\n",
       "      <th>2</th>\n",
       "      <td>suv</td>\n",
       "      <td>auto</td>\n",
       "      <td>163</td>\n",
       "      <td>grand</td>\n",
       "      <td>8</td>\n",
       "      <td>gasoline</td>\n",
       "      <td>jeep</td>\n",
       "    </tr>\n",
       "    <tr>\n",
       "      <th>3</th>\n",
       "      <td>small</td>\n",
       "      <td>manual</td>\n",
       "      <td>75</td>\n",
       "      <td>golf</td>\n",
       "      <td>6</td>\n",
       "      <td>petrol</td>\n",
       "      <td>volkswagen</td>\n",
       "    </tr>\n",
       "    <tr>\n",
       "      <th>4</th>\n",
       "      <td>small</td>\n",
       "      <td>manual</td>\n",
       "      <td>69</td>\n",
       "      <td>fabia</td>\n",
       "      <td>7</td>\n",
       "      <td>gasoline</td>\n",
       "      <td>skoda</td>\n",
       "    </tr>\n",
       "    <tr>\n",
       "      <th>5</th>\n",
       "      <td>sedan</td>\n",
       "      <td>manual</td>\n",
       "      <td>102</td>\n",
       "      <td>3er</td>\n",
       "      <td>10</td>\n",
       "      <td>petrol</td>\n",
       "      <td>bmw</td>\n",
       "    </tr>\n",
       "  </tbody>\n",
       "</table>\n",
       "</div>\n",
       "      <button class=\"colab-df-convert\" onclick=\"convertToInteractive('df-1de241eb-eeaa-47ef-a104-fad09d362674')\"\n",
       "              title=\"Convert this dataframe to an interactive table.\"\n",
       "              style=\"display:none;\">\n",
       "        \n",
       "  <svg xmlns=\"http://www.w3.org/2000/svg\" height=\"24px\"viewBox=\"0 0 24 24\"\n",
       "       width=\"24px\">\n",
       "    <path d=\"M0 0h24v24H0V0z\" fill=\"none\"/>\n",
       "    <path d=\"M18.56 5.44l.94 2.06.94-2.06 2.06-.94-2.06-.94-.94-2.06-.94 2.06-2.06.94zm-11 1L8.5 8.5l.94-2.06 2.06-.94-2.06-.94L8.5 2.5l-.94 2.06-2.06.94zm10 10l.94 2.06.94-2.06 2.06-.94-2.06-.94-.94-2.06-.94 2.06-2.06.94z\"/><path d=\"M17.41 7.96l-1.37-1.37c-.4-.4-.92-.59-1.43-.59-.52 0-1.04.2-1.43.59L10.3 9.45l-7.72 7.72c-.78.78-.78 2.05 0 2.83L4 21.41c.39.39.9.59 1.41.59.51 0 1.02-.2 1.41-.59l7.78-7.78 2.81-2.81c.8-.78.8-2.07 0-2.86zM5.41 20L4 18.59l7.72-7.72 1.47 1.35L5.41 20z\"/>\n",
       "  </svg>\n",
       "      </button>\n",
       "      \n",
       "  <style>\n",
       "    .colab-df-container {\n",
       "      display:flex;\n",
       "      flex-wrap:wrap;\n",
       "      gap: 12px;\n",
       "    }\n",
       "\n",
       "    .colab-df-convert {\n",
       "      background-color: #E8F0FE;\n",
       "      border: none;\n",
       "      border-radius: 50%;\n",
       "      cursor: pointer;\n",
       "      display: none;\n",
       "      fill: #1967D2;\n",
       "      height: 32px;\n",
       "      padding: 0 0 0 0;\n",
       "      width: 32px;\n",
       "    }\n",
       "\n",
       "    .colab-df-convert:hover {\n",
       "      background-color: #E2EBFA;\n",
       "      box-shadow: 0px 1px 2px rgba(60, 64, 67, 0.3), 0px 1px 3px 1px rgba(60, 64, 67, 0.15);\n",
       "      fill: #174EA6;\n",
       "    }\n",
       "\n",
       "    [theme=dark] .colab-df-convert {\n",
       "      background-color: #3B4455;\n",
       "      fill: #D2E3FC;\n",
       "    }\n",
       "\n",
       "    [theme=dark] .colab-df-convert:hover {\n",
       "      background-color: #434B5C;\n",
       "      box-shadow: 0px 1px 3px 1px rgba(0, 0, 0, 0.15);\n",
       "      filter: drop-shadow(0px 1px 2px rgba(0, 0, 0, 0.3));\n",
       "      fill: #FFFFFF;\n",
       "    }\n",
       "  </style>\n",
       "\n",
       "      <script>\n",
       "        const buttonEl =\n",
       "          document.querySelector('#df-1de241eb-eeaa-47ef-a104-fad09d362674 button.colab-df-convert');\n",
       "        buttonEl.style.display =\n",
       "          google.colab.kernel.accessAllowed ? 'block' : 'none';\n",
       "\n",
       "        async function convertToInteractive(key) {\n",
       "          const element = document.querySelector('#df-1de241eb-eeaa-47ef-a104-fad09d362674');\n",
       "          const dataTable =\n",
       "            await google.colab.kernel.invokeFunction('convertToInteractive',\n",
       "                                                     [key], {});\n",
       "          if (!dataTable) return;\n",
       "\n",
       "          const docLinkHtml = 'Like what you see? Visit the ' +\n",
       "            '<a target=\"_blank\" href=https://colab.research.google.com/notebooks/data_table.ipynb>data table notebook</a>'\n",
       "            + ' to learn more about interactive tables.';\n",
       "          element.innerHTML = '';\n",
       "          dataTable['output_type'] = 'display_data';\n",
       "          await google.colab.output.renderOutput(dataTable, element);\n",
       "          const docLink = document.createElement('div');\n",
       "          docLink.innerHTML = docLinkHtml;\n",
       "          element.appendChild(docLink);\n",
       "        }\n",
       "      </script>\n",
       "    </div>\n",
       "  </div>\n",
       "  "
      ],
      "text/plain": [
       "  VehicleType Gearbox  Power  Model  RegistrationMonth  FuelType       Brand\n",
       "1       coupe  manual    190    NaN                  5  gasoline        audi\n",
       "2         suv    auto    163  grand                  8  gasoline        jeep\n",
       "3       small  manual     75   golf                  6    petrol  volkswagen\n",
       "4       small  manual     69  fabia                  7  gasoline       skoda\n",
       "5       sedan  manual    102    3er                 10    petrol         bmw"
      ]
     },
     "execution_count": 20,
     "metadata": {},
     "output_type": "execute_result"
    }
   ],
   "source": [
    "#Удалим столбцы данные, которых не требуется восстанавливать\n",
    "dt = dt.drop(['Price', 'Kilometer', 'DateCreated', 'NotRepaired', 'RegistrationYear'], axis=1)\n",
    "#dt = dt.drop_duplicates().reset_index(drop=True)\n",
    "dt.head()"
   ]
  },
  {
   "cell_type": "code",
   "execution_count": 21,
   "metadata": {
    "id": "g59-NNT-DRP6"
   },
   "outputs": [],
   "source": [
    "#Удалим пропуски данных, чтобы и логистическая регрессия могла работать\n",
    "dt = dt.dropna().reset_index(drop=True)"
   ]
  },
  {
   "cell_type": "code",
   "execution_count": 22,
   "metadata": {
    "colab": {
     "base_uri": "https://localhost:8080/"
    },
    "id": "0eYVE7HpDRP6",
    "outputId": "d359a36e-930d-4899-dc39-c598bc6012c8"
   },
   "outputs": [
    {
     "data": {
      "text/plain": [
       "(245381, 5)"
      ]
     },
     "execution_count": 22,
     "metadata": {},
     "output_type": "execute_result"
    }
   ],
   "source": [
    "#Выделим столбцы с категориальными переменными, положим, что столбец Power имеет числовой тип, хотя по логике это не так.\n",
    "cat_dt = dt.select_dtypes(include=['object'])\n",
    "cat_dt.head()\n",
    "cat_dt.shape"
   ]
  },
  {
   "cell_type": "code",
   "execution_count": 23,
   "metadata": {
    "colab": {
     "base_uri": "https://localhost:8080/",
     "height": 206
    },
    "id": "R8hWsBtGDRP6",
    "outputId": "2fa605a9-e11b-4208-ca9d-509ef88e739b"
   },
   "outputs": [
    {
     "data": {
      "text/html": [
       "\n",
       "  <div id=\"df-59944892-100f-423a-b821-1e19c8a220e5\">\n",
       "    <div class=\"colab-df-container\">\n",
       "      <div>\n",
       "<style scoped>\n",
       "    .dataframe tbody tr th:only-of-type {\n",
       "        vertical-align: middle;\n",
       "    }\n",
       "\n",
       "    .dataframe tbody tr th {\n",
       "        vertical-align: top;\n",
       "    }\n",
       "\n",
       "    .dataframe thead th {\n",
       "        text-align: right;\n",
       "    }\n",
       "</style>\n",
       "<table border=\"1\" class=\"dataframe\">\n",
       "  <thead>\n",
       "    <tr style=\"text-align: right;\">\n",
       "      <th></th>\n",
       "      <th>Power</th>\n",
       "      <th>RegistrationMonth</th>\n",
       "      <th>VehicleType</th>\n",
       "      <th>Gearbox</th>\n",
       "      <th>Model</th>\n",
       "      <th>FuelType</th>\n",
       "      <th>Brand</th>\n",
       "    </tr>\n",
       "  </thead>\n",
       "  <tbody>\n",
       "    <tr>\n",
       "      <th>0</th>\n",
       "      <td>163</td>\n",
       "      <td>8</td>\n",
       "      <td>6.0</td>\n",
       "      <td>0.0</td>\n",
       "      <td>117.0</td>\n",
       "      <td>2.0</td>\n",
       "      <td>14.0</td>\n",
       "    </tr>\n",
       "    <tr>\n",
       "      <th>1</th>\n",
       "      <td>75</td>\n",
       "      <td>6</td>\n",
       "      <td>5.0</td>\n",
       "      <td>1.0</td>\n",
       "      <td>116.0</td>\n",
       "      <td>6.0</td>\n",
       "      <td>37.0</td>\n",
       "    </tr>\n",
       "    <tr>\n",
       "      <th>2</th>\n",
       "      <td>69</td>\n",
       "      <td>7</td>\n",
       "      <td>5.0</td>\n",
       "      <td>1.0</td>\n",
       "      <td>101.0</td>\n",
       "      <td>2.0</td>\n",
       "      <td>31.0</td>\n",
       "    </tr>\n",
       "    <tr>\n",
       "      <th>3</th>\n",
       "      <td>102</td>\n",
       "      <td>10</td>\n",
       "      <td>4.0</td>\n",
       "      <td>1.0</td>\n",
       "      <td>11.0</td>\n",
       "      <td>6.0</td>\n",
       "      <td>2.0</td>\n",
       "    </tr>\n",
       "    <tr>\n",
       "      <th>4</th>\n",
       "      <td>109</td>\n",
       "      <td>8</td>\n",
       "      <td>1.0</td>\n",
       "      <td>1.0</td>\n",
       "      <td>8.0</td>\n",
       "      <td>6.0</td>\n",
       "      <td>25.0</td>\n",
       "    </tr>\n",
       "  </tbody>\n",
       "</table>\n",
       "</div>\n",
       "      <button class=\"colab-df-convert\" onclick=\"convertToInteractive('df-59944892-100f-423a-b821-1e19c8a220e5')\"\n",
       "              title=\"Convert this dataframe to an interactive table.\"\n",
       "              style=\"display:none;\">\n",
       "        \n",
       "  <svg xmlns=\"http://www.w3.org/2000/svg\" height=\"24px\"viewBox=\"0 0 24 24\"\n",
       "       width=\"24px\">\n",
       "    <path d=\"M0 0h24v24H0V0z\" fill=\"none\"/>\n",
       "    <path d=\"M18.56 5.44l.94 2.06.94-2.06 2.06-.94-2.06-.94-.94-2.06-.94 2.06-2.06.94zm-11 1L8.5 8.5l.94-2.06 2.06-.94-2.06-.94L8.5 2.5l-.94 2.06-2.06.94zm10 10l.94 2.06.94-2.06 2.06-.94-2.06-.94-.94-2.06-.94 2.06-2.06.94z\"/><path d=\"M17.41 7.96l-1.37-1.37c-.4-.4-.92-.59-1.43-.59-.52 0-1.04.2-1.43.59L10.3 9.45l-7.72 7.72c-.78.78-.78 2.05 0 2.83L4 21.41c.39.39.9.59 1.41.59.51 0 1.02-.2 1.41-.59l7.78-7.78 2.81-2.81c.8-.78.8-2.07 0-2.86zM5.41 20L4 18.59l7.72-7.72 1.47 1.35L5.41 20z\"/>\n",
       "  </svg>\n",
       "      </button>\n",
       "      \n",
       "  <style>\n",
       "    .colab-df-container {\n",
       "      display:flex;\n",
       "      flex-wrap:wrap;\n",
       "      gap: 12px;\n",
       "    }\n",
       "\n",
       "    .colab-df-convert {\n",
       "      background-color: #E8F0FE;\n",
       "      border: none;\n",
       "      border-radius: 50%;\n",
       "      cursor: pointer;\n",
       "      display: none;\n",
       "      fill: #1967D2;\n",
       "      height: 32px;\n",
       "      padding: 0 0 0 0;\n",
       "      width: 32px;\n",
       "    }\n",
       "\n",
       "    .colab-df-convert:hover {\n",
       "      background-color: #E2EBFA;\n",
       "      box-shadow: 0px 1px 2px rgba(60, 64, 67, 0.3), 0px 1px 3px 1px rgba(60, 64, 67, 0.15);\n",
       "      fill: #174EA6;\n",
       "    }\n",
       "\n",
       "    [theme=dark] .colab-df-convert {\n",
       "      background-color: #3B4455;\n",
       "      fill: #D2E3FC;\n",
       "    }\n",
       "\n",
       "    [theme=dark] .colab-df-convert:hover {\n",
       "      background-color: #434B5C;\n",
       "      box-shadow: 0px 1px 3px 1px rgba(0, 0, 0, 0.15);\n",
       "      filter: drop-shadow(0px 1px 2px rgba(0, 0, 0, 0.3));\n",
       "      fill: #FFFFFF;\n",
       "    }\n",
       "  </style>\n",
       "\n",
       "      <script>\n",
       "        const buttonEl =\n",
       "          document.querySelector('#df-59944892-100f-423a-b821-1e19c8a220e5 button.colab-df-convert');\n",
       "        buttonEl.style.display =\n",
       "          google.colab.kernel.accessAllowed ? 'block' : 'none';\n",
       "\n",
       "        async function convertToInteractive(key) {\n",
       "          const element = document.querySelector('#df-59944892-100f-423a-b821-1e19c8a220e5');\n",
       "          const dataTable =\n",
       "            await google.colab.kernel.invokeFunction('convertToInteractive',\n",
       "                                                     [key], {});\n",
       "          if (!dataTable) return;\n",
       "\n",
       "          const docLinkHtml = 'Like what you see? Visit the ' +\n",
       "            '<a target=\"_blank\" href=https://colab.research.google.com/notebooks/data_table.ipynb>data table notebook</a>'\n",
       "            + ' to learn more about interactive tables.';\n",
       "          element.innerHTML = '';\n",
       "          dataTable['output_type'] = 'display_data';\n",
       "          await google.colab.output.renderOutput(dataTable, element);\n",
       "          const docLink = document.createElement('div');\n",
       "          docLink.innerHTML = docLinkHtml;\n",
       "          element.appendChild(docLink);\n",
       "        }\n",
       "      </script>\n",
       "    </div>\n",
       "  </div>\n",
       "  "
      ],
      "text/plain": [
       "   Power  RegistrationMonth  VehicleType  Gearbox  Model  FuelType  Brand\n",
       "0    163                  8          6.0      0.0  117.0       2.0   14.0\n",
       "1     75                  6          5.0      1.0  116.0       6.0   37.0\n",
       "2     69                  7          5.0      1.0  101.0       2.0   31.0\n",
       "3    102                 10          4.0      1.0   11.0       6.0    2.0\n",
       "4    109                  8          1.0      1.0    8.0       6.0   25.0"
      ]
     },
     "execution_count": 23,
     "metadata": {},
     "output_type": "execute_result"
    }
   ],
   "source": [
    "#Закодируем категориальные переменные и заменим стоблцы в датафрейме dt соответствующими столбцами с \n",
    "#кодированными переменными\n",
    "encoder_1 = OrdinalEncoder()\n",
    "encoder_1.fit(cat_dt)\n",
    "cat_dt_ordinal = encoder_1.transform(cat_dt)\n",
    "dt_ordinal = pd.DataFrame(cat_dt_ordinal, columns=cat_dt.columns)\n",
    "dt = dt.drop(dt_ordinal.columns, axis=1)\n",
    "dt = dt.join(dt_ordinal)\n",
    "dt.head()"
   ]
  },
  {
   "cell_type": "code",
   "execution_count": 24,
   "metadata": {
    "id": "X6zT_SVnDRP6"
   },
   "outputs": [],
   "source": [
    "#Список переменных\n",
    "variables=['VehicleType', 'Gearbox', 'Model', 'FuelType']"
   ]
  },
  {
   "cell_type": "code",
   "execution_count": 25,
   "metadata": {
    "id": "tYQjLKcyDRP6"
   },
   "outputs": [],
   "source": [
    "#Список из одной модели. Удалил модели которые показали худшие результаты или рушили ядро jupyter.\n",
    "models = [KNeighborsClassifier(n_jobs=-1)]"
   ]
  },
  {
   "cell_type": "code",
   "execution_count": 27,
   "metadata": {
    "colab": {
     "base_uri": "https://localhost:8080/"
    },
    "id": "dMVlCYELDRP6",
    "outputId": "b28a5342-a697-41d3-948e-3e7214234cb6",
    "scrolled": true
   },
   "outputs": [
    {
     "name": "stdout",
     "output_type": "stream",
     "text": [
      "Для переменной VehicleType и модели KNeighborsClassifier(n_jobs=-1), качество восстановления данных составит 0.702\n",
      "Для переменной Gearbox и модели KNeighborsClassifier(n_jobs=-1), качество восстановления данных составит 0.853\n",
      "Для переменной Model и модели KNeighborsClassifier(n_jobs=-1), качество восстановления данных составит 0.695\n",
      "Для переменной FuelType и модели KNeighborsClassifier(n_jobs=-1), качество восстановления данных составит 0.870\n",
      "CPU times: user 16 s, sys: 309 ms, total: 16.3 s\n",
      "Wall time: 12.3 s\n"
     ]
    }
   ],
   "source": [
    "%%time\n",
    "#Оценка восстановления данных\n",
    "for variable in variables:\n",
    "    features_cls = dt.drop([variable], axis=1)\n",
    "    target_cls = dt[variable]\n",
    "    for model in models:\n",
    "        features_train_cls, features_test_cls, target_train_cls, target_test_cls = train_test_split(features_cls, \n",
    "                                                                                                    target_cls, \n",
    "                                                                                                    test_size=0.25, \n",
    "                                                                                                    random_state=12345)\n",
    "        model_cls = model.fit(features_train_cls, target_train_cls)\n",
    "        print(f'Для переменной {variable} и модели {model}, качество восстановления данных составит {model_cls.score(features_test_cls, target_test_cls):0.3F}')"
   ]
  },
  {
   "cell_type": "markdown",
   "metadata": {
    "id": "bBuypkPjDRP6"
   },
   "source": [
    "Таким образом, используя KNeighborsClassifier можно в достаточно хорошей степени, но не так хорошо как требуется, восстановить данные и при этом получить ошибки, которые могут снизить качество конечной модели. Поэтому принимаем решение о удалении данных с пропусками. "
   ]
  },
  {
   "cell_type": "code",
   "execution_count": 28,
   "metadata": {
    "id": "4lYeQqtHDRP6"
   },
   "outputs": [],
   "source": [
    "#Удаление всех пропусков\n",
    "data = data.dropna().reset_index(drop=True)"
   ]
  },
  {
   "cell_type": "code",
   "execution_count": 29,
   "metadata": {
    "colab": {
     "base_uri": "https://localhost:8080/"
    },
    "id": "09CYZgO1DRP6",
    "outputId": "a4a6e5ca-5877-41d2-fb13-65f40e415642"
   },
   "outputs": [
    {
     "data": {
      "text/plain": [
       "Price                0.0\n",
       "VehicleType          0.0\n",
       "RegistrationYear     0.0\n",
       "Gearbox              0.0\n",
       "Power                0.0\n",
       "Model                0.0\n",
       "Kilometer            0.0\n",
       "RegistrationMonth    0.0\n",
       "FuelType             0.0\n",
       "Brand                0.0\n",
       "NotRepaired          0.0\n",
       "DateCreated          0.0\n",
       "dtype: float64"
      ]
     },
     "execution_count": 29,
     "metadata": {},
     "output_type": "execute_result"
    }
   ],
   "source": [
    "#Проверка наличия пропусков\n",
    "data.isna().mean()"
   ]
  },
  {
   "cell_type": "markdown",
   "metadata": {
    "id": "XxDzUmzSDRP6"
   },
   "source": [
    "Пропусков и аномалий нет, данные чисты и готовы к работе"
   ]
  },
  {
   "cell_type": "markdown",
   "metadata": {
    "id": "qYMCCo29DRQK"
   },
   "source": [
    "## Подготовка обучающих и тренировочных таблиц"
   ]
  },
  {
   "cell_type": "markdown",
   "metadata": {
    "id": "4dPqDcSlDRQK"
   },
   "source": [
    "### Выделение признаков и целевого признака из датафрейма"
   ]
  },
  {
   "cell_type": "code",
   "execution_count": 30,
   "metadata": {
    "id": "psd8bEwXDRQK"
   },
   "outputs": [],
   "source": [
    "#Выделение месяца из даты подачи объявления и удаление исходного столбца\n",
    "data['Month'] = data['DateCreated'].dt.month\n",
    "data = data.drop(['DateCreated'], axis=1)\n",
    "#data.head()"
   ]
  },
  {
   "cell_type": "code",
   "execution_count": 31,
   "metadata": {
    "id": "pKLrERoFDRQK"
   },
   "outputs": [],
   "source": [
    "#Обучающая и целевая выборки\n",
    "features = data.drop(['Price'], axis=1)\n",
    "target = data['Price']"
   ]
  },
  {
   "cell_type": "markdown",
   "metadata": {
    "id": "wBIDr_2VDRQK"
   },
   "source": [
    "### Кодирование признаков"
   ]
  },
  {
   "cell_type": "code",
   "execution_count": 32,
   "metadata": {
    "colab": {
     "base_uri": "https://localhost:8080/"
    },
    "id": "t1-SFy39DRQK",
    "outputId": "a4574c1e-1695-4e84-d19f-37d8598146b2"
   },
   "outputs": [
    {
     "data": {
      "text/plain": [
       "Index(['VehicleType', 'Gearbox', 'Model', 'FuelType', 'Brand', 'NotRepaired'], dtype='object')"
      ]
     },
     "execution_count": 32,
     "metadata": {},
     "output_type": "execute_result"
    }
   ],
   "source": [
    "#Выбор категориальных переменных\n",
    "cat_columns = data.select_dtypes(include=['object']).columns\n",
    "cat_columns"
   ]
  },
  {
   "cell_type": "code",
   "execution_count": 33,
   "metadata": {
    "id": "8E3MBeLnDRQK"
   },
   "outputs": [],
   "source": [
    "#Кодирование категориальных переменных\n",
    "#encoder = OneHotEncoder()\n",
    "encoder = OrdinalEncoder()\n",
    "cat_data = encoder.fit_transform(data.select_dtypes(include=['object']))"
   ]
  },
  {
   "cell_type": "code",
   "execution_count": 34,
   "metadata": {
    "id": "ynp-k2BcDRQK"
   },
   "outputs": [],
   "source": [
    "#cat_data = pd.DataFrame(cat_data.toarray(), columns=encoder.get_feature_names())\n",
    "cat_data = pd.DataFrame(cat_data, columns=cat_columns)"
   ]
  },
  {
   "cell_type": "code",
   "execution_count": 35,
   "metadata": {
    "colab": {
     "base_uri": "https://localhost:8080/",
     "height": 270
    },
    "id": "ZkYB2m5ADRQK",
    "outputId": "8bd84941-e92b-4101-a639-cd01da11b53d",
    "scrolled": true
   },
   "outputs": [
    {
     "data": {
      "text/html": [
       "\n",
       "  <div id=\"df-cb9ca7de-1af3-4f88-bac2-fe515c905f2d\">\n",
       "    <div class=\"colab-df-container\">\n",
       "      <div>\n",
       "<style scoped>\n",
       "    .dataframe tbody tr th:only-of-type {\n",
       "        vertical-align: middle;\n",
       "    }\n",
       "\n",
       "    .dataframe tbody tr th {\n",
       "        vertical-align: top;\n",
       "    }\n",
       "\n",
       "    .dataframe thead th {\n",
       "        text-align: right;\n",
       "    }\n",
       "</style>\n",
       "<table border=\"1\" class=\"dataframe\">\n",
       "  <thead>\n",
       "    <tr style=\"text-align: right;\">\n",
       "      <th></th>\n",
       "      <th>RegistrationYear</th>\n",
       "      <th>Power</th>\n",
       "      <th>Kilometer</th>\n",
       "      <th>RegistrationMonth</th>\n",
       "      <th>Month</th>\n",
       "      <th>VehicleType</th>\n",
       "      <th>Gearbox</th>\n",
       "      <th>Model</th>\n",
       "      <th>FuelType</th>\n",
       "      <th>Brand</th>\n",
       "      <th>NotRepaired</th>\n",
       "    </tr>\n",
       "  </thead>\n",
       "  <tbody>\n",
       "    <tr>\n",
       "      <th>0</th>\n",
       "      <td>2001</td>\n",
       "      <td>75</td>\n",
       "      <td>150000</td>\n",
       "      <td>6</td>\n",
       "      <td>3</td>\n",
       "      <td>5.0</td>\n",
       "      <td>1.0</td>\n",
       "      <td>116.0</td>\n",
       "      <td>6.0</td>\n",
       "      <td>37.0</td>\n",
       "      <td>0.0</td>\n",
       "    </tr>\n",
       "    <tr>\n",
       "      <th>1</th>\n",
       "      <td>2008</td>\n",
       "      <td>69</td>\n",
       "      <td>90000</td>\n",
       "      <td>7</td>\n",
       "      <td>3</td>\n",
       "      <td>5.0</td>\n",
       "      <td>1.0</td>\n",
       "      <td>101.0</td>\n",
       "      <td>2.0</td>\n",
       "      <td>31.0</td>\n",
       "      <td>0.0</td>\n",
       "    </tr>\n",
       "    <tr>\n",
       "      <th>2</th>\n",
       "      <td>1995</td>\n",
       "      <td>102</td>\n",
       "      <td>150000</td>\n",
       "      <td>10</td>\n",
       "      <td>4</td>\n",
       "      <td>4.0</td>\n",
       "      <td>1.0</td>\n",
       "      <td>11.0</td>\n",
       "      <td>6.0</td>\n",
       "      <td>2.0</td>\n",
       "      <td>1.0</td>\n",
       "    </tr>\n",
       "    <tr>\n",
       "      <th>3</th>\n",
       "      <td>2004</td>\n",
       "      <td>109</td>\n",
       "      <td>150000</td>\n",
       "      <td>8</td>\n",
       "      <td>4</td>\n",
       "      <td>1.0</td>\n",
       "      <td>1.0</td>\n",
       "      <td>8.0</td>\n",
       "      <td>6.0</td>\n",
       "      <td>25.0</td>\n",
       "      <td>0.0</td>\n",
       "    </tr>\n",
       "    <tr>\n",
       "      <th>4</th>\n",
       "      <td>2004</td>\n",
       "      <td>105</td>\n",
       "      <td>150000</td>\n",
       "      <td>12</td>\n",
       "      <td>3</td>\n",
       "      <td>4.0</td>\n",
       "      <td>1.0</td>\n",
       "      <td>10.0</td>\n",
       "      <td>6.0</td>\n",
       "      <td>19.0</td>\n",
       "      <td>0.0</td>\n",
       "    </tr>\n",
       "  </tbody>\n",
       "</table>\n",
       "</div>\n",
       "      <button class=\"colab-df-convert\" onclick=\"convertToInteractive('df-cb9ca7de-1af3-4f88-bac2-fe515c905f2d')\"\n",
       "              title=\"Convert this dataframe to an interactive table.\"\n",
       "              style=\"display:none;\">\n",
       "        \n",
       "  <svg xmlns=\"http://www.w3.org/2000/svg\" height=\"24px\"viewBox=\"0 0 24 24\"\n",
       "       width=\"24px\">\n",
       "    <path d=\"M0 0h24v24H0V0z\" fill=\"none\"/>\n",
       "    <path d=\"M18.56 5.44l.94 2.06.94-2.06 2.06-.94-2.06-.94-.94-2.06-.94 2.06-2.06.94zm-11 1L8.5 8.5l.94-2.06 2.06-.94-2.06-.94L8.5 2.5l-.94 2.06-2.06.94zm10 10l.94 2.06.94-2.06 2.06-.94-2.06-.94-.94-2.06-.94 2.06-2.06.94z\"/><path d=\"M17.41 7.96l-1.37-1.37c-.4-.4-.92-.59-1.43-.59-.52 0-1.04.2-1.43.59L10.3 9.45l-7.72 7.72c-.78.78-.78 2.05 0 2.83L4 21.41c.39.39.9.59 1.41.59.51 0 1.02-.2 1.41-.59l7.78-7.78 2.81-2.81c.8-.78.8-2.07 0-2.86zM5.41 20L4 18.59l7.72-7.72 1.47 1.35L5.41 20z\"/>\n",
       "  </svg>\n",
       "      </button>\n",
       "      \n",
       "  <style>\n",
       "    .colab-df-container {\n",
       "      display:flex;\n",
       "      flex-wrap:wrap;\n",
       "      gap: 12px;\n",
       "    }\n",
       "\n",
       "    .colab-df-convert {\n",
       "      background-color: #E8F0FE;\n",
       "      border: none;\n",
       "      border-radius: 50%;\n",
       "      cursor: pointer;\n",
       "      display: none;\n",
       "      fill: #1967D2;\n",
       "      height: 32px;\n",
       "      padding: 0 0 0 0;\n",
       "      width: 32px;\n",
       "    }\n",
       "\n",
       "    .colab-df-convert:hover {\n",
       "      background-color: #E2EBFA;\n",
       "      box-shadow: 0px 1px 2px rgba(60, 64, 67, 0.3), 0px 1px 3px 1px rgba(60, 64, 67, 0.15);\n",
       "      fill: #174EA6;\n",
       "    }\n",
       "\n",
       "    [theme=dark] .colab-df-convert {\n",
       "      background-color: #3B4455;\n",
       "      fill: #D2E3FC;\n",
       "    }\n",
       "\n",
       "    [theme=dark] .colab-df-convert:hover {\n",
       "      background-color: #434B5C;\n",
       "      box-shadow: 0px 1px 3px 1px rgba(0, 0, 0, 0.15);\n",
       "      filter: drop-shadow(0px 1px 2px rgba(0, 0, 0, 0.3));\n",
       "      fill: #FFFFFF;\n",
       "    }\n",
       "  </style>\n",
       "\n",
       "      <script>\n",
       "        const buttonEl =\n",
       "          document.querySelector('#df-cb9ca7de-1af3-4f88-bac2-fe515c905f2d button.colab-df-convert');\n",
       "        buttonEl.style.display =\n",
       "          google.colab.kernel.accessAllowed ? 'block' : 'none';\n",
       "\n",
       "        async function convertToInteractive(key) {\n",
       "          const element = document.querySelector('#df-cb9ca7de-1af3-4f88-bac2-fe515c905f2d');\n",
       "          const dataTable =\n",
       "            await google.colab.kernel.invokeFunction('convertToInteractive',\n",
       "                                                     [key], {});\n",
       "          if (!dataTable) return;\n",
       "\n",
       "          const docLinkHtml = 'Like what you see? Visit the ' +\n",
       "            '<a target=\"_blank\" href=https://colab.research.google.com/notebooks/data_table.ipynb>data table notebook</a>'\n",
       "            + ' to learn more about interactive tables.';\n",
       "          element.innerHTML = '';\n",
       "          dataTable['output_type'] = 'display_data';\n",
       "          await google.colab.output.renderOutput(dataTable, element);\n",
       "          const docLink = document.createElement('div');\n",
       "          docLink.innerHTML = docLinkHtml;\n",
       "          element.appendChild(docLink);\n",
       "        }\n",
       "      </script>\n",
       "    </div>\n",
       "  </div>\n",
       "  "
      ],
      "text/plain": [
       "   RegistrationYear  Power  Kilometer  RegistrationMonth  Month  VehicleType  \\\n",
       "0              2001     75     150000                  6      3          5.0   \n",
       "1              2008     69      90000                  7      3          5.0   \n",
       "2              1995    102     150000                 10      4          4.0   \n",
       "3              2004    109     150000                  8      4          1.0   \n",
       "4              2004    105     150000                 12      3          4.0   \n",
       "\n",
       "   Gearbox  Model  FuelType  Brand  NotRepaired  \n",
       "0      1.0  116.0       6.0   37.0          0.0  \n",
       "1      1.0  101.0       2.0   31.0          0.0  \n",
       "2      1.0   11.0       6.0    2.0          1.0  \n",
       "3      1.0    8.0       6.0   25.0          0.0  \n",
       "4      1.0   10.0       6.0   19.0          0.0  "
      ]
     },
     "execution_count": 35,
     "metadata": {},
     "output_type": "execute_result"
    }
   ],
   "source": [
    "#Замена категориальных данных на кодированные\n",
    "features = features.drop(cat_columns, axis=1)\n",
    "features = features.join(cat_data)\n",
    "features.head()"
   ]
  },
  {
   "cell_type": "markdown",
   "metadata": {
    "id": "Zjyn6Iz8DRQK"
   },
   "source": [
    "### Разделение на обучающую и валидационную выборки"
   ]
  },
  {
   "cell_type": "code",
   "execution_count": 36,
   "metadata": {
    "id": "Kgu_LBbDDRQK"
   },
   "outputs": [],
   "source": [
    "#Разделение выборок \n",
    "features_train, features_valid, target_train, target_valid = train_test_split(features, target, \n",
    "                                                                  test_size=0.20, \n",
    "                                                                  random_state=12345)"
   ]
  },
  {
   "cell_type": "code",
   "execution_count": 37,
   "metadata": {
    "colab": {
     "base_uri": "https://localhost:8080/",
     "height": 86
    },
    "id": "YqfQLU7yDRQK",
    "outputId": "4e3be0fe-2f8e-42a7-aa72-a9ec525032c8"
   },
   "outputs": [
    {
     "data": {
      "text/plain": [
       "(174251, 11)"
      ]
     },
     "metadata": {},
     "output_type": "display_data"
    },
    {
     "data": {
      "text/plain": [
       "(174251,)"
      ]
     },
     "metadata": {},
     "output_type": "display_data"
    },
    {
     "data": {
      "text/plain": [
       "(43563, 11)"
      ]
     },
     "metadata": {},
     "output_type": "display_data"
    },
    {
     "data": {
      "text/plain": [
       "(43563,)"
      ]
     },
     "metadata": {},
     "output_type": "display_data"
    }
   ],
   "source": [
    "display(features_train.shape)\n",
    "display(target_train.shape)\n",
    "display(features_valid.shape)\n",
    "display(target_valid.shape)"
   ]
  },
  {
   "cell_type": "markdown",
   "metadata": {
    "id": "1IS9pR7hDRQK"
   },
   "source": [
    "## Применение модели регрессий для описания исходных данных"
   ]
  },
  {
   "cell_type": "code",
   "execution_count": 38,
   "metadata": {
    "id": "yg8pK5yWDRQK"
   },
   "outputs": [],
   "source": [
    "scaler = [('scaler', StandardScaler())]"
   ]
  },
  {
   "cell_type": "code",
   "execution_count": 44,
   "metadata": {
    "id": "ZeOMoDdlDRQK"
   },
   "outputs": [],
   "source": [
    "models = [GradientBoostingRegressor(), \n",
    "          LGBMRegressor(n_jobs=-1), \n",
    "          CatBoostRegressor(verbose=False)]"
   ]
  },
  {
   "cell_type": "code",
   "execution_count": 42,
   "metadata": {
    "id": "o2yRoXo9DRQK"
   },
   "outputs": [],
   "source": [
    "models = [LGBMRegressor(n_jobs=-1)]"
   ]
  },
  {
   "cell_type": "code",
   "execution_count": 45,
   "metadata": {
    "colab": {
     "base_uri": "https://localhost:8080/"
    },
    "id": "2GuoZDWhDRQK",
    "outputId": "ee042afd-ac16-4c37-a42e-38108624fe9a",
    "scrolled": false
   },
   "outputs": [
    {
     "name": "stdout",
     "output_type": "stream",
     "text": [
      "Модель Pipeline(steps=[('standardscaler', StandardScaler()),\n",
      "                ('gradientboostingregressor', GradientBoostingRegressor())]): R2=0.846, RMSE=1.83e+03, time_learn=17.4s, time_predict=0.0779s\n",
      "Модель Pipeline(steps=[('standardscaler', StandardScaler()),\n",
      "                ('lgbmregressor', LGBMRegressor())]): R2=0.879, RMSE=1.62e+03, time_learn=1.68s, time_predict=0.214s\n",
      "Модель Pipeline(steps=[('standardscaler', StandardScaler()),\n",
      "                ('catboostregressor',\n",
      "                 <catboost.core.CatBoostRegressor object at 0x7fa32c433090>)]): R2=0.893, RMSE=1.52e+03, time_learn=23.2s, time_predict=0.0669s\n",
      "CPU times: user 4min 23s, sys: 2.74 s, total: 4min 25s\n",
      "Wall time: 2min 54s\n"
     ]
    }
   ],
   "source": [
    "%%time\n",
    "for model in models:\n",
    "    pipeline_regr = make_pipeline(StandardScaler(), model)\n",
    "    scores = cross_val_score(pipeline_regr, features_train, target_train, cv=4).mean()\n",
    "#   print(scores)\n",
    "    start_1 = time.time()\n",
    "    model = pipeline_regr.fit(features_train, target_train)\n",
    "    end_1 = time.time()\n",
    "    start_2 = time.time()\n",
    "    predict = pipeline_regr.predict(features_valid)\n",
    "    end_2 = time.time()\n",
    "    r2 = r2_score(target_valid, predict)\n",
    "    rmse = mean_squared_error(target_valid, predict)**0.5\n",
    "    print(f'Модель {model}: R2={r2:0.3}, RMSE={rmse:0.3}, time_learn={(end_1-start_1):0.3}s, time_predict={(end_2-start_2):0.3}s')"
   ]
  },
  {
   "cell_type": "markdown",
   "metadata": {
    "id": "xo38cTzRDRQK"
   },
   "source": [
    "Модель (GradientBoostingRegressor(): R2=0.846, RMSE=1.83e+03, time_learn=12.8s, time_predict=0.065s\n",
    "Модель  LGBMRegressor()): R2=0.879, RMSE=1.62e+03, time_learn=4.1s, time_predict=0.398s\n",
    "Модель CatBoostRegressor: R2=0.893, RMSE=1.52e+03, time_learn=26.1s, time_predict=0.0455s"
   ]
  },
  {
   "cell_type": "markdown",
   "metadata": {
    "id": "1abv72lWDRQK"
   },
   "source": [
    "Результаты соревнований по коробочным версиям моделей :\n",
    "\n",
    "-- в номинации **\"Качество предсказания\"** (по метрике RMSE) выиграли следующие модели:\n",
    "\n",
    "- 1 место - модель CatBoostRegressor():  R2=0.893, RMSE=1.52e+03;\n",
    "\n",
    "- 2 место - модель LGBMRegressor()): R2=0.879, RMSE=1.62e+03;\n",
    "\n",
    "- 3 место - модель GradientBoostingRegressor(): R2=0.846, RMSE=1.83e+03.\n",
    "\n",
    "\n",
    "-- в номинации **\"Время предсказания\"** выиграли следующие модели:\n",
    "\n",
    "- 1 место - модель CatBoostRegressor(): time_predict=0.0455s;\n",
    "\n",
    "- 2 место - модель GradientBoostingRegressor(): time_predict=0.065s;\n",
    "\n",
    "- 3 место - LGBMRegressor(): time_predict=0.398s;\n",
    "\n",
    "\n",
    "\n",
    "-- в номинации **\"Время обучения\"** выиграли следующие модели:\n",
    "\n",
    "- 1 место - модель LGBMRegressor(): time_learn=4.1s;\n",
    "\n",
    "- 2 место - GradientBoostingRegressor(): time_learn=12.8;\n",
    "\n",
    "- 3 место - модель CatBoostRegressor(): time_learn=26.1."
   ]
  },
  {
   "cell_type": "markdown",
   "metadata": {
    "id": "iwq6UokYDRQK"
   },
   "source": [
    "### LGBMRegressor"
   ]
  },
  {
   "cell_type": "markdown",
   "metadata": {
    "id": "16JTgs6DDRQK"
   },
   "source": [
    "#### LGBMRegressor  с улучшенными гиперпараметрами"
   ]
  },
  {
   "cell_type": "code",
   "execution_count": 46,
   "metadata": {
    "id": "3TH2hnZ0DRQK"
   },
   "outputs": [],
   "source": [
    "#Задание параметров и диапазона варьирования для поиска оптимальной модели.\n",
    "parametrs = {'lgbmregressor__learning_rate': [0.1, 0.3],\n",
    "             'lgbmregressor__n_estimators': [100]}"
   ]
  },
  {
   "cell_type": "code",
   "execution_count": 47,
   "metadata": {
    "id": "sx24cE9uDRQK"
   },
   "outputs": [],
   "source": [
    "pipeline_lgbmr = make_pipeline(StandardScaler(), LGBMRegressor())"
   ]
  },
  {
   "cell_type": "code",
   "execution_count": 48,
   "metadata": {
    "colab": {
     "base_uri": "https://localhost:8080/"
    },
    "id": "4yFAARj1DRQK",
    "outputId": "30ed9964-8858-4661-afdf-5a16268efbd8",
    "scrolled": true
   },
   "outputs": [
    {
     "data": {
      "text/plain": [
       "GridSearchCV(cv=4,\n",
       "             estimator=Pipeline(steps=[('standardscaler', StandardScaler()),\n",
       "                                       ('lgbmregressor', LGBMRegressor())]),\n",
       "             n_jobs=-1,\n",
       "             param_grid={'lgbmregressor__learning_rate': [0.1, 0.3],\n",
       "                         'lgbmregressor__n_estimators': [100]},\n",
       "             scoring='neg_mean_absolute_error')"
      ]
     },
     "execution_count": 48,
     "metadata": {},
     "output_type": "execute_result"
    }
   ],
   "source": [
    "#Поиск наилучших параметров модели.\n",
    "grid_model_lgbmr = GridSearchCV(pipeline_lgbmr, \n",
    "                               parametrs, \n",
    "                               scoring='neg_mean_absolute_error', \n",
    "                               cv=4, n_jobs=-1)\n",
    "grid_model_lgbmr.fit(features_train, target_train)"
   ]
  },
  {
   "cell_type": "code",
   "execution_count": 49,
   "metadata": {
    "colab": {
     "base_uri": "https://localhost:8080/"
    },
    "id": "Qdo16eayDRQK",
    "outputId": "122e04a4-335c-4e9e-a8b5-8109db705540"
   },
   "outputs": [
    {
     "name": "stdout",
     "output_type": "stream",
     "text": [
      "Модель Pipeline(steps=[('standardscaler', StandardScaler()),\n",
      "                ('pipeline',\n",
      "                 Pipeline(steps=[('standardscaler', StandardScaler()),\n",
      "                                 ('lgbmregressor',\n",
      "                                  LGBMRegressor(learning_rate=0.3))]))]): R2=0.889, RMSE=1.55e+03, time_learn=1.96s, time_predict=0.155s\n"
     ]
    }
   ],
   "source": [
    "pipeline_lgbmr_best = make_pipeline(StandardScaler(), grid_model_lgbmr.best_estimator_)\n",
    "start_1 = time.time()\n",
    "model = pipeline_lgbmr_best.fit(features_train, target_train)\n",
    "end_1 = time.time()\n",
    "start_2 = time.time()\n",
    "predict = pipeline_lgbmr_best.predict(features_valid)\n",
    "end_2 = time.time()\n",
    "r2 = r2_score(target_valid, predict)\n",
    "rmse = mean_squared_error(target_valid, predict)**0.5\n",
    "print(f'Модель {model}: R2={r2:0.3}, RMSE={rmse:0.3}, time_learn={(end_1-start_1):0.3}s, time_predict={(end_2-start_2):0.3}s')"
   ]
  },
  {
   "cell_type": "markdown",
   "metadata": {
    "id": "gSddFzQQDRQK"
   },
   "source": [
    "Модель LGBMRegressor() с улучшенными гиперпараметрами показала следующие результаты: R2=0.889, RMSE=1.55e+03, time_learn=28.8s, time_predict=0.209s."
   ]
  },
  {
   "cell_type": "markdown",
   "metadata": {
    "id": "uAtyBdgxDRQK"
   },
   "source": [
    "Модель LGBMRegressor(): R2=0.893, RMSE=1.54e+03, time_learn=4.15e+02s, time_predict=0.306s"
   ]
  },
  {
   "cell_type": "markdown",
   "metadata": {
    "id": "K6Fb5PGGDRQK"
   },
   "source": [
    "### CatBoostRegressor"
   ]
  },
  {
   "cell_type": "markdown",
   "metadata": {
    "id": "Z2d0AdT1DRQK"
   },
   "source": [
    "#### CatBoostRegressor для категориальных признаков без кодирования"
   ]
  },
  {
   "cell_type": "code",
   "execution_count": 50,
   "metadata": {
    "id": "jN9WftPjDRQK"
   },
   "outputs": [],
   "source": [
    "#Разделение выборок на обучение и тест \n",
    "features_train_cat, features_test_cat, target_train_cat, target_test_cat = train_test_split(data.drop(['Price'], axis=1), \n",
    "                                                                                            data['Price'], \n",
    "                                                                                            test_size=0.25, \n",
    "                                                                                            random_state=12345)"
   ]
  },
  {
   "cell_type": "code",
   "execution_count": 51,
   "metadata": {
    "colab": {
     "base_uri": "https://localhost:8080/",
     "height": 270
    },
    "id": "4GIzsIV1DRQK",
    "outputId": "f1138030-788b-4659-a2fc-75fce943512e",
    "scrolled": true
   },
   "outputs": [
    {
     "data": {
      "text/html": [
       "\n",
       "  <div id=\"df-82b09536-18ed-438b-b874-a7ee696616db\">\n",
       "    <div class=\"colab-df-container\">\n",
       "      <div>\n",
       "<style scoped>\n",
       "    .dataframe tbody tr th:only-of-type {\n",
       "        vertical-align: middle;\n",
       "    }\n",
       "\n",
       "    .dataframe tbody tr th {\n",
       "        vertical-align: top;\n",
       "    }\n",
       "\n",
       "    .dataframe thead th {\n",
       "        text-align: right;\n",
       "    }\n",
       "</style>\n",
       "<table border=\"1\" class=\"dataframe\">\n",
       "  <thead>\n",
       "    <tr style=\"text-align: right;\">\n",
       "      <th></th>\n",
       "      <th>VehicleType</th>\n",
       "      <th>RegistrationYear</th>\n",
       "      <th>Gearbox</th>\n",
       "      <th>Power</th>\n",
       "      <th>Model</th>\n",
       "      <th>Kilometer</th>\n",
       "      <th>RegistrationMonth</th>\n",
       "      <th>FuelType</th>\n",
       "      <th>Brand</th>\n",
       "      <th>NotRepaired</th>\n",
       "      <th>Month</th>\n",
       "    </tr>\n",
       "  </thead>\n",
       "  <tbody>\n",
       "    <tr>\n",
       "      <th>29212</th>\n",
       "      <td>small</td>\n",
       "      <td>2003</td>\n",
       "      <td>manual</td>\n",
       "      <td>75</td>\n",
       "      <td>corsa</td>\n",
       "      <td>150000</td>\n",
       "      <td>2</td>\n",
       "      <td>petrol</td>\n",
       "      <td>opel</td>\n",
       "      <td>no</td>\n",
       "      <td>3</td>\n",
       "    </tr>\n",
       "    <tr>\n",
       "      <th>23017</th>\n",
       "      <td>small</td>\n",
       "      <td>2006</td>\n",
       "      <td>manual</td>\n",
       "      <td>68</td>\n",
       "      <td>fiesta</td>\n",
       "      <td>150000</td>\n",
       "      <td>5</td>\n",
       "      <td>gasoline</td>\n",
       "      <td>ford</td>\n",
       "      <td>no</td>\n",
       "      <td>3</td>\n",
       "    </tr>\n",
       "    <tr>\n",
       "      <th>144175</th>\n",
       "      <td>wagon</td>\n",
       "      <td>2003</td>\n",
       "      <td>auto</td>\n",
       "      <td>163</td>\n",
       "      <td>a4</td>\n",
       "      <td>150000</td>\n",
       "      <td>5</td>\n",
       "      <td>gasoline</td>\n",
       "      <td>audi</td>\n",
       "      <td>no</td>\n",
       "      <td>3</td>\n",
       "    </tr>\n",
       "    <tr>\n",
       "      <th>30656</th>\n",
       "      <td>sedan</td>\n",
       "      <td>1991</td>\n",
       "      <td>auto</td>\n",
       "      <td>75</td>\n",
       "      <td>golf</td>\n",
       "      <td>100000</td>\n",
       "      <td>3</td>\n",
       "      <td>petrol</td>\n",
       "      <td>volkswagen</td>\n",
       "      <td>no</td>\n",
       "      <td>3</td>\n",
       "    </tr>\n",
       "    <tr>\n",
       "      <th>173001</th>\n",
       "      <td>sedan</td>\n",
       "      <td>2007</td>\n",
       "      <td>manual</td>\n",
       "      <td>300</td>\n",
       "      <td>leon</td>\n",
       "      <td>125000</td>\n",
       "      <td>7</td>\n",
       "      <td>petrol</td>\n",
       "      <td>seat</td>\n",
       "      <td>no</td>\n",
       "      <td>3</td>\n",
       "    </tr>\n",
       "  </tbody>\n",
       "</table>\n",
       "</div>\n",
       "      <button class=\"colab-df-convert\" onclick=\"convertToInteractive('df-82b09536-18ed-438b-b874-a7ee696616db')\"\n",
       "              title=\"Convert this dataframe to an interactive table.\"\n",
       "              style=\"display:none;\">\n",
       "        \n",
       "  <svg xmlns=\"http://www.w3.org/2000/svg\" height=\"24px\"viewBox=\"0 0 24 24\"\n",
       "       width=\"24px\">\n",
       "    <path d=\"M0 0h24v24H0V0z\" fill=\"none\"/>\n",
       "    <path d=\"M18.56 5.44l.94 2.06.94-2.06 2.06-.94-2.06-.94-.94-2.06-.94 2.06-2.06.94zm-11 1L8.5 8.5l.94-2.06 2.06-.94-2.06-.94L8.5 2.5l-.94 2.06-2.06.94zm10 10l.94 2.06.94-2.06 2.06-.94-2.06-.94-.94-2.06-.94 2.06-2.06.94z\"/><path d=\"M17.41 7.96l-1.37-1.37c-.4-.4-.92-.59-1.43-.59-.52 0-1.04.2-1.43.59L10.3 9.45l-7.72 7.72c-.78.78-.78 2.05 0 2.83L4 21.41c.39.39.9.59 1.41.59.51 0 1.02-.2 1.41-.59l7.78-7.78 2.81-2.81c.8-.78.8-2.07 0-2.86zM5.41 20L4 18.59l7.72-7.72 1.47 1.35L5.41 20z\"/>\n",
       "  </svg>\n",
       "      </button>\n",
       "      \n",
       "  <style>\n",
       "    .colab-df-container {\n",
       "      display:flex;\n",
       "      flex-wrap:wrap;\n",
       "      gap: 12px;\n",
       "    }\n",
       "\n",
       "    .colab-df-convert {\n",
       "      background-color: #E8F0FE;\n",
       "      border: none;\n",
       "      border-radius: 50%;\n",
       "      cursor: pointer;\n",
       "      display: none;\n",
       "      fill: #1967D2;\n",
       "      height: 32px;\n",
       "      padding: 0 0 0 0;\n",
       "      width: 32px;\n",
       "    }\n",
       "\n",
       "    .colab-df-convert:hover {\n",
       "      background-color: #E2EBFA;\n",
       "      box-shadow: 0px 1px 2px rgba(60, 64, 67, 0.3), 0px 1px 3px 1px rgba(60, 64, 67, 0.15);\n",
       "      fill: #174EA6;\n",
       "    }\n",
       "\n",
       "    [theme=dark] .colab-df-convert {\n",
       "      background-color: #3B4455;\n",
       "      fill: #D2E3FC;\n",
       "    }\n",
       "\n",
       "    [theme=dark] .colab-df-convert:hover {\n",
       "      background-color: #434B5C;\n",
       "      box-shadow: 0px 1px 3px 1px rgba(0, 0, 0, 0.15);\n",
       "      filter: drop-shadow(0px 1px 2px rgba(0, 0, 0, 0.3));\n",
       "      fill: #FFFFFF;\n",
       "    }\n",
       "  </style>\n",
       "\n",
       "      <script>\n",
       "        const buttonEl =\n",
       "          document.querySelector('#df-82b09536-18ed-438b-b874-a7ee696616db button.colab-df-convert');\n",
       "        buttonEl.style.display =\n",
       "          google.colab.kernel.accessAllowed ? 'block' : 'none';\n",
       "\n",
       "        async function convertToInteractive(key) {\n",
       "          const element = document.querySelector('#df-82b09536-18ed-438b-b874-a7ee696616db');\n",
       "          const dataTable =\n",
       "            await google.colab.kernel.invokeFunction('convertToInteractive',\n",
       "                                                     [key], {});\n",
       "          if (!dataTable) return;\n",
       "\n",
       "          const docLinkHtml = 'Like what you see? Visit the ' +\n",
       "            '<a target=\"_blank\" href=https://colab.research.google.com/notebooks/data_table.ipynb>data table notebook</a>'\n",
       "            + ' to learn more about interactive tables.';\n",
       "          element.innerHTML = '';\n",
       "          dataTable['output_type'] = 'display_data';\n",
       "          await google.colab.output.renderOutput(dataTable, element);\n",
       "          const docLink = document.createElement('div');\n",
       "          docLink.innerHTML = docLinkHtml;\n",
       "          element.appendChild(docLink);\n",
       "        }\n",
       "      </script>\n",
       "    </div>\n",
       "  </div>\n",
       "  "
      ],
      "text/plain": [
       "       VehicleType  RegistrationYear Gearbox  Power   Model  Kilometer  \\\n",
       "29212        small              2003  manual     75   corsa     150000   \n",
       "23017        small              2006  manual     68  fiesta     150000   \n",
       "144175       wagon              2003    auto    163      a4     150000   \n",
       "30656        sedan              1991    auto     75    golf     100000   \n",
       "173001       sedan              2007  manual    300    leon     125000   \n",
       "\n",
       "        RegistrationMonth  FuelType       Brand NotRepaired  Month  \n",
       "29212                   2    petrol        opel          no      3  \n",
       "23017                   5  gasoline        ford          no      3  \n",
       "144175                  5  gasoline        audi          no      3  \n",
       "30656                   3    petrol  volkswagen          no      3  \n",
       "173001                  7    petrol        seat          no      3  "
      ]
     },
     "metadata": {},
     "output_type": "display_data"
    }
   ],
   "source": [
    "display(features_train_cat.head())\n",
    "#display(features_test_cat.head())"
   ]
  },
  {
   "cell_type": "code",
   "execution_count": 52,
   "metadata": {
    "colab": {
     "base_uri": "https://localhost:8080/"
    },
    "id": "X2MMz-49DRQK",
    "outputId": "5720760f-5fce-43eb-a074-fcc04d47cf4c"
   },
   "outputs": [
    {
     "name": "stdout",
     "output_type": "stream",
     "text": [
      "\n",
      "bestTest = 0.8863305523\n",
      "bestIteration = 249\n",
      "\n",
      "0:\tloss: 0.8863306\tbest: 0.8863306 (0)\ttotal: 35.5s\tremaining: 1m 46s\n",
      "\n",
      "bestTest = 0.8916993056\n",
      "bestIteration = 249\n",
      "\n",
      "1:\tloss: 0.8916993\tbest: 0.8916993 (1)\ttotal: 1m 10s\tremaining: 1m 10s\n",
      "\n",
      "bestTest = 0.8882385116\n",
      "bestIteration = 299\n",
      "\n",
      "2:\tloss: 0.8882385\tbest: 0.8916993 (1)\ttotal: 1m 51s\tremaining: 37.3s\n",
      "\n",
      "bestTest = 0.892737415\n",
      "bestIteration = 298\n",
      "\n",
      "3:\tloss: 0.8927374\tbest: 0.8927374 (3)\ttotal: 2m 33s\tremaining: 0us\n",
      "Estimating final quality...\n",
      "Training on fold [0/3]\n",
      "\n",
      "bestTest = 0.8897435045\n",
      "bestIteration = 299\n",
      "\n",
      "Training on fold [1/3]\n",
      "\n",
      "bestTest = 0.8918065716\n",
      "bestIteration = 299\n",
      "\n",
      "Training on fold [2/3]\n",
      "\n",
      "bestTest = 0.8936528823\n",
      "bestIteration = 299\n",
      "\n"
     ]
    },
    {
     "data": {
      "text/plain": [
       "{'cv_results': defaultdict(list,\n",
       "             {'iterations': [0,\n",
       "               1,\n",
       "               2,\n",
       "               3,\n",
       "               4,\n",
       "               5,\n",
       "               6,\n",
       "               7,\n",
       "               8,\n",
       "               9,\n",
       "               10,\n",
       "               11,\n",
       "               12,\n",
       "               13,\n",
       "               14,\n",
       "               15,\n",
       "               16,\n",
       "               17,\n",
       "               18,\n",
       "               19,\n",
       "               20,\n",
       "               21,\n",
       "               22,\n",
       "               23,\n",
       "               24,\n",
       "               25,\n",
       "               26,\n",
       "               27,\n",
       "               28,\n",
       "               29,\n",
       "               30,\n",
       "               31,\n",
       "               32,\n",
       "               33,\n",
       "               34,\n",
       "               35,\n",
       "               36,\n",
       "               37,\n",
       "               38,\n",
       "               39,\n",
       "               40,\n",
       "               41,\n",
       "               42,\n",
       "               43,\n",
       "               44,\n",
       "               45,\n",
       "               46,\n",
       "               47,\n",
       "               48,\n",
       "               49,\n",
       "               50,\n",
       "               51,\n",
       "               52,\n",
       "               53,\n",
       "               54,\n",
       "               55,\n",
       "               56,\n",
       "               57,\n",
       "               58,\n",
       "               59,\n",
       "               60,\n",
       "               61,\n",
       "               62,\n",
       "               63,\n",
       "               64,\n",
       "               65,\n",
       "               66,\n",
       "               67,\n",
       "               68,\n",
       "               69,\n",
       "               70,\n",
       "               71,\n",
       "               72,\n",
       "               73,\n",
       "               74,\n",
       "               75,\n",
       "               76,\n",
       "               77,\n",
       "               78,\n",
       "               79,\n",
       "               80,\n",
       "               81,\n",
       "               82,\n",
       "               83,\n",
       "               84,\n",
       "               85,\n",
       "               86,\n",
       "               87,\n",
       "               88,\n",
       "               89,\n",
       "               90,\n",
       "               91,\n",
       "               92,\n",
       "               93,\n",
       "               94,\n",
       "               95,\n",
       "               96,\n",
       "               97,\n",
       "               98,\n",
       "               99,\n",
       "               100,\n",
       "               101,\n",
       "               102,\n",
       "               103,\n",
       "               104,\n",
       "               105,\n",
       "               106,\n",
       "               107,\n",
       "               108,\n",
       "               109,\n",
       "               110,\n",
       "               111,\n",
       "               112,\n",
       "               113,\n",
       "               114,\n",
       "               115,\n",
       "               116,\n",
       "               117,\n",
       "               118,\n",
       "               119,\n",
       "               120,\n",
       "               121,\n",
       "               122,\n",
       "               123,\n",
       "               124,\n",
       "               125,\n",
       "               126,\n",
       "               127,\n",
       "               128,\n",
       "               129,\n",
       "               130,\n",
       "               131,\n",
       "               132,\n",
       "               133,\n",
       "               134,\n",
       "               135,\n",
       "               136,\n",
       "               137,\n",
       "               138,\n",
       "               139,\n",
       "               140,\n",
       "               141,\n",
       "               142,\n",
       "               143,\n",
       "               144,\n",
       "               145,\n",
       "               146,\n",
       "               147,\n",
       "               148,\n",
       "               149,\n",
       "               150,\n",
       "               151,\n",
       "               152,\n",
       "               153,\n",
       "               154,\n",
       "               155,\n",
       "               156,\n",
       "               157,\n",
       "               158,\n",
       "               159,\n",
       "               160,\n",
       "               161,\n",
       "               162,\n",
       "               163,\n",
       "               164,\n",
       "               165,\n",
       "               166,\n",
       "               167,\n",
       "               168,\n",
       "               169,\n",
       "               170,\n",
       "               171,\n",
       "               172,\n",
       "               173,\n",
       "               174,\n",
       "               175,\n",
       "               176,\n",
       "               177,\n",
       "               178,\n",
       "               179,\n",
       "               180,\n",
       "               181,\n",
       "               182,\n",
       "               183,\n",
       "               184,\n",
       "               185,\n",
       "               186,\n",
       "               187,\n",
       "               188,\n",
       "               189,\n",
       "               190,\n",
       "               191,\n",
       "               192,\n",
       "               193,\n",
       "               194,\n",
       "               195,\n",
       "               196,\n",
       "               197,\n",
       "               198,\n",
       "               199,\n",
       "               200,\n",
       "               201,\n",
       "               202,\n",
       "               203,\n",
       "               204,\n",
       "               205,\n",
       "               206,\n",
       "               207,\n",
       "               208,\n",
       "               209,\n",
       "               210,\n",
       "               211,\n",
       "               212,\n",
       "               213,\n",
       "               214,\n",
       "               215,\n",
       "               216,\n",
       "               217,\n",
       "               218,\n",
       "               219,\n",
       "               220,\n",
       "               221,\n",
       "               222,\n",
       "               223,\n",
       "               224,\n",
       "               225,\n",
       "               226,\n",
       "               227,\n",
       "               228,\n",
       "               229,\n",
       "               230,\n",
       "               231,\n",
       "               232,\n",
       "               233,\n",
       "               234,\n",
       "               235,\n",
       "               236,\n",
       "               237,\n",
       "               238,\n",
       "               239,\n",
       "               240,\n",
       "               241,\n",
       "               242,\n",
       "               243,\n",
       "               244,\n",
       "               245,\n",
       "               246,\n",
       "               247,\n",
       "               248,\n",
       "               249,\n",
       "               250,\n",
       "               251,\n",
       "               252,\n",
       "               253,\n",
       "               254,\n",
       "               255,\n",
       "               256,\n",
       "               257,\n",
       "               258,\n",
       "               259,\n",
       "               260,\n",
       "               261,\n",
       "               262,\n",
       "               263,\n",
       "               264,\n",
       "               265,\n",
       "               266,\n",
       "               267,\n",
       "               268,\n",
       "               269,\n",
       "               270,\n",
       "               271,\n",
       "               272,\n",
       "               273,\n",
       "               274,\n",
       "               275,\n",
       "               276,\n",
       "               277,\n",
       "               278,\n",
       "               279,\n",
       "               280,\n",
       "               281,\n",
       "               282,\n",
       "               283,\n",
       "               284,\n",
       "               285,\n",
       "               286,\n",
       "               287,\n",
       "               288,\n",
       "               289,\n",
       "               290,\n",
       "               291,\n",
       "               292,\n",
       "               293,\n",
       "               294,\n",
       "               295,\n",
       "               296,\n",
       "               297,\n",
       "               298,\n",
       "               299],\n",
       "              'test-R2-mean': [-0.5829818216501337,\n",
       "               -0.11567280272732394,\n",
       "               0.19302094091276398,\n",
       "               0.40060163068460075,\n",
       "               0.539164296584762,\n",
       "               0.6306575086690808,\n",
       "               0.6935396033958615,\n",
       "               0.7369458594007122,\n",
       "               0.766924902512261,\n",
       "               0.7891049877298872,\n",
       "               0.8042877433286851,\n",
       "               0.815854129359003,\n",
       "               0.8245520478051471,\n",
       "               0.830814669526924,\n",
       "               0.8358359162476483,\n",
       "               0.8390488306275018,\n",
       "               0.843924272804311,\n",
       "               0.8474664550040183,\n",
       "               0.8501050251966701,\n",
       "               0.8522815163284084,\n",
       "               0.85410403488931,\n",
       "               0.8555743879289306,\n",
       "               0.8568071274683522,\n",
       "               0.8578311174440626,\n",
       "               0.8587659322759861,\n",
       "               0.8598184231428602,\n",
       "               0.8606997707413447,\n",
       "               0.8615644987828732,\n",
       "               0.8624376829948918,\n",
       "               0.86328140708898,\n",
       "               0.8638542341688948,\n",
       "               0.8644955065365894,\n",
       "               0.8650371010094257,\n",
       "               0.8656133914952985,\n",
       "               0.8661445937353913,\n",
       "               0.8666366425751807,\n",
       "               0.8671799795583061,\n",
       "               0.8675965542747989,\n",
       "               0.8680738997947063,\n",
       "               0.8684370408740932,\n",
       "               0.8688857074940959,\n",
       "               0.8692982124598917,\n",
       "               0.8697223706939327,\n",
       "               0.8702130677658383,\n",
       "               0.8704558879626921,\n",
       "               0.8708338097009353,\n",
       "               0.8712946502475182,\n",
       "               0.8716317656270839,\n",
       "               0.8719574222628715,\n",
       "               0.8722224668016909,\n",
       "               0.8725242416710106,\n",
       "               0.8727931206322571,\n",
       "               0.8731419600791738,\n",
       "               0.8733586392711711,\n",
       "               0.8736301591064043,\n",
       "               0.8740453469858774,\n",
       "               0.8744338195631324,\n",
       "               0.8747089922219273,\n",
       "               0.8749629252279748,\n",
       "               0.8751747329833925,\n",
       "               0.8755189185724696,\n",
       "               0.875728925870125,\n",
       "               0.8758762331891315,\n",
       "               0.8761038141086582,\n",
       "               0.8763325193134732,\n",
       "               0.8765537282113499,\n",
       "               0.876807711599881,\n",
       "               0.8769952651671747,\n",
       "               0.8772625064145982,\n",
       "               0.877434689395022,\n",
       "               0.8775217750738026,\n",
       "               0.8777477283302068,\n",
       "               0.8779720633861438,\n",
       "               0.8781997176029237,\n",
       "               0.8783947889154632,\n",
       "               0.8786603776265925,\n",
       "               0.8788573885419892,\n",
       "               0.8790578565991204,\n",
       "               0.8792166359199532,\n",
       "               0.8793948924173586,\n",
       "               0.8796358808486368,\n",
       "               0.8798033546209884,\n",
       "               0.880029115685318,\n",
       "               0.8802164468305292,\n",
       "               0.8803184306357421,\n",
       "               0.8804487218063292,\n",
       "               0.8806065723521717,\n",
       "               0.8807679500452736,\n",
       "               0.8809364809876161,\n",
       "               0.8810878847285295,\n",
       "               0.8812087378283341,\n",
       "               0.8813206306819744,\n",
       "               0.8814594829160584,\n",
       "               0.881611844732323,\n",
       "               0.8817467187080487,\n",
       "               0.8818500030101278,\n",
       "               0.8819972024140723,\n",
       "               0.8821410284859498,\n",
       "               0.8822239110282704,\n",
       "               0.8823428612335289,\n",
       "               0.882427250169224,\n",
       "               0.8825599794494896,\n",
       "               0.8826827782478815,\n",
       "               0.882773333033953,\n",
       "               0.8828526783308623,\n",
       "               0.8829693374387458,\n",
       "               0.8830612480683776,\n",
       "               0.883175973777231,\n",
       "               0.8833011912110242,\n",
       "               0.8834010019801276,\n",
       "               0.8835042624764323,\n",
       "               0.8835944218548687,\n",
       "               0.8836731018303364,\n",
       "               0.8837375316113819,\n",
       "               0.8838045375076407,\n",
       "               0.8839186363251024,\n",
       "               0.8840798246697483,\n",
       "               0.8841898639007507,\n",
       "               0.8843031563264271,\n",
       "               0.8843906760298187,\n",
       "               0.884462980035452,\n",
       "               0.884536769142998,\n",
       "               0.8846144770185025,\n",
       "               0.8847100201022521,\n",
       "               0.8848348986342082,\n",
       "               0.8849040310046065,\n",
       "               0.8850412378350193,\n",
       "               0.8851488711048514,\n",
       "               0.8851818163888105,\n",
       "               0.8852852863961695,\n",
       "               0.8853337110187769,\n",
       "               0.8854267651120208,\n",
       "               0.8855489490289975,\n",
       "               0.8855985900090104,\n",
       "               0.8856337004071658,\n",
       "               0.8857154936126835,\n",
       "               0.8857660659023391,\n",
       "               0.8858511933553398,\n",
       "               0.8859291531503848,\n",
       "               0.8860340860347851,\n",
       "               0.8860905466832577,\n",
       "               0.8861364014405829,\n",
       "               0.8861865719116658,\n",
       "               0.8862171534657047,\n",
       "               0.8862944091945707,\n",
       "               0.8863515264662412,\n",
       "               0.8864653744612441,\n",
       "               0.8865113949511572,\n",
       "               0.8865804730985379,\n",
       "               0.8866359663807523,\n",
       "               0.8867017483905025,\n",
       "               0.8867439381722951,\n",
       "               0.8867636711515052,\n",
       "               0.8867887378998806,\n",
       "               0.8868230443731916,\n",
       "               0.8868631317159398,\n",
       "               0.8869679721002011,\n",
       "               0.8870560094632752,\n",
       "               0.8871085927506529,\n",
       "               0.8871744074966553,\n",
       "               0.8872440626202868,\n",
       "               0.8873519510633979,\n",
       "               0.8873930565494922,\n",
       "               0.8874084512056152,\n",
       "               0.8874343627477037,\n",
       "               0.8875306936865869,\n",
       "               0.8875395386786908,\n",
       "               0.8875998476791954,\n",
       "               0.8876612557444861,\n",
       "               0.8877103679828563,\n",
       "               0.8877929564085205,\n",
       "               0.887856624516416,\n",
       "               0.8879207130142573,\n",
       "               0.8879650008505932,\n",
       "               0.8880003094298586,\n",
       "               0.8880755399027406,\n",
       "               0.8881055263068841,\n",
       "               0.8882033823393677,\n",
       "               0.8882525197765515,\n",
       "               0.8882937101516343,\n",
       "               0.8883637913798555,\n",
       "               0.8884486241572582,\n",
       "               0.8884814750000274,\n",
       "               0.8884819620337909,\n",
       "               0.8885005176077937,\n",
       "               0.8885357223817595,\n",
       "               0.8885686979247915,\n",
       "               0.8885848865759282,\n",
       "               0.8886465184111391,\n",
       "               0.8887060252134061,\n",
       "               0.8887572290277036,\n",
       "               0.8887950787547756,\n",
       "               0.8888454802206128,\n",
       "               0.8888661672102197,\n",
       "               0.8888931236068994,\n",
       "               0.8889152835980655,\n",
       "               0.8889813352409973,\n",
       "               0.8889974013682526,\n",
       "               0.8890284347239686,\n",
       "               0.8890622736020558,\n",
       "               0.8891040276104972,\n",
       "               0.8891123752477212,\n",
       "               0.8891445736605205,\n",
       "               0.889169592952129,\n",
       "               0.8892080160800445,\n",
       "               0.8892575717381993,\n",
       "               0.8893024422730832,\n",
       "               0.8893455539236038,\n",
       "               0.8893894421301786,\n",
       "               0.8894172196174209,\n",
       "               0.8894758043385241,\n",
       "               0.8894828634235129,\n",
       "               0.889510283376374,\n",
       "               0.8895153379577833,\n",
       "               0.889559811902616,\n",
       "               0.8895958729650933,\n",
       "               0.8896134675433421,\n",
       "               0.8896277976724148,\n",
       "               0.889664732770413,\n",
       "               0.8896864595049587,\n",
       "               0.8897234846432501,\n",
       "               0.8897725692092404,\n",
       "               0.8897844772545933,\n",
       "               0.8898401836306791,\n",
       "               0.8899030616057155,\n",
       "               0.8899398383268539,\n",
       "               0.8899767843720245,\n",
       "               0.8900324660872269,\n",
       "               0.8900787349892486,\n",
       "               0.8901061688983622,\n",
       "               0.8901371698444606,\n",
       "               0.890157004462024,\n",
       "               0.8901702756026837,\n",
       "               0.8902059417833517,\n",
       "               0.8902514201402963,\n",
       "               0.8902764794342718,\n",
       "               0.8903093979478119,\n",
       "               0.8903436022772332,\n",
       "               0.8903618905490411,\n",
       "               0.8903685623298153,\n",
       "               0.8903748594025807,\n",
       "               0.8903765333529092,\n",
       "               0.8904074581538008,\n",
       "               0.8904290390129669,\n",
       "               0.8904540863247886,\n",
       "               0.8904944496621955,\n",
       "               0.8905234640312587,\n",
       "               0.8905331864642255,\n",
       "               0.8905433010211832,\n",
       "               0.8905517474495704,\n",
       "               0.8905640845287001,\n",
       "               0.8905875616474955,\n",
       "               0.8906138955833901,\n",
       "               0.8906473171790598,\n",
       "               0.890661414386182,\n",
       "               0.8906864124120024,\n",
       "               0.8906894729527776,\n",
       "               0.8907132611673193,\n",
       "               0.8907362399869531,\n",
       "               0.8907566862905322,\n",
       "               0.8907992019865297,\n",
       "               0.8908170880060444,\n",
       "               0.8908463303496355,\n",
       "               0.890863476773883,\n",
       "               0.8908697306379215,\n",
       "               0.8908934677448791,\n",
       "               0.8908978172397952,\n",
       "               0.8909129245759947,\n",
       "               0.8909386970668199,\n",
       "               0.8909818517970658,\n",
       "               0.8910022282004061,\n",
       "               0.8910696238973056,\n",
       "               0.8910995510853258,\n",
       "               0.8911338912604282,\n",
       "               0.8911457246089763,\n",
       "               0.891191024458928,\n",
       "               0.8912031434239395,\n",
       "               0.8912328267587158,\n",
       "               0.8912630331013564,\n",
       "               0.8912809364628057,\n",
       "               0.8913028563206596,\n",
       "               0.8913117839192807,\n",
       "               0.8913425872028297,\n",
       "               0.8913769443164159,\n",
       "               0.8913915712657805,\n",
       "               0.8914035419688991,\n",
       "               0.8914051792602932,\n",
       "               0.891436455145954,\n",
       "               0.89144371002005,\n",
       "               0.8914898685722639,\n",
       "               0.8915062790544351,\n",
       "               0.8915419878185249,\n",
       "               0.8915723057378931,\n",
       "               0.8915707567010703,\n",
       "               0.8915973665381182,\n",
       "               0.8916283992885298,\n",
       "               0.8916524640810418,\n",
       "               0.8916690308158671,\n",
       "               0.8916991666270158,\n",
       "               0.8917343194744188],\n",
       "              'test-R2-std': [0.005314377952212923,\n",
       "               0.007998172438044073,\n",
       "               0.007349388279272494,\n",
       "               0.006718679702991953,\n",
       "               0.007126462071103904,\n",
       "               0.005933256341500125,\n",
       "               0.006290785101470897,\n",
       "               0.005312429033589258,\n",
       "               0.004478612623859917,\n",
       "               0.004674997102217733,\n",
       "               0.0036474531690043263,\n",
       "               0.003850284712731712,\n",
       "               0.0031660076268555755,\n",
       "               0.0031160503767688613,\n",
       "               0.0026838516631032413,\n",
       "               0.0024587017925528586,\n",
       "               0.0023602428352427073,\n",
       "               0.002373332873566811,\n",
       "               0.0026800453234160273,\n",
       "               0.0023519454727316306,\n",
       "               0.0025044994602821937,\n",
       "               0.0024778864021122293,\n",
       "               0.0024304600587391123,\n",
       "               0.002703525197550908,\n",
       "               0.0025991020417638414,\n",
       "               0.0024570748396846925,\n",
       "               0.0022925392141685055,\n",
       "               0.0020650035961056,\n",
       "               0.002190379212331436,\n",
       "               0.0023700901518235967,\n",
       "               0.0024828852183748046,\n",
       "               0.002419596261514003,\n",
       "               0.00241627922398514,\n",
       "               0.002483783795915452,\n",
       "               0.002523367808911751,\n",
       "               0.0026272553437583254,\n",
       "               0.002605075806731652,\n",
       "               0.0026775279228459445,\n",
       "               0.002544334258135906,\n",
       "               0.002521474995948499,\n",
       "               0.0026836020537369144,\n",
       "               0.0026682413151580884,\n",
       "               0.0025069449150609846,\n",
       "               0.0025159929570333552,\n",
       "               0.002563718819859867,\n",
       "               0.00278781344173413,\n",
       "               0.0027996934236698373,\n",
       "               0.002682252882012814,\n",
       "               0.002591013573230879,\n",
       "               0.0025930396807326084,\n",
       "               0.0024727848799011385,\n",
       "               0.002299905324312982,\n",
       "               0.002248672651713686,\n",
       "               0.0023199401002800767,\n",
       "               0.002360834709496527,\n",
       "               0.0022421668123380686,\n",
       "               0.0023069886068641542,\n",
       "               0.002249851852491717,\n",
       "               0.002301068197878146,\n",
       "               0.002387448538902079,\n",
       "               0.0022369360388757543,\n",
       "               0.0023244941434185716,\n",
       "               0.002378667249132512,\n",
       "               0.0023902724716528003,\n",
       "               0.0023646868263856916,\n",
       "               0.002380654094375941,\n",
       "               0.002228550783417079,\n",
       "               0.0022107094668409114,\n",
       "               0.0020290003342207713,\n",
       "               0.002027819162316345,\n",
       "               0.0020146195243559836,\n",
       "               0.0019510653477600888,\n",
       "               0.0019532906473132207,\n",
       "               0.001907730672511853,\n",
       "               0.001905033914274901,\n",
       "               0.0020379912803400652,\n",
       "               0.0020388815367938977,\n",
       "               0.0019967885760624362,\n",
       "               0.0020256420220095884,\n",
       "               0.0020602597688989814,\n",
       "               0.0020063986623643417,\n",
       "               0.002061623724583515,\n",
       "               0.0020526389273511033,\n",
       "               0.002083915924833501,\n",
       "               0.0020696450651001724,\n",
       "               0.0021055553929426405,\n",
       "               0.0021228469498472172,\n",
       "               0.002143787379993888,\n",
       "               0.002197186014497631,\n",
       "               0.002235597162935992,\n",
       "               0.0022026063187455323,\n",
       "               0.002136666688632548,\n",
       "               0.0022088213872147305,\n",
       "               0.0022456662791401033,\n",
       "               0.0021580896761628065,\n",
       "               0.0021553614730961575,\n",
       "               0.0021886094598210708,\n",
       "               0.002174485840656011,\n",
       "               0.0020610325604503653,\n",
       "               0.002043937814556998,\n",
       "               0.0020654483701739207,\n",
       "               0.00198561411240702,\n",
       "               0.0019591149196445277,\n",
       "               0.0019652667444233812,\n",
       "               0.0019620603869026075,\n",
       "               0.001983394600143455,\n",
       "               0.0019300559835936809,\n",
       "               0.001837400938025076,\n",
       "               0.001836788246804551,\n",
       "               0.0018482247646838053,\n",
       "               0.0018732562728044154,\n",
       "               0.0017920289944724896,\n",
       "               0.0018362656728045153,\n",
       "               0.0018078758468316456,\n",
       "               0.0018020803204903488,\n",
       "               0.0019095368713899414,\n",
       "               0.0019241820512867602,\n",
       "               0.0018981577932530723,\n",
       "               0.0019643073444483533,\n",
       "               0.0019515101477112552,\n",
       "               0.001990685465638485,\n",
       "               0.002011492809865198,\n",
       "               0.002021463996062916,\n",
       "               0.0020295583241884303,\n",
       "               0.0020312384893019313,\n",
       "               0.002040753409449208,\n",
       "               0.0020570747392276586,\n",
       "               0.0020924867764430767,\n",
       "               0.0020606222454446666,\n",
       "               0.0020518290174690295,\n",
       "               0.0020684927962995587,\n",
       "               0.0020320060751446494,\n",
       "               0.0019984256969646248,\n",
       "               0.00197169966433749,\n",
       "               0.0019799779218495953,\n",
       "               0.002003774960144375,\n",
       "               0.00203077455700739,\n",
       "               0.002092961822924301,\n",
       "               0.002109241494229775,\n",
       "               0.002115482067468692,\n",
       "               0.0021798428243809745,\n",
       "               0.0021879928304452782,\n",
       "               0.002166041381129389,\n",
       "               0.0021564530129364497,\n",
       "               0.0021620331217410494,\n",
       "               0.0021355005117690614,\n",
       "               0.002128735098022321,\n",
       "               0.0021136160640833094,\n",
       "               0.002034950845996854,\n",
       "               0.0020780997700244907,\n",
       "               0.0020144738511053482,\n",
       "               0.001994925059759276,\n",
       "               0.0019969032461564693,\n",
       "               0.002018041609198033,\n",
       "               0.002010981564482347,\n",
       "               0.0020015890681620314,\n",
       "               0.002014990110833987,\n",
       "               0.0019999300924834875,\n",
       "               0.00201936896327358,\n",
       "               0.002020466354473949,\n",
       "               0.0020103457724241036,\n",
       "               0.002019424345070453,\n",
       "               0.002035385421680276,\n",
       "               0.0020299183933807597,\n",
       "               0.002036169326636308,\n",
       "               0.0019825303261242454,\n",
       "               0.00199214093663638,\n",
       "               0.0020315866759603746,\n",
       "               0.0020275630895028006,\n",
       "               0.0020436900099780157,\n",
       "               0.0020807241743252135,\n",
       "               0.0020745219426374223,\n",
       "               0.0020253481409175465,\n",
       "               0.0020154651621389634,\n",
       "               0.0020019718262428428,\n",
       "               0.0019850856450706693,\n",
       "               0.001993307239431334,\n",
       "               0.0019217266829064108,\n",
       "               0.0019359727610636962,\n",
       "               0.0019582864671120427,\n",
       "               0.0019352681141965805,\n",
       "               0.0019260616619064224,\n",
       "               0.0019572117345733587,\n",
       "               0.0019754090960950386,\n",
       "               0.0019344525415182965,\n",
       "               0.0019315285445180227,\n",
       "               0.0019409560378942374,\n",
       "               0.001947060876565898,\n",
       "               0.0019182332236517322,\n",
       "               0.0019138639933750485,\n",
       "               0.0019089776319193114,\n",
       "               0.0019280011434587689,\n",
       "               0.001910331612327732,\n",
       "               0.0018961553010821094,\n",
       "               0.0018991414008237835,\n",
       "               0.0019037887511095292,\n",
       "               0.0019177647459045998,\n",
       "               0.0019212200244052326,\n",
       "               0.001914309086309087,\n",
       "               0.0019325581076784313,\n",
       "               0.001974335260629626,\n",
       "               0.0019705966360605435,\n",
       "               0.0019801981098925047,\n",
       "               0.0019466335818111747,\n",
       "               0.001924580966329613,\n",
       "               0.0018974417188577166,\n",
       "               0.0018919023107684596,\n",
       "               0.0018920247509858702,\n",
       "               0.0019133740109152097,\n",
       "               0.0019361855314902932,\n",
       "               0.0019180681957752022,\n",
       "               0.001911292169480003,\n",
       "               0.0018798434076923928,\n",
       "               0.0018688492032942546,\n",
       "               0.0018658033136043648,\n",
       "               0.0019025061159994002,\n",
       "               0.0019061343598661957,\n",
       "               0.0018953282655228226,\n",
       "               0.001926185788388185,\n",
       "               0.001908866321965007,\n",
       "               0.0019458029944171339,\n",
       "               0.0019354349865940014,\n",
       "               0.0019374064230137935,\n",
       "               0.0019278725385609053,\n",
       "               0.0018978662118937927,\n",
       "               0.0019061026964754958,\n",
       "               0.0019433675172466094,\n",
       "               0.0019366698429976264,\n",
       "               0.0019821596379351134,\n",
       "               0.001981733418451257,\n",
       "               0.0019801826309473482,\n",
       "               0.001961100026700269,\n",
       "               0.0019690520020074795,\n",
       "               0.0019427081382689237,\n",
       "               0.001911692697204279,\n",
       "               0.0019284279624273198,\n",
       "               0.0019474076493068645,\n",
       "               0.0019589629274508746,\n",
       "               0.0019661319522939072,\n",
       "               0.0019762636519703326,\n",
       "               0.0019784712752184347,\n",
       "               0.001988534150083454,\n",
       "               0.0019883682211615035,\n",
       "               0.002004794178976142,\n",
       "               0.0020160120215381083,\n",
       "               0.0020063382695043874,\n",
       "               0.001980249617181279,\n",
       "               0.0019671154432116577,\n",
       "               0.0019738428886892324,\n",
       "               0.0019804046854589286,\n",
       "               0.001981570744823442,\n",
       "               0.001999523285420428,\n",
       "               0.0019697383024238346,\n",
       "               0.001989487617469986,\n",
       "               0.0019862819768528776,\n",
       "               0.001974314011907164,\n",
       "               0.00198261077692662,\n",
       "               0.0019566970037680504,\n",
       "               0.0019570028426504037,\n",
       "               0.0019362139727252129,\n",
       "               0.0019312393935075832,\n",
       "               0.0019244156927932432,\n",
       "               0.0019142427056602267,\n",
       "               0.0019108492011321043,\n",
       "               0.0019131340347736077,\n",
       "               0.0018741311345368478,\n",
       "               0.001881751225138312,\n",
       "               0.0018952233758670546,\n",
       "               0.0018752961485778697,\n",
       "               0.0018238765185720942,\n",
       "               0.0018471521390127422,\n",
       "               0.0018124292786713795,\n",
       "               0.001824957583576188,\n",
       "               0.0018235490868714315,\n",
       "               0.0018310956013610818,\n",
       "               0.0018354545142563344,\n",
       "               0.0018323718645472567,\n",
       "               0.0018262037502800351,\n",
       "               0.0018400110938884278,\n",
       "               0.0018352348479554088,\n",
       "               0.0018345503137017398,\n",
       "               0.0018421691647574443,\n",
       "               0.001852177601738094,\n",
       "               0.0018672772680240033,\n",
       "               0.0018736631176646632,\n",
       "               0.0018795243388386208,\n",
       "               0.001883609665753908,\n",
       "               0.0018815664726817413,\n",
       "               0.0018916612793505269,\n",
       "               0.0019155410939871434,\n",
       "               0.0018965007058654993,\n",
       "               0.0019060642871364228,\n",
       "               0.001915297602901123,\n",
       "               0.0019080127619207103,\n",
       "               0.001905453377943197,\n",
       "               0.0019266471681403244,\n",
       "               0.0019292269575002642,\n",
       "               0.001923609982190928,\n",
       "               0.0019370006403567437,\n",
       "               0.0019556901366106424],\n",
       "              'test-RMSE-mean': [5931.977976774961,\n",
       "               4980.013558672515,\n",
       "               4235.384299672115,\n",
       "               3650.2175751297887,\n",
       "               3200.607025484002,\n",
       "               2865.322271732539,\n",
       "               2610.010107887186,\n",
       "               2418.1212741800814,\n",
       "               2276.16986863684,\n",
       "               2165.142966711384,\n",
       "               2085.7707838800143,\n",
       "               2023.1878137358588,\n",
       "               1974.84223639806,\n",
       "               1939.2749524691078,\n",
       "               1910.2868081098277,\n",
       "               1891.5038240608962,\n",
       "               1862.6355415569903,\n",
       "               1841.3764537917293,\n",
       "               1825.3740261589473,\n",
       "               1812.0788802870118,\n",
       "               1800.8614238073558,\n",
       "               1791.763041899978,\n",
       "               1784.1013077544576,\n",
       "               1777.7043141322092,\n",
       "               1771.8521866496324,\n",
       "               1765.24084905747,\n",
       "               1759.6865199692118,\n",
       "               1754.2201556307061,\n",
       "               1748.6768557881908,\n",
       "               1743.3018578991207,\n",
       "               1739.643600137235,\n",
       "               1735.5430421560686,\n",
       "               1732.0711794662668,\n",
       "               1728.3672605906622,\n",
       "               1724.9467951361346,\n",
       "               1721.7709823258913,\n",
       "               1718.2602473335617,\n",
       "               1715.5614989531223,\n",
       "               1712.4694039052363,\n",
       "               1710.1112553240534,\n",
       "               1707.1879090111236,\n",
       "               1704.500496588892,\n",
       "               1701.7362486815389,\n",
       "               1698.5278581748244,\n",
       "               1696.9365689035487,\n",
       "               1694.4533872461677,\n",
       "               1691.427489547358,\n",
       "               1689.2139332231081,\n",
       "               1687.0719994818955,\n",
       "               1685.3253252950224,\n",
       "               1683.3366474188726,\n",
       "               1681.5644286744462,\n",
       "               1679.2583629542448,\n",
       "               1677.8217351231851,\n",
       "               1676.020722225863,\n",
       "               1673.2682393073947,\n",
       "               1670.6842060274669,\n",
       "               1668.853601114778,\n",
       "               1667.1606281225177,\n",
       "               1665.746148759137,\n",
       "               1663.4513636540566,\n",
       "               1662.0453952378077,\n",
       "               1661.0586073355287,\n",
       "               1659.5346712530584,\n",
       "               1658.0028668744633,\n",
       "               1656.5188625045487,\n",
       "               1654.817297361243,\n",
       "               1653.5574817637942,\n",
       "               1651.7638030355004,\n",
       "               1650.604799621664,\n",
       "               1650.0185880572333,\n",
       "               1648.4972619548134,\n",
       "               1646.9836128496888,\n",
       "               1645.4474656099876,\n",
       "               1644.1292242170236,\n",
       "               1642.330231248765,\n",
       "               1640.9962393372334,\n",
       "               1639.6389407752813,\n",
       "               1638.5617431644687,\n",
       "               1637.3512968698963,\n",
       "               1635.71533973015,\n",
       "               1634.575755638659,\n",
       "               1633.0395541430419,\n",
       "               1631.763515081726,\n",
       "               1631.0692670680426,\n",
       "               1630.180074987333,\n",
       "               1629.1031188352051,\n",
       "               1628.0015403688833,\n",
       "               1626.8495715464999,\n",
       "               1625.8136027697674,\n",
       "               1624.9881254339264,\n",
       "               1624.2241129789852,\n",
       "               1623.2719740151053,\n",
       "               1622.227491354519,\n",
       "               1621.3053561918175,\n",
       "               1620.5971445418108,\n",
       "               1619.5865608855195,\n",
       "               1618.5994992321193,\n",
       "               1618.0328500016205,\n",
       "               1617.2159910347166,\n",
       "               1616.6355259657494,\n",
       "               1615.7244053429288,\n",
       "               1614.8799375710566,\n",
       "               1614.2564729655642,\n",
       "               1613.710114832429,\n",
       "               1612.9059632335275,\n",
       "               1612.27351278102,\n",
       "               1611.4841166546496,\n",
       "               1610.6202009643296,\n",
       "               1609.9310695405966,\n",
       "               1609.217445382715,\n",
       "               1608.5960572735394,\n",
       "               1608.0514751256733,\n",
       "               1607.6064507047104,\n",
       "               1607.1432280899644,\n",
       "               1606.3516297802773,\n",
       "               1605.2357809957782,\n",
       "               1604.4743014393334,\n",
       "               1603.6879142898806,\n",
       "               1603.0814569374015,\n",
       "               1602.5791948820058,\n",
       "               1602.06707695146,\n",
       "               1601.5276581070968,\n",
       "               1600.8641401197876,\n",
       "               1599.9966673629285,\n",
       "               1599.5161808666326,\n",
       "               1598.5620481132385,\n",
       "               1597.8123866675196,\n",
       "               1597.584001545967,\n",
       "               1596.8641002851425,\n",
       "               1596.52668063415,\n",
       "               1595.879613274609,\n",
       "               1595.0293057558345,\n",
       "               1594.6839193276892,\n",
       "               1594.4389313590357,\n",
       "               1593.868195623525,\n",
       "               1593.5148912263905,\n",
       "               1592.9194767691724,\n",
       "               1592.374973169801,\n",
       "               1591.6421959315849,\n",
       "               1591.2460335756484,\n",
       "               1590.9254664640864,\n",
       "               1590.575517031608,\n",
       "               1590.3619570846543,\n",
       "               1589.8218773277333,\n",
       "               1589.4230746215007,\n",
       "               1588.6269552633082,\n",
       "               1588.3051766828767,\n",
       "               1587.8235433350517,\n",
       "               1587.4337334246654,\n",
       "               1586.9744631617386,\n",
       "               1586.679478010746,\n",
       "               1586.5411454615962,\n",
       "               1586.365028605717,\n",
       "               1586.1247117649448,\n",
       "               1585.8438467051158,\n",
       "               1585.1087923066145,\n",
       "               1584.4915547435457,\n",
       "               1584.1222171138572,\n",
       "               1583.6605275798738,\n",
       "               1583.171831132245,\n",
       "               1582.413619074768,\n",
       "               1582.124506695187,\n",
       "               1582.0164788603581,\n",
       "               1581.8343944349638,\n",
       "               1581.1586234841334,\n",
       "               1581.0961613612326,\n",
       "               1580.6712742848338,\n",
       "               1580.2397290102228,\n",
       "               1579.8938036289085,\n",
       "               1579.3119272358715,\n",
       "               1578.8640895588906,\n",
       "               1578.4140747939603,\n",
       "               1578.1024234304205,\n",
       "               1577.8539646526508,\n",
       "               1577.3241332929792,\n",
       "               1577.112670961728,\n",
       "               1576.4245079029631,\n",
       "               1576.0777660435651,\n",
       "               1575.7868350890183,\n",
       "               1575.292842548068,\n",
       "               1574.6942562147299,\n",
       "               1574.4615689597185,\n",
       "               1574.4576776053466,\n",
       "               1574.327547905157,\n",
       "               1574.0790745831666,\n",
       "               1573.8459042310994,\n",
       "               1573.7314357932955,\n",
       "               1573.2969940692667,\n",
       "               1572.8768072955756,\n",
       "               1572.5150604077637,\n",
       "               1572.2469388753216,\n",
       "               1571.8909715476175,\n",
       "               1571.7451080923763,\n",
       "               1571.5543967698939,\n",
       "               1571.3974965982436,\n",
       "               1570.9300374150343,\n",
       "               1570.8162187733672,\n",
       "               1570.5966829411318,\n",
       "               1570.3567752395,\n",
       "               1570.060172783233,\n",
       "               1570.0011468062214,\n",
       "               1569.7730074560359,\n",
       "               1569.5965929964377,\n",
       "               1569.3250220029258,\n",
       "               1568.9746235694183,\n",
       "               1568.6568019849003,\n",
       "               1568.351354190264,\n",
       "               1568.0398470522732,\n",
       "               1567.8424167445698,\n",
       "               1567.4273182425484,\n",
       "               1567.3773961376883,\n",
       "               1567.1836462116883,\n",
       "               1567.1480376505558,\n",
       "               1566.8326886982288,\n",
       "               1566.576068519965,\n",
       "               1566.4510925250845,\n",
       "               1566.3496279391186,\n",
       "               1566.0868025814436,\n",
       "               1565.932928462814,\n",
       "               1565.669180274459,\n",
       "               1565.320837257541,\n",
       "               1565.2361827288926,\n",
       "               1564.840664743612,\n",
       "               1564.3946539517335,\n",
       "               1564.133298119971,\n",
       "               1563.8696323385886,\n",
       "               1563.4738652335798,\n",
       "               1563.1436352831568,\n",
       "               1562.9485855272112,\n",
       "               1562.7282040484597,\n",
       "               1562.5875024447241,\n",
       "               1562.4927666568121,\n",
       "               1562.2396816764913,\n",
       "               1561.9167436647022,\n",
       "               1561.7378786752126,\n",
       "               1561.5031689698305,\n",
       "               1561.2592172548455,\n",
       "               1561.128698050594,\n",
       "               1561.0808918770215,\n",
       "               1561.0359887233328,\n",
       "               1561.0237643416094,\n",
       "               1560.8035181217776,\n",
       "               1560.649357152112,\n",
       "               1560.4705178277745,\n",
       "               1560.1829821449803,\n",
       "               1559.9767948722035,\n",
       "               1559.9078897818927,\n",
       "               1559.8355186520191,\n",
       "               1559.7751126253763,\n",
       "               1559.6872691095214,\n",
       "               1559.5193299255127,\n",
       "               1559.33241943724,\n",
       "               1559.0936854726115,\n",
       "               1558.9931798091675,\n",
       "               1558.8152406285799,\n",
       "               1558.7932377272493,\n",
       "               1558.624142667134,\n",
       "               1558.460413347863,\n",
       "               1558.3150852378465,\n",
       "               1558.0121304232364,\n",
       "               1557.884652404998,\n",
       "               1557.6764082326717,\n",
       "               1557.5540645253632,\n",
       "               1557.5093747727717,\n",
       "               1557.3408200547656,\n",
       "               1557.3096472574314,\n",
       "               1557.20151178445,\n",
       "               1557.018126827532,\n",
       "               1556.7110786559224,\n",
       "               1556.5651720429607,\n",
       "               1556.0846817539107,\n",
       "               1555.870758003737,\n",
       "               1555.6256561756045,\n",
       "               1555.5408920054094,\n",
       "               1555.217018465127,\n",
       "               1555.1305451061671,\n",
       "               1554.91849690672,\n",
       "               1554.7019903074897,\n",
       "               1554.5742110566164,\n",
       "               1554.417386746383,\n",
       "               1554.3533646354028,\n",
       "               1554.1329212832168,\n",
       "               1553.886688923306,\n",
       "               1553.7818944283333,\n",
       "               1553.6960995975307,\n",
       "               1553.6843069036179,\n",
       "               1553.4603916152482,\n",
       "               1553.4081376906825,\n",
       "               1553.0773301281918,\n",
       "               1552.9602834800562,\n",
       "               1552.7045573868302,\n",
       "               1552.487474179609,\n",
       "               1552.4988752719185,\n",
       "               1552.308549289082,\n",
       "               1552.0855982671735,\n",
       "               1551.9131206547374,\n",
       "               1551.7946966735392,\n",
       "               1551.5786591230146,\n",
       "               1551.3261228822305],\n",
       "              'test-RMSE-std': [32.86703822332992,\n",
       "               36.76271125462855,\n",
       "               34.785560131626426,\n",
       "               33.437759978910805,\n",
       "               36.37276140951949,\n",
       "               33.3531082252635,\n",
       "               36.06782925782836,\n",
       "               33.114722247668176,\n",
       "               30.239154043711196,\n",
       "               31.75137046543205,\n",
       "               27.283797691687287,\n",
       "               28.607278622889247,\n",
       "               25.35797992307964,\n",
       "               25.29171954958442,\n",
       "               22.950518881055654,\n",
       "               21.724867877804776,\n",
       "               21.231546841840842,\n",
       "               21.362095144104774,\n",
       "               23.265968833561598,\n",
       "               21.343393618386354,\n",
       "               22.226791479211705,\n",
       "               22.014549403898535,\n",
       "               21.858642322320634,\n",
       "               23.588330258106655,\n",
       "               22.971059831670555,\n",
       "               22.15092512451047,\n",
       "               21.217207074358956,\n",
       "               19.83878069269768,\n",
       "               20.6642808484601,\n",
       "               21.781869160186048,\n",
       "               22.54688560133068,\n",
       "               22.181264595645086,\n",
       "               22.18935724787911,\n",
       "               22.615689501134597,\n",
       "               22.889611629841255,\n",
       "               23.605027902786244,\n",
       "               23.474557518887444,\n",
       "               23.96151369816701,\n",
       "               23.119646680060562,\n",
       "               22.981914533016404,\n",
       "               24.013567593939797,\n",
       "               23.934835963103534,\n",
       "               22.876493086278487,\n",
       "               22.94805936231467,\n",
       "               23.24206091504721,\n",
       "               24.76513287484438,\n",
       "               24.88183939173957,\n",
       "               24.107931327155995,\n",
       "               23.49702444802898,\n",
       "               23.569882974473146,\n",
       "               22.751907107425748,\n",
       "               21.614602258800716,\n",
       "               21.30725875171767,\n",
       "               21.767194104930223,\n",
       "               22.014808350668645,\n",
       "               21.29158963214321,\n",
       "               21.73304569281653,\n",
       "               21.342379583477577,\n",
       "               21.728638581709973,\n",
       "               22.347955919621885,\n",
       "               21.34453560031624,\n",
       "               21.930869166882644,\n",
       "               22.297181367788315,\n",
       "               22.378340468945773,\n",
       "               22.222193698080535,\n",
       "               22.341577118397574,\n",
       "               21.31280509185779,\n",
       "               21.201252124914546,\n",
       "               19.96589180119978,\n",
       "               19.966400828186302,\n",
       "               19.886780056803154,\n",
       "               19.494064660489123,\n",
       "               19.476383647040233,\n",
       "               19.187210227051363,\n",
       "               19.16716963795557,\n",
       "               20.07727080669821,\n",
       "               20.078922463437724,\n",
       "               19.82799297993036,\n",
       "               20.03834894456574,\n",
       "               20.268220921185097,\n",
       "               19.874237007148874,\n",
       "               20.25306269623302,\n",
       "               20.142870067722825,\n",
       "               20.382549455208665,\n",
       "               20.318070171617865,\n",
       "               20.53758296811462,\n",
       "               20.668359409307666,\n",
       "               20.852071818290014,\n",
       "               21.258209383693604,\n",
       "               21.50103930087531,\n",
       "               21.29458582742827,\n",
       "               20.84258263659683,\n",
       "               21.350255434707233,\n",
       "               21.613858686564708,\n",
       "               21.02826894189344,\n",
       "               21.009287524779285,\n",
       "               21.25503315185149,\n",
       "               21.160056301825197,\n",
       "               20.381763911505885,\n",
       "               20.278509617032753,\n",
       "               20.44063446028274,\n",
       "               19.895123776459368,\n",
       "               19.714191056705168,\n",
       "               19.765319044814404,\n",
       "               19.746072131573033,\n",
       "               19.898640613015207,\n",
       "               19.531225208030133,\n",
       "               18.89043297822455,\n",
       "               18.886558754981145,\n",
       "               18.971032945550554,\n",
       "               19.137245050452275,\n",
       "               18.576725678761623,\n",
       "               18.880093499694237,\n",
       "               18.6696580690914,\n",
       "               18.633450867673453,\n",
       "               19.350238318231018,\n",
       "               19.475080173856007,\n",
       "               19.310842396784164,\n",
       "               19.772723521393786,\n",
       "               19.68452282664467,\n",
       "               19.956280818646828,\n",
       "               20.124519889635774,\n",
       "               20.1991742712364,\n",
       "               20.248192065952043,\n",
       "               20.248877774240256,\n",
       "               20.323843689345445,\n",
       "               20.44052652887693,\n",
       "               20.665117255523484,\n",
       "               20.449912749205886,\n",
       "               20.386144506930854,\n",
       "               20.511580504966552,\n",
       "               20.266475648248605,\n",
       "               20.052314102611795,\n",
       "               19.866048860542666,\n",
       "               19.917977177876757,\n",
       "               20.096330803861818,\n",
       "               20.28909167447922,\n",
       "               20.721843952594718,\n",
       "               20.836479523571885,\n",
       "               20.884202772524173,\n",
       "               21.319326253648065,\n",
       "               21.37673897268703,\n",
       "               21.22844117025896,\n",
       "               21.154039844747388,\n",
       "               21.206299393972312,\n",
       "               21.012432193058864,\n",
       "               20.97633660052272,\n",
       "               20.85835588575791,\n",
       "               20.30221319957073,\n",
       "               20.58048339718022,\n",
       "               20.121885868271306,\n",
       "               19.994955897946276,\n",
       "               20.004500332820314,\n",
       "               20.153972287634545,\n",
       "               20.095713310850325,\n",
       "               20.015908335378704,\n",
       "               20.14094825770431,\n",
       "               20.02346406887658,\n",
       "               20.165516051560363,\n",
       "               20.19669459842477,\n",
       "               20.13025441596454,\n",
       "               20.160074077580667,\n",
       "               20.277230776822865,\n",
       "               20.238997482426583,\n",
       "               20.297803532435154,\n",
       "               19.922051750709524,\n",
       "               19.983725171892253,\n",
       "               20.272910391547345,\n",
       "               20.271240205682897,\n",
       "               20.38158314153953,\n",
       "               20.66559604724328,\n",
       "               20.64092652324281,\n",
       "               20.29861568268494,\n",
       "               20.23204282731586,\n",
       "               20.13076340082778,\n",
       "               19.99472968911679,\n",
       "               20.059537702830973,\n",
       "               19.55874592862617,\n",
       "               19.66895654941606,\n",
       "               19.837847858466453,\n",
       "               19.665897902608837,\n",
       "               19.591617175189732,\n",
       "               19.804093887771117,\n",
       "               19.92966146756342,\n",
       "               19.63251601233254,\n",
       "               19.616620886927826,\n",
       "               19.674780735313902,\n",
       "               19.719180350460547,\n",
       "               19.546072755504117,\n",
       "               19.536498382381232,\n",
       "               19.50674540859196,\n",
       "               19.627483600958488,\n",
       "               19.503203298038322,\n",
       "               19.415690376125557,\n",
       "               19.437246877349118,\n",
       "               19.464291725423553,\n",
       "               19.579474003077575,\n",
       "               19.597804929608746,\n",
       "               19.54070135160494,\n",
       "               19.67113449216044,\n",
       "               19.961673222729377,\n",
       "               19.933646030962702,\n",
       "               20.00917012608348,\n",
       "               19.767862957671706,\n",
       "               19.61706240562365,\n",
       "               19.42840076646147,\n",
       "               19.386546969515926,\n",
       "               19.39560451557731,\n",
       "               19.5529180606564,\n",
       "               19.71603833209383,\n",
       "               19.575686092142124,\n",
       "               19.525968998403105,\n",
       "               19.304714964743056,\n",
       "               19.226899885849445,\n",
       "               19.212214017556732,\n",
       "               19.476878622980372,\n",
       "               19.497371886075346,\n",
       "               19.41872848926953,\n",
       "               19.63846297295191,\n",
       "               19.50962361676162,\n",
       "               19.766107978468877,\n",
       "               19.68510321431374,\n",
       "               19.694192882964046,\n",
       "               19.616582213155016,\n",
       "               19.403699812162763,\n",
       "               19.480452526014105,\n",
       "               19.72170502281215,\n",
       "               19.66265064799212,\n",
       "               19.97097676824562,\n",
       "               19.97188714618528,\n",
       "               19.968750130549765,\n",
       "               19.824227493849662,\n",
       "               19.86642271396099,\n",
       "               19.681594375410594,\n",
       "               19.454605478940948,\n",
       "               19.560264622699137,\n",
       "               19.702136011127735,\n",
       "               19.766261348971966,\n",
       "               19.80304052543697,\n",
       "               19.87000242165102,\n",
       "               19.884759329184945,\n",
       "               19.95096304939648,\n",
       "               19.946819080952153,\n",
       "               20.059636122215732,\n",
       "               20.124575677214654,\n",
       "               20.02943907483283,\n",
       "               19.829047416197852,\n",
       "               19.73982062474868,\n",
       "               19.77402157522492,\n",
       "               19.815661264421728,\n",
       "               19.8359384634443,\n",
       "               19.94769698007031,\n",
       "               19.738688650403475,\n",
       "               19.883545527510673,\n",
       "               19.852030324986057,\n",
       "               19.766553496731117,\n",
       "               19.829597780566868,\n",
       "               19.631799140696504,\n",
       "               19.65239863278071,\n",
       "               19.502923232804754,\n",
       "               19.492144917938017,\n",
       "               19.43967911607019,\n",
       "               19.385940260144935,\n",
       "               19.35442185370988,\n",
       "               19.37042711384191,\n",
       "               19.083850090515586,\n",
       "               19.14418215414347,\n",
       "               19.24258875316161,\n",
       "               19.11426637683064,\n",
       "               18.733480679255283,\n",
       "               18.9140019966067,\n",
       "               18.675010574563544,\n",
       "               18.781692088482085,\n",
       "               18.797287640792682,\n",
       "               18.84653771406779,\n",
       "               18.87288318424524,\n",
       "               18.85974475784964,\n",
       "               18.81483494554929,\n",
       "               18.88476685870631,\n",
       "               18.864485289256976,\n",
       "               18.847812759189754,\n",
       "               18.90149507681676,\n",
       "               18.98264456619601,\n",
       "               19.075482291415113,\n",
       "               19.120178526893266,\n",
       "               19.160181242983594,\n",
       "               19.191493758241304,\n",
       "               19.155081279265726,\n",
       "               19.21597727120085,\n",
       "               19.398617471489242,\n",
       "               19.255878895766074,\n",
       "               19.337918440955413,\n",
       "               19.426582684698456,\n",
       "               19.389211513070162,\n",
       "               19.387093394210616,\n",
       "               19.51668799802346,\n",
       "               19.528651389940983,\n",
       "               19.499591992653862,\n",
       "               19.615073591262366,\n",
       "               19.726387141552667],\n",
       "              'train-R2-mean': [-0.581217435719717,\n",
       "               -0.11338601507777413,\n",
       "               0.1947868579140932,\n",
       "               0.4020647083398756,\n",
       "               0.541045589924909,\n",
       "               0.6325653243495407,\n",
       "               0.6952179526972242,\n",
       "               0.7380616416262713,\n",
       "               0.7679892293568079,\n",
       "               0.789854096882418,\n",
       "               0.8049809976559832,\n",
       "               0.8163191414034544,\n",
       "               0.8249131706146974,\n",
       "               0.8311532678661003,\n",
       "               0.8360611139088233,\n",
       "               0.8393858382355419,\n",
       "               0.8441383674523548,\n",
       "               0.8476974004764481,\n",
       "               0.850286705953787,\n",
       "               0.8524030853487549,\n",
       "               0.8542204362658591,\n",
       "               0.855778615985671,\n",
       "               0.8570223904614581,\n",
       "               0.8580500616344867,\n",
       "               0.8590581842016625,\n",
       "               0.8601515172413549,\n",
       "               0.8611014568314954,\n",
       "               0.8619964085975408,\n",
       "               0.8629286726799044,\n",
       "               0.8638124232173392,\n",
       "               0.8644087840415509,\n",
       "               0.8651256134288338,\n",
       "               0.8657429376973313,\n",
       "               0.8663098582440388,\n",
       "               0.8669087929561957,\n",
       "               0.8674312546711188,\n",
       "               0.8679558287683106,\n",
       "               0.8684275287769969,\n",
       "               0.8690538332800829,\n",
       "               0.8694620322764569,\n",
       "               0.8699527190435247,\n",
       "               0.8704014729382683,\n",
       "               0.8708480469574083,\n",
       "               0.8713783058220806,\n",
       "               0.8716951648707,\n",
       "               0.8721948169292452,\n",
       "               0.8726850086351376,\n",
       "               0.8730797639466773,\n",
       "               0.8734385823025711,\n",
       "               0.8738295008785025,\n",
       "               0.8741581699089974,\n",
       "               0.8744564440414223,\n",
       "               0.8748601319447382,\n",
       "               0.8751054369848097,\n",
       "               0.875433727309554,\n",
       "               0.8758435324326285,\n",
       "               0.8762125405898797,\n",
       "               0.8765001031185943,\n",
       "               0.8767923517123825,\n",
       "               0.8770536928150791,\n",
       "               0.877424421048516,\n",
       "               0.8776671483955072,\n",
       "               0.8778685126149138,\n",
       "               0.8780778584685186,\n",
       "               0.8783409847140483,\n",
       "               0.8786369610201077,\n",
       "               0.8789089314070777,\n",
       "               0.8791368497079312,\n",
       "               0.8794032813024368,\n",
       "               0.8795997545231224,\n",
       "               0.879769742257805,\n",
       "               0.8800283528981767,\n",
       "               0.8802562143465765,\n",
       "               0.8805694627431633,\n",
       "               0.8807801743823974,\n",
       "               0.8810332954060947,\n",
       "               0.8812593699189054,\n",
       "               0.8814963996816942,\n",
       "               0.8816923982343731,\n",
       "               0.8819244120922232,\n",
       "               0.882156023405443,\n",
       "               0.8823713435271086,\n",
       "               0.8826058711471395,\n",
       "               0.8828169143702148,\n",
       "               0.88294243896673,\n",
       "               0.8830830421262045,\n",
       "               0.8832933554949,\n",
       "               0.8834822154297578,\n",
       "               0.88370838592426,\n",
       "               0.8838794548952174,\n",
       "               0.884026350001712,\n",
       "               0.8841815704502594,\n",
       "               0.8843768616440406,\n",
       "               0.8845636489206529,\n",
       "               0.8847584492357704,\n",
       "               0.8849090908519592,\n",
       "               0.885080147262476,\n",
       "               0.8852492134374895,\n",
       "               0.8853513031448351,\n",
       "               0.8855102475291717,\n",
       "               0.885646316457485,\n",
       "               0.8857829523478921,\n",
       "               0.8859580261415948,\n",
       "               0.8860844899789583,\n",
       "               0.8862119141773009,\n",
       "               0.8863149123792028,\n",
       "               0.8864242661677665,\n",
       "               0.8865571528146146,\n",
       "               0.886709137952607,\n",
       "               0.8868268447132769,\n",
       "               0.8869413382681893,\n",
       "               0.8870726418560547,\n",
       "               0.8871709662028708,\n",
       "               0.8872832115460061,\n",
       "               0.8873898352643991,\n",
       "               0.8874991129884747,\n",
       "               0.8876820057424939,\n",
       "               0.8878769991268601,\n",
       "               0.8880188172601596,\n",
       "               0.8881467658586799,\n",
       "               0.888262103544745,\n",
       "               0.8883590463487101,\n",
       "               0.8884802478685132,\n",
       "               0.8886082683682845,\n",
       "               0.8887399936897672,\n",
       "               0.888861043068054,\n",
       "               0.8890500520735137,\n",
       "               0.8891846756264833,\n",
       "               0.8892787653035917,\n",
       "               0.8894105037373333,\n",
       "               0.8894882189978209,\n",
       "               0.8896043522182636,\n",
       "               0.8897444690047753,\n",
       "               0.8898173952395757,\n",
       "               0.8898806630343215,\n",
       "               0.8899944112695893,\n",
       "               0.8900730291214826,\n",
       "               0.890184928063035,\n",
       "               0.890300560456431,\n",
       "               0.8904002032805186,\n",
       "               0.8904777012674642,\n",
       "               0.8905390518319226,\n",
       "               0.8906146768158343,\n",
       "               0.8906915397330083,\n",
       "               0.8907863329496167,\n",
       "               0.8908959181213242,\n",
       "               0.8910463349091904,\n",
       "               0.8911379062728408,\n",
       "               0.8912467896504189,\n",
       "               0.8913215527588113,\n",
       "               0.891403615077304,\n",
       "               0.8914648451509842,\n",
       "               0.891512439521558,\n",
       "               0.8915575156826234,\n",
       "               0.8916280184141802,\n",
       "               0.8916977275824497,\n",
       "               0.8918479241120751,\n",
       "               0.8919556752283794,\n",
       "               0.8920317965085545,\n",
       "               0.8921165215662615,\n",
       "               0.8922100541780967,\n",
       "               0.8923300215658202,\n",
       "               0.8923996806746398,\n",
       "               0.8924473330740884,\n",
       "               0.8924958511337461,\n",
       "               0.8925996194979554,\n",
       "               0.8926360308363503,\n",
       "               0.8927247044794697,\n",
       "               0.8927948670897313,\n",
       "               0.8928732631639812,\n",
       "               0.8929856765732455,\n",
       "               0.893079516432843,\n",
       "               0.8931916911906357,\n",
       "               0.8932733475875358,\n",
       "               0.8933271745949422,\n",
       "               0.893422873446052,\n",
       "               0.8934845784778874,\n",
       "               0.8935917293981429,\n",
       "               0.893662158486587,\n",
       "               0.8937348437281857,\n",
       "               0.8938167344280269,\n",
       "               0.8939043537794719,\n",
       "               0.8939722425116008,\n",
       "               0.8940203169435431,\n",
       "               0.8940875588835593,\n",
       "               0.8941549683331843,\n",
       "               0.8941956573423494,\n",
       "               0.8942102277895975,\n",
       "               0.8942887547107228,\n",
       "               0.8943415217897158,\n",
       "               0.8944209352808757,\n",
       "               0.8944856474911352,\n",
       "               0.8945607624679787,\n",
       "               0.8946141324742604,\n",
       "               0.8946538932520424,\n",
       "               0.8947127765762951,\n",
       "               0.8947834818084374,\n",
       "               0.8948251021131023,\n",
       "               0.8948708620775362,\n",
       "               0.8949474828335998,\n",
       "               0.8950009783605721,\n",
       "               0.8950341129954502,\n",
       "               0.8950932110495454,\n",
       "               0.8951547172120983,\n",
       "               0.8952013602361664,\n",
       "               0.895279558709603,\n",
       "               0.8953507692293637,\n",
       "               0.8954264791753211,\n",
       "               0.8954891079928239,\n",
       "               0.8955459722631448,\n",
       "               0.8956208114970212,\n",
       "               0.8956543495135341,\n",
       "               0.8956871073138215,\n",
       "               0.8957163721447717,\n",
       "               0.8957770127113104,\n",
       "               0.8958315904546256,\n",
       "               0.8958608643871537,\n",
       "               0.8958938784883675,\n",
       "               0.8959464659400774,\n",
       "               0.8960081664542384,\n",
       "               0.8960532782975553,\n",
       "               0.8961241803405259,\n",
       "               0.8961485298955738,\n",
       "               0.8962211167288258,\n",
       "               0.8962960153700664,\n",
       "               0.896362160901038,\n",
       "               0.8964163576480727,\n",
       "               0.8964887583889944,\n",
       "               0.8965660847614739,\n",
       "               0.8966107188261875,\n",
       "               0.896662622977968,\n",
       "               0.8966953309805431,\n",
       "               0.8967468336394483,\n",
       "               0.8968049734781935,\n",
       "               0.8968625250256176,\n",
       "               0.8969186444053436,\n",
       "               0.8969727060004349,\n",
       "               0.8970245220409367,\n",
       "               0.8970612002038747,\n",
       "               0.897083134305671,\n",
       "               0.8971062184576595,\n",
       "               0.8971390056663591,\n",
       "               0.8971780219751228,\n",
       "               0.8972241458621272,\n",
       "               0.897272771790559,\n",
       "               0.8973434953722325,\n",
       "               0.8973908374677899,\n",
       "               0.8974192235628512,\n",
       "               0.8974637873774233,\n",
       "               0.8974858607432887,\n",
       "               0.8975213996461759,\n",
       "               0.8975566459554933,\n",
       "               0.8976022991500726,\n",
       "               0.8976604221104475,\n",
       "               0.8976869631334439,\n",
       "               0.8977311355780424,\n",
       "               0.8977669399347054,\n",
       "               0.8978202058050634,\n",
       "               0.8978471500704815,\n",
       "               0.8978762602918332,\n",
       "               0.8979495567312551,\n",
       "               0.897982788740823,\n",
       "               0.8980417635581541,\n",
       "               0.8980777363076905,\n",
       "               0.8980975603930746,\n",
       "               0.8981356677445197,\n",
       "               0.8981669326788245,\n",
       "               0.8982127798385013,\n",
       "               0.8982861537505125,\n",
       "               0.8983405124135065,\n",
       "               0.8983825773657586,\n",
       "               0.8984601342988615,\n",
       "               0.8985078210771477,\n",
       "               0.8985421586527833,\n",
       "               0.8985822826938638,\n",
       "               0.8986531171036557,\n",
       "               0.8986723874113297,\n",
       "               0.8987178856185714,\n",
       "               0.8987739955049641,\n",
       "               0.8988155942795419,\n",
       "               0.8988546928357993,\n",
       "               0.8988828683013192,\n",
       "               0.8989193775581844,\n",
       "               0.8989697204362549,\n",
       "               0.8989986655780253,\n",
       "               0.8990155202837746,\n",
       "               0.8990615552582812,\n",
       "               0.8991004591996469,\n",
       "               0.8991428621579436,\n",
       "               0.8992098301894776,\n",
       "               0.8992394989022087,\n",
       "               0.8993115371747017,\n",
       "               0.8993552333437215,\n",
       "               0.8993877194550904,\n",
       "               0.8994319957308394,\n",
       "               0.8994845660957691,\n",
       "               0.8995176828675889,\n",
       "               0.8995560753296474,\n",
       "               0.8995930606178731,\n",
       "               0.8996364987860218],\n",
       "              'train-R2-std': [0.0008350966090182192,\n",
       "               0.0015205617748608354,\n",
       "               0.0014944158631566974,\n",
       "               0.0014258426453664422,\n",
       "               0.002132906750583123,\n",
       "               0.0010202501656630819,\n",
       "               0.0012443468017537208,\n",
       "               0.0007625812198570919,\n",
       "               0.0009224592081349132,\n",
       "               0.0010983919150027045,\n",
       "               0.0010379786584706816,\n",
       "               0.0010316689453041482,\n",
       "               0.0013162442236009824,\n",
       "               0.0014435756294481994,\n",
       "               0.0012695305159789512,\n",
       "               0.0012200490371695617,\n",
       "               0.0010261072077913963,\n",
       "               0.000990431810469025,\n",
       "               0.0007852742985583801,\n",
       "               0.001011957297723367,\n",
       "               0.0009054155344128328,\n",
       "               0.0010529448565122729,\n",
       "               0.0010698810995441157,\n",
       "               0.0008048207966030776,\n",
       "               0.0009162957339630984,\n",
       "               0.0010324338347481369,\n",
       "               0.0012300054332182778,\n",
       "               0.0014088322289334341,\n",
       "               0.0012174647955652876,\n",
       "               0.0010361446380783496,\n",
       "               0.0009496940601004559,\n",
       "               0.0010879112876628478,\n",
       "               0.001101361812088467,\n",
       "               0.001042019102533314,\n",
       "               0.0009118134218716441,\n",
       "               0.0009034355466640296,\n",
       "               0.0008293171722969894,\n",
       "               0.0007971962189476115,\n",
       "               0.001095732460518015,\n",
       "               0.0010953583613128902,\n",
       "               0.0009295475946660285,\n",
       "               0.0009542183491749193,\n",
       "               0.001119743885418991,\n",
       "               0.0010637867517334666,\n",
       "               0.00104934918566442,\n",
       "               0.0008264080978421548,\n",
       "               0.0007934722877635195,\n",
       "               0.0008795911945175652,\n",
       "               0.0009324040751449461,\n",
       "               0.000951126503706671,\n",
       "               0.0010728163117652149,\n",
       "               0.0012285550334601063,\n",
       "               0.0012834774933847962,\n",
       "               0.0011976576320306515,\n",
       "               0.0011623099844441402,\n",
       "               0.0011646681874561003,\n",
       "               0.0010674177892267414,\n",
       "               0.0011265763788146658,\n",
       "               0.0010538533308580697,\n",
       "               0.0009427098896787213,\n",
       "               0.0010988822255409564,\n",
       "               0.0010479904218509424,\n",
       "               0.0009912274090551488,\n",
       "               0.000985639253931932,\n",
       "               0.0009927154775358766,\n",
       "               0.0009052768102005232,\n",
       "               0.0010367635037584644,\n",
       "               0.0010420558021979895,\n",
       "               0.0011671554344564754,\n",
       "               0.0011703600632148915,\n",
       "               0.0012161217487238242,\n",
       "               0.0012507812055790031,\n",
       "               0.001250518810768569,\n",
       "               0.0012446227536308638,\n",
       "               0.001229270707315501,\n",
       "               0.0010813843386824396,\n",
       "               0.001065939473258612,\n",
       "               0.0010396128786543072,\n",
       "               0.001023350227854289,\n",
       "               0.0009941179658010547,\n",
       "               0.0010531320335215926,\n",
       "               0.0009752354619923862,\n",
       "               0.001037103051782555,\n",
       "               0.001035721877271614,\n",
       "               0.0010067363017283609,\n",
       "               0.00101896894008406,\n",
       "               0.000998286872621234,\n",
       "               0.000940115832896525,\n",
       "               0.0008402094174200067,\n",
       "               0.0008371571269551055,\n",
       "               0.0008676997600570747,\n",
       "               0.0009341328364710221,\n",
       "               0.000833812662535378,\n",
       "               0.0008219021726096862,\n",
       "               0.0008815462723658043,\n",
       "               0.0008741260085179598,\n",
       "               0.0008291292635720292,\n",
       "               0.0008460269396271483,\n",
       "               0.0009190120402829212,\n",
       "               0.0009427737640797698,\n",
       "               0.0009024111952165367,\n",
       "               0.0009518834511824966,\n",
       "               0.0009842175903162437,\n",
       "               0.0009732625908259724,\n",
       "               0.0009309273671580025,\n",
       "               0.0009170028739254602,\n",
       "               0.0009518616305848167,\n",
       "               0.00103112289941011,\n",
       "               0.0010293022269758098,\n",
       "               0.0010252844910106473,\n",
       "               0.001007513606076102,\n",
       "               0.001082985834914986,\n",
       "               0.0010265664984071736,\n",
       "               0.0010579106289198754,\n",
       "               0.001064430366182723,\n",
       "               0.0010326948653591576,\n",
       "               0.0009821341819843093,\n",
       "               0.00096472572383861,\n",
       "               0.0009004202881847909,\n",
       "               0.0008900310341304717,\n",
       "               0.0008564145150174823,\n",
       "               0.000830124223499216,\n",
       "               0.0007835936400022791,\n",
       "               0.0007614204507455659,\n",
       "               0.0007888041130238677,\n",
       "               0.0008240829414756909,\n",
       "               0.0008232361960544894,\n",
       "               0.0008454237367201166,\n",
       "               0.0008822291153311393,\n",
       "               0.0008814845363134599,\n",
       "               0.0008455017476731048,\n",
       "               0.0008534347925108892,\n",
       "               0.000849458399532184,\n",
       "               0.000878438286587985,\n",
       "               0.0008773567390300138,\n",
       "               0.0008319120413218334,\n",
       "               0.0008030529628515277,\n",
       "               0.0007550671562862332,\n",
       "               0.0007276481240840343,\n",
       "               0.000742704324343027,\n",
       "               0.0007252041329863307,\n",
       "               0.0007161115765519679,\n",
       "               0.0007338575325927169,\n",
       "               0.0007383772010688654,\n",
       "               0.0007083495548671071,\n",
       "               0.0007570436953016998,\n",
       "               0.0007493281949543455,\n",
       "               0.0007895555745403103,\n",
       "               0.0008434635221725871,\n",
       "               0.0008703713725454638,\n",
       "               0.000923822903540038,\n",
       "               0.0009096405216861016,\n",
       "               0.0009174109024028476,\n",
       "               0.000880586478561776,\n",
       "               0.0009013420836898044,\n",
       "               0.0008821313626802044,\n",
       "               0.000817618234045681,\n",
       "               0.0008338472016409833,\n",
       "               0.0008251283380615803,\n",
       "               0.0008004030633588877,\n",
       "               0.0008328129586102211,\n",
       "               0.0008945014333177745,\n",
       "               0.000855372887401233,\n",
       "               0.0008438049164956257,\n",
       "               0.0008140131617400532,\n",
       "               0.0008246882111932544,\n",
       "               0.0008348591278528185,\n",
       "               0.0007817259728814493,\n",
       "               0.0007402356933852044,\n",
       "               0.0007280539310306059,\n",
       "               0.0006724349229143282,\n",
       "               0.0006419203256882998,\n",
       "               0.0006908624179523223,\n",
       "               0.0007229673169536967,\n",
       "               0.0007455238490808117,\n",
       "               0.0007968639113820819,\n",
       "               0.0007851478684851727,\n",
       "               0.0008303054338731792,\n",
       "               0.0008158596085326862,\n",
       "               0.0007839938649578924,\n",
       "               0.000813480600085607,\n",
       "               0.0008392106090688486,\n",
       "               0.0008331305549839852,\n",
       "               0.0008287272341148557,\n",
       "               0.0008417128763921924,\n",
       "               0.0008533147021314874,\n",
       "               0.0008559297521050809,\n",
       "               0.0008482262854027729,\n",
       "               0.0007879385210348362,\n",
       "               0.0007755013517558082,\n",
       "               0.0007693442800498573,\n",
       "               0.0007839445434921844,\n",
       "               0.0007772837650565485,\n",
       "               0.000768910549247746,\n",
       "               0.0007735936727152662,\n",
       "               0.0007621005174844139,\n",
       "               0.0007321926559744274,\n",
       "               0.0007444572195237767,\n",
       "               0.0007702642057477725,\n",
       "               0.000726329021816577,\n",
       "               0.0006841501363527389,\n",
       "               0.0006843299747066764,\n",
       "               0.0006636844758200495,\n",
       "               0.000700232378637202,\n",
       "               0.0007001507048465146,\n",
       "               0.0007276746007047092,\n",
       "               0.000747829319647988,\n",
       "               0.0007352114737699348,\n",
       "               0.000715498498036563,\n",
       "               0.0006803713812727071,\n",
       "               0.0006933362199965513,\n",
       "               0.000721540596420655,\n",
       "               0.0007399848358554725,\n",
       "               0.0007454680170706911,\n",
       "               0.0007456687177581108,\n",
       "               0.0007345009059656616,\n",
       "               0.0007546790921846814,\n",
       "               0.0007502434945736891,\n",
       "               0.000715332061966405,\n",
       "               0.0007396753657428869,\n",
       "               0.0007199394349858921,\n",
       "               0.0007184877749311472,\n",
       "               0.0007201556297557122,\n",
       "               0.000738329257514939,\n",
       "               0.0007327510239538796,\n",
       "               0.0007287369965264971,\n",
       "               0.0007374734758924801,\n",
       "               0.0007693387566920938,\n",
       "               0.000735539251613021,\n",
       "               0.0007310494653172961,\n",
       "               0.0007223421641413307,\n",
       "               0.000756647129956101,\n",
       "               0.0007599139214310059,\n",
       "               0.0007954323017594717,\n",
       "               0.0008231203543011404,\n",
       "               0.0008222223737232153,\n",
       "               0.0007924121802800264,\n",
       "               0.0007934019636496543,\n",
       "               0.0007951804214346209,\n",
       "               0.0008055687724396728,\n",
       "               0.000801018221398856,\n",
       "               0.0007982678225136378,\n",
       "               0.0007999023271656073,\n",
       "               0.0007901792692074198,\n",
       "               0.0008274954883879615,\n",
       "               0.0008456742889078826,\n",
       "               0.0008780027873862351,\n",
       "               0.0008923540631919363,\n",
       "               0.0009089015355769084,\n",
       "               0.0009217156261149803,\n",
       "               0.0009032102175074464,\n",
       "               0.0009098710361254349,\n",
       "               0.0009033249058560842,\n",
       "               0.0008852560707428535,\n",
       "               0.0009013328277063693,\n",
       "               0.0008839629302060671,\n",
       "               0.0008838427644489029,\n",
       "               0.0009370606425953412,\n",
       "               0.0009188388906664172,\n",
       "               0.0009402871636613911,\n",
       "               0.000920460477042491,\n",
       "               0.0009291603658996255,\n",
       "               0.0009138488693574632,\n",
       "               0.0009134754879488567,\n",
       "               0.0009120574305755461,\n",
       "               0.0009330178049547839,\n",
       "               0.0009353300587744608,\n",
       "               0.0008983669015642077,\n",
       "               0.0009058658435201019,\n",
       "               0.0009400085815591518,\n",
       "               0.0009169900331955184,\n",
       "               0.0009259723914711349,\n",
       "               0.0009008231495929355,\n",
       "               0.0008806894116609957,\n",
       "               0.0008792277938390889,\n",
       "               0.0008872647458691395,\n",
       "               0.0008758260044789217,\n",
       "               0.0008864875483758898,\n",
       "               0.0008977893507164218,\n",
       "               0.00090142492120382,\n",
       "               0.00092342571344166,\n",
       "               0.0009063070788285193,\n",
       "               0.0008893368634293439,\n",
       "               0.0008874271859520992,\n",
       "               0.0009004824915537131,\n",
       "               0.000893003404178094,\n",
       "               0.0008812886874145016,\n",
       "               0.0008935870698920068,\n",
       "               0.0008950172476493091,\n",
       "               0.0008474709235446974,\n",
       "               0.000852179417259478,\n",
       "               0.0008571914057538066,\n",
       "               0.0008335996474235679,\n",
       "               0.0008325254328196509,\n",
       "               0.0008219704161535104,\n",
       "               0.000825754486528839,\n",
       "               0.000812611112063206,\n",
       "               0.0008016055103704035,\n",
       "               0.0007726590849410935,\n",
       "               0.0007769619349068773],\n",
       "              'train-RMSE-mean': [5928.705209241575,\n",
       "               4974.925927020689,\n",
       "               4230.765825890838,\n",
       "               3645.7797304666815,\n",
       "               3194.0881498902268,\n",
       "               2857.940834948878,\n",
       "               2602.897917376729,\n",
       "               2413.0295375744226,\n",
       "               2270.9992963640993,\n",
       "               2161.3355591916124,\n",
       "               2082.0965668892504,\n",
       "               2020.6617064003183,\n",
       "               1972.8222270134872,\n",
       "               1937.3431573592616,\n",
       "               1908.9834641918223,\n",
       "               1889.5277827844038,\n",
       "               1861.3684437957143,\n",
       "               1839.99764668635,\n",
       "               1824.2908983627378,\n",
       "               1811.3507440037026,\n",
       "               1800.1663452503917,\n",
       "               1790.519326299231,\n",
       "               1782.781244358008,\n",
       "               1776.3643485996201,\n",
       "               1770.0449004265417,\n",
       "               1763.1651609189114,\n",
       "               1757.1643326628819,\n",
       "               1751.4919252008212,\n",
       "               1745.5678810778088,\n",
       "               1739.93391607854,\n",
       "               1736.1203747003146,\n",
       "               1731.5241191313478,\n",
       "               1727.5564942766598,\n",
       "               1723.9063311165698,\n",
       "               1720.0416683535152,\n",
       "               1716.6616968561957,\n",
       "               1713.2628308807537,\n",
       "               1710.1999122539091,\n",
       "               1706.1226368620617,\n",
       "               1703.4614805288172,\n",
       "               1700.258585468002,\n",
       "               1697.3223063228595,\n",
       "               1694.3939174677246,\n",
       "               1690.9124994948922,\n",
       "               1688.8284361548142,\n",
       "               1685.5386194026653,\n",
       "               1682.3033120003636,\n",
       "               1679.692563487617,\n",
       "               1677.316128807799,\n",
       "               1674.7236434534325,\n",
       "               1672.539753151493,\n",
       "               1670.5545743646244,\n",
       "               1667.8657776517873,\n",
       "               1666.2313818209716,\n",
       "               1664.0403829218264,\n",
       "               1661.3008815310911,\n",
       "               1658.831331543601,\n",
       "               1656.902722637381,\n",
       "               1654.9419155221046,\n",
       "               1653.1868754461293,\n",
       "               1650.6909334971426,\n",
       "               1649.0562871297418,\n",
       "               1647.6990837729024,\n",
       "               1646.2863480983917,\n",
       "               1644.5088388391312,\n",
       "               1642.507968024555,\n",
       "               1640.6652600644877,\n",
       "               1639.1204266069897,\n",
       "               1637.311246081107,\n",
       "               1635.9769023408364,\n",
       "               1634.8209688991237,\n",
       "               1633.061282452978,\n",
       "               1631.5096578256314,\n",
       "               1629.3742652887813,\n",
       "               1627.9364809751971,\n",
       "               1626.2093241541745,\n",
       "               1624.6635507457788,\n",
       "               1623.0415124829417,\n",
       "               1621.6989183613684,\n",
       "               1620.1082416172464,\n",
       "               1618.5177523933796,\n",
       "               1617.0392204587404,\n",
       "               1615.4254794599137,\n",
       "               1613.9727927330794,\n",
       "               1613.1085539354644,\n",
       "               1612.1392041503796,\n",
       "               1610.6887149879433,\n",
       "               1609.3856716533173,\n",
       "               1607.8240203251942,\n",
       "               1606.6408557748307,\n",
       "               1605.624172070965,\n",
       "               1604.5486995470417,\n",
       "               1603.1962014103774,\n",
       "               1601.9008036653304,\n",
       "               1600.5481884660749,\n",
       "               1599.5018027064125,\n",
       "               1598.3130862542303,\n",
       "               1597.136818098632,\n",
       "               1596.425546751346,\n",
       "               1595.3183035966495,\n",
       "               1594.370387001912,\n",
       "               1593.4170914775566,\n",
       "               1592.1950534379048,\n",
       "               1591.3120989841,\n",
       "               1590.4222860190046,\n",
       "               1589.7024300283526,\n",
       "               1588.9373292141743,\n",
       "               1588.0065915586056,\n",
       "               1586.9424680351433,\n",
       "               1586.1178943962975,\n",
       "               1585.3155561980282,\n",
       "               1584.3937452709781,\n",
       "               1583.7045183372759,\n",
       "               1582.9160724794594,\n",
       "               1582.1671041496156,\n",
       "               1581.3994847832435,\n",
       "               1580.114152936311,\n",
       "               1578.7421865398862,\n",
       "               1577.7441040456215,\n",
       "               1576.8425540306096,\n",
       "               1576.0296441716127,\n",
       "               1575.3461625869677,\n",
       "               1574.4911823866917,\n",
       "               1573.5872566917358,\n",
       "               1572.6562339641685,\n",
       "               1571.800157756894,\n",
       "               1570.4630164557275,\n",
       "               1569.5095414876087,\n",
       "               1568.8428075760332,\n",
       "               1567.909231319056,\n",
       "               1567.358655917209,\n",
       "               1566.5348625748545,\n",
       "               1565.540493479204,\n",
       "               1565.0223560101047,\n",
       "               1564.5728649161745,\n",
       "               1563.7651021201655,\n",
       "               1563.2065152932598,\n",
       "               1562.4110035109159,\n",
       "               1561.5883425654208,\n",
       "               1560.8788471692285,\n",
       "               1560.3267159510149,\n",
       "               1559.8896609469532,\n",
       "               1559.350615985801,\n",
       "               1558.8024737854578,\n",
       "               1558.1266730948093,\n",
       "               1557.3442198862165,\n",
       "               1556.2706366442546,\n",
       "               1555.6159348148774,\n",
       "               1554.8371715814428,\n",
       "               1554.3019799909305,\n",
       "               1553.7145124912659,\n",
       "               1553.2768174610785,\n",
       "               1552.9360681725675,\n",
       "               1552.6139528609267,\n",
       "               1552.1087116195924,\n",
       "               1551.609665543375,\n",
       "               1550.5341715939467,\n",
       "               1549.7613221563035,\n",
       "               1549.2154397534434,\n",
       "               1548.6078215901773,\n",
       "               1547.9360744951528,\n",
       "               1547.0735256192381,\n",
       "               1546.573423547458,\n",
       "               1546.2310170339144,\n",
       "               1545.8825202181586,\n",
       "               1545.1362316338752,\n",
       "               1544.8739764675877,\n",
       "               1544.2363390863522,\n",
       "               1543.7318167177,\n",
       "               1543.167286008842,\n",
       "               1542.358041760576,\n",
       "               1541.6819965717077,\n",
       "               1540.872942553633,\n",
       "               1540.2836175786508,\n",
       "               1539.894845895452,\n",
       "               1539.203260317561,\n",
       "               1538.757617972837,\n",
       "               1537.9831630841175,\n",
       "               1537.4742253483091,\n",
       "               1536.949027209155,\n",
       "               1536.3565408894447,\n",
       "               1535.722210734709,\n",
       "               1535.2307747592786,\n",
       "               1534.882741411113,\n",
       "               1534.39571949153,\n",
       "               1533.9072787674952,\n",
       "               1533.6122723849846,\n",
       "               1533.5067387147355,\n",
       "               1532.9383064602725,\n",
       "               1532.5558941747388,\n",
       "               1531.9799822699786,\n",
       "               1531.510171644716,\n",
       "               1530.965028108422,\n",
       "               1530.5776867406112,\n",
       "               1530.2888797200214,\n",
       "               1529.8611627352882,\n",
       "               1529.3477395211637,\n",
       "               1529.045087723169,\n",
       "               1528.7121636004479,\n",
       "               1528.1554452727657,\n",
       "               1527.7665677824782,\n",
       "               1527.5254963918953,\n",
       "               1527.0955272652354,\n",
       "               1526.6476255868165,\n",
       "               1526.3080235974937,\n",
       "               1525.7382829939406,\n",
       "               1525.2192384360853,\n",
       "               1524.6675325288525,\n",
       "               1524.2110376246908,\n",
       "               1523.7965648681202,\n",
       "               1523.2503982970836,\n",
       "               1523.0054111362972,\n",
       "               1522.7662459375645,\n",
       "               1522.5525956776767,\n",
       "               1522.109892156234,\n",
       "               1521.711339811259,\n",
       "               1521.4973031345198,\n",
       "               1521.2561040766468,\n",
       "               1520.8720823938227,\n",
       "               1520.4209608687718,\n",
       "               1520.0911925080702,\n",
       "               1519.572665009904,\n",
       "               1519.394521334302,\n",
       "               1518.8632767292813,\n",
       "               1518.315298747177,\n",
       "               1517.831133436536,\n",
       "               1517.4340201574194,\n",
       "               1516.9032361080397,\n",
       "               1516.3367503743477,\n",
       "               1516.0095403613707,\n",
       "               1515.6290323109927,\n",
       "               1515.3888345217886,\n",
       "               1515.0109934958718,\n",
       "               1514.5841826091266,\n",
       "               1514.161515327306,\n",
       "               1513.7494405427126,\n",
       "               1513.3527703602258,\n",
       "               1512.9720748570862,\n",
       "               1512.7025291617283,\n",
       "               1512.5411828884128,\n",
       "               1512.3716296512132,\n",
       "               1512.1306015492107,\n",
       "               1511.8437803259856,\n",
       "               1511.5046664158342,\n",
       "               1511.1466147431104,\n",
       "               1510.6260364504622,\n",
       "               1510.2773665917657,\n",
       "               1510.0682917833656,\n",
       "               1509.7399638194847,\n",
       "               1509.577260659049,\n",
       "               1509.3158215265773,\n",
       "               1509.0560127601245,\n",
       "               1508.7199698077131,\n",
       "               1508.291795170855,\n",
       "               1508.0959999079794,\n",
       "               1507.7706766927186,\n",
       "               1507.5067849104635,\n",
       "               1507.1133494676524,\n",
       "               1506.9149500238416,\n",
       "               1506.6999873912503,\n",
       "               1506.159466088456,\n",
       "               1505.9141246652005,\n",
       "               1505.4790500655874,\n",
       "               1505.2134467060794,\n",
       "               1505.0670208287183,\n",
       "               1504.785289609168,\n",
       "               1504.554324628544,\n",
       "               1504.2160925708547,\n",
       "               1503.6739161132773,\n",
       "               1503.2716864880965,\n",
       "               1502.9609517785605,\n",
       "               1502.3871898891532,\n",
       "               1502.0346020337854,\n",
       "               1501.780818247589,\n",
       "               1501.483828363075,\n",
       "               1500.9592652741994,\n",
       "               1500.816735856336,\n",
       "               1500.4795508186062,\n",
       "               1500.0635950731785,\n",
       "               1499.755302952544,\n",
       "               1499.4651830065693,\n",
       "               1499.2565132001666,\n",
       "               1498.986086051582,\n",
       "               1498.6126538723047,\n",
       "               1498.3978198796506,\n",
       "               1498.2728997009917,\n",
       "               1497.9315593312094,\n",
       "               1497.642623514873,\n",
       "               1497.327744819523,\n",
       "               1496.8312281940753,\n",
       "               1496.6108886225138,\n",
       "               1496.0757811704962,\n",
       "               1495.751425955685,\n",
       "               1495.5099275709372,\n",
       "               1495.181006781233,\n",
       "               1494.7899970685476,\n",
       "               1494.543879856977,\n",
       "               1494.2585802938454,\n",
       "               1493.9837729516494,\n",
       "               1493.6603752545554],\n",
       "              'train-RMSE-std': [10.346003817256731,\n",
       "               6.328791417666064,\n",
       "               4.600363069266251,\n",
       "               3.1084873791655303,\n",
       "               1.8018795142096178,\n",
       "               2.1686517691428215,\n",
       "               0.7394413234938717,\n",
       "               1.5776958675740367,\n",
       "               3.9307386411860277,\n",
       "               1.5032009153170454,\n",
       "               4.952965028557677,\n",
       "               2.9268281029189973,\n",
       "               6.714960527561478,\n",
       "               6.999206944861213,\n",
       "               6.901234628817555,\n",
       "               6.8724243357138945,\n",
       "               7.321764331874885,\n",
       "               8.415800253383162,\n",
       "               7.207613149762769,\n",
       "               9.123147082270592,\n",
       "               8.807129211886293,\n",
       "               9.87186438181398,\n",
       "               9.88474218267741,\n",
       "               8.259359613384762,\n",
       "               9.032812155517236,\n",
       "               9.741589417964773,\n",
       "               10.893863519886748,\n",
       "               12.03968981801991,\n",
       "               10.754970236969047,\n",
       "               9.759063754978582,\n",
       "               9.083888240426422,\n",
       "               10.041592270893462,\n",
       "               10.064385762170692,\n",
       "               9.850936843770416,\n",
       "               9.088894967271143,\n",
       "               8.867097338613402,\n",
       "               8.530786492786131,\n",
       "               8.262877985291402,\n",
       "               10.300819928712153,\n",
       "               10.356124201792788,\n",
       "               9.372074446440454,\n",
       "               9.539097156007752,\n",
       "               10.63362627483412,\n",
       "               10.267824964653942,\n",
       "               10.148595630094803,\n",
       "               8.706094072574595,\n",
       "               8.505225076156398,\n",
       "               9.049977133489419,\n",
       "               9.40251543376096,\n",
       "               9.559996840447395,\n",
       "               10.367705800812159,\n",
       "               11.413075937364091,\n",
       "               11.792575844079357,\n",
       "               11.223654215396124,\n",
       "               10.975001628111897,\n",
       "               11.011191210097305,\n",
       "               10.36590581002514,\n",
       "               10.75984331125246,\n",
       "               10.277596401858624,\n",
       "               9.542112841720728,\n",
       "               10.603233002664659,\n",
       "               10.263553190663137,\n",
       "               9.884124772410512,\n",
       "               9.848326667432868,\n",
       "               9.900997184924154,\n",
       "               9.312971581109093,\n",
       "               10.202781740437382,\n",
       "               10.243809549309265,\n",
       "               11.096156954966373,\n",
       "               11.122154352456102,\n",
       "               11.439051692027626,\n",
       "               11.6848184280189,\n",
       "               11.683837722317104,\n",
       "               11.644625037658004,\n",
       "               11.546338540903607,\n",
       "               10.538225975766766,\n",
       "               10.427043703788202,\n",
       "               10.266792601278699,\n",
       "               10.161066855649745,\n",
       "               9.958174633773481,\n",
       "               10.350482996388422,\n",
       "               9.807794562390018,\n",
       "               10.184590388740922,\n",
       "               10.18447868667204,\n",
       "               10.012931767145199,\n",
       "               10.070400955538934,\n",
       "               9.914068405442197,\n",
       "               9.549584125659159,\n",
       "               8.918872874640634,\n",
       "               8.85548426907193,\n",
       "               9.099731909029355,\n",
       "               9.561052749022059,\n",
       "               8.864034987134971,\n",
       "               8.787043295140997,\n",
       "               9.22244731200952,\n",
       "               9.174138056103306,\n",
       "               8.866674757767417,\n",
       "               8.986569432351878,\n",
       "               9.496498484243476,\n",
       "               9.664351862078881,\n",
       "               9.38035071202566,\n",
       "               9.73004631198962,\n",
       "               9.959298209407498,\n",
       "               9.882961727961577,\n",
       "               9.592421514698698,\n",
       "               9.491610340228462,\n",
       "               9.741412934863831,\n",
       "               10.299110042685802,\n",
       "               10.287868946226245,\n",
       "               10.262733791168023,\n",
       "               10.134543139059813,\n",
       "               10.666884713254731,\n",
       "               10.264115578513977,\n",
       "               10.467198347600622,\n",
       "               10.511057083304458,\n",
       "               10.252849495458412,\n",
       "               9.909096039136077,\n",
       "               9.803081642772941,\n",
       "               9.35038874534122,\n",
       "               9.271862504390027,\n",
       "               9.028946513025694,\n",
       "               8.875740902233924,\n",
       "               8.551991602229574,\n",
       "               8.370058092336665,\n",
       "               8.531440076688833,\n",
       "               8.77415108251861,\n",
       "               8.764327231434132,\n",
       "               8.869288969721989,\n",
       "               9.153563159165103,\n",
       "               9.156993601495648,\n",
       "               8.927297485085301,\n",
       "               8.998263636383832,\n",
       "               8.988269442352214,\n",
       "               9.190182816102697,\n",
       "               9.155271677212411,\n",
       "               8.856837390725094,\n",
       "               8.667846316249129,\n",
       "               8.311629379000133,\n",
       "               8.104493576230931,\n",
       "               8.210427604555898,\n",
       "               7.996611638798007,\n",
       "               7.92213316097846,\n",
       "               8.058664074337202,\n",
       "               8.048769880818769,\n",
       "               7.846536587077209,\n",
       "               8.144196991164511,\n",
       "               8.164583052865211,\n",
       "               8.386805510876439,\n",
       "               8.749157970428811,\n",
       "               8.843636677652375,\n",
       "               9.251593967439605,\n",
       "               9.20807620287508,\n",
       "               9.25232948359607,\n",
       "               9.020591504625273,\n",
       "               9.115502294766666,\n",
       "               8.981680767878654,\n",
       "               8.554614244642966,\n",
       "               8.646782920191393,\n",
       "               8.602982029922323,\n",
       "               8.46005989017784,\n",
       "               8.70095916801078,\n",
       "               9.086848674199391,\n",
       "               8.806896311439202,\n",
       "               8.71733013644161,\n",
       "               8.50423087434989,\n",
       "               8.606748815438186,\n",
       "               8.6241330786312,\n",
       "               8.226665258568296,\n",
       "               7.985700497347965,\n",
       "               7.875483434862469,\n",
       "               7.543922061246492,\n",
       "               7.373461414303499,\n",
       "               7.787476453843865,\n",
       "               8.029119826331437,\n",
       "               8.155998728196616,\n",
       "               8.462503904582997,\n",
       "               8.348764693561597,\n",
       "               8.720814851596563,\n",
       "               8.612786825353622,\n",
       "               8.396265162168778,\n",
       "               8.64416085077961,\n",
       "               8.817502044215594,\n",
       "               8.754614707831271,\n",
       "               8.726612887714685,\n",
       "               8.854357082826604,\n",
       "               8.955368836842174,\n",
       "               8.945196836492029,\n",
       "               8.885776711769624,\n",
       "               8.51254695697338,\n",
       "               8.455997288669703,\n",
       "               8.436286410095262,\n",
       "               8.512886301960403,\n",
       "               8.475074009116899,\n",
       "               8.442772455613825,\n",
       "               8.476627187868147,\n",
       "               8.373116430499001,\n",
       "               8.187128999462079,\n",
       "               8.265136912170629,\n",
       "               8.44359345713328,\n",
       "               8.155346038104515,\n",
       "               7.837113979222076,\n",
       "               7.841611774545717,\n",
       "               7.6841539264062275,\n",
       "               7.972984636411425,\n",
       "               7.978985661690278,\n",
       "               8.186811572879108,\n",
       "               8.324427585621942,\n",
       "               8.23804512260084,\n",
       "               8.090521438519065,\n",
       "               7.834179049754721,\n",
       "               7.902762114068357,\n",
       "               8.097883815805345,\n",
       "               8.251540332750345,\n",
       "               8.296593767446273,\n",
       "               8.311575902967137,\n",
       "               8.216086750364722,\n",
       "               8.354833910911301,\n",
       "               8.310591354391471,\n",
       "               8.045949692996578,\n",
       "               8.241394903480673,\n",
       "               8.066572143677183,\n",
       "               8.05113515691669,\n",
       "               8.058750861389864,\n",
       "               8.18997294312161,\n",
       "               8.19850674024344,\n",
       "               8.19728231326417,\n",
       "               8.228984387102162,\n",
       "               8.436751000865621,\n",
       "               8.16661091509435,\n",
       "               8.122007622005286,\n",
       "               8.061363966511665,\n",
       "               8.30761750431592,\n",
       "               8.329102535176714,\n",
       "               8.625433620342836,\n",
       "               8.834489869224209,\n",
       "               8.807957805911206,\n",
       "               8.597356384091938,\n",
       "               8.585239201223919,\n",
       "               8.584500643934996,\n",
       "               8.643125241539385,\n",
       "               8.621299958797758,\n",
       "               8.581381186162117,\n",
       "               8.596626496081017,\n",
       "               8.504208822513547,\n",
       "               8.767663315113868,\n",
       "               8.877838982964967,\n",
       "               9.139537087516386,\n",
       "               9.25215563934729,\n",
       "               9.358015112090257,\n",
       "               9.448358672798454,\n",
       "               9.314816245130904,\n",
       "               9.329882612342237,\n",
       "               9.323456972196915,\n",
       "               9.153815829556041,\n",
       "               9.27527419806744,\n",
       "               9.159375119236959,\n",
       "               9.176653924535275,\n",
       "               9.582391881282074,\n",
       "               9.467521989930768,\n",
       "               9.640711896528709,\n",
       "               9.498459395973583,\n",
       "               9.57189647886433,\n",
       "               9.475943339409092,\n",
       "               9.473848543774974,\n",
       "               9.451102319147193,\n",
       "               9.606339535046766,\n",
       "               9.628470944227148,\n",
       "               9.35833524536185,\n",
       "               9.461514813306861,\n",
       "               9.736393885726224,\n",
       "               9.568683544126193,\n",
       "               9.642660173747528,\n",
       "               9.437219798679928,\n",
       "               9.308055974222103,\n",
       "               9.294036026716062,\n",
       "               9.351323158230294,\n",
       "               9.275798111945214,\n",
       "               9.340399005252548,\n",
       "               9.39604310724071,\n",
       "               9.427896123951076,\n",
       "               9.583199649597633,\n",
       "               9.448931950547994,\n",
       "               9.333955414636748,\n",
       "               9.290518311953463,\n",
       "               9.395376714530835,\n",
       "               9.343390336052304,\n",
       "               9.271425266836248,\n",
       "               9.344127458552355,\n",
       "               9.323311513275968,\n",
       "               8.992201100245046,\n",
       "               9.038033505398472,\n",
       "               9.090201737893683,\n",
       "               8.924486334480418,\n",
       "               8.894131984522964,\n",
       "               8.832573477753707,\n",
       "               8.830582215995916,\n",
       "               8.733749523845617,\n",
       "               8.686561764049923,\n",
       "               8.478747448106496,\n",
       "               8.470671751508757]}),\n",
       " 'params': {'iterations': 300, 'learning_rate': 0.2}}"
      ]
     },
     "execution_count": 52,
     "metadata": {},
     "output_type": "execute_result"
    }
   ],
   "source": [
    "cat_features = [0, 2, 4, 6, 7, 8, 9]\n",
    "model = CatBoostRegressor(loss_function = 'RMSE',\n",
    "                          eval_metric = 'R2', \n",
    "                          cat_features = cat_features, \n",
    "                          verbose=False)\n",
    "grid = {'iterations': [250, 300],\n",
    "        'learning_rate': [0.1, 0.2]}\n",
    "model.grid_search(grid, features_train_cat, target_train_cat)"
   ]
  },
  {
   "cell_type": "code",
   "execution_count": 53,
   "metadata": {
    "colab": {
     "base_uri": "https://localhost:8080/"
    },
    "id": "pS6hIKQDDRQK",
    "outputId": "a546e2a6-56b6-460d-cf18-32170832baa9",
    "scrolled": false
   },
   "outputs": [
    {
     "data": {
      "text/plain": [
       "{'cat_features': [0, 2, 4, 6, 7, 8, 9],\n",
       " 'eval_metric': 'R2',\n",
       " 'iterations': 300,\n",
       " 'learning_rate': 0.2,\n",
       " 'loss_function': 'RMSE',\n",
       " 'verbose': False}"
      ]
     },
     "execution_count": 53,
     "metadata": {},
     "output_type": "execute_result"
    }
   ],
   "source": [
    "model.get_params()"
   ]
  },
  {
   "cell_type": "code",
   "execution_count": 54,
   "metadata": {
    "colab": {
     "base_uri": "https://localhost:8080/"
    },
    "id": "D6Bl-ECIDRQa",
    "outputId": "bd0f6536-ec05-4b50-bfa8-5fdfdcedab8c"
   },
   "outputs": [
    {
     "name": "stdout",
     "output_type": "stream",
     "text": [
      "Модель <catboost.core.CatBoostRegressor object at 0x7fa32c3632d0>: R2=0.89, RMSE=1.55e+03, time_learn=45.0s, time_predict=0.205s\n"
     ]
    }
   ],
   "source": [
    "#Задание модели с оптимальными параметрами.\n",
    "cat_features = [0, 2, 4, 6, 7, 8, 9]\n",
    "model_cat = CatBoostRegressor(loss_function='RMSE', \n",
    "                                        eval_metric='R2', \n",
    "                                        iterations=300, \n",
    "                                        learning_rate=0.2,\n",
    "                                        cat_features = cat_features,\n",
    "                                        verbose=False)\n",
    "start_1 = time.time()\n",
    "model_cat.fit(features_train_cat, target_train_cat)\n",
    "end_1 = time.time()\n",
    "start_2 = time.time()\n",
    "predictions = model_cat.predict(features_test_cat)\n",
    "end_2 = time.time()\n",
    "r2 = r2_score(target_test_cat, predictions)\n",
    "rmse = mean_squared_error(target_test_cat, predictions)**0.5\n",
    "print(f'Модель {model_cat}: R2={r2:0.3}, RMSE={rmse:0.3}, time_learn={(end_1-start_1):0.3}s, time_predict={(end_2-start_2):0.3}s')"
   ]
  },
  {
   "cell_type": "markdown",
   "metadata": {
    "id": "ZlI5OseHDRQa"
   },
   "source": [
    "Модель CatBoostRegressor() без предварительного кодирования категориальных переменных: R2=0.89, RMSE=1.55e+03, time_learn=52.7s, time_predict=0.276s"
   ]
  },
  {
   "cell_type": "markdown",
   "metadata": {
    "id": "v4iZfmzrDRQa"
   },
   "source": [
    "## Анализ моделей"
   ]
  },
  {
   "cell_type": "markdown",
   "metadata": {
    "id": "G8KtZh5bDRQa"
   },
   "source": [
    "1. Исходя из полученных результатов исследования и согласно требованиям заказчика лучшими моделями являются:\n",
    "\n",
    " - качество предсказания: \n",
    "    - CatBoostRegressor() RMSE=1.52e+03; \n",
    "    - LGBMRegressor() RMSE=1.62e+03;\n",
    "   \n",
    " - скорость предсказания: \n",
    "    - CatBoostRegressor() time_predict=0.0455s; \n",
    "    - GradientBoostingRegressor() time_predict=0.065s;\n",
    "    \n",
    " - время обучения: \n",
    "    - LGBMRegressor() time_learn=4.1s;\n",
    "    - GradientBoostingRegressor() time_learn=12.8.\n",
    " \n",
    "2. CatBoostRegressor поддерживает довольно простой (для пользователя) механизм работы с категориальными переменными.\n",
    "\n",
    "3. По результатам проекта, по совокупности параметров заказчику было рекомендовано использовать модель CatBoostRegressor."
   ]
  }
 ],
 "metadata": {
  "ExecuteTimeLog": [
   {
    "duration": 1537,
    "start_time": "2022-06-28T19:48:55.053Z"
   },
   {
    "duration": 1263,
    "start_time": "2022-06-28T19:49:47.763Z"
   },
   {
    "duration": 103,
    "start_time": "2022-06-28T19:50:12.385Z"
   },
   {
    "duration": 79,
    "start_time": "2022-06-28T19:51:02.470Z"
   },
   {
    "duration": 30,
    "start_time": "2022-06-28T19:51:10.719Z"
   },
   {
    "duration": 405,
    "start_time": "2022-06-28T19:51:21.590Z"
   },
   {
    "duration": 259,
    "start_time": "2022-06-28T19:51:31.774Z"
   },
   {
    "duration": 85,
    "start_time": "2022-06-28T19:51:40.024Z"
   },
   {
    "duration": 79,
    "start_time": "2022-06-28T19:52:22.803Z"
   },
   {
    "duration": 60,
    "start_time": "2022-06-28T19:53:59.889Z"
   },
   {
    "duration": 524,
    "start_time": "2022-06-28T19:54:25.343Z"
   },
   {
    "duration": 66,
    "start_time": "2022-06-28T19:55:13.945Z"
   },
   {
    "duration": 771,
    "start_time": "2022-06-28T19:55:23.455Z"
   },
   {
    "duration": 697,
    "start_time": "2022-06-28T19:55:44.916Z"
   },
   {
    "duration": 75,
    "start_time": "2022-06-28T19:56:05.643Z"
   },
   {
    "duration": 10,
    "start_time": "2022-06-28T19:59:25.991Z"
   },
   {
    "duration": 22,
    "start_time": "2022-06-28T19:59:27.104Z"
   },
   {
    "duration": 91,
    "start_time": "2022-06-28T19:59:29.231Z"
   },
   {
    "duration": 12,
    "start_time": "2022-06-28T19:59:30.264Z"
   },
   {
    "duration": 290,
    "start_time": "2022-06-28T19:59:31.103Z"
   },
   {
    "duration": 3,
    "start_time": "2022-06-28T19:59:32.743Z"
   },
   {
    "duration": 2,
    "start_time": "2022-06-28T19:59:33.375Z"
   },
   {
    "duration": 1412,
    "start_time": "2022-06-28T20:01:20.592Z"
   },
   {
    "duration": 1497,
    "start_time": "2022-06-28T20:01:22.006Z"
   },
   {
    "duration": 131,
    "start_time": "2022-06-28T20:01:23.505Z"
   },
   {
    "duration": 33,
    "start_time": "2022-06-28T20:01:23.639Z"
   },
   {
    "duration": 429,
    "start_time": "2022-06-28T20:01:23.674Z"
   },
   {
    "duration": 321,
    "start_time": "2022-06-28T20:01:24.105Z"
   },
   {
    "duration": 105,
    "start_time": "2022-06-28T20:01:24.429Z"
   },
   {
    "duration": 114,
    "start_time": "2022-06-28T20:01:24.536Z"
   },
   {
    "duration": 50,
    "start_time": "2022-06-28T20:01:24.652Z"
   },
   {
    "duration": 589,
    "start_time": "2022-06-28T20:01:24.705Z"
   },
   {
    "duration": 76,
    "start_time": "2022-06-28T20:01:25.295Z"
   },
   {
    "duration": 853,
    "start_time": "2022-06-28T20:01:25.372Z"
   },
   {
    "duration": 72,
    "start_time": "2022-06-28T20:01:26.227Z"
   },
   {
    "duration": 23,
    "start_time": "2022-06-28T20:01:26.301Z"
   },
   {
    "duration": 25,
    "start_time": "2022-06-28T20:01:26.327Z"
   },
   {
    "duration": 113,
    "start_time": "2022-06-28T20:01:26.354Z"
   },
   {
    "duration": 11,
    "start_time": "2022-06-28T20:01:26.469Z"
   },
   {
    "duration": 303,
    "start_time": "2022-06-28T20:01:26.481Z"
   },
   {
    "duration": 2,
    "start_time": "2022-06-28T20:01:26.786Z"
   },
   {
    "duration": 7,
    "start_time": "2022-06-28T20:01:26.789Z"
   },
   {
    "duration": 50,
    "start_time": "2022-06-28T20:02:49.343Z"
   },
   {
    "duration": 1422,
    "start_time": "2022-06-28T20:03:02.815Z"
   },
   {
    "duration": 1203,
    "start_time": "2022-06-28T20:03:04.240Z"
   },
   {
    "duration": 108,
    "start_time": "2022-06-28T20:03:05.445Z"
   },
   {
    "duration": 31,
    "start_time": "2022-06-28T20:03:05.556Z"
   },
   {
    "duration": 403,
    "start_time": "2022-06-28T20:03:05.596Z"
   },
   {
    "duration": 268,
    "start_time": "2022-06-28T20:03:06.001Z"
   },
   {
    "duration": 81,
    "start_time": "2022-06-28T20:03:06.271Z"
   },
   {
    "duration": 93,
    "start_time": "2022-06-28T20:03:06.354Z"
   },
   {
    "duration": 51,
    "start_time": "2022-06-28T20:03:06.449Z"
   },
   {
    "duration": 558,
    "start_time": "2022-06-28T20:03:06.502Z"
   },
   {
    "duration": 72,
    "start_time": "2022-06-28T20:03:07.062Z"
   },
   {
    "duration": 811,
    "start_time": "2022-06-28T20:03:07.136Z"
   },
   {
    "duration": 78,
    "start_time": "2022-06-28T20:03:07.949Z"
   },
   {
    "duration": 10,
    "start_time": "2022-06-28T20:03:08.029Z"
   },
   {
    "duration": 23,
    "start_time": "2022-06-28T20:03:08.041Z"
   },
   {
    "duration": 93,
    "start_time": "2022-06-28T20:03:08.066Z"
   },
   {
    "duration": 9,
    "start_time": "2022-06-28T20:03:08.161Z"
   },
   {
    "duration": 296,
    "start_time": "2022-06-28T20:03:08.171Z"
   },
   {
    "duration": 2,
    "start_time": "2022-06-28T20:03:08.469Z"
   },
   {
    "duration": 5,
    "start_time": "2022-06-28T20:03:08.473Z"
   },
   {
    "duration": 99,
    "start_time": "2022-06-28T20:03:11.155Z"
   },
   {
    "duration": 52,
    "start_time": "2022-06-28T20:03:12.065Z"
   },
   {
    "duration": 105,
    "start_time": "2022-06-28T20:03:15.545Z"
   },
   {
    "duration": 6,
    "start_time": "2022-06-28T20:04:18.939Z"
   },
   {
    "duration": 12,
    "start_time": "2022-06-28T20:06:03.014Z"
   },
   {
    "duration": 13,
    "start_time": "2022-06-28T20:06:22.734Z"
   },
   {
    "duration": 308,
    "start_time": "2022-06-28T20:06:29.895Z"
   },
   {
    "duration": 3,
    "start_time": "2022-06-28T20:06:38.026Z"
   },
   {
    "duration": 15,
    "start_time": "2022-06-28T20:06:59.136Z"
   },
   {
    "duration": 21,
    "start_time": "2022-06-28T20:07:18.572Z"
   },
   {
    "duration": 12,
    "start_time": "2022-06-28T20:07:19.347Z"
   },
   {
    "duration": 351,
    "start_time": "2022-06-28T20:07:40.032Z"
   },
   {
    "duration": 47,
    "start_time": "2022-06-28T20:07:57.864Z"
   },
   {
    "duration": 3,
    "start_time": "2022-06-28T20:08:08.227Z"
   },
   {
    "duration": 49240,
    "start_time": "2022-06-28T20:08:18.085Z"
   },
   {
    "duration": 6,
    "start_time": "2022-06-28T20:12:35.124Z"
   },
   {
    "duration": 3470,
    "start_time": "2022-06-28T20:14:14.763Z"
   },
   {
    "duration": 346,
    "start_time": "2022-06-28T20:15:47.285Z"
   },
   {
    "duration": 2,
    "start_time": "2022-06-28T20:21:28.602Z"
   },
   {
    "duration": 3,
    "start_time": "2022-06-28T20:21:31.803Z"
   },
   {
    "duration": 2,
    "start_time": "2022-06-28T20:27:09.351Z"
   },
   {
    "duration": 110,
    "start_time": "2022-06-28T20:27:21.292Z"
   },
   {
    "duration": 5,
    "start_time": "2022-06-28T20:27:49.784Z"
   },
   {
    "duration": 39960,
    "start_time": "2022-06-28T20:28:03.088Z"
   },
   {
    "duration": 39916,
    "start_time": "2022-06-28T20:29:09.221Z"
   },
   {
    "duration": 3,
    "start_time": "2022-06-28T20:31:20.779Z"
   },
   {
    "duration": 273003,
    "start_time": "2022-06-28T20:31:29.125Z"
   },
   {
    "duration": 3,
    "start_time": "2022-06-28T20:36:26.339Z"
   },
   {
    "duration": 196102,
    "start_time": "2022-06-28T20:36:27.376Z"
   },
   {
    "duration": 1427,
    "start_time": "2022-06-28T20:40:23.737Z"
   },
   {
    "duration": 998,
    "start_time": "2022-06-28T20:40:25.166Z"
   },
   {
    "duration": 119,
    "start_time": "2022-06-28T20:40:26.166Z"
   },
   {
    "duration": 37,
    "start_time": "2022-06-28T20:40:26.287Z"
   },
   {
    "duration": 426,
    "start_time": "2022-06-28T20:40:26.326Z"
   },
   {
    "duration": 221,
    "start_time": "2022-06-28T20:40:26.754Z"
   },
   {
    "duration": 83,
    "start_time": "2022-06-28T20:40:26.977Z"
   },
   {
    "duration": 95,
    "start_time": "2022-06-28T20:40:27.061Z"
   },
   {
    "duration": 52,
    "start_time": "2022-06-28T20:40:27.158Z"
   },
   {
    "duration": 602,
    "start_time": "2022-06-28T20:40:27.211Z"
   },
   {
    "duration": 72,
    "start_time": "2022-06-28T20:40:27.815Z"
   },
   {
    "duration": 809,
    "start_time": "2022-06-28T20:40:27.889Z"
   },
   {
    "duration": 62,
    "start_time": "2022-06-28T20:40:28.700Z"
   },
   {
    "duration": 19,
    "start_time": "2022-06-28T20:40:28.765Z"
   },
   {
    "duration": 21,
    "start_time": "2022-06-28T20:40:28.786Z"
   },
   {
    "duration": 90,
    "start_time": "2022-06-28T20:40:28.808Z"
   },
   {
    "duration": 24,
    "start_time": "2022-06-28T20:40:28.900Z"
   },
   {
    "duration": 338,
    "start_time": "2022-06-28T20:40:28.926Z"
   },
   {
    "duration": 4,
    "start_time": "2022-06-28T20:40:29.267Z"
   },
   {
    "duration": 22,
    "start_time": "2022-06-28T20:40:29.273Z"
   },
   {
    "duration": 126,
    "start_time": "2022-06-28T20:40:34.564Z"
   },
   {
    "duration": 60,
    "start_time": "2022-06-28T20:40:35.040Z"
   },
   {
    "duration": 15,
    "start_time": "2022-06-28T20:40:37.528Z"
   },
   {
    "duration": 11,
    "start_time": "2022-06-28T20:40:38.007Z"
   },
   {
    "duration": 301,
    "start_time": "2022-06-28T20:40:38.551Z"
   },
   {
    "duration": 4,
    "start_time": "2022-06-28T20:40:39.033Z"
   },
   {
    "duration": 16,
    "start_time": "2022-06-28T20:40:39.687Z"
   },
   {
    "duration": 31,
    "start_time": "2022-06-28T20:40:40.387Z"
   },
   {
    "duration": 362,
    "start_time": "2022-06-28T20:40:40.907Z"
   },
   {
    "duration": 51,
    "start_time": "2022-06-28T20:40:41.540Z"
   },
   {
    "duration": 4,
    "start_time": "2022-06-28T20:40:43.622Z"
   },
   {
    "duration": 50451,
    "start_time": "2022-06-28T20:40:45.576Z"
   },
   {
    "duration": 106532,
    "start_time": "2022-06-28T20:41:36.030Z"
   },
   {
    "duration": 0,
    "start_time": "2022-06-28T20:43:22.564Z"
   },
   {
    "duration": 0,
    "start_time": "2022-06-28T20:43:22.566Z"
   },
   {
    "duration": 0,
    "start_time": "2022-06-28T20:43:22.567Z"
   },
   {
    "duration": 0,
    "start_time": "2022-06-28T20:43:22.569Z"
   },
   {
    "duration": 0,
    "start_time": "2022-06-28T20:43:22.570Z"
   },
   {
    "duration": 1,
    "start_time": "2022-06-28T20:43:22.571Z"
   },
   {
    "duration": 1446,
    "start_time": "2022-06-28T20:43:38.039Z"
   },
   {
    "duration": 987,
    "start_time": "2022-06-28T20:43:39.487Z"
   },
   {
    "duration": 105,
    "start_time": "2022-06-28T20:43:40.476Z"
   },
   {
    "duration": 29,
    "start_time": "2022-06-28T20:43:40.582Z"
   },
   {
    "duration": 417,
    "start_time": "2022-06-28T20:43:40.613Z"
   },
   {
    "duration": 279,
    "start_time": "2022-06-28T20:43:41.031Z"
   },
   {
    "duration": 83,
    "start_time": "2022-06-28T20:43:41.312Z"
   },
   {
    "duration": 90,
    "start_time": "2022-06-28T20:43:41.396Z"
   },
   {
    "duration": 59,
    "start_time": "2022-06-28T20:43:41.488Z"
   },
   {
    "duration": 566,
    "start_time": "2022-06-28T20:43:41.548Z"
   },
   {
    "duration": 69,
    "start_time": "2022-06-28T20:43:42.116Z"
   },
   {
    "duration": 837,
    "start_time": "2022-06-28T20:43:42.187Z"
   },
   {
    "duration": 60,
    "start_time": "2022-06-28T20:43:43.026Z"
   },
   {
    "duration": 10,
    "start_time": "2022-06-28T20:43:43.089Z"
   },
   {
    "duration": 42,
    "start_time": "2022-06-28T20:43:43.101Z"
   },
   {
    "duration": 102,
    "start_time": "2022-06-28T20:43:43.145Z"
   },
   {
    "duration": 17,
    "start_time": "2022-06-28T20:43:43.248Z"
   },
   {
    "duration": 299,
    "start_time": "2022-06-28T20:43:43.267Z"
   },
   {
    "duration": 2,
    "start_time": "2022-06-28T20:43:43.568Z"
   },
   {
    "duration": 5,
    "start_time": "2022-06-28T20:43:43.572Z"
   },
   {
    "duration": 101,
    "start_time": "2022-06-28T20:43:46.532Z"
   },
   {
    "duration": 51,
    "start_time": "2022-06-28T20:43:47.162Z"
   },
   {
    "duration": 12,
    "start_time": "2022-06-28T20:43:49.723Z"
   },
   {
    "duration": 10,
    "start_time": "2022-06-28T20:43:50.264Z"
   },
   {
    "duration": 290,
    "start_time": "2022-06-28T20:43:50.723Z"
   },
   {
    "duration": 3,
    "start_time": "2022-06-28T20:43:51.341Z"
   },
   {
    "duration": 15,
    "start_time": "2022-06-28T20:43:51.911Z"
   },
   {
    "duration": 30,
    "start_time": "2022-06-28T20:43:52.492Z"
   },
   {
    "duration": 366,
    "start_time": "2022-06-28T20:43:53.011Z"
   },
   {
    "duration": 44,
    "start_time": "2022-06-28T20:43:53.612Z"
   },
   {
    "duration": 4,
    "start_time": "2022-06-28T20:43:55.311Z"
   },
   {
    "duration": 50995,
    "start_time": "2022-06-28T20:43:57.032Z"
   },
   {
    "duration": 1632,
    "start_time": "2022-06-29T19:03:00.239Z"
   },
   {
    "duration": 1266,
    "start_time": "2022-06-29T19:03:15.369Z"
   },
   {
    "duration": 103,
    "start_time": "2022-06-29T19:03:17.776Z"
   },
   {
    "duration": 28,
    "start_time": "2022-06-29T19:03:22.578Z"
   },
   {
    "duration": 455,
    "start_time": "2022-06-29T19:03:24.460Z"
   },
   {
    "duration": 261,
    "start_time": "2022-06-29T19:03:25.887Z"
   },
   {
    "duration": 100,
    "start_time": "2022-06-29T19:03:27.362Z"
   },
   {
    "duration": 78,
    "start_time": "2022-06-29T19:04:08.915Z"
   },
   {
    "duration": 54,
    "start_time": "2022-06-29T19:04:10.867Z"
   },
   {
    "duration": 615,
    "start_time": "2022-06-29T19:04:16.282Z"
   },
   {
    "duration": 604,
    "start_time": "2022-06-29T19:04:30.925Z"
   },
   {
    "duration": 72,
    "start_time": "2022-06-29T19:05:25.547Z"
   },
   {
    "duration": 663,
    "start_time": "2022-06-29T19:05:39.169Z"
   },
   {
    "duration": 87,
    "start_time": "2022-06-29T19:05:57.361Z"
   },
   {
    "duration": 10,
    "start_time": "2022-06-29T19:06:32.410Z"
   },
   {
    "duration": 21,
    "start_time": "2022-06-29T19:06:52.244Z"
   },
   {
    "duration": 77,
    "start_time": "2022-06-29T19:07:04.825Z"
   },
   {
    "duration": 12,
    "start_time": "2022-06-29T19:07:23.856Z"
   },
   {
    "duration": 291,
    "start_time": "2022-06-29T19:08:41.616Z"
   },
   {
    "duration": 3,
    "start_time": "2022-06-29T19:09:03.504Z"
   },
   {
    "duration": 3,
    "start_time": "2022-06-29T19:09:12.137Z"
   },
   {
    "duration": 1451,
    "start_time": "2022-06-29T19:11:12.246Z"
   },
   {
    "duration": 1285,
    "start_time": "2022-06-29T19:11:13.699Z"
   },
   {
    "duration": 101,
    "start_time": "2022-06-29T19:11:14.986Z"
   },
   {
    "duration": 26,
    "start_time": "2022-06-29T19:11:15.089Z"
   },
   {
    "duration": 383,
    "start_time": "2022-06-29T19:11:15.116Z"
   },
   {
    "duration": 213,
    "start_time": "2022-06-29T19:11:15.500Z"
   },
   {
    "duration": 81,
    "start_time": "2022-06-29T19:11:15.715Z"
   },
   {
    "duration": 91,
    "start_time": "2022-06-29T19:11:15.797Z"
   },
   {
    "duration": 54,
    "start_time": "2022-06-29T19:11:15.890Z"
   },
   {
    "duration": 536,
    "start_time": "2022-06-29T19:11:15.958Z"
   },
   {
    "duration": 77,
    "start_time": "2022-06-29T19:11:16.495Z"
   },
   {
    "duration": 745,
    "start_time": "2022-06-29T19:11:16.575Z"
   },
   {
    "duration": 69,
    "start_time": "2022-06-29T19:11:17.322Z"
   },
   {
    "duration": 10,
    "start_time": "2022-06-29T19:11:17.392Z"
   },
   {
    "duration": 22,
    "start_time": "2022-06-29T19:11:17.403Z"
   },
   {
    "duration": 107,
    "start_time": "2022-06-29T19:11:17.427Z"
   },
   {
    "duration": 23,
    "start_time": "2022-06-29T19:11:17.536Z"
   },
   {
    "duration": 329,
    "start_time": "2022-06-29T19:11:17.561Z"
   },
   {
    "duration": 2,
    "start_time": "2022-06-29T19:11:17.892Z"
   },
   {
    "duration": 6,
    "start_time": "2022-06-29T19:11:17.896Z"
   },
   {
    "duration": 104,
    "start_time": "2022-06-29T19:11:34.007Z"
   },
   {
    "duration": 52,
    "start_time": "2022-06-29T19:12:03.937Z"
   },
   {
    "duration": 16,
    "start_time": "2022-06-29T19:12:36.831Z"
   },
   {
    "duration": 109,
    "start_time": "2022-06-29T19:13:29.563Z"
   },
   {
    "duration": 13,
    "start_time": "2022-06-29T19:13:33.580Z"
   },
   {
    "duration": 11,
    "start_time": "2022-06-29T19:13:34.153Z"
   },
   {
    "duration": 280,
    "start_time": "2022-06-29T19:13:34.876Z"
   },
   {
    "duration": 33,
    "start_time": "2022-06-29T19:15:32.116Z"
   },
   {
    "duration": 16,
    "start_time": "2022-06-29T19:15:43.762Z"
   },
   {
    "duration": 13,
    "start_time": "2022-06-29T19:16:27.032Z"
   },
   {
    "duration": 15,
    "start_time": "2022-06-29T19:16:28.624Z"
   },
   {
    "duration": 288,
    "start_time": "2022-06-29T19:16:39.940Z"
   },
   {
    "duration": 4,
    "start_time": "2022-06-29T19:16:45.723Z"
   },
   {
    "duration": 11,
    "start_time": "2022-06-29T19:17:06.323Z"
   },
   {
    "duration": 21,
    "start_time": "2022-06-29T19:17:22.014Z"
   },
   {
    "duration": 5,
    "start_time": "2022-06-29T19:17:35.331Z"
   },
   {
    "duration": 36,
    "start_time": "2022-06-29T19:17:43.294Z"
   },
   {
    "duration": 106,
    "start_time": "2022-06-29T19:18:04.314Z"
   },
   {
    "duration": 17,
    "start_time": "2022-06-29T19:18:35.124Z"
   },
   {
    "duration": 16,
    "start_time": "2022-06-29T19:19:08.036Z"
   },
   {
    "duration": 16,
    "start_time": "2022-06-29T19:19:37.544Z"
   },
   {
    "duration": 7,
    "start_time": "2022-06-29T19:20:10.084Z"
   },
   {
    "duration": 1172,
    "start_time": "2022-06-29T19:20:11.867Z"
   },
   {
    "duration": 17,
    "start_time": "2022-06-29T19:20:25.972Z"
   },
   {
    "duration": 12,
    "start_time": "2022-06-29T19:21:03.848Z"
   },
   {
    "duration": 10,
    "start_time": "2022-06-29T19:21:04.514Z"
   },
   {
    "duration": 12,
    "start_time": "2022-06-29T19:21:05.484Z"
   },
   {
    "duration": 288,
    "start_time": "2022-06-29T19:21:12.029Z"
   },
   {
    "duration": 27,
    "start_time": "2022-06-29T19:22:31.308Z"
   },
   {
    "duration": 11,
    "start_time": "2022-06-29T19:22:44.805Z"
   },
   {
    "duration": 13,
    "start_time": "2022-06-29T19:23:54.272Z"
   },
   {
    "duration": 16,
    "start_time": "2022-06-29T19:25:48.721Z"
   },
   {
    "duration": 15,
    "start_time": "2022-06-29T19:25:50.096Z"
   },
   {
    "duration": 30,
    "start_time": "2022-06-29T19:26:03.334Z"
   },
   {
    "duration": 14,
    "start_time": "2022-06-29T19:26:26.572Z"
   },
   {
    "duration": 6,
    "start_time": "2022-06-29T19:26:38.345Z"
   },
   {
    "duration": 18,
    "start_time": "2022-06-29T19:27:07.135Z"
   },
   {
    "duration": 13,
    "start_time": "2022-06-29T19:27:18.371Z"
   },
   {
    "duration": 14,
    "start_time": "2022-06-29T19:27:21.949Z"
   },
   {
    "duration": 14,
    "start_time": "2022-06-29T19:27:41.165Z"
   },
   {
    "duration": 13,
    "start_time": "2022-06-29T19:27:50.631Z"
   },
   {
    "duration": 11,
    "start_time": "2022-06-29T19:27:50.886Z"
   },
   {
    "duration": 14,
    "start_time": "2022-06-29T19:27:51.422Z"
   },
   {
    "duration": 295,
    "start_time": "2022-06-29T19:27:51.972Z"
   },
   {
    "duration": 3,
    "start_time": "2022-06-29T19:27:52.446Z"
   },
   {
    "duration": 15,
    "start_time": "2022-06-29T19:27:53.188Z"
   },
   {
    "duration": 17,
    "start_time": "2022-06-29T19:27:54.703Z"
   },
   {
    "duration": 2,
    "start_time": "2022-06-29T19:27:59.368Z"
   },
   {
    "duration": 18,
    "start_time": "2022-06-29T19:28:06.324Z"
   },
   {
    "duration": 15,
    "start_time": "2022-06-29T19:28:17.467Z"
   },
   {
    "duration": 11,
    "start_time": "2022-06-29T19:28:17.851Z"
   },
   {
    "duration": 16,
    "start_time": "2022-06-29T19:28:18.225Z"
   },
   {
    "duration": 292,
    "start_time": "2022-06-29T19:28:18.688Z"
   },
   {
    "duration": 4,
    "start_time": "2022-06-29T19:28:19.285Z"
   },
   {
    "duration": 10,
    "start_time": "2022-06-29T19:28:20.386Z"
   },
   {
    "duration": 17,
    "start_time": "2022-06-29T19:28:25.450Z"
   },
   {
    "duration": 17,
    "start_time": "2022-06-29T19:28:46.782Z"
   },
   {
    "duration": 11,
    "start_time": "2022-06-29T19:28:47.139Z"
   },
   {
    "duration": 15,
    "start_time": "2022-06-29T19:28:47.656Z"
   },
   {
    "duration": 286,
    "start_time": "2022-06-29T19:28:48.190Z"
   },
   {
    "duration": 3,
    "start_time": "2022-06-29T19:28:48.629Z"
   },
   {
    "duration": 11,
    "start_time": "2022-06-29T19:28:49.164Z"
   },
   {
    "duration": 28,
    "start_time": "2022-06-29T19:28:50.237Z"
   },
   {
    "duration": 42,
    "start_time": "2022-06-29T19:29:10.610Z"
   },
   {
    "duration": 326,
    "start_time": "2022-06-29T19:29:26.226Z"
   },
   {
    "duration": 78,
    "start_time": "2022-06-29T19:29:54.827Z"
   },
   {
    "duration": 63,
    "start_time": "2022-06-29T19:30:25.871Z"
   },
   {
    "duration": 28,
    "start_time": "2022-06-29T19:30:27.833Z"
   },
   {
    "duration": 3,
    "start_time": "2022-06-29T19:30:29.626Z"
   },
   {
    "duration": 49384,
    "start_time": "2022-06-29T19:30:35.874Z"
   },
   {
    "duration": 186736,
    "start_time": "2022-06-29T19:37:55.430Z"
   },
   {
    "duration": 415,
    "start_time": "2022-06-29T19:41:50.146Z"
   },
   {
    "duration": 136,
    "start_time": "2022-06-29T19:42:48.963Z"
   },
   {
    "duration": 2,
    "start_time": "2022-06-29T19:43:02.471Z"
   },
   {
    "duration": 3,
    "start_time": "2022-06-29T19:43:07.786Z"
   },
   {
    "duration": 520355,
    "start_time": "2022-06-29T19:43:10.516Z"
   },
   {
    "duration": 0,
    "start_time": "2022-06-29T19:51:50.873Z"
   },
   {
    "duration": 1340,
    "start_time": "2022-06-29T19:52:10.996Z"
   },
   {
    "duration": 1104,
    "start_time": "2022-06-29T19:52:12.338Z"
   },
   {
    "duration": 158,
    "start_time": "2022-06-29T19:52:13.444Z"
   },
   {
    "duration": 29,
    "start_time": "2022-06-29T19:52:13.604Z"
   },
   {
    "duration": 563,
    "start_time": "2022-06-29T19:52:13.636Z"
   },
   {
    "duration": 274,
    "start_time": "2022-06-29T19:52:14.202Z"
   },
   {
    "duration": 86,
    "start_time": "2022-06-29T19:52:14.478Z"
   },
   {
    "duration": 93,
    "start_time": "2022-06-29T19:52:14.566Z"
   },
   {
    "duration": 50,
    "start_time": "2022-06-29T19:52:14.661Z"
   },
   {
    "duration": 566,
    "start_time": "2022-06-29T19:52:14.712Z"
   },
   {
    "duration": 64,
    "start_time": "2022-06-29T19:52:15.280Z"
   },
   {
    "duration": 779,
    "start_time": "2022-06-29T19:52:15.346Z"
   },
   {
    "duration": 96,
    "start_time": "2022-06-29T19:52:16.127Z"
   },
   {
    "duration": 10,
    "start_time": "2022-06-29T19:52:16.225Z"
   },
   {
    "duration": 43,
    "start_time": "2022-06-29T19:52:16.237Z"
   },
   {
    "duration": 104,
    "start_time": "2022-06-29T19:52:16.282Z"
   },
   {
    "duration": 11,
    "start_time": "2022-06-29T19:52:16.388Z"
   },
   {
    "duration": 295,
    "start_time": "2022-06-29T19:52:16.401Z"
   },
   {
    "duration": 3,
    "start_time": "2022-06-29T19:52:16.698Z"
   },
   {
    "duration": 13,
    "start_time": "2022-06-29T19:52:16.704Z"
   },
   {
    "duration": 109,
    "start_time": "2022-06-29T19:52:20.211Z"
   },
   {
    "duration": 51,
    "start_time": "2022-06-29T19:52:20.792Z"
   },
   {
    "duration": 12,
    "start_time": "2022-06-29T19:52:23.331Z"
   },
   {
    "duration": 12,
    "start_time": "2022-06-29T19:52:24.292Z"
   },
   {
    "duration": 13,
    "start_time": "2022-06-29T19:52:26.252Z"
   },
   {
    "duration": 387,
    "start_time": "2022-06-29T19:52:27.162Z"
   },
   {
    "duration": 3,
    "start_time": "2022-06-29T19:52:27.675Z"
   },
   {
    "duration": 17,
    "start_time": "2022-06-29T19:52:28.454Z"
   },
   {
    "duration": 19,
    "start_time": "2022-06-29T19:52:30.319Z"
   },
   {
    "duration": 38,
    "start_time": "2022-06-29T19:52:30.968Z"
   },
   {
    "duration": 336,
    "start_time": "2022-06-29T19:52:32.373Z"
   },
   {
    "duration": 38,
    "start_time": "2022-06-29T19:52:33.836Z"
   },
   {
    "duration": 4,
    "start_time": "2022-06-29T19:52:36.469Z"
   },
   {
    "duration": 9,
    "start_time": "2022-06-29T19:52:44.263Z"
   },
   {
    "duration": 4,
    "start_time": "2022-06-29T19:53:29.168Z"
   },
   {
    "duration": 418380,
    "start_time": "2022-06-29T19:53:30.684Z"
   },
   {
    "duration": 39610,
    "start_time": "2022-06-29T20:00:29.067Z"
   },
   {
    "duration": 0,
    "start_time": "2022-06-29T20:01:08.679Z"
   },
   {
    "duration": 1493,
    "start_time": "2022-06-29T20:01:25.997Z"
   },
   {
    "duration": 994,
    "start_time": "2022-06-29T20:01:27.492Z"
   },
   {
    "duration": 119,
    "start_time": "2022-06-29T20:01:28.488Z"
   },
   {
    "duration": 37,
    "start_time": "2022-06-29T20:01:28.608Z"
   },
   {
    "duration": 420,
    "start_time": "2022-06-29T20:01:28.659Z"
   },
   {
    "duration": 274,
    "start_time": "2022-06-29T20:01:29.081Z"
   },
   {
    "duration": 80,
    "start_time": "2022-06-29T20:01:29.357Z"
   },
   {
    "duration": 124,
    "start_time": "2022-06-29T20:01:29.440Z"
   },
   {
    "duration": 53,
    "start_time": "2022-06-29T20:01:29.566Z"
   },
   {
    "duration": 566,
    "start_time": "2022-06-29T20:01:29.620Z"
   },
   {
    "duration": 79,
    "start_time": "2022-06-29T20:01:30.188Z"
   },
   {
    "duration": 803,
    "start_time": "2022-06-29T20:01:30.269Z"
   },
   {
    "duration": 66,
    "start_time": "2022-06-29T20:01:31.074Z"
   },
   {
    "duration": 24,
    "start_time": "2022-06-29T20:01:31.144Z"
   },
   {
    "duration": 25,
    "start_time": "2022-06-29T20:01:31.169Z"
   },
   {
    "duration": 85,
    "start_time": "2022-06-29T20:01:31.196Z"
   },
   {
    "duration": 12,
    "start_time": "2022-06-29T20:01:31.283Z"
   },
   {
    "duration": 322,
    "start_time": "2022-06-29T20:01:31.297Z"
   },
   {
    "duration": 2,
    "start_time": "2022-06-29T20:01:31.621Z"
   },
   {
    "duration": 11,
    "start_time": "2022-06-29T20:01:31.625Z"
   },
   {
    "duration": 12231,
    "start_time": "2022-06-29T20:01:47.484Z"
   },
   {
    "duration": 159,
    "start_time": "2022-06-29T20:02:07.217Z"
   },
   {
    "duration": 68,
    "start_time": "2022-06-29T20:02:07.692Z"
   },
   {
    "duration": 15,
    "start_time": "2022-06-29T20:02:10.033Z"
   },
   {
    "duration": 13,
    "start_time": "2022-06-29T20:02:10.813Z"
   },
   {
    "duration": 10,
    "start_time": "2022-06-29T20:02:11.749Z"
   },
   {
    "duration": 345,
    "start_time": "2022-06-29T20:02:23.014Z"
   },
   {
    "duration": 3,
    "start_time": "2022-06-29T20:02:24.295Z"
   },
   {
    "duration": 18,
    "start_time": "2022-06-29T20:02:30.923Z"
   },
   {
    "duration": 40,
    "start_time": "2022-06-29T20:02:31.442Z"
   },
   {
    "duration": 386,
    "start_time": "2022-06-29T20:02:32.457Z"
   },
   {
    "duration": 42,
    "start_time": "2022-06-29T20:02:34.925Z"
   },
   {
    "duration": 3,
    "start_time": "2022-06-29T20:02:36.053Z"
   },
   {
    "duration": 51496,
    "start_time": "2022-06-29T20:02:51.666Z"
   },
   {
    "duration": 3,
    "start_time": "2022-06-29T20:05:07.034Z"
   },
   {
    "duration": 3,
    "start_time": "2022-06-29T20:05:07.690Z"
   },
   {
    "duration": 676568,
    "start_time": "2022-06-29T20:05:08.813Z"
   },
   {
    "duration": 4,
    "start_time": "2022-06-29T20:16:34.252Z"
   },
   {
    "duration": 786569,
    "start_time": "2022-06-29T20:16:39.402Z"
   },
   {
    "duration": 6,
    "start_time": "2022-06-29T20:30:21.664Z"
   },
   {
    "duration": 5,
    "start_time": "2022-06-29T20:30:35.784Z"
   },
   {
    "duration": 1625,
    "start_time": "2022-07-01T14:50:34.634Z"
   },
   {
    "duration": 1213,
    "start_time": "2022-07-01T14:52:35.417Z"
   },
   {
    "duration": 103,
    "start_time": "2022-07-01T14:52:37.780Z"
   },
   {
    "duration": 29,
    "start_time": "2022-07-01T14:52:56.261Z"
   },
   {
    "duration": 407,
    "start_time": "2022-07-01T14:52:58.765Z"
   },
   {
    "duration": 281,
    "start_time": "2022-07-01T14:53:00.422Z"
   },
   {
    "duration": 79,
    "start_time": "2022-07-01T14:53:03.402Z"
   },
   {
    "duration": 88,
    "start_time": "2022-07-01T14:58:40.268Z"
   },
   {
    "duration": 47,
    "start_time": "2022-07-01T14:58:42.202Z"
   },
   {
    "duration": 110,
    "start_time": "2022-07-01T14:59:13.880Z"
   },
   {
    "duration": 71,
    "start_time": "2022-07-01T14:59:21.462Z"
   },
   {
    "duration": 86,
    "start_time": "2022-07-01T14:59:41.684Z"
   },
   {
    "duration": 565,
    "start_time": "2022-07-01T14:59:52.924Z"
   },
   {
    "duration": 68,
    "start_time": "2022-07-01T15:00:07.324Z"
   },
   {
    "duration": 800,
    "start_time": "2022-07-01T15:00:18.569Z"
   },
   {
    "duration": 79,
    "start_time": "2022-07-01T15:00:22.603Z"
   },
   {
    "duration": 11,
    "start_time": "2022-07-01T15:01:58.170Z"
   },
   {
    "duration": 19,
    "start_time": "2022-07-01T15:02:18.803Z"
   },
   {
    "duration": 74,
    "start_time": "2022-07-01T15:02:26.843Z"
   },
   {
    "duration": 11,
    "start_time": "2022-07-01T15:03:09.870Z"
   },
   {
    "duration": 291,
    "start_time": "2022-07-01T15:03:16.247Z"
   },
   {
    "duration": 294,
    "start_time": "2022-07-01T15:03:27.314Z"
   },
   {
    "duration": 3,
    "start_time": "2022-07-01T15:03:49.303Z"
   },
   {
    "duration": 2,
    "start_time": "2022-07-01T15:03:52.469Z"
   },
   {
    "duration": 3,
    "start_time": "2022-07-01T15:04:51.206Z"
   },
   {
    "duration": 12441,
    "start_time": "2022-07-01T15:05:05.262Z"
   },
   {
    "duration": 102,
    "start_time": "2022-07-01T15:09:44.084Z"
   },
   {
    "duration": 54,
    "start_time": "2022-07-01T15:09:45.874Z"
   },
   {
    "duration": 12,
    "start_time": "2022-07-01T15:09:59.614Z"
   },
   {
    "duration": 9,
    "start_time": "2022-07-01T15:10:38.066Z"
   },
   {
    "duration": 334,
    "start_time": "2022-07-01T15:10:41.537Z"
   },
   {
    "duration": 3,
    "start_time": "2022-07-01T15:10:43.805Z"
   },
   {
    "duration": 14,
    "start_time": "2022-07-01T15:11:09.894Z"
   },
   {
    "duration": 6,
    "start_time": "2022-07-01T15:12:36.387Z"
   },
   {
    "duration": 6,
    "start_time": "2022-07-01T15:12:54.460Z"
   },
   {
    "duration": 23,
    "start_time": "2022-07-01T15:13:26.957Z"
   },
   {
    "duration": 29,
    "start_time": "2022-07-01T15:13:52.807Z"
   },
   {
    "duration": 362,
    "start_time": "2022-07-01T15:14:16.923Z"
   },
   {
    "duration": 41,
    "start_time": "2022-07-01T15:14:18.274Z"
   },
   {
    "duration": 5,
    "start_time": "2022-07-01T15:14:24.466Z"
   },
   {
    "duration": 52131,
    "start_time": "2022-07-01T15:14:38.495Z"
   },
   {
    "duration": 1639,
    "start_time": "2022-07-01T15:21:41.626Z"
   },
   {
    "duration": 980,
    "start_time": "2022-07-01T15:21:43.267Z"
   },
   {
    "duration": 107,
    "start_time": "2022-07-01T15:21:44.249Z"
   },
   {
    "duration": 27,
    "start_time": "2022-07-01T15:21:44.358Z"
   },
   {
    "duration": 421,
    "start_time": "2022-07-01T15:21:44.386Z"
   },
   {
    "duration": 273,
    "start_time": "2022-07-01T15:21:44.809Z"
   },
   {
    "duration": 89,
    "start_time": "2022-07-01T15:21:45.084Z"
   },
   {
    "duration": 93,
    "start_time": "2022-07-01T15:21:45.175Z"
   },
   {
    "duration": 58,
    "start_time": "2022-07-01T15:21:45.270Z"
   },
   {
    "duration": 583,
    "start_time": "2022-07-01T15:21:45.330Z"
   },
   {
    "duration": 67,
    "start_time": "2022-07-01T15:21:45.915Z"
   },
   {
    "duration": 791,
    "start_time": "2022-07-01T15:21:45.984Z"
   },
   {
    "duration": 70,
    "start_time": "2022-07-01T15:21:46.777Z"
   },
   {
    "duration": 11,
    "start_time": "2022-07-01T15:21:46.848Z"
   },
   {
    "duration": 24,
    "start_time": "2022-07-01T15:21:46.860Z"
   },
   {
    "duration": 93,
    "start_time": "2022-07-01T15:21:46.886Z"
   },
   {
    "duration": 11,
    "start_time": "2022-07-01T15:21:46.981Z"
   },
   {
    "duration": 320,
    "start_time": "2022-07-01T15:21:46.993Z"
   },
   {
    "duration": 3,
    "start_time": "2022-07-01T15:21:47.316Z"
   },
   {
    "duration": 4,
    "start_time": "2022-07-01T15:21:47.327Z"
   },
   {
    "duration": 11526,
    "start_time": "2022-07-01T15:21:47.332Z"
   },
   {
    "duration": 133,
    "start_time": "2022-07-01T15:21:58.860Z"
   },
   {
    "duration": 85,
    "start_time": "2022-07-01T15:21:58.996Z"
   },
   {
    "duration": 15,
    "start_time": "2022-07-01T15:21:59.083Z"
   },
   {
    "duration": 6,
    "start_time": "2022-07-01T15:21:59.100Z"
   },
   {
    "duration": 37,
    "start_time": "2022-07-01T15:21:59.108Z"
   },
   {
    "duration": 304,
    "start_time": "2022-07-01T15:21:59.147Z"
   },
   {
    "duration": 3,
    "start_time": "2022-07-01T15:21:59.455Z"
   },
   {
    "duration": 31,
    "start_time": "2022-07-01T15:21:59.460Z"
   },
   {
    "duration": 59,
    "start_time": "2022-07-01T15:21:59.493Z"
   },
   {
    "duration": 366,
    "start_time": "2022-07-01T15:21:59.554Z"
   },
   {
    "duration": 52,
    "start_time": "2022-07-01T15:21:59.922Z"
   },
   {
    "duration": 4,
    "start_time": "2022-07-01T15:21:59.977Z"
   },
   {
    "duration": 51452,
    "start_time": "2022-07-01T15:21:59.984Z"
   },
   {
    "duration": 5450,
    "start_time": "2022-07-01T15:23:13.285Z"
   },
   {
    "duration": 492,
    "start_time": "2022-07-01T15:23:18.737Z"
   },
   {
    "duration": 3,
    "start_time": "2022-07-01T15:23:19.230Z"
   },
   {
    "duration": 2,
    "start_time": "2022-07-01T15:23:34.068Z"
   },
   {
    "duration": 3,
    "start_time": "2022-07-01T15:23:35.867Z"
   },
   {
    "duration": 42051,
    "start_time": "2022-07-01T15:23:43.988Z"
   },
   {
    "duration": 3,
    "start_time": "2022-07-01T15:24:26.041Z"
   },
   {
    "duration": 6694,
    "start_time": "2022-07-01T15:24:26.045Z"
   },
   {
    "duration": 4,
    "start_time": "2022-07-01T15:24:32.742Z"
   },
   {
    "duration": 1499,
    "start_time": "2022-07-01T15:30:22.897Z"
   },
   {
    "duration": 1003,
    "start_time": "2022-07-01T15:30:24.398Z"
   },
   {
    "duration": 106,
    "start_time": "2022-07-01T15:30:25.403Z"
   },
   {
    "duration": 39,
    "start_time": "2022-07-01T15:30:25.511Z"
   },
   {
    "duration": 482,
    "start_time": "2022-07-01T15:30:25.552Z"
   },
   {
    "duration": 291,
    "start_time": "2022-07-01T15:30:26.037Z"
   },
   {
    "duration": 83,
    "start_time": "2022-07-01T15:30:26.330Z"
   },
   {
    "duration": 98,
    "start_time": "2022-07-01T15:30:26.415Z"
   },
   {
    "duration": 62,
    "start_time": "2022-07-01T15:30:26.515Z"
   },
   {
    "duration": 608,
    "start_time": "2022-07-01T15:30:26.580Z"
   },
   {
    "duration": 75,
    "start_time": "2022-07-01T15:30:27.189Z"
   },
   {
    "duration": 923,
    "start_time": "2022-07-01T15:30:27.265Z"
   },
   {
    "duration": 70,
    "start_time": "2022-07-01T15:30:28.190Z"
   },
   {
    "duration": 21,
    "start_time": "2022-07-01T15:30:28.261Z"
   },
   {
    "duration": 37,
    "start_time": "2022-07-01T15:30:28.283Z"
   },
   {
    "duration": 72,
    "start_time": "2022-07-01T15:30:28.322Z"
   },
   {
    "duration": 14,
    "start_time": "2022-07-01T15:30:28.396Z"
   },
   {
    "duration": 372,
    "start_time": "2022-07-01T15:30:28.412Z"
   },
   {
    "duration": 3,
    "start_time": "2022-07-01T15:30:28.786Z"
   },
   {
    "duration": 11,
    "start_time": "2022-07-01T15:30:28.791Z"
   },
   {
    "duration": 12425,
    "start_time": "2022-07-01T15:30:28.808Z"
   },
   {
    "duration": 130,
    "start_time": "2022-07-01T15:30:41.235Z"
   },
   {
    "duration": 68,
    "start_time": "2022-07-01T15:30:41.368Z"
   },
   {
    "duration": 18,
    "start_time": "2022-07-01T15:30:41.438Z"
   },
   {
    "duration": 8,
    "start_time": "2022-07-01T15:30:41.459Z"
   },
   {
    "duration": 16,
    "start_time": "2022-07-01T15:30:41.469Z"
   },
   {
    "duration": 395,
    "start_time": "2022-07-01T15:30:41.488Z"
   },
   {
    "duration": 3,
    "start_time": "2022-07-01T15:30:41.886Z"
   },
   {
    "duration": 30,
    "start_time": "2022-07-01T15:30:41.890Z"
   },
   {
    "duration": 32,
    "start_time": "2022-07-01T15:30:41.927Z"
   },
   {
    "duration": 380,
    "start_time": "2022-07-01T15:30:41.961Z"
   },
   {
    "duration": 45,
    "start_time": "2022-07-01T15:30:42.343Z"
   },
   {
    "duration": 3,
    "start_time": "2022-07-01T15:30:42.390Z"
   },
   {
    "duration": 51236,
    "start_time": "2022-07-01T15:30:42.394Z"
   },
   {
    "duration": 140092,
    "start_time": "2022-07-01T15:31:33.632Z"
   },
   {
    "duration": 53,
    "start_time": "2022-07-01T15:33:53.726Z"
   },
   {
    "duration": 10,
    "start_time": "2022-07-01T15:33:53.781Z"
   },
   {
    "duration": 0,
    "start_time": "2022-07-01T15:33:53.793Z"
   },
   {
    "duration": 0,
    "start_time": "2022-07-01T15:33:53.794Z"
   },
   {
    "duration": 0,
    "start_time": "2022-07-01T15:33:53.795Z"
   },
   {
    "duration": 0,
    "start_time": "2022-07-01T15:33:53.796Z"
   },
   {
    "duration": 0,
    "start_time": "2022-07-01T15:33:53.797Z"
   },
   {
    "duration": 0,
    "start_time": "2022-07-01T15:33:53.798Z"
   },
   {
    "duration": 1544,
    "start_time": "2022-07-01T15:35:20.377Z"
   },
   {
    "duration": 1037,
    "start_time": "2022-07-01T15:35:21.923Z"
   },
   {
    "duration": 109,
    "start_time": "2022-07-01T15:35:22.961Z"
   },
   {
    "duration": 28,
    "start_time": "2022-07-01T15:35:23.072Z"
   },
   {
    "duration": 438,
    "start_time": "2022-07-01T15:35:23.101Z"
   },
   {
    "duration": 283,
    "start_time": "2022-07-01T15:35:23.540Z"
   },
   {
    "duration": 82,
    "start_time": "2022-07-01T15:35:23.826Z"
   },
   {
    "duration": 92,
    "start_time": "2022-07-01T15:35:23.910Z"
   },
   {
    "duration": 67,
    "start_time": "2022-07-01T15:35:24.004Z"
   },
   {
    "duration": 586,
    "start_time": "2022-07-01T15:35:24.074Z"
   },
   {
    "duration": 77,
    "start_time": "2022-07-01T15:35:24.662Z"
   },
   {
    "duration": 822,
    "start_time": "2022-07-01T15:35:24.743Z"
   },
   {
    "duration": 73,
    "start_time": "2022-07-01T15:35:25.567Z"
   },
   {
    "duration": 11,
    "start_time": "2022-07-01T15:35:25.643Z"
   },
   {
    "duration": 28,
    "start_time": "2022-07-01T15:35:25.656Z"
   },
   {
    "duration": 108,
    "start_time": "2022-07-01T15:35:25.687Z"
   },
   {
    "duration": 12,
    "start_time": "2022-07-01T15:35:25.798Z"
   },
   {
    "duration": 324,
    "start_time": "2022-07-01T15:35:25.827Z"
   },
   {
    "duration": 3,
    "start_time": "2022-07-01T15:35:26.153Z"
   },
   {
    "duration": 12,
    "start_time": "2022-07-01T15:35:26.158Z"
   },
   {
    "duration": 12241,
    "start_time": "2022-07-01T15:35:26.171Z"
   },
   {
    "duration": 114,
    "start_time": "2022-07-01T15:35:38.414Z"
   },
   {
    "duration": 53,
    "start_time": "2022-07-01T15:35:38.530Z"
   },
   {
    "duration": 15,
    "start_time": "2022-07-01T15:35:38.585Z"
   },
   {
    "duration": 6,
    "start_time": "2022-07-01T15:35:38.601Z"
   },
   {
    "duration": 11,
    "start_time": "2022-07-01T15:35:38.628Z"
   },
   {
    "duration": 333,
    "start_time": "2022-07-01T15:35:38.641Z"
   },
   {
    "duration": 3,
    "start_time": "2022-07-01T15:35:38.978Z"
   },
   {
    "duration": 39,
    "start_time": "2022-07-01T15:35:38.982Z"
   },
   {
    "duration": 31,
    "start_time": "2022-07-01T15:35:39.023Z"
   },
   {
    "duration": 366,
    "start_time": "2022-07-01T15:35:39.056Z"
   },
   {
    "duration": 41,
    "start_time": "2022-07-01T15:35:39.424Z"
   },
   {
    "duration": 4,
    "start_time": "2022-07-01T15:35:39.466Z"
   },
   {
    "duration": 13051,
    "start_time": "2022-07-01T15:36:03.461Z"
   },
   {
    "duration": 1607,
    "start_time": "2022-07-01T15:36:30.310Z"
   },
   {
    "duration": 995,
    "start_time": "2022-07-01T15:36:31.919Z"
   },
   {
    "duration": 111,
    "start_time": "2022-07-01T15:36:32.916Z"
   },
   {
    "duration": 28,
    "start_time": "2022-07-01T15:36:33.029Z"
   },
   {
    "duration": 432,
    "start_time": "2022-07-01T15:36:33.059Z"
   },
   {
    "duration": 274,
    "start_time": "2022-07-01T15:36:33.492Z"
   },
   {
    "duration": 87,
    "start_time": "2022-07-01T15:36:33.767Z"
   },
   {
    "duration": 93,
    "start_time": "2022-07-01T15:36:33.856Z"
   },
   {
    "duration": 50,
    "start_time": "2022-07-01T15:36:33.951Z"
   },
   {
    "duration": 539,
    "start_time": "2022-07-01T15:36:34.004Z"
   },
   {
    "duration": 63,
    "start_time": "2022-07-01T15:36:34.545Z"
   },
   {
    "duration": 769,
    "start_time": "2022-07-01T15:36:34.610Z"
   },
   {
    "duration": 68,
    "start_time": "2022-07-01T15:36:35.381Z"
   },
   {
    "duration": 12,
    "start_time": "2022-07-01T15:36:35.451Z"
   },
   {
    "duration": 21,
    "start_time": "2022-07-01T15:36:35.465Z"
   },
   {
    "duration": 87,
    "start_time": "2022-07-01T15:36:35.488Z"
   },
   {
    "duration": 10,
    "start_time": "2022-07-01T15:36:35.577Z"
   },
   {
    "duration": 329,
    "start_time": "2022-07-01T15:36:35.589Z"
   },
   {
    "duration": 3,
    "start_time": "2022-07-01T15:36:35.919Z"
   },
   {
    "duration": 5,
    "start_time": "2022-07-01T15:36:35.926Z"
   },
   {
    "duration": 11300,
    "start_time": "2022-07-01T15:36:35.932Z"
   },
   {
    "duration": 113,
    "start_time": "2022-07-01T15:36:47.234Z"
   },
   {
    "duration": 52,
    "start_time": "2022-07-01T15:36:47.348Z"
   },
   {
    "duration": 26,
    "start_time": "2022-07-01T15:36:47.401Z"
   },
   {
    "duration": 4,
    "start_time": "2022-07-01T15:36:47.429Z"
   },
   {
    "duration": 12,
    "start_time": "2022-07-01T15:36:47.435Z"
   },
   {
    "duration": 304,
    "start_time": "2022-07-01T15:36:47.449Z"
   },
   {
    "duration": 3,
    "start_time": "2022-07-01T15:36:47.756Z"
   },
   {
    "duration": 40,
    "start_time": "2022-07-01T15:36:47.760Z"
   },
   {
    "duration": 29,
    "start_time": "2022-07-01T15:36:47.801Z"
   },
   {
    "duration": 336,
    "start_time": "2022-07-01T15:36:47.832Z"
   },
   {
    "duration": 37,
    "start_time": "2022-07-01T15:36:48.170Z"
   },
   {
    "duration": 3,
    "start_time": "2022-07-01T15:36:48.209Z"
   },
   {
    "duration": 4,
    "start_time": "2022-07-01T15:37:02.360Z"
   },
   {
    "duration": 104,
    "start_time": "2022-07-01T15:37:10.328Z"
   },
   {
    "duration": 89253,
    "start_time": "2022-07-01T15:37:26.183Z"
   },
   {
    "duration": 22,
    "start_time": "2022-07-01T17:08:30.191Z"
   },
   {
    "duration": 931,
    "start_time": "2022-07-01T17:08:32.443Z"
   },
   {
    "duration": 102,
    "start_time": "2022-07-01T17:08:33.376Z"
   },
   {
    "duration": 22,
    "start_time": "2022-07-01T17:08:33.695Z"
   },
   {
    "duration": 338,
    "start_time": "2022-07-01T17:08:34.071Z"
   },
   {
    "duration": 231,
    "start_time": "2022-07-01T17:08:34.548Z"
   },
   {
    "duration": 84,
    "start_time": "2022-07-01T17:08:35.044Z"
   },
   {
    "duration": 77,
    "start_time": "2022-07-01T17:08:37.239Z"
   },
   {
    "duration": 50,
    "start_time": "2022-07-01T17:08:37.944Z"
   },
   {
    "duration": 539,
    "start_time": "2022-07-01T17:08:39.095Z"
   },
   {
    "duration": 54,
    "start_time": "2022-07-01T17:08:40.127Z"
   },
   {
    "duration": 679,
    "start_time": "2022-07-01T17:08:40.792Z"
   },
   {
    "duration": 91,
    "start_time": "2022-07-01T17:08:41.473Z"
   },
   {
    "duration": 11,
    "start_time": "2022-07-01T17:08:43.731Z"
   },
   {
    "duration": 19,
    "start_time": "2022-07-01T17:08:44.407Z"
   },
   {
    "duration": 69,
    "start_time": "2022-07-01T17:08:45.248Z"
   },
   {
    "duration": 14,
    "start_time": "2022-07-01T17:08:45.819Z"
   },
   {
    "duration": 291,
    "start_time": "2022-07-01T17:08:46.360Z"
   },
   {
    "duration": 3,
    "start_time": "2022-07-01T17:08:47.131Z"
   },
   {
    "duration": 3,
    "start_time": "2022-07-01T17:08:50.207Z"
   },
   {
    "duration": 10929,
    "start_time": "2022-07-01T17:08:53.999Z"
   },
   {
    "duration": 118,
    "start_time": "2022-07-01T17:09:27.203Z"
   },
   {
    "duration": 52,
    "start_time": "2022-07-01T17:09:28.247Z"
   },
   {
    "duration": 11,
    "start_time": "2022-07-01T17:09:30.348Z"
   },
   {
    "duration": 5,
    "start_time": "2022-07-01T17:09:31.103Z"
   },
   {
    "duration": 12,
    "start_time": "2022-07-01T17:09:32.855Z"
   },
   {
    "duration": 296,
    "start_time": "2022-07-01T17:09:33.613Z"
   },
   {
    "duration": 3,
    "start_time": "2022-07-01T17:09:34.049Z"
   },
   {
    "duration": 24,
    "start_time": "2022-07-01T17:09:34.519Z"
   },
   {
    "duration": 29,
    "start_time": "2022-07-01T17:09:35.243Z"
   },
   {
    "duration": 322,
    "start_time": "2022-07-01T17:09:35.931Z"
   },
   {
    "duration": 42,
    "start_time": "2022-07-01T17:09:36.603Z"
   },
   {
    "duration": 70,
    "start_time": "2022-07-01T17:09:37.823Z"
   },
   {
    "duration": 52260,
    "start_time": "2022-07-01T17:09:41.303Z"
   },
   {
    "duration": 1446,
    "start_time": "2022-07-01T17:44:04.623Z"
   },
   {
    "duration": 1009,
    "start_time": "2022-07-01T17:44:06.071Z"
   },
   {
    "duration": 133,
    "start_time": "2022-07-01T17:44:07.082Z"
   },
   {
    "duration": 44,
    "start_time": "2022-07-01T17:44:07.218Z"
   },
   {
    "duration": 462,
    "start_time": "2022-07-01T17:44:07.264Z"
   },
   {
    "duration": 267,
    "start_time": "2022-07-01T17:44:07.728Z"
   },
   {
    "duration": 84,
    "start_time": "2022-07-01T17:44:07.997Z"
   },
   {
    "duration": 99,
    "start_time": "2022-07-01T17:44:08.083Z"
   },
   {
    "duration": 56,
    "start_time": "2022-07-01T17:44:08.184Z"
   },
   {
    "duration": 575,
    "start_time": "2022-07-01T17:44:08.242Z"
   },
   {
    "duration": 70,
    "start_time": "2022-07-01T17:44:08.818Z"
   },
   {
    "duration": 796,
    "start_time": "2022-07-01T17:44:08.890Z"
   },
   {
    "duration": 74,
    "start_time": "2022-07-01T17:44:09.687Z"
   },
   {
    "duration": 32,
    "start_time": "2022-07-01T17:44:09.762Z"
   },
   {
    "duration": 26,
    "start_time": "2022-07-01T17:44:09.796Z"
   },
   {
    "duration": 91,
    "start_time": "2022-07-01T17:44:09.824Z"
   },
   {
    "duration": 11,
    "start_time": "2022-07-01T17:44:09.917Z"
   },
   {
    "duration": 309,
    "start_time": "2022-07-01T17:44:09.930Z"
   },
   {
    "duration": 3,
    "start_time": "2022-07-01T17:44:10.241Z"
   },
   {
    "duration": 39,
    "start_time": "2022-07-01T17:44:10.246Z"
   },
   {
    "duration": 12074,
    "start_time": "2022-07-01T17:44:10.287Z"
   },
   {
    "duration": 109,
    "start_time": "2022-07-01T17:44:22.362Z"
   },
   {
    "duration": 58,
    "start_time": "2022-07-01T17:44:22.473Z"
   },
   {
    "duration": 12,
    "start_time": "2022-07-01T17:44:22.533Z"
   },
   {
    "duration": 4,
    "start_time": "2022-07-01T17:44:22.547Z"
   },
   {
    "duration": 11,
    "start_time": "2022-07-01T17:44:22.553Z"
   },
   {
    "duration": 324,
    "start_time": "2022-07-01T17:44:22.567Z"
   },
   {
    "duration": 3,
    "start_time": "2022-07-01T17:44:22.894Z"
   },
   {
    "duration": 34,
    "start_time": "2022-07-01T17:44:22.899Z"
   },
   {
    "duration": 31,
    "start_time": "2022-07-01T17:44:22.935Z"
   },
   {
    "duration": 371,
    "start_time": "2022-07-01T17:44:22.968Z"
   },
   {
    "duration": 36,
    "start_time": "2022-07-01T17:44:23.341Z"
   },
   {
    "duration": 4,
    "start_time": "2022-07-01T17:45:08.202Z"
   },
   {
    "duration": 42,
    "start_time": "2022-07-01T17:45:39.409Z"
   },
   {
    "duration": 4,
    "start_time": "2022-07-01T17:45:41.089Z"
   },
   {
    "duration": 215880,
    "start_time": "2022-07-01T17:45:43.810Z"
   },
   {
    "duration": 1615,
    "start_time": "2022-07-01T17:49:31.568Z"
   },
   {
    "duration": 1047,
    "start_time": "2022-07-01T17:49:33.185Z"
   },
   {
    "duration": 118,
    "start_time": "2022-07-01T17:49:34.233Z"
   },
   {
    "duration": 35,
    "start_time": "2022-07-01T17:49:34.354Z"
   },
   {
    "duration": 455,
    "start_time": "2022-07-01T17:49:34.391Z"
   },
   {
    "duration": 297,
    "start_time": "2022-07-01T17:49:34.848Z"
   },
   {
    "duration": 87,
    "start_time": "2022-07-01T17:49:35.147Z"
   },
   {
    "duration": 84,
    "start_time": "2022-07-01T17:49:35.235Z"
   },
   {
    "duration": 53,
    "start_time": "2022-07-01T17:49:35.326Z"
   },
   {
    "duration": 609,
    "start_time": "2022-07-01T17:49:35.382Z"
   },
   {
    "duration": 77,
    "start_time": "2022-07-01T17:49:35.993Z"
   },
   {
    "duration": 842,
    "start_time": "2022-07-01T17:49:36.071Z"
   },
   {
    "duration": 76,
    "start_time": "2022-07-01T17:49:36.915Z"
   },
   {
    "duration": 12,
    "start_time": "2022-07-01T17:49:36.993Z"
   },
   {
    "duration": 48,
    "start_time": "2022-07-01T17:49:37.007Z"
   },
   {
    "duration": 83,
    "start_time": "2022-07-01T17:49:37.057Z"
   },
   {
    "duration": 14,
    "start_time": "2022-07-01T17:49:37.142Z"
   },
   {
    "duration": 377,
    "start_time": "2022-07-01T17:49:37.158Z"
   },
   {
    "duration": 3,
    "start_time": "2022-07-01T17:49:37.539Z"
   },
   {
    "duration": 30,
    "start_time": "2022-07-01T17:49:37.545Z"
   },
   {
    "duration": 12214,
    "start_time": "2022-07-01T17:49:37.577Z"
   },
   {
    "duration": 112,
    "start_time": "2022-07-01T17:49:49.792Z"
   },
   {
    "duration": 68,
    "start_time": "2022-07-01T17:49:49.906Z"
   },
   {
    "duration": 11,
    "start_time": "2022-07-01T17:49:49.975Z"
   },
   {
    "duration": 6,
    "start_time": "2022-07-01T17:49:49.988Z"
   },
   {
    "duration": 31,
    "start_time": "2022-07-01T17:49:49.996Z"
   },
   {
    "duration": 307,
    "start_time": "2022-07-01T17:49:50.030Z"
   },
   {
    "duration": 3,
    "start_time": "2022-07-01T17:49:50.343Z"
   },
   {
    "duration": 26,
    "start_time": "2022-07-01T17:49:50.348Z"
   },
   {
    "duration": 29,
    "start_time": "2022-07-01T17:49:50.376Z"
   },
   {
    "duration": 405,
    "start_time": "2022-07-01T17:49:50.407Z"
   },
   {
    "duration": 41,
    "start_time": "2022-07-01T17:49:50.814Z"
   },
   {
    "duration": 5,
    "start_time": "2022-07-01T17:49:50.856Z"
   },
   {
    "duration": 1572,
    "start_time": "2022-07-01T17:57:14.595Z"
   },
   {
    "duration": 986,
    "start_time": "2022-07-01T17:57:16.169Z"
   },
   {
    "duration": 136,
    "start_time": "2022-07-01T17:57:17.157Z"
   },
   {
    "duration": 40,
    "start_time": "2022-07-01T17:57:17.294Z"
   },
   {
    "duration": 437,
    "start_time": "2022-07-01T17:57:17.336Z"
   },
   {
    "duration": 265,
    "start_time": "2022-07-01T17:57:17.775Z"
   },
   {
    "duration": 89,
    "start_time": "2022-07-01T17:57:18.042Z"
   },
   {
    "duration": 81,
    "start_time": "2022-07-01T17:57:18.132Z"
   },
   {
    "duration": 57,
    "start_time": "2022-07-01T17:57:18.215Z"
   },
   {
    "duration": 560,
    "start_time": "2022-07-01T17:57:18.274Z"
   },
   {
    "duration": 60,
    "start_time": "2022-07-01T17:57:18.835Z"
   },
   {
    "duration": 816,
    "start_time": "2022-07-01T17:57:18.898Z"
   },
   {
    "duration": 75,
    "start_time": "2022-07-01T17:57:19.716Z"
   },
   {
    "duration": 12,
    "start_time": "2022-07-01T17:57:19.795Z"
   },
   {
    "duration": 44,
    "start_time": "2022-07-01T17:57:19.809Z"
   },
   {
    "duration": 98,
    "start_time": "2022-07-01T17:57:19.855Z"
   },
   {
    "duration": 16,
    "start_time": "2022-07-01T17:57:19.955Z"
   },
   {
    "duration": 362,
    "start_time": "2022-07-01T17:57:19.973Z"
   },
   {
    "duration": 2,
    "start_time": "2022-07-01T17:57:20.337Z"
   },
   {
    "duration": 6,
    "start_time": "2022-07-01T17:57:20.341Z"
   },
   {
    "duration": 11798,
    "start_time": "2022-07-01T17:57:20.348Z"
   },
   {
    "duration": 118,
    "start_time": "2022-07-01T17:57:32.148Z"
   },
   {
    "duration": 59,
    "start_time": "2022-07-01T17:57:32.268Z"
   },
   {
    "duration": 11,
    "start_time": "2022-07-01T17:57:32.329Z"
   },
   {
    "duration": 6,
    "start_time": "2022-07-01T17:57:32.341Z"
   },
   {
    "duration": 13,
    "start_time": "2022-07-01T17:57:32.348Z"
   },
   {
    "duration": 317,
    "start_time": "2022-07-01T17:57:32.363Z"
   },
   {
    "duration": 3,
    "start_time": "2022-07-01T17:57:32.682Z"
   },
   {
    "duration": 32,
    "start_time": "2022-07-01T17:57:32.686Z"
   },
   {
    "duration": 35,
    "start_time": "2022-07-01T17:57:32.720Z"
   },
   {
    "duration": 347,
    "start_time": "2022-07-01T17:57:32.757Z"
   },
   {
    "duration": 41,
    "start_time": "2022-07-01T17:57:33.106Z"
   },
   {
    "duration": 4,
    "start_time": "2022-07-01T17:57:33.149Z"
   },
   {
    "duration": 6,
    "start_time": "2022-07-01T17:57:33.154Z"
   },
   {
    "duration": 4,
    "start_time": "2022-07-01T17:57:56.647Z"
   },
   {
    "duration": 8700,
    "start_time": "2022-07-01T18:04:00.128Z"
   },
   {
    "duration": 6001,
    "start_time": "2022-07-01T18:04:08.830Z"
   },
   {
    "duration": 900,
    "start_time": "2022-07-01T18:04:14.836Z"
   },
   {
    "duration": 100,
    "start_time": "2022-07-01T18:04:15.739Z"
   },
   {
    "duration": 3191,
    "start_time": "2022-07-01T18:04:15.844Z"
   },
   {
    "duration": 1789,
    "start_time": "2022-07-01T18:04:19.042Z"
   },
   {
    "duration": 720,
    "start_time": "2022-07-01T18:04:20.833Z"
   },
   {
    "duration": 674,
    "start_time": "2022-07-01T18:04:21.558Z"
   },
   {
    "duration": 311,
    "start_time": "2022-07-01T18:04:22.234Z"
   },
   {
    "duration": 3088,
    "start_time": "2022-07-01T18:04:22.549Z"
   },
   {
    "duration": 394,
    "start_time": "2022-07-01T18:04:25.639Z"
   },
   {
    "duration": 4700,
    "start_time": "2022-07-01T18:04:26.035Z"
   },
   {
    "duration": 601,
    "start_time": "2022-07-01T18:04:30.738Z"
   },
   {
    "duration": 189,
    "start_time": "2022-07-01T18:04:31.350Z"
   },
   {
    "duration": 197,
    "start_time": "2022-07-01T18:04:31.543Z"
   },
   {
    "duration": 694,
    "start_time": "2022-07-01T18:04:31.742Z"
   },
   {
    "duration": 89,
    "start_time": "2022-07-01T18:04:32.438Z"
   },
   {
    "duration": 2501,
    "start_time": "2022-07-01T18:04:32.535Z"
   },
   {
    "duration": 84,
    "start_time": "2022-07-01T18:04:35.045Z"
   },
   {
    "duration": 294,
    "start_time": "2022-07-01T18:04:35.133Z"
   },
   {
    "duration": 85102,
    "start_time": "2022-07-01T18:04:35.428Z"
   },
   {
    "duration": 708,
    "start_time": "2022-07-01T18:06:00.533Z"
   },
   {
    "duration": 508,
    "start_time": "2022-07-01T18:06:01.243Z"
   },
   {
    "duration": 95,
    "start_time": "2022-07-01T18:06:01.753Z"
   },
   {
    "duration": 12,
    "start_time": "2022-07-01T18:06:01.939Z"
   },
   {
    "duration": 299,
    "start_time": "2022-07-01T18:06:01.952Z"
   },
   {
    "duration": 679,
    "start_time": "2022-07-01T18:06:02.253Z"
   },
   {
    "duration": 3,
    "start_time": "2022-07-01T18:06:02.936Z"
   },
   {
    "duration": 588,
    "start_time": "2022-07-01T18:06:02.944Z"
   },
   {
    "duration": 196,
    "start_time": "2022-07-01T18:06:03.533Z"
   },
   {
    "duration": 2710,
    "start_time": "2022-07-01T18:06:03.735Z"
   },
   {
    "duration": 202,
    "start_time": "2022-07-01T18:06:06.532Z"
   },
   {
    "duration": 97,
    "start_time": "2022-07-01T18:06:06.739Z"
   },
   {
    "duration": 4,
    "start_time": "2022-07-01T18:06:06.838Z"
   },
   {
    "duration": 195,
    "start_time": "2022-07-01T18:06:22.967Z"
   },
   {
    "duration": 4,
    "start_time": "2022-07-01T18:06:31.167Z"
   },
   {
    "duration": 220799,
    "start_time": "2022-07-01T18:06:38.227Z"
   },
   {
    "duration": 4,
    "start_time": "2022-07-01T18:29:46.337Z"
   },
   {
    "duration": 4,
    "start_time": "2022-07-01T18:29:54.050Z"
   },
   {
    "duration": 983,
    "start_time": "2022-07-01T18:29:55.559Z"
   },
   {
    "duration": 100,
    "start_time": "2022-07-01T18:29:59.088Z"
   },
   {
    "duration": 28,
    "start_time": "2022-07-01T18:30:00.308Z"
   },
   {
    "duration": 434,
    "start_time": "2022-07-01T18:30:00.949Z"
   },
   {
    "duration": 272,
    "start_time": "2022-07-01T18:30:01.690Z"
   },
   {
    "duration": 84,
    "start_time": "2022-07-01T18:30:02.300Z"
   },
   {
    "duration": 83,
    "start_time": "2022-07-01T18:30:04.081Z"
   },
   {
    "duration": 54,
    "start_time": "2022-07-01T18:30:04.521Z"
   },
   {
    "duration": 591,
    "start_time": "2022-07-01T18:30:05.456Z"
   },
   {
    "duration": 70,
    "start_time": "2022-07-01T18:30:06.425Z"
   },
   {
    "duration": 777,
    "start_time": "2022-07-01T18:30:06.980Z"
   },
   {
    "duration": 77,
    "start_time": "2022-07-01T18:30:07.759Z"
   },
   {
    "duration": 11,
    "start_time": "2022-07-01T18:30:09.138Z"
   },
   {
    "duration": 23,
    "start_time": "2022-07-01T18:30:09.759Z"
   },
   {
    "duration": 83,
    "start_time": "2022-07-01T18:30:10.378Z"
   },
   {
    "duration": 12,
    "start_time": "2022-07-01T18:30:11.205Z"
   },
   {
    "duration": 302,
    "start_time": "2022-07-01T18:30:11.697Z"
   },
   {
    "duration": 2,
    "start_time": "2022-07-01T18:30:12.198Z"
   },
   {
    "duration": 2,
    "start_time": "2022-07-01T18:30:12.825Z"
   },
   {
    "duration": 11006,
    "start_time": "2022-07-01T18:30:13.405Z"
   },
   {
    "duration": 103,
    "start_time": "2022-07-01T18:30:24.413Z"
   },
   {
    "duration": 52,
    "start_time": "2022-07-01T18:30:24.527Z"
   },
   {
    "duration": 34,
    "start_time": "2022-07-01T18:30:24.581Z"
   },
   {
    "duration": 31,
    "start_time": "2022-07-01T18:30:24.617Z"
   },
   {
    "duration": 33,
    "start_time": "2022-07-01T18:30:24.650Z"
   },
   {
    "duration": 319,
    "start_time": "2022-07-01T18:30:24.685Z"
   },
   {
    "duration": 4,
    "start_time": "2022-07-01T18:30:25.005Z"
   },
   {
    "duration": 25,
    "start_time": "2022-07-01T18:30:25.119Z"
   },
   {
    "duration": 28,
    "start_time": "2022-07-01T18:30:26.343Z"
   },
   {
    "duration": 349,
    "start_time": "2022-07-01T18:30:27.558Z"
   },
   {
    "duration": 37,
    "start_time": "2022-07-01T18:30:27.968Z"
   },
   {
    "duration": 3,
    "start_time": "2022-07-01T18:30:41.982Z"
   },
   {
    "duration": 108909,
    "start_time": "2022-07-01T18:30:43.584Z"
   },
   {
    "duration": 3,
    "start_time": "2022-07-01T18:37:31.158Z"
   },
   {
    "duration": 4,
    "start_time": "2022-07-01T18:37:43.659Z"
   },
   {
    "duration": 748,
    "start_time": "2022-07-01T18:38:11.998Z"
   },
   {
    "duration": 5,
    "start_time": "2022-07-01T18:38:21.390Z"
   },
   {
    "duration": 4,
    "start_time": "2022-07-01T18:38:29.618Z"
   },
   {
    "duration": 4,
    "start_time": "2022-07-01T18:38:46.786Z"
   },
   {
    "duration": 4,
    "start_time": "2022-07-01T18:38:50.089Z"
   },
   {
    "duration": 33023,
    "start_time": "2022-07-01T18:38:51.818Z"
   },
   {
    "duration": 7,
    "start_time": "2022-07-01T18:40:27.858Z"
   },
   {
    "duration": 1046,
    "start_time": "2022-07-01T18:40:27.868Z"
   },
   {
    "duration": 112,
    "start_time": "2022-07-01T18:40:28.916Z"
   },
   {
    "duration": 20,
    "start_time": "2022-07-01T18:40:29.030Z"
   },
   {
    "duration": 365,
    "start_time": "2022-07-01T18:40:29.052Z"
   },
   {
    "duration": 222,
    "start_time": "2022-07-01T18:40:29.419Z"
   },
   {
    "duration": 93,
    "start_time": "2022-07-01T18:40:29.643Z"
   },
   {
    "duration": 93,
    "start_time": "2022-07-01T18:40:29.737Z"
   },
   {
    "duration": 51,
    "start_time": "2022-07-01T18:40:29.832Z"
   },
   {
    "duration": 582,
    "start_time": "2022-07-01T18:40:29.885Z"
   },
   {
    "duration": 75,
    "start_time": "2022-07-01T18:40:30.470Z"
   },
   {
    "duration": 735,
    "start_time": "2022-07-01T18:40:30.547Z"
   },
   {
    "duration": 72,
    "start_time": "2022-07-01T18:40:31.284Z"
   },
   {
    "duration": 18,
    "start_time": "2022-07-01T18:40:31.359Z"
   },
   {
    "duration": 56,
    "start_time": "2022-07-01T18:40:31.379Z"
   },
   {
    "duration": 102,
    "start_time": "2022-07-01T18:40:31.437Z"
   },
   {
    "duration": 19,
    "start_time": "2022-07-01T18:40:31.542Z"
   },
   {
    "duration": 411,
    "start_time": "2022-07-01T18:40:31.564Z"
   },
   {
    "duration": 4,
    "start_time": "2022-07-01T18:40:31.977Z"
   },
   {
    "duration": 10,
    "start_time": "2022-07-01T18:40:31.982Z"
   },
   {
    "duration": 11727,
    "start_time": "2022-07-01T18:40:31.994Z"
   },
   {
    "duration": 90,
    "start_time": "2022-07-01T18:40:43.722Z"
   },
   {
    "duration": 65,
    "start_time": "2022-07-01T18:40:43.814Z"
   },
   {
    "duration": 11,
    "start_time": "2022-07-01T18:40:43.881Z"
   },
   {
    "duration": 34,
    "start_time": "2022-07-01T18:40:43.894Z"
   },
   {
    "duration": 12,
    "start_time": "2022-07-01T18:40:43.930Z"
   },
   {
    "duration": 357,
    "start_time": "2022-07-01T18:40:43.944Z"
   },
   {
    "duration": 4,
    "start_time": "2022-07-01T18:40:44.304Z"
   },
   {
    "duration": 36,
    "start_time": "2022-07-01T18:40:44.310Z"
   },
   {
    "duration": 29,
    "start_time": "2022-07-01T18:40:44.350Z"
   },
   {
    "duration": 377,
    "start_time": "2022-07-01T18:40:44.380Z"
   },
   {
    "duration": 37,
    "start_time": "2022-07-01T18:40:44.758Z"
   },
   {
    "duration": 3,
    "start_time": "2022-07-01T18:40:44.797Z"
   },
   {
    "duration": 27,
    "start_time": "2022-07-01T18:40:44.802Z"
   },
   {
    "duration": 6,
    "start_time": "2022-07-01T18:40:49.556Z"
   },
   {
    "duration": 690070,
    "start_time": "2022-07-01T18:40:53.585Z"
   },
   {
    "duration": 4,
    "start_time": "2022-07-01T18:56:59.919Z"
   },
   {
    "duration": 5,
    "start_time": "2022-07-01T18:59:17.868Z"
   },
   {
    "duration": 1866,
    "start_time": "2022-07-01T18:59:27.097Z"
   },
   {
    "duration": 5,
    "start_time": "2022-07-01T18:59:45.857Z"
   },
   {
    "duration": 52,
    "start_time": "2022-07-01T19:01:57.968Z"
   },
   {
    "duration": 831,
    "start_time": "2022-07-01T19:02:04.624Z"
   },
   {
    "duration": 1573,
    "start_time": "2022-07-01T19:02:23.385Z"
   },
   {
    "duration": 54,
    "start_time": "2022-07-01T19:03:05.009Z"
   },
   {
    "duration": 835,
    "start_time": "2022-07-01T19:03:08.296Z"
   },
   {
    "duration": 9,
    "start_time": "2022-07-01T19:04:52.339Z"
   },
   {
    "duration": 4,
    "start_time": "2022-07-01T19:06:30.547Z"
   },
   {
    "duration": 57,
    "start_time": "2022-07-01T19:07:07.167Z"
   },
   {
    "duration": 737,
    "start_time": "2022-07-01T19:07:12.998Z"
   },
   {
    "duration": 627,
    "start_time": "2022-07-01T19:07:20.806Z"
   },
   {
    "duration": 803,
    "start_time": "2022-07-01T19:07:35.628Z"
   },
   {
    "duration": 4,
    "start_time": "2022-07-01T19:07:58.938Z"
   },
   {
    "duration": 7,
    "start_time": "2022-07-01T19:08:03.498Z"
   },
   {
    "duration": 53,
    "start_time": "2022-07-01T19:08:07.370Z"
   },
   {
    "duration": 74,
    "start_time": "2022-07-01T19:08:35.737Z"
   },
   {
    "duration": 1548,
    "start_time": "2022-07-01T19:13:05.749Z"
   },
   {
    "duration": 1108,
    "start_time": "2022-07-01T19:13:07.299Z"
   },
   {
    "duration": 123,
    "start_time": "2022-07-01T19:13:08.409Z"
   },
   {
    "duration": 31,
    "start_time": "2022-07-01T19:13:08.534Z"
   },
   {
    "duration": 454,
    "start_time": "2022-07-01T19:13:08.569Z"
   },
   {
    "duration": 340,
    "start_time": "2022-07-01T19:13:09.027Z"
   },
   {
    "duration": 106,
    "start_time": "2022-07-01T19:13:09.369Z"
   },
   {
    "duration": 146,
    "start_time": "2022-07-01T19:13:09.478Z"
   },
   {
    "duration": 54,
    "start_time": "2022-07-01T19:13:09.626Z"
   },
   {
    "duration": 593,
    "start_time": "2022-07-01T19:13:09.682Z"
   },
   {
    "duration": 103,
    "start_time": "2022-07-01T19:13:10.278Z"
   },
   {
    "duration": 844,
    "start_time": "2022-07-01T19:13:10.384Z"
   },
   {
    "duration": 69,
    "start_time": "2022-07-01T19:13:11.230Z"
   },
   {
    "duration": 33,
    "start_time": "2022-07-01T19:13:11.304Z"
   },
   {
    "duration": 36,
    "start_time": "2022-07-01T19:13:11.339Z"
   },
   {
    "duration": 133,
    "start_time": "2022-07-01T19:13:11.377Z"
   },
   {
    "duration": 21,
    "start_time": "2022-07-01T19:13:11.513Z"
   },
   {
    "duration": 389,
    "start_time": "2022-07-01T19:13:11.536Z"
   },
   {
    "duration": 3,
    "start_time": "2022-07-01T19:13:11.928Z"
   },
   {
    "duration": 16,
    "start_time": "2022-07-01T19:13:11.933Z"
   },
   {
    "duration": 13053,
    "start_time": "2022-07-01T19:13:11.952Z"
   },
   {
    "duration": 142,
    "start_time": "2022-07-01T19:13:25.007Z"
   },
   {
    "duration": 79,
    "start_time": "2022-07-01T19:13:25.151Z"
   },
   {
    "duration": 13,
    "start_time": "2022-07-01T19:13:25.232Z"
   },
   {
    "duration": 11,
    "start_time": "2022-07-01T19:13:25.246Z"
   },
   {
    "duration": 17,
    "start_time": "2022-07-01T19:13:25.259Z"
   },
   {
    "duration": 358,
    "start_time": "2022-07-01T19:13:25.278Z"
   },
   {
    "duration": 4,
    "start_time": "2022-07-01T19:13:25.639Z"
   },
   {
    "duration": 44,
    "start_time": "2022-07-01T19:13:25.646Z"
   },
   {
    "duration": 55,
    "start_time": "2022-07-01T19:13:25.692Z"
   },
   {
    "duration": 404,
    "start_time": "2022-07-01T19:13:25.750Z"
   },
   {
    "duration": 43,
    "start_time": "2022-07-01T19:13:26.156Z"
   },
   {
    "duration": 4,
    "start_time": "2022-07-01T19:13:26.201Z"
   },
   {
    "duration": 21,
    "start_time": "2022-07-01T19:13:26.207Z"
   },
   {
    "duration": 1780,
    "start_time": "2022-07-01T19:19:26.323Z"
   },
   {
    "duration": 1070,
    "start_time": "2022-07-01T19:19:28.105Z"
   },
   {
    "duration": 121,
    "start_time": "2022-07-01T19:19:29.177Z"
   },
   {
    "duration": 41,
    "start_time": "2022-07-01T19:19:29.300Z"
   },
   {
    "duration": 456,
    "start_time": "2022-07-01T19:19:29.345Z"
   },
   {
    "duration": 301,
    "start_time": "2022-07-01T19:19:29.803Z"
   },
   {
    "duration": 97,
    "start_time": "2022-07-01T19:19:30.106Z"
   },
   {
    "duration": 103,
    "start_time": "2022-07-01T19:19:30.205Z"
   },
   {
    "duration": 63,
    "start_time": "2022-07-01T19:19:30.309Z"
   },
   {
    "duration": 623,
    "start_time": "2022-07-01T19:19:30.373Z"
   },
   {
    "duration": 94,
    "start_time": "2022-07-01T19:19:30.999Z"
   },
   {
    "duration": 938,
    "start_time": "2022-07-01T19:19:31.095Z"
   },
   {
    "duration": 72,
    "start_time": "2022-07-01T19:19:32.038Z"
   },
   {
    "duration": 20,
    "start_time": "2022-07-01T19:19:32.114Z"
   },
   {
    "duration": 34,
    "start_time": "2022-07-01T19:19:32.138Z"
   },
   {
    "duration": 84,
    "start_time": "2022-07-01T19:19:32.173Z"
   },
   {
    "duration": 12,
    "start_time": "2022-07-01T19:19:32.258Z"
   },
   {
    "duration": 376,
    "start_time": "2022-07-01T19:19:32.271Z"
   },
   {
    "duration": 3,
    "start_time": "2022-07-01T19:19:32.651Z"
   },
   {
    "duration": 14,
    "start_time": "2022-07-01T19:19:32.657Z"
   },
   {
    "duration": 12601,
    "start_time": "2022-07-01T19:19:32.673Z"
   },
   {
    "duration": 119,
    "start_time": "2022-07-01T19:19:45.276Z"
   },
   {
    "duration": 71,
    "start_time": "2022-07-01T19:19:45.396Z"
   },
   {
    "duration": 12,
    "start_time": "2022-07-01T19:19:45.469Z"
   },
   {
    "duration": 7,
    "start_time": "2022-07-01T19:19:45.482Z"
   },
   {
    "duration": 52,
    "start_time": "2022-07-01T19:19:45.491Z"
   },
   {
    "duration": 328,
    "start_time": "2022-07-01T19:19:45.546Z"
   },
   {
    "duration": 3,
    "start_time": "2022-07-01T19:19:45.876Z"
   },
   {
    "duration": 28,
    "start_time": "2022-07-01T19:19:45.880Z"
   },
   {
    "duration": 47,
    "start_time": "2022-07-01T19:19:45.910Z"
   },
   {
    "duration": 388,
    "start_time": "2022-07-01T19:19:45.959Z"
   },
   {
    "duration": 46,
    "start_time": "2022-07-01T19:19:46.349Z"
   },
   {
    "duration": 5,
    "start_time": "2022-07-01T19:19:46.398Z"
   },
   {
    "duration": 30,
    "start_time": "2022-07-01T19:19:46.405Z"
   },
   {
    "duration": 1641,
    "start_time": "2022-07-01T19:25:07.538Z"
   },
   {
    "duration": 1136,
    "start_time": "2022-07-01T19:25:09.182Z"
   },
   {
    "duration": 186,
    "start_time": "2022-07-01T19:25:10.320Z"
   },
   {
    "duration": 54,
    "start_time": "2022-07-01T19:25:10.509Z"
   },
   {
    "duration": 519,
    "start_time": "2022-07-01T19:25:10.566Z"
   },
   {
    "duration": 305,
    "start_time": "2022-07-01T19:25:11.087Z"
   },
   {
    "duration": 172,
    "start_time": "2022-07-01T19:25:11.394Z"
   },
   {
    "duration": 123,
    "start_time": "2022-07-01T19:25:11.569Z"
   },
   {
    "duration": 77,
    "start_time": "2022-07-01T19:25:11.695Z"
   },
   {
    "duration": 646,
    "start_time": "2022-07-01T19:25:11.774Z"
   },
   {
    "duration": 79,
    "start_time": "2022-07-01T19:25:12.422Z"
   },
   {
    "duration": 882,
    "start_time": "2022-07-01T19:25:12.502Z"
   },
   {
    "duration": 85,
    "start_time": "2022-07-01T19:25:13.386Z"
   },
   {
    "duration": 12,
    "start_time": "2022-07-01T19:25:13.474Z"
   },
   {
    "duration": 56,
    "start_time": "2022-07-01T19:25:13.487Z"
   },
   {
    "duration": 82,
    "start_time": "2022-07-01T19:25:13.544Z"
   },
   {
    "duration": 16,
    "start_time": "2022-07-01T19:25:13.632Z"
   },
   {
    "duration": 341,
    "start_time": "2022-07-01T19:25:13.650Z"
   },
   {
    "duration": 3,
    "start_time": "2022-07-01T19:25:13.993Z"
   },
   {
    "duration": 12,
    "start_time": "2022-07-01T19:25:13.998Z"
   },
   {
    "duration": 13404,
    "start_time": "2022-07-01T19:25:14.011Z"
   },
   {
    "duration": 140,
    "start_time": "2022-07-01T19:25:27.417Z"
   },
   {
    "duration": 75,
    "start_time": "2022-07-01T19:25:27.559Z"
   },
   {
    "duration": 17,
    "start_time": "2022-07-01T19:25:27.641Z"
   },
   {
    "duration": 13,
    "start_time": "2022-07-01T19:25:27.660Z"
   },
   {
    "duration": 32,
    "start_time": "2022-07-01T19:25:27.675Z"
   },
   {
    "duration": 349,
    "start_time": "2022-07-01T19:25:27.709Z"
   },
   {
    "duration": 2,
    "start_time": "2022-07-01T19:25:28.060Z"
   },
   {
    "duration": 30,
    "start_time": "2022-07-01T19:25:28.064Z"
   },
   {
    "duration": 52,
    "start_time": "2022-07-01T19:25:28.096Z"
   },
   {
    "duration": 401,
    "start_time": "2022-07-01T19:25:28.149Z"
   },
   {
    "duration": 39,
    "start_time": "2022-07-01T19:25:28.552Z"
   },
   {
    "duration": 4,
    "start_time": "2022-07-01T19:25:28.593Z"
   },
   {
    "duration": 49,
    "start_time": "2022-07-01T19:25:28.599Z"
   },
   {
    "duration": 4,
    "start_time": "2022-07-01T19:25:38.010Z"
   },
   {
    "duration": 56416,
    "start_time": "2022-07-01T19:25:43.518Z"
   },
   {
    "duration": 639956,
    "start_time": "2022-07-01T19:26:53.201Z"
   },
   {
    "duration": 1531,
    "start_time": "2022-07-02T06:28:05.531Z"
   },
   {
    "duration": 1138,
    "start_time": "2022-07-02T06:28:08.124Z"
   },
   {
    "duration": 91,
    "start_time": "2022-07-02T06:28:09.542Z"
   },
   {
    "duration": 30,
    "start_time": "2022-07-02T06:28:11.060Z"
   },
   {
    "duration": 347,
    "start_time": "2022-07-02T06:28:11.730Z"
   },
   {
    "duration": 227,
    "start_time": "2022-07-02T06:28:12.370Z"
   },
   {
    "duration": 63,
    "start_time": "2022-07-02T06:28:13.079Z"
   },
   {
    "duration": 70,
    "start_time": "2022-07-02T06:28:16.139Z"
   },
   {
    "duration": 48,
    "start_time": "2022-07-02T06:28:17.009Z"
   },
   {
    "duration": 499,
    "start_time": "2022-07-02T06:28:18.800Z"
   },
   {
    "duration": 58,
    "start_time": "2022-07-02T06:28:20.889Z"
   },
   {
    "duration": 711,
    "start_time": "2022-07-02T06:28:21.668Z"
   },
   {
    "duration": 48,
    "start_time": "2022-07-02T06:28:22.381Z"
   },
   {
    "duration": 11,
    "start_time": "2022-07-02T06:28:25.261Z"
   },
   {
    "duration": 20,
    "start_time": "2022-07-02T06:28:26.429Z"
   },
   {
    "duration": 68,
    "start_time": "2022-07-02T06:28:27.844Z"
   },
   {
    "duration": 11,
    "start_time": "2022-07-02T06:28:29.053Z"
   },
   {
    "duration": 274,
    "start_time": "2022-07-02T06:28:29.765Z"
   },
   {
    "duration": 3,
    "start_time": "2022-07-02T06:28:30.728Z"
   },
   {
    "duration": 3,
    "start_time": "2022-07-02T06:28:31.366Z"
   },
   {
    "duration": 80,
    "start_time": "2022-07-02T06:28:39.391Z"
   },
   {
    "duration": 39,
    "start_time": "2022-07-02T06:28:40.510Z"
   },
   {
    "duration": 11,
    "start_time": "2022-07-02T06:28:43.039Z"
   },
   {
    "duration": 5,
    "start_time": "2022-07-02T06:28:43.819Z"
   },
   {
    "duration": 10,
    "start_time": "2022-07-02T06:28:44.938Z"
   },
   {
    "duration": 258,
    "start_time": "2022-07-02T06:28:45.699Z"
   },
   {
    "duration": 3,
    "start_time": "2022-07-02T06:28:46.280Z"
   },
   {
    "duration": 23,
    "start_time": "2022-07-02T06:28:47.624Z"
   },
   {
    "duration": 29,
    "start_time": "2022-07-02T06:28:49.172Z"
   },
   {
    "duration": 310,
    "start_time": "2022-07-02T06:28:50.400Z"
   },
   {
    "duration": 40,
    "start_time": "2022-07-02T06:28:53.587Z"
   },
   {
    "duration": 3,
    "start_time": "2022-07-02T06:47:07.004Z"
   },
   {
    "duration": 3,
    "start_time": "2022-07-02T06:47:16.353Z"
   },
   {
    "duration": 4,
    "start_time": "2022-07-02T06:47:17.284Z"
   },
   {
    "duration": 45697,
    "start_time": "2022-07-02T06:47:24.754Z"
   },
   {
    "duration": 64196,
    "start_time": "2022-07-02T06:49:24.003Z"
   },
   {
    "duration": 3,
    "start_time": "2022-07-02T07:06:27.094Z"
   },
   {
    "duration": 3,
    "start_time": "2022-07-02T07:06:29.701Z"
   },
   {
    "duration": 640339,
    "start_time": "2022-07-02T07:06:37.963Z"
   },
   {
    "duration": 98,
    "start_time": "2022-07-02T07:18:58.635Z"
   },
   {
    "duration": 5,
    "start_time": "2022-07-02T07:19:08.440Z"
   },
   {
    "duration": 866,
    "start_time": "2022-07-02T07:19:13.083Z"
   },
   {
    "duration": 80,
    "start_time": "2022-07-02T07:19:13.950Z"
   },
   {
    "duration": 28,
    "start_time": "2022-07-02T07:19:14.386Z"
   },
   {
    "duration": 353,
    "start_time": "2022-07-02T07:19:15.082Z"
   },
   {
    "duration": 230,
    "start_time": "2022-07-02T07:19:15.642Z"
   },
   {
    "duration": 67,
    "start_time": "2022-07-02T07:19:16.042Z"
   },
   {
    "duration": 70,
    "start_time": "2022-07-02T07:19:17.858Z"
   },
   {
    "duration": 47,
    "start_time": "2022-07-02T07:19:18.451Z"
   },
   {
    "duration": 508,
    "start_time": "2022-07-02T07:19:19.360Z"
   },
   {
    "duration": 69,
    "start_time": "2022-07-02T07:19:20.551Z"
   },
   {
    "duration": 728,
    "start_time": "2022-07-02T07:19:21.002Z"
   },
   {
    "duration": 50,
    "start_time": "2022-07-02T07:19:21.733Z"
   },
   {
    "duration": 11,
    "start_time": "2022-07-02T07:19:23.531Z"
   },
   {
    "duration": 20,
    "start_time": "2022-07-02T07:19:23.913Z"
   },
   {
    "duration": 69,
    "start_time": "2022-07-02T07:19:25.338Z"
   },
   {
    "duration": 12,
    "start_time": "2022-07-02T07:19:26.026Z"
   },
   {
    "duration": 275,
    "start_time": "2022-07-02T07:19:26.387Z"
   },
   {
    "duration": 3,
    "start_time": "2022-07-02T07:19:26.946Z"
   },
   {
    "duration": 3,
    "start_time": "2022-07-02T07:19:27.482Z"
   },
   {
    "duration": 99,
    "start_time": "2022-07-02T07:19:31.570Z"
   },
   {
    "duration": 57,
    "start_time": "2022-07-02T07:19:32.471Z"
   },
   {
    "duration": 11,
    "start_time": "2022-07-02T07:19:34.786Z"
   },
   {
    "duration": 4,
    "start_time": "2022-07-02T07:19:35.391Z"
   },
   {
    "duration": 10,
    "start_time": "2022-07-02T07:19:36.272Z"
   },
   {
    "duration": 263,
    "start_time": "2022-07-02T07:19:37.002Z"
   },
   {
    "duration": 3,
    "start_time": "2022-07-02T07:19:37.421Z"
   },
   {
    "duration": 29,
    "start_time": "2022-07-02T07:19:37.839Z"
   },
   {
    "duration": 32,
    "start_time": "2022-07-02T07:19:38.391Z"
   },
   {
    "duration": 352,
    "start_time": "2022-07-02T07:19:40.751Z"
   },
   {
    "duration": 52,
    "start_time": "2022-07-02T07:19:41.738Z"
   },
   {
    "duration": 3,
    "start_time": "2022-07-02T07:19:56.713Z"
   },
   {
    "duration": 3,
    "start_time": "2022-07-02T07:20:04.665Z"
   },
   {
    "duration": 4,
    "start_time": "2022-07-02T07:20:05.351Z"
   },
   {
    "duration": 6,
    "start_time": "2022-07-02T07:20:07.975Z"
   },
   {
    "duration": 3,
    "start_time": "2022-07-02T07:20:17.871Z"
   },
   {
    "duration": 3,
    "start_time": "2022-07-02T07:20:19.601Z"
   },
   {
    "duration": 1429,
    "start_time": "2022-07-02T07:26:52.598Z"
   },
   {
    "duration": 923,
    "start_time": "2022-07-02T07:26:54.029Z"
   },
   {
    "duration": 81,
    "start_time": "2022-07-02T07:26:54.954Z"
   },
   {
    "duration": 35,
    "start_time": "2022-07-02T07:26:55.036Z"
   },
   {
    "duration": 353,
    "start_time": "2022-07-02T07:26:55.074Z"
   },
   {
    "duration": 244,
    "start_time": "2022-07-02T07:26:55.429Z"
   },
   {
    "duration": 76,
    "start_time": "2022-07-02T07:26:55.674Z"
   },
   {
    "duration": 66,
    "start_time": "2022-07-02T07:26:55.752Z"
   },
   {
    "duration": 64,
    "start_time": "2022-07-02T07:26:55.819Z"
   },
   {
    "duration": 525,
    "start_time": "2022-07-02T07:26:55.885Z"
   },
   {
    "duration": 63,
    "start_time": "2022-07-02T07:26:56.411Z"
   },
   {
    "duration": 731,
    "start_time": "2022-07-02T07:26:56.476Z"
   },
   {
    "duration": 56,
    "start_time": "2022-07-02T07:26:57.209Z"
   },
   {
    "duration": 10,
    "start_time": "2022-07-02T07:26:57.268Z"
   },
   {
    "duration": 20,
    "start_time": "2022-07-02T07:26:57.279Z"
   },
   {
    "duration": 84,
    "start_time": "2022-07-02T07:26:57.300Z"
   },
   {
    "duration": 12,
    "start_time": "2022-07-02T07:26:57.386Z"
   },
   {
    "duration": 299,
    "start_time": "2022-07-02T07:26:57.399Z"
   },
   {
    "duration": 3,
    "start_time": "2022-07-02T07:26:57.699Z"
   },
   {
    "duration": 5,
    "start_time": "2022-07-02T07:26:57.703Z"
   },
   {
    "duration": 36,
    "start_time": "2022-07-02T07:26:57.710Z"
   },
   {
    "duration": 0,
    "start_time": "2022-07-02T07:26:57.747Z"
   },
   {
    "duration": 0,
    "start_time": "2022-07-02T07:26:57.748Z"
   },
   {
    "duration": 0,
    "start_time": "2022-07-02T07:26:57.750Z"
   },
   {
    "duration": 0,
    "start_time": "2022-07-02T07:26:57.751Z"
   },
   {
    "duration": 0,
    "start_time": "2022-07-02T07:26:57.752Z"
   },
   {
    "duration": 0,
    "start_time": "2022-07-02T07:26:57.753Z"
   },
   {
    "duration": 0,
    "start_time": "2022-07-02T07:26:57.754Z"
   },
   {
    "duration": 0,
    "start_time": "2022-07-02T07:26:57.755Z"
   },
   {
    "duration": 0,
    "start_time": "2022-07-02T07:26:57.756Z"
   },
   {
    "duration": 0,
    "start_time": "2022-07-02T07:26:57.758Z"
   },
   {
    "duration": 0,
    "start_time": "2022-07-02T07:26:57.759Z"
   },
   {
    "duration": 0,
    "start_time": "2022-07-02T07:26:57.760Z"
   },
   {
    "duration": 0,
    "start_time": "2022-07-02T07:26:57.761Z"
   },
   {
    "duration": 0,
    "start_time": "2022-07-02T07:26:57.762Z"
   },
   {
    "duration": 11504,
    "start_time": "2022-07-02T07:27:39.587Z"
   },
   {
    "duration": 94,
    "start_time": "2022-07-02T07:27:51.093Z"
   },
   {
    "duration": 39,
    "start_time": "2022-07-02T07:27:51.189Z"
   },
   {
    "duration": 38,
    "start_time": "2022-07-02T07:27:51.230Z"
   },
   {
    "duration": 19,
    "start_time": "2022-07-02T07:27:51.269Z"
   },
   {
    "duration": 10,
    "start_time": "2022-07-02T07:27:51.345Z"
   },
   {
    "duration": 274,
    "start_time": "2022-07-02T07:27:51.828Z"
   },
   {
    "duration": 3,
    "start_time": "2022-07-02T07:27:52.219Z"
   },
   {
    "duration": 27,
    "start_time": "2022-07-02T07:27:52.637Z"
   },
   {
    "duration": 29,
    "start_time": "2022-07-02T07:27:53.311Z"
   },
   {
    "duration": 305,
    "start_time": "2022-07-02T07:27:54.031Z"
   },
   {
    "duration": 56,
    "start_time": "2022-07-02T07:27:54.436Z"
   },
   {
    "duration": 5,
    "start_time": "2022-07-02T07:27:55.567Z"
   },
   {
    "duration": 3,
    "start_time": "2022-07-02T07:27:56.337Z"
   },
   {
    "duration": 5,
    "start_time": "2022-07-02T07:27:57.010Z"
   },
   {
    "duration": 3,
    "start_time": "2022-07-02T07:28:01.970Z"
   },
   {
    "duration": 3,
    "start_time": "2022-07-02T07:28:03.419Z"
   },
   {
    "duration": 464221,
    "start_time": "2022-07-02T07:28:04.518Z"
   },
   {
    "duration": 1335,
    "start_time": "2022-07-02T07:36:17.799Z"
   },
   {
    "duration": 904,
    "start_time": "2022-07-02T07:36:19.136Z"
   },
   {
    "duration": 86,
    "start_time": "2022-07-02T07:36:20.042Z"
   },
   {
    "duration": 36,
    "start_time": "2022-07-02T07:36:20.130Z"
   },
   {
    "duration": 376,
    "start_time": "2022-07-02T07:36:20.167Z"
   },
   {
    "duration": 249,
    "start_time": "2022-07-02T07:36:20.545Z"
   },
   {
    "duration": 66,
    "start_time": "2022-07-02T07:36:20.795Z"
   },
   {
    "duration": 65,
    "start_time": "2022-07-02T07:36:20.862Z"
   },
   {
    "duration": 66,
    "start_time": "2022-07-02T07:36:20.928Z"
   },
   {
    "duration": 525,
    "start_time": "2022-07-02T07:36:20.996Z"
   },
   {
    "duration": 66,
    "start_time": "2022-07-02T07:36:21.522Z"
   },
   {
    "duration": 727,
    "start_time": "2022-07-02T07:36:21.590Z"
   },
   {
    "duration": 52,
    "start_time": "2022-07-02T07:36:22.318Z"
   },
   {
    "duration": 10,
    "start_time": "2022-07-02T07:36:22.372Z"
   },
   {
    "duration": 19,
    "start_time": "2022-07-02T07:36:22.383Z"
   },
   {
    "duration": 84,
    "start_time": "2022-07-02T07:36:22.404Z"
   },
   {
    "duration": 10,
    "start_time": "2022-07-02T07:36:22.490Z"
   },
   {
    "duration": 274,
    "start_time": "2022-07-02T07:36:22.501Z"
   },
   {
    "duration": 3,
    "start_time": "2022-07-02T07:36:22.776Z"
   },
   {
    "duration": 6,
    "start_time": "2022-07-02T07:36:22.780Z"
   },
   {
    "duration": 11182,
    "start_time": "2022-07-02T07:36:22.787Z"
   },
   {
    "duration": 84,
    "start_time": "2022-07-02T07:36:33.970Z"
   },
   {
    "duration": 40,
    "start_time": "2022-07-02T07:36:34.055Z"
   },
   {
    "duration": 11,
    "start_time": "2022-07-02T07:36:34.096Z"
   },
   {
    "duration": 4,
    "start_time": "2022-07-02T07:36:34.108Z"
   },
   {
    "duration": 14,
    "start_time": "2022-07-02T07:36:34.113Z"
   },
   {
    "duration": 289,
    "start_time": "2022-07-02T07:36:34.128Z"
   },
   {
    "duration": 3,
    "start_time": "2022-07-02T07:36:34.421Z"
   },
   {
    "duration": 38,
    "start_time": "2022-07-02T07:36:34.426Z"
   },
   {
    "duration": 40,
    "start_time": "2022-07-02T07:36:34.466Z"
   },
   {
    "duration": 320,
    "start_time": "2022-07-02T07:36:34.508Z"
   },
   {
    "duration": 45,
    "start_time": "2022-07-02T07:36:34.830Z"
   },
   {
    "duration": 3,
    "start_time": "2022-07-02T07:36:34.876Z"
   },
   {
    "duration": 5,
    "start_time": "2022-07-02T07:36:34.881Z"
   },
   {
    "duration": 10,
    "start_time": "2022-07-02T07:36:34.887Z"
   },
   {
    "duration": 3,
    "start_time": "2022-07-02T07:36:47.438Z"
   },
   {
    "duration": 3,
    "start_time": "2022-07-02T07:36:54.513Z"
   },
   {
    "duration": 353939,
    "start_time": "2022-07-02T07:36:55.817Z"
   },
   {
    "duration": 0,
    "start_time": "2022-07-02T07:48:27.736Z"
   },
   {
    "duration": 0,
    "start_time": "2022-07-02T07:48:27.737Z"
   },
   {
    "duration": 0,
    "start_time": "2022-07-02T07:48:27.738Z"
   },
   {
    "duration": 0,
    "start_time": "2022-07-02T07:48:27.751Z"
   },
   {
    "duration": 0,
    "start_time": "2022-07-02T07:48:27.753Z"
   },
   {
    "duration": 415382,
    "start_time": "2022-07-02T07:50:14.385Z"
   },
   {
    "duration": 8,
    "start_time": "2022-07-02T07:57:09.774Z"
   },
   {
    "duration": 8,
    "start_time": "2022-07-02T08:00:15.851Z"
   },
   {
    "duration": 835,
    "start_time": "2022-07-02T08:00:15.861Z"
   },
   {
    "duration": 101,
    "start_time": "2022-07-02T08:00:16.698Z"
   },
   {
    "duration": 27,
    "start_time": "2022-07-02T08:00:16.801Z"
   },
   {
    "duration": 306,
    "start_time": "2022-07-02T08:00:16.830Z"
   },
   {
    "duration": 194,
    "start_time": "2022-07-02T08:00:17.137Z"
   },
   {
    "duration": 65,
    "start_time": "2022-07-02T08:00:17.333Z"
   },
   {
    "duration": 82,
    "start_time": "2022-07-02T08:00:17.399Z"
   },
   {
    "duration": 52,
    "start_time": "2022-07-02T08:00:17.483Z"
   },
   {
    "duration": 520,
    "start_time": "2022-07-02T08:00:17.537Z"
   },
   {
    "duration": 55,
    "start_time": "2022-07-02T08:00:18.060Z"
   },
   {
    "duration": 629,
    "start_time": "2022-07-02T08:00:18.117Z"
   },
   {
    "duration": 49,
    "start_time": "2022-07-02T08:00:18.750Z"
   },
   {
    "duration": 10,
    "start_time": "2022-07-02T08:00:18.800Z"
   },
   {
    "duration": 17,
    "start_time": "2022-07-02T08:00:18.812Z"
   },
   {
    "duration": 72,
    "start_time": "2022-07-02T08:00:18.830Z"
   },
   {
    "duration": 10,
    "start_time": "2022-07-02T08:00:18.904Z"
   },
   {
    "duration": 271,
    "start_time": "2022-07-02T08:00:18.916Z"
   },
   {
    "duration": 2,
    "start_time": "2022-07-02T08:00:19.188Z"
   },
   {
    "duration": 5,
    "start_time": "2022-07-02T08:00:19.192Z"
   },
   {
    "duration": 11346,
    "start_time": "2022-07-02T08:00:19.199Z"
   },
   {
    "duration": 85,
    "start_time": "2022-07-02T08:00:30.547Z"
   },
   {
    "duration": 47,
    "start_time": "2022-07-02T08:00:30.633Z"
   },
   {
    "duration": 19,
    "start_time": "2022-07-02T08:00:30.681Z"
   },
   {
    "duration": 4,
    "start_time": "2022-07-02T08:00:30.702Z"
   },
   {
    "duration": 16,
    "start_time": "2022-07-02T08:00:30.708Z"
   },
   {
    "duration": 294,
    "start_time": "2022-07-02T08:00:30.726Z"
   },
   {
    "duration": 3,
    "start_time": "2022-07-02T08:00:31.022Z"
   },
   {
    "duration": 35,
    "start_time": "2022-07-02T08:00:31.027Z"
   },
   {
    "duration": 28,
    "start_time": "2022-07-02T08:00:31.064Z"
   },
   {
    "duration": 319,
    "start_time": "2022-07-02T08:00:31.093Z"
   },
   {
    "duration": 42,
    "start_time": "2022-07-02T08:00:31.414Z"
   },
   {
    "duration": 3,
    "start_time": "2022-07-02T08:00:31.459Z"
   },
   {
    "duration": 13,
    "start_time": "2022-07-02T08:00:31.464Z"
   },
   {
    "duration": 21,
    "start_time": "2022-07-02T08:00:31.479Z"
   },
   {
    "duration": 3,
    "start_time": "2022-07-02T08:01:01.567Z"
   },
   {
    "duration": 2,
    "start_time": "2022-07-02T08:01:37.113Z"
   },
   {
    "duration": 1524,
    "start_time": "2022-07-02T08:12:48.823Z"
   },
   {
    "duration": 922,
    "start_time": "2022-07-02T08:12:50.349Z"
   },
   {
    "duration": 104,
    "start_time": "2022-07-02T08:12:51.273Z"
   },
   {
    "duration": 32,
    "start_time": "2022-07-02T08:12:51.379Z"
   },
   {
    "duration": 387,
    "start_time": "2022-07-02T08:12:51.413Z"
   },
   {
    "duration": 244,
    "start_time": "2022-07-02T08:12:51.802Z"
   },
   {
    "duration": 63,
    "start_time": "2022-07-02T08:12:52.050Z"
   },
   {
    "duration": 85,
    "start_time": "2022-07-02T08:12:52.114Z"
   },
   {
    "duration": 61,
    "start_time": "2022-07-02T08:12:52.202Z"
   },
   {
    "duration": 594,
    "start_time": "2022-07-02T08:12:52.265Z"
   },
   {
    "duration": 61,
    "start_time": "2022-07-02T08:12:52.860Z"
   },
   {
    "duration": 754,
    "start_time": "2022-07-02T08:12:52.923Z"
   },
   {
    "duration": 53,
    "start_time": "2022-07-02T08:12:53.678Z"
   },
   {
    "duration": 58,
    "start_time": "2022-07-02T08:12:53.735Z"
   },
   {
    "duration": 42,
    "start_time": "2022-07-02T08:12:53.794Z"
   },
   {
    "duration": 63,
    "start_time": "2022-07-02T08:12:53.838Z"
   },
   {
    "duration": 20,
    "start_time": "2022-07-02T08:12:53.903Z"
   },
   {
    "duration": 279,
    "start_time": "2022-07-02T08:12:53.924Z"
   },
   {
    "duration": 3,
    "start_time": "2022-07-02T08:12:54.204Z"
   },
   {
    "duration": 21,
    "start_time": "2022-07-02T08:12:54.209Z"
   },
   {
    "duration": 11446,
    "start_time": "2022-07-02T08:12:54.232Z"
   },
   {
    "duration": 92,
    "start_time": "2022-07-02T08:13:05.680Z"
   },
   {
    "duration": 40,
    "start_time": "2022-07-02T08:13:05.774Z"
   },
   {
    "duration": 12,
    "start_time": "2022-07-02T08:13:05.815Z"
   },
   {
    "duration": 25,
    "start_time": "2022-07-02T08:13:05.828Z"
   },
   {
    "duration": 10,
    "start_time": "2022-07-02T08:13:05.855Z"
   },
   {
    "duration": 276,
    "start_time": "2022-07-02T08:13:05.867Z"
   },
   {
    "duration": 2,
    "start_time": "2022-07-02T08:13:06.145Z"
   },
   {
    "duration": 23,
    "start_time": "2022-07-02T08:13:06.151Z"
   },
   {
    "duration": 28,
    "start_time": "2022-07-02T08:13:06.175Z"
   },
   {
    "duration": 331,
    "start_time": "2022-07-02T08:13:06.205Z"
   },
   {
    "duration": 35,
    "start_time": "2022-07-02T08:13:06.538Z"
   },
   {
    "duration": 4,
    "start_time": "2022-07-02T08:13:06.575Z"
   },
   {
    "duration": 6,
    "start_time": "2022-07-02T08:13:06.581Z"
   },
   {
    "duration": 5,
    "start_time": "2022-07-02T08:13:06.589Z"
   },
   {
    "duration": 29,
    "start_time": "2022-07-02T08:17:37.073Z"
   },
   {
    "duration": 12,
    "start_time": "2022-07-02T08:17:48.103Z"
   },
   {
    "duration": 62,
    "start_time": "2022-07-02T08:19:07.720Z"
   },
   {
    "duration": 12,
    "start_time": "2022-07-02T08:19:10.474Z"
   },
   {
    "duration": 111,
    "start_time": "2022-07-02T08:22:07.286Z"
   },
   {
    "duration": 97,
    "start_time": "2022-07-02T08:22:35.189Z"
   },
   {
    "duration": 4,
    "start_time": "2022-07-02T08:22:52.402Z"
   },
   {
    "duration": 3065,
    "start_time": "2022-07-02T08:23:05.057Z"
   },
   {
    "duration": 60,
    "start_time": "2022-07-02T08:25:40.343Z"
   },
   {
    "duration": 15,
    "start_time": "2022-07-02T08:26:14.744Z"
   },
   {
    "duration": 17,
    "start_time": "2022-07-02T08:26:29.054Z"
   },
   {
    "duration": 29,
    "start_time": "2022-07-02T08:26:36.472Z"
   },
   {
    "duration": 15,
    "start_time": "2022-07-02T08:27:37.754Z"
   },
   {
    "duration": 1703,
    "start_time": "2022-07-02T08:38:32.731Z"
   },
   {
    "duration": 881,
    "start_time": "2022-07-02T08:38:38.103Z"
   },
   {
    "duration": 89,
    "start_time": "2022-07-02T08:38:38.986Z"
   },
   {
    "duration": 30,
    "start_time": "2022-07-02T08:38:39.077Z"
   },
   {
    "duration": 357,
    "start_time": "2022-07-02T08:38:39.323Z"
   },
   {
    "duration": 233,
    "start_time": "2022-07-02T08:38:39.730Z"
   },
   {
    "duration": 68,
    "start_time": "2022-07-02T08:38:40.070Z"
   },
   {
    "duration": 71,
    "start_time": "2022-07-02T08:38:41.703Z"
   },
   {
    "duration": 46,
    "start_time": "2022-07-02T08:38:42.076Z"
   },
   {
    "duration": 512,
    "start_time": "2022-07-02T08:38:42.809Z"
   },
   {
    "duration": 63,
    "start_time": "2022-07-02T08:38:43.826Z"
   },
   {
    "duration": 749,
    "start_time": "2022-07-02T08:38:44.603Z"
   },
   {
    "duration": 51,
    "start_time": "2022-07-02T08:38:45.354Z"
   },
   {
    "duration": 11,
    "start_time": "2022-07-02T08:38:46.256Z"
   },
   {
    "duration": 21,
    "start_time": "2022-07-02T08:38:48.989Z"
   },
   {
    "duration": 66,
    "start_time": "2022-07-02T08:38:49.715Z"
   },
   {
    "duration": 11,
    "start_time": "2022-07-02T08:38:50.154Z"
   },
   {
    "duration": 257,
    "start_time": "2022-07-02T08:38:51.059Z"
   },
   {
    "duration": 2,
    "start_time": "2022-07-02T08:38:51.543Z"
   },
   {
    "duration": 3,
    "start_time": "2022-07-02T08:38:52.033Z"
   },
   {
    "duration": 11570,
    "start_time": "2022-07-02T08:38:52.989Z"
   },
   {
    "duration": 94,
    "start_time": "2022-07-02T08:39:04.561Z"
   },
   {
    "duration": 41,
    "start_time": "2022-07-02T08:39:04.657Z"
   },
   {
    "duration": 12,
    "start_time": "2022-07-02T08:39:04.700Z"
   },
   {
    "duration": 4,
    "start_time": "2022-07-02T08:39:04.714Z"
   },
   {
    "duration": 34,
    "start_time": "2022-07-02T08:39:04.720Z"
   },
   {
    "duration": 267,
    "start_time": "2022-07-02T08:39:04.756Z"
   },
   {
    "duration": 3,
    "start_time": "2022-07-02T08:39:05.025Z"
   },
   {
    "duration": 32,
    "start_time": "2022-07-02T08:39:05.029Z"
   },
   {
    "duration": 26,
    "start_time": "2022-07-02T08:39:05.063Z"
   },
   {
    "duration": 313,
    "start_time": "2022-07-02T08:39:06.427Z"
   },
   {
    "duration": 34,
    "start_time": "2022-07-02T08:39:07.637Z"
   },
   {
    "duration": 3,
    "start_time": "2022-07-02T08:39:08.610Z"
   },
   {
    "duration": 3,
    "start_time": "2022-07-02T08:39:09.376Z"
   },
   {
    "duration": 5,
    "start_time": "2022-07-02T08:39:10.824Z"
   },
   {
    "duration": 57,
    "start_time": "2022-07-02T08:39:17.156Z"
   },
   {
    "duration": 56,
    "start_time": "2022-07-02T08:39:19.236Z"
   },
   {
    "duration": 102,
    "start_time": "2022-07-02T08:42:34.907Z"
   },
   {
    "duration": 10,
    "start_time": "2022-07-02T08:43:22.585Z"
   },
   {
    "duration": 206746,
    "start_time": "2022-07-02T08:44:20.667Z"
   },
   {
    "duration": 12,
    "start_time": "2022-07-02T08:48:53.867Z"
   },
   {
    "duration": 4,
    "start_time": "2022-07-02T08:51:28.024Z"
   },
   {
    "duration": 3,
    "start_time": "2022-07-02T08:51:38.905Z"
   },
   {
    "duration": 5,
    "start_time": "2022-07-02T08:51:43.594Z"
   },
   {
    "duration": 60,
    "start_time": "2022-07-02T08:54:22.907Z"
   },
   {
    "duration": 4,
    "start_time": "2022-07-02T08:54:27.848Z"
   },
   {
    "duration": 4,
    "start_time": "2022-07-02T08:54:31.548Z"
   },
   {
    "duration": 6,
    "start_time": "2022-07-02T08:56:37.768Z"
   },
   {
    "duration": 4,
    "start_time": "2022-07-02T09:00:54.909Z"
   },
   {
    "duration": 1566,
    "start_time": "2022-07-02T09:06:26.063Z"
   },
   {
    "duration": 897,
    "start_time": "2022-07-02T09:06:27.630Z"
   },
   {
    "duration": 99,
    "start_time": "2022-07-02T09:06:28.529Z"
   },
   {
    "duration": 32,
    "start_time": "2022-07-02T09:06:28.630Z"
   },
   {
    "duration": 426,
    "start_time": "2022-07-02T09:06:28.664Z"
   },
   {
    "duration": 240,
    "start_time": "2022-07-02T09:06:29.092Z"
   },
   {
    "duration": 72,
    "start_time": "2022-07-02T09:06:29.333Z"
   },
   {
    "duration": 91,
    "start_time": "2022-07-02T09:06:29.406Z"
   },
   {
    "duration": 52,
    "start_time": "2022-07-02T09:06:29.499Z"
   },
   {
    "duration": 533,
    "start_time": "2022-07-02T09:06:29.553Z"
   },
   {
    "duration": 69,
    "start_time": "2022-07-02T09:06:30.087Z"
   },
   {
    "duration": 817,
    "start_time": "2022-07-02T09:06:30.157Z"
   },
   {
    "duration": 49,
    "start_time": "2022-07-02T09:06:30.976Z"
   },
   {
    "duration": 26,
    "start_time": "2022-07-02T09:06:31.027Z"
   },
   {
    "duration": 19,
    "start_time": "2022-07-02T09:06:31.055Z"
   },
   {
    "duration": 84,
    "start_time": "2022-07-02T09:06:31.076Z"
   },
   {
    "duration": 15,
    "start_time": "2022-07-02T09:06:31.162Z"
   },
   {
    "duration": 305,
    "start_time": "2022-07-02T09:06:31.179Z"
   },
   {
    "duration": 3,
    "start_time": "2022-07-02T09:06:31.486Z"
   },
   {
    "duration": 31,
    "start_time": "2022-07-02T09:06:31.490Z"
   },
   {
    "duration": 11105,
    "start_time": "2022-07-02T09:06:31.524Z"
   },
   {
    "duration": 88,
    "start_time": "2022-07-02T09:06:42.631Z"
   },
   {
    "duration": 46,
    "start_time": "2022-07-02T09:06:42.721Z"
   },
   {
    "duration": 11,
    "start_time": "2022-07-02T09:06:42.768Z"
   },
   {
    "duration": 4,
    "start_time": "2022-07-02T09:06:42.781Z"
   },
   {
    "duration": 12,
    "start_time": "2022-07-02T09:06:42.787Z"
   },
   {
    "duration": 284,
    "start_time": "2022-07-02T09:06:42.800Z"
   },
   {
    "duration": 2,
    "start_time": "2022-07-02T09:06:43.086Z"
   },
   {
    "duration": 29,
    "start_time": "2022-07-02T09:06:43.090Z"
   },
   {
    "duration": 39,
    "start_time": "2022-07-02T09:06:43.120Z"
   },
   {
    "duration": 312,
    "start_time": "2022-07-02T09:06:43.161Z"
   },
   {
    "duration": 39,
    "start_time": "2022-07-02T09:06:43.474Z"
   },
   {
    "duration": 4,
    "start_time": "2022-07-02T09:06:43.514Z"
   },
   {
    "duration": 8,
    "start_time": "2022-07-02T09:06:43.520Z"
   },
   {
    "duration": 21,
    "start_time": "2022-07-02T09:06:43.530Z"
   },
   {
    "duration": 69,
    "start_time": "2022-07-02T09:06:44.482Z"
   },
   {
    "duration": 60,
    "start_time": "2022-07-02T09:06:45.736Z"
   },
   {
    "duration": 1846,
    "start_time": "2022-07-02T09:07:29.941Z"
   },
   {
    "duration": 1796,
    "start_time": "2022-07-02T09:08:45.580Z"
   },
   {
    "duration": 33421,
    "start_time": "2022-07-02T09:11:00.007Z"
   },
   {
    "duration": 3,
    "start_time": "2022-07-02T09:13:09.901Z"
   },
   {
    "duration": 117,
    "start_time": "2022-07-02T13:21:16.167Z"
   },
   {
    "duration": 1790,
    "start_time": "2022-07-02T13:21:44.814Z"
   },
   {
    "duration": 3060,
    "start_time": "2022-07-02T13:21:56.519Z"
   },
   {
    "duration": 95,
    "start_time": "2022-07-02T13:21:59.581Z"
   },
   {
    "duration": 25,
    "start_time": "2022-07-02T13:22:51.607Z"
   },
   {
    "duration": 351,
    "start_time": "2022-07-02T13:22:52.304Z"
   },
   {
    "duration": 235,
    "start_time": "2022-07-02T13:22:53.582Z"
   },
   {
    "duration": 68,
    "start_time": "2022-07-02T13:22:56.758Z"
   },
   {
    "duration": 70,
    "start_time": "2022-07-02T13:23:07.494Z"
   },
   {
    "duration": 49,
    "start_time": "2022-07-02T13:23:08.404Z"
   },
   {
    "duration": 559,
    "start_time": "2022-07-02T13:23:09.904Z"
   },
   {
    "duration": 62,
    "start_time": "2022-07-02T13:23:11.108Z"
   },
   {
    "duration": 791,
    "start_time": "2022-07-02T13:23:11.898Z"
   },
   {
    "duration": 58,
    "start_time": "2022-07-02T13:23:12.691Z"
   },
   {
    "duration": 12,
    "start_time": "2022-07-02T13:23:15.508Z"
   },
   {
    "duration": 20,
    "start_time": "2022-07-02T13:23:15.919Z"
   },
   {
    "duration": 75,
    "start_time": "2022-07-02T13:23:16.608Z"
   },
   {
    "duration": 12,
    "start_time": "2022-07-02T13:23:17.247Z"
   },
   {
    "duration": 271,
    "start_time": "2022-07-02T13:23:17.758Z"
   },
   {
    "duration": 3,
    "start_time": "2022-07-02T13:23:18.918Z"
   },
   {
    "duration": 2,
    "start_time": "2022-07-02T13:23:21.136Z"
   },
   {
    "duration": 5,
    "start_time": "2022-07-02T13:23:44.721Z"
   },
   {
    "duration": 11370,
    "start_time": "2022-07-02T13:23:53.907Z"
   },
   {
    "duration": 86,
    "start_time": "2022-07-02T13:24:43.766Z"
   },
   {
    "duration": 49,
    "start_time": "2022-07-02T13:24:44.429Z"
   },
   {
    "duration": 12,
    "start_time": "2022-07-02T13:25:29.393Z"
   },
   {
    "duration": 5,
    "start_time": "2022-07-02T13:25:30.444Z"
   },
   {
    "duration": 11,
    "start_time": "2022-07-02T13:25:31.274Z"
   },
   {
    "duration": 277,
    "start_time": "2022-07-02T13:25:34.198Z"
   },
   {
    "duration": 3,
    "start_time": "2022-07-02T13:25:34.863Z"
   },
   {
    "duration": 26,
    "start_time": "2022-07-02T13:25:36.002Z"
   },
   {
    "duration": 30,
    "start_time": "2022-07-02T13:25:37.953Z"
   },
   {
    "duration": 336,
    "start_time": "2022-07-02T13:25:39.374Z"
   },
   {
    "duration": 36,
    "start_time": "2022-07-02T13:25:40.772Z"
   },
   {
    "duration": 3,
    "start_time": "2022-07-02T13:26:22.833Z"
   },
   {
    "duration": 4,
    "start_time": "2022-07-02T13:26:23.933Z"
   },
   {
    "duration": 4,
    "start_time": "2022-07-02T13:26:31.702Z"
   },
   {
    "duration": 48734,
    "start_time": "2022-07-02T13:27:06.908Z"
   },
   {
    "duration": 2,
    "start_time": "2022-07-02T13:30:52.332Z"
   },
   {
    "duration": 56368,
    "start_time": "2022-07-02T13:31:02.973Z"
   },
   {
    "duration": 2,
    "start_time": "2022-07-02T13:32:50.545Z"
   },
   {
    "duration": 3,
    "start_time": "2022-07-02T13:33:01.554Z"
   },
   {
    "duration": 28305,
    "start_time": "2022-07-02T13:33:21.726Z"
   },
   {
    "duration": 3340,
    "start_time": "2022-07-02T13:34:29.899Z"
   },
   {
    "duration": 66,
    "start_time": "2022-07-02T13:34:42.004Z"
   },
   {
    "duration": 54,
    "start_time": "2022-07-02T13:34:50.734Z"
   },
   {
    "duration": 218515,
    "start_time": "2022-07-02T13:39:04.345Z"
   },
   {
    "duration": 3,
    "start_time": "2022-07-02T13:49:05.807Z"
   },
   {
    "duration": 34187,
    "start_time": "2022-07-02T13:49:07.839Z"
   },
   {
    "duration": 34197,
    "start_time": "2022-07-02T13:49:58.657Z"
   },
   {
    "duration": 1685,
    "start_time": "2022-07-03T14:53:08.834Z"
   },
   {
    "duration": 1266,
    "start_time": "2022-07-03T14:53:10.987Z"
   },
   {
    "duration": 95,
    "start_time": "2022-07-03T14:53:16.403Z"
   },
   {
    "duration": 92,
    "start_time": "2022-07-03T14:53:42.653Z"
   },
   {
    "duration": 452,
    "start_time": "2022-07-03T14:54:06.854Z"
   },
   {
    "duration": 75,
    "start_time": "2022-07-03T14:58:29.827Z"
   },
   {
    "duration": 5,
    "start_time": "2022-07-03T15:04:13.642Z"
   },
   {
    "duration": 9,
    "start_time": "2022-07-03T15:04:20.932Z"
   },
   {
    "duration": 8,
    "start_time": "2022-07-03T15:04:39.043Z"
   },
   {
    "duration": 6,
    "start_time": "2022-07-03T15:07:06.495Z"
   },
   {
    "duration": 29,
    "start_time": "2022-07-03T15:07:09.511Z"
   },
   {
    "duration": 486,
    "start_time": "2022-07-03T15:08:39.415Z"
   },
   {
    "duration": 1695,
    "start_time": "2022-07-05T09:58:51.654Z"
   },
   {
    "duration": 3350,
    "start_time": "2022-07-05T09:58:53.698Z"
   },
   {
    "duration": 106,
    "start_time": "2022-07-05T09:58:57.050Z"
   },
   {
    "duration": 375,
    "start_time": "2022-07-05T09:58:57.158Z"
   },
   {
    "duration": 7,
    "start_time": "2022-07-05T09:59:01.274Z"
   },
   {
    "duration": 44,
    "start_time": "2022-07-05T09:59:02.962Z"
   },
   {
    "duration": 505,
    "start_time": "2022-07-05T09:59:06.410Z"
   },
   {
    "duration": 301,
    "start_time": "2022-07-05T09:59:16.058Z"
   },
   {
    "duration": 71,
    "start_time": "2022-07-05T09:59:17.599Z"
   },
   {
    "duration": 87,
    "start_time": "2022-07-05T09:59:37.889Z"
   },
   {
    "duration": 61,
    "start_time": "2022-07-05T09:59:39.698Z"
   },
   {
    "duration": 389,
    "start_time": "2022-07-05T10:00:08.462Z"
   },
   {
    "duration": 332,
    "start_time": "2022-07-05T10:00:20.420Z"
   },
   {
    "duration": 280,
    "start_time": "2022-07-05T10:00:43.195Z"
   },
   {
    "duration": 273,
    "start_time": "2022-07-05T10:01:16.779Z"
   },
   {
    "duration": 434,
    "start_time": "2022-07-05T10:03:16.604Z"
   },
   {
    "duration": 343,
    "start_time": "2022-07-05T10:03:34.787Z"
   },
   {
    "duration": 557,
    "start_time": "2022-07-05T10:04:01.747Z"
   },
   {
    "duration": 686,
    "start_time": "2022-07-05T10:04:22.923Z"
   },
   {
    "duration": 513,
    "start_time": "2022-07-05T10:04:55.508Z"
   },
   {
    "duration": 538,
    "start_time": "2022-07-05T10:05:05.353Z"
   },
   {
    "duration": 941,
    "start_time": "2022-07-05T10:05:13.220Z"
   },
   {
    "duration": 593,
    "start_time": "2022-07-05T10:05:19.380Z"
   },
   {
    "duration": 667,
    "start_time": "2022-07-05T10:05:27.060Z"
   },
   {
    "duration": 1194,
    "start_time": "2022-07-05T10:08:08.888Z"
   },
   {
    "duration": 581,
    "start_time": "2022-07-05T10:09:17.164Z"
   },
   {
    "duration": 168,
    "start_time": "2022-07-05T10:11:47.604Z"
   },
   {
    "duration": 554,
    "start_time": "2022-07-05T10:12:02.685Z"
   },
   {
    "duration": 595,
    "start_time": "2022-07-05T10:12:48.501Z"
   },
   {
    "duration": 661,
    "start_time": "2022-07-05T10:13:11.619Z"
   },
   {
    "duration": 499,
    "start_time": "2022-07-05T10:13:24.956Z"
   },
   {
    "duration": 543,
    "start_time": "2022-07-05T10:13:32.292Z"
   },
   {
    "duration": 500,
    "start_time": "2022-07-05T10:13:40.637Z"
   },
   {
    "duration": 536,
    "start_time": "2022-07-05T10:13:46.100Z"
   },
   {
    "duration": 538,
    "start_time": "2022-07-05T10:13:54.277Z"
   },
   {
    "duration": 657,
    "start_time": "2022-07-05T10:14:00.276Z"
   },
   {
    "duration": 64,
    "start_time": "2022-07-05T10:16:53.276Z"
   },
   {
    "duration": 725,
    "start_time": "2022-07-05T10:16:54.132Z"
   },
   {
    "duration": 57,
    "start_time": "2022-07-05T10:16:58.501Z"
   },
   {
    "duration": 8,
    "start_time": "2022-07-05T10:21:06.159Z"
   },
   {
    "duration": 12,
    "start_time": "2022-07-05T10:24:08.038Z"
   },
   {
    "duration": 23,
    "start_time": "2022-07-05T10:24:14.029Z"
   },
   {
    "duration": 12,
    "start_time": "2022-07-05T10:25:38.022Z"
   },
   {
    "duration": 94,
    "start_time": "2022-07-05T10:26:15.112Z"
   },
   {
    "duration": 18,
    "start_time": "2022-07-05T10:30:12.570Z"
   },
   {
    "duration": 100,
    "start_time": "2022-07-05T10:45:47.619Z"
   },
   {
    "duration": 99,
    "start_time": "2022-07-05T11:12:56.898Z"
   },
   {
    "duration": 44,
    "start_time": "2022-07-05T11:12:58.506Z"
   },
   {
    "duration": 9,
    "start_time": "2022-07-05T11:13:22.697Z"
   },
   {
    "duration": 34,
    "start_time": "2022-07-05T11:14:09.431Z"
   },
   {
    "duration": 18,
    "start_time": "2022-07-05T11:14:18.656Z"
   },
   {
    "duration": 13,
    "start_time": "2022-07-05T11:14:44.696Z"
   },
   {
    "duration": 4,
    "start_time": "2022-07-05T11:14:45.436Z"
   },
   {
    "duration": 54,
    "start_time": "2022-07-05T11:17:43.692Z"
   },
   {
    "duration": 2050,
    "start_time": "2022-07-07T08:43:05.700Z"
   },
   {
    "duration": 1716,
    "start_time": "2022-07-07T08:43:07.763Z"
   },
   {
    "duration": 126,
    "start_time": "2022-07-07T08:43:09.481Z"
   },
   {
    "duration": 577,
    "start_time": "2022-07-07T08:43:09.609Z"
   },
   {
    "duration": 8,
    "start_time": "2022-07-07T08:43:10.188Z"
   },
   {
    "duration": 60,
    "start_time": "2022-07-07T08:43:10.197Z"
   },
   {
    "duration": 574,
    "start_time": "2022-07-07T08:43:10.259Z"
   },
   {
    "duration": 339,
    "start_time": "2022-07-07T08:43:10.837Z"
   },
   {
    "duration": 114,
    "start_time": "2022-07-07T08:43:11.177Z"
   },
   {
    "duration": 119,
    "start_time": "2022-07-07T08:43:11.293Z"
   },
   {
    "duration": 73,
    "start_time": "2022-07-07T08:43:11.414Z"
   },
   {
    "duration": 675,
    "start_time": "2022-07-07T08:43:38.890Z"
   },
   {
    "duration": 761,
    "start_time": "2022-07-07T08:43:49.418Z"
   },
   {
    "duration": 643,
    "start_time": "2022-07-07T08:44:00.061Z"
   },
   {
    "duration": 604,
    "start_time": "2022-07-07T08:44:11.649Z"
   },
   {
    "duration": 668,
    "start_time": "2022-07-07T08:44:22.371Z"
   },
   {
    "duration": 634,
    "start_time": "2022-07-07T08:45:29.906Z"
   },
   {
    "duration": 92,
    "start_time": "2022-07-07T08:47:08.247Z"
   },
   {
    "duration": 965,
    "start_time": "2022-07-07T08:47:08.855Z"
   },
   {
    "duration": 81,
    "start_time": "2022-07-07T08:47:09.827Z"
   },
   {
    "duration": 15,
    "start_time": "2022-07-07T08:47:13.344Z"
   },
   {
    "duration": 28,
    "start_time": "2022-07-07T08:47:14.122Z"
   },
   {
    "duration": 105,
    "start_time": "2022-07-07T08:47:14.663Z"
   },
   {
    "duration": 13,
    "start_time": "2022-07-07T08:47:15.149Z"
   },
   {
    "duration": 380,
    "start_time": "2022-07-07T08:47:15.609Z"
   },
   {
    "duration": 3,
    "start_time": "2022-07-07T08:47:16.154Z"
   },
   {
    "duration": 6,
    "start_time": "2022-07-07T08:47:16.720Z"
   },
   {
    "duration": 144,
    "start_time": "2022-07-07T08:48:48.290Z"
   },
   {
    "duration": 100,
    "start_time": "2022-07-07T08:48:52.658Z"
   },
   {
    "duration": 37,
    "start_time": "2022-07-07T08:49:12.079Z"
   },
   {
    "duration": 18,
    "start_time": "2022-07-07T08:49:14.947Z"
   },
   {
    "duration": 6,
    "start_time": "2022-07-07T08:49:16.561Z"
   },
   {
    "duration": 16,
    "start_time": "2022-07-07T08:49:24.255Z"
   },
   {
    "duration": 385,
    "start_time": "2022-07-07T08:49:25.265Z"
   },
   {
    "duration": 135,
    "start_time": "2022-07-07T08:50:56.197Z"
   },
   {
    "duration": 3,
    "start_time": "2022-07-07T08:53:42.295Z"
   },
   {
    "duration": 81,
    "start_time": "2022-07-07T08:53:43.594Z"
   },
   {
    "duration": 4,
    "start_time": "2022-07-07T08:53:59.153Z"
   },
   {
    "duration": 42,
    "start_time": "2022-07-07T08:54:03.798Z"
   },
   {
    "duration": 1663,
    "start_time": "2022-07-07T10:49:18.649Z"
   },
   {
    "duration": 1289,
    "start_time": "2022-07-07T10:49:20.453Z"
   },
   {
    "duration": 97,
    "start_time": "2022-07-07T10:49:21.796Z"
   },
   {
    "duration": 423,
    "start_time": "2022-07-07T10:49:23.292Z"
   },
   {
    "duration": 8,
    "start_time": "2022-07-07T10:49:27.140Z"
   },
   {
    "duration": 32,
    "start_time": "2022-07-07T10:49:28.196Z"
   },
   {
    "duration": 478,
    "start_time": "2022-07-07T10:49:30.532Z"
   },
   {
    "duration": 306,
    "start_time": "2022-07-07T10:49:33.681Z"
   },
   {
    "duration": 107,
    "start_time": "2022-07-07T10:49:34.341Z"
   },
   {
    "duration": 91,
    "start_time": "2022-07-07T10:49:39.157Z"
   },
   {
    "duration": 65,
    "start_time": "2022-07-07T10:49:39.801Z"
   },
   {
    "duration": 582,
    "start_time": "2022-07-07T10:49:41.420Z"
   },
   {
    "duration": 71,
    "start_time": "2022-07-07T10:49:44.717Z"
   },
   {
    "duration": 814,
    "start_time": "2022-07-07T10:49:45.373Z"
   },
   {
    "duration": 71,
    "start_time": "2022-07-07T10:49:46.420Z"
   },
   {
    "duration": 13,
    "start_time": "2022-07-07T10:49:50.301Z"
   },
   {
    "duration": 26,
    "start_time": "2022-07-07T10:49:50.862Z"
   },
   {
    "duration": 72,
    "start_time": "2022-07-07T10:49:51.625Z"
   },
   {
    "duration": 12,
    "start_time": "2022-07-07T10:49:52.166Z"
   },
   {
    "duration": 330,
    "start_time": "2022-07-07T10:49:52.965Z"
   },
   {
    "duration": 3,
    "start_time": "2022-07-07T10:50:05.780Z"
   },
   {
    "duration": 2,
    "start_time": "2022-07-07T10:50:06.525Z"
   },
   {
    "duration": 12871,
    "start_time": "2022-07-07T10:50:10.302Z"
   },
   {
    "duration": 124,
    "start_time": "2022-07-07T10:50:23.176Z"
   },
   {
    "duration": 59,
    "start_time": "2022-07-07T10:50:23.302Z"
   },
   {
    "duration": 36,
    "start_time": "2022-07-07T10:50:23.363Z"
   },
   {
    "duration": 31,
    "start_time": "2022-07-07T10:50:23.401Z"
   },
   {
    "duration": 5,
    "start_time": "2022-07-07T10:50:23.434Z"
   },
   {
    "duration": 12,
    "start_time": "2022-07-07T10:50:26.892Z"
   },
   {
    "duration": 317,
    "start_time": "2022-07-07T10:50:27.972Z"
   },
   {
    "duration": 133,
    "start_time": "2022-07-07T10:50:42.933Z"
   },
   {
    "duration": 7863,
    "start_time": "2022-07-07T10:50:54.876Z"
   },
   {
    "duration": 5,
    "start_time": "2022-07-07T10:51:23.885Z"
   },
   {
    "duration": 5,
    "start_time": "2022-07-07T10:58:04.666Z"
   },
   {
    "duration": 13,
    "start_time": "2022-07-07T10:58:12.823Z"
   },
   {
    "duration": 104,
    "start_time": "2022-07-07T10:58:26.040Z"
   },
   {
    "duration": 110,
    "start_time": "2022-07-07T10:59:15.044Z"
   },
   {
    "duration": 101,
    "start_time": "2022-07-07T11:00:28.031Z"
   },
   {
    "duration": 16,
    "start_time": "2022-07-07T11:00:33.174Z"
   },
   {
    "duration": 4,
    "start_time": "2022-07-07T11:00:50.742Z"
   },
   {
    "duration": 24,
    "start_time": "2022-07-07T11:01:02.430Z"
   },
   {
    "duration": 24,
    "start_time": "2022-07-07T11:01:26.237Z"
   },
   {
    "duration": 23,
    "start_time": "2022-07-07T11:02:13.469Z"
   },
   {
    "duration": 23,
    "start_time": "2022-07-07T11:02:43.582Z"
   },
   {
    "duration": 24,
    "start_time": "2022-07-07T11:02:58.541Z"
   },
   {
    "duration": 5,
    "start_time": "2022-07-07T11:03:18.831Z"
   },
   {
    "duration": 25,
    "start_time": "2022-07-07T11:03:23.087Z"
   },
   {
    "duration": 27,
    "start_time": "2022-07-07T11:03:35.539Z"
   },
   {
    "duration": 24,
    "start_time": "2022-07-07T11:03:48.661Z"
   },
   {
    "duration": 305,
    "start_time": "2022-07-07T11:04:06.502Z"
   },
   {
    "duration": 8233,
    "start_time": "2022-07-07T11:04:25.439Z"
   },
   {
    "duration": 8,
    "start_time": "2022-07-07T11:04:38.381Z"
   },
   {
    "duration": 12,
    "start_time": "2022-07-07T11:28:21.265Z"
   },
   {
    "duration": 13,
    "start_time": "2022-07-07T11:28:22.885Z"
   },
   {
    "duration": 299,
    "start_time": "2022-07-07T11:28:30.163Z"
   },
   {
    "duration": 689,
    "start_time": "2022-07-07T11:29:14.437Z"
   },
   {
    "duration": 705,
    "start_time": "2022-07-07T11:29:21.171Z"
   },
   {
    "duration": 6,
    "start_time": "2022-07-07T11:30:24.196Z"
   },
   {
    "duration": 53,
    "start_time": "2022-07-07T11:33:53.441Z"
   },
   {
    "duration": 389,
    "start_time": "2022-07-07T11:34:05.957Z"
   },
   {
    "duration": 625,
    "start_time": "2022-07-07T11:38:57.476Z"
   },
   {
    "duration": 633,
    "start_time": "2022-07-07T11:39:16.499Z"
   },
   {
    "duration": 641,
    "start_time": "2022-07-07T11:39:35.555Z"
   },
   {
    "duration": 641,
    "start_time": "2022-07-07T11:43:39.744Z"
   },
   {
    "duration": 638,
    "start_time": "2022-07-07T11:44:23.434Z"
   },
   {
    "duration": 13,
    "start_time": "2022-07-07T11:45:30.010Z"
   },
   {
    "duration": 16,
    "start_time": "2022-07-07T11:45:38.943Z"
   },
   {
    "duration": 17,
    "start_time": "2022-07-07T11:52:14.191Z"
   },
   {
    "duration": 12,
    "start_time": "2022-07-07T11:52:26.761Z"
   },
   {
    "duration": 615,
    "start_time": "2022-07-07T11:52:57.035Z"
   },
   {
    "duration": 17,
    "start_time": "2022-07-07T11:53:08.730Z"
   },
   {
    "duration": 14,
    "start_time": "2022-07-07T11:53:24.495Z"
   },
   {
    "duration": 7,
    "start_time": "2022-07-07T11:53:25.574Z"
   },
   {
    "duration": 15,
    "start_time": "2022-07-07T11:53:27.335Z"
   },
   {
    "duration": 341,
    "start_time": "2022-07-07T11:53:28.075Z"
   },
   {
    "duration": 623,
    "start_time": "2022-07-07T11:53:29.375Z"
   },
   {
    "duration": 49,
    "start_time": "2022-07-07T11:53:52.094Z"
   },
   {
    "duration": 1541,
    "start_time": "2022-07-07T11:54:09.857Z"
   },
   {
    "duration": 1330,
    "start_time": "2022-07-07T11:54:11.400Z"
   },
   {
    "duration": 94,
    "start_time": "2022-07-07T11:54:12.732Z"
   },
   {
    "duration": 448,
    "start_time": "2022-07-07T11:54:12.828Z"
   },
   {
    "duration": 9,
    "start_time": "2022-07-07T11:54:13.279Z"
   },
   {
    "duration": 48,
    "start_time": "2022-07-07T11:54:13.290Z"
   },
   {
    "duration": 465,
    "start_time": "2022-07-07T11:54:13.340Z"
   },
   {
    "duration": 300,
    "start_time": "2022-07-07T11:54:13.808Z"
   },
   {
    "duration": 93,
    "start_time": "2022-07-07T11:54:14.110Z"
   },
   {
    "duration": 104,
    "start_time": "2022-07-07T11:54:14.205Z"
   },
   {
    "duration": 74,
    "start_time": "2022-07-07T11:54:14.311Z"
   },
   {
    "duration": 641,
    "start_time": "2022-07-07T11:54:14.387Z"
   },
   {
    "duration": 70,
    "start_time": "2022-07-07T11:54:15.031Z"
   },
   {
    "duration": 817,
    "start_time": "2022-07-07T11:54:15.104Z"
   },
   {
    "duration": 67,
    "start_time": "2022-07-07T11:54:15.922Z"
   },
   {
    "duration": 17,
    "start_time": "2022-07-07T11:54:15.991Z"
   },
   {
    "duration": 25,
    "start_time": "2022-07-07T11:54:16.023Z"
   },
   {
    "duration": 94,
    "start_time": "2022-07-07T11:54:16.049Z"
   },
   {
    "duration": 11,
    "start_time": "2022-07-07T11:54:16.145Z"
   },
   {
    "duration": 309,
    "start_time": "2022-07-07T11:54:16.158Z"
   },
   {
    "duration": 2,
    "start_time": "2022-07-07T11:54:16.469Z"
   },
   {
    "duration": 7,
    "start_time": "2022-07-07T11:54:16.473Z"
   },
   {
    "duration": 12621,
    "start_time": "2022-07-07T11:54:16.482Z"
   },
   {
    "duration": 106,
    "start_time": "2022-07-07T11:54:29.105Z"
   },
   {
    "duration": 63,
    "start_time": "2022-07-07T11:54:29.213Z"
   },
   {
    "duration": 51,
    "start_time": "2022-07-07T11:54:29.278Z"
   },
   {
    "duration": 13,
    "start_time": "2022-07-07T11:54:29.331Z"
   },
   {
    "duration": 23,
    "start_time": "2022-07-07T11:54:29.346Z"
   },
   {
    "duration": 33,
    "start_time": "2022-07-07T11:54:29.371Z"
   },
   {
    "duration": 285,
    "start_time": "2022-07-07T11:54:29.406Z"
   },
   {
    "duration": 657,
    "start_time": "2022-07-07T11:54:29.693Z"
   },
   {
    "duration": 1456,
    "start_time": "2022-07-07T11:54:34.655Z"
   },
   {
    "duration": 679,
    "start_time": "2022-07-07T11:55:18.156Z"
   },
   {
    "duration": 1612,
    "start_time": "2022-07-07T11:59:34.686Z"
   },
   {
    "duration": 1290,
    "start_time": "2022-07-07T11:59:36.300Z"
   },
   {
    "duration": 105,
    "start_time": "2022-07-07T11:59:37.592Z"
   },
   {
    "duration": 461,
    "start_time": "2022-07-07T11:59:37.699Z"
   },
   {
    "duration": 7,
    "start_time": "2022-07-07T11:59:38.163Z"
   },
   {
    "duration": 36,
    "start_time": "2022-07-07T11:59:38.172Z"
   },
   {
    "duration": 478,
    "start_time": "2022-07-07T11:59:38.223Z"
   },
   {
    "duration": 327,
    "start_time": "2022-07-07T11:59:38.703Z"
   },
   {
    "duration": 91,
    "start_time": "2022-07-07T11:59:39.033Z"
   },
   {
    "duration": 100,
    "start_time": "2022-07-07T11:59:39.125Z"
   },
   {
    "duration": 64,
    "start_time": "2022-07-07T11:59:39.228Z"
   },
   {
    "duration": 601,
    "start_time": "2022-07-07T11:59:39.294Z"
   },
   {
    "duration": 78,
    "start_time": "2022-07-07T11:59:39.897Z"
   },
   {
    "duration": 823,
    "start_time": "2022-07-07T11:59:39.979Z"
   },
   {
    "duration": 66,
    "start_time": "2022-07-07T11:59:40.804Z"
   },
   {
    "duration": 13,
    "start_time": "2022-07-07T11:59:40.872Z"
   },
   {
    "duration": 47,
    "start_time": "2022-07-07T11:59:40.887Z"
   },
   {
    "duration": 87,
    "start_time": "2022-07-07T11:59:40.935Z"
   },
   {
    "duration": 12,
    "start_time": "2022-07-07T11:59:41.024Z"
   },
   {
    "duration": 340,
    "start_time": "2022-07-07T11:59:41.038Z"
   },
   {
    "duration": 2,
    "start_time": "2022-07-07T11:59:41.380Z"
   },
   {
    "duration": 14,
    "start_time": "2022-07-07T11:59:41.384Z"
   },
   {
    "duration": 13330,
    "start_time": "2022-07-07T11:59:41.399Z"
   },
   {
    "duration": 118,
    "start_time": "2022-07-07T11:59:54.731Z"
   },
   {
    "duration": 55,
    "start_time": "2022-07-07T11:59:54.851Z"
   },
   {
    "duration": 53,
    "start_time": "2022-07-07T11:59:54.907Z"
   },
   {
    "duration": 12,
    "start_time": "2022-07-07T11:59:54.962Z"
   },
   {
    "duration": 5,
    "start_time": "2022-07-07T11:59:54.976Z"
   },
   {
    "duration": 41,
    "start_time": "2022-07-07T11:59:54.983Z"
   },
   {
    "duration": 306,
    "start_time": "2022-07-07T11:59:55.026Z"
   },
   {
    "duration": 624,
    "start_time": "2022-07-07T11:59:55.333Z"
   },
   {
    "duration": 1410,
    "start_time": "2022-07-07T11:59:55.959Z"
   },
   {
    "duration": 662,
    "start_time": "2022-07-07T12:00:07.486Z"
   },
   {
    "duration": 196,
    "start_time": "2022-07-07T12:01:41.341Z"
   },
   {
    "duration": 21,
    "start_time": "2022-07-07T12:02:03.590Z"
   },
   {
    "duration": 1713,
    "start_time": "2022-07-07T12:02:39.774Z"
   },
   {
    "duration": 833,
    "start_time": "2022-07-07T12:02:55.650Z"
   },
   {
    "duration": 1247,
    "start_time": "2022-07-07T12:03:00.870Z"
   },
   {
    "duration": 14,
    "start_time": "2022-07-07T12:03:12.998Z"
   },
   {
    "duration": 7,
    "start_time": "2022-07-07T12:03:14.028Z"
   },
   {
    "duration": 19,
    "start_time": "2022-07-07T12:03:15.427Z"
   },
   {
    "duration": 333,
    "start_time": "2022-07-07T12:03:16.237Z"
   },
   {
    "duration": 667,
    "start_time": "2022-07-07T12:03:17.030Z"
   },
   {
    "duration": 1598,
    "start_time": "2022-07-07T12:03:19.766Z"
   },
   {
    "duration": 636,
    "start_time": "2022-07-07T12:03:25.042Z"
   },
   {
    "duration": 48,
    "start_time": "2022-07-07T12:08:07.254Z"
   },
   {
    "duration": 1618,
    "start_time": "2022-07-07T12:08:18.170Z"
   },
   {
    "duration": 1350,
    "start_time": "2022-07-07T12:08:19.791Z"
   },
   {
    "duration": 108,
    "start_time": "2022-07-07T12:08:21.143Z"
   },
   {
    "duration": 474,
    "start_time": "2022-07-07T12:08:21.253Z"
   },
   {
    "duration": 11,
    "start_time": "2022-07-07T12:08:21.730Z"
   },
   {
    "duration": 42,
    "start_time": "2022-07-07T12:08:21.743Z"
   },
   {
    "duration": 521,
    "start_time": "2022-07-07T12:08:21.790Z"
   },
   {
    "duration": 317,
    "start_time": "2022-07-07T12:08:22.312Z"
   },
   {
    "duration": 91,
    "start_time": "2022-07-07T12:08:22.633Z"
   },
   {
    "duration": 113,
    "start_time": "2022-07-07T12:08:22.726Z"
   },
   {
    "duration": 62,
    "start_time": "2022-07-07T12:08:22.840Z"
   },
   {
    "duration": 697,
    "start_time": "2022-07-07T12:08:22.904Z"
   },
   {
    "duration": 85,
    "start_time": "2022-07-07T12:08:23.603Z"
   },
   {
    "duration": 978,
    "start_time": "2022-07-07T12:08:23.691Z"
   },
   {
    "duration": 97,
    "start_time": "2022-07-07T12:08:24.671Z"
   },
   {
    "duration": 23,
    "start_time": "2022-07-07T12:08:24.769Z"
   },
   {
    "duration": 35,
    "start_time": "2022-07-07T12:08:24.794Z"
   },
   {
    "duration": 97,
    "start_time": "2022-07-07T12:08:24.832Z"
   },
   {
    "duration": 25,
    "start_time": "2022-07-07T12:08:24.935Z"
   },
   {
    "duration": 369,
    "start_time": "2022-07-07T12:08:24.962Z"
   },
   {
    "duration": 4,
    "start_time": "2022-07-07T12:08:25.334Z"
   },
   {
    "duration": 20,
    "start_time": "2022-07-07T12:08:25.340Z"
   },
   {
    "duration": 15647,
    "start_time": "2022-07-07T12:08:25.362Z"
   },
   {
    "duration": 158,
    "start_time": "2022-07-07T12:08:41.011Z"
   },
   {
    "duration": 60,
    "start_time": "2022-07-07T12:08:41.170Z"
   },
   {
    "duration": 64,
    "start_time": "2022-07-07T12:08:41.232Z"
   },
   {
    "duration": 15,
    "start_time": "2022-07-07T12:08:41.298Z"
   },
   {
    "duration": 49,
    "start_time": "2022-07-07T12:08:41.315Z"
   },
   {
    "duration": 24,
    "start_time": "2022-07-07T12:08:41.366Z"
   },
   {
    "duration": 396,
    "start_time": "2022-07-07T12:08:41.392Z"
   },
   {
    "duration": 700,
    "start_time": "2022-07-07T12:08:41.790Z"
   },
   {
    "duration": 1685,
    "start_time": "2022-07-07T12:08:42.491Z"
   },
   {
    "duration": 807,
    "start_time": "2022-07-07T12:08:44.177Z"
   },
   {
    "duration": 1651,
    "start_time": "2022-07-07T12:08:51.850Z"
   },
   {
    "duration": 1780,
    "start_time": "2022-07-07T12:09:23.295Z"
   },
   {
    "duration": 1453,
    "start_time": "2022-07-07T12:09:25.078Z"
   },
   {
    "duration": 104,
    "start_time": "2022-07-07T12:09:26.538Z"
   },
   {
    "duration": 511,
    "start_time": "2022-07-07T12:09:26.645Z"
   },
   {
    "duration": 8,
    "start_time": "2022-07-07T12:09:27.157Z"
   },
   {
    "duration": 32,
    "start_time": "2022-07-07T12:09:27.167Z"
   },
   {
    "duration": 548,
    "start_time": "2022-07-07T12:09:27.202Z"
   },
   {
    "duration": 336,
    "start_time": "2022-07-07T12:09:27.752Z"
   },
   {
    "duration": 99,
    "start_time": "2022-07-07T12:09:28.090Z"
   },
   {
    "duration": 106,
    "start_time": "2022-07-07T12:09:28.192Z"
   },
   {
    "duration": 79,
    "start_time": "2022-07-07T12:09:28.299Z"
   },
   {
    "duration": 658,
    "start_time": "2022-07-07T12:09:28.380Z"
   },
   {
    "duration": 72,
    "start_time": "2022-07-07T12:09:29.039Z"
   },
   {
    "duration": 874,
    "start_time": "2022-07-07T12:09:29.112Z"
   },
   {
    "duration": 91,
    "start_time": "2022-07-07T12:09:29.988Z"
   },
   {
    "duration": 27,
    "start_time": "2022-07-07T12:09:30.081Z"
   },
   {
    "duration": 38,
    "start_time": "2022-07-07T12:09:30.110Z"
   },
   {
    "duration": 95,
    "start_time": "2022-07-07T12:09:30.150Z"
   },
   {
    "duration": 13,
    "start_time": "2022-07-07T12:09:30.246Z"
   },
   {
    "duration": 375,
    "start_time": "2022-07-07T12:09:30.262Z"
   },
   {
    "duration": 3,
    "start_time": "2022-07-07T12:09:30.640Z"
   },
   {
    "duration": 12,
    "start_time": "2022-07-07T12:09:30.645Z"
   },
   {
    "duration": 15003,
    "start_time": "2022-07-07T12:09:30.658Z"
   },
   {
    "duration": 125,
    "start_time": "2022-07-07T12:09:45.663Z"
   },
   {
    "duration": 70,
    "start_time": "2022-07-07T12:09:45.790Z"
   },
   {
    "duration": 43,
    "start_time": "2022-07-07T12:09:45.862Z"
   },
   {
    "duration": 35,
    "start_time": "2022-07-07T12:09:45.907Z"
   },
   {
    "duration": 21,
    "start_time": "2022-07-07T12:09:45.947Z"
   },
   {
    "duration": 27,
    "start_time": "2022-07-07T12:09:45.971Z"
   },
   {
    "duration": 367,
    "start_time": "2022-07-07T12:09:46.000Z"
   },
   {
    "duration": 699,
    "start_time": "2022-07-07T12:09:46.369Z"
   },
   {
    "duration": 1961,
    "start_time": "2022-07-07T12:09:47.070Z"
   },
   {
    "duration": 761,
    "start_time": "2022-07-07T12:10:02.943Z"
   },
   {
    "duration": 1657,
    "start_time": "2022-07-07T12:10:05.416Z"
   },
   {
    "duration": 1710,
    "start_time": "2022-07-07T12:11:20.539Z"
   },
   {
    "duration": 1527,
    "start_time": "2022-07-07T12:11:22.251Z"
   },
   {
    "duration": 102,
    "start_time": "2022-07-07T12:11:23.780Z"
   },
   {
    "duration": 486,
    "start_time": "2022-07-07T12:11:23.884Z"
   },
   {
    "duration": 9,
    "start_time": "2022-07-07T12:11:24.373Z"
   },
   {
    "duration": 61,
    "start_time": "2022-07-07T12:11:24.384Z"
   },
   {
    "duration": 545,
    "start_time": "2022-07-07T12:11:24.448Z"
   },
   {
    "duration": 312,
    "start_time": "2022-07-07T12:11:24.994Z"
   },
   {
    "duration": 95,
    "start_time": "2022-07-07T12:11:25.308Z"
   },
   {
    "duration": 112,
    "start_time": "2022-07-07T12:11:25.405Z"
   },
   {
    "duration": 70,
    "start_time": "2022-07-07T12:11:25.522Z"
   },
   {
    "duration": 685,
    "start_time": "2022-07-07T12:11:25.593Z"
   },
   {
    "duration": 86,
    "start_time": "2022-07-07T12:11:26.280Z"
   },
   {
    "duration": 1003,
    "start_time": "2022-07-07T12:11:26.370Z"
   },
   {
    "duration": 84,
    "start_time": "2022-07-07T12:11:27.375Z"
   },
   {
    "duration": 21,
    "start_time": "2022-07-07T12:11:27.461Z"
   },
   {
    "duration": 53,
    "start_time": "2022-07-07T12:11:27.484Z"
   },
   {
    "duration": 96,
    "start_time": "2022-07-07T12:11:27.539Z"
   },
   {
    "duration": 21,
    "start_time": "2022-07-07T12:11:27.637Z"
   },
   {
    "duration": 386,
    "start_time": "2022-07-07T12:11:27.660Z"
   },
   {
    "duration": 6,
    "start_time": "2022-07-07T12:11:28.047Z"
   },
   {
    "duration": 8,
    "start_time": "2022-07-07T12:11:28.055Z"
   },
   {
    "duration": 15109,
    "start_time": "2022-07-07T12:11:28.065Z"
   },
   {
    "duration": 146,
    "start_time": "2022-07-07T12:11:43.176Z"
   },
   {
    "duration": 55,
    "start_time": "2022-07-07T12:11:43.335Z"
   },
   {
    "duration": 50,
    "start_time": "2022-07-07T12:11:43.392Z"
   },
   {
    "duration": 13,
    "start_time": "2022-07-07T12:11:43.444Z"
   },
   {
    "duration": 6,
    "start_time": "2022-07-07T12:11:43.459Z"
   },
   {
    "duration": 20,
    "start_time": "2022-07-07T12:11:43.466Z"
   },
   {
    "duration": 387,
    "start_time": "2022-07-07T12:11:43.488Z"
   },
   {
    "duration": 688,
    "start_time": "2022-07-07T12:11:43.877Z"
   },
   {
    "duration": 1901,
    "start_time": "2022-07-07T12:11:44.567Z"
   },
   {
    "duration": 697,
    "start_time": "2022-07-07T12:11:46.470Z"
   },
   {
    "duration": 722,
    "start_time": "2022-07-07T12:12:08.551Z"
   },
   {
    "duration": 3,
    "start_time": "2022-07-07T12:12:41.186Z"
   },
   {
    "duration": 3,
    "start_time": "2022-07-07T12:16:41.270Z"
   },
   {
    "duration": 5,
    "start_time": "2022-07-07T12:16:46.241Z"
   },
   {
    "duration": 479,
    "start_time": "2022-07-07T12:16:47.175Z"
   },
   {
    "duration": 90,
    "start_time": "2022-07-07T12:17:09.835Z"
   },
   {
    "duration": 1761,
    "start_time": "2022-07-07T12:17:46.708Z"
   },
   {
    "duration": 1221,
    "start_time": "2022-07-07T12:17:48.471Z"
   },
   {
    "duration": 121,
    "start_time": "2022-07-07T12:17:49.694Z"
   },
   {
    "duration": 542,
    "start_time": "2022-07-07T12:17:49.817Z"
   },
   {
    "duration": 10,
    "start_time": "2022-07-07T12:17:50.362Z"
   },
   {
    "duration": 55,
    "start_time": "2022-07-07T12:17:50.374Z"
   },
   {
    "duration": 563,
    "start_time": "2022-07-07T12:17:50.431Z"
   },
   {
    "duration": 328,
    "start_time": "2022-07-07T12:17:50.996Z"
   },
   {
    "duration": 92,
    "start_time": "2022-07-07T12:17:51.328Z"
   },
   {
    "duration": 114,
    "start_time": "2022-07-07T12:17:51.425Z"
   },
   {
    "duration": 68,
    "start_time": "2022-07-07T12:17:51.540Z"
   },
   {
    "duration": 635,
    "start_time": "2022-07-07T12:17:51.609Z"
   },
   {
    "duration": 91,
    "start_time": "2022-07-07T12:17:52.246Z"
   },
   {
    "duration": 918,
    "start_time": "2022-07-07T12:17:52.340Z"
   },
   {
    "duration": 96,
    "start_time": "2022-07-07T12:17:53.261Z"
   },
   {
    "duration": 15,
    "start_time": "2022-07-07T12:17:53.359Z"
   },
   {
    "duration": 60,
    "start_time": "2022-07-07T12:17:53.376Z"
   },
   {
    "duration": 75,
    "start_time": "2022-07-07T12:17:53.440Z"
   },
   {
    "duration": 25,
    "start_time": "2022-07-07T12:17:53.517Z"
   },
   {
    "duration": 354,
    "start_time": "2022-07-07T12:17:53.545Z"
   },
   {
    "duration": 3,
    "start_time": "2022-07-07T12:17:53.901Z"
   },
   {
    "duration": 8,
    "start_time": "2022-07-07T12:17:53.905Z"
   },
   {
    "duration": 15562,
    "start_time": "2022-07-07T12:17:53.914Z"
   },
   {
    "duration": 126,
    "start_time": "2022-07-07T12:18:09.479Z"
   },
   {
    "duration": 74,
    "start_time": "2022-07-07T12:18:09.607Z"
   },
   {
    "duration": 72,
    "start_time": "2022-07-07T12:18:09.683Z"
   },
   {
    "duration": 15,
    "start_time": "2022-07-07T12:18:09.759Z"
   },
   {
    "duration": 14,
    "start_time": "2022-07-07T12:18:09.775Z"
   },
   {
    "duration": 17,
    "start_time": "2022-07-07T12:18:09.790Z"
   },
   {
    "duration": 379,
    "start_time": "2022-07-07T12:18:09.826Z"
   },
   {
    "duration": 1658,
    "start_time": "2022-07-07T12:20:22.383Z"
   },
   {
    "duration": 1233,
    "start_time": "2022-07-07T12:20:24.043Z"
   },
   {
    "duration": 115,
    "start_time": "2022-07-07T12:20:25.278Z"
   },
   {
    "duration": 504,
    "start_time": "2022-07-07T12:20:25.396Z"
   },
   {
    "duration": 8,
    "start_time": "2022-07-07T12:20:25.902Z"
   },
   {
    "duration": 59,
    "start_time": "2022-07-07T12:20:25.911Z"
   },
   {
    "duration": 565,
    "start_time": "2022-07-07T12:20:25.973Z"
   },
   {
    "duration": 321,
    "start_time": "2022-07-07T12:20:26.541Z"
   },
   {
    "duration": 117,
    "start_time": "2022-07-07T12:20:26.864Z"
   },
   {
    "duration": 124,
    "start_time": "2022-07-07T12:20:26.983Z"
   },
   {
    "duration": 83,
    "start_time": "2022-07-07T12:20:27.109Z"
   },
   {
    "duration": 677,
    "start_time": "2022-07-07T12:20:27.194Z"
   },
   {
    "duration": 91,
    "start_time": "2022-07-07T12:20:27.873Z"
   },
   {
    "duration": 917,
    "start_time": "2022-07-07T12:20:27.968Z"
   },
   {
    "duration": 83,
    "start_time": "2022-07-07T12:20:28.887Z"
   },
   {
    "duration": 13,
    "start_time": "2022-07-07T12:20:28.972Z"
   },
   {
    "duration": 56,
    "start_time": "2022-07-07T12:20:28.987Z"
   },
   {
    "duration": 103,
    "start_time": "2022-07-07T12:20:29.046Z"
   },
   {
    "duration": 13,
    "start_time": "2022-07-07T12:20:29.151Z"
   },
   {
    "duration": 362,
    "start_time": "2022-07-07T12:20:29.166Z"
   },
   {
    "duration": 9,
    "start_time": "2022-07-07T12:20:29.530Z"
   },
   {
    "duration": 11,
    "start_time": "2022-07-07T12:20:29.544Z"
   },
   {
    "duration": 15306,
    "start_time": "2022-07-07T12:20:29.557Z"
   },
   {
    "duration": 125,
    "start_time": "2022-07-07T12:20:44.866Z"
   },
   {
    "duration": 73,
    "start_time": "2022-07-07T12:20:44.993Z"
   },
   {
    "duration": 69,
    "start_time": "2022-07-07T12:20:45.069Z"
   },
   {
    "duration": 15,
    "start_time": "2022-07-07T12:20:45.141Z"
   },
   {
    "duration": 9,
    "start_time": "2022-07-07T12:20:45.158Z"
   },
   {
    "duration": 18,
    "start_time": "2022-07-07T12:20:45.169Z"
   },
   {
    "duration": 397,
    "start_time": "2022-07-07T12:20:45.189Z"
   },
   {
    "duration": 659,
    "start_time": "2022-07-07T12:20:45.588Z"
   },
   {
    "duration": 1969,
    "start_time": "2022-07-07T12:20:46.249Z"
   },
   {
    "duration": 686,
    "start_time": "2022-07-07T12:20:48.222Z"
   },
   {
    "duration": 701,
    "start_time": "2022-07-07T12:21:07.136Z"
   },
   {
    "duration": 1672,
    "start_time": "2022-07-07T12:21:14.039Z"
   },
   {
    "duration": 60,
    "start_time": "2022-07-07T12:21:25.687Z"
   },
   {
    "duration": 7,
    "start_time": "2022-07-07T12:21:28.863Z"
   },
   {
    "duration": 1748,
    "start_time": "2022-07-07T12:21:44.072Z"
   },
   {
    "duration": 1680,
    "start_time": "2022-07-07T12:21:45.822Z"
   },
   {
    "duration": 114,
    "start_time": "2022-07-07T12:21:47.505Z"
   },
   {
    "duration": 525,
    "start_time": "2022-07-07T12:21:47.621Z"
   },
   {
    "duration": 8,
    "start_time": "2022-07-07T12:21:48.148Z"
   },
   {
    "duration": 37,
    "start_time": "2022-07-07T12:21:48.157Z"
   },
   {
    "duration": 542,
    "start_time": "2022-07-07T12:21:48.196Z"
   },
   {
    "duration": 313,
    "start_time": "2022-07-07T12:21:48.746Z"
   },
   {
    "duration": 93,
    "start_time": "2022-07-07T12:21:49.061Z"
   },
   {
    "duration": 112,
    "start_time": "2022-07-07T12:21:49.157Z"
   },
   {
    "duration": 86,
    "start_time": "2022-07-07T12:21:49.271Z"
   },
   {
    "duration": 682,
    "start_time": "2022-07-07T12:21:49.359Z"
   },
   {
    "duration": 69,
    "start_time": "2022-07-07T12:21:50.043Z"
   },
   {
    "duration": 953,
    "start_time": "2022-07-07T12:21:50.122Z"
   },
   {
    "duration": 81,
    "start_time": "2022-07-07T12:21:51.077Z"
   },
   {
    "duration": 13,
    "start_time": "2022-07-07T12:21:51.161Z"
   },
   {
    "duration": 53,
    "start_time": "2022-07-07T12:21:51.176Z"
   },
   {
    "duration": 95,
    "start_time": "2022-07-07T12:21:51.231Z"
   },
   {
    "duration": 20,
    "start_time": "2022-07-07T12:21:51.335Z"
   },
   {
    "duration": 351,
    "start_time": "2022-07-07T12:21:51.358Z"
   },
   {
    "duration": 3,
    "start_time": "2022-07-07T12:21:51.711Z"
   },
   {
    "duration": 26,
    "start_time": "2022-07-07T12:21:51.715Z"
   },
   {
    "duration": 15217,
    "start_time": "2022-07-07T12:21:51.743Z"
   },
   {
    "duration": 132,
    "start_time": "2022-07-07T12:22:06.962Z"
   },
   {
    "duration": 69,
    "start_time": "2022-07-07T12:22:07.096Z"
   },
   {
    "duration": 42,
    "start_time": "2022-07-07T12:22:07.166Z"
   },
   {
    "duration": 21,
    "start_time": "2022-07-07T12:22:07.223Z"
   },
   {
    "duration": 38,
    "start_time": "2022-07-07T12:22:07.249Z"
   },
   {
    "duration": 45,
    "start_time": "2022-07-07T12:22:07.289Z"
   },
   {
    "duration": 377,
    "start_time": "2022-07-07T12:22:07.336Z"
   },
   {
    "duration": 698,
    "start_time": "2022-07-07T12:22:07.715Z"
   },
   {
    "duration": 1954,
    "start_time": "2022-07-07T12:22:08.416Z"
   },
   {
    "duration": 693,
    "start_time": "2022-07-07T12:22:10.372Z"
   },
   {
    "duration": 1666,
    "start_time": "2022-07-07T12:22:48.871Z"
   },
   {
    "duration": 1914,
    "start_time": "2022-07-07T12:24:04.020Z"
   },
   {
    "duration": 1739,
    "start_time": "2022-07-07T12:24:05.939Z"
   },
   {
    "duration": 119,
    "start_time": "2022-07-07T12:24:07.680Z"
   },
   {
    "duration": 635,
    "start_time": "2022-07-07T12:24:07.801Z"
   },
   {
    "duration": 11,
    "start_time": "2022-07-07T12:24:08.438Z"
   },
   {
    "duration": 50,
    "start_time": "2022-07-07T12:24:08.452Z"
   },
   {
    "duration": 746,
    "start_time": "2022-07-07T12:24:08.505Z"
   },
   {
    "duration": 352,
    "start_time": "2022-07-07T12:24:09.253Z"
   },
   {
    "duration": 104,
    "start_time": "2022-07-07T12:24:09.607Z"
   },
   {
    "duration": 140,
    "start_time": "2022-07-07T12:24:09.724Z"
   },
   {
    "duration": 93,
    "start_time": "2022-07-07T12:24:09.867Z"
   },
   {
    "duration": 742,
    "start_time": "2022-07-07T12:24:09.962Z"
   },
   {
    "duration": 82,
    "start_time": "2022-07-07T12:24:10.706Z"
   },
   {
    "duration": 972,
    "start_time": "2022-07-07T12:24:10.790Z"
   },
   {
    "duration": 113,
    "start_time": "2022-07-07T12:24:11.765Z"
   },
   {
    "duration": 17,
    "start_time": "2022-07-07T12:24:11.880Z"
   },
   {
    "duration": 48,
    "start_time": "2022-07-07T12:24:11.899Z"
   },
   {
    "duration": 102,
    "start_time": "2022-07-07T12:24:11.948Z"
   },
   {
    "duration": 12,
    "start_time": "2022-07-07T12:24:12.052Z"
   },
   {
    "duration": 387,
    "start_time": "2022-07-07T12:24:12.066Z"
   },
   {
    "duration": 3,
    "start_time": "2022-07-07T12:24:12.455Z"
   },
   {
    "duration": 9,
    "start_time": "2022-07-07T12:24:12.460Z"
   },
   {
    "duration": 14963,
    "start_time": "2022-07-07T12:24:12.471Z"
   },
   {
    "duration": 118,
    "start_time": "2022-07-07T12:24:27.435Z"
   },
   {
    "duration": 56,
    "start_time": "2022-07-07T12:24:27.555Z"
   },
   {
    "duration": 43,
    "start_time": "2022-07-07T12:24:27.623Z"
   },
   {
    "duration": 13,
    "start_time": "2022-07-07T12:24:27.668Z"
   },
   {
    "duration": 6,
    "start_time": "2022-07-07T12:24:27.684Z"
   },
   {
    "duration": 47,
    "start_time": "2022-07-07T12:24:27.692Z"
   },
   {
    "duration": 361,
    "start_time": "2022-07-07T12:24:27.741Z"
   },
   {
    "duration": 652,
    "start_time": "2022-07-07T12:24:28.103Z"
   },
   {
    "duration": 1749,
    "start_time": "2022-07-07T12:24:28.757Z"
   },
   {
    "duration": 693,
    "start_time": "2022-07-07T12:24:30.508Z"
   },
   {
    "duration": 788,
    "start_time": "2022-07-07T12:24:40.919Z"
   },
   {
    "duration": 698,
    "start_time": "2022-07-07T12:25:00.536Z"
   },
   {
    "duration": 4,
    "start_time": "2022-07-07T12:25:03.433Z"
   },
   {
    "duration": 5,
    "start_time": "2022-07-07T12:25:07.180Z"
   },
   {
    "duration": 493,
    "start_time": "2022-07-07T12:25:07.801Z"
   },
   {
    "duration": 1702,
    "start_time": "2022-07-07T12:33:02.118Z"
   },
   {
    "duration": 1326,
    "start_time": "2022-07-07T12:33:03.822Z"
   },
   {
    "duration": 112,
    "start_time": "2022-07-07T12:33:05.150Z"
   },
   {
    "duration": 490,
    "start_time": "2022-07-07T12:33:05.264Z"
   },
   {
    "duration": 9,
    "start_time": "2022-07-07T12:33:05.756Z"
   },
   {
    "duration": 33,
    "start_time": "2022-07-07T12:33:05.767Z"
   },
   {
    "duration": 634,
    "start_time": "2022-07-07T12:33:05.802Z"
   },
   {
    "duration": 314,
    "start_time": "2022-07-07T12:33:06.438Z"
   },
   {
    "duration": 94,
    "start_time": "2022-07-07T12:33:06.754Z"
   },
   {
    "duration": 118,
    "start_time": "2022-07-07T12:33:06.851Z"
   },
   {
    "duration": 84,
    "start_time": "2022-07-07T12:33:06.971Z"
   },
   {
    "duration": 639,
    "start_time": "2022-07-07T12:33:07.057Z"
   },
   {
    "duration": 86,
    "start_time": "2022-07-07T12:33:07.698Z"
   },
   {
    "duration": 1016,
    "start_time": "2022-07-07T12:33:07.786Z"
   },
   {
    "duration": 93,
    "start_time": "2022-07-07T12:33:08.804Z"
   },
   {
    "duration": 17,
    "start_time": "2022-07-07T12:33:08.900Z"
   },
   {
    "duration": 51,
    "start_time": "2022-07-07T12:33:08.925Z"
   },
   {
    "duration": 184,
    "start_time": "2022-07-07T12:33:08.978Z"
   },
   {
    "duration": 81,
    "start_time": "2022-07-07T12:33:09.164Z"
   },
   {
    "duration": 526,
    "start_time": "2022-07-07T12:33:09.248Z"
   },
   {
    "duration": 3,
    "start_time": "2022-07-07T12:33:09.775Z"
   },
   {
    "duration": 14,
    "start_time": "2022-07-07T12:33:09.779Z"
   },
   {
    "duration": 15001,
    "start_time": "2022-07-07T12:33:09.795Z"
   },
   {
    "duration": 132,
    "start_time": "2022-07-07T12:33:24.798Z"
   },
   {
    "duration": 61,
    "start_time": "2022-07-07T12:33:24.938Z"
   },
   {
    "duration": 47,
    "start_time": "2022-07-07T12:33:25.001Z"
   },
   {
    "duration": 14,
    "start_time": "2022-07-07T12:33:25.050Z"
   },
   {
    "duration": 6,
    "start_time": "2022-07-07T12:33:25.068Z"
   },
   {
    "duration": 34,
    "start_time": "2022-07-07T12:33:25.075Z"
   },
   {
    "duration": 367,
    "start_time": "2022-07-07T12:33:25.111Z"
   },
   {
    "duration": 684,
    "start_time": "2022-07-07T12:33:25.480Z"
   },
   {
    "duration": 1654,
    "start_time": "2022-07-07T12:33:26.166Z"
   },
   {
    "duration": 681,
    "start_time": "2022-07-07T12:33:36.605Z"
   },
   {
    "duration": 111,
    "start_time": "2022-07-07T12:33:51.957Z"
   },
   {
    "duration": 24,
    "start_time": "2022-07-07T12:35:05.045Z"
   },
   {
    "duration": 638,
    "start_time": "2022-07-07T12:35:28.268Z"
   },
   {
    "duration": 77,
    "start_time": "2022-07-07T12:35:36.261Z"
   },
   {
    "duration": 36,
    "start_time": "2022-07-07T12:35:55.324Z"
   },
   {
    "duration": 4,
    "start_time": "2022-07-07T12:38:52.997Z"
   },
   {
    "duration": 119,
    "start_time": "2022-07-07T12:39:07.749Z"
   },
   {
    "duration": 4,
    "start_time": "2022-07-07T12:39:11.677Z"
   },
   {
    "duration": 645,
    "start_time": "2022-07-07T12:40:26.725Z"
   },
   {
    "duration": 80,
    "start_time": "2022-07-07T12:40:36.925Z"
   },
   {
    "duration": 26,
    "start_time": "2022-07-07T12:45:38.157Z"
   },
   {
    "duration": 25,
    "start_time": "2022-07-07T12:45:56.637Z"
   },
   {
    "duration": 43,
    "start_time": "2022-07-07T12:46:04.157Z"
   },
   {
    "duration": 26,
    "start_time": "2022-07-07T12:46:15.406Z"
   },
   {
    "duration": 27,
    "start_time": "2022-07-07T12:46:20.501Z"
   },
   {
    "duration": 27,
    "start_time": "2022-07-07T12:46:27.662Z"
   },
   {
    "duration": 26,
    "start_time": "2022-07-07T12:46:39.077Z"
   },
   {
    "duration": 1610,
    "start_time": "2022-07-07T12:47:11.769Z"
   },
   {
    "duration": 1210,
    "start_time": "2022-07-07T12:47:13.381Z"
   },
   {
    "duration": 130,
    "start_time": "2022-07-07T12:47:14.593Z"
   },
   {
    "duration": 526,
    "start_time": "2022-07-07T12:47:14.727Z"
   },
   {
    "duration": 8,
    "start_time": "2022-07-07T12:47:15.256Z"
   },
   {
    "duration": 51,
    "start_time": "2022-07-07T12:47:15.266Z"
   },
   {
    "duration": 558,
    "start_time": "2022-07-07T12:47:15.322Z"
   },
   {
    "duration": 336,
    "start_time": "2022-07-07T12:47:15.882Z"
   },
   {
    "duration": 93,
    "start_time": "2022-07-07T12:47:16.219Z"
   },
   {
    "duration": 106,
    "start_time": "2022-07-07T12:47:16.324Z"
   },
   {
    "duration": 73,
    "start_time": "2022-07-07T12:47:16.434Z"
   },
   {
    "duration": 663,
    "start_time": "2022-07-07T12:47:16.522Z"
   },
   {
    "duration": 88,
    "start_time": "2022-07-07T12:47:17.187Z"
   },
   {
    "duration": 911,
    "start_time": "2022-07-07T12:47:17.278Z"
   },
   {
    "duration": 80,
    "start_time": "2022-07-07T12:47:18.190Z"
   },
   {
    "duration": 13,
    "start_time": "2022-07-07T12:47:18.271Z"
   },
   {
    "duration": 52,
    "start_time": "2022-07-07T12:47:18.286Z"
   },
   {
    "duration": 83,
    "start_time": "2022-07-07T12:47:18.341Z"
   },
   {
    "duration": 11,
    "start_time": "2022-07-07T12:47:18.435Z"
   },
   {
    "duration": 346,
    "start_time": "2022-07-07T12:47:18.448Z"
   },
   {
    "duration": 3,
    "start_time": "2022-07-07T12:47:18.796Z"
   },
   {
    "duration": 12,
    "start_time": "2022-07-07T12:47:18.801Z"
   },
   {
    "duration": 14977,
    "start_time": "2022-07-07T12:47:18.814Z"
   },
   {
    "duration": 118,
    "start_time": "2022-07-07T12:47:33.792Z"
   },
   {
    "duration": 72,
    "start_time": "2022-07-07T12:47:33.911Z"
   },
   {
    "duration": 62,
    "start_time": "2022-07-07T12:47:33.985Z"
   },
   {
    "duration": 13,
    "start_time": "2022-07-07T12:47:34.048Z"
   },
   {
    "duration": 7,
    "start_time": "2022-07-07T12:47:34.063Z"
   },
   {
    "duration": 15,
    "start_time": "2022-07-07T12:47:34.072Z"
   },
   {
    "duration": 363,
    "start_time": "2022-07-07T12:47:34.089Z"
   },
   {
    "duration": 737,
    "start_time": "2022-07-07T12:47:34.454Z"
   },
   {
    "duration": 1598,
    "start_time": "2022-07-07T12:47:35.193Z"
   },
   {
    "duration": 4,
    "start_time": "2022-07-07T12:47:36.793Z"
   },
   {
    "duration": 24,
    "start_time": "2022-07-07T12:47:36.798Z"
   },
   {
    "duration": 654,
    "start_time": "2022-07-07T12:48:36.685Z"
   },
   {
    "duration": 5,
    "start_time": "2022-07-07T12:48:42.461Z"
   },
   {
    "duration": 85,
    "start_time": "2022-07-07T12:48:56.916Z"
   },
   {
    "duration": 127,
    "start_time": "2022-07-07T12:51:32.835Z"
   },
   {
    "duration": 43,
    "start_time": "2022-07-07T12:51:43.348Z"
   },
   {
    "duration": 9,
    "start_time": "2022-07-07T12:51:54.476Z"
   },
   {
    "duration": 35,
    "start_time": "2022-07-07T12:52:08.196Z"
   },
   {
    "duration": 38,
    "start_time": "2022-07-07T12:52:28.228Z"
   },
   {
    "duration": 171,
    "start_time": "2022-07-07T12:56:37.060Z"
   },
   {
    "duration": 182,
    "start_time": "2022-07-07T12:56:54.476Z"
   },
   {
    "duration": 8,
    "start_time": "2022-07-07T12:57:42.962Z"
   },
   {
    "duration": 55,
    "start_time": "2022-07-07T12:58:46.060Z"
   },
   {
    "duration": 9,
    "start_time": "2022-07-07T12:59:12.603Z"
   },
   {
    "duration": 20,
    "start_time": "2022-07-07T13:07:24.764Z"
   },
   {
    "duration": 1737,
    "start_time": "2022-07-08T10:16:37.890Z"
   },
   {
    "duration": 1307,
    "start_time": "2022-07-08T10:16:42.920Z"
   },
   {
    "duration": 111,
    "start_time": "2022-07-08T10:16:44.229Z"
   },
   {
    "duration": 438,
    "start_time": "2022-07-08T10:16:44.775Z"
   },
   {
    "duration": 8,
    "start_time": "2022-07-08T10:16:47.842Z"
   },
   {
    "duration": 33,
    "start_time": "2022-07-08T10:16:49.274Z"
   },
   {
    "duration": 578,
    "start_time": "2022-07-08T10:16:50.754Z"
   },
   {
    "duration": 302,
    "start_time": "2022-07-08T10:16:53.130Z"
   },
   {
    "duration": 84,
    "start_time": "2022-07-08T10:16:53.561Z"
   },
   {
    "duration": 82,
    "start_time": "2022-07-08T10:17:07.129Z"
   },
   {
    "duration": 92,
    "start_time": "2022-07-08T10:17:15.610Z"
   },
   {
    "duration": 61,
    "start_time": "2022-07-08T10:17:16.081Z"
   },
   {
    "duration": 599,
    "start_time": "2022-07-08T10:17:18.890Z"
   },
   {
    "duration": 75,
    "start_time": "2022-07-08T10:17:22.892Z"
   },
   {
    "duration": 844,
    "start_time": "2022-07-08T10:17:23.681Z"
   },
   {
    "duration": 123,
    "start_time": "2022-07-08T10:17:24.527Z"
   },
   {
    "duration": 11,
    "start_time": "2022-07-08T10:17:29.114Z"
   },
   {
    "duration": 26,
    "start_time": "2022-07-08T10:17:31.874Z"
   },
   {
    "duration": 83,
    "start_time": "2022-07-08T10:17:33.610Z"
   },
   {
    "duration": 16,
    "start_time": "2022-07-08T10:17:34.610Z"
   },
   {
    "duration": 317,
    "start_time": "2022-07-08T10:17:35.434Z"
   },
   {
    "duration": 3,
    "start_time": "2022-07-08T10:17:36.290Z"
   },
   {
    "duration": 3,
    "start_time": "2022-07-08T10:17:43.170Z"
   },
   {
    "duration": 13753,
    "start_time": "2022-07-08T10:17:47.681Z"
   },
   {
    "duration": 112,
    "start_time": "2022-07-08T10:18:01.436Z"
   },
   {
    "duration": 59,
    "start_time": "2022-07-08T10:18:01.550Z"
   },
   {
    "duration": 71,
    "start_time": "2022-07-08T10:18:01.611Z"
   },
   {
    "duration": 15,
    "start_time": "2022-07-08T10:20:39.509Z"
   },
   {
    "duration": 6,
    "start_time": "2022-07-08T10:20:40.110Z"
   },
   {
    "duration": 54,
    "start_time": "2022-07-08T10:20:40.885Z"
   },
   {
    "duration": 15,
    "start_time": "2022-07-08T10:20:45.709Z"
   },
   {
    "duration": 321,
    "start_time": "2022-07-08T10:20:47.909Z"
   },
   {
    "duration": 650,
    "start_time": "2022-07-08T10:20:49.377Z"
   },
   {
    "duration": 8,
    "start_time": "2022-07-08T10:20:58.538Z"
   },
   {
    "duration": 144,
    "start_time": "2022-07-08T10:22:06.956Z"
   },
   {
    "duration": 10,
    "start_time": "2022-07-08T10:22:22.447Z"
   },
   {
    "duration": 24,
    "start_time": "2022-07-08T10:22:30.749Z"
   },
   {
    "duration": 21,
    "start_time": "2022-07-08T10:23:08.140Z"
   },
   {
    "duration": 25,
    "start_time": "2022-07-08T10:23:38.657Z"
   },
   {
    "duration": 14,
    "start_time": "2022-07-08T10:24:01.474Z"
   },
   {
    "duration": 23,
    "start_time": "2022-07-08T10:24:10.717Z"
   },
   {
    "duration": 358,
    "start_time": "2022-07-08T10:24:11.969Z"
   },
   {
    "duration": 665,
    "start_time": "2022-07-08T10:24:13.566Z"
   },
   {
    "duration": 297,
    "start_time": "2022-07-08T10:24:16.561Z"
   },
   {
    "duration": 14,
    "start_time": "2022-07-08T10:24:41.579Z"
   },
   {
    "duration": 17,
    "start_time": "2022-07-08T10:25:37.311Z"
   },
   {
    "duration": 14,
    "start_time": "2022-07-08T10:26:13.568Z"
   },
   {
    "duration": 15,
    "start_time": "2022-07-08T10:26:25.191Z"
   },
   {
    "duration": 333,
    "start_time": "2022-07-08T10:26:26.184Z"
   },
   {
    "duration": 703,
    "start_time": "2022-07-08T10:26:27.401Z"
   },
   {
    "duration": 250,
    "start_time": "2022-07-08T10:26:28.281Z"
   },
   {
    "duration": 12,
    "start_time": "2022-07-08T10:26:31.280Z"
   },
   {
    "duration": 20,
    "start_time": "2022-07-08T10:26:31.968Z"
   },
   {
    "duration": 15,
    "start_time": "2022-07-08T10:26:33.200Z"
   },
   {
    "duration": 945,
    "start_time": "2022-07-08T10:27:16.049Z"
   },
   {
    "duration": 81,
    "start_time": "2022-07-08T10:27:30.037Z"
   },
   {
    "duration": 55,
    "start_time": "2022-07-08T10:27:31.739Z"
   },
   {
    "duration": 1004,
    "start_time": "2022-07-08T10:27:43.839Z"
   },
   {
    "duration": 1745,
    "start_time": "2022-07-08T10:28:07.519Z"
   },
   {
    "duration": 1172,
    "start_time": "2022-07-08T10:28:09.266Z"
   },
   {
    "duration": 104,
    "start_time": "2022-07-08T10:28:10.440Z"
   },
   {
    "duration": 467,
    "start_time": "2022-07-08T10:28:10.546Z"
   },
   {
    "duration": 9,
    "start_time": "2022-07-08T10:28:11.016Z"
   },
   {
    "duration": 62,
    "start_time": "2022-07-08T10:28:11.028Z"
   },
   {
    "duration": 544,
    "start_time": "2022-07-08T10:28:11.092Z"
   },
   {
    "duration": 322,
    "start_time": "2022-07-08T10:28:11.638Z"
   },
   {
    "duration": 109,
    "start_time": "2022-07-08T10:28:11.963Z"
   },
   {
    "duration": 111,
    "start_time": "2022-07-08T10:28:12.074Z"
   },
   {
    "duration": 74,
    "start_time": "2022-07-08T10:28:12.187Z"
   },
   {
    "duration": 629,
    "start_time": "2022-07-08T10:28:12.263Z"
   },
   {
    "duration": 81,
    "start_time": "2022-07-08T10:28:12.894Z"
   },
   {
    "duration": 858,
    "start_time": "2022-07-08T10:28:12.978Z"
   },
   {
    "duration": 65,
    "start_time": "2022-07-08T10:28:13.838Z"
   },
   {
    "duration": 34,
    "start_time": "2022-07-08T10:28:13.904Z"
   },
   {
    "duration": 39,
    "start_time": "2022-07-08T10:28:13.940Z"
   },
   {
    "duration": 90,
    "start_time": "2022-07-08T10:28:13.981Z"
   },
   {
    "duration": 11,
    "start_time": "2022-07-08T10:28:14.073Z"
   },
   {
    "duration": 392,
    "start_time": "2022-07-08T10:28:14.086Z"
   },
   {
    "duration": 3,
    "start_time": "2022-07-08T10:28:14.479Z"
   },
   {
    "duration": 22,
    "start_time": "2022-07-08T10:28:14.484Z"
   },
   {
    "duration": 13791,
    "start_time": "2022-07-08T10:28:14.508Z"
   },
   {
    "duration": 133,
    "start_time": "2022-07-08T10:28:28.301Z"
   },
   {
    "duration": 55,
    "start_time": "2022-07-08T10:28:28.437Z"
   },
   {
    "duration": 46,
    "start_time": "2022-07-08T10:30:01.119Z"
   },
   {
    "duration": 15,
    "start_time": "2022-07-08T10:30:09.255Z"
   },
   {
    "duration": 5,
    "start_time": "2022-07-08T10:30:10.161Z"
   },
   {
    "duration": 66,
    "start_time": "2022-07-08T10:30:10.881Z"
   },
   {
    "duration": 15,
    "start_time": "2022-07-08T10:30:12.377Z"
   },
   {
    "duration": 339,
    "start_time": "2022-07-08T10:30:13.040Z"
   },
   {
    "duration": 728,
    "start_time": "2022-07-08T10:30:14.020Z"
   },
   {
    "duration": 298,
    "start_time": "2022-07-08T10:30:15.655Z"
   },
   {
    "duration": 25,
    "start_time": "2022-07-08T10:30:18.117Z"
   },
   {
    "duration": 20,
    "start_time": "2022-07-08T10:30:19.176Z"
   },
   {
    "duration": 134,
    "start_time": "2022-07-08T10:30:24.856Z"
   },
   {
    "duration": 18,
    "start_time": "2022-07-08T10:30:41.664Z"
   },
   {
    "duration": 13,
    "start_time": "2022-07-08T10:30:55.945Z"
   },
   {
    "duration": 6,
    "start_time": "2022-07-08T10:30:57.458Z"
   },
   {
    "duration": 70,
    "start_time": "2022-07-08T10:30:57.968Z"
   },
   {
    "duration": 16,
    "start_time": "2022-07-08T10:30:59.035Z"
   },
   {
    "duration": 344,
    "start_time": "2022-07-08T10:30:59.519Z"
   },
   {
    "duration": 661,
    "start_time": "2022-07-08T10:31:00.040Z"
   },
   {
    "duration": 355,
    "start_time": "2022-07-08T10:31:00.703Z"
   },
   {
    "duration": 18,
    "start_time": "2022-07-08T10:31:02.635Z"
   },
   {
    "duration": 20,
    "start_time": "2022-07-08T10:31:03.385Z"
   },
   {
    "duration": 14,
    "start_time": "2022-07-08T10:31:05.689Z"
   },
   {
    "duration": 15,
    "start_time": "2022-07-08T10:31:12.681Z"
   },
   {
    "duration": 18,
    "start_time": "2022-07-08T10:31:24.520Z"
   },
   {
    "duration": 6,
    "start_time": "2022-07-08T10:31:25.385Z"
   },
   {
    "duration": 70,
    "start_time": "2022-07-08T10:31:26.120Z"
   },
   {
    "duration": 15,
    "start_time": "2022-07-08T10:31:27.637Z"
   },
   {
    "duration": 334,
    "start_time": "2022-07-08T10:31:28.337Z"
   },
   {
    "duration": 640,
    "start_time": "2022-07-08T10:31:28.795Z"
   },
   {
    "duration": 224,
    "start_time": "2022-07-08T10:31:29.448Z"
   },
   {
    "duration": 19,
    "start_time": "2022-07-08T10:31:31.065Z"
   },
   {
    "duration": 22,
    "start_time": "2022-07-08T10:31:31.880Z"
   },
   {
    "duration": 1794,
    "start_time": "2022-07-08T10:31:32.516Z"
   },
   {
    "duration": 167,
    "start_time": "2022-07-08T10:31:40.689Z"
   },
   {
    "duration": 7,
    "start_time": "2022-07-08T10:31:51.115Z"
   },
   {
    "duration": 3,
    "start_time": "2022-07-08T10:31:55.801Z"
   },
   {
    "duration": 29,
    "start_time": "2022-07-08T10:31:57.965Z"
   },
   {
    "duration": 680,
    "start_time": "2022-07-08T10:32:05.201Z"
   },
   {
    "duration": 45,
    "start_time": "2022-07-08T10:32:06.686Z"
   },
   {
    "duration": 1588,
    "start_time": "2022-07-08T10:32:34.159Z"
   },
   {
    "duration": 1434,
    "start_time": "2022-07-08T10:32:35.750Z"
   },
   {
    "duration": 102,
    "start_time": "2022-07-08T10:32:37.186Z"
   },
   {
    "duration": 452,
    "start_time": "2022-07-08T10:32:37.290Z"
   },
   {
    "duration": 6,
    "start_time": "2022-07-08T10:32:37.744Z"
   },
   {
    "duration": 34,
    "start_time": "2022-07-08T10:32:37.752Z"
   },
   {
    "duration": 536,
    "start_time": "2022-07-08T10:32:37.788Z"
   },
   {
    "duration": 325,
    "start_time": "2022-07-08T10:32:38.326Z"
   },
   {
    "duration": 100,
    "start_time": "2022-07-08T10:32:38.653Z"
   },
   {
    "duration": 120,
    "start_time": "2022-07-08T10:32:38.757Z"
   },
   {
    "duration": 71,
    "start_time": "2022-07-08T10:32:38.879Z"
   },
   {
    "duration": 613,
    "start_time": "2022-07-08T10:32:38.952Z"
   },
   {
    "duration": 80,
    "start_time": "2022-07-08T10:32:39.567Z"
   },
   {
    "duration": 890,
    "start_time": "2022-07-08T10:32:39.649Z"
   },
   {
    "duration": 67,
    "start_time": "2022-07-08T10:32:40.541Z"
   },
   {
    "duration": 27,
    "start_time": "2022-07-08T10:32:40.610Z"
   },
   {
    "duration": 26,
    "start_time": "2022-07-08T10:32:40.639Z"
   },
   {
    "duration": 93,
    "start_time": "2022-07-08T10:32:40.667Z"
   },
   {
    "duration": 10,
    "start_time": "2022-07-08T10:32:40.761Z"
   },
   {
    "duration": 345,
    "start_time": "2022-07-08T10:32:40.773Z"
   },
   {
    "duration": 3,
    "start_time": "2022-07-08T10:32:41.122Z"
   },
   {
    "duration": 20,
    "start_time": "2022-07-08T10:32:41.129Z"
   },
   {
    "duration": 14174,
    "start_time": "2022-07-08T10:32:41.151Z"
   },
   {
    "duration": 121,
    "start_time": "2022-07-08T10:32:55.327Z"
   },
   {
    "duration": 55,
    "start_time": "2022-07-08T10:32:55.449Z"
   },
   {
    "duration": 58,
    "start_time": "2022-07-08T10:32:55.506Z"
   },
   {
    "duration": 12,
    "start_time": "2022-07-08T10:32:55.566Z"
   },
   {
    "duration": 6,
    "start_time": "2022-07-08T10:32:55.581Z"
   },
   {
    "duration": 83,
    "start_time": "2022-07-08T10:32:55.588Z"
   },
   {
    "duration": 14,
    "start_time": "2022-07-08T10:32:55.673Z"
   },
   {
    "duration": 350,
    "start_time": "2022-07-08T10:32:55.689Z"
   },
   {
    "duration": 661,
    "start_time": "2022-07-08T10:32:56.041Z"
   },
   {
    "duration": 360,
    "start_time": "2022-07-08T10:32:56.704Z"
   },
   {
    "duration": 17,
    "start_time": "2022-07-08T10:32:57.066Z"
   },
   {
    "duration": 22,
    "start_time": "2022-07-08T10:32:57.085Z"
   },
   {
    "duration": 2099,
    "start_time": "2022-07-08T10:32:57.125Z"
   },
   {
    "duration": 168,
    "start_time": "2022-07-08T10:32:59.226Z"
   },
   {
    "duration": 6,
    "start_time": "2022-07-08T10:32:59.395Z"
   },
   {
    "duration": 14,
    "start_time": "2022-07-08T10:32:59.402Z"
   },
   {
    "duration": 28,
    "start_time": "2022-07-08T10:32:59.422Z"
   },
   {
    "duration": 697,
    "start_time": "2022-07-08T10:32:59.452Z"
   },
   {
    "duration": 50,
    "start_time": "2022-07-08T10:33:00.151Z"
   },
   {
    "duration": 1411,
    "start_time": "2022-07-08T10:35:18.467Z"
   },
   {
    "duration": 1585,
    "start_time": "2022-07-08T10:35:57.880Z"
   },
   {
    "duration": 1453,
    "start_time": "2022-07-08T10:35:59.467Z"
   },
   {
    "duration": 137,
    "start_time": "2022-07-08T10:36:00.923Z"
   },
   {
    "duration": 557,
    "start_time": "2022-07-08T10:36:01.063Z"
   },
   {
    "duration": 13,
    "start_time": "2022-07-08T10:36:01.622Z"
   },
   {
    "duration": 113,
    "start_time": "2022-07-08T10:36:01.637Z"
   },
   {
    "duration": 630,
    "start_time": "2022-07-08T10:36:01.752Z"
   },
   {
    "duration": 322,
    "start_time": "2022-07-08T10:36:02.384Z"
   },
   {
    "duration": 97,
    "start_time": "2022-07-08T10:36:02.708Z"
   },
   {
    "duration": 141,
    "start_time": "2022-07-08T10:36:02.807Z"
   },
   {
    "duration": 67,
    "start_time": "2022-07-08T10:36:02.950Z"
   },
   {
    "duration": 646,
    "start_time": "2022-07-08T10:36:03.023Z"
   },
   {
    "duration": 80,
    "start_time": "2022-07-08T10:36:03.671Z"
   },
   {
    "duration": 930,
    "start_time": "2022-07-08T10:36:03.754Z"
   },
   {
    "duration": 79,
    "start_time": "2022-07-08T10:36:04.686Z"
   },
   {
    "duration": 14,
    "start_time": "2022-07-08T10:36:04.767Z"
   },
   {
    "duration": 50,
    "start_time": "2022-07-08T10:36:04.783Z"
   },
   {
    "duration": 88,
    "start_time": "2022-07-08T10:36:04.834Z"
   },
   {
    "duration": 11,
    "start_time": "2022-07-08T10:36:04.925Z"
   },
   {
    "duration": 358,
    "start_time": "2022-07-08T10:36:04.938Z"
   },
   {
    "duration": 3,
    "start_time": "2022-07-08T10:36:05.298Z"
   },
   {
    "duration": 7,
    "start_time": "2022-07-08T10:36:05.303Z"
   },
   {
    "duration": 14946,
    "start_time": "2022-07-08T10:36:05.311Z"
   },
   {
    "duration": 117,
    "start_time": "2022-07-08T10:36:20.259Z"
   },
   {
    "duration": 63,
    "start_time": "2022-07-08T10:36:20.378Z"
   },
   {
    "duration": 44,
    "start_time": "2022-07-08T10:36:20.442Z"
   },
   {
    "duration": 56,
    "start_time": "2022-07-08T10:36:20.488Z"
   },
   {
    "duration": 9,
    "start_time": "2022-07-08T10:36:20.547Z"
   },
   {
    "duration": 109,
    "start_time": "2022-07-08T10:36:20.558Z"
   },
   {
    "duration": 13,
    "start_time": "2022-07-08T10:36:20.669Z"
   },
   {
    "duration": 447,
    "start_time": "2022-07-08T10:36:20.683Z"
   },
   {
    "duration": 681,
    "start_time": "2022-07-08T10:36:21.133Z"
   },
   {
    "duration": 331,
    "start_time": "2022-07-08T10:36:21.816Z"
   },
   {
    "duration": 29,
    "start_time": "2022-07-08T10:36:22.149Z"
   },
   {
    "duration": 42,
    "start_time": "2022-07-08T10:36:22.181Z"
   },
   {
    "duration": 2217,
    "start_time": "2022-07-08T10:36:22.226Z"
   },
   {
    "duration": 183,
    "start_time": "2022-07-08T10:36:24.445Z"
   },
   {
    "duration": 9,
    "start_time": "2022-07-08T10:36:24.630Z"
   },
   {
    "duration": 21,
    "start_time": "2022-07-08T10:36:24.641Z"
   },
   {
    "duration": 30,
    "start_time": "2022-07-08T10:36:24.665Z"
   },
   {
    "duration": 706,
    "start_time": "2022-07-08T10:36:24.700Z"
   },
   {
    "duration": 49,
    "start_time": "2022-07-08T10:36:25.408Z"
   },
   {
    "duration": 1394,
    "start_time": "2022-07-08T10:37:12.513Z"
   },
   {
    "duration": 1618,
    "start_time": "2022-07-08T10:41:16.763Z"
   },
   {
    "duration": 1544,
    "start_time": "2022-07-08T10:41:18.383Z"
   },
   {
    "duration": 128,
    "start_time": "2022-07-08T10:41:19.930Z"
   },
   {
    "duration": 460,
    "start_time": "2022-07-08T10:41:20.061Z"
   },
   {
    "duration": 11,
    "start_time": "2022-07-08T10:41:20.523Z"
   },
   {
    "duration": 54,
    "start_time": "2022-07-08T10:41:20.538Z"
   },
   {
    "duration": 494,
    "start_time": "2022-07-08T10:41:20.593Z"
   },
   {
    "duration": 313,
    "start_time": "2022-07-08T10:41:21.089Z"
   },
   {
    "duration": 95,
    "start_time": "2022-07-08T10:41:21.404Z"
   },
   {
    "duration": 112,
    "start_time": "2022-07-08T10:41:21.500Z"
   },
   {
    "duration": 70,
    "start_time": "2022-07-08T10:41:21.614Z"
   },
   {
    "duration": 637,
    "start_time": "2022-07-08T10:41:21.686Z"
   },
   {
    "duration": 73,
    "start_time": "2022-07-08T10:41:22.324Z"
   },
   {
    "duration": 972,
    "start_time": "2022-07-08T10:41:22.401Z"
   },
   {
    "duration": 82,
    "start_time": "2022-07-08T10:41:23.375Z"
   },
   {
    "duration": 13,
    "start_time": "2022-07-08T10:41:23.459Z"
   },
   {
    "duration": 48,
    "start_time": "2022-07-08T10:41:23.474Z"
   },
   {
    "duration": 80,
    "start_time": "2022-07-08T10:41:23.525Z"
   },
   {
    "duration": 33,
    "start_time": "2022-07-08T10:41:23.607Z"
   },
   {
    "duration": 354,
    "start_time": "2022-07-08T10:41:23.641Z"
   },
   {
    "duration": 3,
    "start_time": "2022-07-08T10:41:23.997Z"
   },
   {
    "duration": 17,
    "start_time": "2022-07-08T10:41:24.002Z"
   },
   {
    "duration": 14292,
    "start_time": "2022-07-08T10:41:24.020Z"
   },
   {
    "duration": 131,
    "start_time": "2022-07-08T10:41:38.314Z"
   },
   {
    "duration": 59,
    "start_time": "2022-07-08T10:41:38.447Z"
   },
   {
    "duration": 59,
    "start_time": "2022-07-08T10:41:38.508Z"
   },
   {
    "duration": 13,
    "start_time": "2022-07-08T10:41:38.569Z"
   },
   {
    "duration": 5,
    "start_time": "2022-07-08T10:41:38.583Z"
   },
   {
    "duration": 78,
    "start_time": "2022-07-08T10:41:38.590Z"
   },
   {
    "duration": 15,
    "start_time": "2022-07-08T10:41:38.670Z"
   },
   {
    "duration": 388,
    "start_time": "2022-07-08T10:41:38.687Z"
   },
   {
    "duration": 683,
    "start_time": "2022-07-08T10:41:39.077Z"
   },
   {
    "duration": 287,
    "start_time": "2022-07-08T10:41:39.762Z"
   },
   {
    "duration": 17,
    "start_time": "2022-07-08T10:41:40.051Z"
   },
   {
    "duration": 22,
    "start_time": "2022-07-08T10:41:40.069Z"
   },
   {
    "duration": 1847,
    "start_time": "2022-07-08T10:41:40.092Z"
   },
   {
    "duration": 160,
    "start_time": "2022-07-08T10:41:41.941Z"
   },
   {
    "duration": 3,
    "start_time": "2022-07-08T10:41:42.103Z"
   },
   {
    "duration": 34,
    "start_time": "2022-07-08T10:41:42.107Z"
   },
   {
    "duration": 690,
    "start_time": "2022-07-08T10:41:42.143Z"
   },
   {
    "duration": 45,
    "start_time": "2022-07-08T10:41:42.838Z"
   },
   {
    "duration": 1422,
    "start_time": "2022-07-08T10:42:12.962Z"
   },
   {
    "duration": 2663,
    "start_time": "2022-07-08T10:42:45.882Z"
   },
   {
    "duration": 1681,
    "start_time": "2022-07-08T10:45:58.493Z"
   },
   {
    "duration": 1402,
    "start_time": "2022-07-08T10:46:00.176Z"
   },
   {
    "duration": 110,
    "start_time": "2022-07-08T10:46:01.580Z"
   },
   {
    "duration": 494,
    "start_time": "2022-07-08T10:46:01.693Z"
   },
   {
    "duration": 8,
    "start_time": "2022-07-08T10:46:02.189Z"
   },
   {
    "duration": 65,
    "start_time": "2022-07-08T10:46:02.199Z"
   },
   {
    "duration": 570,
    "start_time": "2022-07-08T10:46:02.266Z"
   },
   {
    "duration": 311,
    "start_time": "2022-07-08T10:46:02.839Z"
   },
   {
    "duration": 104,
    "start_time": "2022-07-08T10:46:03.152Z"
   },
   {
    "duration": 112,
    "start_time": "2022-07-08T10:46:03.259Z"
   },
   {
    "duration": 77,
    "start_time": "2022-07-08T10:46:03.372Z"
   },
   {
    "duration": 629,
    "start_time": "2022-07-08T10:46:03.451Z"
   },
   {
    "duration": 83,
    "start_time": "2022-07-08T10:46:04.081Z"
   },
   {
    "duration": 939,
    "start_time": "2022-07-08T10:46:04.166Z"
   },
   {
    "duration": 83,
    "start_time": "2022-07-08T10:46:05.107Z"
   },
   {
    "duration": 12,
    "start_time": "2022-07-08T10:46:05.192Z"
   },
   {
    "duration": 32,
    "start_time": "2022-07-08T10:46:05.223Z"
   },
   {
    "duration": 90,
    "start_time": "2022-07-08T10:46:05.257Z"
   },
   {
    "duration": 13,
    "start_time": "2022-07-08T10:46:05.348Z"
   },
   {
    "duration": 366,
    "start_time": "2022-07-08T10:46:05.363Z"
   },
   {
    "duration": 4,
    "start_time": "2022-07-08T10:46:05.731Z"
   },
   {
    "duration": 13,
    "start_time": "2022-07-08T10:46:05.737Z"
   },
   {
    "duration": 14655,
    "start_time": "2022-07-08T10:46:05.752Z"
   },
   {
    "duration": 133,
    "start_time": "2022-07-08T10:46:20.408Z"
   },
   {
    "duration": 57,
    "start_time": "2022-07-08T10:46:20.543Z"
   },
   {
    "duration": 56,
    "start_time": "2022-07-08T10:46:20.601Z"
   },
   {
    "duration": 12,
    "start_time": "2022-07-08T10:46:20.659Z"
   },
   {
    "duration": 5,
    "start_time": "2022-07-08T10:46:20.674Z"
   },
   {
    "duration": 88,
    "start_time": "2022-07-08T10:46:20.681Z"
   },
   {
    "duration": 20,
    "start_time": "2022-07-08T10:46:20.771Z"
   },
   {
    "duration": 354,
    "start_time": "2022-07-08T10:46:20.792Z"
   },
   {
    "duration": 681,
    "start_time": "2022-07-08T10:46:21.148Z"
   },
   {
    "duration": 320,
    "start_time": "2022-07-08T10:46:21.831Z"
   },
   {
    "duration": 19,
    "start_time": "2022-07-08T10:46:22.153Z"
   },
   {
    "duration": 20,
    "start_time": "2022-07-08T10:46:22.174Z"
   },
   {
    "duration": 1923,
    "start_time": "2022-07-08T10:46:22.197Z"
   },
   {
    "duration": 173,
    "start_time": "2022-07-08T10:46:24.122Z"
   },
   {
    "duration": 3,
    "start_time": "2022-07-08T10:46:24.298Z"
   },
   {
    "duration": 44,
    "start_time": "2022-07-08T10:46:24.303Z"
   },
   {
    "duration": 723,
    "start_time": "2022-07-08T10:46:24.348Z"
   },
   {
    "duration": 42,
    "start_time": "2022-07-08T10:46:25.073Z"
   },
   {
    "duration": 79,
    "start_time": "2022-07-08T10:46:26.362Z"
   },
   {
    "duration": 133,
    "start_time": "2022-07-08T10:46:31.838Z"
   },
   {
    "duration": 1356,
    "start_time": "2022-07-08T10:46:36.735Z"
   },
   {
    "duration": 5,
    "start_time": "2022-07-08T10:46:41.824Z"
   },
   {
    "duration": 69,
    "start_time": "2022-07-08T10:47:38.935Z"
   },
   {
    "duration": 1573,
    "start_time": "2022-07-08T10:47:45.470Z"
   },
   {
    "duration": 1455,
    "start_time": "2022-07-08T10:47:47.045Z"
   },
   {
    "duration": 94,
    "start_time": "2022-07-08T10:47:48.502Z"
   },
   {
    "duration": 465,
    "start_time": "2022-07-08T10:47:48.599Z"
   },
   {
    "duration": 9,
    "start_time": "2022-07-08T10:47:49.066Z"
   },
   {
    "duration": 48,
    "start_time": "2022-07-08T10:47:49.077Z"
   },
   {
    "duration": 518,
    "start_time": "2022-07-08T10:47:49.127Z"
   },
   {
    "duration": 315,
    "start_time": "2022-07-08T10:47:49.647Z"
   },
   {
    "duration": 106,
    "start_time": "2022-07-08T10:47:49.964Z"
   },
   {
    "duration": 102,
    "start_time": "2022-07-08T10:47:50.073Z"
   },
   {
    "duration": 92,
    "start_time": "2022-07-08T10:47:50.177Z"
   },
   {
    "duration": 640,
    "start_time": "2022-07-08T10:47:50.271Z"
   },
   {
    "duration": 82,
    "start_time": "2022-07-08T10:47:50.913Z"
   },
   {
    "duration": 916,
    "start_time": "2022-07-08T10:47:50.997Z"
   },
   {
    "duration": 85,
    "start_time": "2022-07-08T10:47:51.915Z"
   },
   {
    "duration": 32,
    "start_time": "2022-07-08T10:47:52.002Z"
   },
   {
    "duration": 38,
    "start_time": "2022-07-08T10:47:52.037Z"
   },
   {
    "duration": 103,
    "start_time": "2022-07-08T10:47:52.077Z"
   },
   {
    "duration": 12,
    "start_time": "2022-07-08T10:47:52.182Z"
   },
   {
    "duration": 366,
    "start_time": "2022-07-08T10:47:52.196Z"
   },
   {
    "duration": 3,
    "start_time": "2022-07-08T10:47:52.564Z"
   },
   {
    "duration": 9,
    "start_time": "2022-07-08T10:47:52.569Z"
   },
   {
    "duration": 13813,
    "start_time": "2022-07-08T10:47:52.579Z"
   },
   {
    "duration": 128,
    "start_time": "2022-07-08T10:48:06.394Z"
   },
   {
    "duration": 61,
    "start_time": "2022-07-08T10:48:06.525Z"
   },
   {
    "duration": 56,
    "start_time": "2022-07-08T10:48:06.588Z"
   },
   {
    "duration": 11,
    "start_time": "2022-07-08T10:48:06.646Z"
   },
   {
    "duration": 5,
    "start_time": "2022-07-08T10:48:06.661Z"
   },
   {
    "duration": 85,
    "start_time": "2022-07-08T10:48:06.667Z"
   },
   {
    "duration": 14,
    "start_time": "2022-07-08T10:48:06.754Z"
   },
   {
    "duration": 354,
    "start_time": "2022-07-08T10:48:06.769Z"
   },
   {
    "duration": 670,
    "start_time": "2022-07-08T10:48:07.125Z"
   },
   {
    "duration": 279,
    "start_time": "2022-07-08T10:48:07.797Z"
   },
   {
    "duration": 19,
    "start_time": "2022-07-08T10:48:08.078Z"
   },
   {
    "duration": 43,
    "start_time": "2022-07-08T10:48:08.099Z"
   },
   {
    "duration": 2097,
    "start_time": "2022-07-08T10:48:08.145Z"
   },
   {
    "duration": 184,
    "start_time": "2022-07-08T10:48:10.243Z"
   },
   {
    "duration": 11,
    "start_time": "2022-07-08T10:48:10.429Z"
   },
   {
    "duration": 36,
    "start_time": "2022-07-08T10:48:10.442Z"
   },
   {
    "duration": 695,
    "start_time": "2022-07-08T10:48:10.479Z"
   },
   {
    "duration": 53,
    "start_time": "2022-07-08T10:48:11.176Z"
   },
   {
    "duration": 1409,
    "start_time": "2022-07-08T10:48:11.232Z"
   },
   {
    "duration": 4,
    "start_time": "2022-07-08T10:48:16.650Z"
   },
   {
    "duration": 5,
    "start_time": "2022-07-08T10:48:27.139Z"
   },
   {
    "duration": 5,
    "start_time": "2022-07-08T10:48:39.603Z"
   },
   {
    "duration": 2723,
    "start_time": "2022-07-08T10:48:52.304Z"
   },
   {
    "duration": 1611,
    "start_time": "2022-07-08T10:49:15.648Z"
   },
   {
    "duration": 1406,
    "start_time": "2022-07-08T10:49:17.261Z"
   },
   {
    "duration": 100,
    "start_time": "2022-07-08T10:49:18.668Z"
   },
   {
    "duration": 475,
    "start_time": "2022-07-08T10:49:18.770Z"
   },
   {
    "duration": 8,
    "start_time": "2022-07-08T10:49:19.247Z"
   },
   {
    "duration": 44,
    "start_time": "2022-07-08T10:49:19.257Z"
   },
   {
    "duration": 563,
    "start_time": "2022-07-08T10:49:19.304Z"
   },
   {
    "duration": 317,
    "start_time": "2022-07-08T10:49:19.869Z"
   },
   {
    "duration": 96,
    "start_time": "2022-07-08T10:49:20.189Z"
   },
   {
    "duration": 105,
    "start_time": "2022-07-08T10:49:20.287Z"
   },
   {
    "duration": 76,
    "start_time": "2022-07-08T10:49:20.394Z"
   },
   {
    "duration": 626,
    "start_time": "2022-07-08T10:49:20.472Z"
   },
   {
    "duration": 79,
    "start_time": "2022-07-08T10:49:21.099Z"
   },
   {
    "duration": 887,
    "start_time": "2022-07-08T10:49:21.181Z"
   },
   {
    "duration": 85,
    "start_time": "2022-07-08T10:49:22.070Z"
   },
   {
    "duration": 35,
    "start_time": "2022-07-08T10:49:22.156Z"
   },
   {
    "duration": 28,
    "start_time": "2022-07-08T10:49:22.193Z"
   },
   {
    "duration": 85,
    "start_time": "2022-07-08T10:49:22.222Z"
   },
   {
    "duration": 15,
    "start_time": "2022-07-08T10:49:22.309Z"
   },
   {
    "duration": 343,
    "start_time": "2022-07-08T10:49:22.327Z"
   },
   {
    "duration": 2,
    "start_time": "2022-07-08T10:49:22.673Z"
   },
   {
    "duration": 8,
    "start_time": "2022-07-08T10:49:22.678Z"
   },
   {
    "duration": 14244,
    "start_time": "2022-07-08T10:49:22.688Z"
   },
   {
    "duration": 113,
    "start_time": "2022-07-08T10:49:36.937Z"
   },
   {
    "duration": 56,
    "start_time": "2022-07-08T10:49:37.052Z"
   },
   {
    "duration": 55,
    "start_time": "2022-07-08T10:49:37.110Z"
   },
   {
    "duration": 12,
    "start_time": "2022-07-08T10:49:37.167Z"
   },
   {
    "duration": 5,
    "start_time": "2022-07-08T10:49:37.181Z"
   },
   {
    "duration": 86,
    "start_time": "2022-07-08T10:49:37.188Z"
   },
   {
    "duration": 13,
    "start_time": "2022-07-08T10:49:37.276Z"
   },
   {
    "duration": 348,
    "start_time": "2022-07-08T10:49:37.290Z"
   },
   {
    "duration": 670,
    "start_time": "2022-07-08T10:49:37.640Z"
   },
   {
    "duration": 262,
    "start_time": "2022-07-08T10:49:38.312Z"
   },
   {
    "duration": 17,
    "start_time": "2022-07-08T10:49:38.576Z"
   },
   {
    "duration": 33,
    "start_time": "2022-07-08T10:49:38.595Z"
   },
   {
    "duration": 1772,
    "start_time": "2022-07-08T10:49:38.631Z"
   },
   {
    "duration": 174,
    "start_time": "2022-07-08T10:49:40.405Z"
   },
   {
    "duration": 4,
    "start_time": "2022-07-08T10:49:40.581Z"
   },
   {
    "duration": 40,
    "start_time": "2022-07-08T10:49:40.587Z"
   },
   {
    "duration": 660,
    "start_time": "2022-07-08T10:49:40.632Z"
   },
   {
    "duration": 51,
    "start_time": "2022-07-08T10:49:41.296Z"
   },
   {
    "duration": 1369,
    "start_time": "2022-07-08T10:49:41.349Z"
   },
   {
    "duration": 6,
    "start_time": "2022-07-08T10:49:42.721Z"
   },
   {
    "duration": 27,
    "start_time": "2022-07-08T10:49:42.729Z"
   },
   {
    "duration": 8,
    "start_time": "2022-07-08T10:49:42.758Z"
   },
   {
    "duration": 1561,
    "start_time": "2022-07-08T10:55:40.074Z"
   },
   {
    "duration": 1340,
    "start_time": "2022-07-08T10:55:41.638Z"
   },
   {
    "duration": 128,
    "start_time": "2022-07-08T10:55:42.980Z"
   },
   {
    "duration": 484,
    "start_time": "2022-07-08T10:55:43.110Z"
   },
   {
    "duration": 7,
    "start_time": "2022-07-08T10:55:43.597Z"
   },
   {
    "duration": 47,
    "start_time": "2022-07-08T10:55:43.606Z"
   },
   {
    "duration": 501,
    "start_time": "2022-07-08T10:55:43.655Z"
   },
   {
    "duration": 304,
    "start_time": "2022-07-08T10:55:44.157Z"
   },
   {
    "duration": 120,
    "start_time": "2022-07-08T10:55:44.463Z"
   },
   {
    "duration": 129,
    "start_time": "2022-07-08T10:55:44.585Z"
   },
   {
    "duration": 75,
    "start_time": "2022-07-08T10:55:44.716Z"
   },
   {
    "duration": 649,
    "start_time": "2022-07-08T10:55:44.792Z"
   },
   {
    "duration": 67,
    "start_time": "2022-07-08T10:55:45.443Z"
   },
   {
    "duration": 829,
    "start_time": "2022-07-08T10:55:45.525Z"
   },
   {
    "duration": 74,
    "start_time": "2022-07-08T10:55:46.356Z"
   },
   {
    "duration": 15,
    "start_time": "2022-07-08T10:55:46.431Z"
   },
   {
    "duration": 29,
    "start_time": "2022-07-08T10:55:46.448Z"
   },
   {
    "duration": 98,
    "start_time": "2022-07-08T10:55:46.480Z"
   },
   {
    "duration": 13,
    "start_time": "2022-07-08T10:55:46.580Z"
   },
   {
    "duration": 373,
    "start_time": "2022-07-08T10:55:46.594Z"
   },
   {
    "duration": 3,
    "start_time": "2022-07-08T10:55:46.969Z"
   },
   {
    "duration": 9,
    "start_time": "2022-07-08T10:55:46.973Z"
   },
   {
    "duration": 13590,
    "start_time": "2022-07-08T10:55:46.983Z"
   },
   {
    "duration": 119,
    "start_time": "2022-07-08T10:56:00.575Z"
   },
   {
    "duration": 73,
    "start_time": "2022-07-08T10:56:00.696Z"
   },
   {
    "duration": 37,
    "start_time": "2022-07-08T10:56:00.771Z"
   },
   {
    "duration": 31,
    "start_time": "2022-07-08T10:56:00.810Z"
   },
   {
    "duration": 131,
    "start_time": "2022-07-08T11:03:39.403Z"
   },
   {
    "duration": 357,
    "start_time": "2022-07-08T11:04:52.935Z"
   },
   {
    "duration": 9,
    "start_time": "2022-07-08T11:04:57.197Z"
   },
   {
    "duration": 10,
    "start_time": "2022-07-08T11:05:16.243Z"
   },
   {
    "duration": 10,
    "start_time": "2022-07-08T11:05:29.261Z"
   },
   {
    "duration": 15,
    "start_time": "2022-07-08T11:05:55.181Z"
   },
   {
    "duration": 342,
    "start_time": "2022-07-08T11:06:02.485Z"
   },
   {
    "duration": 4,
    "start_time": "2022-07-08T11:06:03.946Z"
   },
   {
    "duration": 17,
    "start_time": "2022-07-08T11:06:10.269Z"
   },
   {
    "duration": 26,
    "start_time": "2022-07-08T11:06:20.794Z"
   },
   {
    "duration": 13,
    "start_time": "2022-07-08T11:07:26.134Z"
   },
   {
    "duration": 14,
    "start_time": "2022-07-08T11:30:13.989Z"
   },
   {
    "duration": 328,
    "start_time": "2022-07-08T11:30:15.180Z"
   },
   {
    "duration": 3,
    "start_time": "2022-07-08T11:30:16.389Z"
   },
   {
    "duration": 19,
    "start_time": "2022-07-08T11:30:18.710Z"
   },
   {
    "duration": 22,
    "start_time": "2022-07-08T11:30:20.069Z"
   },
   {
    "duration": 46,
    "start_time": "2022-07-08T11:30:25.518Z"
   },
   {
    "duration": 15,
    "start_time": "2022-07-08T11:30:40.109Z"
   },
   {
    "duration": 53,
    "start_time": "2022-07-08T11:30:46.635Z"
   },
   {
    "duration": 277,
    "start_time": "2022-07-08T11:31:04.663Z"
   },
   {
    "duration": 98,
    "start_time": "2022-07-08T11:31:05.863Z"
   },
   {
    "duration": 20,
    "start_time": "2022-07-08T11:31:08.815Z"
   },
   {
    "duration": 34,
    "start_time": "2022-07-08T11:31:20.138Z"
   },
   {
    "duration": 445,
    "start_time": "2022-07-08T11:34:14.339Z"
   },
   {
    "duration": 35,
    "start_time": "2022-07-08T11:34:20.943Z"
   },
   {
    "duration": 3,
    "start_time": "2022-07-08T11:36:44.032Z"
   },
   {
    "duration": 3,
    "start_time": "2022-07-08T11:36:45.013Z"
   },
   {
    "duration": 6,
    "start_time": "2022-07-08T11:36:53.537Z"
   },
   {
    "duration": 1639,
    "start_time": "2022-07-08T11:39:12.334Z"
   },
   {
    "duration": 1167,
    "start_time": "2022-07-08T11:39:13.975Z"
   },
   {
    "duration": 113,
    "start_time": "2022-07-08T11:39:15.144Z"
   },
   {
    "duration": 460,
    "start_time": "2022-07-08T11:39:15.259Z"
   },
   {
    "duration": 9,
    "start_time": "2022-07-08T11:39:15.722Z"
   },
   {
    "duration": 38,
    "start_time": "2022-07-08T11:39:15.733Z"
   },
   {
    "duration": 515,
    "start_time": "2022-07-08T11:39:15.773Z"
   },
   {
    "duration": 301,
    "start_time": "2022-07-08T11:39:16.289Z"
   },
   {
    "duration": 93,
    "start_time": "2022-07-08T11:39:16.592Z"
   },
   {
    "duration": 112,
    "start_time": "2022-07-08T11:39:16.687Z"
   },
   {
    "duration": 73,
    "start_time": "2022-07-08T11:39:16.800Z"
   },
   {
    "duration": 619,
    "start_time": "2022-07-08T11:39:16.874Z"
   },
   {
    "duration": 83,
    "start_time": "2022-07-08T11:39:17.495Z"
   },
   {
    "duration": 863,
    "start_time": "2022-07-08T11:39:17.582Z"
   },
   {
    "duration": 76,
    "start_time": "2022-07-08T11:39:18.447Z"
   },
   {
    "duration": 12,
    "start_time": "2022-07-08T11:39:18.525Z"
   },
   {
    "duration": 28,
    "start_time": "2022-07-08T11:39:18.539Z"
   },
   {
    "duration": 114,
    "start_time": "2022-07-08T11:39:18.570Z"
   },
   {
    "duration": 12,
    "start_time": "2022-07-08T11:39:18.686Z"
   },
   {
    "duration": 355,
    "start_time": "2022-07-08T11:39:18.700Z"
   },
   {
    "duration": 2,
    "start_time": "2022-07-08T11:39:19.057Z"
   },
   {
    "duration": 11,
    "start_time": "2022-07-08T11:39:19.060Z"
   },
   {
    "duration": 13636,
    "start_time": "2022-07-08T11:39:19.073Z"
   },
   {
    "duration": 133,
    "start_time": "2022-07-08T11:39:32.711Z"
   },
   {
    "duration": 62,
    "start_time": "2022-07-08T11:39:32.846Z"
   },
   {
    "duration": 54,
    "start_time": "2022-07-08T11:39:32.909Z"
   },
   {
    "duration": 18,
    "start_time": "2022-07-08T11:39:32.965Z"
   },
   {
    "duration": 39,
    "start_time": "2022-07-08T11:39:32.985Z"
   },
   {
    "duration": 370,
    "start_time": "2022-07-08T11:39:33.026Z"
   },
   {
    "duration": 3,
    "start_time": "2022-07-08T11:39:33.398Z"
   },
   {
    "duration": 37,
    "start_time": "2022-07-08T11:39:33.403Z"
   },
   {
    "duration": 37,
    "start_time": "2022-07-08T11:39:33.443Z"
   },
   {
    "duration": 48,
    "start_time": "2022-07-08T11:39:33.482Z"
   },
   {
    "duration": 15,
    "start_time": "2022-07-08T11:39:33.532Z"
   },
   {
    "duration": 439,
    "start_time": "2022-07-08T11:39:33.549Z"
   },
   {
    "duration": 59,
    "start_time": "2022-07-08T11:39:33.990Z"
   },
   {
    "duration": 3,
    "start_time": "2022-07-08T11:39:34.059Z"
   },
   {
    "duration": 16,
    "start_time": "2022-07-08T11:39:34.064Z"
   },
   {
    "duration": 6,
    "start_time": "2022-07-08T11:39:34.082Z"
   },
   {
    "duration": 14320,
    "start_time": "2022-07-08T11:39:50.273Z"
   },
   {
    "duration": 7,
    "start_time": "2022-07-08T11:41:44.014Z"
   },
   {
    "duration": 8,
    "start_time": "2022-07-08T11:44:58.666Z"
   },
   {
    "duration": 54,
    "start_time": "2022-07-08T11:45:21.912Z"
   },
   {
    "duration": 22,
    "start_time": "2022-07-08T11:46:52.323Z"
   },
   {
    "duration": 327,
    "start_time": "2022-07-08T11:46:53.291Z"
   },
   {
    "duration": 3,
    "start_time": "2022-07-08T11:46:54.563Z"
   },
   {
    "duration": 25,
    "start_time": "2022-07-08T11:46:58.980Z"
   },
   {
    "duration": 50,
    "start_time": "2022-07-08T11:47:04.403Z"
   },
   {
    "duration": 13,
    "start_time": "2022-07-08T11:47:17.842Z"
   },
   {
    "duration": 2,
    "start_time": "2022-07-08T11:47:39.859Z"
   },
   {
    "duration": 31,
    "start_time": "2022-07-08T11:48:24.022Z"
   },
   {
    "duration": 36,
    "start_time": "2022-07-08T11:48:45.666Z"
   },
   {
    "duration": 12,
    "start_time": "2022-07-08T11:49:49.015Z"
   },
   {
    "duration": 43,
    "start_time": "2022-07-08T11:49:56.712Z"
   },
   {
    "duration": 31,
    "start_time": "2022-07-08T11:50:02.568Z"
   },
   {
    "duration": 10,
    "start_time": "2022-07-08T11:50:21.577Z"
   },
   {
    "duration": 4,
    "start_time": "2022-07-08T11:50:28.766Z"
   },
   {
    "duration": 12,
    "start_time": "2022-07-08T11:51:19.012Z"
   },
   {
    "duration": 9,
    "start_time": "2022-07-08T11:53:21.609Z"
   },
   {
    "duration": 16,
    "start_time": "2022-07-08T11:53:32.851Z"
   },
   {
    "duration": 12,
    "start_time": "2022-07-08T11:53:44.777Z"
   },
   {
    "duration": 15,
    "start_time": "2022-07-08T11:54:14.903Z"
   },
   {
    "duration": 11,
    "start_time": "2022-07-08T11:55:22.554Z"
   },
   {
    "duration": 341,
    "start_time": "2022-07-08T11:58:15.229Z"
   },
   {
    "duration": 33,
    "start_time": "2022-07-08T11:58:29.376Z"
   },
   {
    "duration": 28,
    "start_time": "2022-07-08T11:58:30.071Z"
   },
   {
    "duration": 9,
    "start_time": "2022-07-08T11:58:31.069Z"
   },
   {
    "duration": 146,
    "start_time": "2022-07-08T11:59:22.267Z"
   },
   {
    "duration": 4,
    "start_time": "2022-07-08T12:02:28.968Z"
   },
   {
    "duration": 3,
    "start_time": "2022-07-08T12:03:36.244Z"
   },
   {
    "duration": 11,
    "start_time": "2022-07-08T12:04:10.772Z"
   },
   {
    "duration": 3,
    "start_time": "2022-07-08T12:04:16.973Z"
   },
   {
    "duration": 11,
    "start_time": "2022-07-08T12:09:35.113Z"
   },
   {
    "duration": 10,
    "start_time": "2022-07-08T12:09:50.806Z"
   },
   {
    "duration": 4,
    "start_time": "2022-07-08T12:10:00.130Z"
   },
   {
    "duration": 18,
    "start_time": "2022-07-08T12:10:42.843Z"
   },
   {
    "duration": 1778,
    "start_time": "2022-07-08T16:31:34.952Z"
   },
   {
    "duration": 7,
    "start_time": "2022-07-08T16:31:54.788Z"
   },
   {
    "duration": 1410,
    "start_time": "2022-07-08T16:31:54.797Z"
   },
   {
    "duration": 104,
    "start_time": "2022-07-08T16:31:56.209Z"
   },
   {
    "duration": 464,
    "start_time": "2022-07-08T16:31:56.316Z"
   },
   {
    "duration": 8,
    "start_time": "2022-07-08T16:31:56.782Z"
   },
   {
    "duration": 50,
    "start_time": "2022-07-08T16:31:56.792Z"
   },
   {
    "duration": 529,
    "start_time": "2022-07-08T16:31:56.844Z"
   },
   {
    "duration": 359,
    "start_time": "2022-07-08T16:31:57.375Z"
   },
   {
    "duration": 98,
    "start_time": "2022-07-08T16:31:57.736Z"
   },
   {
    "duration": 105,
    "start_time": "2022-07-08T16:31:57.837Z"
   },
   {
    "duration": 84,
    "start_time": "2022-07-08T16:31:57.944Z"
   },
   {
    "duration": 693,
    "start_time": "2022-07-08T16:31:58.030Z"
   },
   {
    "duration": 74,
    "start_time": "2022-07-08T16:31:58.725Z"
   },
   {
    "duration": 960,
    "start_time": "2022-07-08T16:31:58.801Z"
   },
   {
    "duration": 78,
    "start_time": "2022-07-08T16:31:59.763Z"
   },
   {
    "duration": 13,
    "start_time": "2022-07-08T16:31:59.843Z"
   },
   {
    "duration": 27,
    "start_time": "2022-07-08T16:31:59.857Z"
   },
   {
    "duration": 103,
    "start_time": "2022-07-08T16:31:59.885Z"
   },
   {
    "duration": 12,
    "start_time": "2022-07-08T16:31:59.991Z"
   },
   {
    "duration": 337,
    "start_time": "2022-07-08T16:32:00.005Z"
   },
   {
    "duration": 3,
    "start_time": "2022-07-08T16:32:00.344Z"
   },
   {
    "duration": 10,
    "start_time": "2022-07-08T16:32:00.348Z"
   },
   {
    "duration": 14264,
    "start_time": "2022-07-08T16:32:00.360Z"
   },
   {
    "duration": 126,
    "start_time": "2022-07-08T16:32:14.626Z"
   },
   {
    "duration": 54,
    "start_time": "2022-07-08T16:32:14.754Z"
   },
   {
    "duration": 37,
    "start_time": "2022-07-08T16:32:14.824Z"
   },
   {
    "duration": 14,
    "start_time": "2022-07-08T16:32:14.863Z"
   },
   {
    "duration": 20,
    "start_time": "2022-07-08T16:32:16.087Z"
   },
   {
    "duration": 340,
    "start_time": "2022-07-08T16:32:23.601Z"
   },
   {
    "duration": 4,
    "start_time": "2022-07-08T16:32:30.058Z"
   },
   {
    "duration": 26,
    "start_time": "2022-07-08T16:32:35.497Z"
   },
   {
    "duration": 35,
    "start_time": "2022-07-08T16:33:16.185Z"
   },
   {
    "duration": 3,
    "start_time": "2022-07-08T16:33:22.868Z"
   },
   {
    "duration": 10,
    "start_time": "2022-07-08T16:33:31.454Z"
   },
   {
    "duration": 9,
    "start_time": "2022-07-08T16:33:40.151Z"
   },
   {
    "duration": 50,
    "start_time": "2022-07-08T16:33:50.384Z"
   },
   {
    "duration": 3,
    "start_time": "2022-07-08T16:33:50.965Z"
   },
   {
    "duration": 8,
    "start_time": "2022-07-08T16:33:51.501Z"
   },
   {
    "duration": 137,
    "start_time": "2022-07-08T16:34:18.496Z"
   },
   {
    "duration": 125,
    "start_time": "2022-07-08T16:34:32.687Z"
   },
   {
    "duration": 10,
    "start_time": "2022-07-08T16:36:53.284Z"
   },
   {
    "duration": 3,
    "start_time": "2022-07-08T16:37:03.766Z"
   },
   {
    "duration": 4,
    "start_time": "2022-07-08T16:37:16.125Z"
   },
   {
    "duration": 3,
    "start_time": "2022-07-08T16:37:26.089Z"
   },
   {
    "duration": 7,
    "start_time": "2022-07-08T16:37:34.629Z"
   },
   {
    "duration": 4,
    "start_time": "2022-07-08T16:38:54.560Z"
   },
   {
    "duration": 3,
    "start_time": "2022-07-08T16:38:55.453Z"
   },
   {
    "duration": 4,
    "start_time": "2022-07-08T16:42:59.050Z"
   },
   {
    "duration": 56006,
    "start_time": "2022-07-08T16:43:41.393Z"
   },
   {
    "duration": 5,
    "start_time": "2022-07-08T16:44:37.401Z"
   },
   {
    "duration": 15,
    "start_time": "2022-07-08T16:46:36.361Z"
   },
   {
    "duration": 3,
    "start_time": "2022-07-08T16:46:44.712Z"
   },
   {
    "duration": 4,
    "start_time": "2022-07-08T16:46:46.380Z"
   },
   {
    "duration": 14,
    "start_time": "2022-07-08T16:46:47.640Z"
   },
   {
    "duration": 3,
    "start_time": "2022-07-08T16:47:48.671Z"
   },
   {
    "duration": 3,
    "start_time": "2022-07-08T16:50:16.959Z"
   },
   {
    "duration": 3,
    "start_time": "2022-07-08T16:50:17.561Z"
   },
   {
    "duration": 4,
    "start_time": "2022-07-08T16:50:18.347Z"
   },
   {
    "duration": 3,
    "start_time": "2022-07-08T17:04:02.565Z"
   },
   {
    "duration": 3,
    "start_time": "2022-07-08T17:04:03.728Z"
   },
   {
    "duration": 57,
    "start_time": "2022-07-08T17:04:06.324Z"
   },
   {
    "duration": 110025,
    "start_time": "2022-07-08T17:04:36.602Z"
   },
   {
    "duration": 109624,
    "start_time": "2022-07-08T17:08:01.630Z"
   },
   {
    "duration": 163,
    "start_time": "2022-07-08T17:10:19.746Z"
   },
   {
    "duration": 4,
    "start_time": "2022-07-08T17:10:26.560Z"
   },
   {
    "duration": 168,
    "start_time": "2022-07-08T17:12:15.796Z"
   },
   {
    "duration": 5,
    "start_time": "2022-07-08T17:12:27.649Z"
   },
   {
    "duration": 47,
    "start_time": "2022-07-08T17:19:36.181Z"
   },
   {
    "duration": 1614,
    "start_time": "2022-07-08T17:19:47.023Z"
   },
   {
    "duration": 1107,
    "start_time": "2022-07-08T17:19:48.639Z"
   },
   {
    "duration": 102,
    "start_time": "2022-07-08T17:19:49.748Z"
   },
   {
    "duration": 484,
    "start_time": "2022-07-08T17:19:49.852Z"
   },
   {
    "duration": 8,
    "start_time": "2022-07-08T17:19:50.340Z"
   },
   {
    "duration": 35,
    "start_time": "2022-07-08T17:19:50.350Z"
   },
   {
    "duration": 507,
    "start_time": "2022-07-08T17:19:50.387Z"
   },
   {
    "duration": 323,
    "start_time": "2022-07-08T17:19:50.896Z"
   },
   {
    "duration": 111,
    "start_time": "2022-07-08T17:19:51.221Z"
   },
   {
    "duration": 99,
    "start_time": "2022-07-08T17:19:51.334Z"
   },
   {
    "duration": 87,
    "start_time": "2022-07-08T17:19:51.436Z"
   },
   {
    "duration": 657,
    "start_time": "2022-07-08T17:19:51.524Z"
   },
   {
    "duration": 91,
    "start_time": "2022-07-08T17:19:52.183Z"
   },
   {
    "duration": 847,
    "start_time": "2022-07-08T17:19:52.277Z"
   },
   {
    "duration": 67,
    "start_time": "2022-07-08T17:19:53.126Z"
   },
   {
    "duration": 32,
    "start_time": "2022-07-08T17:19:53.195Z"
   },
   {
    "duration": 28,
    "start_time": "2022-07-08T17:19:53.229Z"
   },
   {
    "duration": 102,
    "start_time": "2022-07-08T17:19:53.258Z"
   },
   {
    "duration": 12,
    "start_time": "2022-07-08T17:19:53.362Z"
   },
   {
    "duration": 335,
    "start_time": "2022-07-08T17:19:53.376Z"
   },
   {
    "duration": 2,
    "start_time": "2022-07-08T17:19:53.713Z"
   },
   {
    "duration": 6,
    "start_time": "2022-07-08T17:19:53.722Z"
   },
   {
    "duration": 13356,
    "start_time": "2022-07-08T17:19:53.729Z"
   },
   {
    "duration": 109,
    "start_time": "2022-07-08T17:20:07.087Z"
   },
   {
    "duration": 66,
    "start_time": "2022-07-08T17:20:07.198Z"
   },
   {
    "duration": 56,
    "start_time": "2022-07-08T17:20:07.266Z"
   },
   {
    "duration": 13,
    "start_time": "2022-07-08T17:20:07.324Z"
   },
   {
    "duration": 14,
    "start_time": "2022-07-08T17:20:07.339Z"
   },
   {
    "duration": 343,
    "start_time": "2022-07-08T17:20:07.355Z"
   },
   {
    "duration": 2,
    "start_time": "2022-07-08T17:20:07.700Z"
   },
   {
    "duration": 34,
    "start_time": "2022-07-08T17:20:07.704Z"
   },
   {
    "duration": 42,
    "start_time": "2022-07-08T17:20:07.740Z"
   },
   {
    "duration": 3,
    "start_time": "2022-07-08T17:20:07.784Z"
   },
   {
    "duration": 11,
    "start_time": "2022-07-08T17:20:07.789Z"
   },
   {
    "duration": 138,
    "start_time": "2022-07-08T17:20:07.823Z"
   },
   {
    "duration": 3,
    "start_time": "2022-07-08T17:20:07.964Z"
   },
   {
    "duration": 6,
    "start_time": "2022-07-08T17:20:07.969Z"
   },
   {
    "duration": 55727,
    "start_time": "2022-07-08T17:22:35.740Z"
   },
   {
    "duration": 67943,
    "start_time": "2022-07-08T17:24:33.645Z"
   },
   {
    "duration": 4,
    "start_time": "2022-07-08T17:34:38.863Z"
   },
   {
    "duration": 3,
    "start_time": "2022-07-08T17:34:39.614Z"
   },
   {
    "duration": 129815,
    "start_time": "2022-07-08T17:35:09.529Z"
   },
   {
    "duration": 32,
    "start_time": "2022-07-08T17:45:11.757Z"
   },
   {
    "duration": 2,
    "start_time": "2022-07-08T17:45:12.685Z"
   },
   {
    "duration": 7,
    "start_time": "2022-07-08T17:45:13.604Z"
   },
   {
    "duration": 2,
    "start_time": "2022-07-08T17:45:21.406Z"
   },
   {
    "duration": 17,
    "start_time": "2022-07-08T17:45:27.363Z"
   },
   {
    "duration": 129996,
    "start_time": "2022-07-08T17:45:46.733Z"
   },
   {
    "duration": 195734,
    "start_time": "2022-07-08T17:48:45.008Z"
   },
   {
    "duration": 1458,
    "start_time": "2022-07-08T17:52:15.374Z"
   },
   {
    "duration": 1012,
    "start_time": "2022-07-08T17:52:16.834Z"
   },
   {
    "duration": 97,
    "start_time": "2022-07-08T17:52:17.848Z"
   },
   {
    "duration": 410,
    "start_time": "2022-07-08T17:52:17.947Z"
   },
   {
    "duration": 8,
    "start_time": "2022-07-08T17:52:18.358Z"
   },
   {
    "duration": 35,
    "start_time": "2022-07-08T17:52:18.368Z"
   },
   {
    "duration": 461,
    "start_time": "2022-07-08T17:52:18.423Z"
   },
   {
    "duration": 292,
    "start_time": "2022-07-08T17:52:18.885Z"
   },
   {
    "duration": 84,
    "start_time": "2022-07-08T17:52:19.179Z"
   },
   {
    "duration": 104,
    "start_time": "2022-07-08T17:52:19.266Z"
   },
   {
    "duration": 66,
    "start_time": "2022-07-08T17:52:19.372Z"
   },
   {
    "duration": 550,
    "start_time": "2022-07-08T17:52:19.440Z"
   },
   {
    "duration": 75,
    "start_time": "2022-07-08T17:52:19.992Z"
   },
   {
    "duration": 789,
    "start_time": "2022-07-08T17:52:20.069Z"
   },
   {
    "duration": 72,
    "start_time": "2022-07-08T17:52:20.860Z"
   },
   {
    "duration": 12,
    "start_time": "2022-07-08T17:52:20.934Z"
   },
   {
    "duration": 26,
    "start_time": "2022-07-08T17:52:20.947Z"
   },
   {
    "duration": 103,
    "start_time": "2022-07-08T17:52:20.975Z"
   },
   {
    "duration": 13,
    "start_time": "2022-07-08T17:52:21.080Z"
   },
   {
    "duration": 329,
    "start_time": "2022-07-08T17:52:21.095Z"
   },
   {
    "duration": 3,
    "start_time": "2022-07-08T17:52:21.426Z"
   },
   {
    "duration": 29,
    "start_time": "2022-07-08T17:52:21.430Z"
   },
   {
    "duration": 12340,
    "start_time": "2022-07-08T17:52:21.461Z"
   },
   {
    "duration": 108,
    "start_time": "2022-07-08T17:52:33.803Z"
   },
   {
    "duration": 57,
    "start_time": "2022-07-08T17:52:33.912Z"
   },
   {
    "duration": 52,
    "start_time": "2022-07-08T17:52:33.971Z"
   },
   {
    "duration": 13,
    "start_time": "2022-07-08T17:52:34.024Z"
   },
   {
    "duration": 14,
    "start_time": "2022-07-08T17:52:34.040Z"
   },
   {
    "duration": 314,
    "start_time": "2022-07-08T17:52:34.056Z"
   },
   {
    "duration": 3,
    "start_time": "2022-07-08T17:52:34.371Z"
   },
   {
    "duration": 44,
    "start_time": "2022-07-08T17:52:34.376Z"
   },
   {
    "duration": 39,
    "start_time": "2022-07-08T17:52:34.423Z"
   },
   {
    "duration": 3,
    "start_time": "2022-07-08T17:52:34.464Z"
   },
   {
    "duration": 17,
    "start_time": "2022-07-08T17:52:34.470Z"
   },
   {
    "duration": 146,
    "start_time": "2022-07-08T17:52:34.489Z"
   },
   {
    "duration": 3,
    "start_time": "2022-07-08T17:52:34.637Z"
   },
   {
    "duration": 130,
    "start_time": "2022-07-08T17:52:52.878Z"
   },
   {
    "duration": 10,
    "start_time": "2022-07-08T17:53:19.622Z"
   },
   {
    "duration": 4,
    "start_time": "2022-07-08T17:53:30.017Z"
   },
   {
    "duration": 472880,
    "start_time": "2022-07-08T17:53:38.511Z"
   },
   {
    "duration": 7,
    "start_time": "2022-07-08T18:07:39.928Z"
   },
   {
    "duration": 938,
    "start_time": "2022-07-08T18:07:39.937Z"
   },
   {
    "duration": 95,
    "start_time": "2022-07-08T18:07:40.877Z"
   },
   {
    "duration": 424,
    "start_time": "2022-07-08T18:07:40.975Z"
   },
   {
    "duration": 7,
    "start_time": "2022-07-08T18:07:41.400Z"
   },
   {
    "duration": 29,
    "start_time": "2022-07-08T18:07:41.409Z"
   },
   {
    "duration": 382,
    "start_time": "2022-07-08T18:07:41.440Z"
   },
   {
    "duration": 228,
    "start_time": "2022-07-08T18:07:41.824Z"
   },
   {
    "duration": 88,
    "start_time": "2022-07-08T18:07:42.054Z"
   },
   {
    "duration": 92,
    "start_time": "2022-07-08T18:07:42.144Z"
   },
   {
    "duration": 61,
    "start_time": "2022-07-08T18:07:42.238Z"
   },
   {
    "duration": 584,
    "start_time": "2022-07-08T18:07:42.300Z"
   },
   {
    "duration": 74,
    "start_time": "2022-07-08T18:07:42.886Z"
   },
   {
    "duration": 685,
    "start_time": "2022-07-08T18:07:42.962Z"
   },
   {
    "duration": 66,
    "start_time": "2022-07-08T18:07:43.658Z"
   },
   {
    "duration": 16,
    "start_time": "2022-07-08T18:07:43.726Z"
   },
   {
    "duration": 22,
    "start_time": "2022-07-08T18:07:43.743Z"
   },
   {
    "duration": 84,
    "start_time": "2022-07-08T18:07:43.766Z"
   },
   {
    "duration": 12,
    "start_time": "2022-07-08T18:07:43.852Z"
   },
   {
    "duration": 325,
    "start_time": "2022-07-08T18:07:43.866Z"
   },
   {
    "duration": 2,
    "start_time": "2022-07-08T18:07:44.192Z"
   },
   {
    "duration": 17,
    "start_time": "2022-07-08T18:07:44.196Z"
   },
   {
    "duration": 12088,
    "start_time": "2022-07-08T18:07:44.214Z"
   },
   {
    "duration": 90,
    "start_time": "2022-07-08T18:07:56.304Z"
   },
   {
    "duration": 65,
    "start_time": "2022-07-08T18:07:56.396Z"
   },
   {
    "duration": 38,
    "start_time": "2022-07-08T18:07:56.462Z"
   },
   {
    "duration": 32,
    "start_time": "2022-07-08T18:07:56.502Z"
   },
   {
    "duration": 13,
    "start_time": "2022-07-08T18:07:56.538Z"
   },
   {
    "duration": 320,
    "start_time": "2022-07-08T18:07:56.553Z"
   },
   {
    "duration": 4,
    "start_time": "2022-07-08T18:07:56.875Z"
   },
   {
    "duration": 29,
    "start_time": "2022-07-08T18:07:56.880Z"
   },
   {
    "duration": 42,
    "start_time": "2022-07-08T18:07:56.910Z"
   },
   {
    "duration": 2,
    "start_time": "2022-07-08T18:07:56.954Z"
   },
   {
    "duration": 12,
    "start_time": "2022-07-08T18:07:56.958Z"
   },
   {
    "duration": 3,
    "start_time": "2022-07-08T18:07:56.972Z"
   },
   {
    "duration": 10,
    "start_time": "2022-07-08T18:07:56.976Z"
   },
   {
    "duration": 12,
    "start_time": "2022-07-08T18:07:56.987Z"
   },
   {
    "duration": 229218,
    "start_time": "2022-07-08T18:08:11.986Z"
   },
   {
    "duration": 36,
    "start_time": "2022-07-08T18:12:01.207Z"
   },
   {
    "duration": 15,
    "start_time": "2022-07-08T18:12:01.246Z"
   },
   {
    "duration": 48,
    "start_time": "2022-07-08T18:12:42.914Z"
   },
   {
    "duration": 1469,
    "start_time": "2022-07-08T18:13:02.079Z"
   },
   {
    "duration": 1030,
    "start_time": "2022-07-08T18:13:03.550Z"
   },
   {
    "duration": 95,
    "start_time": "2022-07-08T18:13:04.582Z"
   },
   {
    "duration": 423,
    "start_time": "2022-07-08T18:13:04.679Z"
   },
   {
    "duration": 7,
    "start_time": "2022-07-08T18:13:05.103Z"
   },
   {
    "duration": 42,
    "start_time": "2022-07-08T18:13:05.111Z"
   },
   {
    "duration": 481,
    "start_time": "2022-07-08T18:13:05.154Z"
   },
   {
    "duration": 288,
    "start_time": "2022-07-08T18:13:05.637Z"
   },
   {
    "duration": 82,
    "start_time": "2022-07-08T18:13:05.927Z"
   },
   {
    "duration": 89,
    "start_time": "2022-07-08T18:13:06.022Z"
   },
   {
    "duration": 71,
    "start_time": "2022-07-08T18:13:06.113Z"
   },
   {
    "duration": 595,
    "start_time": "2022-07-08T18:13:06.186Z"
   },
   {
    "duration": 71,
    "start_time": "2022-07-08T18:13:06.782Z"
   },
   {
    "duration": 762,
    "start_time": "2022-07-08T18:13:06.855Z"
   },
   {
    "duration": 67,
    "start_time": "2022-07-08T18:13:07.619Z"
   },
   {
    "duration": 12,
    "start_time": "2022-07-08T18:13:07.687Z"
   },
   {
    "duration": 42,
    "start_time": "2022-07-08T18:13:07.701Z"
   },
   {
    "duration": 82,
    "start_time": "2022-07-08T18:13:07.744Z"
   },
   {
    "duration": 11,
    "start_time": "2022-07-08T18:13:07.828Z"
   },
   {
    "duration": 326,
    "start_time": "2022-07-08T18:13:07.841Z"
   },
   {
    "duration": 3,
    "start_time": "2022-07-08T18:13:08.169Z"
   },
   {
    "duration": 8,
    "start_time": "2022-07-08T18:13:08.174Z"
   },
   {
    "duration": 12322,
    "start_time": "2022-07-08T18:13:08.183Z"
   },
   {
    "duration": 118,
    "start_time": "2022-07-08T18:13:20.507Z"
   },
   {
    "duration": 54,
    "start_time": "2022-07-08T18:13:20.627Z"
   },
   {
    "duration": 53,
    "start_time": "2022-07-08T18:13:20.682Z"
   },
   {
    "duration": 12,
    "start_time": "2022-07-08T18:13:20.737Z"
   },
   {
    "duration": 15,
    "start_time": "2022-07-08T18:13:20.752Z"
   },
   {
    "duration": 316,
    "start_time": "2022-07-08T18:13:20.768Z"
   },
   {
    "duration": 3,
    "start_time": "2022-07-08T18:13:21.085Z"
   },
   {
    "duration": 38,
    "start_time": "2022-07-08T18:13:21.090Z"
   },
   {
    "duration": 34,
    "start_time": "2022-07-08T18:13:21.130Z"
   },
   {
    "duration": 3,
    "start_time": "2022-07-08T18:13:21.165Z"
   },
   {
    "duration": 3,
    "start_time": "2022-07-08T18:13:25.134Z"
   },
   {
    "duration": 8,
    "start_time": "2022-07-08T18:13:25.909Z"
   },
   {
    "duration": 2,
    "start_time": "2022-07-08T18:13:27.772Z"
   },
   {
    "duration": 3,
    "start_time": "2022-07-08T18:13:38.310Z"
   },
   {
    "duration": 3,
    "start_time": "2022-07-08T18:13:42.392Z"
   },
   {
    "duration": 127429,
    "start_time": "2022-07-08T18:14:14.887Z"
   },
   {
    "duration": 6,
    "start_time": "2022-07-08T18:21:26.957Z"
   },
   {
    "duration": 944,
    "start_time": "2022-07-08T18:21:26.965Z"
   },
   {
    "duration": 90,
    "start_time": "2022-07-08T18:21:27.911Z"
   },
   {
    "duration": 409,
    "start_time": "2022-07-08T18:21:28.003Z"
   },
   {
    "duration": 7,
    "start_time": "2022-07-08T18:21:28.422Z"
   },
   {
    "duration": 23,
    "start_time": "2022-07-08T18:21:28.430Z"
   },
   {
    "duration": 409,
    "start_time": "2022-07-08T18:21:28.455Z"
   },
   {
    "duration": 229,
    "start_time": "2022-07-08T18:21:28.866Z"
   },
   {
    "duration": 81,
    "start_time": "2022-07-08T18:21:29.097Z"
   },
   {
    "duration": 99,
    "start_time": "2022-07-08T18:21:29.180Z"
   },
   {
    "duration": 64,
    "start_time": "2022-07-08T18:21:29.280Z"
   },
   {
    "duration": 542,
    "start_time": "2022-07-08T18:21:29.346Z"
   },
   {
    "duration": 66,
    "start_time": "2022-07-08T18:21:29.890Z"
   },
   {
    "duration": 706,
    "start_time": "2022-07-08T18:21:29.959Z"
   },
   {
    "duration": 69,
    "start_time": "2022-07-08T18:21:30.667Z"
   },
   {
    "duration": 20,
    "start_time": "2022-07-08T18:21:30.738Z"
   },
   {
    "duration": 22,
    "start_time": "2022-07-08T18:21:30.760Z"
   },
   {
    "duration": 85,
    "start_time": "2022-07-08T18:21:30.783Z"
   },
   {
    "duration": 13,
    "start_time": "2022-07-08T18:21:30.870Z"
   },
   {
    "duration": 323,
    "start_time": "2022-07-08T18:21:30.884Z"
   },
   {
    "duration": 3,
    "start_time": "2022-07-08T18:21:31.208Z"
   },
   {
    "duration": 12,
    "start_time": "2022-07-08T18:21:31.222Z"
   },
   {
    "duration": 11174,
    "start_time": "2022-07-08T18:21:31.236Z"
   },
   {
    "duration": 93,
    "start_time": "2022-07-08T18:21:42.412Z"
   },
   {
    "duration": 60,
    "start_time": "2022-07-08T18:21:42.507Z"
   },
   {
    "duration": 35,
    "start_time": "2022-07-08T18:21:42.569Z"
   },
   {
    "duration": 27,
    "start_time": "2022-07-08T18:21:42.606Z"
   },
   {
    "duration": 14,
    "start_time": "2022-07-08T18:21:42.635Z"
   },
   {
    "duration": 346,
    "start_time": "2022-07-08T18:21:42.651Z"
   },
   {
    "duration": 4,
    "start_time": "2022-07-08T18:21:42.999Z"
   },
   {
    "duration": 36,
    "start_time": "2022-07-08T18:21:43.005Z"
   },
   {
    "duration": 165,
    "start_time": "2022-07-08T18:21:43.043Z"
   },
   {
    "duration": 2,
    "start_time": "2022-07-08T18:21:43.211Z"
   },
   {
    "duration": 15,
    "start_time": "2022-07-08T18:21:43.215Z"
   },
   {
    "duration": 3,
    "start_time": "2022-07-08T18:21:43.231Z"
   },
   {
    "duration": 6,
    "start_time": "2022-07-08T18:21:43.235Z"
   },
   {
    "duration": 6,
    "start_time": "2022-07-08T18:21:43.243Z"
   },
   {
    "duration": 212349,
    "start_time": "2022-07-08T18:21:46.950Z"
   },
   {
    "duration": 2,
    "start_time": "2022-07-08T18:34:36.634Z"
   },
   {
    "duration": 2,
    "start_time": "2022-07-08T18:34:38.653Z"
   },
   {
    "duration": 3,
    "start_time": "2022-07-08T18:39:46.364Z"
   },
   {
    "duration": 3,
    "start_time": "2022-07-08T18:39:47.268Z"
   },
   {
    "duration": 3,
    "start_time": "2022-07-08T18:39:48.268Z"
   },
   {
    "duration": 3,
    "start_time": "2022-07-08T18:40:04.817Z"
   },
   {
    "duration": 6,
    "start_time": "2022-07-08T18:40:05.525Z"
   },
   {
    "duration": 3,
    "start_time": "2022-07-08T18:40:06.880Z"
   },
   {
    "duration": 112,
    "start_time": "2022-07-08T18:41:47.253Z"
   },
   {
    "duration": 2,
    "start_time": "2022-07-08T18:42:05.053Z"
   },
   {
    "duration": 3,
    "start_time": "2022-07-08T18:42:05.475Z"
   },
   {
    "duration": 2,
    "start_time": "2022-07-08T18:42:06.590Z"
   },
   {
    "duration": 30,
    "start_time": "2022-07-08T18:42:33.760Z"
   },
   {
    "duration": 2,
    "start_time": "2022-07-08T18:43:35.865Z"
   },
   {
    "duration": 29,
    "start_time": "2022-07-08T18:43:36.696Z"
   },
   {
    "duration": 2,
    "start_time": "2022-07-08T18:44:26.202Z"
   },
   {
    "duration": 3,
    "start_time": "2022-07-08T18:44:27.372Z"
   },
   {
    "duration": 3,
    "start_time": "2022-07-08T18:44:28.768Z"
   },
   {
    "duration": 32,
    "start_time": "2022-07-08T18:44:29.835Z"
   },
   {
    "duration": 20,
    "start_time": "2022-07-08T18:45:18.914Z"
   },
   {
    "duration": 24,
    "start_time": "2022-07-08T18:45:31.815Z"
   },
   {
    "duration": 4,
    "start_time": "2022-07-08T18:46:00.206Z"
   },
   {
    "duration": 3,
    "start_time": "2022-07-08T18:46:17.597Z"
   },
   {
    "duration": 27,
    "start_time": "2022-07-08T18:46:44.180Z"
   },
   {
    "duration": 3,
    "start_time": "2022-07-08T18:47:13.935Z"
   },
   {
    "duration": 3,
    "start_time": "2022-07-08T18:47:23.845Z"
   },
   {
    "duration": 3,
    "start_time": "2022-07-08T18:47:24.814Z"
   },
   {
    "duration": 4,
    "start_time": "2022-07-08T18:47:26.334Z"
   },
   {
    "duration": 27,
    "start_time": "2022-07-08T18:47:34.179Z"
   },
   {
    "duration": 33,
    "start_time": "2022-07-08T18:48:52.306Z"
   },
   {
    "duration": 5,
    "start_time": "2022-07-08T18:50:54.629Z"
   },
   {
    "duration": 3,
    "start_time": "2022-07-08T18:50:55.571Z"
   },
   {
    "duration": 35,
    "start_time": "2022-07-08T18:50:56.599Z"
   },
   {
    "duration": 3,
    "start_time": "2022-07-08T18:51:21.480Z"
   },
   {
    "duration": 4,
    "start_time": "2022-07-08T18:51:22.459Z"
   },
   {
    "duration": 283350,
    "start_time": "2022-07-08T18:51:22.999Z"
   },
   {
    "duration": 5,
    "start_time": "2022-07-08T19:00:13.199Z"
   },
   {
    "duration": 55,
    "start_time": "2022-07-08T19:04:02.153Z"
   },
   {
    "duration": 11,
    "start_time": "2022-07-08T19:04:21.776Z"
   },
   {
    "duration": 11,
    "start_time": "2022-07-08T19:04:46.959Z"
   },
   {
    "duration": 3641,
    "start_time": "2022-07-08T19:05:25.493Z"
   },
   {
    "duration": 34524,
    "start_time": "2022-07-08T19:06:55.612Z"
   },
   {
    "duration": 5,
    "start_time": "2022-07-08T19:08:56.174Z"
   },
   {
    "duration": 4,
    "start_time": "2022-07-08T19:11:33.985Z"
   },
   {
    "duration": 3,
    "start_time": "2022-07-08T19:11:38.933Z"
   },
   {
    "duration": 3,
    "start_time": "2022-07-08T19:12:11.965Z"
   },
   {
    "duration": 5,
    "start_time": "2022-07-08T19:12:12.850Z"
   },
   {
    "duration": 4778,
    "start_time": "2022-07-08T19:12:14.257Z"
   },
   {
    "duration": 2,
    "start_time": "2022-07-08T19:12:55.105Z"
   },
   {
    "duration": 3,
    "start_time": "2022-07-08T19:13:12.216Z"
   },
   {
    "duration": 3,
    "start_time": "2022-07-08T19:13:14.089Z"
   },
   {
    "duration": 1431,
    "start_time": "2022-07-08T19:17:26.365Z"
   },
   {
    "duration": 1094,
    "start_time": "2022-07-08T19:17:27.798Z"
   },
   {
    "duration": 104,
    "start_time": "2022-07-08T19:17:28.894Z"
   },
   {
    "duration": 436,
    "start_time": "2022-07-08T19:17:28.999Z"
   },
   {
    "duration": 7,
    "start_time": "2022-07-08T19:17:29.437Z"
   },
   {
    "duration": 37,
    "start_time": "2022-07-08T19:17:29.446Z"
   },
   {
    "duration": 507,
    "start_time": "2022-07-08T19:17:29.484Z"
   },
   {
    "duration": 311,
    "start_time": "2022-07-08T19:17:29.993Z"
   },
   {
    "duration": 1465,
    "start_time": "2022-07-08T19:17:36.243Z"
   },
   {
    "duration": 1031,
    "start_time": "2022-07-08T19:17:37.710Z"
   },
   {
    "duration": 103,
    "start_time": "2022-07-08T19:17:38.743Z"
   },
   {
    "duration": 445,
    "start_time": "2022-07-08T19:17:38.849Z"
   },
   {
    "duration": 6,
    "start_time": "2022-07-08T19:17:39.296Z"
   },
   {
    "duration": 58,
    "start_time": "2022-07-08T19:17:39.304Z"
   },
   {
    "duration": 520,
    "start_time": "2022-07-08T19:17:39.364Z"
   },
   {
    "duration": 302,
    "start_time": "2022-07-08T19:17:39.886Z"
   },
   {
    "duration": 90,
    "start_time": "2022-07-08T19:17:40.189Z"
   },
   {
    "duration": 112,
    "start_time": "2022-07-08T19:17:40.282Z"
   },
   {
    "duration": 67,
    "start_time": "2022-07-08T19:17:40.396Z"
   },
   {
    "duration": 582,
    "start_time": "2022-07-08T19:17:40.466Z"
   },
   {
    "duration": 84,
    "start_time": "2022-07-08T19:17:41.050Z"
   },
   {
    "duration": 780,
    "start_time": "2022-07-08T19:17:41.135Z"
   },
   {
    "duration": 82,
    "start_time": "2022-07-08T19:17:41.917Z"
   },
   {
    "duration": 23,
    "start_time": "2022-07-08T19:17:42.001Z"
   },
   {
    "duration": 27,
    "start_time": "2022-07-08T19:17:42.026Z"
   },
   {
    "duration": 101,
    "start_time": "2022-07-08T19:17:42.055Z"
   },
   {
    "duration": 11,
    "start_time": "2022-07-08T19:17:42.158Z"
   },
   {
    "duration": 346,
    "start_time": "2022-07-08T19:17:42.171Z"
   },
   {
    "duration": 4,
    "start_time": "2022-07-08T19:17:42.518Z"
   },
   {
    "duration": 13,
    "start_time": "2022-07-08T19:17:42.533Z"
   },
   {
    "duration": 12993,
    "start_time": "2022-07-08T19:17:42.548Z"
   },
   {
    "duration": 114,
    "start_time": "2022-07-08T19:17:55.543Z"
   },
   {
    "duration": 66,
    "start_time": "2022-07-08T19:17:55.659Z"
   },
   {
    "duration": 44,
    "start_time": "2022-07-08T19:17:55.727Z"
   },
   {
    "duration": 13,
    "start_time": "2022-07-08T19:17:55.773Z"
   },
   {
    "duration": 38,
    "start_time": "2022-07-08T19:17:55.790Z"
   },
   {
    "duration": 341,
    "start_time": "2022-07-08T19:17:55.830Z"
   },
   {
    "duration": 3,
    "start_time": "2022-07-08T19:17:56.173Z"
   },
   {
    "duration": 28,
    "start_time": "2022-07-08T19:17:56.178Z"
   },
   {
    "duration": 47,
    "start_time": "2022-07-08T19:17:56.207Z"
   },
   {
    "duration": 2,
    "start_time": "2022-07-08T19:17:56.256Z"
   },
   {
    "duration": 15,
    "start_time": "2022-07-08T19:17:56.260Z"
   },
   {
    "duration": 4,
    "start_time": "2022-07-08T19:17:56.277Z"
   },
   {
    "duration": 10,
    "start_time": "2022-07-08T19:17:56.282Z"
   },
   {
    "duration": 7,
    "start_time": "2022-07-08T19:17:56.293Z"
   },
   {
    "duration": 384298,
    "start_time": "2022-07-08T19:17:56.301Z"
   },
   {
    "duration": 3,
    "start_time": "2022-07-08T19:25:11.935Z"
   },
   {
    "duration": 3,
    "start_time": "2022-07-08T19:25:18.675Z"
   },
   {
    "duration": 609903,
    "start_time": "2022-07-08T19:25:27.289Z"
   },
   {
    "duration": 1472,
    "start_time": "2022-07-08T19:36:05.382Z"
   },
   {
    "duration": 1024,
    "start_time": "2022-07-08T19:36:06.856Z"
   },
   {
    "duration": 105,
    "start_time": "2022-07-08T19:36:07.881Z"
   },
   {
    "duration": 452,
    "start_time": "2022-07-08T19:36:07.988Z"
   },
   {
    "duration": 7,
    "start_time": "2022-07-08T19:36:08.442Z"
   },
   {
    "duration": 52,
    "start_time": "2022-07-08T19:36:08.451Z"
   },
   {
    "duration": 547,
    "start_time": "2022-07-08T19:36:08.505Z"
   },
   {
    "duration": 332,
    "start_time": "2022-07-08T19:36:09.054Z"
   },
   {
    "duration": 102,
    "start_time": "2022-07-08T19:36:09.388Z"
   },
   {
    "duration": 111,
    "start_time": "2022-07-08T19:36:09.492Z"
   },
   {
    "duration": 74,
    "start_time": "2022-07-08T19:36:09.605Z"
   },
   {
    "duration": 621,
    "start_time": "2022-07-08T19:36:09.681Z"
   },
   {
    "duration": 86,
    "start_time": "2022-07-08T19:36:10.304Z"
   },
   {
    "duration": 843,
    "start_time": "2022-07-08T19:36:10.393Z"
   },
   {
    "duration": 63,
    "start_time": "2022-07-08T19:36:11.238Z"
   },
   {
    "duration": 25,
    "start_time": "2022-07-08T19:36:11.303Z"
   },
   {
    "duration": 27,
    "start_time": "2022-07-08T19:36:11.334Z"
   },
   {
    "duration": 93,
    "start_time": "2022-07-08T19:36:11.363Z"
   },
   {
    "duration": 11,
    "start_time": "2022-07-08T19:36:11.458Z"
   },
   {
    "duration": 334,
    "start_time": "2022-07-08T19:36:11.470Z"
   },
   {
    "duration": 3,
    "start_time": "2022-07-08T19:36:11.806Z"
   },
   {
    "duration": 25,
    "start_time": "2022-07-08T19:36:11.811Z"
   },
   {
    "duration": 13239,
    "start_time": "2022-07-08T19:36:11.838Z"
   },
   {
    "duration": 108,
    "start_time": "2022-07-08T19:36:25.079Z"
   },
   {
    "duration": 68,
    "start_time": "2022-07-08T19:36:25.188Z"
   },
   {
    "duration": 37,
    "start_time": "2022-07-08T19:36:25.258Z"
   },
   {
    "duration": 39,
    "start_time": "2022-07-08T19:36:25.297Z"
   },
   {
    "duration": 13,
    "start_time": "2022-07-08T19:36:25.338Z"
   },
   {
    "duration": 324,
    "start_time": "2022-07-08T19:36:25.353Z"
   },
   {
    "duration": 3,
    "start_time": "2022-07-08T19:36:25.679Z"
   },
   {
    "duration": 51,
    "start_time": "2022-07-08T19:36:25.683Z"
   },
   {
    "duration": 31,
    "start_time": "2022-07-08T19:36:25.736Z"
   },
   {
    "duration": 3,
    "start_time": "2022-07-08T19:36:25.768Z"
   },
   {
    "duration": 26,
    "start_time": "2022-07-08T19:36:25.772Z"
   },
   {
    "duration": 3,
    "start_time": "2022-07-08T19:36:25.800Z"
   },
   {
    "duration": 5,
    "start_time": "2022-07-08T19:36:25.806Z"
   },
   {
    "duration": 29,
    "start_time": "2022-07-08T19:36:25.812Z"
   },
   {
    "duration": 275592,
    "start_time": "2022-07-08T19:36:25.842Z"
   },
   {
    "duration": 29091,
    "start_time": "2022-07-08T19:41:01.438Z"
   },
   {
    "duration": 61,
    "start_time": "2022-07-08T19:44:52.343Z"
   },
   {
    "duration": 1087,
    "start_time": "2022-07-08T19:44:55.270Z"
   },
   {
    "duration": 11,
    "start_time": "2022-07-08T19:45:27.191Z"
   },
   {
    "duration": 77,
    "start_time": "2022-07-08T19:46:48.735Z"
   },
   {
    "duration": 21,
    "start_time": "2022-07-08T19:46:50.409Z"
   },
   {
    "duration": 2067,
    "start_time": "2022-07-08T19:46:59.153Z"
   },
   {
    "duration": 2245,
    "start_time": "2022-07-08T19:48:36.359Z"
   },
   {
    "duration": 3,
    "start_time": "2022-07-08T19:48:56.275Z"
   },
   {
    "duration": 4,
    "start_time": "2022-07-08T19:49:06.489Z"
   },
   {
    "duration": 1988,
    "start_time": "2022-07-09T06:21:43.443Z"
   },
   {
    "duration": 3946,
    "start_time": "2022-07-09T06:21:45.434Z"
   },
   {
    "duration": 108,
    "start_time": "2022-07-09T06:21:49.382Z"
   },
   {
    "duration": 539,
    "start_time": "2022-07-09T06:21:49.493Z"
   },
   {
    "duration": 8,
    "start_time": "2022-07-09T06:21:50.034Z"
   },
   {
    "duration": 45,
    "start_time": "2022-07-09T06:21:50.043Z"
   },
   {
    "duration": 571,
    "start_time": "2022-07-09T06:21:50.090Z"
   },
   {
    "duration": 339,
    "start_time": "2022-07-09T06:21:50.663Z"
   },
   {
    "duration": 82,
    "start_time": "2022-07-09T06:21:51.007Z"
   },
   {
    "duration": 105,
    "start_time": "2022-07-09T06:21:51.091Z"
   },
   {
    "duration": 83,
    "start_time": "2022-07-09T06:21:51.207Z"
   },
   {
    "duration": 816,
    "start_time": "2022-07-09T06:21:51.292Z"
   },
   {
    "duration": 110,
    "start_time": "2022-07-09T06:21:52.110Z"
   },
   {
    "duration": 856,
    "start_time": "2022-07-09T06:21:52.231Z"
   },
   {
    "duration": 79,
    "start_time": "2022-07-09T06:21:53.089Z"
   },
   {
    "duration": 33,
    "start_time": "2022-07-09T06:21:53.170Z"
   },
   {
    "duration": 31,
    "start_time": "2022-07-09T06:21:53.204Z"
   },
   {
    "duration": 84,
    "start_time": "2022-07-09T06:21:53.238Z"
   },
   {
    "duration": 15,
    "start_time": "2022-07-09T06:21:53.326Z"
   },
   {
    "duration": 388,
    "start_time": "2022-07-09T06:21:53.343Z"
   },
   {
    "duration": 3,
    "start_time": "2022-07-09T06:21:53.734Z"
   },
   {
    "duration": 11,
    "start_time": "2022-07-09T06:21:53.739Z"
   },
   {
    "duration": 17062,
    "start_time": "2022-07-09T06:21:53.752Z"
   },
   {
    "duration": 115,
    "start_time": "2022-07-09T06:22:10.815Z"
   },
   {
    "duration": 58,
    "start_time": "2022-07-09T06:22:10.934Z"
   },
   {
    "duration": 44,
    "start_time": "2022-07-09T06:22:10.994Z"
   },
   {
    "duration": 12,
    "start_time": "2022-07-09T06:22:11.040Z"
   },
   {
    "duration": 16,
    "start_time": "2022-07-09T06:22:11.054Z"
   },
   {
    "duration": 399,
    "start_time": "2022-07-09T06:22:11.072Z"
   },
   {
    "duration": 4,
    "start_time": "2022-07-09T06:22:11.473Z"
   },
   {
    "duration": 46,
    "start_time": "2022-07-09T06:22:11.479Z"
   },
   {
    "duration": 45,
    "start_time": "2022-07-09T06:22:11.527Z"
   },
   {
    "duration": 2,
    "start_time": "2022-07-09T06:22:11.574Z"
   },
   {
    "duration": 28,
    "start_time": "2022-07-09T06:22:11.578Z"
   },
   {
    "duration": 2,
    "start_time": "2022-07-09T06:22:11.608Z"
   },
   {
    "duration": 93,
    "start_time": "2022-07-09T06:22:11.615Z"
   },
   {
    "duration": 28,
    "start_time": "2022-07-09T06:22:14.399Z"
   },
   {
    "duration": 14,
    "start_time": "2022-07-09T06:22:28.472Z"
   },
   {
    "duration": 11,
    "start_time": "2022-07-09T06:22:57.395Z"
   },
   {
    "duration": 4426,
    "start_time": "2022-07-09T06:23:03.033Z"
   },
   {
    "duration": 65,
    "start_time": "2022-07-09T06:24:03.979Z"
   },
   {
    "duration": 37,
    "start_time": "2022-07-09T06:24:10.326Z"
   },
   {
    "duration": 47,
    "start_time": "2022-07-09T06:30:07.278Z"
   },
   {
    "duration": 262404,
    "start_time": "2022-07-09T06:34:40.509Z"
   },
   {
    "duration": 5,
    "start_time": "2022-07-09T06:46:30.482Z"
   },
   {
    "duration": 12,
    "start_time": "2022-07-09T06:46:34.362Z"
   },
   {
    "duration": 8,
    "start_time": "2022-07-09T06:46:52.406Z"
   },
   {
    "duration": 1797,
    "start_time": "2022-07-09T06:50:06.248Z"
   },
   {
    "duration": 6,
    "start_time": "2022-07-09T06:51:43.867Z"
   },
   {
    "duration": 1180,
    "start_time": "2022-07-09T06:51:43.875Z"
   },
   {
    "duration": 110,
    "start_time": "2022-07-09T06:51:45.058Z"
   },
   {
    "duration": 485,
    "start_time": "2022-07-09T06:51:45.170Z"
   },
   {
    "duration": 10,
    "start_time": "2022-07-09T06:51:45.657Z"
   },
   {
    "duration": 46,
    "start_time": "2022-07-09T06:51:45.669Z"
   },
   {
    "duration": 495,
    "start_time": "2022-07-09T06:51:45.718Z"
   },
   {
    "duration": 311,
    "start_time": "2022-07-09T06:51:46.215Z"
   },
   {
    "duration": 81,
    "start_time": "2022-07-09T06:51:46.528Z"
   },
   {
    "duration": 107,
    "start_time": "2022-07-09T06:51:46.611Z"
   },
   {
    "duration": 97,
    "start_time": "2022-07-09T06:51:46.721Z"
   },
   {
    "duration": 700,
    "start_time": "2022-07-09T06:51:46.821Z"
   },
   {
    "duration": 80,
    "start_time": "2022-07-09T06:51:47.523Z"
   },
   {
    "duration": 1108,
    "start_time": "2022-07-09T06:51:47.610Z"
   },
   {
    "duration": 64,
    "start_time": "2022-07-09T06:51:48.720Z"
   },
   {
    "duration": 24,
    "start_time": "2022-07-09T06:51:48.786Z"
   },
   {
    "duration": 28,
    "start_time": "2022-07-09T06:51:48.813Z"
   },
   {
    "duration": 88,
    "start_time": "2022-07-09T06:51:48.842Z"
   },
   {
    "duration": 12,
    "start_time": "2022-07-09T06:51:48.932Z"
   },
   {
    "duration": 364,
    "start_time": "2022-07-09T06:51:48.946Z"
   },
   {
    "duration": 3,
    "start_time": "2022-07-09T06:51:49.312Z"
   },
   {
    "duration": 7,
    "start_time": "2022-07-09T06:51:49.316Z"
   },
   {
    "duration": 15438,
    "start_time": "2022-07-09T06:51:49.325Z"
   },
   {
    "duration": 109,
    "start_time": "2022-07-09T06:52:04.765Z"
   },
   {
    "duration": 66,
    "start_time": "2022-07-09T06:52:04.876Z"
   },
   {
    "duration": 74,
    "start_time": "2022-07-09T06:52:04.945Z"
   },
   {
    "duration": 12,
    "start_time": "2022-07-09T06:52:05.022Z"
   },
   {
    "duration": 79,
    "start_time": "2022-07-09T06:57:11.604Z"
   },
   {
    "duration": 3456,
    "start_time": "2022-07-09T06:58:49.115Z"
   },
   {
    "duration": 51417,
    "start_time": "2022-07-09T06:59:43.474Z"
   },
   {
    "duration": 52474,
    "start_time": "2022-07-09T07:03:45.274Z"
   },
   {
    "duration": 52483,
    "start_time": "2022-07-09T07:04:52.195Z"
   },
   {
    "duration": 53031,
    "start_time": "2022-07-09T07:06:29.722Z"
   },
   {
    "duration": 92,
    "start_time": "2022-07-09T07:08:44.448Z"
   },
   {
    "duration": 89,
    "start_time": "2022-07-09T07:09:23.881Z"
   },
   {
    "duration": 86,
    "start_time": "2022-07-09T07:12:03.130Z"
   },
   {
    "duration": 1721,
    "start_time": "2022-07-09T07:21:10.968Z"
   },
   {
    "duration": 1190,
    "start_time": "2022-07-09T07:21:12.692Z"
   },
   {
    "duration": 90,
    "start_time": "2022-07-09T07:21:13.883Z"
   },
   {
    "duration": 452,
    "start_time": "2022-07-09T07:21:13.976Z"
   },
   {
    "duration": 7,
    "start_time": "2022-07-09T07:21:14.431Z"
   },
   {
    "duration": 31,
    "start_time": "2022-07-09T07:21:14.440Z"
   },
   {
    "duration": 518,
    "start_time": "2022-07-09T07:21:14.473Z"
   },
   {
    "duration": 311,
    "start_time": "2022-07-09T07:21:14.997Z"
   },
   {
    "duration": 81,
    "start_time": "2022-07-09T07:21:15.310Z"
   },
   {
    "duration": 85,
    "start_time": "2022-07-09T07:21:15.393Z"
   },
   {
    "duration": 77,
    "start_time": "2022-07-09T07:21:15.479Z"
   },
   {
    "duration": 662,
    "start_time": "2022-07-09T07:21:15.558Z"
   },
   {
    "duration": 83,
    "start_time": "2022-07-09T07:21:16.221Z"
   },
   {
    "duration": 981,
    "start_time": "2022-07-09T07:21:16.309Z"
   },
   {
    "duration": 69,
    "start_time": "2022-07-09T07:21:17.292Z"
   },
   {
    "duration": 12,
    "start_time": "2022-07-09T07:21:17.363Z"
   },
   {
    "duration": 47,
    "start_time": "2022-07-09T07:21:17.376Z"
   },
   {
    "duration": 76,
    "start_time": "2022-07-09T07:21:17.425Z"
   },
   {
    "duration": 14,
    "start_time": "2022-07-09T07:21:17.503Z"
   },
   {
    "duration": 347,
    "start_time": "2022-07-09T07:21:17.521Z"
   },
   {
    "duration": 3,
    "start_time": "2022-07-09T07:21:17.870Z"
   },
   {
    "duration": 7,
    "start_time": "2022-07-09T07:21:17.874Z"
   },
   {
    "duration": 15215,
    "start_time": "2022-07-09T07:21:17.882Z"
   },
   {
    "duration": 106,
    "start_time": "2022-07-09T07:21:33.108Z"
   },
   {
    "duration": 48,
    "start_time": "2022-07-09T07:21:33.216Z"
   },
   {
    "duration": 52,
    "start_time": "2022-07-09T07:21:33.266Z"
   },
   {
    "duration": 12,
    "start_time": "2022-07-09T07:21:33.320Z"
   },
   {
    "duration": 15,
    "start_time": "2022-07-09T07:21:33.334Z"
   },
   {
    "duration": 358,
    "start_time": "2022-07-09T07:21:33.351Z"
   },
   {
    "duration": 3,
    "start_time": "2022-07-09T07:21:33.711Z"
   },
   {
    "duration": 30,
    "start_time": "2022-07-09T07:21:33.716Z"
   },
   {
    "duration": 34,
    "start_time": "2022-07-09T07:21:33.748Z"
   },
   {
    "duration": 30,
    "start_time": "2022-07-09T07:21:33.784Z"
   },
   {
    "duration": 3,
    "start_time": "2022-07-09T07:21:33.817Z"
   },
   {
    "duration": 13,
    "start_time": "2022-07-09T07:21:33.822Z"
   },
   {
    "duration": 452931,
    "start_time": "2022-07-09T07:21:33.836Z"
   },
   {
    "duration": 4,
    "start_time": "2022-07-09T07:29:06.769Z"
   },
   {
    "duration": 18,
    "start_time": "2022-07-09T07:29:06.775Z"
   },
   {
    "duration": 1700814,
    "start_time": "2022-07-09T07:29:06.795Z"
   },
   {
    "duration": 0,
    "start_time": "2022-07-09T07:57:27.615Z"
   },
   {
    "duration": 0,
    "start_time": "2022-07-09T07:57:27.618Z"
   },
   {
    "duration": 0,
    "start_time": "2022-07-09T07:57:27.620Z"
   },
   {
    "duration": 0,
    "start_time": "2022-07-09T07:57:27.621Z"
   },
   {
    "duration": 0,
    "start_time": "2022-07-09T07:57:27.622Z"
   },
   {
    "duration": 0,
    "start_time": "2022-07-09T07:57:27.623Z"
   },
   {
    "duration": 1970,
    "start_time": "2022-07-09T07:57:39.263Z"
   },
   {
    "duration": 1292,
    "start_time": "2022-07-09T07:57:41.238Z"
   },
   {
    "duration": 103,
    "start_time": "2022-07-09T07:57:42.532Z"
   },
   {
    "duration": 513,
    "start_time": "2022-07-09T07:57:42.637Z"
   },
   {
    "duration": 8,
    "start_time": "2022-07-09T07:57:43.153Z"
   },
   {
    "duration": 58,
    "start_time": "2022-07-09T07:57:43.162Z"
   },
   {
    "duration": 626,
    "start_time": "2022-07-09T07:57:43.227Z"
   },
   {
    "duration": 365,
    "start_time": "2022-07-09T07:57:43.854Z"
   },
   {
    "duration": 99,
    "start_time": "2022-07-09T07:57:44.228Z"
   },
   {
    "duration": 94,
    "start_time": "2022-07-09T07:57:44.343Z"
   },
   {
    "duration": 95,
    "start_time": "2022-07-09T07:57:44.438Z"
   },
   {
    "duration": 733,
    "start_time": "2022-07-09T07:57:44.534Z"
   },
   {
    "duration": 85,
    "start_time": "2022-07-09T07:57:45.269Z"
   },
   {
    "duration": 1005,
    "start_time": "2022-07-09T07:57:45.359Z"
   },
   {
    "duration": 87,
    "start_time": "2022-07-09T07:57:46.366Z"
   },
   {
    "duration": 34,
    "start_time": "2022-07-09T07:57:46.455Z"
   },
   {
    "duration": 38,
    "start_time": "2022-07-09T07:57:46.491Z"
   },
   {
    "duration": 100,
    "start_time": "2022-07-09T07:57:46.534Z"
   },
   {
    "duration": 16,
    "start_time": "2022-07-09T07:57:46.639Z"
   },
   {
    "duration": 512,
    "start_time": "2022-07-09T07:57:46.658Z"
   },
   {
    "duration": 3,
    "start_time": "2022-07-09T07:57:47.173Z"
   },
   {
    "duration": 13,
    "start_time": "2022-07-09T07:57:47.178Z"
   },
   {
    "duration": 18154,
    "start_time": "2022-07-09T07:57:47.201Z"
   },
   {
    "duration": 118,
    "start_time": "2022-07-09T07:58:05.357Z"
   },
   {
    "duration": 66,
    "start_time": "2022-07-09T07:58:05.477Z"
   },
   {
    "duration": 54,
    "start_time": "2022-07-09T07:58:05.545Z"
   },
   {
    "duration": 23,
    "start_time": "2022-07-09T07:58:05.601Z"
   },
   {
    "duration": 36,
    "start_time": "2022-07-09T07:58:05.626Z"
   },
   {
    "duration": 391,
    "start_time": "2022-07-09T07:58:05.664Z"
   },
   {
    "duration": 3,
    "start_time": "2022-07-09T07:58:06.057Z"
   },
   {
    "duration": 56,
    "start_time": "2022-07-09T07:58:06.062Z"
   },
   {
    "duration": 36,
    "start_time": "2022-07-09T07:58:06.126Z"
   },
   {
    "duration": 8,
    "start_time": "2022-07-09T07:58:06.163Z"
   },
   {
    "duration": 2,
    "start_time": "2022-07-09T07:58:06.173Z"
   },
   {
    "duration": 5,
    "start_time": "2022-07-09T07:58:06.177Z"
   },
   {
    "duration": 1865,
    "start_time": "2022-07-09T08:14:43.183Z"
   },
   {
    "duration": 1293,
    "start_time": "2022-07-09T08:14:45.050Z"
   },
   {
    "duration": 104,
    "start_time": "2022-07-09T08:14:46.346Z"
   },
   {
    "duration": 523,
    "start_time": "2022-07-09T08:14:46.454Z"
   },
   {
    "duration": 9,
    "start_time": "2022-07-09T08:14:46.980Z"
   },
   {
    "duration": 54,
    "start_time": "2022-07-09T08:14:46.997Z"
   },
   {
    "duration": 569,
    "start_time": "2022-07-09T08:14:47.056Z"
   },
   {
    "duration": 349,
    "start_time": "2022-07-09T08:14:47.629Z"
   },
   {
    "duration": 90,
    "start_time": "2022-07-09T08:14:47.981Z"
   },
   {
    "duration": 116,
    "start_time": "2022-07-09T08:14:48.073Z"
   },
   {
    "duration": 81,
    "start_time": "2022-07-09T08:14:48.191Z"
   },
   {
    "duration": 720,
    "start_time": "2022-07-09T08:14:48.274Z"
   },
   {
    "duration": 72,
    "start_time": "2022-07-09T08:14:49.002Z"
   },
   {
    "duration": 969,
    "start_time": "2022-07-09T08:14:49.078Z"
   },
   {
    "duration": 67,
    "start_time": "2022-07-09T08:14:50.049Z"
   },
   {
    "duration": 32,
    "start_time": "2022-07-09T08:14:50.123Z"
   },
   {
    "duration": 26,
    "start_time": "2022-07-09T08:14:50.157Z"
   },
   {
    "duration": 90,
    "start_time": "2022-07-09T08:14:50.185Z"
   },
   {
    "duration": 13,
    "start_time": "2022-07-09T08:14:50.276Z"
   },
   {
    "duration": 382,
    "start_time": "2022-07-09T08:14:50.305Z"
   },
   {
    "duration": 3,
    "start_time": "2022-07-09T08:14:50.688Z"
   },
   {
    "duration": 46,
    "start_time": "2022-07-09T08:14:50.698Z"
   },
   {
    "duration": 17359,
    "start_time": "2022-07-09T08:14:50.746Z"
   },
   {
    "duration": 112,
    "start_time": "2022-07-09T08:15:08.108Z"
   },
   {
    "duration": 52,
    "start_time": "2022-07-09T08:15:08.229Z"
   },
   {
    "duration": 57,
    "start_time": "2022-07-09T08:15:08.284Z"
   },
   {
    "duration": 12,
    "start_time": "2022-07-09T08:15:08.343Z"
   },
   {
    "duration": 13,
    "start_time": "2022-07-09T08:15:08.357Z"
   },
   {
    "duration": 397,
    "start_time": "2022-07-09T08:15:08.372Z"
   },
   {
    "duration": 4,
    "start_time": "2022-07-09T08:15:08.773Z"
   },
   {
    "duration": 45,
    "start_time": "2022-07-09T08:15:08.779Z"
   },
   {
    "duration": 61,
    "start_time": "2022-07-09T08:15:08.832Z"
   },
   {
    "duration": 38,
    "start_time": "2022-07-09T08:15:08.896Z"
   },
   {
    "duration": 14,
    "start_time": "2022-07-09T08:15:08.938Z"
   },
   {
    "duration": 6,
    "start_time": "2022-07-09T08:15:08.954Z"
   },
   {
    "duration": 1559942,
    "start_time": "2022-07-09T08:15:08.962Z"
   },
   {
    "duration": 9,
    "start_time": "2022-07-09T08:41:08.914Z"
   },
   {
    "duration": 53,
    "start_time": "2022-07-09T08:41:08.930Z"
   },
   {
    "duration": 1781,
    "start_time": "2022-07-09T08:41:29.943Z"
   },
   {
    "duration": 1261,
    "start_time": "2022-07-09T08:41:31.726Z"
   },
   {
    "duration": 118,
    "start_time": "2022-07-09T08:41:32.990Z"
   },
   {
    "duration": 511,
    "start_time": "2022-07-09T08:41:33.118Z"
   },
   {
    "duration": 12,
    "start_time": "2022-07-09T08:41:33.631Z"
   },
   {
    "duration": 42,
    "start_time": "2022-07-09T08:41:33.645Z"
   },
   {
    "duration": 561,
    "start_time": "2022-07-09T08:41:33.690Z"
   },
   {
    "duration": 340,
    "start_time": "2022-07-09T08:41:34.253Z"
   },
   {
    "duration": 93,
    "start_time": "2022-07-09T08:41:34.595Z"
   },
   {
    "duration": 100,
    "start_time": "2022-07-09T08:41:34.699Z"
   },
   {
    "duration": 75,
    "start_time": "2022-07-09T08:41:34.803Z"
   },
   {
    "duration": 708,
    "start_time": "2022-07-09T08:41:34.879Z"
   },
   {
    "duration": 88,
    "start_time": "2022-07-09T08:41:35.599Z"
   },
   {
    "duration": 1043,
    "start_time": "2022-07-09T08:41:35.690Z"
   },
   {
    "duration": 95,
    "start_time": "2022-07-09T08:41:36.740Z"
   },
   {
    "duration": 26,
    "start_time": "2022-07-09T08:41:36.837Z"
   },
   {
    "duration": 36,
    "start_time": "2022-07-09T08:41:36.865Z"
   },
   {
    "duration": 113,
    "start_time": "2022-07-09T08:41:36.904Z"
   },
   {
    "duration": 15,
    "start_time": "2022-07-09T08:41:37.025Z"
   },
   {
    "duration": 409,
    "start_time": "2022-07-09T08:41:37.042Z"
   },
   {
    "duration": 3,
    "start_time": "2022-07-09T08:41:37.454Z"
   },
   {
    "duration": 7,
    "start_time": "2022-07-09T08:41:37.459Z"
   },
   {
    "duration": 17670,
    "start_time": "2022-07-09T08:41:37.468Z"
   },
   {
    "duration": 107,
    "start_time": "2022-07-09T08:41:55.140Z"
   },
   {
    "duration": 65,
    "start_time": "2022-07-09T08:41:55.248Z"
   },
   {
    "duration": 55,
    "start_time": "2022-07-09T08:41:55.314Z"
   },
   {
    "duration": 13,
    "start_time": "2022-07-09T08:41:55.371Z"
   },
   {
    "duration": 43,
    "start_time": "2022-07-09T08:41:55.386Z"
   },
   {
    "duration": 364,
    "start_time": "2022-07-09T08:41:55.431Z"
   },
   {
    "duration": 16,
    "start_time": "2022-07-09T08:41:55.797Z"
   },
   {
    "duration": 43,
    "start_time": "2022-07-09T08:41:55.819Z"
   },
   {
    "duration": 44,
    "start_time": "2022-07-09T08:41:55.864Z"
   },
   {
    "duration": 21,
    "start_time": "2022-07-09T08:41:55.911Z"
   },
   {
    "duration": 16,
    "start_time": "2022-07-09T08:41:55.935Z"
   },
   {
    "duration": 9,
    "start_time": "2022-07-09T08:41:55.953Z"
   },
   {
    "duration": 512075,
    "start_time": "2022-07-09T08:41:55.965Z"
   },
   {
    "duration": 3,
    "start_time": "2022-07-09T08:50:28.042Z"
   },
   {
    "duration": 11,
    "start_time": "2022-07-09T08:50:28.047Z"
   },
   {
    "duration": 134372,
    "start_time": "2022-07-09T08:50:28.060Z"
   },
   {
    "duration": 0,
    "start_time": "2022-07-09T08:52:42.435Z"
   },
   {
    "duration": 0,
    "start_time": "2022-07-09T08:52:42.437Z"
   },
   {
    "duration": 0,
    "start_time": "2022-07-09T08:52:42.439Z"
   },
   {
    "duration": 0,
    "start_time": "2022-07-09T08:52:42.440Z"
   },
   {
    "duration": 0,
    "start_time": "2022-07-09T08:52:42.441Z"
   },
   {
    "duration": 0,
    "start_time": "2022-07-09T08:52:42.442Z"
   },
   {
    "duration": 1701,
    "start_time": "2022-07-09T08:52:48.645Z"
   },
   {
    "duration": 1218,
    "start_time": "2022-07-09T08:52:50.348Z"
   },
   {
    "duration": 101,
    "start_time": "2022-07-09T08:52:51.567Z"
   },
   {
    "duration": 464,
    "start_time": "2022-07-09T08:52:51.670Z"
   },
   {
    "duration": 8,
    "start_time": "2022-07-09T08:52:52.136Z"
   },
   {
    "duration": 32,
    "start_time": "2022-07-09T08:52:52.145Z"
   },
   {
    "duration": 549,
    "start_time": "2022-07-09T08:52:52.179Z"
   },
   {
    "duration": 180,
    "start_time": "2022-07-09T08:52:52.730Z"
   },
   {
    "duration": 0,
    "start_time": "2022-07-09T08:52:52.913Z"
   },
   {
    "duration": 0,
    "start_time": "2022-07-09T08:52:52.914Z"
   },
   {
    "duration": 0,
    "start_time": "2022-07-09T08:52:52.915Z"
   },
   {
    "duration": 0,
    "start_time": "2022-07-09T08:52:52.916Z"
   },
   {
    "duration": 0,
    "start_time": "2022-07-09T08:52:52.917Z"
   },
   {
    "duration": 0,
    "start_time": "2022-07-09T08:52:52.918Z"
   },
   {
    "duration": 0,
    "start_time": "2022-07-09T08:52:52.919Z"
   },
   {
    "duration": 0,
    "start_time": "2022-07-09T08:52:52.920Z"
   },
   {
    "duration": 0,
    "start_time": "2022-07-09T08:52:52.921Z"
   },
   {
    "duration": 0,
    "start_time": "2022-07-09T08:52:52.923Z"
   },
   {
    "duration": 0,
    "start_time": "2022-07-09T08:52:52.924Z"
   },
   {
    "duration": 0,
    "start_time": "2022-07-09T08:52:52.926Z"
   },
   {
    "duration": 0,
    "start_time": "2022-07-09T08:52:52.927Z"
   },
   {
    "duration": 0,
    "start_time": "2022-07-09T08:52:52.928Z"
   },
   {
    "duration": 0,
    "start_time": "2022-07-09T08:52:52.929Z"
   },
   {
    "duration": 0,
    "start_time": "2022-07-09T08:52:52.930Z"
   },
   {
    "duration": 0,
    "start_time": "2022-07-09T08:52:52.931Z"
   },
   {
    "duration": 0,
    "start_time": "2022-07-09T08:52:52.933Z"
   },
   {
    "duration": 0,
    "start_time": "2022-07-09T08:52:52.935Z"
   },
   {
    "duration": 0,
    "start_time": "2022-07-09T08:52:52.936Z"
   },
   {
    "duration": 0,
    "start_time": "2022-07-09T08:52:52.938Z"
   },
   {
    "duration": 0,
    "start_time": "2022-07-09T08:52:52.939Z"
   },
   {
    "duration": 0,
    "start_time": "2022-07-09T08:52:52.941Z"
   },
   {
    "duration": 0,
    "start_time": "2022-07-09T08:52:52.942Z"
   },
   {
    "duration": 0,
    "start_time": "2022-07-09T08:52:52.944Z"
   },
   {
    "duration": 0,
    "start_time": "2022-07-09T08:52:52.947Z"
   },
   {
    "duration": 1794,
    "start_time": "2022-07-09T08:52:59.041Z"
   },
   {
    "duration": 1245,
    "start_time": "2022-07-09T08:53:00.837Z"
   },
   {
    "duration": 107,
    "start_time": "2022-07-09T08:53:02.084Z"
   },
   {
    "duration": 473,
    "start_time": "2022-07-09T08:53:02.201Z"
   },
   {
    "duration": 7,
    "start_time": "2022-07-09T08:53:02.676Z"
   },
   {
    "duration": 49,
    "start_time": "2022-07-09T08:53:02.684Z"
   },
   {
    "duration": 531,
    "start_time": "2022-07-09T08:53:02.735Z"
   },
   {
    "duration": 327,
    "start_time": "2022-07-09T08:53:03.268Z"
   },
   {
    "duration": 87,
    "start_time": "2022-07-09T08:53:03.597Z"
   },
   {
    "duration": 107,
    "start_time": "2022-07-09T08:53:03.686Z"
   },
   {
    "duration": 75,
    "start_time": "2022-07-09T08:53:03.795Z"
   },
   {
    "duration": 703,
    "start_time": "2022-07-09T08:53:03.872Z"
   },
   {
    "duration": 100,
    "start_time": "2022-07-09T08:53:04.577Z"
   },
   {
    "duration": 953,
    "start_time": "2022-07-09T08:53:04.680Z"
   },
   {
    "duration": 76,
    "start_time": "2022-07-09T08:53:05.637Z"
   },
   {
    "duration": 24,
    "start_time": "2022-07-09T08:53:05.715Z"
   },
   {
    "duration": 26,
    "start_time": "2022-07-09T08:53:05.741Z"
   },
   {
    "duration": 81,
    "start_time": "2022-07-09T08:53:05.770Z"
   },
   {
    "duration": 13,
    "start_time": "2022-07-09T08:53:05.853Z"
   },
   {
    "duration": 360,
    "start_time": "2022-07-09T08:53:05.867Z"
   },
   {
    "duration": 3,
    "start_time": "2022-07-09T08:53:06.229Z"
   },
   {
    "duration": 8,
    "start_time": "2022-07-09T08:53:06.234Z"
   },
   {
    "duration": 16472,
    "start_time": "2022-07-09T08:53:06.244Z"
   },
   {
    "duration": 107,
    "start_time": "2022-07-09T08:53:22.726Z"
   },
   {
    "duration": 52,
    "start_time": "2022-07-09T08:53:22.835Z"
   },
   {
    "duration": 46,
    "start_time": "2022-07-09T08:53:22.898Z"
   },
   {
    "duration": 14,
    "start_time": "2022-07-09T08:53:22.945Z"
   },
   {
    "duration": 47,
    "start_time": "2022-07-09T08:53:22.961Z"
   },
   {
    "duration": 368,
    "start_time": "2022-07-09T08:53:23.010Z"
   },
   {
    "duration": 3,
    "start_time": "2022-07-09T08:53:23.380Z"
   },
   {
    "duration": 42,
    "start_time": "2022-07-09T08:53:23.384Z"
   },
   {
    "duration": 33,
    "start_time": "2022-07-09T08:53:23.428Z"
   },
   {
    "duration": 8,
    "start_time": "2022-07-09T08:53:23.462Z"
   },
   {
    "duration": 3,
    "start_time": "2022-07-09T08:53:23.471Z"
   },
   {
    "duration": 32,
    "start_time": "2022-07-09T08:53:23.476Z"
   },
   {
    "duration": 16,
    "start_time": "2022-07-09T08:53:23.514Z"
   },
   {
    "duration": 30116,
    "start_time": "2022-07-09T08:53:23.532Z"
   },
   {
    "duration": 3,
    "start_time": "2022-07-09T08:53:53.650Z"
   },
   {
    "duration": 11,
    "start_time": "2022-07-09T08:53:53.655Z"
   },
   {
    "duration": 1784,
    "start_time": "2022-07-09T08:57:05.677Z"
   },
   {
    "duration": 1217,
    "start_time": "2022-07-09T08:57:07.463Z"
   },
   {
    "duration": 101,
    "start_time": "2022-07-09T08:57:08.682Z"
   },
   {
    "duration": 499,
    "start_time": "2022-07-09T08:57:08.784Z"
   },
   {
    "duration": 22,
    "start_time": "2022-07-09T08:57:09.286Z"
   },
   {
    "duration": 32,
    "start_time": "2022-07-09T08:57:09.310Z"
   },
   {
    "duration": 549,
    "start_time": "2022-07-09T08:57:09.344Z"
   },
   {
    "duration": 324,
    "start_time": "2022-07-09T08:57:09.894Z"
   },
   {
    "duration": 83,
    "start_time": "2022-07-09T08:57:10.224Z"
   },
   {
    "duration": 82,
    "start_time": "2022-07-09T08:57:10.314Z"
   },
   {
    "duration": 73,
    "start_time": "2022-07-09T08:57:10.409Z"
   },
   {
    "duration": 664,
    "start_time": "2022-07-09T08:57:10.484Z"
   },
   {
    "duration": 82,
    "start_time": "2022-07-09T08:57:11.150Z"
   },
   {
    "duration": 957,
    "start_time": "2022-07-09T08:57:11.235Z"
   },
   {
    "duration": 84,
    "start_time": "2022-07-09T08:57:12.194Z"
   },
   {
    "duration": 40,
    "start_time": "2022-07-09T08:57:12.280Z"
   },
   {
    "duration": 27,
    "start_time": "2022-07-09T08:57:12.327Z"
   },
   {
    "duration": 86,
    "start_time": "2022-07-09T08:57:12.356Z"
   },
   {
    "duration": 13,
    "start_time": "2022-07-09T08:57:12.445Z"
   },
   {
    "duration": 394,
    "start_time": "2022-07-09T08:57:12.460Z"
   },
   {
    "duration": 3,
    "start_time": "2022-07-09T08:57:12.860Z"
   },
   {
    "duration": 8,
    "start_time": "2022-07-09T08:57:12.864Z"
   },
   {
    "duration": 17059,
    "start_time": "2022-07-09T08:57:12.873Z"
   },
   {
    "duration": 102,
    "start_time": "2022-07-09T08:57:29.939Z"
   },
   {
    "duration": 69,
    "start_time": "2022-07-09T08:57:30.043Z"
   },
   {
    "duration": 48,
    "start_time": "2022-07-09T08:57:30.114Z"
   },
   {
    "duration": 12,
    "start_time": "2022-07-09T08:57:30.164Z"
   },
   {
    "duration": 23,
    "start_time": "2022-07-09T08:57:30.178Z"
   },
   {
    "duration": 412,
    "start_time": "2022-07-09T08:57:30.206Z"
   },
   {
    "duration": 5,
    "start_time": "2022-07-09T08:57:30.625Z"
   },
   {
    "duration": 54,
    "start_time": "2022-07-09T08:57:30.632Z"
   },
   {
    "duration": 44,
    "start_time": "2022-07-09T08:57:30.688Z"
   },
   {
    "duration": 20,
    "start_time": "2022-07-09T08:57:30.740Z"
   },
   {
    "duration": 13,
    "start_time": "2022-07-09T08:57:30.762Z"
   },
   {
    "duration": 8,
    "start_time": "2022-07-09T08:57:30.777Z"
   },
   {
    "duration": 52,
    "start_time": "2022-07-09T08:57:30.787Z"
   },
   {
    "duration": 62230,
    "start_time": "2022-07-09T08:57:30.841Z"
   },
   {
    "duration": 3,
    "start_time": "2022-07-09T08:58:33.073Z"
   },
   {
    "duration": 11,
    "start_time": "2022-07-09T08:58:33.078Z"
   },
   {
    "duration": 2317,
    "start_time": "2022-07-09T11:17:08.579Z"
   },
   {
    "duration": 3973,
    "start_time": "2022-07-09T11:17:10.901Z"
   },
   {
    "duration": 110,
    "start_time": "2022-07-09T11:17:14.876Z"
   },
   {
    "duration": 520,
    "start_time": "2022-07-09T11:17:14.988Z"
   },
   {
    "duration": 11,
    "start_time": "2022-07-09T11:17:17.428Z"
   },
   {
    "duration": 36,
    "start_time": "2022-07-09T11:17:18.539Z"
   },
   {
    "duration": 530,
    "start_time": "2022-07-09T11:17:22.587Z"
   },
   {
    "duration": 364,
    "start_time": "2022-07-09T11:17:24.274Z"
   },
   {
    "duration": 106,
    "start_time": "2022-07-09T11:17:25.029Z"
   },
   {
    "duration": 104,
    "start_time": "2022-07-09T11:17:28.755Z"
   },
   {
    "duration": 83,
    "start_time": "2022-07-09T11:17:29.370Z"
   },
   {
    "duration": 701,
    "start_time": "2022-07-09T11:17:31.227Z"
   },
   {
    "duration": 69,
    "start_time": "2022-07-09T11:17:36.520Z"
   },
   {
    "duration": 1010,
    "start_time": "2022-07-09T11:17:37.642Z"
   },
   {
    "duration": 88,
    "start_time": "2022-07-09T11:17:38.654Z"
   },
   {
    "duration": 14,
    "start_time": "2022-07-09T11:17:47.988Z"
   },
   {
    "duration": 38,
    "start_time": "2022-07-09T11:17:48.389Z"
   },
   {
    "duration": 112,
    "start_time": "2022-07-09T11:17:48.853Z"
   },
   {
    "duration": 13,
    "start_time": "2022-07-09T11:17:49.260Z"
   },
   {
    "duration": 397,
    "start_time": "2022-07-09T11:17:49.726Z"
   },
   {
    "duration": 4,
    "start_time": "2022-07-09T11:17:50.133Z"
   },
   {
    "duration": 5,
    "start_time": "2022-07-09T11:17:50.528Z"
   },
   {
    "duration": 17052,
    "start_time": "2022-07-09T11:17:53.091Z"
   },
   {
    "duration": 161,
    "start_time": "2022-07-09T11:18:21.468Z"
   },
   {
    "duration": 88,
    "start_time": "2022-07-09T11:18:22.797Z"
   },
   {
    "duration": 48,
    "start_time": "2022-07-09T11:18:26.716Z"
   },
   {
    "duration": 18,
    "start_time": "2022-07-09T11:18:30.403Z"
   },
   {
    "duration": 28,
    "start_time": "2022-07-09T11:18:33.628Z"
   },
   {
    "duration": 425,
    "start_time": "2022-07-09T11:18:34.786Z"
   },
   {
    "duration": 3,
    "start_time": "2022-07-09T11:18:35.759Z"
   },
   {
    "duration": 25,
    "start_time": "2022-07-09T11:18:37.948Z"
   },
   {
    "duration": 47,
    "start_time": "2022-07-09T11:18:40.570Z"
   },
   {
    "duration": 9,
    "start_time": "2022-07-09T11:18:41.240Z"
   },
   {
    "duration": 15,
    "start_time": "2022-07-09T11:19:41.313Z"
   },
   {
    "duration": 4,
    "start_time": "2022-07-09T11:19:42.144Z"
   },
   {
    "duration": 8,
    "start_time": "2022-07-09T11:19:47.150Z"
   },
   {
    "duration": 64356,
    "start_time": "2022-07-09T11:19:49.776Z"
   },
   {
    "duration": 3,
    "start_time": "2022-07-09T11:26:40.632Z"
   },
   {
    "duration": 136919,
    "start_time": "2022-07-09T11:26:41.544Z"
   },
   {
    "duration": 4,
    "start_time": "2022-07-09T11:29:19.382Z"
   },
   {
    "duration": 108058,
    "start_time": "2022-07-09T11:29:20.467Z"
   },
   {
    "duration": 1818,
    "start_time": "2022-07-09T11:31:37.179Z"
   },
   {
    "duration": 1511,
    "start_time": "2022-07-09T11:31:39.004Z"
   },
   {
    "duration": 142,
    "start_time": "2022-07-09T11:31:40.517Z"
   },
   {
    "duration": 510,
    "start_time": "2022-07-09T11:31:40.661Z"
   },
   {
    "duration": 7,
    "start_time": "2022-07-09T11:31:41.174Z"
   },
   {
    "duration": 55,
    "start_time": "2022-07-09T11:31:41.183Z"
   },
   {
    "duration": 520,
    "start_time": "2022-07-09T11:31:41.241Z"
   },
   {
    "duration": 318,
    "start_time": "2022-07-09T11:31:41.763Z"
   },
   {
    "duration": 92,
    "start_time": "2022-07-09T11:31:42.083Z"
   },
   {
    "duration": 111,
    "start_time": "2022-07-09T11:31:42.176Z"
   },
   {
    "duration": 83,
    "start_time": "2022-07-09T11:31:42.289Z"
   },
   {
    "duration": 720,
    "start_time": "2022-07-09T11:31:42.374Z"
   },
   {
    "duration": 75,
    "start_time": "2022-07-09T11:31:43.096Z"
   },
   {
    "duration": 996,
    "start_time": "2022-07-09T11:31:43.174Z"
   },
   {
    "duration": 78,
    "start_time": "2022-07-09T11:31:44.172Z"
   },
   {
    "duration": 12,
    "start_time": "2022-07-09T11:31:44.252Z"
   },
   {
    "duration": 65,
    "start_time": "2022-07-09T11:31:44.266Z"
   },
   {
    "duration": 83,
    "start_time": "2022-07-09T11:31:44.333Z"
   },
   {
    "duration": 14,
    "start_time": "2022-07-09T11:31:44.426Z"
   },
   {
    "duration": 379,
    "start_time": "2022-07-09T11:31:44.442Z"
   },
   {
    "duration": 3,
    "start_time": "2022-07-09T11:31:44.826Z"
   },
   {
    "duration": 8,
    "start_time": "2022-07-09T11:31:44.833Z"
   },
   {
    "duration": 15640,
    "start_time": "2022-07-09T11:31:44.843Z"
   },
   {
    "duration": 119,
    "start_time": "2022-07-09T11:32:00.485Z"
   },
   {
    "duration": 56,
    "start_time": "2022-07-09T11:32:00.609Z"
   },
   {
    "duration": 50,
    "start_time": "2022-07-09T11:32:00.667Z"
   },
   {
    "duration": 12,
    "start_time": "2022-07-09T11:32:00.725Z"
   },
   {
    "duration": 14,
    "start_time": "2022-07-09T11:32:00.739Z"
   },
   {
    "duration": 370,
    "start_time": "2022-07-09T11:32:00.754Z"
   },
   {
    "duration": 3,
    "start_time": "2022-07-09T11:32:01.126Z"
   },
   {
    "duration": 33,
    "start_time": "2022-07-09T11:32:01.131Z"
   },
   {
    "duration": 44,
    "start_time": "2022-07-09T11:32:01.166Z"
   },
   {
    "duration": 13,
    "start_time": "2022-07-09T11:32:01.216Z"
   },
   {
    "duration": 2,
    "start_time": "2022-07-09T11:32:01.232Z"
   },
   {
    "duration": 14,
    "start_time": "2022-07-09T11:32:01.236Z"
   },
   {
    "duration": 6,
    "start_time": "2022-07-09T11:32:01.252Z"
   },
   {
    "duration": 175536,
    "start_time": "2022-07-09T11:32:05.983Z"
   },
   {
    "duration": 3,
    "start_time": "2022-07-09T11:36:35.589Z"
   },
   {
    "duration": 3,
    "start_time": "2022-07-09T11:36:37.372Z"
   },
   {
    "duration": 393998,
    "start_time": "2022-07-09T11:36:41.124Z"
   },
   {
    "duration": 0,
    "start_time": "2022-07-09T11:43:15.124Z"
   },
   {
    "duration": 1748,
    "start_time": "2022-07-09T11:43:33.899Z"
   },
   {
    "duration": 1253,
    "start_time": "2022-07-09T11:43:35.650Z"
   },
   {
    "duration": 137,
    "start_time": "2022-07-09T11:43:36.905Z"
   },
   {
    "duration": 483,
    "start_time": "2022-07-09T11:43:37.044Z"
   },
   {
    "duration": 7,
    "start_time": "2022-07-09T11:43:37.529Z"
   },
   {
    "duration": 33,
    "start_time": "2022-07-09T11:43:37.538Z"
   },
   {
    "duration": 539,
    "start_time": "2022-07-09T11:43:37.573Z"
   },
   {
    "duration": 299,
    "start_time": "2022-07-09T11:43:38.114Z"
   },
   {
    "duration": 97,
    "start_time": "2022-07-09T11:43:38.415Z"
   },
   {
    "duration": 94,
    "start_time": "2022-07-09T11:43:38.514Z"
   },
   {
    "duration": 72,
    "start_time": "2022-07-09T11:43:38.614Z"
   },
   {
    "duration": 700,
    "start_time": "2022-07-09T11:43:38.688Z"
   },
   {
    "duration": 76,
    "start_time": "2022-07-09T11:43:39.390Z"
   },
   {
    "duration": 921,
    "start_time": "2022-07-09T11:43:39.469Z"
   },
   {
    "duration": 72,
    "start_time": "2022-07-09T11:43:40.392Z"
   },
   {
    "duration": 12,
    "start_time": "2022-07-09T11:43:40.466Z"
   },
   {
    "duration": 37,
    "start_time": "2022-07-09T11:43:40.480Z"
   },
   {
    "duration": 91,
    "start_time": "2022-07-09T11:43:40.519Z"
   },
   {
    "duration": 12,
    "start_time": "2022-07-09T11:43:40.612Z"
   },
   {
    "duration": 352,
    "start_time": "2022-07-09T11:43:40.626Z"
   },
   {
    "duration": 3,
    "start_time": "2022-07-09T11:43:40.980Z"
   },
   {
    "duration": 20,
    "start_time": "2022-07-09T11:43:40.986Z"
   },
   {
    "duration": 16012,
    "start_time": "2022-07-09T11:43:41.007Z"
   },
   {
    "duration": 119,
    "start_time": "2022-07-09T11:43:57.022Z"
   },
   {
    "duration": 65,
    "start_time": "2022-07-09T11:43:57.143Z"
   },
   {
    "duration": 41,
    "start_time": "2022-07-09T11:43:57.212Z"
   },
   {
    "duration": 13,
    "start_time": "2022-07-09T11:43:57.255Z"
   },
   {
    "duration": 15,
    "start_time": "2022-07-09T11:43:57.270Z"
   },
   {
    "duration": 357,
    "start_time": "2022-07-09T11:43:57.298Z"
   },
   {
    "duration": 4,
    "start_time": "2022-07-09T11:43:57.656Z"
   },
   {
    "duration": 38,
    "start_time": "2022-07-09T11:43:57.661Z"
   },
   {
    "duration": 40,
    "start_time": "2022-07-09T11:43:57.701Z"
   },
   {
    "duration": 8,
    "start_time": "2022-07-09T11:43:57.743Z"
   },
   {
    "duration": 3,
    "start_time": "2022-07-09T11:43:57.753Z"
   },
   {
    "duration": 7,
    "start_time": "2022-07-09T11:43:57.758Z"
   },
   {
    "duration": 7,
    "start_time": "2022-07-09T11:43:57.768Z"
   },
   {
    "duration": 1571,
    "start_time": "2022-07-09T12:18:59.452Z"
   },
   {
    "duration": 1109,
    "start_time": "2022-07-09T12:19:01.025Z"
   },
   {
    "duration": 86,
    "start_time": "2022-07-09T12:19:02.136Z"
   },
   {
    "duration": 414,
    "start_time": "2022-07-09T12:19:02.224Z"
   },
   {
    "duration": 7,
    "start_time": "2022-07-09T12:19:02.640Z"
   },
   {
    "duration": 32,
    "start_time": "2022-07-09T12:19:02.649Z"
   },
   {
    "duration": 502,
    "start_time": "2022-07-09T12:19:02.698Z"
   },
   {
    "duration": 297,
    "start_time": "2022-07-09T12:19:03.202Z"
   },
   {
    "duration": 77,
    "start_time": "2022-07-09T12:19:03.501Z"
   },
   {
    "duration": 108,
    "start_time": "2022-07-09T12:19:03.580Z"
   },
   {
    "duration": 69,
    "start_time": "2022-07-09T12:19:03.698Z"
   },
   {
    "duration": 682,
    "start_time": "2022-07-09T12:19:03.769Z"
   },
   {
    "duration": 75,
    "start_time": "2022-07-09T12:19:04.453Z"
   },
   {
    "duration": 1069,
    "start_time": "2022-07-09T12:19:04.531Z"
   },
   {
    "duration": 208,
    "start_time": "2022-07-09T12:19:05.603Z"
   },
   {
    "duration": 14,
    "start_time": "2022-07-09T12:19:05.813Z"
   },
   {
    "duration": 25,
    "start_time": "2022-07-09T12:19:05.829Z"
   },
   {
    "duration": 178,
    "start_time": "2022-07-09T12:19:05.856Z"
   },
   {
    "duration": 12,
    "start_time": "2022-07-09T12:19:06.036Z"
   },
   {
    "duration": 340,
    "start_time": "2022-07-09T12:19:06.050Z"
   },
   {
    "duration": 6,
    "start_time": "2022-07-09T12:19:06.392Z"
   },
   {
    "duration": 4,
    "start_time": "2022-07-09T12:19:06.400Z"
   },
   {
    "duration": 15322,
    "start_time": "2022-07-09T12:19:06.406Z"
   },
   {
    "duration": 106,
    "start_time": "2022-07-09T12:19:21.730Z"
   },
   {
    "duration": 60,
    "start_time": "2022-07-09T12:19:21.838Z"
   },
   {
    "duration": 40,
    "start_time": "2022-07-09T12:19:21.900Z"
   },
   {
    "duration": 13,
    "start_time": "2022-07-09T12:19:21.942Z"
   },
   {
    "duration": 42,
    "start_time": "2022-07-09T12:19:21.957Z"
   },
   {
    "duration": 322,
    "start_time": "2022-07-09T12:19:22.001Z"
   },
   {
    "duration": 3,
    "start_time": "2022-07-09T12:19:22.325Z"
   },
   {
    "duration": 30,
    "start_time": "2022-07-09T12:19:22.330Z"
   },
   {
    "duration": 47,
    "start_time": "2022-07-09T12:19:22.362Z"
   },
   {
    "duration": 7,
    "start_time": "2022-07-09T12:19:22.411Z"
   },
   {
    "duration": 6,
    "start_time": "2022-07-09T12:19:22.420Z"
   },
   {
    "duration": 11,
    "start_time": "2022-07-09T12:19:22.427Z"
   },
   {
    "duration": 6,
    "start_time": "2022-07-09T12:19:22.439Z"
   },
   {
    "duration": 206529,
    "start_time": "2022-07-09T12:19:27.788Z"
   },
   {
    "duration": 1853,
    "start_time": "2022-07-09T12:41:42.609Z"
   },
   {
    "duration": 1249,
    "start_time": "2022-07-09T12:41:44.467Z"
   },
   {
    "duration": 94,
    "start_time": "2022-07-09T12:41:45.719Z"
   },
   {
    "duration": 501,
    "start_time": "2022-07-09T12:41:45.815Z"
   },
   {
    "duration": 9,
    "start_time": "2022-07-09T12:41:46.319Z"
   },
   {
    "duration": 42,
    "start_time": "2022-07-09T12:41:46.330Z"
   },
   {
    "duration": 616,
    "start_time": "2022-07-09T12:41:46.374Z"
   },
   {
    "duration": 489,
    "start_time": "2022-07-09T12:41:46.993Z"
   },
   {
    "duration": 147,
    "start_time": "2022-07-09T12:41:47.485Z"
   },
   {
    "duration": 92,
    "start_time": "2022-07-09T12:41:47.634Z"
   },
   {
    "duration": 100,
    "start_time": "2022-07-09T12:41:47.728Z"
   },
   {
    "duration": 840,
    "start_time": "2022-07-09T12:41:47.831Z"
   },
   {
    "duration": 100,
    "start_time": "2022-07-09T12:41:48.673Z"
   },
   {
    "duration": 1109,
    "start_time": "2022-07-09T12:41:48.778Z"
   },
   {
    "duration": 125,
    "start_time": "2022-07-09T12:41:49.889Z"
   },
   {
    "duration": 20,
    "start_time": "2022-07-09T12:41:50.022Z"
   },
   {
    "duration": 32,
    "start_time": "2022-07-09T12:41:50.045Z"
   },
   {
    "duration": 136,
    "start_time": "2022-07-09T12:41:50.080Z"
   },
   {
    "duration": 20,
    "start_time": "2022-07-09T12:41:50.219Z"
   },
   {
    "duration": 496,
    "start_time": "2022-07-09T12:41:50.242Z"
   },
   {
    "duration": 3,
    "start_time": "2022-07-09T12:41:50.740Z"
   },
   {
    "duration": 18,
    "start_time": "2022-07-09T12:41:50.745Z"
   },
   {
    "duration": 17451,
    "start_time": "2022-07-09T12:41:50.766Z"
   },
   {
    "duration": 101,
    "start_time": "2022-07-09T12:42:08.220Z"
   },
   {
    "duration": 49,
    "start_time": "2022-07-09T12:42:08.323Z"
   },
   {
    "duration": 62,
    "start_time": "2022-07-09T12:42:08.374Z"
   },
   {
    "duration": 15,
    "start_time": "2022-07-09T12:42:08.438Z"
   },
   {
    "duration": 19,
    "start_time": "2022-07-09T12:42:08.455Z"
   },
   {
    "duration": 397,
    "start_time": "2022-07-09T12:42:08.476Z"
   },
   {
    "duration": 5,
    "start_time": "2022-07-09T12:42:08.875Z"
   },
   {
    "duration": 45,
    "start_time": "2022-07-09T12:42:08.883Z"
   },
   {
    "duration": 1807,
    "start_time": "2022-07-09T12:42:25.761Z"
   },
   {
    "duration": 1223,
    "start_time": "2022-07-09T12:42:27.571Z"
   },
   {
    "duration": 114,
    "start_time": "2022-07-09T12:42:28.795Z"
   },
   {
    "duration": 474,
    "start_time": "2022-07-09T12:42:28.912Z"
   },
   {
    "duration": 28,
    "start_time": "2022-07-09T12:42:29.388Z"
   },
   {
    "duration": 34,
    "start_time": "2022-07-09T12:42:29.418Z"
   },
   {
    "duration": 518,
    "start_time": "2022-07-09T12:42:29.454Z"
   },
   {
    "duration": 332,
    "start_time": "2022-07-09T12:42:29.974Z"
   },
   {
    "duration": 93,
    "start_time": "2022-07-09T12:42:30.315Z"
   },
   {
    "duration": 123,
    "start_time": "2022-07-09T12:42:30.420Z"
   },
   {
    "duration": 85,
    "start_time": "2022-07-09T12:42:30.546Z"
   },
   {
    "duration": 741,
    "start_time": "2022-07-09T12:42:30.634Z"
   },
   {
    "duration": 80,
    "start_time": "2022-07-09T12:42:31.376Z"
   },
   {
    "duration": 936,
    "start_time": "2022-07-09T12:42:31.458Z"
   },
   {
    "duration": 71,
    "start_time": "2022-07-09T12:42:32.396Z"
   },
   {
    "duration": 15,
    "start_time": "2022-07-09T12:42:32.469Z"
   },
   {
    "duration": 29,
    "start_time": "2022-07-09T12:42:32.505Z"
   },
   {
    "duration": 91,
    "start_time": "2022-07-09T12:42:32.536Z"
   },
   {
    "duration": 13,
    "start_time": "2022-07-09T12:42:32.629Z"
   },
   {
    "duration": 382,
    "start_time": "2022-07-09T12:42:32.644Z"
   },
   {
    "duration": 3,
    "start_time": "2022-07-09T12:42:33.027Z"
   },
   {
    "duration": 6,
    "start_time": "2022-07-09T12:42:33.032Z"
   },
   {
    "duration": 16907,
    "start_time": "2022-07-09T12:42:33.039Z"
   },
   {
    "duration": 158,
    "start_time": "2022-07-09T12:42:49.948Z"
   },
   {
    "duration": 81,
    "start_time": "2022-07-09T12:42:50.112Z"
   },
   {
    "duration": 44,
    "start_time": "2022-07-09T12:42:50.195Z"
   },
   {
    "duration": 12,
    "start_time": "2022-07-09T12:42:50.241Z"
   },
   {
    "duration": 15,
    "start_time": "2022-07-09T12:42:50.256Z"
   },
   {
    "duration": 385,
    "start_time": "2022-07-09T12:42:50.273Z"
   },
   {
    "duration": 4,
    "start_time": "2022-07-09T12:42:50.661Z"
   },
   {
    "duration": 49,
    "start_time": "2022-07-09T12:42:50.667Z"
   },
   {
    "duration": 2,
    "start_time": "2022-07-09T12:44:30.966Z"
   },
   {
    "duration": 1763,
    "start_time": "2022-07-09T12:44:43.562Z"
   },
   {
    "duration": 1201,
    "start_time": "2022-07-09T12:44:45.327Z"
   },
   {
    "duration": 107,
    "start_time": "2022-07-09T12:44:46.530Z"
   },
   {
    "duration": 530,
    "start_time": "2022-07-09T12:44:46.639Z"
   },
   {
    "duration": 8,
    "start_time": "2022-07-09T12:44:47.171Z"
   },
   {
    "duration": 52,
    "start_time": "2022-07-09T12:44:47.181Z"
   },
   {
    "duration": 533,
    "start_time": "2022-07-09T12:44:47.235Z"
   },
   {
    "duration": 318,
    "start_time": "2022-07-09T12:44:47.770Z"
   },
   {
    "duration": 84,
    "start_time": "2022-07-09T12:44:48.090Z"
   },
   {
    "duration": 101,
    "start_time": "2022-07-09T12:44:48.177Z"
   },
   {
    "duration": 83,
    "start_time": "2022-07-09T12:44:48.280Z"
   },
   {
    "duration": 695,
    "start_time": "2022-07-09T12:44:48.365Z"
   },
   {
    "duration": 82,
    "start_time": "2022-07-09T12:44:49.062Z"
   },
   {
    "duration": 927,
    "start_time": "2022-07-09T12:44:49.148Z"
   },
   {
    "duration": 73,
    "start_time": "2022-07-09T12:44:50.077Z"
   },
   {
    "duration": 13,
    "start_time": "2022-07-09T12:44:50.153Z"
   },
   {
    "duration": 53,
    "start_time": "2022-07-09T12:44:50.167Z"
   },
   {
    "duration": 68,
    "start_time": "2022-07-09T12:44:50.222Z"
   },
   {
    "duration": 23,
    "start_time": "2022-07-09T12:44:50.298Z"
   },
   {
    "duration": 339,
    "start_time": "2022-07-09T12:44:50.323Z"
   },
   {
    "duration": 3,
    "start_time": "2022-07-09T12:44:50.663Z"
   },
   {
    "duration": 11,
    "start_time": "2022-07-09T12:44:50.669Z"
   },
   {
    "duration": 16278,
    "start_time": "2022-07-09T12:44:50.682Z"
   },
   {
    "duration": 148,
    "start_time": "2022-07-09T12:45:06.962Z"
   },
   {
    "duration": 62,
    "start_time": "2022-07-09T12:45:07.112Z"
   },
   {
    "duration": 59,
    "start_time": "2022-07-09T12:45:07.176Z"
   },
   {
    "duration": 12,
    "start_time": "2022-07-09T12:45:07.237Z"
   },
   {
    "duration": 18,
    "start_time": "2022-07-09T12:45:07.251Z"
   },
   {
    "duration": 392,
    "start_time": "2022-07-09T12:45:07.271Z"
   },
   {
    "duration": 3,
    "start_time": "2022-07-09T12:45:07.665Z"
   },
   {
    "duration": 49,
    "start_time": "2022-07-09T12:45:07.670Z"
   },
   {
    "duration": 40,
    "start_time": "2022-07-09T12:45:07.723Z"
   },
   {
    "duration": 9,
    "start_time": "2022-07-09T12:45:07.765Z"
   },
   {
    "duration": 7,
    "start_time": "2022-07-09T12:45:07.776Z"
   },
   {
    "duration": 3,
    "start_time": "2022-07-09T12:45:07.801Z"
   },
   {
    "duration": 15,
    "start_time": "2022-07-09T12:45:07.806Z"
   },
   {
    "duration": 1684,
    "start_time": "2022-07-09T12:46:41.440Z"
   },
   {
    "duration": 1167,
    "start_time": "2022-07-09T12:46:43.126Z"
   },
   {
    "duration": 106,
    "start_time": "2022-07-09T12:46:44.295Z"
   },
   {
    "duration": 479,
    "start_time": "2022-07-09T12:46:44.405Z"
   },
   {
    "duration": 18,
    "start_time": "2022-07-09T12:46:44.887Z"
   },
   {
    "duration": 35,
    "start_time": "2022-07-09T12:46:44.907Z"
   },
   {
    "duration": 531,
    "start_time": "2022-07-09T12:46:44.944Z"
   },
   {
    "duration": 307,
    "start_time": "2022-07-09T12:46:45.477Z"
   },
   {
    "duration": 84,
    "start_time": "2022-07-09T12:46:45.786Z"
   },
   {
    "duration": 98,
    "start_time": "2022-07-09T12:46:45.871Z"
   },
   {
    "duration": 80,
    "start_time": "2022-07-09T12:46:45.971Z"
   },
   {
    "duration": 692,
    "start_time": "2022-07-09T12:46:46.053Z"
   },
   {
    "duration": 88,
    "start_time": "2022-07-09T12:46:46.747Z"
   },
   {
    "duration": 940,
    "start_time": "2022-07-09T12:46:46.840Z"
   },
   {
    "duration": 73,
    "start_time": "2022-07-09T12:46:47.783Z"
   },
   {
    "duration": 13,
    "start_time": "2022-07-09T12:46:47.859Z"
   },
   {
    "duration": 45,
    "start_time": "2022-07-09T12:46:47.874Z"
   },
   {
    "duration": 100,
    "start_time": "2022-07-09T12:46:47.922Z"
   },
   {
    "duration": 12,
    "start_time": "2022-07-09T12:46:48.024Z"
   },
   {
    "duration": 380,
    "start_time": "2022-07-09T12:46:48.038Z"
   },
   {
    "duration": 4,
    "start_time": "2022-07-09T12:46:48.419Z"
   },
   {
    "duration": 18,
    "start_time": "2022-07-09T12:46:48.425Z"
   },
   {
    "duration": 15724,
    "start_time": "2022-07-09T12:46:48.445Z"
   },
   {
    "duration": 115,
    "start_time": "2022-07-09T12:47:04.171Z"
   },
   {
    "duration": 62,
    "start_time": "2022-07-09T12:47:04.288Z"
   },
   {
    "duration": 63,
    "start_time": "2022-07-09T12:47:04.352Z"
   },
   {
    "duration": 12,
    "start_time": "2022-07-09T12:47:04.417Z"
   },
   {
    "duration": 14,
    "start_time": "2022-07-09T12:47:04.431Z"
   },
   {
    "duration": 379,
    "start_time": "2022-07-09T12:47:04.447Z"
   },
   {
    "duration": 3,
    "start_time": "2022-07-09T12:47:04.828Z"
   },
   {
    "duration": 31,
    "start_time": "2022-07-09T12:47:04.832Z"
   },
   {
    "duration": 58,
    "start_time": "2022-07-09T12:47:04.865Z"
   },
   {
    "duration": 8,
    "start_time": "2022-07-09T12:47:04.925Z"
   },
   {
    "duration": 3,
    "start_time": "2022-07-09T12:47:04.935Z"
   },
   {
    "duration": 8,
    "start_time": "2022-07-09T12:47:04.940Z"
   },
   {
    "duration": 5,
    "start_time": "2022-07-09T12:47:04.950Z"
   },
   {
    "duration": 57858,
    "start_time": "2022-07-09T12:47:04.956Z"
   },
   {
    "duration": 2,
    "start_time": "2022-07-09T12:48:51.059Z"
   },
   {
    "duration": 4,
    "start_time": "2022-07-09T12:48:51.415Z"
   },
   {
    "duration": 3,
    "start_time": "2022-07-09T12:48:51.814Z"
   },
   {
    "duration": 3,
    "start_time": "2022-07-09T12:48:52.298Z"
   },
   {
    "duration": 79,
    "start_time": "2022-07-09T12:48:56.741Z"
   },
   {
    "duration": 24,
    "start_time": "2022-07-09T12:48:57.792Z"
   },
   {
    "duration": 325191,
    "start_time": "2022-07-09T12:48:58.842Z"
   },
   {
    "duration": 5,
    "start_time": "2022-07-09T12:54:24.036Z"
   },
   {
    "duration": 51893,
    "start_time": "2022-07-09T12:54:24.043Z"
   }
  ],
  "colab": {
   "collapsed_sections": [],
   "name": "1d1fd3e2-6000-4ebf-817c-61710d58ea16 (1).ipynb",
   "provenance": []
  },
  "kernelspec": {
   "display_name": "Python 3 (ipykernel)",
   "language": "python",
   "name": "python3"
  },
  "language_info": {
   "codemirror_mode": {
    "name": "ipython",
    "version": 3
   },
   "file_extension": ".py",
   "mimetype": "text/x-python",
   "name": "python",
   "nbconvert_exporter": "python",
   "pygments_lexer": "ipython3",
   "version": "3.9.5"
  },
  "toc": {
   "base_numbering": 1,
   "nav_menu": {
    "height": "241px",
    "width": "231px"
   },
   "number_sections": true,
   "sideBar": true,
   "skip_h1_title": true,
   "title_cell": "Table of Contents",
   "title_sidebar": "Contents",
   "toc_cell": false,
   "toc_position": {},
   "toc_section_display": true,
   "toc_window_display": false
  }
 },
 "nbformat": 4,
 "nbformat_minor": 1
}
