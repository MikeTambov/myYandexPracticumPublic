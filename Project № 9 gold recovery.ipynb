{
 "cells": [
  {
   "cell_type": "markdown",
   "id": "1f4f79d6",
   "metadata": {
    "toc": true
   },
   "source": [
    "<h1>Table of Contents<span class=\"tocSkip\"></span></h1>\n",
    "<div class=\"toc\"><ul class=\"toc-item\"><li><span><a href=\"#Загрузка-и-предварительный-обзор-данных\" data-toc-modified-id=\"Загрузка-и-предварительный-обзор-данных-1\"><span class=\"toc-item-num\">1&nbsp;&nbsp;</span>Загрузка и предварительный обзор данных</a></span></li><li><span><a href=\"#Предобработка-данных\" data-toc-modified-id=\"Предобработка-данных-2\"><span class=\"toc-item-num\">2&nbsp;&nbsp;</span>Предобработка данных</a></span><ul class=\"toc-item\"><li><span><a href=\"#Расчет-rougher.output.recovery-по-данным-обучающей-выборки\" data-toc-modified-id=\"Расчет-rougher.output.recovery-по-данным-обучающей-выборки-2.1\"><span class=\"toc-item-num\">2.1&nbsp;&nbsp;</span>Расчет rougher.output.recovery по данным обучающей выборки</a></span></li><li><span><a href=\"#Обзор-состава-данных-обучающей-выборки\" data-toc-modified-id=\"Обзор-состава-данных-обучающей-выборки-2.2\"><span class=\"toc-item-num\">2.2&nbsp;&nbsp;</span>Обзор состава данных обучающей выборки</a></span></li><li><span><a href=\"#Предобработка-данных\" data-toc-modified-id=\"Предобработка-данных-2.3\"><span class=\"toc-item-num\">2.3&nbsp;&nbsp;</span>Предобработка данных</a></span><ul class=\"toc-item\"><li><span><a href=\"#Обработка-пропусков\" data-toc-modified-id=\"Обработка-пропусков-2.3.1\"><span class=\"toc-item-num\">2.3.1&nbsp;&nbsp;</span>Обработка пропусков</a></span></li><li><span><a href=\"#Проверка-на-дупликаты\" data-toc-modified-id=\"Проверка-на-дупликаты-2.3.2\"><span class=\"toc-item-num\">2.3.2&nbsp;&nbsp;</span>Проверка на дупликаты</a></span></li></ul></li></ul></li><li><span><a href=\"#Анализ-данных\" data-toc-modified-id=\"Анализ-данных-3\"><span class=\"toc-item-num\">3&nbsp;&nbsp;</span>Анализ данных</a></span><ul class=\"toc-item\"><li><span><a href=\"#Анализ-изменения-концентраций-металлов-на-разных-стадиях-технологического-процесса\" data-toc-modified-id=\"Анализ-изменения-концентраций-металлов-на-разных-стадиях-технологического-процесса-3.1\"><span class=\"toc-item-num\">3.1&nbsp;&nbsp;</span>Анализ изменения концентраций металлов на разных стадиях технологического процесса</a></span><ul class=\"toc-item\"><li><span><a href=\"#Проверка-наличия-выбросов\" data-toc-modified-id=\"Проверка-наличия-выбросов-3.1.1\"><span class=\"toc-item-num\">3.1.1&nbsp;&nbsp;</span>Проверка наличия выбросов</a></span></li><li><span><a href=\"#Медианные-концентрации-металлов-и-растворителя-по-стадиям\" data-toc-modified-id=\"Медианные-концентрации-металлов-и-растворителя-по-стадиям-3.1.2\"><span class=\"toc-item-num\">3.1.2&nbsp;&nbsp;</span>Медианные концентрации металлов и растворителя по стадиям</a></span></li></ul></li><li><span><a href=\"#Анализ-распределения-размеров-гранул-сырья-в-обучающей-и-тестовой-выборках\" data-toc-modified-id=\"Анализ-распределения-размеров-гранул-сырья-в-обучающей-и-тестовой-выборках-3.2\"><span class=\"toc-item-num\">3.2&nbsp;&nbsp;</span>Анализ распределения размеров гранул сырья в обучающей и тестовой выборках</a></span></li><li><span><a href=\"#Анализ-сумарной-концентрации-всех-веществ-на-разных-стадиях-в-сырье,-в-черновом-и-финальном-концентратах.\" data-toc-modified-id=\"Анализ-сумарной-концентрации-всех-веществ-на-разных-стадиях-в-сырье,-в-черновом-и-финальном-концентратах.-3.3\"><span class=\"toc-item-num\">3.3&nbsp;&nbsp;</span>Анализ сумарной концентрации всех веществ на разных стадиях в сырье, в черновом и финальном концентратах.</a></span><ul class=\"toc-item\"><li><span><a href=\"#Удаление-аномальных-значений\" data-toc-modified-id=\"Удаление-аномальных-значений-3.3.1\"><span class=\"toc-item-num\">3.3.1&nbsp;&nbsp;</span>Удаление аномальных значений</a></span></li></ul></li></ul></li><li><span><a href=\"#Разработка-модели-процесса-обогащения-золотосодержащего-сырья\" data-toc-modified-id=\"Разработка-модели-процесса-обогащения-золотосодержащего-сырья-4\"><span class=\"toc-item-num\">4&nbsp;&nbsp;</span>Разработка модели процесса обогащения золотосодержащего сырья</a></span><ul class=\"toc-item\"><li><span><a href=\"#Подготовка-выборок-целевых-признаков\" data-toc-modified-id=\"Подготовка-выборок-целевых-признаков-4.1\"><span class=\"toc-item-num\">4.1&nbsp;&nbsp;</span>Подготовка выборок целевых признаков</a></span></li><li><span><a href=\"#Масштабирование-признаков\" data-toc-modified-id=\"Масштабирование-признаков-4.2\"><span class=\"toc-item-num\">4.2&nbsp;&nbsp;</span>Масштабирование признаков</a></span></li><li><span><a href=\"#Подготовка-выборок-признаков\" data-toc-modified-id=\"Подготовка-выборок-признаков-4.3\"><span class=\"toc-item-num\">4.3&nbsp;&nbsp;</span>Подготовка выборок признаков</a></span></li><li><span><a href=\"#Функции-метрики\" data-toc-modified-id=\"Функции-метрики-4.4\"><span class=\"toc-item-num\">4.4&nbsp;&nbsp;</span>Функции метрики</a></span></li><li><span><a href=\"#Модели-регрессии-для-обучающей-выборки\" data-toc-modified-id=\"Модели-регрессии-для-обучающей-выборки-4.5\"><span class=\"toc-item-num\">4.5&nbsp;&nbsp;</span>Модели регрессии для обучающей выборки</a></span><ul class=\"toc-item\"><li><span><a href=\"#Линейная-регрессия-LinearRegressor\" data-toc-modified-id=\"Линейная-регрессия-LinearRegressor-4.5.1\"><span class=\"toc-item-num\">4.5.1&nbsp;&nbsp;</span>Линейная регрессия LinearRegressor</a></span></li><li><span><a href=\"#RandomForestRegressor\" data-toc-modified-id=\"RandomForestRegressor-4.5.2\"><span class=\"toc-item-num\">4.5.2&nbsp;&nbsp;</span>RandomForestRegressor</a></span></li><li><span><a href=\"#Ridge\" data-toc-modified-id=\"Ridge-4.5.3\"><span class=\"toc-item-num\">4.5.3&nbsp;&nbsp;</span>Ridge</a></span></li><li><span><a href=\"#Lasso\" data-toc-modified-id=\"Lasso-4.5.4\"><span class=\"toc-item-num\">4.5.4&nbsp;&nbsp;</span>Lasso</a></span></li><li><span><a href=\"#GradientBoostingRegressor\" data-toc-modified-id=\"GradientBoostingRegressor-4.5.5\"><span class=\"toc-item-num\">4.5.5&nbsp;&nbsp;</span>GradientBoostingRegressor</a></span></li><li><span><a href=\"#ElasticNet\" data-toc-modified-id=\"ElasticNet-4.5.6\"><span class=\"toc-item-num\">4.5.6&nbsp;&nbsp;</span>ElasticNet</a></span></li><li><span><a href=\"#SGDRegressor\" data-toc-modified-id=\"SGDRegressor-4.5.7\"><span class=\"toc-item-num\">4.5.7&nbsp;&nbsp;</span>SGDRegressor</a></span></li><li><span><a href=\"#SVR\" data-toc-modified-id=\"SVR-4.5.8\"><span class=\"toc-item-num\">4.5.8&nbsp;&nbsp;</span>SVR</a></span></li><li><span><a href=\"#NuSVR\" data-toc-modified-id=\"NuSVR-4.5.9\"><span class=\"toc-item-num\">4.5.9&nbsp;&nbsp;</span>NuSVR</a></span></li></ul></li></ul></li><li><span><a href=\"#Применение-лучшей-моделей-регрессии-на-тестовых-выборках\" data-toc-modified-id=\"Применение-лучшей-моделей-регрессии-на-тестовых-выборках-5\"><span class=\"toc-item-num\">5&nbsp;&nbsp;</span>Применение лучшей моделей регрессии на тестовых выборках</a></span><ul class=\"toc-item\"><li><span><a href=\"#Расчет-метрик-качества-модели-прогнозирования-обогащения-после-флотации-и-после-процесса-вцелом\" data-toc-modified-id=\"Расчет-метрик-качества-модели-прогнозирования-обогащения-после-флотации-и-после-процесса-вцелом-5.1\"><span class=\"toc-item-num\">5.1&nbsp;&nbsp;</span>Расчет метрик качества модели прогнозирования обогащения после флотации и после процесса вцелом</a></span></li><li><span><a href=\"#Расчет-итоговой-метрики-качества-обогащения-для-всего-процесса\" data-toc-modified-id=\"Расчет-итоговой-метрики-качества-обогащения-для-всего-процесса-5.2\"><span class=\"toc-item-num\">5.2&nbsp;&nbsp;</span>Расчет итоговой метрики качества обогащения для всего процесса</a></span></li><li><span><a href=\"#Сравнение-результатов-выбранной-модели-с-константной\" data-toc-modified-id=\"Сравнение-результатов-выбранной-модели-с-константной-5.3\"><span class=\"toc-item-num\">5.3&nbsp;&nbsp;</span>Сравнение результатов выбранной модели с константной</a></span></li></ul></li><li><span><a href=\"#Общий-вывод-по-проекту\" data-toc-modified-id=\"Общий-вывод-по-проекту-6\"><span class=\"toc-item-num\">6&nbsp;&nbsp;</span>Общий вывод по проекту</a></span></li><li><span><a href=\"#Разное\" data-toc-modified-id=\"Разное-7\"><span class=\"toc-item-num\">7&nbsp;&nbsp;</span>Разное</a></span></li></ul></div>"
   ]
  },
  {
   "cell_type": "markdown",
   "id": "6f85a099-0c11-4887-97e3-43982390c893",
   "metadata": {},
   "source": [
    "# Проект <b>\"Разработка модели прогнозирования степени обогащения золотосодержащего руды\".</b>"
   ]
  },
  {
   "cell_type": "markdown",
   "id": "ba02fd83-dcc2-4b23-a1e7-793a0f68b47a",
   "metadata": {},
   "source": [
    "**<i>Цель: Разработать модель прогнозирования степени обогащения золотосодержащего рудыя. </i>**\n",
    "\n",
    "**Задачей проекта является:**\n",
    "1. Выбрать модель регрессии обеспечивающей наилучшее качество предсказания.\n",
    "\n",
    "**Объектом исследования является датасеты со статистикой технологических параметров процесса обогащения золотосодержащей руды.** "
   ]
  },
  {
   "cell_type": "markdown",
   "id": "1ee96429-2a07-40ef-86eb-b35f08a0dd02",
   "metadata": {},
   "source": [
    "## Загрузка и предварительный обзор данных"
   ]
  },
  {
   "cell_type": "code",
   "execution_count": 97,
   "id": "988ade5c-4cdb-4fc8-b35a-0788e47ca4e0",
   "metadata": {},
   "outputs": [],
   "source": [
    "# Импорт библиотек и методов\n",
    "import pandas as pd\n",
    "import matplotlib.pyplot as plt\n",
    "import numpy as np\n",
    "import seaborn as sns\n",
    "from sklearn.ensemble import RandomForestRegressor, GradientBoostingRegressor\n",
    "from sklearn.linear_model import  LinearRegression, Ridge, Lasso, ElasticNet, SGDRegressor\n",
    "from sklearn.metrics import make_scorer, mean_absolute_error\n",
    "from sklearn.model_selection import train_test_split, KFold\n",
    "from sklearn.svm import SVR, NuSVR\n",
    "from sklearn.model_selection import cross_val_score\n",
    "from sklearn.dummy import DummyRegressor\n",
    "import warnings\n",
    "warnings.filterwarnings(\"ignore\")\n",
    "from sklearn.preprocessing import StandardScaler \n",
    "pd.options.mode.chained_assignment = None\n",
    "from sklearn.utils import shuffle"
   ]
  },
  {
   "cell_type": "code",
   "execution_count": 98,
   "id": "e901955a-a31c-43f6-9125-df5bf4d58b26",
   "metadata": {},
   "outputs": [],
   "source": [
    "# Чтение исходных файлов данных.\n",
    "#df_full = pd.read_csv('gold_recovery_full_new.csv', index_col='date', parse_dates=True)\n",
    "#df_test = pd.read_csv('gold_recovery_test_new.csv', index_col='date', parse_dates=True)\n",
    "#df_train = pd.read_csv('gold_recovery_train_new.csv', index_col='date', parse_dates=True)\n",
    "\n",
    "df_full = pd.read_csv('/datasets/gold_recovery_full_new.csv', parse_dates=[0])\n",
    "df_test = pd.read_csv('/datasets/gold_recovery_test_new.csv', parse_dates=[0])\n",
    "df_train = pd.read_csv('/datasets/gold_recovery_train_new.csv', parse_dates=[0])"
   ]
  },
  {
   "cell_type": "code",
   "execution_count": 99,
   "id": "842fa763-0869-4cda-bf25-55f3b9aa7f64",
   "metadata": {},
   "outputs": [
    {
     "name": "stdout",
     "output_type": "stream",
     "text": [
      "\u001b[1mОбщая информация по датафрейму df_full и вывод первых пяти строк \u001b[0m\n",
      "<class 'pandas.core.frame.DataFrame'>\n",
      "DatetimeIndex: 19439 entries, 2016-01-15 00:00:00 to 2018-08-18 10:59:59\n",
      "Data columns (total 86 columns):\n",
      " #   Column                                              Non-Null Count  Dtype  \n",
      "---  ------                                              --------------  -----  \n",
      " 0   final.output.concentrate_ag                         19438 non-null  float64\n",
      " 1   final.output.concentrate_pb                         19438 non-null  float64\n",
      " 2   final.output.concentrate_sol                        19228 non-null  float64\n",
      " 3   final.output.concentrate_au                         19439 non-null  float64\n",
      " 4   final.output.recovery                               19439 non-null  float64\n",
      " 5   final.output.tail_ag                                19438 non-null  float64\n",
      " 6   final.output.tail_pb                                19338 non-null  float64\n",
      " 7   final.output.tail_sol                               19433 non-null  float64\n",
      " 8   final.output.tail_au                                19439 non-null  float64\n",
      " 9   primary_cleaner.input.sulfate                       19415 non-null  float64\n",
      " 10  primary_cleaner.input.depressant                    19402 non-null  float64\n",
      " 11  primary_cleaner.input.feed_size                     19439 non-null  float64\n",
      " 12  primary_cleaner.input.xanthate                      19335 non-null  float64\n",
      " 13  primary_cleaner.output.concentrate_ag               19439 non-null  float64\n",
      " 14  primary_cleaner.output.concentrate_pb               19323 non-null  float64\n",
      " 15  primary_cleaner.output.concentrate_sol              19069 non-null  float64\n",
      " 16  primary_cleaner.output.concentrate_au               19439 non-null  float64\n",
      " 17  primary_cleaner.output.tail_ag                      19435 non-null  float64\n",
      " 18  primary_cleaner.output.tail_pb                      19418 non-null  float64\n",
      " 19  primary_cleaner.output.tail_sol                     19377 non-null  float64\n",
      " 20  primary_cleaner.output.tail_au                      19439 non-null  float64\n",
      " 21  primary_cleaner.state.floatbank8_a_air              19435 non-null  float64\n",
      " 22  primary_cleaner.state.floatbank8_a_level            19438 non-null  float64\n",
      " 23  primary_cleaner.state.floatbank8_b_air              19435 non-null  float64\n",
      " 24  primary_cleaner.state.floatbank8_b_level            19438 non-null  float64\n",
      " 25  primary_cleaner.state.floatbank8_c_air              19437 non-null  float64\n",
      " 26  primary_cleaner.state.floatbank8_c_level            19438 non-null  float64\n",
      " 27  primary_cleaner.state.floatbank8_d_air              19436 non-null  float64\n",
      " 28  primary_cleaner.state.floatbank8_d_level            19438 non-null  float64\n",
      " 29  rougher.calculation.sulfate_to_au_concentrate       19437 non-null  float64\n",
      " 30  rougher.calculation.floatbank10_sulfate_to_au_feed  19437 non-null  float64\n",
      " 31  rougher.calculation.floatbank11_sulfate_to_au_feed  19437 non-null  float64\n",
      " 32  rougher.calculation.au_pb_ratio                     19439 non-null  float64\n",
      " 33  rougher.input.feed_ag                               19439 non-null  float64\n",
      " 34  rougher.input.feed_pb                               19339 non-null  float64\n",
      " 35  rougher.input.feed_rate                             19428 non-null  float64\n",
      " 36  rougher.input.feed_size                             19294 non-null  float64\n",
      " 37  rougher.input.feed_sol                              19340 non-null  float64\n",
      " 38  rougher.input.feed_au                               19439 non-null  float64\n",
      " 39  rougher.input.floatbank10_sulfate                   19405 non-null  float64\n",
      " 40  rougher.input.floatbank10_xanthate                  19431 non-null  float64\n",
      " 41  rougher.input.floatbank11_sulfate                   19395 non-null  float64\n",
      " 42  rougher.input.floatbank11_xanthate                  18986 non-null  float64\n",
      " 43  rougher.output.concentrate_ag                       19439 non-null  float64\n",
      " 44  rougher.output.concentrate_pb                       19439 non-null  float64\n",
      " 45  rougher.output.concentrate_sol                      19416 non-null  float64\n",
      " 46  rougher.output.concentrate_au                       19439 non-null  float64\n",
      " 47  rougher.output.recovery                             19439 non-null  float64\n",
      " 48  rougher.output.tail_ag                              19438 non-null  float64\n",
      " 49  rougher.output.tail_pb                              19439 non-null  float64\n",
      " 50  rougher.output.tail_sol                             19439 non-null  float64\n",
      " 51  rougher.output.tail_au                              19439 non-null  float64\n",
      " 52  rougher.state.floatbank10_a_air                     19438 non-null  float64\n",
      " 53  rougher.state.floatbank10_a_level                   19438 non-null  float64\n",
      " 54  rougher.state.floatbank10_b_air                     19438 non-null  float64\n",
      " 55  rougher.state.floatbank10_b_level                   19438 non-null  float64\n",
      " 56  rougher.state.floatbank10_c_air                     19438 non-null  float64\n",
      " 57  rougher.state.floatbank10_c_level                   19438 non-null  float64\n",
      " 58  rougher.state.floatbank10_d_air                     19439 non-null  float64\n",
      " 59  rougher.state.floatbank10_d_level                   19439 non-null  float64\n",
      " 60  rougher.state.floatbank10_e_air                     19003 non-null  float64\n",
      " 61  rougher.state.floatbank10_e_level                   19439 non-null  float64\n",
      " 62  rougher.state.floatbank10_f_air                     19439 non-null  float64\n",
      " 63  rougher.state.floatbank10_f_level                   19439 non-null  float64\n",
      " 64  secondary_cleaner.output.tail_ag                    19437 non-null  float64\n",
      " 65  secondary_cleaner.output.tail_pb                    19427 non-null  float64\n",
      " 66  secondary_cleaner.output.tail_sol                   17691 non-null  float64\n",
      " 67  secondary_cleaner.output.tail_au                    19439 non-null  float64\n",
      " 68  secondary_cleaner.state.floatbank2_a_air            19219 non-null  float64\n",
      " 69  secondary_cleaner.state.floatbank2_a_level          19438 non-null  float64\n",
      " 70  secondary_cleaner.state.floatbank2_b_air            19416 non-null  float64\n",
      " 71  secondary_cleaner.state.floatbank2_b_level          19438 non-null  float64\n",
      " 72  secondary_cleaner.state.floatbank3_a_air            19426 non-null  float64\n",
      " 73  secondary_cleaner.state.floatbank3_a_level          19438 non-null  float64\n",
      " 74  secondary_cleaner.state.floatbank3_b_air            19438 non-null  float64\n",
      " 75  secondary_cleaner.state.floatbank3_b_level          19438 non-null  float64\n",
      " 76  secondary_cleaner.state.floatbank4_a_air            19433 non-null  float64\n",
      " 77  secondary_cleaner.state.floatbank4_a_level          19438 non-null  float64\n",
      " 78  secondary_cleaner.state.floatbank4_b_air            19438 non-null  float64\n",
      " 79  secondary_cleaner.state.floatbank4_b_level          19438 non-null  float64\n",
      " 80  secondary_cleaner.state.floatbank5_a_air            19438 non-null  float64\n",
      " 81  secondary_cleaner.state.floatbank5_a_level          19438 non-null  float64\n",
      " 82  secondary_cleaner.state.floatbank5_b_air            19438 non-null  float64\n",
      " 83  secondary_cleaner.state.floatbank5_b_level          19438 non-null  float64\n",
      " 84  secondary_cleaner.state.floatbank6_a_air            19437 non-null  float64\n",
      " 85  secondary_cleaner.state.floatbank6_a_level          19438 non-null  float64\n",
      "dtypes: float64(86)\n",
      "memory usage: 12.9 MB\n"
     ]
    },
    {
     "data": {
      "text/html": [
       "<div>\n",
       "<style scoped>\n",
       "    .dataframe tbody tr th:only-of-type {\n",
       "        vertical-align: middle;\n",
       "    }\n",
       "\n",
       "    .dataframe tbody tr th {\n",
       "        vertical-align: top;\n",
       "    }\n",
       "\n",
       "    .dataframe thead th {\n",
       "        text-align: right;\n",
       "    }\n",
       "</style>\n",
       "<table border=\"1\" class=\"dataframe\">\n",
       "  <thead>\n",
       "    <tr style=\"text-align: right;\">\n",
       "      <th></th>\n",
       "      <th>final.output.concentrate_ag</th>\n",
       "      <th>final.output.concentrate_pb</th>\n",
       "      <th>final.output.concentrate_sol</th>\n",
       "      <th>final.output.concentrate_au</th>\n",
       "      <th>final.output.recovery</th>\n",
       "      <th>final.output.tail_ag</th>\n",
       "      <th>final.output.tail_pb</th>\n",
       "      <th>final.output.tail_sol</th>\n",
       "      <th>final.output.tail_au</th>\n",
       "      <th>primary_cleaner.input.sulfate</th>\n",
       "      <th>...</th>\n",
       "      <th>secondary_cleaner.state.floatbank4_a_air</th>\n",
       "      <th>secondary_cleaner.state.floatbank4_a_level</th>\n",
       "      <th>secondary_cleaner.state.floatbank4_b_air</th>\n",
       "      <th>secondary_cleaner.state.floatbank4_b_level</th>\n",
       "      <th>secondary_cleaner.state.floatbank5_a_air</th>\n",
       "      <th>secondary_cleaner.state.floatbank5_a_level</th>\n",
       "      <th>secondary_cleaner.state.floatbank5_b_air</th>\n",
       "      <th>secondary_cleaner.state.floatbank5_b_level</th>\n",
       "      <th>secondary_cleaner.state.floatbank6_a_air</th>\n",
       "      <th>secondary_cleaner.state.floatbank6_a_level</th>\n",
       "    </tr>\n",
       "    <tr>\n",
       "      <th>date</th>\n",
       "      <th></th>\n",
       "      <th></th>\n",
       "      <th></th>\n",
       "      <th></th>\n",
       "      <th></th>\n",
       "      <th></th>\n",
       "      <th></th>\n",
       "      <th></th>\n",
       "      <th></th>\n",
       "      <th></th>\n",
       "      <th></th>\n",
       "      <th></th>\n",
       "      <th></th>\n",
       "      <th></th>\n",
       "      <th></th>\n",
       "      <th></th>\n",
       "      <th></th>\n",
       "      <th></th>\n",
       "      <th></th>\n",
       "      <th></th>\n",
       "      <th></th>\n",
       "    </tr>\n",
       "  </thead>\n",
       "  <tbody>\n",
       "    <tr>\n",
       "      <th>2016-01-15 00:00:00</th>\n",
       "      <td>6.055403</td>\n",
       "      <td>9.889648</td>\n",
       "      <td>5.507324</td>\n",
       "      <td>42.192020</td>\n",
       "      <td>70.541216</td>\n",
       "      <td>10.411962</td>\n",
       "      <td>0.895447</td>\n",
       "      <td>16.904297</td>\n",
       "      <td>2.143149</td>\n",
       "      <td>127.092003</td>\n",
       "      <td>...</td>\n",
       "      <td>14.016835</td>\n",
       "      <td>-502.488007</td>\n",
       "      <td>12.099931</td>\n",
       "      <td>-504.715942</td>\n",
       "      <td>9.925633</td>\n",
       "      <td>-498.310211</td>\n",
       "      <td>8.079666</td>\n",
       "      <td>-500.470978</td>\n",
       "      <td>14.151341</td>\n",
       "      <td>-605.841980</td>\n",
       "    </tr>\n",
       "    <tr>\n",
       "      <th>2016-01-15 01:00:00</th>\n",
       "      <td>6.029369</td>\n",
       "      <td>9.968944</td>\n",
       "      <td>5.257781</td>\n",
       "      <td>42.701629</td>\n",
       "      <td>69.266198</td>\n",
       "      <td>10.462676</td>\n",
       "      <td>0.927452</td>\n",
       "      <td>16.634514</td>\n",
       "      <td>2.224930</td>\n",
       "      <td>125.629232</td>\n",
       "      <td>...</td>\n",
       "      <td>13.992281</td>\n",
       "      <td>-505.503262</td>\n",
       "      <td>11.950531</td>\n",
       "      <td>-501.331529</td>\n",
       "      <td>10.039245</td>\n",
       "      <td>-500.169983</td>\n",
       "      <td>7.984757</td>\n",
       "      <td>-500.582168</td>\n",
       "      <td>13.998353</td>\n",
       "      <td>-599.787184</td>\n",
       "    </tr>\n",
       "    <tr>\n",
       "      <th>2016-01-15 02:00:00</th>\n",
       "      <td>6.055926</td>\n",
       "      <td>10.213995</td>\n",
       "      <td>5.383759</td>\n",
       "      <td>42.657501</td>\n",
       "      <td>68.116445</td>\n",
       "      <td>10.507046</td>\n",
       "      <td>0.953716</td>\n",
       "      <td>16.208849</td>\n",
       "      <td>2.257889</td>\n",
       "      <td>123.819808</td>\n",
       "      <td>...</td>\n",
       "      <td>14.015015</td>\n",
       "      <td>-502.520901</td>\n",
       "      <td>11.912783</td>\n",
       "      <td>-501.133383</td>\n",
       "      <td>10.070913</td>\n",
       "      <td>-500.129135</td>\n",
       "      <td>8.013877</td>\n",
       "      <td>-500.517572</td>\n",
       "      <td>14.028663</td>\n",
       "      <td>-601.427363</td>\n",
       "    </tr>\n",
       "    <tr>\n",
       "      <th>2016-01-15 03:00:00</th>\n",
       "      <td>6.047977</td>\n",
       "      <td>9.977019</td>\n",
       "      <td>4.858634</td>\n",
       "      <td>42.689819</td>\n",
       "      <td>68.347543</td>\n",
       "      <td>10.422762</td>\n",
       "      <td>0.883763</td>\n",
       "      <td>16.532835</td>\n",
       "      <td>2.146849</td>\n",
       "      <td>122.270188</td>\n",
       "      <td>...</td>\n",
       "      <td>14.036510</td>\n",
       "      <td>-500.857308</td>\n",
       "      <td>11.999550</td>\n",
       "      <td>-501.193686</td>\n",
       "      <td>9.970366</td>\n",
       "      <td>-499.201640</td>\n",
       "      <td>7.977324</td>\n",
       "      <td>-500.255908</td>\n",
       "      <td>14.005551</td>\n",
       "      <td>-599.996129</td>\n",
       "    </tr>\n",
       "    <tr>\n",
       "      <th>2016-01-15 04:00:00</th>\n",
       "      <td>6.148599</td>\n",
       "      <td>10.142511</td>\n",
       "      <td>4.939416</td>\n",
       "      <td>42.774141</td>\n",
       "      <td>66.927016</td>\n",
       "      <td>10.360302</td>\n",
       "      <td>0.792826</td>\n",
       "      <td>16.525686</td>\n",
       "      <td>2.055292</td>\n",
       "      <td>117.988169</td>\n",
       "      <td>...</td>\n",
       "      <td>14.027298</td>\n",
       "      <td>-499.838632</td>\n",
       "      <td>11.953070</td>\n",
       "      <td>-501.053894</td>\n",
       "      <td>9.925709</td>\n",
       "      <td>-501.686727</td>\n",
       "      <td>7.894242</td>\n",
       "      <td>-500.356035</td>\n",
       "      <td>13.996647</td>\n",
       "      <td>-601.496691</td>\n",
       "    </tr>\n",
       "  </tbody>\n",
       "</table>\n",
       "<p>5 rows × 86 columns</p>\n",
       "</div>"
      ],
      "text/plain": [
       "                     final.output.concentrate_ag  final.output.concentrate_pb  \\\n",
       "date                                                                            \n",
       "2016-01-15 00:00:00                     6.055403                     9.889648   \n",
       "2016-01-15 01:00:00                     6.029369                     9.968944   \n",
       "2016-01-15 02:00:00                     6.055926                    10.213995   \n",
       "2016-01-15 03:00:00                     6.047977                     9.977019   \n",
       "2016-01-15 04:00:00                     6.148599                    10.142511   \n",
       "\n",
       "                     final.output.concentrate_sol  \\\n",
       "date                                                \n",
       "2016-01-15 00:00:00                      5.507324   \n",
       "2016-01-15 01:00:00                      5.257781   \n",
       "2016-01-15 02:00:00                      5.383759   \n",
       "2016-01-15 03:00:00                      4.858634   \n",
       "2016-01-15 04:00:00                      4.939416   \n",
       "\n",
       "                     final.output.concentrate_au  final.output.recovery  \\\n",
       "date                                                                      \n",
       "2016-01-15 00:00:00                    42.192020              70.541216   \n",
       "2016-01-15 01:00:00                    42.701629              69.266198   \n",
       "2016-01-15 02:00:00                    42.657501              68.116445   \n",
       "2016-01-15 03:00:00                    42.689819              68.347543   \n",
       "2016-01-15 04:00:00                    42.774141              66.927016   \n",
       "\n",
       "                     final.output.tail_ag  final.output.tail_pb  \\\n",
       "date                                                              \n",
       "2016-01-15 00:00:00             10.411962              0.895447   \n",
       "2016-01-15 01:00:00             10.462676              0.927452   \n",
       "2016-01-15 02:00:00             10.507046              0.953716   \n",
       "2016-01-15 03:00:00             10.422762              0.883763   \n",
       "2016-01-15 04:00:00             10.360302              0.792826   \n",
       "\n",
       "                     final.output.tail_sol  final.output.tail_au  \\\n",
       "date                                                               \n",
       "2016-01-15 00:00:00              16.904297              2.143149   \n",
       "2016-01-15 01:00:00              16.634514              2.224930   \n",
       "2016-01-15 02:00:00              16.208849              2.257889   \n",
       "2016-01-15 03:00:00              16.532835              2.146849   \n",
       "2016-01-15 04:00:00              16.525686              2.055292   \n",
       "\n",
       "                     primary_cleaner.input.sulfate  ...  \\\n",
       "date                                                ...   \n",
       "2016-01-15 00:00:00                     127.092003  ...   \n",
       "2016-01-15 01:00:00                     125.629232  ...   \n",
       "2016-01-15 02:00:00                     123.819808  ...   \n",
       "2016-01-15 03:00:00                     122.270188  ...   \n",
       "2016-01-15 04:00:00                     117.988169  ...   \n",
       "\n",
       "                     secondary_cleaner.state.floatbank4_a_air  \\\n",
       "date                                                            \n",
       "2016-01-15 00:00:00                                 14.016835   \n",
       "2016-01-15 01:00:00                                 13.992281   \n",
       "2016-01-15 02:00:00                                 14.015015   \n",
       "2016-01-15 03:00:00                                 14.036510   \n",
       "2016-01-15 04:00:00                                 14.027298   \n",
       "\n",
       "                     secondary_cleaner.state.floatbank4_a_level  \\\n",
       "date                                                              \n",
       "2016-01-15 00:00:00                                 -502.488007   \n",
       "2016-01-15 01:00:00                                 -505.503262   \n",
       "2016-01-15 02:00:00                                 -502.520901   \n",
       "2016-01-15 03:00:00                                 -500.857308   \n",
       "2016-01-15 04:00:00                                 -499.838632   \n",
       "\n",
       "                     secondary_cleaner.state.floatbank4_b_air  \\\n",
       "date                                                            \n",
       "2016-01-15 00:00:00                                 12.099931   \n",
       "2016-01-15 01:00:00                                 11.950531   \n",
       "2016-01-15 02:00:00                                 11.912783   \n",
       "2016-01-15 03:00:00                                 11.999550   \n",
       "2016-01-15 04:00:00                                 11.953070   \n",
       "\n",
       "                     secondary_cleaner.state.floatbank4_b_level  \\\n",
       "date                                                              \n",
       "2016-01-15 00:00:00                                 -504.715942   \n",
       "2016-01-15 01:00:00                                 -501.331529   \n",
       "2016-01-15 02:00:00                                 -501.133383   \n",
       "2016-01-15 03:00:00                                 -501.193686   \n",
       "2016-01-15 04:00:00                                 -501.053894   \n",
       "\n",
       "                     secondary_cleaner.state.floatbank5_a_air  \\\n",
       "date                                                            \n",
       "2016-01-15 00:00:00                                  9.925633   \n",
       "2016-01-15 01:00:00                                 10.039245   \n",
       "2016-01-15 02:00:00                                 10.070913   \n",
       "2016-01-15 03:00:00                                  9.970366   \n",
       "2016-01-15 04:00:00                                  9.925709   \n",
       "\n",
       "                     secondary_cleaner.state.floatbank5_a_level  \\\n",
       "date                                                              \n",
       "2016-01-15 00:00:00                                 -498.310211   \n",
       "2016-01-15 01:00:00                                 -500.169983   \n",
       "2016-01-15 02:00:00                                 -500.129135   \n",
       "2016-01-15 03:00:00                                 -499.201640   \n",
       "2016-01-15 04:00:00                                 -501.686727   \n",
       "\n",
       "                     secondary_cleaner.state.floatbank5_b_air  \\\n",
       "date                                                            \n",
       "2016-01-15 00:00:00                                  8.079666   \n",
       "2016-01-15 01:00:00                                  7.984757   \n",
       "2016-01-15 02:00:00                                  8.013877   \n",
       "2016-01-15 03:00:00                                  7.977324   \n",
       "2016-01-15 04:00:00                                  7.894242   \n",
       "\n",
       "                     secondary_cleaner.state.floatbank5_b_level  \\\n",
       "date                                                              \n",
       "2016-01-15 00:00:00                                 -500.470978   \n",
       "2016-01-15 01:00:00                                 -500.582168   \n",
       "2016-01-15 02:00:00                                 -500.517572   \n",
       "2016-01-15 03:00:00                                 -500.255908   \n",
       "2016-01-15 04:00:00                                 -500.356035   \n",
       "\n",
       "                     secondary_cleaner.state.floatbank6_a_air  \\\n",
       "date                                                            \n",
       "2016-01-15 00:00:00                                 14.151341   \n",
       "2016-01-15 01:00:00                                 13.998353   \n",
       "2016-01-15 02:00:00                                 14.028663   \n",
       "2016-01-15 03:00:00                                 14.005551   \n",
       "2016-01-15 04:00:00                                 13.996647   \n",
       "\n",
       "                     secondary_cleaner.state.floatbank6_a_level  \n",
       "date                                                             \n",
       "2016-01-15 00:00:00                                 -605.841980  \n",
       "2016-01-15 01:00:00                                 -599.787184  \n",
       "2016-01-15 02:00:00                                 -601.427363  \n",
       "2016-01-15 03:00:00                                 -599.996129  \n",
       "2016-01-15 04:00:00                                 -601.496691  \n",
       "\n",
       "[5 rows x 86 columns]"
      ]
     },
     "metadata": {},
     "output_type": "display_data"
    },
    {
     "name": "stdout",
     "output_type": "stream",
     "text": [
      "\u001b[1mОбщая информация по датафрейму df_test и вывод первых пяти строк \u001b[0m\n",
      "<class 'pandas.core.frame.DataFrame'>\n",
      "DatetimeIndex: 5290 entries, 2016-09-01 00:59:59 to 2017-12-31 23:59:59\n",
      "Data columns (total 52 columns):\n",
      " #   Column                                      Non-Null Count  Dtype  \n",
      "---  ------                                      --------------  -----  \n",
      " 0   primary_cleaner.input.sulfate               5286 non-null   float64\n",
      " 1   primary_cleaner.input.depressant            5285 non-null   float64\n",
      " 2   primary_cleaner.input.feed_size             5290 non-null   float64\n",
      " 3   primary_cleaner.input.xanthate              5286 non-null   float64\n",
      " 4   primary_cleaner.state.floatbank8_a_air      5290 non-null   float64\n",
      " 5   primary_cleaner.state.floatbank8_a_level    5290 non-null   float64\n",
      " 6   primary_cleaner.state.floatbank8_b_air      5290 non-null   float64\n",
      " 7   primary_cleaner.state.floatbank8_b_level    5290 non-null   float64\n",
      " 8   primary_cleaner.state.floatbank8_c_air      5290 non-null   float64\n",
      " 9   primary_cleaner.state.floatbank8_c_level    5290 non-null   float64\n",
      " 10  primary_cleaner.state.floatbank8_d_air      5290 non-null   float64\n",
      " 11  primary_cleaner.state.floatbank8_d_level    5290 non-null   float64\n",
      " 12  rougher.input.feed_ag                       5290 non-null   float64\n",
      " 13  rougher.input.feed_pb                       5290 non-null   float64\n",
      " 14  rougher.input.feed_rate                     5287 non-null   float64\n",
      " 15  rougher.input.feed_size                     5289 non-null   float64\n",
      " 16  rougher.input.feed_sol                      5269 non-null   float64\n",
      " 17  rougher.input.feed_au                       5290 non-null   float64\n",
      " 18  rougher.input.floatbank10_sulfate           5285 non-null   float64\n",
      " 19  rougher.input.floatbank10_xanthate          5290 non-null   float64\n",
      " 20  rougher.input.floatbank11_sulfate           5282 non-null   float64\n",
      " 21  rougher.input.floatbank11_xanthate          5265 non-null   float64\n",
      " 22  rougher.state.floatbank10_a_air             5290 non-null   float64\n",
      " 23  rougher.state.floatbank10_a_level           5290 non-null   float64\n",
      " 24  rougher.state.floatbank10_b_air             5290 non-null   float64\n",
      " 25  rougher.state.floatbank10_b_level           5290 non-null   float64\n",
      " 26  rougher.state.floatbank10_c_air             5290 non-null   float64\n",
      " 27  rougher.state.floatbank10_c_level           5290 non-null   float64\n",
      " 28  rougher.state.floatbank10_d_air             5290 non-null   float64\n",
      " 29  rougher.state.floatbank10_d_level           5290 non-null   float64\n",
      " 30  rougher.state.floatbank10_e_air             5290 non-null   float64\n",
      " 31  rougher.state.floatbank10_e_level           5290 non-null   float64\n",
      " 32  rougher.state.floatbank10_f_air             5290 non-null   float64\n",
      " 33  rougher.state.floatbank10_f_level           5290 non-null   float64\n",
      " 34  secondary_cleaner.state.floatbank2_a_air    5287 non-null   float64\n",
      " 35  secondary_cleaner.state.floatbank2_a_level  5290 non-null   float64\n",
      " 36  secondary_cleaner.state.floatbank2_b_air    5288 non-null   float64\n",
      " 37  secondary_cleaner.state.floatbank2_b_level  5290 non-null   float64\n",
      " 38  secondary_cleaner.state.floatbank3_a_air    5281 non-null   float64\n",
      " 39  secondary_cleaner.state.floatbank3_a_level  5290 non-null   float64\n",
      " 40  secondary_cleaner.state.floatbank3_b_air    5290 non-null   float64\n",
      " 41  secondary_cleaner.state.floatbank3_b_level  5290 non-null   float64\n",
      " 42  secondary_cleaner.state.floatbank4_a_air    5290 non-null   float64\n",
      " 43  secondary_cleaner.state.floatbank4_a_level  5290 non-null   float64\n",
      " 44  secondary_cleaner.state.floatbank4_b_air    5290 non-null   float64\n",
      " 45  secondary_cleaner.state.floatbank4_b_level  5290 non-null   float64\n",
      " 46  secondary_cleaner.state.floatbank5_a_air    5290 non-null   float64\n",
      " 47  secondary_cleaner.state.floatbank5_a_level  5290 non-null   float64\n",
      " 48  secondary_cleaner.state.floatbank5_b_air    5290 non-null   float64\n",
      " 49  secondary_cleaner.state.floatbank5_b_level  5290 non-null   float64\n",
      " 50  secondary_cleaner.state.floatbank6_a_air    5290 non-null   float64\n",
      " 51  secondary_cleaner.state.floatbank6_a_level  5290 non-null   float64\n",
      "dtypes: float64(52)\n",
      "memory usage: 2.1 MB\n"
     ]
    },
    {
     "data": {
      "text/html": [
       "<div>\n",
       "<style scoped>\n",
       "    .dataframe tbody tr th:only-of-type {\n",
       "        vertical-align: middle;\n",
       "    }\n",
       "\n",
       "    .dataframe tbody tr th {\n",
       "        vertical-align: top;\n",
       "    }\n",
       "\n",
       "    .dataframe thead th {\n",
       "        text-align: right;\n",
       "    }\n",
       "</style>\n",
       "<table border=\"1\" class=\"dataframe\">\n",
       "  <thead>\n",
       "    <tr style=\"text-align: right;\">\n",
       "      <th></th>\n",
       "      <th>primary_cleaner.input.sulfate</th>\n",
       "      <th>primary_cleaner.input.depressant</th>\n",
       "      <th>primary_cleaner.input.feed_size</th>\n",
       "      <th>primary_cleaner.input.xanthate</th>\n",
       "      <th>primary_cleaner.state.floatbank8_a_air</th>\n",
       "      <th>primary_cleaner.state.floatbank8_a_level</th>\n",
       "      <th>primary_cleaner.state.floatbank8_b_air</th>\n",
       "      <th>primary_cleaner.state.floatbank8_b_level</th>\n",
       "      <th>primary_cleaner.state.floatbank8_c_air</th>\n",
       "      <th>primary_cleaner.state.floatbank8_c_level</th>\n",
       "      <th>...</th>\n",
       "      <th>secondary_cleaner.state.floatbank4_a_air</th>\n",
       "      <th>secondary_cleaner.state.floatbank4_a_level</th>\n",
       "      <th>secondary_cleaner.state.floatbank4_b_air</th>\n",
       "      <th>secondary_cleaner.state.floatbank4_b_level</th>\n",
       "      <th>secondary_cleaner.state.floatbank5_a_air</th>\n",
       "      <th>secondary_cleaner.state.floatbank5_a_level</th>\n",
       "      <th>secondary_cleaner.state.floatbank5_b_air</th>\n",
       "      <th>secondary_cleaner.state.floatbank5_b_level</th>\n",
       "      <th>secondary_cleaner.state.floatbank6_a_air</th>\n",
       "      <th>secondary_cleaner.state.floatbank6_a_level</th>\n",
       "    </tr>\n",
       "    <tr>\n",
       "      <th>date</th>\n",
       "      <th></th>\n",
       "      <th></th>\n",
       "      <th></th>\n",
       "      <th></th>\n",
       "      <th></th>\n",
       "      <th></th>\n",
       "      <th></th>\n",
       "      <th></th>\n",
       "      <th></th>\n",
       "      <th></th>\n",
       "      <th></th>\n",
       "      <th></th>\n",
       "      <th></th>\n",
       "      <th></th>\n",
       "      <th></th>\n",
       "      <th></th>\n",
       "      <th></th>\n",
       "      <th></th>\n",
       "      <th></th>\n",
       "      <th></th>\n",
       "      <th></th>\n",
       "    </tr>\n",
       "  </thead>\n",
       "  <tbody>\n",
       "    <tr>\n",
       "      <th>2016-09-01 00:59:59</th>\n",
       "      <td>210.800909</td>\n",
       "      <td>14.993118</td>\n",
       "      <td>8.080000</td>\n",
       "      <td>1.005021</td>\n",
       "      <td>1398.981301</td>\n",
       "      <td>-500.225577</td>\n",
       "      <td>1399.144926</td>\n",
       "      <td>-499.919735</td>\n",
       "      <td>1400.102998</td>\n",
       "      <td>-500.704369</td>\n",
       "      <td>...</td>\n",
       "      <td>12.023554</td>\n",
       "      <td>-497.795834</td>\n",
       "      <td>8.016656</td>\n",
       "      <td>-501.289139</td>\n",
       "      <td>7.946562</td>\n",
       "      <td>-432.317850</td>\n",
       "      <td>4.872511</td>\n",
       "      <td>-500.037437</td>\n",
       "      <td>26.705889</td>\n",
       "      <td>-499.709414</td>\n",
       "    </tr>\n",
       "    <tr>\n",
       "      <th>2016-09-01 01:59:59</th>\n",
       "      <td>215.392455</td>\n",
       "      <td>14.987471</td>\n",
       "      <td>8.080000</td>\n",
       "      <td>0.990469</td>\n",
       "      <td>1398.777912</td>\n",
       "      <td>-500.057435</td>\n",
       "      <td>1398.055362</td>\n",
       "      <td>-499.778182</td>\n",
       "      <td>1396.151033</td>\n",
       "      <td>-499.240168</td>\n",
       "      <td>...</td>\n",
       "      <td>12.058140</td>\n",
       "      <td>-498.695773</td>\n",
       "      <td>8.130979</td>\n",
       "      <td>-499.634209</td>\n",
       "      <td>7.958270</td>\n",
       "      <td>-525.839648</td>\n",
       "      <td>4.878850</td>\n",
       "      <td>-500.162375</td>\n",
       "      <td>25.019940</td>\n",
       "      <td>-499.819438</td>\n",
       "    </tr>\n",
       "    <tr>\n",
       "      <th>2016-09-01 02:59:59</th>\n",
       "      <td>215.259946</td>\n",
       "      <td>12.884934</td>\n",
       "      <td>7.786667</td>\n",
       "      <td>0.996043</td>\n",
       "      <td>1398.493666</td>\n",
       "      <td>-500.868360</td>\n",
       "      <td>1398.860436</td>\n",
       "      <td>-499.764529</td>\n",
       "      <td>1398.075709</td>\n",
       "      <td>-502.151509</td>\n",
       "      <td>...</td>\n",
       "      <td>11.962366</td>\n",
       "      <td>-498.767484</td>\n",
       "      <td>8.096893</td>\n",
       "      <td>-500.827423</td>\n",
       "      <td>8.071056</td>\n",
       "      <td>-500.801673</td>\n",
       "      <td>4.905125</td>\n",
       "      <td>-499.828510</td>\n",
       "      <td>24.994862</td>\n",
       "      <td>-500.622559</td>\n",
       "    </tr>\n",
       "    <tr>\n",
       "      <th>2016-09-01 03:59:59</th>\n",
       "      <td>215.336236</td>\n",
       "      <td>12.006805</td>\n",
       "      <td>7.640000</td>\n",
       "      <td>0.863514</td>\n",
       "      <td>1399.618111</td>\n",
       "      <td>-498.863574</td>\n",
       "      <td>1397.440120</td>\n",
       "      <td>-499.211024</td>\n",
       "      <td>1400.129303</td>\n",
       "      <td>-498.355873</td>\n",
       "      <td>...</td>\n",
       "      <td>12.033091</td>\n",
       "      <td>-498.350935</td>\n",
       "      <td>8.074946</td>\n",
       "      <td>-499.474407</td>\n",
       "      <td>7.897085</td>\n",
       "      <td>-500.868509</td>\n",
       "      <td>4.931400</td>\n",
       "      <td>-499.963623</td>\n",
       "      <td>24.948919</td>\n",
       "      <td>-498.709987</td>\n",
       "    </tr>\n",
       "    <tr>\n",
       "      <th>2016-09-01 04:59:59</th>\n",
       "      <td>199.099327</td>\n",
       "      <td>10.682530</td>\n",
       "      <td>7.530000</td>\n",
       "      <td>0.805575</td>\n",
       "      <td>1401.268123</td>\n",
       "      <td>-500.808305</td>\n",
       "      <td>1398.128818</td>\n",
       "      <td>-499.504543</td>\n",
       "      <td>1402.172226</td>\n",
       "      <td>-500.810606</td>\n",
       "      <td>...</td>\n",
       "      <td>12.025367</td>\n",
       "      <td>-500.786497</td>\n",
       "      <td>8.054678</td>\n",
       "      <td>-500.397500</td>\n",
       "      <td>8.107890</td>\n",
       "      <td>-509.526725</td>\n",
       "      <td>4.957674</td>\n",
       "      <td>-500.360026</td>\n",
       "      <td>25.003331</td>\n",
       "      <td>-500.856333</td>\n",
       "    </tr>\n",
       "  </tbody>\n",
       "</table>\n",
       "<p>5 rows × 52 columns</p>\n",
       "</div>"
      ],
      "text/plain": [
       "                     primary_cleaner.input.sulfate  \\\n",
       "date                                                 \n",
       "2016-09-01 00:59:59                     210.800909   \n",
       "2016-09-01 01:59:59                     215.392455   \n",
       "2016-09-01 02:59:59                     215.259946   \n",
       "2016-09-01 03:59:59                     215.336236   \n",
       "2016-09-01 04:59:59                     199.099327   \n",
       "\n",
       "                     primary_cleaner.input.depressant  \\\n",
       "date                                                    \n",
       "2016-09-01 00:59:59                         14.993118   \n",
       "2016-09-01 01:59:59                         14.987471   \n",
       "2016-09-01 02:59:59                         12.884934   \n",
       "2016-09-01 03:59:59                         12.006805   \n",
       "2016-09-01 04:59:59                         10.682530   \n",
       "\n",
       "                     primary_cleaner.input.feed_size  \\\n",
       "date                                                   \n",
       "2016-09-01 00:59:59                         8.080000   \n",
       "2016-09-01 01:59:59                         8.080000   \n",
       "2016-09-01 02:59:59                         7.786667   \n",
       "2016-09-01 03:59:59                         7.640000   \n",
       "2016-09-01 04:59:59                         7.530000   \n",
       "\n",
       "                     primary_cleaner.input.xanthate  \\\n",
       "date                                                  \n",
       "2016-09-01 00:59:59                        1.005021   \n",
       "2016-09-01 01:59:59                        0.990469   \n",
       "2016-09-01 02:59:59                        0.996043   \n",
       "2016-09-01 03:59:59                        0.863514   \n",
       "2016-09-01 04:59:59                        0.805575   \n",
       "\n",
       "                     primary_cleaner.state.floatbank8_a_air  \\\n",
       "date                                                          \n",
       "2016-09-01 00:59:59                             1398.981301   \n",
       "2016-09-01 01:59:59                             1398.777912   \n",
       "2016-09-01 02:59:59                             1398.493666   \n",
       "2016-09-01 03:59:59                             1399.618111   \n",
       "2016-09-01 04:59:59                             1401.268123   \n",
       "\n",
       "                     primary_cleaner.state.floatbank8_a_level  \\\n",
       "date                                                            \n",
       "2016-09-01 00:59:59                               -500.225577   \n",
       "2016-09-01 01:59:59                               -500.057435   \n",
       "2016-09-01 02:59:59                               -500.868360   \n",
       "2016-09-01 03:59:59                               -498.863574   \n",
       "2016-09-01 04:59:59                               -500.808305   \n",
       "\n",
       "                     primary_cleaner.state.floatbank8_b_air  \\\n",
       "date                                                          \n",
       "2016-09-01 00:59:59                             1399.144926   \n",
       "2016-09-01 01:59:59                             1398.055362   \n",
       "2016-09-01 02:59:59                             1398.860436   \n",
       "2016-09-01 03:59:59                             1397.440120   \n",
       "2016-09-01 04:59:59                             1398.128818   \n",
       "\n",
       "                     primary_cleaner.state.floatbank8_b_level  \\\n",
       "date                                                            \n",
       "2016-09-01 00:59:59                               -499.919735   \n",
       "2016-09-01 01:59:59                               -499.778182   \n",
       "2016-09-01 02:59:59                               -499.764529   \n",
       "2016-09-01 03:59:59                               -499.211024   \n",
       "2016-09-01 04:59:59                               -499.504543   \n",
       "\n",
       "                     primary_cleaner.state.floatbank8_c_air  \\\n",
       "date                                                          \n",
       "2016-09-01 00:59:59                             1400.102998   \n",
       "2016-09-01 01:59:59                             1396.151033   \n",
       "2016-09-01 02:59:59                             1398.075709   \n",
       "2016-09-01 03:59:59                             1400.129303   \n",
       "2016-09-01 04:59:59                             1402.172226   \n",
       "\n",
       "                     primary_cleaner.state.floatbank8_c_level  ...  \\\n",
       "date                                                           ...   \n",
       "2016-09-01 00:59:59                               -500.704369  ...   \n",
       "2016-09-01 01:59:59                               -499.240168  ...   \n",
       "2016-09-01 02:59:59                               -502.151509  ...   \n",
       "2016-09-01 03:59:59                               -498.355873  ...   \n",
       "2016-09-01 04:59:59                               -500.810606  ...   \n",
       "\n",
       "                     secondary_cleaner.state.floatbank4_a_air  \\\n",
       "date                                                            \n",
       "2016-09-01 00:59:59                                 12.023554   \n",
       "2016-09-01 01:59:59                                 12.058140   \n",
       "2016-09-01 02:59:59                                 11.962366   \n",
       "2016-09-01 03:59:59                                 12.033091   \n",
       "2016-09-01 04:59:59                                 12.025367   \n",
       "\n",
       "                     secondary_cleaner.state.floatbank4_a_level  \\\n",
       "date                                                              \n",
       "2016-09-01 00:59:59                                 -497.795834   \n",
       "2016-09-01 01:59:59                                 -498.695773   \n",
       "2016-09-01 02:59:59                                 -498.767484   \n",
       "2016-09-01 03:59:59                                 -498.350935   \n",
       "2016-09-01 04:59:59                                 -500.786497   \n",
       "\n",
       "                     secondary_cleaner.state.floatbank4_b_air  \\\n",
       "date                                                            \n",
       "2016-09-01 00:59:59                                  8.016656   \n",
       "2016-09-01 01:59:59                                  8.130979   \n",
       "2016-09-01 02:59:59                                  8.096893   \n",
       "2016-09-01 03:59:59                                  8.074946   \n",
       "2016-09-01 04:59:59                                  8.054678   \n",
       "\n",
       "                     secondary_cleaner.state.floatbank4_b_level  \\\n",
       "date                                                              \n",
       "2016-09-01 00:59:59                                 -501.289139   \n",
       "2016-09-01 01:59:59                                 -499.634209   \n",
       "2016-09-01 02:59:59                                 -500.827423   \n",
       "2016-09-01 03:59:59                                 -499.474407   \n",
       "2016-09-01 04:59:59                                 -500.397500   \n",
       "\n",
       "                     secondary_cleaner.state.floatbank5_a_air  \\\n",
       "date                                                            \n",
       "2016-09-01 00:59:59                                  7.946562   \n",
       "2016-09-01 01:59:59                                  7.958270   \n",
       "2016-09-01 02:59:59                                  8.071056   \n",
       "2016-09-01 03:59:59                                  7.897085   \n",
       "2016-09-01 04:59:59                                  8.107890   \n",
       "\n",
       "                     secondary_cleaner.state.floatbank5_a_level  \\\n",
       "date                                                              \n",
       "2016-09-01 00:59:59                                 -432.317850   \n",
       "2016-09-01 01:59:59                                 -525.839648   \n",
       "2016-09-01 02:59:59                                 -500.801673   \n",
       "2016-09-01 03:59:59                                 -500.868509   \n",
       "2016-09-01 04:59:59                                 -509.526725   \n",
       "\n",
       "                     secondary_cleaner.state.floatbank5_b_air  \\\n",
       "date                                                            \n",
       "2016-09-01 00:59:59                                  4.872511   \n",
       "2016-09-01 01:59:59                                  4.878850   \n",
       "2016-09-01 02:59:59                                  4.905125   \n",
       "2016-09-01 03:59:59                                  4.931400   \n",
       "2016-09-01 04:59:59                                  4.957674   \n",
       "\n",
       "                     secondary_cleaner.state.floatbank5_b_level  \\\n",
       "date                                                              \n",
       "2016-09-01 00:59:59                                 -500.037437   \n",
       "2016-09-01 01:59:59                                 -500.162375   \n",
       "2016-09-01 02:59:59                                 -499.828510   \n",
       "2016-09-01 03:59:59                                 -499.963623   \n",
       "2016-09-01 04:59:59                                 -500.360026   \n",
       "\n",
       "                     secondary_cleaner.state.floatbank6_a_air  \\\n",
       "date                                                            \n",
       "2016-09-01 00:59:59                                 26.705889   \n",
       "2016-09-01 01:59:59                                 25.019940   \n",
       "2016-09-01 02:59:59                                 24.994862   \n",
       "2016-09-01 03:59:59                                 24.948919   \n",
       "2016-09-01 04:59:59                                 25.003331   \n",
       "\n",
       "                     secondary_cleaner.state.floatbank6_a_level  \n",
       "date                                                             \n",
       "2016-09-01 00:59:59                                 -499.709414  \n",
       "2016-09-01 01:59:59                                 -499.819438  \n",
       "2016-09-01 02:59:59                                 -500.622559  \n",
       "2016-09-01 03:59:59                                 -498.709987  \n",
       "2016-09-01 04:59:59                                 -500.856333  \n",
       "\n",
       "[5 rows x 52 columns]"
      ]
     },
     "metadata": {},
     "output_type": "display_data"
    },
    {
     "name": "stdout",
     "output_type": "stream",
     "text": [
      "\u001b[1mОбщая информация по датафрейму df_train и вывод первых пяти строк \u001b[0m\n",
      "<class 'pandas.core.frame.DataFrame'>\n",
      "DatetimeIndex: 14149 entries, 2016-01-15 00:00:00 to 2018-08-18 10:59:59\n",
      "Data columns (total 86 columns):\n",
      " #   Column                                              Non-Null Count  Dtype  \n",
      "---  ------                                              --------------  -----  \n",
      " 0   final.output.concentrate_ag                         14148 non-null  float64\n",
      " 1   final.output.concentrate_pb                         14148 non-null  float64\n",
      " 2   final.output.concentrate_sol                        13938 non-null  float64\n",
      " 3   final.output.concentrate_au                         14149 non-null  float64\n",
      " 4   final.output.recovery                               14149 non-null  float64\n",
      " 5   final.output.tail_ag                                14149 non-null  float64\n",
      " 6   final.output.tail_pb                                14049 non-null  float64\n",
      " 7   final.output.tail_sol                               14144 non-null  float64\n",
      " 8   final.output.tail_au                                14149 non-null  float64\n",
      " 9   primary_cleaner.input.sulfate                       14129 non-null  float64\n",
      " 10  primary_cleaner.input.depressant                    14117 non-null  float64\n",
      " 11  primary_cleaner.input.feed_size                     14149 non-null  float64\n",
      " 12  primary_cleaner.input.xanthate                      14049 non-null  float64\n",
      " 13  primary_cleaner.output.concentrate_ag               14149 non-null  float64\n",
      " 14  primary_cleaner.output.concentrate_pb               14063 non-null  float64\n",
      " 15  primary_cleaner.output.concentrate_sol              13863 non-null  float64\n",
      " 16  primary_cleaner.output.concentrate_au               14149 non-null  float64\n",
      " 17  primary_cleaner.output.tail_ag                      14148 non-null  float64\n",
      " 18  primary_cleaner.output.tail_pb                      14134 non-null  float64\n",
      " 19  primary_cleaner.output.tail_sol                     14103 non-null  float64\n",
      " 20  primary_cleaner.output.tail_au                      14149 non-null  float64\n",
      " 21  primary_cleaner.state.floatbank8_a_air              14145 non-null  float64\n",
      " 22  primary_cleaner.state.floatbank8_a_level            14148 non-null  float64\n",
      " 23  primary_cleaner.state.floatbank8_b_air              14145 non-null  float64\n",
      " 24  primary_cleaner.state.floatbank8_b_level            14148 non-null  float64\n",
      " 25  primary_cleaner.state.floatbank8_c_air              14147 non-null  float64\n",
      " 26  primary_cleaner.state.floatbank8_c_level            14148 non-null  float64\n",
      " 27  primary_cleaner.state.floatbank8_d_air              14146 non-null  float64\n",
      " 28  primary_cleaner.state.floatbank8_d_level            14148 non-null  float64\n",
      " 29  rougher.calculation.sulfate_to_au_concentrate       14148 non-null  float64\n",
      " 30  rougher.calculation.floatbank10_sulfate_to_au_feed  14148 non-null  float64\n",
      " 31  rougher.calculation.floatbank11_sulfate_to_au_feed  14148 non-null  float64\n",
      " 32  rougher.calculation.au_pb_ratio                     14149 non-null  float64\n",
      " 33  rougher.input.feed_ag                               14149 non-null  float64\n",
      " 34  rougher.input.feed_pb                               14049 non-null  float64\n",
      " 35  rougher.input.feed_rate                             14141 non-null  float64\n",
      " 36  rougher.input.feed_size                             14005 non-null  float64\n",
      " 37  rougher.input.feed_sol                              14071 non-null  float64\n",
      " 38  rougher.input.feed_au                               14149 non-null  float64\n",
      " 39  rougher.input.floatbank10_sulfate                   14120 non-null  float64\n",
      " 40  rougher.input.floatbank10_xanthate                  14141 non-null  float64\n",
      " 41  rougher.input.floatbank11_sulfate                   14113 non-null  float64\n",
      " 42  rougher.input.floatbank11_xanthate                  13721 non-null  float64\n",
      " 43  rougher.output.concentrate_ag                       14149 non-null  float64\n",
      " 44  rougher.output.concentrate_pb                       14149 non-null  float64\n",
      " 45  rougher.output.concentrate_sol                      14127 non-null  float64\n",
      " 46  rougher.output.concentrate_au                       14149 non-null  float64\n",
      " 47  rougher.output.recovery                             14149 non-null  float64\n",
      " 48  rougher.output.tail_ag                              14148 non-null  float64\n",
      " 49  rougher.output.tail_pb                              14149 non-null  float64\n",
      " 50  rougher.output.tail_sol                             14149 non-null  float64\n",
      " 51  rougher.output.tail_au                              14149 non-null  float64\n",
      " 52  rougher.state.floatbank10_a_air                     14148 non-null  float64\n",
      " 53  rougher.state.floatbank10_a_level                   14148 non-null  float64\n",
      " 54  rougher.state.floatbank10_b_air                     14148 non-null  float64\n",
      " 55  rougher.state.floatbank10_b_level                   14148 non-null  float64\n",
      " 56  rougher.state.floatbank10_c_air                     14148 non-null  float64\n",
      " 57  rougher.state.floatbank10_c_level                   14148 non-null  float64\n",
      " 58  rougher.state.floatbank10_d_air                     14149 non-null  float64\n",
      " 59  rougher.state.floatbank10_d_level                   14149 non-null  float64\n",
      " 60  rougher.state.floatbank10_e_air                     13713 non-null  float64\n",
      " 61  rougher.state.floatbank10_e_level                   14149 non-null  float64\n",
      " 62  rougher.state.floatbank10_f_air                     14149 non-null  float64\n",
      " 63  rougher.state.floatbank10_f_level                   14149 non-null  float64\n",
      " 64  secondary_cleaner.output.tail_ag                    14147 non-null  float64\n",
      " 65  secondary_cleaner.output.tail_pb                    14139 non-null  float64\n",
      " 66  secondary_cleaner.output.tail_sol                   12544 non-null  float64\n",
      " 67  secondary_cleaner.output.tail_au                    14149 non-null  float64\n",
      " 68  secondary_cleaner.state.floatbank2_a_air            13932 non-null  float64\n",
      " 69  secondary_cleaner.state.floatbank2_a_level          14148 non-null  float64\n",
      " 70  secondary_cleaner.state.floatbank2_b_air            14128 non-null  float64\n",
      " 71  secondary_cleaner.state.floatbank2_b_level          14148 non-null  float64\n",
      " 72  secondary_cleaner.state.floatbank3_a_air            14145 non-null  float64\n",
      " 73  secondary_cleaner.state.floatbank3_a_level          14148 non-null  float64\n",
      " 74  secondary_cleaner.state.floatbank3_b_air            14148 non-null  float64\n",
      " 75  secondary_cleaner.state.floatbank3_b_level          14148 non-null  float64\n",
      " 76  secondary_cleaner.state.floatbank4_a_air            14143 non-null  float64\n",
      " 77  secondary_cleaner.state.floatbank4_a_level          14148 non-null  float64\n",
      " 78  secondary_cleaner.state.floatbank4_b_air            14148 non-null  float64\n",
      " 79  secondary_cleaner.state.floatbank4_b_level          14148 non-null  float64\n",
      " 80  secondary_cleaner.state.floatbank5_a_air            14148 non-null  float64\n",
      " 81  secondary_cleaner.state.floatbank5_a_level          14148 non-null  float64\n",
      " 82  secondary_cleaner.state.floatbank5_b_air            14148 non-null  float64\n",
      " 83  secondary_cleaner.state.floatbank5_b_level          14148 non-null  float64\n",
      " 84  secondary_cleaner.state.floatbank6_a_air            14147 non-null  float64\n",
      " 85  secondary_cleaner.state.floatbank6_a_level          14148 non-null  float64\n",
      "dtypes: float64(86)\n",
      "memory usage: 9.4 MB\n"
     ]
    },
    {
     "data": {
      "text/html": [
       "<div>\n",
       "<style scoped>\n",
       "    .dataframe tbody tr th:only-of-type {\n",
       "        vertical-align: middle;\n",
       "    }\n",
       "\n",
       "    .dataframe tbody tr th {\n",
       "        vertical-align: top;\n",
       "    }\n",
       "\n",
       "    .dataframe thead th {\n",
       "        text-align: right;\n",
       "    }\n",
       "</style>\n",
       "<table border=\"1\" class=\"dataframe\">\n",
       "  <thead>\n",
       "    <tr style=\"text-align: right;\">\n",
       "      <th></th>\n",
       "      <th>final.output.concentrate_ag</th>\n",
       "      <th>final.output.concentrate_pb</th>\n",
       "      <th>final.output.concentrate_sol</th>\n",
       "      <th>final.output.concentrate_au</th>\n",
       "      <th>final.output.recovery</th>\n",
       "      <th>final.output.tail_ag</th>\n",
       "      <th>final.output.tail_pb</th>\n",
       "      <th>final.output.tail_sol</th>\n",
       "      <th>final.output.tail_au</th>\n",
       "      <th>primary_cleaner.input.sulfate</th>\n",
       "      <th>...</th>\n",
       "      <th>secondary_cleaner.state.floatbank4_a_air</th>\n",
       "      <th>secondary_cleaner.state.floatbank4_a_level</th>\n",
       "      <th>secondary_cleaner.state.floatbank4_b_air</th>\n",
       "      <th>secondary_cleaner.state.floatbank4_b_level</th>\n",
       "      <th>secondary_cleaner.state.floatbank5_a_air</th>\n",
       "      <th>secondary_cleaner.state.floatbank5_a_level</th>\n",
       "      <th>secondary_cleaner.state.floatbank5_b_air</th>\n",
       "      <th>secondary_cleaner.state.floatbank5_b_level</th>\n",
       "      <th>secondary_cleaner.state.floatbank6_a_air</th>\n",
       "      <th>secondary_cleaner.state.floatbank6_a_level</th>\n",
       "    </tr>\n",
       "    <tr>\n",
       "      <th>date</th>\n",
       "      <th></th>\n",
       "      <th></th>\n",
       "      <th></th>\n",
       "      <th></th>\n",
       "      <th></th>\n",
       "      <th></th>\n",
       "      <th></th>\n",
       "      <th></th>\n",
       "      <th></th>\n",
       "      <th></th>\n",
       "      <th></th>\n",
       "      <th></th>\n",
       "      <th></th>\n",
       "      <th></th>\n",
       "      <th></th>\n",
       "      <th></th>\n",
       "      <th></th>\n",
       "      <th></th>\n",
       "      <th></th>\n",
       "      <th></th>\n",
       "      <th></th>\n",
       "    </tr>\n",
       "  </thead>\n",
       "  <tbody>\n",
       "    <tr>\n",
       "      <th>2016-01-15 00:00:00</th>\n",
       "      <td>6.055403</td>\n",
       "      <td>9.889648</td>\n",
       "      <td>5.507324</td>\n",
       "      <td>42.192020</td>\n",
       "      <td>70.541216</td>\n",
       "      <td>10.411962</td>\n",
       "      <td>0.895447</td>\n",
       "      <td>16.904297</td>\n",
       "      <td>2.143149</td>\n",
       "      <td>127.092003</td>\n",
       "      <td>...</td>\n",
       "      <td>14.016835</td>\n",
       "      <td>-502.488007</td>\n",
       "      <td>12.099931</td>\n",
       "      <td>-504.715942</td>\n",
       "      <td>9.925633</td>\n",
       "      <td>-498.310211</td>\n",
       "      <td>8.079666</td>\n",
       "      <td>-500.470978</td>\n",
       "      <td>14.151341</td>\n",
       "      <td>-605.841980</td>\n",
       "    </tr>\n",
       "    <tr>\n",
       "      <th>2016-01-15 01:00:00</th>\n",
       "      <td>6.029369</td>\n",
       "      <td>9.968944</td>\n",
       "      <td>5.257781</td>\n",
       "      <td>42.701629</td>\n",
       "      <td>69.266198</td>\n",
       "      <td>10.462676</td>\n",
       "      <td>0.927452</td>\n",
       "      <td>16.634514</td>\n",
       "      <td>2.224930</td>\n",
       "      <td>125.629232</td>\n",
       "      <td>...</td>\n",
       "      <td>13.992281</td>\n",
       "      <td>-505.503262</td>\n",
       "      <td>11.950531</td>\n",
       "      <td>-501.331529</td>\n",
       "      <td>10.039245</td>\n",
       "      <td>-500.169983</td>\n",
       "      <td>7.984757</td>\n",
       "      <td>-500.582168</td>\n",
       "      <td>13.998353</td>\n",
       "      <td>-599.787184</td>\n",
       "    </tr>\n",
       "    <tr>\n",
       "      <th>2016-01-15 02:00:00</th>\n",
       "      <td>6.055926</td>\n",
       "      <td>10.213995</td>\n",
       "      <td>5.383759</td>\n",
       "      <td>42.657501</td>\n",
       "      <td>68.116445</td>\n",
       "      <td>10.507046</td>\n",
       "      <td>0.953716</td>\n",
       "      <td>16.208849</td>\n",
       "      <td>2.257889</td>\n",
       "      <td>123.819808</td>\n",
       "      <td>...</td>\n",
       "      <td>14.015015</td>\n",
       "      <td>-502.520901</td>\n",
       "      <td>11.912783</td>\n",
       "      <td>-501.133383</td>\n",
       "      <td>10.070913</td>\n",
       "      <td>-500.129135</td>\n",
       "      <td>8.013877</td>\n",
       "      <td>-500.517572</td>\n",
       "      <td>14.028663</td>\n",
       "      <td>-601.427363</td>\n",
       "    </tr>\n",
       "    <tr>\n",
       "      <th>2016-01-15 03:00:00</th>\n",
       "      <td>6.047977</td>\n",
       "      <td>9.977019</td>\n",
       "      <td>4.858634</td>\n",
       "      <td>42.689819</td>\n",
       "      <td>68.347543</td>\n",
       "      <td>10.422762</td>\n",
       "      <td>0.883763</td>\n",
       "      <td>16.532835</td>\n",
       "      <td>2.146849</td>\n",
       "      <td>122.270188</td>\n",
       "      <td>...</td>\n",
       "      <td>14.036510</td>\n",
       "      <td>-500.857308</td>\n",
       "      <td>11.999550</td>\n",
       "      <td>-501.193686</td>\n",
       "      <td>9.970366</td>\n",
       "      <td>-499.201640</td>\n",
       "      <td>7.977324</td>\n",
       "      <td>-500.255908</td>\n",
       "      <td>14.005551</td>\n",
       "      <td>-599.996129</td>\n",
       "    </tr>\n",
       "    <tr>\n",
       "      <th>2016-01-15 04:00:00</th>\n",
       "      <td>6.148599</td>\n",
       "      <td>10.142511</td>\n",
       "      <td>4.939416</td>\n",
       "      <td>42.774141</td>\n",
       "      <td>66.927016</td>\n",
       "      <td>10.360302</td>\n",
       "      <td>0.792826</td>\n",
       "      <td>16.525686</td>\n",
       "      <td>2.055292</td>\n",
       "      <td>117.988169</td>\n",
       "      <td>...</td>\n",
       "      <td>14.027298</td>\n",
       "      <td>-499.838632</td>\n",
       "      <td>11.953070</td>\n",
       "      <td>-501.053894</td>\n",
       "      <td>9.925709</td>\n",
       "      <td>-501.686727</td>\n",
       "      <td>7.894242</td>\n",
       "      <td>-500.356035</td>\n",
       "      <td>13.996647</td>\n",
       "      <td>-601.496691</td>\n",
       "    </tr>\n",
       "  </tbody>\n",
       "</table>\n",
       "<p>5 rows × 86 columns</p>\n",
       "</div>"
      ],
      "text/plain": [
       "                     final.output.concentrate_ag  final.output.concentrate_pb  \\\n",
       "date                                                                            \n",
       "2016-01-15 00:00:00                     6.055403                     9.889648   \n",
       "2016-01-15 01:00:00                     6.029369                     9.968944   \n",
       "2016-01-15 02:00:00                     6.055926                    10.213995   \n",
       "2016-01-15 03:00:00                     6.047977                     9.977019   \n",
       "2016-01-15 04:00:00                     6.148599                    10.142511   \n",
       "\n",
       "                     final.output.concentrate_sol  \\\n",
       "date                                                \n",
       "2016-01-15 00:00:00                      5.507324   \n",
       "2016-01-15 01:00:00                      5.257781   \n",
       "2016-01-15 02:00:00                      5.383759   \n",
       "2016-01-15 03:00:00                      4.858634   \n",
       "2016-01-15 04:00:00                      4.939416   \n",
       "\n",
       "                     final.output.concentrate_au  final.output.recovery  \\\n",
       "date                                                                      \n",
       "2016-01-15 00:00:00                    42.192020              70.541216   \n",
       "2016-01-15 01:00:00                    42.701629              69.266198   \n",
       "2016-01-15 02:00:00                    42.657501              68.116445   \n",
       "2016-01-15 03:00:00                    42.689819              68.347543   \n",
       "2016-01-15 04:00:00                    42.774141              66.927016   \n",
       "\n",
       "                     final.output.tail_ag  final.output.tail_pb  \\\n",
       "date                                                              \n",
       "2016-01-15 00:00:00             10.411962              0.895447   \n",
       "2016-01-15 01:00:00             10.462676              0.927452   \n",
       "2016-01-15 02:00:00             10.507046              0.953716   \n",
       "2016-01-15 03:00:00             10.422762              0.883763   \n",
       "2016-01-15 04:00:00             10.360302              0.792826   \n",
       "\n",
       "                     final.output.tail_sol  final.output.tail_au  \\\n",
       "date                                                               \n",
       "2016-01-15 00:00:00              16.904297              2.143149   \n",
       "2016-01-15 01:00:00              16.634514              2.224930   \n",
       "2016-01-15 02:00:00              16.208849              2.257889   \n",
       "2016-01-15 03:00:00              16.532835              2.146849   \n",
       "2016-01-15 04:00:00              16.525686              2.055292   \n",
       "\n",
       "                     primary_cleaner.input.sulfate  ...  \\\n",
       "date                                                ...   \n",
       "2016-01-15 00:00:00                     127.092003  ...   \n",
       "2016-01-15 01:00:00                     125.629232  ...   \n",
       "2016-01-15 02:00:00                     123.819808  ...   \n",
       "2016-01-15 03:00:00                     122.270188  ...   \n",
       "2016-01-15 04:00:00                     117.988169  ...   \n",
       "\n",
       "                     secondary_cleaner.state.floatbank4_a_air  \\\n",
       "date                                                            \n",
       "2016-01-15 00:00:00                                 14.016835   \n",
       "2016-01-15 01:00:00                                 13.992281   \n",
       "2016-01-15 02:00:00                                 14.015015   \n",
       "2016-01-15 03:00:00                                 14.036510   \n",
       "2016-01-15 04:00:00                                 14.027298   \n",
       "\n",
       "                     secondary_cleaner.state.floatbank4_a_level  \\\n",
       "date                                                              \n",
       "2016-01-15 00:00:00                                 -502.488007   \n",
       "2016-01-15 01:00:00                                 -505.503262   \n",
       "2016-01-15 02:00:00                                 -502.520901   \n",
       "2016-01-15 03:00:00                                 -500.857308   \n",
       "2016-01-15 04:00:00                                 -499.838632   \n",
       "\n",
       "                     secondary_cleaner.state.floatbank4_b_air  \\\n",
       "date                                                            \n",
       "2016-01-15 00:00:00                                 12.099931   \n",
       "2016-01-15 01:00:00                                 11.950531   \n",
       "2016-01-15 02:00:00                                 11.912783   \n",
       "2016-01-15 03:00:00                                 11.999550   \n",
       "2016-01-15 04:00:00                                 11.953070   \n",
       "\n",
       "                     secondary_cleaner.state.floatbank4_b_level  \\\n",
       "date                                                              \n",
       "2016-01-15 00:00:00                                 -504.715942   \n",
       "2016-01-15 01:00:00                                 -501.331529   \n",
       "2016-01-15 02:00:00                                 -501.133383   \n",
       "2016-01-15 03:00:00                                 -501.193686   \n",
       "2016-01-15 04:00:00                                 -501.053894   \n",
       "\n",
       "                     secondary_cleaner.state.floatbank5_a_air  \\\n",
       "date                                                            \n",
       "2016-01-15 00:00:00                                  9.925633   \n",
       "2016-01-15 01:00:00                                 10.039245   \n",
       "2016-01-15 02:00:00                                 10.070913   \n",
       "2016-01-15 03:00:00                                  9.970366   \n",
       "2016-01-15 04:00:00                                  9.925709   \n",
       "\n",
       "                     secondary_cleaner.state.floatbank5_a_level  \\\n",
       "date                                                              \n",
       "2016-01-15 00:00:00                                 -498.310211   \n",
       "2016-01-15 01:00:00                                 -500.169983   \n",
       "2016-01-15 02:00:00                                 -500.129135   \n",
       "2016-01-15 03:00:00                                 -499.201640   \n",
       "2016-01-15 04:00:00                                 -501.686727   \n",
       "\n",
       "                     secondary_cleaner.state.floatbank5_b_air  \\\n",
       "date                                                            \n",
       "2016-01-15 00:00:00                                  8.079666   \n",
       "2016-01-15 01:00:00                                  7.984757   \n",
       "2016-01-15 02:00:00                                  8.013877   \n",
       "2016-01-15 03:00:00                                  7.977324   \n",
       "2016-01-15 04:00:00                                  7.894242   \n",
       "\n",
       "                     secondary_cleaner.state.floatbank5_b_level  \\\n",
       "date                                                              \n",
       "2016-01-15 00:00:00                                 -500.470978   \n",
       "2016-01-15 01:00:00                                 -500.582168   \n",
       "2016-01-15 02:00:00                                 -500.517572   \n",
       "2016-01-15 03:00:00                                 -500.255908   \n",
       "2016-01-15 04:00:00                                 -500.356035   \n",
       "\n",
       "                     secondary_cleaner.state.floatbank6_a_air  \\\n",
       "date                                                            \n",
       "2016-01-15 00:00:00                                 14.151341   \n",
       "2016-01-15 01:00:00                                 13.998353   \n",
       "2016-01-15 02:00:00                                 14.028663   \n",
       "2016-01-15 03:00:00                                 14.005551   \n",
       "2016-01-15 04:00:00                                 13.996647   \n",
       "\n",
       "                     secondary_cleaner.state.floatbank6_a_level  \n",
       "date                                                             \n",
       "2016-01-15 00:00:00                                 -605.841980  \n",
       "2016-01-15 01:00:00                                 -599.787184  \n",
       "2016-01-15 02:00:00                                 -601.427363  \n",
       "2016-01-15 03:00:00                                 -599.996129  \n",
       "2016-01-15 04:00:00                                 -601.496691  \n",
       "\n",
       "[5 rows x 86 columns]"
      ]
     },
     "metadata": {},
     "output_type": "display_data"
    }
   ],
   "source": [
    "# Вывод общей информации и первых пяти строк датафреймов.\n",
    "print(\"\\033[1m\" 'Общая информация по датафрейму df_full и вывод первых пяти строк', \"\\033[0m\")\n",
    "df_full.info()\n",
    "display(df_full.head())\n",
    "print(\"\\033[1m\" 'Общая информация по датафрейму df_test и вывод первых пяти строк', \"\\033[0m\")\n",
    "df_test.info()\n",
    "display(df_test.head())\n",
    "print(\"\\033[1m\" 'Общая информация по датафрейму df_train и вывод первых пяти строк', \"\\033[0m\")\n",
    "df_train.info()\n",
    "display(df_train.head())"
   ]
  },
  {
   "cell_type": "markdown",
   "id": "7bd55993",
   "metadata": {},
   "source": [
    "<blockquote>\n",
    "<b>Выводы по разделу 1:</b>\n",
    " \n",
    "1. Присутствуют явные  пропуски данных.\n",
    "2. Названия столбцов в норме.\n",
    "3. В исходном и обучающем датафрейме присутствуют данные, которые могут быть причиной утечки целевых признаков. Далее эти данные будет необходимо удалить из обучающего датафрейма.\n",
    "4. Значения в столбцах имеют разный диапазон, поэтому их необходимо масштабировать (хотя это не обязательно для определенных моделей регрессии)\n",
    "</blockquote>"
   ]
  },
  {
   "cell_type": "markdown",
   "id": "6bd5325f-e4d9-4206-b24d-c1c3d4c4840b",
   "metadata": {},
   "source": [
    "## Предобработка данных"
   ]
  },
  {
   "cell_type": "markdown",
   "id": "e4de10bc",
   "metadata": {},
   "source": [
    "### Расчет rougher.output.recovery по данным обучающей выборки"
   ]
  },
  {
   "cell_type": "code",
   "execution_count": 100,
   "id": "f42484cf",
   "metadata": {},
   "outputs": [],
   "source": [
    "df_train['rougher.output.recovery_calculate'] = ((df_train['rougher.output.concentrate_au'] * (df_train['rougher.input.feed_au'] - df_train['rougher.output.tail_au'])) \n",
    "                                                 / (df_train['rougher.input.feed_au'] * (df_train['rougher.output.concentrate_au'] - df_train['rougher.output.tail_au']))) * 100"
   ]
  },
  {
   "cell_type": "code",
   "execution_count": 101,
   "id": "1572b607",
   "metadata": {},
   "outputs": [
    {
     "data": {
      "text/plain": [
       "9.73512347450521e-15"
      ]
     },
     "execution_count": 101,
     "metadata": {},
     "output_type": "execute_result"
    }
   ],
   "source": [
    "MAE = mean_absolute_error(df_train['rougher.output.recovery'], \n",
    "                          df_train['rougher.output.recovery_calculate'])\n",
    "MAE"
   ]
  },
  {
   "cell_type": "markdown",
   "id": "56f2eafc",
   "metadata": {},
   "source": [
    "<blockquote>\n",
    "<b>Выводы:</b>\n",
    " \n",
    "1. Значение средней абсолютной ошибки ничтожно, можно сказать, что величина rougher.output.recovery в обучающей выборке рассчитана правильно.\n",
    "</blockquote>"
   ]
  },
  {
   "cell_type": "markdown",
   "id": "770cf794",
   "metadata": {},
   "source": [
    "### Обзор состава данных обучающей выборки"
   ]
  },
  {
   "cell_type": "markdown",
   "id": "c11ca3b1-9088-4d04-ab6d-08002d344ad2",
   "metadata": {},
   "source": [
    "В обучающей выборке присутствуют данные, которые могут быть причиной утечки целевого признака, эти данные мы удалим, также в процессе удалим столбец date, которые содержит информацию не требующуюся для обучения модели."
   ]
  },
  {
   "cell_type": "markdown",
   "id": "7fc7a31e",
   "metadata": {},
   "source": [
    "### Предобработка данных"
   ]
  },
  {
   "cell_type": "markdown",
   "id": "23a2f6c6",
   "metadata": {},
   "source": [
    "#### Обработка пропусков"
   ]
  },
  {
   "cell_type": "markdown",
   "id": "7ec54e6e",
   "metadata": {},
   "source": [
    "*Заполним пропуски данных в выборке df_full следующим значением стоящим после пропущенного. Затем восстановим пропуски данных в df_train и df_test по данным df_full.*"
   ]
  },
  {
   "cell_type": "code",
   "execution_count": 102,
   "id": "92bd04aa",
   "metadata": {},
   "outputs": [],
   "source": [
    "#Заполнение пропусков предыдущим значением\n",
    "df_full = df_full.fillna(method=\"bfill\")"
   ]
  },
  {
   "cell_type": "code",
   "execution_count": 103,
   "id": "3eea71a3",
   "metadata": {},
   "outputs": [],
   "source": [
    "ind_train_na = df_train[df_train.isnull().any(axis=1)].index\n",
    "ind_test_na = df_test[df_test.isnull().any(axis=1)].index"
   ]
  },
  {
   "cell_type": "code",
   "execution_count": 104,
   "id": "58f73fe9-88f8-4ac1-8629-399c49db82fa",
   "metadata": {},
   "outputs": [],
   "source": [
    "#Функция заполнения пропусков в выборках на основе данных df_full\n",
    "def fill_na_from_df_full(data_with_na, df_full, index_na):\n",
    "    for index in index_na:\n",
    "        for column in data_with_na.columns:\n",
    "            value = data_with_na[column][index]\n",
    "            #Определение пропуска\n",
    "            if pd.isna(value):\n",
    "                #Замена пропуска значением из df_full\n",
    "                data_with_na.loc[index, column] = df_full.loc[index, column]\n",
    "    return data_with_na"
   ]
  },
  {
   "cell_type": "code",
   "execution_count": 105,
   "id": "56030371-1de3-4e3a-8306-295db3b1405c",
   "metadata": {},
   "outputs": [],
   "source": [
    "#Заполнение пропусков в тестовой выборке\n",
    "df_test = fill_na_from_df_full(df_test, df_full, ind_test_na)"
   ]
  },
  {
   "cell_type": "code",
   "execution_count": 106,
   "id": "4e492063-dee4-4b7b-8468-5f253ff73d89",
   "metadata": {},
   "outputs": [],
   "source": [
    "#Заполнение пропусков в обучающей выборке\n",
    "df_train = fill_na_from_df_full(df_train, df_full, ind_train_na)"
   ]
  },
  {
   "cell_type": "code",
   "execution_count": 107,
   "id": "0a155db4-0519-4db0-bfe6-f3e10d61d296",
   "metadata": {},
   "outputs": [
    {
     "name": "stdout",
     "output_type": "stream",
     "text": [
      "0\n",
      "0\n"
     ]
    }
   ],
   "source": [
    "#Проверка наличия пропусков в обучающей и тестовой выборках. Должны быть нолики.\n",
    "print(df_train.isna().sum().sum())\n",
    "print(df_test.isna().sum().sum())"
   ]
  },
  {
   "cell_type": "markdown",
   "id": "6ffcc869",
   "metadata": {},
   "source": [
    "<blockquote>\n",
    "<b>Выводы:</b>\n",
    " \n",
    "1. Произведена замена пропусков в выборках.\n",
    "</blockquote>"
   ]
  },
  {
   "cell_type": "markdown",
   "id": "a7f75ba2",
   "metadata": {},
   "source": [
    "#### Проверка на дупликаты"
   ]
  },
  {
   "cell_type": "code",
   "execution_count": 108,
   "id": "4a800085",
   "metadata": {},
   "outputs": [
    {
     "name": "stdout",
     "output_type": "stream",
     "text": [
      "Количество дупликатов: 0\n",
      "Количество дупликатов: 0\n",
      "Количество дупликатов: 0\n"
     ]
    }
   ],
   "source": [
    "#Проверка на дупликаты.\n",
    "print(f'Количество дупликатов: {df_full.duplicated().sum()}')\n",
    "print(f'Количество дупликатов: {df_train.duplicated().sum()}')\n",
    "print(f'Количество дупликатов: {df_test.duplicated().sum()}')"
   ]
  },
  {
   "cell_type": "markdown",
   "id": "369c46f6",
   "metadata": {},
   "source": [
    "<blockquote>\n",
    "<b>Выводы:</b>\n",
    " \n",
    "1. Дупликатов нет в исходной выборке, обучающей и тестовой. Данные получены и преобразованы без ошибочного копирования записей.\n",
    "</blockquote>"
   ]
  },
  {
   "cell_type": "markdown",
   "id": "5c1b5b81",
   "metadata": {},
   "source": [
    "## Анализ данных"
   ]
  },
  {
   "cell_type": "markdown",
   "id": "6663f4c3",
   "metadata": {},
   "source": [
    "### Анализ изменения концентраций металлов на разных стадиях технологического процесса"
   ]
  },
  {
   "cell_type": "markdown",
   "id": "4e01b69f",
   "metadata": {},
   "source": [
    "#### Проверка наличия выбросов"
   ]
  },
  {
   "cell_type": "markdown",
   "id": "0ce57a87",
   "metadata": {},
   "source": [
    "**Золото**"
   ]
  },
  {
   "cell_type": "code",
   "execution_count": 109,
   "id": "1b8b5252",
   "metadata": {
    "scrolled": true
   },
   "outputs": [
    {
     "data": {
      "image/png": "[encoded data removed]",
      "text/plain": [
       "<Figure size 1152x288 with 4 Axes>"
      ]
     },
     "metadata": {},
     "output_type": "display_data"
    }
   ],
   "source": [
    "sns.set(rc={'figure.figsize':(16, 4)})\n",
    "\n",
    "plt.subplot(1, 4, 1)\n",
    "sns.boxplot(data=df_full['rougher.input.feed_au'])\n",
    "plt.title('Концентрация золота')\n",
    "plt.xlabel('Исходное сырье')\n",
    "plt.ylabel('%')\n",
    "\n",
    "plt.subplot(1, 4, 2)\n",
    "sns.boxplot(data=df_full['rougher.output.concentrate_au'])\n",
    "plt.title('Концентрация золота')\n",
    "plt.xlabel('Флотация')\n",
    "plt.ylabel('%')\n",
    "\n",
    "plt.subplot(1, 4, 3)\n",
    "sns.boxplot(data=df_full['primary_cleaner.output.concentrate_au'])\n",
    "plt.title('Концентрация золота')\n",
    "plt.xlabel('Первичная очистка')\n",
    "plt.ylabel('%')\n",
    "\n",
    "plt.subplot(1, 4, 4)\n",
    "sns.boxplot(data=df_full['final.output.concentrate_au'])\n",
    "plt.title('Концентрация золота')\n",
    "plt.xlabel('Вторичная очистка')\n",
    "plt.ylabel('%')\n",
    "\n",
    "plt.show()"
   ]
  },
  {
   "cell_type": "markdown",
   "id": "0dd9a617",
   "metadata": {},
   "source": [
    "**Серебро**"
   ]
  },
  {
   "cell_type": "code",
   "execution_count": 110,
   "id": "8f3c116d",
   "metadata": {
    "scrolled": true
   },
   "outputs": [
    {
     "data": {
      "image/png": "[encoded data removed]",
      "text/plain": [
       "<Figure size 1152x288 with 4 Axes>"
      ]
     },
     "metadata": {},
     "output_type": "display_data"
    }
   ],
   "source": [
    "sns.set(rc={'figure.figsize':(16, 4)})\n",
    "\n",
    "plt.subplot(1, 4, 1)\n",
    "sns.boxplot(data=df_full['rougher.input.feed_ag'])\n",
    "plt.title('Концентрация серебра')\n",
    "plt.xlabel('Исходное сырье')\n",
    "plt.ylabel('%')\n",
    "\n",
    "plt.subplot(1, 4, 2)\n",
    "sns.boxplot(data=df_full['rougher.output.concentrate_ag'])\n",
    "plt.title('Концентрация серебра')\n",
    "plt.xlabel('Флотация')\n",
    "plt.ylabel('%')\n",
    "\n",
    "plt.subplot(1, 4, 3)\n",
    "sns.boxplot(data=df_full['primary_cleaner.output.concentrate_ag'])\n",
    "plt.title('Концентрация серебра')\n",
    "plt.xlabel('Первичная очистка')\n",
    "plt.ylabel('%')\n",
    "\n",
    "plt.subplot(1, 4, 4)\n",
    "sns.boxplot(data=df_full['final.output.concentrate_ag'])\n",
    "plt.title('Концентрация серебра')\n",
    "plt.xlabel('Вторичная очистка')\n",
    "plt.ylabel('%')\n",
    "\n",
    "plt.show()"
   ]
  },
  {
   "cell_type": "markdown",
   "id": "778c3c5d",
   "metadata": {},
   "source": [
    "**Свинец**"
   ]
  },
  {
   "cell_type": "code",
   "execution_count": 111,
   "id": "fe29d653",
   "metadata": {},
   "outputs": [
    {
     "data": {
      "image/png": "[encoded data removed]",
      "text/plain": [
       "<Figure size 1152x288 with 4 Axes>"
      ]
     },
     "metadata": {},
     "output_type": "display_data"
    }
   ],
   "source": [
    "sns.set(rc={'figure.figsize':(16, 4)})\n",
    "\n",
    "plt.subplot(1, 4, 1)\n",
    "sns.boxplot(data=df_full['rougher.input.feed_pb'])\n",
    "plt.title('Концентрация свинца')\n",
    "plt.xlabel('Исходное сырье')\n",
    "plt.ylabel('%')\n",
    "\n",
    "plt.subplot(1, 4, 2)\n",
    "sns.boxplot(data=df_full['rougher.output.concentrate_pb'])\n",
    "plt.title('Концентрация свинца')\n",
    "plt.xlabel('Флотация')\n",
    "plt.ylabel('%')\n",
    "\n",
    "plt.subplot(1, 4, 3)\n",
    "sns.boxplot(data=df_full['primary_cleaner.output.concentrate_pb'])\n",
    "plt.title('Концентрация свинца')\n",
    "plt.xlabel('Первичная очистка')\n",
    "plt.ylabel('%')\n",
    "\n",
    "plt.subplot(1, 4, 4)\n",
    "sns.boxplot(data=df_full['final.output.concentrate_pb'])\n",
    "plt.title('Концентрация свинца')\n",
    "plt.xlabel('Вторичная очистка')\n",
    "plt.ylabel('%')\n",
    "\n",
    "plt.show()"
   ]
  },
  {
   "cell_type": "markdown",
   "id": "8727997e",
   "metadata": {},
   "source": [
    "<blockquote>\n",
    "<b>Выводы:</b>\n",
    " \n",
    "1. Присутствуют выбросы по всем металлам, но на данный момент однозначно нельзя сказать, какова природа этих выбросов. Выбросы могут быть получены в результате ошибочных измерений или других факторов. В данном случае более вероятно, что это не выбросы, а фактические показатели отражающие особенности технологического процесса. Например, поступило исходное сырье с низким содержанием целевого  компонента, или с высоким побочным.\n",
    "\n",
    "</blockquote>"
   ]
  },
  {
   "cell_type": "markdown",
   "id": "15f8e695",
   "metadata": {},
   "source": [
    "#### Медианные концентрации металлов и растворителя по стадиям"
   ]
  },
  {
   "cell_type": "code",
   "execution_count": 112,
   "id": "542a493a",
   "metadata": {},
   "outputs": [],
   "source": [
    "#Наименования технологических стадий\n",
    "stage = ['исходное сырье', 'флотация', 'первичная очистка', 'вторичная очистка']"
   ]
  },
  {
   "cell_type": "markdown",
   "id": "29f3f5b6",
   "metadata": {},
   "source": [
    "*Концентрация золота по стадиям*"
   ]
  },
  {
   "cell_type": "code",
   "execution_count": 113,
   "id": "553a4b53",
   "metadata": {},
   "outputs": [],
   "source": [
    "concentrate_au = [df_full['rougher.input.feed_au'].median(),\n",
    "                 df_full['rougher.output.concentrate_au'].median(),\n",
    "                 df_full['primary_cleaner.output.concentrate_au'].median(),\n",
    "                 df_full['final.output.concentrate_au'].median()]\n",
    "#concentrate_au"
   ]
  },
  {
   "cell_type": "markdown",
   "id": "c3b3fce7",
   "metadata": {},
   "source": [
    "*Концентрация серебра по стадиям*"
   ]
  },
  {
   "cell_type": "code",
   "execution_count": 114,
   "id": "6ac29a7a",
   "metadata": {},
   "outputs": [],
   "source": [
    "concentrate_ag = [df_full['rougher.input.feed_ag'].median(),\n",
    "                 df_full['rougher.output.concentrate_ag'].median(),\n",
    "                 df_full['primary_cleaner.output.concentrate_ag'].median(),\n",
    "                 df_full['final.output.concentrate_ag'].median()]\n",
    "#concentrate_ag"
   ]
  },
  {
   "cell_type": "markdown",
   "id": "adb55ce7",
   "metadata": {},
   "source": [
    "*Концентрация свинца по стадиям*"
   ]
  },
  {
   "cell_type": "code",
   "execution_count": 115,
   "id": "0e572263",
   "metadata": {},
   "outputs": [],
   "source": [
    "concentrate_pb = [df_full['rougher.input.feed_pb'].median(),\n",
    "                 df_full['rougher.output.concentrate_pb'].median(),\n",
    "                 df_full['primary_cleaner.output.concentrate_pb'].median(),\n",
    "                 df_full['final.output.concentrate_pb'].median()]\n",
    "#concentrate_pb"
   ]
  },
  {
   "cell_type": "markdown",
   "id": "2fc9921b",
   "metadata": {},
   "source": [
    "*Концентрация растворителя по стадиям*"
   ]
  },
  {
   "cell_type": "code",
   "execution_count": 116,
   "id": "1c539891",
   "metadata": {},
   "outputs": [],
   "source": [
    "concentrate_sol = [df_full['rougher.input.feed_sol'].median(),\n",
    "                 df_full['rougher.output.concentrate_sol'].median(),\n",
    "                 df_full['primary_cleaner.output.concentrate_sol'].median(),\n",
    "                 df_full['final.output.concentrate_sol'].median()]\n",
    "#concentrate_pb"
   ]
  },
  {
   "cell_type": "code",
   "execution_count": 117,
   "id": "e0396d35",
   "metadata": {},
   "outputs": [],
   "source": [
    "#Здание оси X\n",
    "X_axis = np.arange(len(stage))"
   ]
  },
  {
   "cell_type": "code",
   "execution_count": 118,
   "id": "d0128f33",
   "metadata": {},
   "outputs": [
    {
     "data": {
      "image/png": "[encoded data removed]",
      "text/plain": [
       "<Figure size 576x360 with 1 Axes>"
      ]
     },
     "metadata": {},
     "output_type": "display_data"
    }
   ],
   "source": [
    "plt.figure(figsize=[8, 5])\n",
    "plt.grid(True)\n",
    "plt.bar(X_axis, concentrate_au, 0.2, label = 'Золото, %')\n",
    "plt.bar(X_axis + 0.2, concentrate_ag, 0.2, label = 'Серебро, %')\n",
    "plt.bar(X_axis + 0.4, concentrate_pb, 0.2, label = 'Свинец, %')\n",
    "plt.bar(X_axis + 0.6, concentrate_sol, 0.2, label = 'Растворитель, %')\n",
    "\n",
    "\n",
    "plt.xticks(X_axis+0.3, stage)\n",
    "plt.xlabel(\"Стадия технологического процесса\")\n",
    "plt.ylabel(\"Содержание, %\")\n",
    "plt.title(\"Концентрация металлов по стадиям\")\n",
    "plt.legend()\n",
    "plt.show()"
   ]
  },
  {
   "cell_type": "markdown",
   "id": "939661a1",
   "metadata": {},
   "source": [
    "<blockquote>\n",
    "<b>Выводы:</b>\n",
    " \n",
    "1. Концентрация золота на каждой стадии увеличивается примерно на 10-12 % с 6 до 43 %.\n",
    "2. Концентрация серебра увеличивается на стадии флотации, затем ее доля в обогащенном материле снижается и остается на уровне 6-7 %.\n",
    "3. Концентрация свинца также возрастает на стадии флотации до 7 % и к концу технологического процесса достигает примерно 10 %.\n",
    "4. С ростом содержания металлов доля растворителя падает.\n",
    "</blockquote>"
   ]
  },
  {
   "cell_type": "markdown",
   "id": "8c7fc0b5",
   "metadata": {},
   "source": [
    "### Анализ распределения размеров гранул сырья в обучающей и тестовой выборках"
   ]
  },
  {
   "cell_type": "code",
   "execution_count": 119,
   "id": "2d5d31ed",
   "metadata": {
    "scrolled": true
   },
   "outputs": [
    {
     "data": {
      "image/png": "[encoded data removed]",
      "text/plain": [
       "<Figure size 576x360 with 1 Axes>"
      ]
     },
     "metadata": {},
     "output_type": "display_data"
    }
   ],
   "source": [
    "plt.figure(figsize=[8, 5])\n",
    "df_train['rougher.input.feed_size'].hist(bins=50, label = 'размер исходного  сырья обучающей выборки')\n",
    "df_test['rougher.input.feed_size'].hist(bins=50, label = 'размер исходного сырья тестовой выборки')\n",
    "plt.xlabel(\"Размер, мкм\")\n",
    "plt.ylabel(\"Частота\")\n",
    "plt.title(\"Распределение размеров гранул сырья\")\n",
    "plt.legend()\n",
    "plt.show()"
   ]
  },
  {
   "cell_type": "code",
   "execution_count": 120,
   "id": "144ddaf2",
   "metadata": {},
   "outputs": [
    {
     "data": {
      "image/png": "[encoded data removed]",
      "text/plain": [
       "<Figure size 576x288 with 2 Axes>"
      ]
     },
     "metadata": {},
     "output_type": "display_data"
    }
   ],
   "source": [
    "sns.set(rc={'figure.figsize':(8, 4)})\n",
    "\n",
    "plt.subplot(1, 2, 1)\n",
    "sns.boxplot(data=df_train['rougher.input.feed_size'])\n",
    "plt.title('Распределение частиц')\n",
    "plt.xlabel('Исходное сырье в обучающей выборке')\n",
    "plt.ylabel('мкм')\n",
    "\n",
    "plt.subplot(1, 2, 2)\n",
    "sns.boxplot(data=df_test['rougher.input.feed_size'])\n",
    "plt.title('Распределение частиц')\n",
    "plt.xlabel('Исходное сырье в тестовой выборке')\n",
    "plt.ylabel('мкм')\n",
    "\n",
    "plt.show()"
   ]
  },
  {
   "cell_type": "markdown",
   "id": "35fbc648",
   "metadata": {},
   "source": [
    "<blockquote>\n",
    "<b>Выводы:</b>\n",
    " \n",
    "1. Тип распределения размеров исходного сырья в обучающей и тестовой выборке вцелом одинаковы. Распределение походит на нормальное скошенное вправо, при этом также тестовую выборку можно охарактеризовать распределение Пирсона из-за наличия большой доли мелкой фракции.\n",
    "2. Согласно статистикам средний размер исходного сырья представленный в тестовой выборке немного меньше, чем в обучающей. Данный факт может несколько повлиять на качество предсказания обученной модели.\n",
    "3. Присутствуют выбросы в данных, но вероятно это не выбросы а фактические показатели сырья (нестабильное качество). \n",
    "\n",
    "</blockquote>"
   ]
  },
  {
   "cell_type": "markdown",
   "id": "c18b0802",
   "metadata": {},
   "source": [
    "### Анализ сумарной концентрации всех веществ на разных стадиях в сырье, в черновом и финальном концентратах."
   ]
  },
  {
   "cell_type": "markdown",
   "id": "6c24a967",
   "metadata": {},
   "source": [
    "*Суммарная концентрация веществ по стадиям*"
   ]
  },
  {
   "cell_type": "code",
   "execution_count": 121,
   "id": "d1c30ea8",
   "metadata": {},
   "outputs": [],
   "source": [
    "#Исходное сырье\n",
    "df_full['rougher_input_feed_all'] = df_full[['rougher.input.feed_ag', \n",
    "                                             'rougher.input.feed_pb', \n",
    "                                             'rougher.input.feed_au', \n",
    "                                             'rougher.input.feed_sol']].sum(axis=1)\n",
    "#После флотации\n",
    "df_full['rougher_output_concentrate_all'] = df_full[['rougher.output.concentrate_ag', \n",
    "                                                     'rougher.output.concentrate_pb', \n",
    "                                                     'rougher.output.concentrate_au',\n",
    "                                                     'rougher.output.concentrate_sol']].sum(axis=1)\n",
    "#После первичной очистки\n",
    "df_full['primary_output_concentrate_all'] = df_full[['primary_cleaner.output.concentrate_ag', \n",
    "                                                     'primary_cleaner.output.concentrate_pb', \n",
    "                                                     'primary_cleaner.output.concentrate_au',\n",
    "                                                     'primary_cleaner.output.concentrate_sol']].sum(axis=1)\n",
    "#После вторичной очистки\n",
    "df_full['final_output_concentrate_all'] = df_full[['final.output.concentrate_ag', \n",
    "                                                   'final.output.concentrate_pb', \n",
    "                                                   'final.output.concentrate_au',\n",
    "                                                   'final.output.concentrate_sol']].sum(axis=1)\n"
   ]
  },
  {
   "cell_type": "code",
   "execution_count": 122,
   "id": "2a54841d",
   "metadata": {},
   "outputs": [
    {
     "data": {
      "image/png": "[encoded data removed]",
      "text/plain": [
       "<Figure size 864x432 with 1 Axes>"
      ]
     },
     "metadata": {},
     "output_type": "display_data"
    }
   ],
   "source": [
    "#График распределения суммарных концентраций\n",
    "fig, ax = plt.subplots(figsize=(12, 6))\n",
    "ax = sns.distplot(df_full['rougher_input_feed_all'], label='Исходное сырье')\n",
    "ax = sns.distplot(df_full['rougher_output_concentrate_all'], label='После флотации')\n",
    "ax = sns.distplot(df_full['primary_output_concentrate_all'], label='После первичной очистки')\n",
    "ax = sns.distplot(df_full['final_output_concentrate_all'], label='После вторичной очистки')\n",
    "ax.legend()\n",
    "ax.set_xlabel('Концентрация, %')\n",
    "ax.set_ylabel('Частота')\n",
    "ax.set_title('Распределение суммарных концентраций по стадиям технологического процесса')\n",
    "fig.show()"
   ]
  },
  {
   "cell_type": "markdown",
   "id": "d7e60724",
   "metadata": {},
   "source": [
    "**Warning!**\n",
    "*Наблюдаются нулевые суммарные концентрации веществ по стадиям процесса обогащения. В данном случае суммарный ноль, по словам наших технологов может быть получен в результате ошибочных измерений. Использование подобных данных может понизить качество обучения модели, так как она будет стараться учесть данную информацию в предложенных коэффициентах.\n",
    "Подобную аномалию необходимо удалить!*"
   ]
  },
  {
   "cell_type": "markdown",
   "id": "8824809e",
   "metadata": {},
   "source": [
    "#### Удаление аномальных значений"
   ]
  },
  {
   "cell_type": "code",
   "execution_count": 123,
   "id": "0c5eb1eb",
   "metadata": {},
   "outputs": [],
   "source": [
    "#Индексы нулей\n",
    "idx_1 = df_full[df_full['rougher_input_feed_all'] == 0].index\n",
    "idx_2 = df_full[df_full['rougher_output_concentrate_all'] == 0].index\n",
    "idx_3 = df_full[df_full['primary_output_concentrate_all'] == 0].index\n",
    "idx_4 = df_full[df_full['final_output_concentrate_all'] == 0].index"
   ]
  },
  {
   "cell_type": "code",
   "execution_count": 124,
   "id": "830cdb00",
   "metadata": {},
   "outputs": [],
   "source": [
    "#Сведение всех индексов\n",
    "idx = idx_1 | idx_2 | idx_3 | idx_4"
   ]
  },
  {
   "cell_type": "code",
   "execution_count": 125,
   "id": "39686486-aa7f-49e1-87f9-9135c2819955",
   "metadata": {},
   "outputs": [],
   "source": [
    "#Переприсваивание датафреймов с исключением индексов нулевых ячеек\n",
    "df_train = df_train[~df_train.index.isin(idx)]\n",
    "df_test = df_test[~df_test.index.isin(idx)]"
   ]
  },
  {
   "cell_type": "code",
   "execution_count": 126,
   "id": "b0e477e3",
   "metadata": {},
   "outputs": [
    {
     "name": "stdout",
     "output_type": "stream",
     "text": [
      "(13725, 87)\n",
      "(5123, 52)\n"
     ]
    }
   ],
   "source": [
    "print(df_train.shape)\n",
    "print(df_test.shape)"
   ]
  },
  {
   "cell_type": "markdown",
   "id": "d4b95497",
   "metadata": {},
   "source": [
    "## Разработка модели процесса обогащения золотосодержащего сырья"
   ]
  },
  {
   "cell_type": "markdown",
   "id": "2ee76bd2",
   "metadata": {},
   "source": [
    "*Согласно условию задачи разделим исходные выборки на признаки и целевые признаки. Прогнозирование концентрации золота после флотации и вторичной очистки будем делать отдельно. В обучающую выборку для процесса флотации поместим соответствующие данные процесса флотации, а в обучающую выборку по всему процессу поместим данные по всем трем технологическим стадиям.*"
   ]
  },
  {
   "cell_type": "markdown",
   "id": "df04d84a-cb09-4d6e-8d61-93fb550f27fc",
   "metadata": {},
   "source": [
    "**Обучающая выборка:**\n",
    "\n",
    "**Признаки:**\n",
    "\n",
    "features_train_rougher\n",
    "\n",
    "features_train_final\n",
    "\n",
    "**Целевые признаки:**\n",
    "\n",
    "target_train_rougher \n",
    "\n",
    "target_train_final \n",
    "\n",
    "**Тестовая выборка:**\n",
    "\n",
    "**Признаки:**\n",
    "\n",
    "features_test_rougher\n",
    "\n",
    "features_test_final\n",
    "\n",
    "**Целевые признаки:**\n",
    "\n",
    "target_test_rougher\n",
    "\n",
    "target_test_final\n",
    "\n"
   ]
  },
  {
   "cell_type": "markdown",
   "id": "4c598816",
   "metadata": {},
   "source": [
    "### Подготовка выборок целевых признаков"
   ]
  },
  {
   "cell_type": "markdown",
   "id": "494cfadf",
   "metadata": {},
   "source": [
    "*Целевой признак тренировочной выборки для стадии флотации*"
   ]
  },
  {
   "cell_type": "code",
   "execution_count": 127,
   "id": "164e970a",
   "metadata": {},
   "outputs": [
    {
     "data": {
      "text/plain": [
       "(13725,)"
      ]
     },
     "execution_count": 127,
     "metadata": {},
     "output_type": "execute_result"
    }
   ],
   "source": [
    "#Целевой признак\n",
    "target_train_rougher = df_train['rougher.output.recovery']\n",
    "target_train_rougher.shape"
   ]
  },
  {
   "cell_type": "markdown",
   "id": "3a8a3c93",
   "metadata": {},
   "source": [
    "*Целевой признак тренировочной выборки для стадии очистки*"
   ]
  },
  {
   "cell_type": "code",
   "execution_count": 128,
   "id": "4e4ef228",
   "metadata": {},
   "outputs": [
    {
     "data": {
      "text/plain": [
       "(13725,)"
      ]
     },
     "execution_count": 128,
     "metadata": {},
     "output_type": "execute_result"
    }
   ],
   "source": [
    "#Целевой признак\n",
    "target_train_final = df_train['final.output.recovery']\n",
    "target_train_final.shape"
   ]
  },
  {
   "cell_type": "markdown",
   "id": "f1fd5849-1ef8-4596-8536-656010ef945d",
   "metadata": {},
   "source": [
    "*Целевой признак тестовой выборки для флотации*"
   ]
  },
  {
   "cell_type": "code",
   "execution_count": 129,
   "id": "d748f8a7-1336-4b2c-907f-fb9f691751ea",
   "metadata": {},
   "outputs": [
    {
     "data": {
      "text/plain": [
       "(5123,)"
      ]
     },
     "execution_count": 129,
     "metadata": {},
     "output_type": "execute_result"
    }
   ],
   "source": [
    "#Целевой признак\n",
    "target_test_rougher = pd.Series(df_full['rougher.output.recovery'], index=df_test.index)\n",
    "target_test_rougher.shape"
   ]
  },
  {
   "cell_type": "markdown",
   "id": "07d0afcb-5452-4bfb-89d6-e2f05c9dc3ea",
   "metadata": {},
   "source": [
    "*Целевой признак тестовой выборки для стадии очистки*"
   ]
  },
  {
   "cell_type": "code",
   "execution_count": 130,
   "id": "136a4b3f-c59e-4925-9ad9-18cc3a7a6cd8",
   "metadata": {},
   "outputs": [
    {
     "data": {
      "text/plain": [
       "(5123,)"
      ]
     },
     "execution_count": 130,
     "metadata": {},
     "output_type": "execute_result"
    }
   ],
   "source": [
    "#Целевой признак\n",
    "target_test_final = pd.Series(df_full['final.output.recovery'], index=df_test.index)\n",
    "target_test_final.shape"
   ]
  },
  {
   "cell_type": "code",
   "execution_count": 131,
   "id": "b9b8d251",
   "metadata": {},
   "outputs": [
    {
     "data": {
      "text/html": [
       "<div>\n",
       "<style scoped>\n",
       "    .dataframe tbody tr th:only-of-type {\n",
       "        vertical-align: middle;\n",
       "    }\n",
       "\n",
       "    .dataframe tbody tr th {\n",
       "        vertical-align: top;\n",
       "    }\n",
       "\n",
       "    .dataframe thead th {\n",
       "        text-align: right;\n",
       "    }\n",
       "</style>\n",
       "<table border=\"1\" class=\"dataframe\">\n",
       "  <thead>\n",
       "    <tr style=\"text-align: right;\">\n",
       "      <th></th>\n",
       "      <th>primary_cleaner.input.sulfate</th>\n",
       "      <th>primary_cleaner.input.depressant</th>\n",
       "      <th>primary_cleaner.input.feed_size</th>\n",
       "      <th>primary_cleaner.input.xanthate</th>\n",
       "      <th>primary_cleaner.state.floatbank8_a_air</th>\n",
       "      <th>primary_cleaner.state.floatbank8_a_level</th>\n",
       "      <th>primary_cleaner.state.floatbank8_b_air</th>\n",
       "      <th>primary_cleaner.state.floatbank8_b_level</th>\n",
       "      <th>primary_cleaner.state.floatbank8_c_air</th>\n",
       "      <th>primary_cleaner.state.floatbank8_c_level</th>\n",
       "      <th>...</th>\n",
       "      <th>secondary_cleaner.state.floatbank4_a_air</th>\n",
       "      <th>secondary_cleaner.state.floatbank4_a_level</th>\n",
       "      <th>secondary_cleaner.state.floatbank4_b_air</th>\n",
       "      <th>secondary_cleaner.state.floatbank4_b_level</th>\n",
       "      <th>secondary_cleaner.state.floatbank5_a_air</th>\n",
       "      <th>secondary_cleaner.state.floatbank5_a_level</th>\n",
       "      <th>secondary_cleaner.state.floatbank5_b_air</th>\n",
       "      <th>secondary_cleaner.state.floatbank5_b_level</th>\n",
       "      <th>secondary_cleaner.state.floatbank6_a_air</th>\n",
       "      <th>secondary_cleaner.state.floatbank6_a_level</th>\n",
       "    </tr>\n",
       "    <tr>\n",
       "      <th>date</th>\n",
       "      <th></th>\n",
       "      <th></th>\n",
       "      <th></th>\n",
       "      <th></th>\n",
       "      <th></th>\n",
       "      <th></th>\n",
       "      <th></th>\n",
       "      <th></th>\n",
       "      <th></th>\n",
       "      <th></th>\n",
       "      <th></th>\n",
       "      <th></th>\n",
       "      <th></th>\n",
       "      <th></th>\n",
       "      <th></th>\n",
       "      <th></th>\n",
       "      <th></th>\n",
       "      <th></th>\n",
       "      <th></th>\n",
       "      <th></th>\n",
       "      <th></th>\n",
       "    </tr>\n",
       "  </thead>\n",
       "  <tbody>\n",
       "    <tr>\n",
       "      <th>2017-12-31 21:59:59</th>\n",
       "      <td>171.135718</td>\n",
       "      <td>15.993669</td>\n",
       "      <td>8.07</td>\n",
       "      <td>1.165996</td>\n",
       "      <td>1498.836182</td>\n",
       "      <td>-501.770403</td>\n",
       "      <td>1499.572353</td>\n",
       "      <td>-495.516347</td>\n",
       "      <td>1502.749213</td>\n",
       "      <td>-520.667442</td>\n",
       "      <td>...</td>\n",
       "      <td>19.994130</td>\n",
       "      <td>-499.791312</td>\n",
       "      <td>15.101425</td>\n",
       "      <td>-499.936252</td>\n",
       "      <td>10.989181</td>\n",
       "      <td>-498.347898</td>\n",
       "      <td>9.020944</td>\n",
       "      <td>-500.040448</td>\n",
       "      <td>8.982038</td>\n",
       "      <td>-497.789882</td>\n",
       "    </tr>\n",
       "    <tr>\n",
       "      <th>2017-12-31 22:59:59</th>\n",
       "      <td>179.697158</td>\n",
       "      <td>15.438979</td>\n",
       "      <td>8.07</td>\n",
       "      <td>1.501068</td>\n",
       "      <td>1498.466243</td>\n",
       "      <td>-500.483984</td>\n",
       "      <td>1497.986986</td>\n",
       "      <td>-519.200340</td>\n",
       "      <td>1496.569047</td>\n",
       "      <td>-487.479567</td>\n",
       "      <td>...</td>\n",
       "      <td>19.958760</td>\n",
       "      <td>-499.958750</td>\n",
       "      <td>15.026853</td>\n",
       "      <td>-499.723143</td>\n",
       "      <td>11.011607</td>\n",
       "      <td>-499.985046</td>\n",
       "      <td>9.009783</td>\n",
       "      <td>-499.937902</td>\n",
       "      <td>9.012660</td>\n",
       "      <td>-500.154284</td>\n",
       "    </tr>\n",
       "    <tr>\n",
       "      <th>2017-12-31 23:59:59</th>\n",
       "      <td>181.556856</td>\n",
       "      <td>14.995850</td>\n",
       "      <td>8.07</td>\n",
       "      <td>1.623454</td>\n",
       "      <td>1498.096303</td>\n",
       "      <td>-499.796922</td>\n",
       "      <td>1501.743791</td>\n",
       "      <td>-505.146931</td>\n",
       "      <td>1499.535978</td>\n",
       "      <td>-492.428226</td>\n",
       "      <td>...</td>\n",
       "      <td>20.034715</td>\n",
       "      <td>-500.728588</td>\n",
       "      <td>14.914199</td>\n",
       "      <td>-499.948518</td>\n",
       "      <td>10.986607</td>\n",
       "      <td>-500.658027</td>\n",
       "      <td>8.989497</td>\n",
       "      <td>-500.337588</td>\n",
       "      <td>8.988632</td>\n",
       "      <td>-500.764937</td>\n",
       "    </tr>\n",
       "  </tbody>\n",
       "</table>\n",
       "<p>3 rows × 52 columns</p>\n",
       "</div>"
      ],
      "text/plain": [
       "                     primary_cleaner.input.sulfate  \\\n",
       "date                                                 \n",
       "2017-12-31 21:59:59                     171.135718   \n",
       "2017-12-31 22:59:59                     179.697158   \n",
       "2017-12-31 23:59:59                     181.556856   \n",
       "\n",
       "                     primary_cleaner.input.depressant  \\\n",
       "date                                                    \n",
       "2017-12-31 21:59:59                         15.993669   \n",
       "2017-12-31 22:59:59                         15.438979   \n",
       "2017-12-31 23:59:59                         14.995850   \n",
       "\n",
       "                     primary_cleaner.input.feed_size  \\\n",
       "date                                                   \n",
       "2017-12-31 21:59:59                             8.07   \n",
       "2017-12-31 22:59:59                             8.07   \n",
       "2017-12-31 23:59:59                             8.07   \n",
       "\n",
       "                     primary_cleaner.input.xanthate  \\\n",
       "date                                                  \n",
       "2017-12-31 21:59:59                        1.165996   \n",
       "2017-12-31 22:59:59                        1.501068   \n",
       "2017-12-31 23:59:59                        1.623454   \n",
       "\n",
       "                     primary_cleaner.state.floatbank8_a_air  \\\n",
       "date                                                          \n",
       "2017-12-31 21:59:59                             1498.836182   \n",
       "2017-12-31 22:59:59                             1498.466243   \n",
       "2017-12-31 23:59:59                             1498.096303   \n",
       "\n",
       "                     primary_cleaner.state.floatbank8_a_level  \\\n",
       "date                                                            \n",
       "2017-12-31 21:59:59                               -501.770403   \n",
       "2017-12-31 22:59:59                               -500.483984   \n",
       "2017-12-31 23:59:59                               -499.796922   \n",
       "\n",
       "                     primary_cleaner.state.floatbank8_b_air  \\\n",
       "date                                                          \n",
       "2017-12-31 21:59:59                             1499.572353   \n",
       "2017-12-31 22:59:59                             1497.986986   \n",
       "2017-12-31 23:59:59                             1501.743791   \n",
       "\n",
       "                     primary_cleaner.state.floatbank8_b_level  \\\n",
       "date                                                            \n",
       "2017-12-31 21:59:59                               -495.516347   \n",
       "2017-12-31 22:59:59                               -519.200340   \n",
       "2017-12-31 23:59:59                               -505.146931   \n",
       "\n",
       "                     primary_cleaner.state.floatbank8_c_air  \\\n",
       "date                                                          \n",
       "2017-12-31 21:59:59                             1502.749213   \n",
       "2017-12-31 22:59:59                             1496.569047   \n",
       "2017-12-31 23:59:59                             1499.535978   \n",
       "\n",
       "                     primary_cleaner.state.floatbank8_c_level  ...  \\\n",
       "date                                                           ...   \n",
       "2017-12-31 21:59:59                               -520.667442  ...   \n",
       "2017-12-31 22:59:59                               -487.479567  ...   \n",
       "2017-12-31 23:59:59                               -492.428226  ...   \n",
       "\n",
       "                     secondary_cleaner.state.floatbank4_a_air  \\\n",
       "date                                                            \n",
       "2017-12-31 21:59:59                                 19.994130   \n",
       "2017-12-31 22:59:59                                 19.958760   \n",
       "2017-12-31 23:59:59                                 20.034715   \n",
       "\n",
       "                     secondary_cleaner.state.floatbank4_a_level  \\\n",
       "date                                                              \n",
       "2017-12-31 21:59:59                                 -499.791312   \n",
       "2017-12-31 22:59:59                                 -499.958750   \n",
       "2017-12-31 23:59:59                                 -500.728588   \n",
       "\n",
       "                     secondary_cleaner.state.floatbank4_b_air  \\\n",
       "date                                                            \n",
       "2017-12-31 21:59:59                                 15.101425   \n",
       "2017-12-31 22:59:59                                 15.026853   \n",
       "2017-12-31 23:59:59                                 14.914199   \n",
       "\n",
       "                     secondary_cleaner.state.floatbank4_b_level  \\\n",
       "date                                                              \n",
       "2017-12-31 21:59:59                                 -499.936252   \n",
       "2017-12-31 22:59:59                                 -499.723143   \n",
       "2017-12-31 23:59:59                                 -499.948518   \n",
       "\n",
       "                     secondary_cleaner.state.floatbank5_a_air  \\\n",
       "date                                                            \n",
       "2017-12-31 21:59:59                                 10.989181   \n",
       "2017-12-31 22:59:59                                 11.011607   \n",
       "2017-12-31 23:59:59                                 10.986607   \n",
       "\n",
       "                     secondary_cleaner.state.floatbank5_a_level  \\\n",
       "date                                                              \n",
       "2017-12-31 21:59:59                                 -498.347898   \n",
       "2017-12-31 22:59:59                                 -499.985046   \n",
       "2017-12-31 23:59:59                                 -500.658027   \n",
       "\n",
       "                     secondary_cleaner.state.floatbank5_b_air  \\\n",
       "date                                                            \n",
       "2017-12-31 21:59:59                                  9.020944   \n",
       "2017-12-31 22:59:59                                  9.009783   \n",
       "2017-12-31 23:59:59                                  8.989497   \n",
       "\n",
       "                     secondary_cleaner.state.floatbank5_b_level  \\\n",
       "date                                                              \n",
       "2017-12-31 21:59:59                                 -500.040448   \n",
       "2017-12-31 22:59:59                                 -499.937902   \n",
       "2017-12-31 23:59:59                                 -500.337588   \n",
       "\n",
       "                     secondary_cleaner.state.floatbank6_a_air  \\\n",
       "date                                                            \n",
       "2017-12-31 21:59:59                                  8.982038   \n",
       "2017-12-31 22:59:59                                  9.012660   \n",
       "2017-12-31 23:59:59                                  8.988632   \n",
       "\n",
       "                     secondary_cleaner.state.floatbank6_a_level  \n",
       "date                                                             \n",
       "2017-12-31 21:59:59                                 -497.789882  \n",
       "2017-12-31 22:59:59                                 -500.154284  \n",
       "2017-12-31 23:59:59                                 -500.764937  \n",
       "\n",
       "[3 rows x 52 columns]"
      ]
     },
     "execution_count": 131,
     "metadata": {},
     "output_type": "execute_result"
    }
   ],
   "source": [
    "df_test.tail(3)"
   ]
  },
  {
   "cell_type": "raw",
   "id": "59c032cd",
   "metadata": {},
   "source": [
    "targets_to_join = data_full[['date', 'final.output.recovery', 'rougher.output.recovery']].copy()\n",
    "data_test = data_test.join(targets_to_join.set_index('date'), on='date')"
   ]
  },
  {
   "cell_type": "raw",
   "id": "8f91a5bf",
   "metadata": {},
   "source": [
    "df_train_1 = pd.read_csv('/datasets/gold_recovery_train_new.csv', index_col='date', parse_dates=True)\n",
    "df_test_1 = pd.read_csv('/datasets/gold_recovery_test_new.csv', index_col='date', parse_dates=True)\n",
    "df_full_1 = pd.read_csv('/datasets/gold_recovery_full_new.csv', index_col='date', parse_dates=True)"
   ]
  },
  {
   "cell_type": "code",
   "execution_count": 132,
   "id": "8e4e6f16",
   "metadata": {},
   "outputs": [],
   "source": [
    "df_train = df_train[df_test.columns]"
   ]
  },
  {
   "cell_type": "code",
   "execution_count": 133,
   "id": "094fc51e",
   "metadata": {},
   "outputs": [
    {
     "name": "stdout",
     "output_type": "stream",
     "text": [
      "(5123, 52)\n",
      "(13725, 52)\n"
     ]
    }
   ],
   "source": [
    "print(df_test.shape)\n",
    "print(df_train.shape)"
   ]
  },
  {
   "cell_type": "markdown",
   "id": "2fee674b",
   "metadata": {},
   "source": [
    "### Масштабирование признаков"
   ]
  },
  {
   "cell_type": "code",
   "execution_count": 134,
   "id": "1277a65e-986a-4454-8447-cd973256a7fd",
   "metadata": {},
   "outputs": [],
   "source": [
    "df_test = df_test.reset_index(drop=True)\n",
    "df_train = df_train.reset_index(drop=True)"
   ]
  },
  {
   "cell_type": "code",
   "execution_count": 135,
   "id": "5f7179aa",
   "metadata": {},
   "outputs": [],
   "source": [
    "#Масштабирование признаков обучающей выборки\n",
    "numeric = df_train.columns\n",
    "scaler=StandardScaler()\n",
    "scaler.fit(df_train[numeric])\n",
    "df_train[numeric] = scaler.transform(df_train[numeric])\n",
    "df_test[numeric] = scaler.transform(df_test[numeric])"
   ]
  },
  {
   "cell_type": "markdown",
   "id": "42edd039-e275-4a8b-a2e0-7946af0625ec",
   "metadata": {},
   "source": [
    "### Подготовка выборок признаков"
   ]
  },
  {
   "cell_type": "code",
   "execution_count": 136,
   "id": "74f35e92",
   "metadata": {},
   "outputs": [],
   "source": [
    "#Выделение из тестовой выборки признаков процесса флотации\n",
    "features_test_rougher = df_test.loc[:, 'rougher.input.feed_ag':'rougher.state.floatbank10_f_level']\n",
    "#features_test_rougher.shape"
   ]
  },
  {
   "cell_type": "code",
   "execution_count": 137,
   "id": "a9094474",
   "metadata": {},
   "outputs": [],
   "source": [
    "#Выделение из обучающей выборки признаков процесса флотации\n",
    "features_train_rougher = df_train[features_test_rougher.columns]\n",
    "#features_train_rougher.shape"
   ]
  },
  {
   "cell_type": "code",
   "execution_count": 138,
   "id": "bce7e82e",
   "metadata": {},
   "outputs": [],
   "source": [
    "#Выделение из тестовой выборки признаков процесса вцелом присваиванием всех столбцов\n",
    "features_test_final = df_test.copy()\n",
    "#features_test_final.shape"
   ]
  },
  {
   "cell_type": "code",
   "execution_count": 139,
   "id": "197bb790",
   "metadata": {},
   "outputs": [],
   "source": [
    "#Выделение из обучающей выборки признаков процесса процесса вцелом присваиванием всех столбцов\n",
    "features_train_final = df_train[features_test_final.columns]\n",
    "#features_train_final.shape"
   ]
  },
  {
   "cell_type": "markdown",
   "id": "d405eda9",
   "metadata": {},
   "source": [
    "### Функции метрики "
   ]
  },
  {
   "cell_type": "code",
   "execution_count": 140,
   "id": "492013a8",
   "metadata": {},
   "outputs": [],
   "source": [
    "#Метрика sMAPE\n",
    "def sMAPE(target, predictions):\n",
    "    sMAPE = (((abs(target - predictions) / ((abs(target) + abs(predictions)) / 2)).sum()) / len(target)) * 100\n",
    "    return sMAPE"
   ]
  },
  {
   "cell_type": "code",
   "execution_count": 141,
   "id": "f08b7c2b",
   "metadata": {},
   "outputs": [],
   "source": [
    "#Итоговая метрика sMAPE\n",
    "def total_sMAPE(target_rougher, predictions_rougher, target_final, predictions_final):\n",
    "    sMAPE_rougher = sMAPE(target_rougher, predictions_rougher)\n",
    "    sMAPE_final = sMAPE(target_final, predictions_final)\n",
    "    model_sMAPE = sMAPE_rougher * 0.25 + sMAPE_final * 0.75\n",
    "    return model_sMAPE "
   ]
  },
  {
   "cell_type": "code",
   "execution_count": 142,
   "id": "464abc3e",
   "metadata": {},
   "outputs": [],
   "source": [
    "#Метрика для модели\n",
    "scorer = make_scorer(sMAPE, greater_is_better=False)"
   ]
  },
  {
   "cell_type": "markdown",
   "id": "859b0c1a",
   "metadata": {},
   "source": [
    "### Модели регрессии для обучающей выборки"
   ]
  },
  {
   "cell_type": "markdown",
   "id": "2a36a389",
   "metadata": {},
   "source": [
    "#### Линейная регрессия LinearRegressor"
   ]
  },
  {
   "cell_type": "code",
   "execution_count": 143,
   "id": "c8e90a4a",
   "metadata": {},
   "outputs": [
    {
     "data": {
      "text/plain": [
       "-7.864631285728861"
      ]
     },
     "execution_count": 143,
     "metadata": {},
     "output_type": "execute_result"
    }
   ],
   "source": [
    "#Задание модели, применение кросс-валидации для обучения и оценки качества модели, вывод минимальной оценки.\n",
    "model_LR_rougher =  LinearRegression()\n",
    "model_LR_rougher_score = cross_val_score(model_LR_rougher, \n",
    "                                         features_train_rougher, \n",
    "                                         target_train_rougher, \n",
    "                                         cv=5, scoring=scorer, n_jobs=4)\n",
    "model_LR_rougher_score.min()"
   ]
  },
  {
   "cell_type": "code",
   "execution_count": 144,
   "id": "995eeb4a",
   "metadata": {},
   "outputs": [
    {
     "data": {
      "text/plain": [
       "-13.132827565706167"
      ]
     },
     "execution_count": 144,
     "metadata": {},
     "output_type": "execute_result"
    }
   ],
   "source": [
    "#Задание модели, применение кросс-валидации для обучения и оценки качества модели, вывод минимальной оценки.\n",
    "model_LR_final =  LinearRegression()\n",
    "model_LR_final_score = cross_val_score(model_LR_final, \n",
    "                                       features_train_final, \n",
    "                                       target_train_final, \n",
    "                                       cv=5, scoring=scorer, n_jobs=4)\n",
    "model_LR_final_score.min()"
   ]
  },
  {
   "cell_type": "markdown",
   "id": "422bc6c3",
   "metadata": {},
   "source": [
    "#### RandomForestRegressor"
   ]
  },
  {
   "cell_type": "code",
   "execution_count": 145,
   "id": "61661578",
   "metadata": {},
   "outputs": [
    {
     "data": {
      "text/plain": [
       "-9.661896905378867"
      ]
     },
     "execution_count": 145,
     "metadata": {},
     "output_type": "execute_result"
    }
   ],
   "source": [
    "#Задание модели, применение кросс-валидации для обучения и оценки качества модели, вывод минимальной оценки.\n",
    "model_RFR_rougher =  RandomForestRegressor(random_state=12)\n",
    "model_RFR_rougher_score = cross_val_score(model_RFR_rougher, \n",
    "                                          features_train_rougher, \n",
    "                                          target_train_rougher, \n",
    "                                          cv=5, scoring=scorer, n_jobs=4)\n",
    "model_RFR_rougher_score.min()"
   ]
  },
  {
   "cell_type": "code",
   "execution_count": 146,
   "id": "093992cb",
   "metadata": {},
   "outputs": [
    {
     "data": {
      "text/plain": [
       "-10.778253903638841"
      ]
     },
     "execution_count": 146,
     "metadata": {},
     "output_type": "execute_result"
    }
   ],
   "source": [
    "#Задание модели, применение кросс-валидации для обучения и оценки качества модели, вывод минимальной оценки.\n",
    "model_RFR_final =  RandomForestRegressor(random_state=12)\n",
    "model_RFR_final_score = cross_val_score(model_RFR_final, \n",
    "                                        features_train_final, \n",
    "                                        target_train_final, \n",
    "                                        cv=5, scoring=scorer, n_jobs=4)\n",
    "model_RFR_final_score.min()"
   ]
  },
  {
   "cell_type": "markdown",
   "id": "64c5ba3c",
   "metadata": {},
   "source": [
    "#### Ridge"
   ]
  },
  {
   "cell_type": "code",
   "execution_count": 147,
   "id": "b0fe9b06",
   "metadata": {},
   "outputs": [
    {
     "data": {
      "text/plain": [
       "-7.864737930515041"
      ]
     },
     "execution_count": 147,
     "metadata": {},
     "output_type": "execute_result"
    }
   ],
   "source": [
    "#Задание модели, применение кросс-валидации для обучения и оценки качества модели, вывод минимальной оценки.\n",
    "model_R_rougher = Ridge(random_state=12)\n",
    "model_R_rougher_score = cross_val_score(model_R_rougher, \n",
    "                                        features_train_rougher, \n",
    "                                        target_train_rougher, \n",
    "                                        cv=5, scoring=scorer, n_jobs=4)\n",
    "model_R_rougher_score.min()"
   ]
  },
  {
   "cell_type": "code",
   "execution_count": 148,
   "id": "554d6596",
   "metadata": {},
   "outputs": [
    {
     "data": {
      "text/plain": [
       "-13.124136242412392"
      ]
     },
     "execution_count": 148,
     "metadata": {},
     "output_type": "execute_result"
    }
   ],
   "source": [
    "#Задание модели, применение кросс-валидации для обучения и оценки качества модели, вывод минимальной оценки.\n",
    "model_R_final = Ridge(random_state=12)\n",
    "model_R_final_score = cross_val_score(model_R_final, \n",
    "                                      features_train_final, \n",
    "                                      target_train_final, \n",
    "                                      cv=5, scoring=scorer, n_jobs=4)\n",
    "model_R_final_score.min()"
   ]
  },
  {
   "cell_type": "markdown",
   "id": "f6f80e36",
   "metadata": {},
   "source": [
    "#### Lasso"
   ]
  },
  {
   "cell_type": "code",
   "execution_count": 149,
   "id": "8c6f3b7d",
   "metadata": {},
   "outputs": [
    {
     "data": {
      "text/plain": [
       "-8.866935266621732"
      ]
     },
     "execution_count": 149,
     "metadata": {},
     "output_type": "execute_result"
    }
   ],
   "source": [
    "#Задание модели, применение кросс-валидации для обучения и оценки качества модели, вывод минимальной оценки.\n",
    "model_L_rougher = Lasso(random_state=12)\n",
    "model_L_rougher_score = cross_val_score(model_L_rougher, \n",
    "                                        features_train_rougher, \n",
    "                                        target_train_rougher, \n",
    "                                        cv=5, scoring=scorer, n_jobs=4)\n",
    "model_L_rougher_score.min()"
   ]
  },
  {
   "cell_type": "code",
   "execution_count": 150,
   "id": "007f4949",
   "metadata": {},
   "outputs": [
    {
     "data": {
      "text/plain": [
       "-10.091556697820801"
      ]
     },
     "execution_count": 150,
     "metadata": {},
     "output_type": "execute_result"
    }
   ],
   "source": [
    "#Задание модели, применение кросс-валидации для обучения и оценки качества модели, вывод минимальной оценки.\n",
    "model_L_final = Lasso(random_state=12)\n",
    "model_L_final_score = cross_val_score(model_L_final, \n",
    "                                      features_train_final, \n",
    "                                      target_train_final, \n",
    "                                      cv=5, scoring=scorer, n_jobs=4)\n",
    "model_L_final_score.min()"
   ]
  },
  {
   "cell_type": "markdown",
   "id": "56f1e0ec",
   "metadata": {},
   "source": [
    "#### GradientBoostingRegressor"
   ]
  },
  {
   "cell_type": "code",
   "execution_count": 151,
   "id": "dabcafa4",
   "metadata": {},
   "outputs": [
    {
     "data": {
      "text/plain": [
       "-8.710985644616514"
      ]
     },
     "execution_count": 151,
     "metadata": {},
     "output_type": "execute_result"
    }
   ],
   "source": [
    "#Задание модели, применение кросс-валидации для обучения и оценки качества модели, вывод минимальной оценки.\n",
    "model_GBR_rougher = GradientBoostingRegressor(random_state=12)\n",
    "model_GBR_rougher_score = cross_val_score(model_GBR_rougher, \n",
    "                                          features_train_rougher, \n",
    "                                          target_train_rougher, \n",
    "                                          cv=5, scoring=scorer, n_jobs=4)\n",
    "model_GBR_rougher_score.min()"
   ]
  },
  {
   "cell_type": "code",
   "execution_count": 152,
   "id": "d767c50c",
   "metadata": {},
   "outputs": [
    {
     "data": {
      "text/plain": [
       "-10.158303586140452"
      ]
     },
     "execution_count": 152,
     "metadata": {},
     "output_type": "execute_result"
    }
   ],
   "source": [
    "#Задание модели, применение кросс-валидации для обучения и оценки качества модели, вывод минимальной оценки.\n",
    "model_GBR_final = GradientBoostingRegressor(random_state=12)\n",
    "model_GBR_final_score = cross_val_score(model_GBR_final, \n",
    "                                        features_train_final, \n",
    "                                        target_train_final, \n",
    "                                        cv=5, scoring=scorer, n_jobs=4)\n",
    "model_GBR_final_score.min()"
   ]
  },
  {
   "cell_type": "markdown",
   "id": "fbd05764",
   "metadata": {},
   "source": [
    "#### ElasticNet"
   ]
  },
  {
   "cell_type": "code",
   "execution_count": 153,
   "id": "7558d14c",
   "metadata": {},
   "outputs": [
    {
     "data": {
      "text/plain": [
       "-8.689754029707286"
      ]
     },
     "execution_count": 153,
     "metadata": {},
     "output_type": "execute_result"
    }
   ],
   "source": [
    "#Задание модели, применение кросс-валидации для обучения и оценки качества модели, вывод минимальной оценки.\n",
    "model_EN_rougher = ElasticNet(random_state=12)\n",
    "model_EN_rougher_score = cross_val_score(model_EN_rougher, \n",
    "                                         features_train_rougher, \n",
    "                                         target_train_rougher, \n",
    "                                         cv=5, scoring=scorer, n_jobs=4)\n",
    "model_EN_rougher_score.min()"
   ]
  },
  {
   "cell_type": "code",
   "execution_count": 154,
   "id": "fd3ab53f",
   "metadata": {},
   "outputs": [
    {
     "data": {
      "text/plain": [
       "-10.119337672755508"
      ]
     },
     "execution_count": 154,
     "metadata": {},
     "output_type": "execute_result"
    }
   ],
   "source": [
    "#Задание модели, применение кросс-валидации для обучения и оценки качества модели, вывод минимальной оценки.\n",
    "model_EN_final = ElasticNet(random_state=12)\n",
    "model_EN_final_score = cross_val_score(model_EN_final, \n",
    "                                       features_train_final, \n",
    "                                       target_train_final, cv=5, scoring=scorer, n_jobs=4)\n",
    "model_EN_final_score.min()"
   ]
  },
  {
   "cell_type": "markdown",
   "id": "251ea67a",
   "metadata": {},
   "source": [
    "#### SGDRegressor"
   ]
  },
  {
   "cell_type": "code",
   "execution_count": 155,
   "id": "8c3b6b51",
   "metadata": {},
   "outputs": [
    {
     "data": {
      "text/plain": [
       "-7.877799108910296"
      ]
     },
     "execution_count": 155,
     "metadata": {},
     "output_type": "execute_result"
    }
   ],
   "source": [
    "#Задание модели, применение кросс-валидации для обучения и оценки качества модели, вывод минимальной оценки.\n",
    "model_SGDR_rougher = SGDRegressor(random_state=12)\n",
    "model_SGDR_rougher_score = cross_val_score(model_SGDR_rougher, \n",
    "                                           features_train_rougher, \n",
    "                                           target_train_rougher, \n",
    "                                           cv=5, scoring=scorer, n_jobs=4)\n",
    "model_SGDR_rougher_score.min()"
   ]
  },
  {
   "cell_type": "code",
   "execution_count": 156,
   "id": "514a94f1",
   "metadata": {},
   "outputs": [
    {
     "data": {
      "text/plain": [
       "-12.927868313934734"
      ]
     },
     "execution_count": 156,
     "metadata": {},
     "output_type": "execute_result"
    }
   ],
   "source": [
    "#Задание модели, применение кросс-валидации для обучения и оценки качества модели, вывод минимальной оценки.\n",
    "model_SGDR_final = SGDRegressor(random_state=12)\n",
    "model_SGDR_final_score = cross_val_score(model_SGDR_final, \n",
    "                                         features_train_final, \n",
    "                                         target_train_final, \n",
    "                                         cv=5, scoring=scorer, n_jobs=4)\n",
    "model_SGDR_final_score.min()"
   ]
  },
  {
   "cell_type": "markdown",
   "id": "06eb7a01",
   "metadata": {},
   "source": [
    "#### SVR"
   ]
  },
  {
   "cell_type": "code",
   "execution_count": 157,
   "id": "dbf1fa92",
   "metadata": {},
   "outputs": [
    {
     "data": {
      "text/plain": [
       "-8.517915520977107"
      ]
     },
     "execution_count": 157,
     "metadata": {},
     "output_type": "execute_result"
    }
   ],
   "source": [
    "#Задание модели, применение кросс-валидации для обучения и оценки качества модели, вывод минимальной оценки.\n",
    "model_SVR_rougher = SVR()\n",
    "model_SVR_rougher_score = cross_val_score(model_SVR_rougher, \n",
    "                                          features_train_rougher, \n",
    "                                          target_train_rougher, \n",
    "                                          cv=5, scoring=scorer, n_jobs=4)\n",
    "model_SVR_rougher_score.min()"
   ]
  },
  {
   "cell_type": "code",
   "execution_count": 158,
   "id": "db409f60",
   "metadata": {},
   "outputs": [
    {
     "data": {
      "text/plain": [
       "-10.598559346843762"
      ]
     },
     "execution_count": 158,
     "metadata": {},
     "output_type": "execute_result"
    }
   ],
   "source": [
    "#Задание модели, применение кросс-валидации для обучения и оценки качества модели, вывод минимальной оценки.\n",
    "model_SVR_final = SVR()\n",
    "model_SVR_final_score = cross_val_score(model_SVR_final, \n",
    "                                        features_train_final, \n",
    "                                        target_train_final, \n",
    "                                        cv=5, scoring=scorer, n_jobs=4)\n",
    "model_SVR_final_score.min()"
   ]
  },
  {
   "cell_type": "markdown",
   "id": "6a3b7304",
   "metadata": {},
   "source": [
    "#### NuSVR"
   ]
  },
  {
   "cell_type": "code",
   "execution_count": 159,
   "id": "b57e0f62",
   "metadata": {},
   "outputs": [
    {
     "data": {
      "text/plain": [
       "-8.51573804358708"
      ]
     },
     "execution_count": 159,
     "metadata": {},
     "output_type": "execute_result"
    }
   ],
   "source": [
    "#Задание модели, применение кросс-валидации для обучения и оценки качества модели, вывод минимальной оценки.\n",
    "model_NuSVR_rougher = NuSVR()\n",
    "model_NuSVR_rougher_score = cross_val_score(model_NuSVR_rougher, \n",
    "                                            features_train_rougher, \n",
    "                                            target_train_rougher, \n",
    "                                            cv=5, scoring=scorer, n_jobs=4)\n",
    "model_NuSVR_rougher_score.min()"
   ]
  },
  {
   "cell_type": "code",
   "execution_count": 160,
   "id": "ad7de274",
   "metadata": {},
   "outputs": [
    {
     "data": {
      "text/plain": [
       "-10.529084243806333"
      ]
     },
     "execution_count": 160,
     "metadata": {},
     "output_type": "execute_result"
    }
   ],
   "source": [
    "#Задание модели, применение кросс-валидации для обучения и оценки качества модели, вывод минимальной оценки.\n",
    "model_NuSVR_final = NuSVR()\n",
    "model_NuSVR_final_score = cross_val_score(model_NuSVR_final, \n",
    "                                          features_train_final, \n",
    "                                          target_train_final, \n",
    "                                          cv=5, scoring=scorer, n_jobs=4)\n",
    "model_NuSVR_final_score.min()"
   ]
  },
  {
   "cell_type": "markdown",
   "id": "991be5e0",
   "metadata": {},
   "source": [
    "<blockquote>\n",
    "<b>Выводы:</b>\n",
    " \n",
    "1. Из исходных данных образованы обучающие и тестовые выборки.\n",
    "2. Выборки признаков преобразованы масштабированием.\n",
    "3. Наилучшие значения метрики качества получены для процесса флотации - LinearRegression, для процесса вцелом - Lasso.\n",
    "</blockquote>"
   ]
  },
  {
   "cell_type": "markdown",
   "id": "bd63d8dd",
   "metadata": {},
   "source": [
    "## Применение лучшей моделей регрессии на тестовых выборках"
   ]
  },
  {
   "cell_type": "markdown",
   "id": "0f14d6cf",
   "metadata": {},
   "source": [
    "### Расчет метрик качества модели прогнозирования обогащения после флотации и после процесса вцелом"
   ]
  },
  {
   "cell_type": "markdown",
   "id": "4d761c36",
   "metadata": {},
   "source": [
    "*Хотя LinearRegression показала лучший результат по обучающей выборке для процесса флотации, в качестве модели для тестовой выборке испольуем Lasso*"
   ]
  },
  {
   "cell_type": "code",
   "execution_count": 161,
   "id": "c288a853",
   "metadata": {},
   "outputs": [
    {
     "name": "stdout",
     "output_type": "stream",
     "text": [
      "Метрика качества модели для стадии флотации:4.235597186207759\n"
     ]
    }
   ],
   "source": [
    "best_model_rougher = Lasso(random_state=12)\n",
    "best_model_rougher.fit(features_train_rougher, \n",
    "                       target_train_rougher)\n",
    "predictions_rougher = best_model_rougher.predict(features_test_rougher)\n",
    "sMAPE_rougher = sMAPE(target_test_rougher, \n",
    "                      predictions_rougher)\n",
    "print(f'Метрика качества модели для стадии флотации:{sMAPE_rougher}')"
   ]
  },
  {
   "cell_type": "code",
   "execution_count": 162,
   "id": "c8858ca4-50b7-45aa-a393-4f34f3a5197d",
   "metadata": {},
   "outputs": [
    {
     "name": "stdout",
     "output_type": "stream",
     "text": [
      "Метрика качества модели для процесса вцелом:7.133631039718565\n"
     ]
    }
   ],
   "source": [
    "best_model_final = Lasso(random_state=12)\n",
    "best_model_final.fit(features_train_final, \n",
    "                     target_train_final)\n",
    "predictions_final = best_model_final.predict(features_test_final)\n",
    "sMAPE_final = sMAPE(target_test_final, \n",
    "                    predictions_final)\n",
    "print(f'Метрика качества модели для процесса вцелом:{sMAPE_final}')"
   ]
  },
  {
   "cell_type": "markdown",
   "id": "f9a3001f",
   "metadata": {},
   "source": [
    "### Расчет итоговой метрики качества обогащения для всего процесса"
   ]
  },
  {
   "cell_type": "code",
   "execution_count": 163,
   "id": "6e39473a",
   "metadata": {},
   "outputs": [
    {
     "name": "stdout",
     "output_type": "stream",
     "text": [
      "Итоговая метрика качества модели для модели в целом: 6.409122576340863\n"
     ]
    }
   ],
   "source": [
    "model_sMAPE = total_sMAPE(target_test_rougher, \n",
    "                          predictions_rougher, \n",
    "                          target_test_final, \n",
    "                          predictions_final)\n",
    "print(f'Итоговая метрика качества модели для модели в целом: {model_sMAPE}')"
   ]
  },
  {
   "cell_type": "markdown",
   "id": "a774ece0",
   "metadata": {},
   "source": [
    "<blockquote>\n",
    "<b>Выводы:</b>\n",
    " \n",
    "1. Метрики качества по тестовой выборке:\n",
    "    - процесс флотации (модель Lasso): 4.23;\n",
    "    - процесс вцелом (модель Lasso): 7.13;\n",
    "    - итоговая метрика: 6.40.\n",
    "</blockquote>"
   ]
  },
  {
   "cell_type": "markdown",
   "id": "e2828beb",
   "metadata": {},
   "source": [
    "### Сравнение результатов выбранной модели с константной"
   ]
  },
  {
   "cell_type": "code",
   "execution_count": 164,
   "id": "45c42924",
   "metadata": {},
   "outputs": [
    {
     "name": "stdout",
     "output_type": "stream",
     "text": [
      "4.809033066029801\n"
     ]
    }
   ],
   "source": [
    "dummy_regressor_rougher = DummyRegressor(strategy=\"median\")\n",
    "dummy_regressor_rougher.fit(features_train_rougher, \n",
    "                            target_train_rougher)\n",
    "dummy_rougher_pred = dummy_regressor_rougher.predict(features_test_rougher)\n",
    "smape_dummy_rougher = sMAPE(target_test_rougher, \n",
    "                            dummy_rougher_pred)\n",
    "print(smape_dummy_rougher) "
   ]
  },
  {
   "cell_type": "code",
   "execution_count": 165,
   "id": "af2c7619",
   "metadata": {},
   "outputs": [
    {
     "name": "stdout",
     "output_type": "stream",
     "text": [
      "21.958071734826763\n"
     ]
    }
   ],
   "source": [
    "dummy_regressor_final = DummyRegressor(strategy=\"median\")\n",
    "dummy_regressor_final.fit(features_train_final, \n",
    "                          target_train_final)\n",
    "dummy_final_pred = dummy_regressor_rougher.predict(features_test_final)\n",
    "smape_dummy_final = sMAPE(target_test_final, \n",
    "                          dummy_final_pred)\n",
    "print(smape_dummy_final) "
   ]
  },
  {
   "cell_type": "code",
   "execution_count": 166,
   "id": "288e8eda",
   "metadata": {
    "scrolled": true
   },
   "outputs": [
    {
     "name": "stdout",
     "output_type": "stream",
     "text": [
      "Итоговая метрика качества модели для модели в целом: 17.670812067627523\n"
     ]
    }
   ],
   "source": [
    "dummy_sMAPE = total_sMAPE(target_test_rougher, \n",
    "                          dummy_rougher_pred, \n",
    "                          target_test_final, \n",
    "                          dummy_final_pred)\n",
    "print(f'Итоговая метрика качества модели для модели в целом: {dummy_sMAPE}')"
   ]
  },
  {
   "cell_type": "markdown",
   "id": "11994cd5",
   "metadata": {},
   "source": [
    "<blockquote>\n",
    "<b>Выводы:</b>\n",
    " \n",
    "1. Константная модель DummyRegressor, показала сравнимый результат с моделью Lasso для процесса флотации. Возможно применение рассмотренных типов регрессий для этих данных не совсем является правильным если Dummy показывает хороший результат.\n",
    "2. Для процесса вцелом метрика Lasso гораздо лучше константой модели. Аналогичный вывод можно сделать и по величине итоговой метрики.\n",
    "3. Модель Lasso показала хороший результат.\n",
    "</blockquote>"
   ]
  },
  {
   "cell_type": "markdown",
   "id": "cef52a80",
   "metadata": {},
   "source": [
    "## Общий вывод по проекту"
   ]
  },
  {
   "cell_type": "markdown",
   "id": "0aa4fecf",
   "metadata": {},
   "source": [
    "<blockquote>\n",
    "<b>Выводы:</b>\n",
    " \n",
    "1. Наилучшую метрику качества показала модель Lasso. Значение итоговой метрики составило 6.40.\n",
    "2. Lasso можно использовать для предсказания качества процесса обогащения золотосодержащего сырья.\n",
    "</blockquote>"
   ]
  },
  {
   "cell_type": "markdown",
   "id": "cd3582e4",
   "metadata": {},
   "source": [
    "## Разное"
   ]
  },
  {
   "cell_type": "code",
   "execution_count": 96,
   "id": "e87905b0-33d8-4bd6-907a-6701ca5d89ad",
   "metadata": {},
   "outputs": [
    {
     "name": "stdout",
     "output_type": "stream",
     "text": [
      "LinearRegression       sMAPE:-6.381 STD: 1.62\n",
      "Lasso                  sMAPE:-6.599 STD: 1.90\n",
      "DummyRegressor         sMAPE:-7.804 STD: 1.72\n"
     ]
    }
   ],
   "source": [
    "for model in [LinearRegression, Lasso, DummyRegressor]:\n",
    "    regression = model()\n",
    "    kfold = KFold(n_splits=5)\n",
    "    s = cross_val_score(regression, \n",
    "                        features_train_rougher, \n",
    "                        target_train_rougher, \n",
    "                        scoring=scorer, \n",
    "                        cv=kfold, n_jobs=4)\n",
    "    print(\n",
    "        f'{model.__name__:22} sMAPE:'\n",
    "        f'{s.mean():.3f} STD: {s.std():.2f}'\n",
    "    )"
   ]
  },
  {
   "cell_type": "raw",
   "id": "e39d7f6e",
   "metadata": {},
   "source": [
    "dummy_regressor_rougher = DummyRegressor(strategy=\"median\")\n",
    "dummy_regressor_rougher.fit(X_train, y_train_rougher)\n",
    "dummy_rougher_pred = dummy_regressor_rougher.predict(X_test)\n",
    "smape_dummy_rougher = smape(y_test_rougher, dummy_rougher_pred)\n",
    "print(smape_dummy_rougher) \n",
    "\n",
    "И ДАЛЕЕ: ДЛЯ FINAL И ИТОГОВЫЙ"
   ]
  },
  {
   "cell_type": "raw",
   "id": "6457253a",
   "metadata": {},
   "source": [
    "# ПРОСТО ДЛЯ ОЗНАКОМЛЕНИЯ С ПАПЛАЙНОМ\n",
    "\n",
    "from numpy.random import RandomState\n",
    "state = RandomState(12345)\n",
    "\n",
    "pipe = Pipeline([\n",
    "    ('imp', SimpleImputer(missing_values=np.nan)),\n",
    "    ('scaler', StandardScaler()),\n",
    "    ('model', RandomForestRegressor(n_estimators=100, random_state=state))\n",
    "])\n",
    "\n",
    "params = [\n",
    "    {\n",
    "        'imp__strategy': ['mean', 'median'],\n",
    "        'model': [RandomForestRegressor(n_estimators=10, random_state=state)],\n",
    "        'model__max_features': np.linspace(0.1, 1, 10)\n",
    "    }, {\n",
    "        'imp__strategy': ['mean', 'median'],\n",
    "        'model': [LinearRegression()]\n",
    "    }, {\n",
    "        'imp__strategy': ['mean', 'median'],\n",
    "        'model': [linear_model.Lasso(random_state=state)],\n",
    "        'model__alpha': np.logspace(-3, 1, 10)\n",
    "    }\n",
    "]\n",
    "\n",
    "\n",
    "from sklearn.metrics import make_scorer, mean_squared_error\n",
    "smape_score = make_scorer(smape, greater_is_better=False)\n",
    "\n",
    "cv = KFold(n_splits=5, shuffle=False)\n",
    "grid_rougher = GridSearchCV(pipe, param_grid=params, cv=cv, n_jobs=-1, scoring=smape_score)\n",
    "\n",
    "grid_rougher.fit(X_train_rougher, y_train_rougher)\n",
    "print('Best Params:', grid_rougher.best_params_)\n",
    "print('Best smape Score:', -grid_rougher.best_score_)"
   ]
  }
 ],
 "metadata": {
  "ExecuteTimeLog": [
   {
    "duration": 2074,
    "start_time": "2022-06-02T03:52:04.671Z"
   },
   {
    "duration": 3096,
    "start_time": "2022-06-02T03:52:06.747Z"
   },
   {
    "duration": 95,
    "start_time": "2022-06-02T03:52:34.137Z"
   },
   {
    "duration": 50,
    "start_time": "2022-06-02T03:52:53.960Z"
   },
   {
    "duration": 6,
    "start_time": "2022-06-02T03:52:54.184Z"
   },
   {
    "duration": 13,
    "start_time": "2022-06-02T03:53:11.411Z"
   },
   {
    "duration": 5,
    "start_time": "2022-06-02T03:53:13.242Z"
   },
   {
    "duration": 1266,
    "start_time": "2022-06-02T03:53:13.885Z"
   },
   {
    "duration": 9024,
    "start_time": "2022-06-02T03:53:15.153Z"
   },
   {
    "duration": 8,
    "start_time": "2022-06-02T03:53:24.179Z"
   },
   {
    "duration": 203,
    "start_time": "2022-06-02T03:53:50.487Z"
   },
   {
    "duration": 986,
    "start_time": "2022-06-02T03:54:04.556Z"
   },
   {
    "duration": 372,
    "start_time": "2022-06-02T03:54:05.544Z"
   },
   {
    "duration": 364,
    "start_time": "2022-06-02T03:54:06.517Z"
   },
   {
    "duration": 3,
    "start_time": "2022-06-02T03:54:13.248Z"
   },
   {
    "duration": 6,
    "start_time": "2022-06-02T03:54:13.684Z"
   },
   {
    "duration": 5,
    "start_time": "2022-06-02T03:54:14.107Z"
   },
   {
    "duration": 5,
    "start_time": "2022-06-02T03:54:14.557Z"
   },
   {
    "duration": 10,
    "start_time": "2022-06-02T03:54:15.252Z"
   },
   {
    "duration": 3,
    "start_time": "2022-06-02T03:54:15.785Z"
   },
   {
    "duration": 186,
    "start_time": "2022-06-02T03:54:16.620Z"
   },
   {
    "duration": 321,
    "start_time": "2022-06-02T03:55:01.233Z"
   },
   {
    "duration": 296,
    "start_time": "2022-06-02T03:55:02.168Z"
   },
   {
    "duration": 5,
    "start_time": "2022-06-02T03:55:45.656Z"
   },
   {
    "duration": 6,
    "start_time": "2022-06-02T03:55:46.243Z"
   },
   {
    "duration": 5,
    "start_time": "2022-06-02T03:55:46.610Z"
   },
   {
    "duration": 4,
    "start_time": "2022-06-02T03:55:47.230Z"
   },
   {
    "duration": 2,
    "start_time": "2022-06-02T03:55:47.757Z"
   },
   {
    "duration": 3,
    "start_time": "2022-06-02T03:55:48.217Z"
   },
   {
    "duration": 164,
    "start_time": "2022-06-02T03:55:48.869Z"
   },
   {
    "duration": 3,
    "start_time": "2022-06-02T03:56:43.980Z"
   },
   {
    "duration": 2,
    "start_time": "2022-06-02T03:56:48.825Z"
   },
   {
    "duration": 5,
    "start_time": "2022-06-02T03:56:56.394Z"
   },
   {
    "duration": 11096,
    "start_time": "2022-06-02T03:56:57.089Z"
   },
   {
    "duration": 22,
    "start_time": "2022-06-02T03:57:15.068Z"
   },
   {
    "duration": 3,
    "start_time": "2022-06-02T03:58:22.347Z"
   },
   {
    "duration": 3,
    "start_time": "2022-06-02T03:58:23.709Z"
   },
   {
    "duration": 5,
    "start_time": "2022-06-02T03:58:23.917Z"
   },
   {
    "duration": 13,
    "start_time": "2022-06-02T03:58:24.106Z"
   },
   {
    "duration": 3,
    "start_time": "2022-06-02T03:58:24.307Z"
   },
   {
    "duration": 35,
    "start_time": "2022-06-02T03:59:56.059Z"
   },
   {
    "duration": 27,
    "start_time": "2022-06-02T04:00:12.743Z"
   },
   {
    "duration": 6,
    "start_time": "2022-06-02T04:00:54.849Z"
   },
   {
    "duration": 4,
    "start_time": "2022-06-02T04:00:55.189Z"
   },
   {
    "duration": 2,
    "start_time": "2022-06-02T04:00:55.364Z"
   },
   {
    "duration": 5,
    "start_time": "2022-06-02T04:00:55.539Z"
   },
   {
    "duration": 3,
    "start_time": "2022-06-02T04:00:56.556Z"
   },
   {
    "duration": 4,
    "start_time": "2022-06-02T04:01:45.248Z"
   },
   {
    "duration": 3,
    "start_time": "2022-06-02T04:01:46.519Z"
   },
   {
    "duration": 5473,
    "start_time": "2022-06-02T04:02:21.140Z"
   },
   {
    "duration": 430,
    "start_time": "2022-06-02T04:02:26.615Z"
   },
   {
    "duration": 108318,
    "start_time": "2022-06-02T04:02:27.046Z"
   },
   {
    "duration": 0,
    "start_time": "2022-06-02T04:04:15.367Z"
   },
   {
    "duration": 0,
    "start_time": "2022-06-02T04:04:15.368Z"
   },
   {
    "duration": 0,
    "start_time": "2022-06-02T04:04:15.369Z"
   },
   {
    "duration": 0,
    "start_time": "2022-06-02T04:04:15.370Z"
   },
   {
    "duration": 0,
    "start_time": "2022-06-02T04:04:15.371Z"
   },
   {
    "duration": 0,
    "start_time": "2022-06-02T04:04:15.372Z"
   },
   {
    "duration": 0,
    "start_time": "2022-06-02T04:04:15.373Z"
   },
   {
    "duration": 0,
    "start_time": "2022-06-02T04:04:15.374Z"
   },
   {
    "duration": 0,
    "start_time": "2022-06-02T04:04:15.375Z"
   },
   {
    "duration": 0,
    "start_time": "2022-06-02T04:04:15.376Z"
   },
   {
    "duration": 0,
    "start_time": "2022-06-02T04:04:15.377Z"
   },
   {
    "duration": 0,
    "start_time": "2022-06-02T04:04:15.378Z"
   },
   {
    "duration": 0,
    "start_time": "2022-06-02T04:04:15.380Z"
   },
   {
    "duration": 0,
    "start_time": "2022-06-02T04:04:15.381Z"
   },
   {
    "duration": 0,
    "start_time": "2022-06-02T04:04:15.382Z"
   },
   {
    "duration": 150,
    "start_time": "2022-06-02T04:04:27.478Z"
   },
   {
    "duration": 125,
    "start_time": "2022-06-02T04:04:28.506Z"
   },
   {
    "duration": 14,
    "start_time": "2022-06-02T04:04:29.858Z"
   }
  ],
  "kernelspec": {
   "display_name": "Python 3",
   "language": "python",
   "name": "python3"
  },
  "language_info": {
   "codemirror_mode": {
    "name": "ipython",
    "version": 3
   },
   "file_extension": ".py",
   "mimetype": "text/x-python",
   "name": "python",
   "nbconvert_exporter": "python",
   "pygments_lexer": "ipython3",
   "version": "3.8.10"
  },
  "toc": {
   "base_numbering": 1,
   "nav_menu": {},
   "number_sections": true,
   "sideBar": true,
   "skip_h1_title": true,
   "title_cell": "Table of Contents",
   "title_sidebar": "Contents",
   "toc_cell": true,
   "toc_position": {},
   "toc_section_display": true,
   "toc_window_display": false
  }
 },
 "nbformat": 4,
 "nbformat_minor": 5
}
