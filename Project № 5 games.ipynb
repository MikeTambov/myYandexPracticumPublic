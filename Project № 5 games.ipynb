{
 "cells": [
  {
   "cell_type": "markdown",
   "id": "ca8e43ec",
   "metadata": {
    "toc": true
   },
   "source": [
    "<h1>Table of Contents<span class=\"tocSkip\"></span></h1>\n",
    "<div class=\"toc\"><ul class=\"toc-item\"><li><span><a href=\"#Загрузка-и-предварительный-обзор-данных\" data-toc-modified-id=\"Загрузка-и-предварительный-обзор-данных-1\"><span class=\"toc-item-num\">1&nbsp;&nbsp;</span>Загрузка и предварительный обзор данных</a></span></li><li><span><a href=\"#Предобработка-данных\" data-toc-modified-id=\"Предобработка-данных-2\"><span class=\"toc-item-num\">2&nbsp;&nbsp;</span>Предобработка данных</a></span></li><li><span><a href=\"#Подготовка-и-анализ-данных\" data-toc-modified-id=\"Подготовка-и-анализ-данных-3\"><span class=\"toc-item-num\">3&nbsp;&nbsp;</span>Подготовка и анализ данных</a></span><ul class=\"toc-item\"><li><span><a href=\"#Рассчет-и-добавление-новых-столбцов-в-исходный-датафрейм\" data-toc-modified-id=\"Рассчет-и-добавление-новых-столбцов-в-исходный-датафрейм-3.1\"><span class=\"toc-item-num\">3.1&nbsp;&nbsp;</span>Рассчет и добавление новых столбцов в исходный датафрейм</a></span></li><li><span><a href=\"#Анализ-общих-продаж-игр\" data-toc-modified-id=\"Анализ-общих-продаж-игр-3.2\"><span class=\"toc-item-num\">3.2&nbsp;&nbsp;</span>Анализ общих продаж игр</a></span><ul class=\"toc-item\"><li><span><a href=\"#Гистограмма-продаж\" data-toc-modified-id=\"Гистограмма-продаж-3.2.1\"><span class=\"toc-item-num\">3.2.1&nbsp;&nbsp;</span>Гистограмма продаж</a></span></li><li><span><a href=\"#Определение-актуального-временного-периода\" data-toc-modified-id=\"Определение-актуального-временного-периода-3.2.2\"><span class=\"toc-item-num\">3.2.2&nbsp;&nbsp;</span>Определение актуального временного периода</a></span></li><li><span><a href=\"#Анализ-актуального-временного-периода\" data-toc-modified-id=\"Анализ-актуального-временного-периода-3.2.3\"><span class=\"toc-item-num\">3.2.3&nbsp;&nbsp;</span>Анализ актуального временного периода</a></span></li><li><span><a href=\"#Анализ-наиболее-актуальных-игровых-платформ\" data-toc-modified-id=\"Анализ-наиболее-актуальных-игровых-платформ-3.2.4\"><span class=\"toc-item-num\">3.2.4&nbsp;&nbsp;</span>Анализ наиболее актуальных игровых платформ</a></span></li></ul></li><li><span><a href=\"#Анализ-наиболее-популярных-игровых-платформ\" data-toc-modified-id=\"Анализ-наиболее-популярных-игровых-платформ-3.3\"><span class=\"toc-item-num\">3.3&nbsp;&nbsp;</span>Анализ наиболее популярных игровых платформ</a></span><ul class=\"toc-item\"><li><span><a href=\"#Платформа-PS4\" data-toc-modified-id=\"Платформа-PS4-3.3.1\"><span class=\"toc-item-num\">3.3.1&nbsp;&nbsp;</span>Платформа PS4</a></span></li><li><span><a href=\"#Платформа-XOne\" data-toc-modified-id=\"Платформа-XOne-3.3.2\"><span class=\"toc-item-num\">3.3.2&nbsp;&nbsp;</span>Платформа XOne</a></span></li><li><span><a href=\"#Платформа-3DS\" data-toc-modified-id=\"Платформа-3DS-3.3.3\"><span class=\"toc-item-num\">3.3.3&nbsp;&nbsp;</span>Платформа 3DS</a></span></li></ul></li><li><span><a href=\"#Анализ-влияния-параметров-на-продажи-игр\" data-toc-modified-id=\"Анализ-влияния-параметров-на-продажи-игр-3.4\"><span class=\"toc-item-num\">3.4&nbsp;&nbsp;</span>Анализ влияния параметров на продажи игр</a></span><ul class=\"toc-item\"><li><span><a href=\"#Влияние-жанра-на-продажи\" data-toc-modified-id=\"Влияние-жанра-на-продажи-3.4.1\"><span class=\"toc-item-num\">3.4.1&nbsp;&nbsp;</span>Влияние жанра на продажи</a></span></li><li><span><a href=\"#Влияние-региона-на-продажи.\" data-toc-modified-id=\"Влияние-региона-на-продажи.-3.4.2\"><span class=\"toc-item-num\">3.4.2&nbsp;&nbsp;</span>Влияние региона на продажи.</a></span></li><li><span><a href=\"#Влияние-жанра-и-региона-на-продажи.\" data-toc-modified-id=\"Влияние-жанра-и-региона-на-продажи.-3.4.3\"><span class=\"toc-item-num\">3.4.3&nbsp;&nbsp;</span>Влияние жанра и региона на продажи.</a></span></li><li><span><a href=\"#Общие-продажи-в-зависимости-от-возрастного-рейтинга-игры-по-регионам.\" data-toc-modified-id=\"Общие-продажи-в-зависимости-от-возрастного-рейтинга-игры-по-регионам.-3.4.4\"><span class=\"toc-item-num\">3.4.4&nbsp;&nbsp;</span>Общие продажи в зависимости от возрастного рейтинга игры по регионам.</a></span></li></ul></li></ul></li><li><span><a href=\"#Проверка-гипотез\" data-toc-modified-id=\"Проверка-гипотез-4\"><span class=\"toc-item-num\">4&nbsp;&nbsp;</span>Проверка гипотез</a></span><ul class=\"toc-item\"><li><span><a href=\"#Гипотеза-№1\" data-toc-modified-id=\"Гипотеза-№1-4.1\"><span class=\"toc-item-num\">4.1&nbsp;&nbsp;</span>Гипотеза №1</a></span></li><li><span><a href=\"#Гипотеза-№2\" data-toc-modified-id=\"Гипотеза-№2-4.2\"><span class=\"toc-item-num\">4.2&nbsp;&nbsp;</span>Гипотеза №2</a></span></li></ul></li><li><span><a href=\"#Общие-выводы\" data-toc-modified-id=\"Общие-выводы-5\"><span class=\"toc-item-num\">5&nbsp;&nbsp;</span>Общие выводы</a></span></li></ul></div>"
   ]
  },
  {
   "cell_type": "markdown",
   "id": "dfd462dd",
   "metadata": {},
   "source": [
    "# Проект <b>\"Прогнозирование продаж электронных игр\".</b>"
   ]
  },
  {
   "cell_type": "markdown",
   "id": "c7360e2f",
   "metadata": {},
   "source": [
    "**<i>Цель: Определить объем продаж электронных игр в 2017 году по архивным данным</i>**\n",
    "\n",
    "**Задачами проекта является:**\n",
    "1. Определить параметры влияющие на успешность продаж электронных игр.\n",
    "\n",
    "2. Проверить гипотезы:\n",
    "\n",
    "    *- средние пользовательские рейтинги платформ Xbox One и PC одинаковые;*\n",
    "    \n",
    "    *- средние пользовательские рейтинги жанров Action и Sports разные.*\n",
    "\n",
    "\n",
    "**Объектом исследования является датасет со статистикой продаж электронных игр за прошедшие годы.** \n",
    "\n",
    "**Работа выполняется в пять основных этапов:**\n",
    "- загрузка и предварительный обзор данных;\n",
    "- предобрабобтка данных;\n",
    "- подготовка и анализ данных;\n",
    "- проверка поставленных гипотез\n",
    "- общий вывод по проекту."
   ]
  },
  {
   "cell_type": "markdown",
   "id": "85de8280",
   "metadata": {},
   "source": [
    "## Загрузка и предварительный обзор данных"
   ]
  },
  {
   "cell_type": "code",
   "execution_count": 7,
   "id": "6e903d7b",
   "metadata": {},
   "outputs": [],
   "source": [
    "# Импорт библиотек.\n",
    "import pandas as pd\n",
    "#import math as math\n",
    "import numpy as np\n",
    "import matplotlib.pyplot as plt\n",
    "from scipy import stats as st\n",
    "import seaborn as sns"
   ]
  },
  {
   "cell_type": "code",
   "execution_count": 8,
   "id": "a0d620c2",
   "metadata": {},
   "outputs": [],
   "source": [
    "# Чтение исходного файла данных.\n",
    "#data = pd.read_csv('games.csv')\n",
    "\n",
    "data = pd.read_csv('/datasets/games.csv')"
   ]
  },
  {
   "cell_type": "code",
   "execution_count": 9,
   "id": "25aa1c31",
   "metadata": {},
   "outputs": [
    {
     "name": "stdout",
     "output_type": "stream",
     "text": [
      "\u001b[1mОбщая информация по датафрейму data и вывод первых пяти строк \u001b[0m\n",
      "<class 'pandas.core.frame.DataFrame'>\n",
      "RangeIndex: 16715 entries, 0 to 16714\n",
      "Data columns (total 11 columns):\n",
      " #   Column           Non-Null Count  Dtype  \n",
      "---  ------           --------------  -----  \n",
      " 0   Name             16713 non-null  object \n",
      " 1   Platform         16715 non-null  object \n",
      " 2   Year_of_Release  16446 non-null  float64\n",
      " 3   Genre            16713 non-null  object \n",
      " 4   NA_sales         16715 non-null  float64\n",
      " 5   EU_sales         16715 non-null  float64\n",
      " 6   JP_sales         16715 non-null  float64\n",
      " 7   Other_sales      16715 non-null  float64\n",
      " 8   Critic_Score     8137 non-null   float64\n",
      " 9   User_Score       10014 non-null  object \n",
      " 10  Rating           9949 non-null   object \n",
      "dtypes: float64(6), object(5)\n",
      "memory usage: 1.4+ MB\n"
     ]
    },
    {
     "data": {
      "text/html": [
       "<div>\n",
       "<style scoped>\n",
       "    .dataframe tbody tr th:only-of-type {\n",
       "        vertical-align: middle;\n",
       "    }\n",
       "\n",
       "    .dataframe tbody tr th {\n",
       "        vertical-align: top;\n",
       "    }\n",
       "\n",
       "    .dataframe thead th {\n",
       "        text-align: right;\n",
       "    }\n",
       "</style>\n",
       "<table border=\"1\" class=\"dataframe\">\n",
       "  <thead>\n",
       "    <tr style=\"text-align: right;\">\n",
       "      <th></th>\n",
       "      <th>Name</th>\n",
       "      <th>Platform</th>\n",
       "      <th>Year_of_Release</th>\n",
       "      <th>Genre</th>\n",
       "      <th>NA_sales</th>\n",
       "      <th>EU_sales</th>\n",
       "      <th>JP_sales</th>\n",
       "      <th>Other_sales</th>\n",
       "      <th>Critic_Score</th>\n",
       "      <th>User_Score</th>\n",
       "      <th>Rating</th>\n",
       "    </tr>\n",
       "  </thead>\n",
       "  <tbody>\n",
       "    <tr>\n",
       "      <th>0</th>\n",
       "      <td>Wii Sports</td>\n",
       "      <td>Wii</td>\n",
       "      <td>2006.0</td>\n",
       "      <td>Sports</td>\n",
       "      <td>41.36</td>\n",
       "      <td>28.96</td>\n",
       "      <td>3.77</td>\n",
       "      <td>8.45</td>\n",
       "      <td>76.0</td>\n",
       "      <td>8</td>\n",
       "      <td>E</td>\n",
       "    </tr>\n",
       "    <tr>\n",
       "      <th>1</th>\n",
       "      <td>Super Mario Bros.</td>\n",
       "      <td>NES</td>\n",
       "      <td>1985.0</td>\n",
       "      <td>Platform</td>\n",
       "      <td>29.08</td>\n",
       "      <td>3.58</td>\n",
       "      <td>6.81</td>\n",
       "      <td>0.77</td>\n",
       "      <td>NaN</td>\n",
       "      <td>NaN</td>\n",
       "      <td>NaN</td>\n",
       "    </tr>\n",
       "    <tr>\n",
       "      <th>2</th>\n",
       "      <td>Mario Kart Wii</td>\n",
       "      <td>Wii</td>\n",
       "      <td>2008.0</td>\n",
       "      <td>Racing</td>\n",
       "      <td>15.68</td>\n",
       "      <td>12.76</td>\n",
       "      <td>3.79</td>\n",
       "      <td>3.29</td>\n",
       "      <td>82.0</td>\n",
       "      <td>8.3</td>\n",
       "      <td>E</td>\n",
       "    </tr>\n",
       "    <tr>\n",
       "      <th>3</th>\n",
       "      <td>Wii Sports Resort</td>\n",
       "      <td>Wii</td>\n",
       "      <td>2009.0</td>\n",
       "      <td>Sports</td>\n",
       "      <td>15.61</td>\n",
       "      <td>10.93</td>\n",
       "      <td>3.28</td>\n",
       "      <td>2.95</td>\n",
       "      <td>80.0</td>\n",
       "      <td>8</td>\n",
       "      <td>E</td>\n",
       "    </tr>\n",
       "    <tr>\n",
       "      <th>4</th>\n",
       "      <td>Pokemon Red/Pokemon Blue</td>\n",
       "      <td>GB</td>\n",
       "      <td>1996.0</td>\n",
       "      <td>Role-Playing</td>\n",
       "      <td>11.27</td>\n",
       "      <td>8.89</td>\n",
       "      <td>10.22</td>\n",
       "      <td>1.00</td>\n",
       "      <td>NaN</td>\n",
       "      <td>NaN</td>\n",
       "      <td>NaN</td>\n",
       "    </tr>\n",
       "  </tbody>\n",
       "</table>\n",
       "</div>"
      ],
      "text/plain": [
       "                       Name Platform  Year_of_Release         Genre  NA_sales  \\\n",
       "0                Wii Sports      Wii           2006.0        Sports     41.36   \n",
       "1         Super Mario Bros.      NES           1985.0      Platform     29.08   \n",
       "2            Mario Kart Wii      Wii           2008.0        Racing     15.68   \n",
       "3         Wii Sports Resort      Wii           2009.0        Sports     15.61   \n",
       "4  Pokemon Red/Pokemon Blue       GB           1996.0  Role-Playing     11.27   \n",
       "\n",
       "   EU_sales  JP_sales  Other_sales  Critic_Score User_Score Rating  \n",
       "0     28.96      3.77         8.45          76.0          8      E  \n",
       "1      3.58      6.81         0.77           NaN        NaN    NaN  \n",
       "2     12.76      3.79         3.29          82.0        8.3      E  \n",
       "3     10.93      3.28         2.95          80.0          8      E  \n",
       "4      8.89     10.22         1.00           NaN        NaN    NaN  "
      ]
     },
     "metadata": {},
     "output_type": "display_data"
    }
   ],
   "source": [
    "# Вывод общей информации и первых пяти строк датафрейма.\n",
    "print(\"\\033[1m\" 'Общая информация по датафрейму data и вывод первых пяти строк', \"\\033[0m\")\n",
    "data.info()\n",
    "display(data.head())"
   ]
  },
  {
   "cell_type": "markdown",
   "id": "8d9454d4",
   "metadata": {},
   "source": [
    "<blockquote>\n",
    "<b>Выводы по разделу 1:</b>\n",
    "    \n",
    "1. В датафрейме имеются явные пропуски.\n",
    "\n",
    "2. Данные в столбце Year_of_Release необходимо привести к типу данных datetime, но так как нас интересуют только значение года выпуска, то изменим тип данных на int64.\n",
    "    \n",
    "3. Данные в столбцах  Critic_Score и User_Score необходимо привести к числовому типу данных..\n",
    "    \n",
    "4. Данные в столбцах  Name, Platform, Genre, Rating  необходимо привести к типу данных string.\n",
    "\n",
    "5. Требуется изменить наименования столбцов -  привести к нижнему регистру.\n",
    " \n",
    "6. Количество строк 16715, столбцов 11.\n",
    "\n",
    "</blockquote>"
   ]
  },
  {
   "cell_type": "markdown",
   "id": "9bc56ab5",
   "metadata": {},
   "source": [
    "## Предобработка данных"
   ]
  },
  {
   "cell_type": "code",
   "execution_count": 10,
   "id": "81e30a21",
   "metadata": {},
   "outputs": [],
   "source": [
    "#Приведение написания названий столбцов строчными буквами\n",
    "data.columns = [x.lower() for x in data.columns]"
   ]
  },
  {
   "cell_type": "code",
   "execution_count": 11,
   "id": "e1f6f2b3",
   "metadata": {
    "scrolled": true
   },
   "outputs": [
    {
     "data": {
      "text/plain": [
       "name               0.000120\n",
       "platform           0.000000\n",
       "year_of_release    0.016093\n",
       "genre              0.000120\n",
       "na_sales           0.000000\n",
       "eu_sales           0.000000\n",
       "jp_sales           0.000000\n",
       "other_sales        0.000000\n",
       "critic_score       0.513192\n",
       "user_score         0.400897\n",
       "rating             0.404786\n",
       "dtype: float64"
      ]
     },
     "execution_count": 11,
     "metadata": {},
     "output_type": "execute_result"
    }
   ],
   "source": [
    "#Вывод доли пропусков в столбцах.\n",
    "data.isna().mean()"
   ]
  },
  {
   "cell_type": "code",
   "execution_count": 12,
   "id": "34973e3f",
   "metadata": {
    "scrolled": true
   },
   "outputs": [
    {
     "data": {
      "text/html": [
       "<style  type=\"text/css\" >\n",
       "#T_c696d_row0_col0,#T_c696d_row1_col0,#T_c696d_row3_col0,#T_c696d_row4_col0,#T_c696d_row5_col0,#T_c696d_row6_col0,#T_c696d_row7_col0{\n",
       "            background-color:  #3b4cc0;\n",
       "            color:  #f1f1f1;\n",
       "        }#T_c696d_row2_col0{\n",
       "            background-color:  #445acc;\n",
       "            color:  #f1f1f1;\n",
       "        }#T_c696d_row8_col0{\n",
       "            background-color:  #b40426;\n",
       "            color:  #f1f1f1;\n",
       "        }#T_c696d_row9_col0{\n",
       "            background-color:  #f18d6f;\n",
       "            color:  #000000;\n",
       "        }#T_c696d_row10_col0{\n",
       "            background-color:  #f08a6c;\n",
       "            color:  #000000;\n",
       "        }</style><table id=\"T_c696d_\" ><thead>    <tr>        <th class=\"blank level0\" ></th>        <th class=\"col_heading level0 col0\" >0</th>    </tr></thead><tbody>\n",
       "                <tr>\n",
       "                        <th id=\"T_c696d_level0_row0\" class=\"row_heading level0 row0\" >name</th>\n",
       "                        <td id=\"T_c696d_row0_col0\" class=\"data row0 col0\" >0.010000</td>\n",
       "            </tr>\n",
       "            <tr>\n",
       "                        <th id=\"T_c696d_level0_row1\" class=\"row_heading level0 row1\" >platform</th>\n",
       "                        <td id=\"T_c696d_row1_col0\" class=\"data row1 col0\" >0.000000</td>\n",
       "            </tr>\n",
       "            <tr>\n",
       "                        <th id=\"T_c696d_level0_row2\" class=\"row_heading level0 row2\" >year_of_release</th>\n",
       "                        <td id=\"T_c696d_row2_col0\" class=\"data row2 col0\" >1.610000</td>\n",
       "            </tr>\n",
       "            <tr>\n",
       "                        <th id=\"T_c696d_level0_row3\" class=\"row_heading level0 row3\" >genre</th>\n",
       "                        <td id=\"T_c696d_row3_col0\" class=\"data row3 col0\" >0.010000</td>\n",
       "            </tr>\n",
       "            <tr>\n",
       "                        <th id=\"T_c696d_level0_row4\" class=\"row_heading level0 row4\" >na_sales</th>\n",
       "                        <td id=\"T_c696d_row4_col0\" class=\"data row4 col0\" >0.000000</td>\n",
       "            </tr>\n",
       "            <tr>\n",
       "                        <th id=\"T_c696d_level0_row5\" class=\"row_heading level0 row5\" >eu_sales</th>\n",
       "                        <td id=\"T_c696d_row5_col0\" class=\"data row5 col0\" >0.000000</td>\n",
       "            </tr>\n",
       "            <tr>\n",
       "                        <th id=\"T_c696d_level0_row6\" class=\"row_heading level0 row6\" >jp_sales</th>\n",
       "                        <td id=\"T_c696d_row6_col0\" class=\"data row6 col0\" >0.000000</td>\n",
       "            </tr>\n",
       "            <tr>\n",
       "                        <th id=\"T_c696d_level0_row7\" class=\"row_heading level0 row7\" >other_sales</th>\n",
       "                        <td id=\"T_c696d_row7_col0\" class=\"data row7 col0\" >0.000000</td>\n",
       "            </tr>\n",
       "            <tr>\n",
       "                        <th id=\"T_c696d_level0_row8\" class=\"row_heading level0 row8\" >critic_score</th>\n",
       "                        <td id=\"T_c696d_row8_col0\" class=\"data row8 col0\" >51.320000</td>\n",
       "            </tr>\n",
       "            <tr>\n",
       "                        <th id=\"T_c696d_level0_row9\" class=\"row_heading level0 row9\" >user_score</th>\n",
       "                        <td id=\"T_c696d_row9_col0\" class=\"data row9 col0\" >40.090000</td>\n",
       "            </tr>\n",
       "            <tr>\n",
       "                        <th id=\"T_c696d_level0_row10\" class=\"row_heading level0 row10\" >rating</th>\n",
       "                        <td id=\"T_c696d_row10_col0\" class=\"data row10 col0\" >40.480000</td>\n",
       "            </tr>\n",
       "    </tbody></table>"
      ],
      "text/plain": [
       "<pandas.io.formats.style.Styler at 0x7f8f84636a30>"
      ]
     },
     "execution_count": 12,
     "metadata": {},
     "output_type": "execute_result"
    }
   ],
   "source": [
    "##КОД РЕВЬЮЕРА\n",
    "pd.DataFrame(round((data.isna().mean()*100),2)).style.background_gradient('coolwarm')"
   ]
  },
  {
   "cell_type": "markdown",
   "id": "3b58eb55",
   "metadata": {},
   "source": [
    "1. Так доля пропусков в столбцах name, year_of_realease и genre мала, то данные строки с пропусками просто удаляем. \n",
    "2. Строки с пропусками в столбцах critic_score, user_score оставляем.\n",
    "3. Пропущенные значения в столбце rating удалять не будем, заменим их на значение \"no rating\"."
   ]
  },
  {
   "cell_type": "code",
   "execution_count": 13,
   "id": "abe71ea1",
   "metadata": {},
   "outputs": [],
   "source": [
    "data['rating'] = data['rating'].fillna('no rating')"
   ]
  },
  {
   "cell_type": "code",
   "execution_count": 14,
   "id": "397ee059",
   "metadata": {},
   "outputs": [],
   "source": [
    "#Удаление пропусков в соответствующих столбцах.\n",
    "data = data.dropna(subset=['name', 'year_of_release', 'genre']).reset_index(drop=True)"
   ]
  },
  {
   "cell_type": "code",
   "execution_count": 15,
   "id": "acf028bc",
   "metadata": {},
   "outputs": [],
   "source": [
    "# Изменение типа данных в соответствующих столбцах к формату int64.\n",
    "data['year_of_release'] = data['year_of_release'].astype('int64')"
   ]
  },
  {
   "cell_type": "code",
   "execution_count": 16,
   "id": "1f139c4b",
   "metadata": {},
   "outputs": [],
   "source": [
    "# Изменение типа данных в соответствующих столбцах к формату string.\n",
    "data['name'] = data['name'].astype('string')\n",
    "data['platform'] = data['platform'].astype('string')\n",
    "data['genre'] = data['genre'].astype('string')\n",
    "data['rating'] = data['rating'].astype('string')"
   ]
  },
  {
   "cell_type": "code",
   "execution_count": 17,
   "id": "d142cfc9",
   "metadata": {},
   "outputs": [
    {
     "data": {
      "text/plain": [
       "0"
      ]
     },
     "execution_count": 17,
     "metadata": {},
     "output_type": "execute_result"
    }
   ],
   "source": [
    "#Проверка на явные дупликаты, вывод их количества.\n",
    "data.duplicated().sum()"
   ]
  },
  {
   "cell_type": "markdown",
   "id": "43220e67",
   "metadata": {},
   "source": [
    "*Явных дупликатов нет, работаем дальше.*"
   ]
  },
  {
   "cell_type": "markdown",
   "id": "29f27d6a",
   "metadata": {},
   "source": [
    "*Так как нашим основным объектом исследования являются игры, то проверим наличие неявных дупликатов по их названию*"
   ]
  },
  {
   "cell_type": "code",
   "execution_count": 18,
   "id": "9c64d419",
   "metadata": {
    "scrolled": true
   },
   "outputs": [
    {
     "data": {
      "text/html": [
       "<div>\n",
       "<style scoped>\n",
       "    .dataframe tbody tr th:only-of-type {\n",
       "        vertical-align: middle;\n",
       "    }\n",
       "\n",
       "    .dataframe tbody tr th {\n",
       "        vertical-align: top;\n",
       "    }\n",
       "\n",
       "    .dataframe thead th {\n",
       "        text-align: right;\n",
       "    }\n",
       "</style>\n",
       "<table border=\"1\" class=\"dataframe\">\n",
       "  <thead>\n",
       "    <tr style=\"text-align: right;\">\n",
       "      <th></th>\n",
       "      <th>name</th>\n",
       "      <th>platform</th>\n",
       "      <th>year_of_release</th>\n",
       "      <th>genre</th>\n",
       "      <th>na_sales</th>\n",
       "      <th>eu_sales</th>\n",
       "      <th>jp_sales</th>\n",
       "      <th>other_sales</th>\n",
       "      <th>critic_score</th>\n",
       "      <th>user_score</th>\n",
       "      <th>rating</th>\n",
       "    </tr>\n",
       "  </thead>\n",
       "  <tbody>\n",
       "    <tr>\n",
       "      <th>15969</th>\n",
       "      <td>Madden NFL 13</td>\n",
       "      <td>PS3</td>\n",
       "      <td>2012</td>\n",
       "      <td>Sports</td>\n",
       "      <td>0.0</td>\n",
       "      <td>0.01</td>\n",
       "      <td>0.00</td>\n",
       "      <td>0.00</td>\n",
       "      <td>83.0</td>\n",
       "      <td>5.5</td>\n",
       "      <td>E</td>\n",
       "    </tr>\n",
       "    <tr>\n",
       "      <th>1574</th>\n",
       "      <td>Need for Speed: Most Wanted</td>\n",
       "      <td>X360</td>\n",
       "      <td>2005</td>\n",
       "      <td>Racing</td>\n",
       "      <td>1.0</td>\n",
       "      <td>0.13</td>\n",
       "      <td>0.02</td>\n",
       "      <td>0.10</td>\n",
       "      <td>83.0</td>\n",
       "      <td>8.5</td>\n",
       "      <td>T</td>\n",
       "    </tr>\n",
       "    <tr>\n",
       "      <th>11534</th>\n",
       "      <td>Need for Speed: Most Wanted</td>\n",
       "      <td>PC</td>\n",
       "      <td>2012</td>\n",
       "      <td>Racing</td>\n",
       "      <td>0.0</td>\n",
       "      <td>0.06</td>\n",
       "      <td>0.00</td>\n",
       "      <td>0.02</td>\n",
       "      <td>82.0</td>\n",
       "      <td>8.5</td>\n",
       "      <td>T</td>\n",
       "    </tr>\n",
       "  </tbody>\n",
       "</table>\n",
       "</div>"
      ],
      "text/plain": [
       "                              name platform  year_of_release   genre  \\\n",
       "15969                Madden NFL 13      PS3             2012  Sports   \n",
       "1574   Need for Speed: Most Wanted     X360             2005  Racing   \n",
       "11534  Need for Speed: Most Wanted       PC             2012  Racing   \n",
       "\n",
       "       na_sales  eu_sales  jp_sales  other_sales  critic_score user_score  \\\n",
       "15969       0.0      0.01      0.00         0.00          83.0        5.5   \n",
       "1574        1.0      0.13      0.02         0.10          83.0        8.5   \n",
       "11534       0.0      0.06      0.00         0.02          82.0        8.5   \n",
       "\n",
       "      rating  \n",
       "15969      E  \n",
       "1574       T  \n",
       "11534      T  "
      ]
     },
     "execution_count": 18,
     "metadata": {},
     "output_type": "execute_result"
    }
   ],
   "source": [
    "#Проверка на неявные дупликаты по названию игры и платформы\n",
    "data[data.duplicated(subset=['name', 'platform'])].sort_values('name', ascending=True)"
   ]
  },
  {
   "cell_type": "markdown",
   "id": "f947969e",
   "metadata": {},
   "source": [
    "*Уточним причину появления неявныйх дупликатов. Дупликатом будем считать если значения строк в столбцах name и platform будут одинаковыми*"
   ]
  },
  {
   "cell_type": "code",
   "execution_count": 19,
   "id": "49e8bfe6",
   "metadata": {},
   "outputs": [
    {
     "data": {
      "text/html": [
       "<div>\n",
       "<style scoped>\n",
       "    .dataframe tbody tr th:only-of-type {\n",
       "        vertical-align: middle;\n",
       "    }\n",
       "\n",
       "    .dataframe tbody tr th {\n",
       "        vertical-align: top;\n",
       "    }\n",
       "\n",
       "    .dataframe thead th {\n",
       "        text-align: right;\n",
       "    }\n",
       "</style>\n",
       "<table border=\"1\" class=\"dataframe\">\n",
       "  <thead>\n",
       "    <tr style=\"text-align: right;\">\n",
       "      <th></th>\n",
       "      <th>name</th>\n",
       "      <th>platform</th>\n",
       "      <th>year_of_release</th>\n",
       "      <th>genre</th>\n",
       "      <th>na_sales</th>\n",
       "      <th>eu_sales</th>\n",
       "      <th>jp_sales</th>\n",
       "      <th>other_sales</th>\n",
       "      <th>critic_score</th>\n",
       "      <th>user_score</th>\n",
       "      <th>rating</th>\n",
       "    </tr>\n",
       "  </thead>\n",
       "  <tbody>\n",
       "    <tr>\n",
       "      <th>600</th>\n",
       "      <td>Madden NFL 13</td>\n",
       "      <td>PS3</td>\n",
       "      <td>2012</td>\n",
       "      <td>Sports</td>\n",
       "      <td>2.11</td>\n",
       "      <td>0.22</td>\n",
       "      <td>0.0</td>\n",
       "      <td>0.23</td>\n",
       "      <td>83.0</td>\n",
       "      <td>5.5</td>\n",
       "      <td>E</td>\n",
       "    </tr>\n",
       "    <tr>\n",
       "      <th>15969</th>\n",
       "      <td>Madden NFL 13</td>\n",
       "      <td>PS3</td>\n",
       "      <td>2012</td>\n",
       "      <td>Sports</td>\n",
       "      <td>0.00</td>\n",
       "      <td>0.01</td>\n",
       "      <td>0.0</td>\n",
       "      <td>0.00</td>\n",
       "      <td>83.0</td>\n",
       "      <td>5.5</td>\n",
       "      <td>E</td>\n",
       "    </tr>\n",
       "    <tr>\n",
       "      <th>5800</th>\n",
       "      <td>Madden NFL 13</td>\n",
       "      <td>PSV</td>\n",
       "      <td>2012</td>\n",
       "      <td>Sports</td>\n",
       "      <td>0.28</td>\n",
       "      <td>0.00</td>\n",
       "      <td>0.0</td>\n",
       "      <td>0.02</td>\n",
       "      <td>63.0</td>\n",
       "      <td>7.3</td>\n",
       "      <td>E</td>\n",
       "    </tr>\n",
       "    <tr>\n",
       "      <th>3933</th>\n",
       "      <td>Madden NFL 13</td>\n",
       "      <td>Wii</td>\n",
       "      <td>2012</td>\n",
       "      <td>Sports</td>\n",
       "      <td>0.47</td>\n",
       "      <td>0.00</td>\n",
       "      <td>0.0</td>\n",
       "      <td>0.03</td>\n",
       "      <td>NaN</td>\n",
       "      <td>7.3</td>\n",
       "      <td>E</td>\n",
       "    </tr>\n",
       "    <tr>\n",
       "      <th>6956</th>\n",
       "      <td>Madden NFL 13</td>\n",
       "      <td>WiiU</td>\n",
       "      <td>2012</td>\n",
       "      <td>Sports</td>\n",
       "      <td>0.21</td>\n",
       "      <td>0.00</td>\n",
       "      <td>0.0</td>\n",
       "      <td>0.02</td>\n",
       "      <td>75.0</td>\n",
       "      <td>6.7</td>\n",
       "      <td>E</td>\n",
       "    </tr>\n",
       "    <tr>\n",
       "      <th>503</th>\n",
       "      <td>Madden NFL 13</td>\n",
       "      <td>X360</td>\n",
       "      <td>2012</td>\n",
       "      <td>Sports</td>\n",
       "      <td>2.53</td>\n",
       "      <td>0.15</td>\n",
       "      <td>0.0</td>\n",
       "      <td>0.17</td>\n",
       "      <td>81.0</td>\n",
       "      <td>5.8</td>\n",
       "      <td>E</td>\n",
       "    </tr>\n",
       "  </tbody>\n",
       "</table>\n",
       "</div>"
      ],
      "text/plain": [
       "                name platform  year_of_release   genre  na_sales  eu_sales  \\\n",
       "600    Madden NFL 13      PS3             2012  Sports      2.11      0.22   \n",
       "15969  Madden NFL 13      PS3             2012  Sports      0.00      0.01   \n",
       "5800   Madden NFL 13      PSV             2012  Sports      0.28      0.00   \n",
       "3933   Madden NFL 13      Wii             2012  Sports      0.47      0.00   \n",
       "6956   Madden NFL 13     WiiU             2012  Sports      0.21      0.00   \n",
       "503    Madden NFL 13     X360             2012  Sports      2.53      0.15   \n",
       "\n",
       "       jp_sales  other_sales  critic_score user_score rating  \n",
       "600         0.0         0.23          83.0        5.5      E  \n",
       "15969       0.0         0.00          83.0        5.5      E  \n",
       "5800        0.0         0.02          63.0        7.3      E  \n",
       "3933        0.0         0.03           NaN        7.3      E  \n",
       "6956        0.0         0.02          75.0        6.7      E  \n",
       "503         0.0         0.17          81.0        5.8      E  "
      ]
     },
     "execution_count": 19,
     "metadata": {},
     "output_type": "execute_result"
    }
   ],
   "source": [
    "data[data['name'] == 'Madden NFL 13'].sort_values(by='platform')"
   ]
  },
  {
   "cell_type": "markdown",
   "id": "ed015d3c",
   "metadata": {},
   "source": [
    "*Строка с индексом 15969 является неяным дупликатом строки 600, следовательно ее можно удалить.*"
   ]
  },
  {
   "cell_type": "code",
   "execution_count": 20,
   "id": "06bf22c4",
   "metadata": {},
   "outputs": [],
   "source": [
    "#Удаление неявного дупликата\n",
    "data = data.drop(index=15969)"
   ]
  },
  {
   "cell_type": "code",
   "execution_count": 21,
   "id": "720c66b3",
   "metadata": {},
   "outputs": [],
   "source": [
    "#data[data['name'] == 'Need for Speed: Most Wanted'].sort_values(by='platform')"
   ]
  },
  {
   "cell_type": "markdown",
   "id": "4501a56a",
   "metadata": {},
   "source": [
    "*Неявных дупликатов для игры Need for Speed: Most Wanted нет, это переиздания одноименной игры для соответствующей платформы.*"
   ]
  },
  {
   "cell_type": "code",
   "execution_count": 22,
   "id": "c6b58558",
   "metadata": {},
   "outputs": [
    {
     "data": {
      "text/html": [
       "<div>\n",
       "<style scoped>\n",
       "    .dataframe tbody tr th:only-of-type {\n",
       "        vertical-align: middle;\n",
       "    }\n",
       "\n",
       "    .dataframe tbody tr th {\n",
       "        vertical-align: top;\n",
       "    }\n",
       "\n",
       "    .dataframe thead th {\n",
       "        text-align: right;\n",
       "    }\n",
       "</style>\n",
       "<table border=\"1\" class=\"dataframe\">\n",
       "  <thead>\n",
       "    <tr style=\"text-align: right;\">\n",
       "      <th></th>\n",
       "      <th>name</th>\n",
       "      <th>platform</th>\n",
       "      <th>year_of_release</th>\n",
       "      <th>genre</th>\n",
       "      <th>na_sales</th>\n",
       "      <th>eu_sales</th>\n",
       "      <th>jp_sales</th>\n",
       "      <th>other_sales</th>\n",
       "      <th>critic_score</th>\n",
       "      <th>user_score</th>\n",
       "      <th>rating</th>\n",
       "    </tr>\n",
       "  </thead>\n",
       "  <tbody>\n",
       "    <tr>\n",
       "      <th>3810</th>\n",
       "      <td>Frozen: Olaf's Quest</td>\n",
       "      <td>DS</td>\n",
       "      <td>2013</td>\n",
       "      <td>Platform</td>\n",
       "      <td>0.21</td>\n",
       "      <td>0.26</td>\n",
       "      <td>0.00</td>\n",
       "      <td>0.04</td>\n",
       "      <td>NaN</td>\n",
       "      <td>NaN</td>\n",
       "      <td>no rating</td>\n",
       "    </tr>\n",
       "    <tr>\n",
       "      <th>9359</th>\n",
       "      <td>007: Quantum of Solace</td>\n",
       "      <td>DS</td>\n",
       "      <td>2008</td>\n",
       "      <td>Action</td>\n",
       "      <td>0.11</td>\n",
       "      <td>0.01</td>\n",
       "      <td>0.00</td>\n",
       "      <td>0.01</td>\n",
       "      <td>65.0</td>\n",
       "      <td>tbd</td>\n",
       "      <td>T</td>\n",
       "    </tr>\n",
       "    <tr>\n",
       "      <th>4412</th>\n",
       "      <td>007: Quantum of Solace</td>\n",
       "      <td>PS2</td>\n",
       "      <td>2008</td>\n",
       "      <td>Action</td>\n",
       "      <td>0.17</td>\n",
       "      <td>0.00</td>\n",
       "      <td>0.00</td>\n",
       "      <td>0.26</td>\n",
       "      <td>NaN</td>\n",
       "      <td>NaN</td>\n",
       "      <td>no rating</td>\n",
       "    </tr>\n",
       "    <tr>\n",
       "      <th>14427</th>\n",
       "      <td>007: Quantum of Solace</td>\n",
       "      <td>PC</td>\n",
       "      <td>2008</td>\n",
       "      <td>Action</td>\n",
       "      <td>0.01</td>\n",
       "      <td>0.01</td>\n",
       "      <td>0.00</td>\n",
       "      <td>0.00</td>\n",
       "      <td>70.0</td>\n",
       "      <td>6.3</td>\n",
       "      <td>T</td>\n",
       "    </tr>\n",
       "    <tr>\n",
       "      <th>1765</th>\n",
       "      <td>007: Quantum of Solace</td>\n",
       "      <td>PS3</td>\n",
       "      <td>2008</td>\n",
       "      <td>Action</td>\n",
       "      <td>0.43</td>\n",
       "      <td>0.51</td>\n",
       "      <td>0.02</td>\n",
       "      <td>0.19</td>\n",
       "      <td>65.0</td>\n",
       "      <td>6.6</td>\n",
       "      <td>T</td>\n",
       "    </tr>\n",
       "  </tbody>\n",
       "</table>\n",
       "</div>"
      ],
      "text/plain": [
       "                         name platform  year_of_release     genre  na_sales  \\\n",
       "3810     Frozen: Olaf's Quest       DS             2013  Platform      0.21   \n",
       "9359   007: Quantum of Solace       DS             2008    Action      0.11   \n",
       "4412   007: Quantum of Solace      PS2             2008    Action      0.17   \n",
       "14427  007: Quantum of Solace       PC             2008    Action      0.01   \n",
       "1765   007: Quantum of Solace      PS3             2008    Action      0.43   \n",
       "\n",
       "       eu_sales  jp_sales  other_sales  critic_score user_score     rating  \n",
       "3810       0.26      0.00         0.04           NaN        NaN  no rating  \n",
       "9359       0.01      0.00         0.01          65.0        tbd          T  \n",
       "4412       0.00      0.00         0.26           NaN        NaN  no rating  \n",
       "14427      0.01      0.00         0.00          70.0        6.3          T  \n",
       "1765       0.51      0.02         0.19          65.0        6.6          T  "
      ]
     },
     "execution_count": 22,
     "metadata": {},
     "output_type": "execute_result"
    }
   ],
   "source": [
    "#Проверка на неявные дупликаты по названию игры\n",
    "data[data.duplicated(subset=['name'])].sort_values('name', ascending=True).head()"
   ]
  },
  {
   "cell_type": "markdown",
   "id": "f11f01ec",
   "metadata": {},
   "source": [
    "<blockquote>\n",
    "<b>Выводы</b>\n",
    "    \n",
    "1. Присутствуют неявные дупликаты, но это не является ошибкой. В данном случае неявный дупликат по названию и платформе означает переиздание игры. В тоже время дупликат по названию означает издание одной и той же игры на разных платформах. Таким образом, сводить к одному данные дупликаты нельзя, так как они отражают разные сущности.\n",
    "2. Удален неявный дупликат игры Madden NFL 13.\n",
    "</blockquote>"
   ]
  },
  {
   "cell_type": "code",
   "execution_count": 23,
   "id": "da77f923",
   "metadata": {},
   "outputs": [
    {
     "data": {
      "text/plain": [
       "tbd    2376\n",
       "7.8     322\n",
       "8       285\n",
       "8.2     276\n",
       "8.3     252\n",
       "       ... \n",
       "1         2\n",
       "0.9       2\n",
       "1.5       2\n",
       "0         1\n",
       "9.7       1\n",
       "Name: user_score, Length: 96, dtype: int64"
      ]
     },
     "execution_count": 23,
     "metadata": {},
     "output_type": "execute_result"
    }
   ],
   "source": [
    "#Вывод уникальных значений столбца rating\n",
    "data['user_score'].value_counts()"
   ]
  },
  {
   "cell_type": "markdown",
   "id": "ba01d1f9",
   "metadata": {},
   "source": [
    "*Среди уникальных значений столбца user_score присутствует значение tbd, что означает to be determinate в переводе \"будет определено\". Обработаем данный столбец следующим образом: изменим тип данный на float методом to_numeric с параметром errors = 'coerce'*"
   ]
  },
  {
   "cell_type": "code",
   "execution_count": 24,
   "id": "ee8fa064",
   "metadata": {},
   "outputs": [],
   "source": [
    "data['user_score'] = data['user_score'].apply(pd.to_numeric, errors = 'coerce')"
   ]
  },
  {
   "cell_type": "markdown",
   "id": "ccacfd95",
   "metadata": {},
   "source": [
    "<blockquote>\n",
    "<b>Выводы по разделу 2:</b>\n",
    "    \n",
    "1. Изменено написание названий столбцов.\n",
    "2. Данные приведены к соответствующим типам.\n",
    "3. Удалены малозначительные пропуски.\n",
    "4. Проведена проверка на наличие дупликатов. Не выявлены дупликаты являющиеся ошибкой. Выявлен невный дупликат, ошибочная строка удалена.\n",
    "5. Выявлено не соответствующее значение tbd столбцу user_score. Данное значение отработано.  \n",
    "</blockquote>"
   ]
  },
  {
   "cell_type": "markdown",
   "id": "8767f7a9",
   "metadata": {},
   "source": [
    "## Подготовка и анализ данных"
   ]
  },
  {
   "cell_type": "code",
   "execution_count": 25,
   "id": "232f307f",
   "metadata": {},
   "outputs": [],
   "source": [
    "#Установим стандарт размера графических избражений.\n",
    "plt.rcParams[\"figure.figsize\"] = (8,4)"
   ]
  },
  {
   "cell_type": "markdown",
   "id": "9f726561",
   "metadata": {},
   "source": [
    "### Рассчет и добавление новых столбцов в исходный датафрейм"
   ]
  },
  {
   "cell_type": "code",
   "execution_count": 26,
   "id": "a4c98f6c",
   "metadata": {
    "scrolled": true
   },
   "outputs": [],
   "source": [
    "#Добавление столбца total_sales.\n",
    "data['total_sales'] = data['na_sales'] + data['eu_sales'] + data['jp_sales'] + data['other_sales']\n",
    "#data.head()\n",
    "#df[['na_sales','eu_sales','jp_sales', 'other_sales']].sum(axis = 1)"
   ]
  },
  {
   "cell_type": "markdown",
   "id": "decba2b4",
   "metadata": {},
   "source": [
    "### Анализ общих продаж игр"
   ]
  },
  {
   "cell_type": "markdown",
   "id": "c4156b01",
   "metadata": {},
   "source": [
    "#### Гистограмма продаж"
   ]
  },
  {
   "cell_type": "code",
   "execution_count": 27,
   "id": "21810928",
   "metadata": {
    "scrolled": true
   },
   "outputs": [
    {
     "data": {
      "image/png": "[encoded data removed]",
      "text/plain": [
       "<Figure size 576x288 with 1 Axes>"
      ]
     },
     "metadata": {
      "needs_background": "light"
     },
     "output_type": "display_data"
    }
   ],
   "source": [
    "#Построение гистограммы количества продаж по годам.\n",
    "data.groupby(by='year_of_release')['name'].count().plot(kind='bar')\n",
    "plt.grid(True)\n",
    "plt.title('Объем продаж игр по годам, млн. копий')\n",
    "plt.xlabel('year_of_release')\n",
    "plt.ylabel('total_sales')\n",
    "plt.show()"
   ]
  },
  {
   "cell_type": "markdown",
   "id": "a20b9f19",
   "metadata": {},
   "source": [
    "<blockquote>\n",
    "<b>Выводы</b>\n",
    "    \n",
    "На диаграмме видно:\n",
    "1. Практически отсутствие рынка электронных игр с 1980 по 1990 годы.\n",
    "2. Стремительный рост продаж начиная с 1991 по 2008 годы до уровня 1,4 млрд. электронных копий.\n",
    "3. Падение продаж с пика (2008 - 2009) в три раза по 2012 г.\n",
    "4. Сохранение уровня продаж с 2011 г по настоящее время на уровне 500 - 600 млн. электронных копий.\n",
    "5. Для дальнейшего анализ данных необходимо отбросить данные до 1998. Это сделано с тем, чтобы исключить влияние старых игр и платформ на актуальные данные продаж \"эпохи\" масштабного рынка электронных игр.\n",
    "</blockquote>"
   ]
  },
  {
   "cell_type": "code",
   "execution_count": 28,
   "id": "7cb3a336",
   "metadata": {},
   "outputs": [],
   "source": [
    "#Переприсваивание данных датафрейма с исключение ранних данных.\n",
    "data = data[data['year_of_release'] > 1999]"
   ]
  },
  {
   "cell_type": "markdown",
   "id": "7c217e25",
   "metadata": {},
   "source": [
    "#### Определение актуального временного периода"
   ]
  },
  {
   "cell_type": "code",
   "execution_count": 29,
   "id": "726ff070",
   "metadata": {
    "scrolled": true
   },
   "outputs": [
    {
     "data": {
      "text/html": [
       "<div>\n",
       "<style scoped>\n",
       "    .dataframe tbody tr th:only-of-type {\n",
       "        vertical-align: middle;\n",
       "    }\n",
       "\n",
       "    .dataframe tbody tr th {\n",
       "        vertical-align: top;\n",
       "    }\n",
       "\n",
       "    .dataframe thead th {\n",
       "        text-align: right;\n",
       "    }\n",
       "</style>\n",
       "<table border=\"1\" class=\"dataframe\">\n",
       "  <thead>\n",
       "    <tr style=\"text-align: right;\">\n",
       "      <th></th>\n",
       "      <th>platform</th>\n",
       "      <th>total_sales</th>\n",
       "    </tr>\n",
       "  </thead>\n",
       "  <tbody>\n",
       "    <tr>\n",
       "      <th>0</th>\n",
       "      <td>PS2</td>\n",
       "      <td>1233.56</td>\n",
       "    </tr>\n",
       "    <tr>\n",
       "      <th>1</th>\n",
       "      <td>X360</td>\n",
       "      <td>961.24</td>\n",
       "    </tr>\n",
       "    <tr>\n",
       "      <th>2</th>\n",
       "      <td>PS3</td>\n",
       "      <td>931.33</td>\n",
       "    </tr>\n",
       "    <tr>\n",
       "      <th>3</th>\n",
       "      <td>Wii</td>\n",
       "      <td>891.18</td>\n",
       "    </tr>\n",
       "    <tr>\n",
       "      <th>4</th>\n",
       "      <td>DS</td>\n",
       "      <td>802.76</td>\n",
       "    </tr>\n",
       "    <tr>\n",
       "      <th>5</th>\n",
       "      <td>PS4</td>\n",
       "      <td>314.14</td>\n",
       "    </tr>\n",
       "    <tr>\n",
       "      <th>6</th>\n",
       "      <td>GBA</td>\n",
       "      <td>312.88</td>\n",
       "    </tr>\n",
       "    <tr>\n",
       "      <th>7</th>\n",
       "      <td>PSP</td>\n",
       "      <td>289.53</td>\n",
       "    </tr>\n",
       "    <tr>\n",
       "      <th>8</th>\n",
       "      <td>3DS</td>\n",
       "      <td>257.81</td>\n",
       "    </tr>\n",
       "    <tr>\n",
       "      <th>9</th>\n",
       "      <td>XB</td>\n",
       "      <td>251.57</td>\n",
       "    </tr>\n",
       "    <tr>\n",
       "      <th>10</th>\n",
       "      <td>PC</td>\n",
       "      <td>205.72</td>\n",
       "    </tr>\n",
       "  </tbody>\n",
       "</table>\n",
       "</div>"
      ],
      "text/plain": [
       "   platform  total_sales\n",
       "0       PS2      1233.56\n",
       "1      X360       961.24\n",
       "2       PS3       931.33\n",
       "3       Wii       891.18\n",
       "4        DS       802.76\n",
       "5       PS4       314.14\n",
       "6       GBA       312.88\n",
       "7       PSP       289.53\n",
       "8       3DS       257.81\n",
       "9        XB       251.57\n",
       "10       PC       205.72"
      ]
     },
     "execution_count": 29,
     "metadata": {},
     "output_type": "execute_result"
    }
   ],
   "source": [
    "#Создание датафрейма с данными о продажах игр по платформам по годам. Вывод первых 11 платформ с наибольшими продажами\n",
    "sales_by_platform = data.pivot_table(index=['platform'], values='total_sales', aggfunc='sum')\n",
    "sales_by_platform = sales_by_platform.sort_values(by='total_sales', ascending=False).head(11).reset_index()\n",
    "names_platform_all = sales_by_platform['platform'][:11]\n",
    "sales_by_platform\n",
    "#names_platform_all"
   ]
  },
  {
   "cell_type": "code",
   "execution_count": 30,
   "id": "e0159e39",
   "metadata": {
    "scrolled": true
   },
   "outputs": [],
   "source": [
    "#Создание датафрейма с данными о продажах игр по первым 11 платформам согласно рейтинга продаж по годам.\n",
    "data_platform = data.pivot_table(index=['platform', 'year_of_release'], values='total_sales', aggfunc='sum').reset_index()\n",
    "data_platform = data_platform.query('platform in @names_platform_all')"
   ]
  },
  {
   "cell_type": "code",
   "execution_count": 31,
   "id": "0c8eef81",
   "metadata": {
    "scrolled": true
   },
   "outputs": [
    {
     "data": {
      "image/png": "[encoded data removed]",
      "text/plain": [
       "<Figure size 576x288 with 1 Axes>"
      ]
     },
     "metadata": {
      "needs_background": "light"
     },
     "output_type": "display_data"
    }
   ],
   "source": [
    "#Построение графика продаж игр по платформам.\n",
    "for name_platform_all in names_platform_all:\n",
    "    plt.plot(data_platform[(data_platform['platform'] == name_platform_all)]['year_of_release'], \n",
    "             data_platform[(data_platform['platform'] == name_platform_all)]['total_sales'], \n",
    "             label=name_platform_all)\n",
    "plt.legend(loc='upper right')\n",
    "plt.title('Продажи игр в зависимости от платформы, млн. копий')\n",
    "plt.xlabel('year')\n",
    "plt.ylabel('total_sales')\n",
    "plt.show()"
   ]
  },
  {
   "cell_type": "markdown",
   "id": "c83820a6",
   "metadata": {},
   "source": [
    "<blockquote>\n",
    "<b>Выводы</b>\n",
    "    \n",
    "По графикам видно:\n",
    "1. Жизненный срок игровой платформы от 6 до 10 лет, в зависимости от ее популярности, что связано с моральным ее устареванием.\n",
    "2. С 2011 г. все игровые платформы показывают снижение продаж. Только новая PS4 показала уверенный рост с момента выхода, а затем как и другие платформы начала терять популярность.\n",
    "3. Для дальнейшего проведения исследования необходимо отбросить данные содержащие морально устаревшие игровые платформы. То есть, отбрасываем данные до 2012 года.\n",
    "</blockquote>"
   ]
  },
  {
   "cell_type": "code",
   "execution_count": 32,
   "id": "2c929b52",
   "metadata": {},
   "outputs": [],
   "source": [
    "#Создание датафрейма с исключением более ранних данных.\n",
    "data_filtered = data[data['year_of_release'] > 2012]"
   ]
  },
  {
   "cell_type": "markdown",
   "id": "c3aaf501",
   "metadata": {},
   "source": [
    "#### Анализ актуального временного периода"
   ]
  },
  {
   "cell_type": "code",
   "execution_count": 33,
   "id": "09cd67ae",
   "metadata": {},
   "outputs": [
    {
     "data": {
      "text/html": [
       "<div>\n",
       "<style scoped>\n",
       "    .dataframe tbody tr th:only-of-type {\n",
       "        vertical-align: middle;\n",
       "    }\n",
       "\n",
       "    .dataframe tbody tr th {\n",
       "        vertical-align: top;\n",
       "    }\n",
       "\n",
       "    .dataframe thead th {\n",
       "        text-align: right;\n",
       "    }\n",
       "</style>\n",
       "<table border=\"1\" class=\"dataframe\">\n",
       "  <thead>\n",
       "    <tr style=\"text-align: right;\">\n",
       "      <th></th>\n",
       "      <th>total_sales</th>\n",
       "    </tr>\n",
       "    <tr>\n",
       "      <th>platform</th>\n",
       "      <th></th>\n",
       "    </tr>\n",
       "  </thead>\n",
       "  <tbody>\n",
       "    <tr>\n",
       "      <th>PS4</th>\n",
       "      <td>314.14</td>\n",
       "    </tr>\n",
       "    <tr>\n",
       "      <th>PS3</th>\n",
       "      <td>181.43</td>\n",
       "    </tr>\n",
       "    <tr>\n",
       "      <th>XOne</th>\n",
       "      <td>159.32</td>\n",
       "    </tr>\n",
       "    <tr>\n",
       "      <th>3DS</th>\n",
       "      <td>143.25</td>\n",
       "    </tr>\n",
       "    <tr>\n",
       "      <th>X360</th>\n",
       "      <td>136.80</td>\n",
       "    </tr>\n",
       "    <tr>\n",
       "      <th>WiiU</th>\n",
       "      <td>64.63</td>\n",
       "    </tr>\n",
       "    <tr>\n",
       "      <th>PC</th>\n",
       "      <td>39.43</td>\n",
       "    </tr>\n",
       "    <tr>\n",
       "      <th>PSV</th>\n",
       "      <td>32.99</td>\n",
       "    </tr>\n",
       "    <tr>\n",
       "      <th>Wii</th>\n",
       "      <td>13.66</td>\n",
       "    </tr>\n",
       "    <tr>\n",
       "      <th>PSP</th>\n",
       "      <td>3.50</td>\n",
       "    </tr>\n",
       "    <tr>\n",
       "      <th>DS</th>\n",
       "      <td>1.54</td>\n",
       "    </tr>\n",
       "  </tbody>\n",
       "</table>\n",
       "</div>"
      ],
      "text/plain": [
       "          total_sales\n",
       "platform             \n",
       "PS4            314.14\n",
       "PS3            181.43\n",
       "XOne           159.32\n",
       "3DS            143.25\n",
       "X360           136.80\n",
       "WiiU            64.63\n",
       "PC              39.43\n",
       "PSV             32.99\n",
       "Wii             13.66\n",
       "PSP              3.50\n",
       "DS               1.54"
      ]
     },
     "execution_count": 33,
     "metadata": {},
     "output_type": "execute_result"
    }
   ],
   "source": [
    "#Создание датафрейма с данными о продажах игр по платформам по годам. Вывод первых 11 платформ с наибольшими продажами\n",
    "sales_by_platform = data_filtered.pivot_table(index=['platform'], values='total_sales', aggfunc='sum')\n",
    "sales_by_platform.sort_values(by='total_sales', ascending=False).head(11)"
   ]
  },
  {
   "cell_type": "markdown",
   "id": "fe230753",
   "metadata": {},
   "source": [
    "<blockquote>\n",
    "<b>Выводы</b>\n",
    "    \n",
    "1. Удалим данные по платформам PSV, Wii, PSP, DS из-за их малой доли в общем объеме данных, так как окончание их жизненного цикла пришлось на начало рассматриваемого периода.\n",
    "2. Данные по платформе PC оставим, так как они необходимы для дальнейшей работы.\n",
    "</blockquote>"
   ]
  },
  {
   "cell_type": "code",
   "execution_count": 34,
   "id": "5f5e3438",
   "metadata": {
    "scrolled": true
   },
   "outputs": [],
   "source": [
    "#Удаление данных по платформам PSP, Wii, PSV, DS.\n",
    "del_platform = ['PSP', 'Wii', 'PSV', 'DS']\n",
    "data_filtered = data_filtered.query('platform != @del_platform')\n",
    "#data_filtered.head()"
   ]
  },
  {
   "cell_type": "code",
   "execution_count": 35,
   "id": "b35194ed",
   "metadata": {},
   "outputs": [],
   "source": [
    "#Создание  датафрейма содержащего целевые данные по продажам с 2013 года для актуальных игровых платформ.\n",
    "data_platform = data_filtered.pivot_table(index=['platform', 'year_of_release'], \n",
    "                                          values='total_sales', \n",
    "                                          aggfunc='sum').reset_index()\n",
    "#data_platform"
   ]
  },
  {
   "cell_type": "code",
   "execution_count": 36,
   "id": "07f4d424",
   "metadata": {},
   "outputs": [
    {
     "data": {
      "image/png": "[encoded data removed]",
      "text/plain": [
       "<Figure size 576x288 with 1 Axes>"
      ]
     },
     "metadata": {
      "needs_background": "light"
     },
     "output_type": "display_data"
    }
   ],
   "source": [
    "#Построение графиков продаж игр по платформам.\n",
    "for name_platform in data_platform['platform'].unique():\n",
    "    plt.plot(data_platform[(data_platform['platform'] == name_platform)]['year_of_release'], \n",
    "             data_platform[(data_platform['platform'] == name_platform)]['total_sales'], \n",
    "             label=name_platform)\n",
    "plt.legend(loc='upper right')\n",
    "plt.title('Продажи игр в зависимости от платформы, млн. копий')\n",
    "plt.xlabel('year')\n",
    "plt.ylabel('total_sales')\n",
    "plt.show()"
   ]
  },
  {
   "cell_type": "markdown",
   "id": "fe50f99f",
   "metadata": {},
   "source": [
    "<blockquote>\n",
    "<b>Выводы</b>\n",
    "    \n",
    "По графикам видно:\n",
    "1. Пики продаж игр по  платформам PS4 и XOne  пришлись на 2015 год, затем продажи количественно падают.\n",
    "2. Платформы PS3, 3DS, X360 начиная с 2013 года демонструют значительное падение продаж связанное с выходом современных платформ.\n",
    "3. Продажи по платформам WiiU и PC в общем количестве снижаются, но пока не теряют актуальность, продажи в целом снижаются но значительно менее интенсивно, оставаясь в районе 10 млн. копий.\n",
    "4. Значительное снижение объемов продаж электронных игр связано с развитием игрового контента для мобильных телефонов, а также повышением их технических характеристик, позволяющих предложить пользователям высокой качество игровой картинки.\n",
    "</blockquote>"
   ]
  },
  {
   "cell_type": "markdown",
   "id": "1d8f591e",
   "metadata": {},
   "source": [
    "#### Анализ наиболее актуальных игровых платформ"
   ]
  },
  {
   "cell_type": "code",
   "execution_count": 37,
   "id": "95a30894",
   "metadata": {},
   "outputs": [
    {
     "data": {
      "image/png": "[encoded data removed]",
      "text/plain": [
       "<Figure size 576x360 with 1 Axes>"
      ]
     },
     "metadata": {
      "needs_background": "light"
     },
     "output_type": "display_data"
    }
   ],
   "source": [
    "#Построение графика типа boxplot продаж игр по платформам.\n",
    "data_filtered.boxplot('total_sales', by = 'platform', figsize=(8,5))\n",
    "plt.title('Объем продаж по конкретной игре по соответствующей платформе, млн. копий')\n",
    "plt.xlabel('platform')\n",
    "plt.ylabel('total_sales')\n",
    "plt.show()"
   ]
  },
  {
   "cell_type": "code",
   "execution_count": 38,
   "id": "cfaf63bc",
   "metadata": {},
   "outputs": [
    {
     "name": "stdout",
     "output_type": "stream",
     "text": [
      "Совокупный объем продаж игр с объемом продаж менее или равно 2 млн. копий: 514.88\n",
      "Совокупный объем продаж игр с объемом продаж более 2 млн. копий: 524.12\n"
     ]
    }
   ],
   "source": [
    "print(f'Совокупный объем продаж игр с объемом продаж менее или равно 2 млн. копий: {data_filtered[data_filtered[\"total_sales\"] <= 2][\"total_sales\"].sum()}')\n",
    "print(f'Совокупный объем продаж игр с объемом продаж более 2 млн. копий: {data_filtered[data_filtered[\"total_sales\"] > 2][\"total_sales\"].sum()}')"
   ]
  },
  {
   "cell_type": "code",
   "execution_count": 39,
   "id": "2f2db960",
   "metadata": {},
   "outputs": [
    {
     "name": "stdout",
     "output_type": "stream",
     "text": [
      " Количество игр с объемом продаж менее или равно 2 млн. копий: 1658\n",
      " Количество игр с объемом продаж более 2 млн. копий: 119\n"
     ]
    }
   ],
   "source": [
    "print(f' Количество игр с объемом продаж менее или равно 2 млн. копий: {data_filtered[data_filtered[\"total_sales\"] <= 2][\"total_sales\"].count()}')\n",
    "print(f' Количество игр с объемом продаж более 2 млн. копий: {data_filtered[data_filtered[\"total_sales\"] > 2][\"total_sales\"].count()}')"
   ]
  },
  {
   "cell_type": "code",
   "execution_count": 40,
   "id": "8626025f",
   "metadata": {},
   "outputs": [
    {
     "name": "stdout",
     "output_type": "stream",
     "text": [
      " Объемы продаж (млн. копий) по игровым платформам: platform\n",
      "PS4     314.14\n",
      "PS3     181.43\n",
      "XOne    159.32\n",
      "3DS     143.25\n",
      "X360    136.80\n",
      "WiiU     64.63\n",
      "PC       39.43\n",
      "Name: total_sales, dtype: float64\n"
     ]
    }
   ],
   "source": [
    "print(f' Объемы продаж (млн. копий) по игровым платформам: {data_filtered.groupby(\"platform\")[\"total_sales\"].sum().sort_values(ascending=False)}')"
   ]
  },
  {
   "cell_type": "markdown",
   "id": "5066c25b",
   "metadata": {},
   "source": [
    "\n",
    "<blockquote>\n",
    "<b>Выводы</b>\n",
    "    \n",
    "1. Большая часть игр продается тиражом менее 2 млн. копий.\n",
    "2. Половину объема продаж формирует меньшая часть игр, наиболее популярных. Это на графике отображается экстримальными значениями выпадающими из общего распределения продаж по конкретной платформе. Так например, одна игра (платформа PS3) превысила количество продаж в 20 млн. копий. \n",
    "3. Наибольшие продажи за данный период показывают платформы 3DS, PS3, PS4, X360, XOne.\n",
    "4. Платформа PS4 по продажам преобладает над остальными платформами.\n",
    "</blockquote>"
   ]
  },
  {
   "cell_type": "markdown",
   "id": "5860ebb7",
   "metadata": {},
   "source": [
    "### Анализ наиболее популярных игровых платформ"
   ]
  },
  {
   "cell_type": "markdown",
   "id": "b7649501",
   "metadata": {},
   "source": [
    "#### Платформа PS4"
   ]
  },
  {
   "cell_type": "code",
   "execution_count": 41,
   "id": "eea3380d",
   "metadata": {},
   "outputs": [],
   "source": [
    "#Создание датафрема с данными о продажах по платформе PS4\n",
    "data_ps4 = data_filtered.query('platform == \"PS4\"')\n",
    "#data_ps4.isna().mean()"
   ]
  },
  {
   "cell_type": "code",
   "execution_count": 42,
   "id": "c843416d",
   "metadata": {},
   "outputs": [],
   "source": [
    "#Удаление пропущенных значений\n",
    "data_ps4 = data_ps4.dropna()\n",
    "#data_ps4.info()"
   ]
  },
  {
   "cell_type": "code",
   "execution_count": 43,
   "id": "4e488bb6",
   "metadata": {},
   "outputs": [],
   "source": [
    "#Изменение типа данных столбца user_score на float64 и нормализация оценки по отношению к critic_score.\n",
    "data_ps4['user_score'] = data_ps4['user_score'].astype('float64')\n",
    "data_ps4['user_score'] = data_ps4['user_score'] * 10 \n",
    "#data_ps4"
   ]
  },
  {
   "cell_type": "code",
   "execution_count": 44,
   "id": "65a2d174",
   "metadata": {},
   "outputs": [
    {
     "data": {
      "image/png": "[encoded data removed]",
      "text/plain": [
       "<Figure size 576x288 with 1 Axes>"
      ]
     },
     "metadata": {
      "needs_background": "light"
     },
     "output_type": "display_data"
    }
   ],
   "source": [
    "#Построение распределений общих продаж игры от оценки критиков и пользователей.\n",
    "plt.scatter(data_ps4['critic_score'], data_ps4['total_sales'], c=\"g\", alpha=0.6, marker=r'$\\clubsuit$')\n",
    "plt.scatter(data_ps4['user_score'], data_ps4['total_sales'], c=\"r\", alpha=0.6, marker=r'$\\clubsuit$')\n",
    "plt.grid(True)\n",
    "plt.legend(['critic_score', 'user_score'])\n",
    "plt.title('Продажи игр в зависимости от оценки, млн. копий')\n",
    "plt.xlabel('score')\n",
    "plt.ylabel('total_sales, mln.')\n",
    "plt.show()"
   ]
  },
  {
   "cell_type": "code",
   "execution_count": 45,
   "id": "f9634086",
   "metadata": {},
   "outputs": [
    {
     "name": "stdout",
     "output_type": "stream",
     "text": [
      "Корреляция между total_sales и critic_score: 0.40589480145836687\n",
      "Корреляция между total_sales и user_score: -0.03362497596528887\n",
      "Корреляция между critic_score и user_score: 0.5576539782764631\n"
     ]
    }
   ],
   "source": [
    "#Расчет корреляций между данными.\n",
    "print('Корреляция между total_sales и critic_score:', data_ps4['total_sales'].corr(data_ps4['critic_score']))\n",
    "print('Корреляция между total_sales и user_score:', data_ps4['total_sales'].corr(data_ps4['user_score']))\n",
    "print('Корреляция между critic_score и user_score:', data_ps4['critic_score'].corr(data_ps4['user_score']))"
   ]
  },
  {
   "cell_type": "code",
   "execution_count": 46,
   "id": "c45335ab",
   "metadata": {},
   "outputs": [
    {
     "name": "stdout",
     "output_type": "stream",
     "text": [
      "Средняя оценка пользователей игр с объемом продаж более 2 млн. копий: 67.35897435897436\n",
      "Средняя оценка критиков игр с объемом продаж более 2 млн. копий: 82.66666666666667\n"
     ]
    }
   ],
   "source": [
    "print('Средняя оценка пользователей игр с объемом продаж более 2 млн. копий:', data_ps4[data_ps4['total_sales'] > 2]['user_score'].mean())\n",
    "print('Средняя оценка критиков игр с объемом продаж более 2 млн. копий:', data_ps4[data_ps4['total_sales'] > 2]['critic_score'].mean())"
   ]
  },
  {
   "cell_type": "markdown",
   "id": "b067b9f5",
   "metadata": {},
   "source": [
    "<blockquote>\n",
    "<b>Выводы</b>\n",
    "    \n",
    "1. По распределению видно, что для игр с продажами более 2 млн. копий оценка критиков значительно выше, чем оценка пользователей. Это может быть связано с маркетингом -  повышение продаж за счет искусственного повышения рейтинга игр. Также это может быть связано с разной методологией оценки игр. \n",
    "2. Объем продаж имеет слабую корреляцию с оценкой критиков и не имеет корреляции с оценками пользователей.\n",
    "3. Наблюдается слабая корреляция между оценками критиков и пользователей.\n",
    "4. Большинство игр имеет оценку как от критиков, так и пользователей больше 60.\n",
    "</blockquote>"
   ]
  },
  {
   "cell_type": "markdown",
   "id": "28e11011",
   "metadata": {},
   "source": [
    "#### Платформа XOne"
   ]
  },
  {
   "cell_type": "code",
   "execution_count": 47,
   "id": "382ec0f4",
   "metadata": {},
   "outputs": [],
   "source": [
    "#Создание датафрема с данными о продажах по платформе XOne\n",
    "data_XOne = data_filtered.query('platform == \"XOne\"')\n",
    "#data_XOne.isna().mean()"
   ]
  },
  {
   "cell_type": "code",
   "execution_count": 48,
   "id": "ae6914e1",
   "metadata": {},
   "outputs": [],
   "source": [
    "#Удаление пропущенных значений\n",
    "data_XOne = data_XOne.dropna()\n",
    "#data_XOne.info()"
   ]
  },
  {
   "cell_type": "code",
   "execution_count": 49,
   "id": "17da9b86",
   "metadata": {},
   "outputs": [],
   "source": [
    "#Изменение типа данных столбца user_score на float64 и нормализация оценки по отношению к critic_score.\n",
    "data_XOne['user_score'] = data_XOne['user_score'].astype('float64')\n",
    "data_XOne['user_score'] = data_XOne['user_score'] * 10 \n",
    "#data_XOne"
   ]
  },
  {
   "cell_type": "code",
   "execution_count": 50,
   "id": "e4bb8334",
   "metadata": {
    "scrolled": true
   },
   "outputs": [
    {
     "data": {
      "image/png": "[encoded data removed]",
      "text/plain": [
       "<Figure size 576x288 with 1 Axes>"
      ]
     },
     "metadata": {
      "needs_background": "light"
     },
     "output_type": "display_data"
    }
   ],
   "source": [
    "#Построение распределений общих продаж игры от оценки критиков и пользователей.\n",
    "plt.scatter(data_XOne['critic_score'], data_XOne['total_sales'], c=\"g\", alpha=0.6, marker=r'$\\clubsuit$')\n",
    "plt.scatter(data_XOne['user_score'], data_XOne['total_sales'], c=\"r\", alpha=0.6, marker=r'$\\clubsuit$')\n",
    "plt.grid(True)\n",
    "plt.legend(['critic_score', 'user_score'])\n",
    "plt.title('Продажи игр в зависимости от оценки, млн. копий')\n",
    "plt.xlabel('score')\n",
    "plt.ylabel('total_sales, mln.')\n",
    "plt.show()"
   ]
  },
  {
   "cell_type": "code",
   "execution_count": 51,
   "id": "2fe5e9d6",
   "metadata": {},
   "outputs": [
    {
     "name": "stdout",
     "output_type": "stream",
     "text": [
      "Корреляция между total_sales и critic_score: 0.4104220356129637\n",
      "Корреляция между total_sales и user_score: -0.09400318326920865\n",
      "Корреляция между critic_score и user_score: 0.47246211241658054\n"
     ]
    }
   ],
   "source": [
    "#Расчет корреляций между данными.\n",
    "print('Корреляция между total_sales и critic_score:', data_XOne['total_sales'].corr(data_XOne['critic_score']))\n",
    "print('Корреляция между total_sales и user_score:', data_XOne['total_sales'].corr(data_XOne['user_score']))\n",
    "print('Корреляция между critic_score и user_score:', data_XOne['critic_score'].corr(data_XOne['user_score']))"
   ]
  },
  {
   "cell_type": "code",
   "execution_count": 52,
   "id": "732f18b4",
   "metadata": {},
   "outputs": [
    {
     "name": "stdout",
     "output_type": "stream",
     "text": [
      "Средняя оценка пользователей игр с объемом продаж более 2 млн. копий: 59.6\n",
      "Средняя оценка критиков игр с объемом продаж более 2 млн. копий: 82.65\n"
     ]
    }
   ],
   "source": [
    "print('Средняя оценка пользователей игр с объемом продаж более 2 млн. копий:', data_XOne[data_XOne['total_sales'] > 2]['user_score'].mean())\n",
    "print('Средняя оценка критиков игр с объемом продаж более 2 млн. копий:', data_XOne[data_XOne['total_sales'] > 2]['critic_score'].mean())"
   ]
  },
  {
   "cell_type": "markdown",
   "id": "213b08a3",
   "metadata": {},
   "source": [
    "<blockquote>\n",
    "<b>Выводы</b>\n",
    "    \n",
    "1. По распределению видно, что для игр с продажами более 2 млн. копий оценка критиков значительно выше, чем оценка пользователей. Это может быть связано с маркетингом -  повышение продаж за счет искусственного повышения рейтинга игр. Также это может быть связано с разной методологией оценки игр. Аналогичный факт был выявлен и для платформы PS4. Две данные платформы являются флагманами игровой индустрии и подходы к продвижению продаж игр у них схожи. \n",
    "2. Объем продаж имеет слабую корреляцию с оценкой критиков и не имеет корреляции с оценками пользователей.\n",
    "3. Наблюдается слабая корреляция между оценками критиков и пользователей.\n",
    "4. Большинство игр имеет оценку как от критиков, так и пользователей больше 60.\n",
    "</blockquote>"
   ]
  },
  {
   "cell_type": "markdown",
   "id": "fd588d7d",
   "metadata": {},
   "source": [
    "#### Платформа 3DS"
   ]
  },
  {
   "cell_type": "code",
   "execution_count": 53,
   "id": "fee1c305",
   "metadata": {},
   "outputs": [],
   "source": [
    "#Создание датафрема с данными о продажах по платформе 3Ds\n",
    "data_3DS = data_filtered.query('platform == \"3DS\"')\n",
    "#data_3Ds.isna().mean()"
   ]
  },
  {
   "cell_type": "code",
   "execution_count": 54,
   "id": "a59d3d41",
   "metadata": {},
   "outputs": [],
   "source": [
    "#Удаление пропущенных значений\n",
    "data_3DS = data_3DS.dropna()\n",
    "#data_3Ds.info()"
   ]
  },
  {
   "cell_type": "code",
   "execution_count": 55,
   "id": "d43dc5c4",
   "metadata": {},
   "outputs": [],
   "source": [
    "#Изменение типа данных столбца user_score на float64 и нормализация оценки по отношению к critic_score.\n",
    "data_3DS['user_score'] = data_3DS['user_score'].astype('float64')\n",
    "data_3DS['user_score'] = data_3DS['user_score'] * 10 \n",
    "#data_3Ds"
   ]
  },
  {
   "cell_type": "code",
   "execution_count": 56,
   "id": "9d4efa17",
   "metadata": {},
   "outputs": [
    {
     "data": {
      "image/png": "[encoded data removed]",
      "text/plain": [
       "<Figure size 576x288 with 1 Axes>"
      ]
     },
     "metadata": {
      "needs_background": "light"
     },
     "output_type": "display_data"
    }
   ],
   "source": [
    "#Построение распределений общих продаж игры от оценки критиков и пользователей.\n",
    "plt.scatter(data_3DS['critic_score'], data_3DS['total_sales'], c=\"g\", alpha=0.6, marker=r'$\\clubsuit$')\n",
    "plt.scatter(data_3DS['user_score'], data_3DS['total_sales'], c=\"r\", alpha=0.6, marker=r'$\\clubsuit$')\n",
    "plt.grid(True)\n",
    "plt.legend(['critic_score', 'user_score'])\n",
    "plt.title('Продажи игр в зависимости от оценки, млн. копий')\n",
    "plt.xlabel('score')\n",
    "plt.ylabel('total_sales, mln.')\n",
    "plt.show()"
   ]
  },
  {
   "cell_type": "code",
   "execution_count": 57,
   "id": "9433c3a9",
   "metadata": {
    "scrolled": true
   },
   "outputs": [
    {
     "name": "stdout",
     "output_type": "stream",
     "text": [
      "Корреляция между total_sales и critic_score: 0.33923492878531464\n",
      "Корреляция между total_sales и user_score: 0.27299043669424433\n",
      "Корреляция между critic_score и user_score: 0.7695355450006135\n"
     ]
    }
   ],
   "source": [
    "#Расчет корреляций между данными.\n",
    "print('Корреляция между total_sales и critic_score:', data_3DS['total_sales'].corr(data_3DS['critic_score']))\n",
    "print('Корреляция между total_sales и user_score:', data_3DS['total_sales'].corr(data_3DS['user_score']))\n",
    "print('Корреляция между critic_score и user_score:', data_3DS['critic_score'].corr(data_3DS['user_score']))"
   ]
  },
  {
   "cell_type": "code",
   "execution_count": 58,
   "id": "1242770d",
   "metadata": {},
   "outputs": [
    {
     "name": "stdout",
     "output_type": "stream",
     "text": [
      "Средняя оценка пользователей игр с объемом продаж более 1 млн. копий: 79.5\n",
      "Средняя оценка критиков игр с объемом продаж более 1 млн. копий: 76.1\n"
     ]
    }
   ],
   "source": [
    "print('Средняя оценка пользователей игр с объемом продаж более 1 млн. копий:', data_3DS[data_3DS['total_sales'] > 1]['user_score'].mean())\n",
    "print('Средняя оценка критиков игр с объемом продаж более 1 млн. копий:', data_3DS[data_3DS['total_sales'] > 1]['critic_score'].mean())"
   ]
  },
  {
   "cell_type": "markdown",
   "id": "5b18567f",
   "metadata": {},
   "source": [
    "<blockquote>\n",
    "<b>Выводы</b>\n",
    "    \n",
    "1. По распределению видно, что для всех продаж оценка критиков практически соответствует оценке пользователей. Это может быть связано с более качественной методологией оценки игр. \n",
    "2. Объем продаж имеет очень слабую корреляцию с оценками критиков и пользователей.\n",
    "3. Наблюдается сильная корреляция между оценками критиков и пользователей.\n",
    "4. Большинство игр имеет оценку как от критиков, так и пользователей больше 60.\n",
    "</blockquote>"
   ]
  },
  {
   "cell_type": "markdown",
   "id": "abc8927d",
   "metadata": {},
   "source": [
    "### Анализ влияния параметров на продажи игр"
   ]
  },
  {
   "cell_type": "markdown",
   "id": "3bfaf74b",
   "metadata": {},
   "source": [
    "#### Влияние жанра на продажи"
   ]
  },
  {
   "cell_type": "code",
   "execution_count": 59,
   "id": "4769ab40",
   "metadata": {},
   "outputs": [
    {
     "data": {
      "text/html": [
       "<div>\n",
       "<style scoped>\n",
       "    .dataframe tbody tr th:only-of-type {\n",
       "        vertical-align: middle;\n",
       "    }\n",
       "\n",
       "    .dataframe tbody tr th {\n",
       "        vertical-align: top;\n",
       "    }\n",
       "\n",
       "    .dataframe thead tr th {\n",
       "        text-align: left;\n",
       "    }\n",
       "\n",
       "    .dataframe thead tr:last-of-type th {\n",
       "        text-align: right;\n",
       "    }\n",
       "</style>\n",
       "<table border=\"1\" class=\"dataframe\">\n",
       "  <thead>\n",
       "    <tr>\n",
       "      <th></th>\n",
       "      <th>mean</th>\n",
       "      <th>median</th>\n",
       "    </tr>\n",
       "    <tr>\n",
       "      <th></th>\n",
       "      <th>total_sales</th>\n",
       "      <th>total_sales</th>\n",
       "    </tr>\n",
       "    <tr>\n",
       "      <th>genre</th>\n",
       "      <th></th>\n",
       "      <th></th>\n",
       "    </tr>\n",
       "  </thead>\n",
       "  <tbody>\n",
       "    <tr>\n",
       "      <th>Shooter</th>\n",
       "      <td>1.251568</td>\n",
       "      <td>0.440</td>\n",
       "    </tr>\n",
       "    <tr>\n",
       "      <th>Sports</th>\n",
       "      <td>0.781383</td>\n",
       "      <td>0.345</td>\n",
       "    </tr>\n",
       "    <tr>\n",
       "      <th>Role-Playing</th>\n",
       "      <td>0.650386</td>\n",
       "      <td>0.170</td>\n",
       "    </tr>\n",
       "    <tr>\n",
       "      <th>Platform</th>\n",
       "      <td>0.612813</td>\n",
       "      <td>0.250</td>\n",
       "    </tr>\n",
       "    <tr>\n",
       "      <th>Action</th>\n",
       "      <td>0.497528</td>\n",
       "      <td>0.130</td>\n",
       "    </tr>\n",
       "    <tr>\n",
       "      <th>Fighting</th>\n",
       "      <td>0.494203</td>\n",
       "      <td>0.150</td>\n",
       "    </tr>\n",
       "    <tr>\n",
       "      <th>Racing</th>\n",
       "      <td>0.485244</td>\n",
       "      <td>0.125</td>\n",
       "    </tr>\n",
       "    <tr>\n",
       "      <th>Misc</th>\n",
       "      <td>0.430500</td>\n",
       "      <td>0.130</td>\n",
       "    </tr>\n",
       "    <tr>\n",
       "      <th>Simulation</th>\n",
       "      <td>0.374737</td>\n",
       "      <td>0.100</td>\n",
       "    </tr>\n",
       "    <tr>\n",
       "      <th>Puzzle</th>\n",
       "      <td>0.207333</td>\n",
       "      <td>0.070</td>\n",
       "    </tr>\n",
       "    <tr>\n",
       "      <th>Strategy</th>\n",
       "      <td>0.201064</td>\n",
       "      <td>0.080</td>\n",
       "    </tr>\n",
       "    <tr>\n",
       "      <th>Adventure</th>\n",
       "      <td>0.155403</td>\n",
       "      <td>0.060</td>\n",
       "    </tr>\n",
       "  </tbody>\n",
       "</table>\n",
       "</div>"
      ],
      "text/plain": [
       "                    mean      median\n",
       "             total_sales total_sales\n",
       "genre                               \n",
       "Shooter         1.251568       0.440\n",
       "Sports          0.781383       0.345\n",
       "Role-Playing    0.650386       0.170\n",
       "Platform        0.612813       0.250\n",
       "Action          0.497528       0.130\n",
       "Fighting        0.494203       0.150\n",
       "Racing          0.485244       0.125\n",
       "Misc            0.430500       0.130\n",
       "Simulation      0.374737       0.100\n",
       "Puzzle          0.207333       0.070\n",
       "Strategy        0.201064       0.080\n",
       "Adventure       0.155403       0.060"
      ]
     },
     "execution_count": 59,
     "metadata": {},
     "output_type": "execute_result"
    }
   ],
   "source": [
    "data_genre = data_filtered.pivot_table(index='genre', \n",
    "                                       values='total_sales', \n",
    "                                       aggfunc=['mean', 'median']).sort_values(by=('mean', 'total_sales'), ascending=False)\n",
    "data_genre"
   ]
  },
  {
   "cell_type": "code",
   "execution_count": 60,
   "id": "1afc2d47",
   "metadata": {
    "scrolled": true
   },
   "outputs": [
    {
     "data": {
      "image/png": "[encoded data removed]",
      "text/plain": [
       "<Figure size 576x288 with 1 Axes>"
      ]
     },
     "metadata": {
      "needs_background": "light"
     },
     "output_type": "display_data"
    }
   ],
   "source": [
    "data_genre_mean = data_genre['mean']\n",
    "data_genre_mean.plot(kind='bar', subplots=True, figsize=(8, 4), legend=False)\n",
    "plt.title('Средние продажи на 1 игру в зависимости от жанра, млн. копий')\n",
    "plt.xlabel('Жанр')\n",
    "plt.ylabel('млн. копий')\n",
    "plt.show()"
   ]
  },
  {
   "cell_type": "code",
   "execution_count": 61,
   "id": "7b795c5e",
   "metadata": {},
   "outputs": [
    {
     "data": {
      "image/png": "[encoded data removed]",
      "text/plain": [
       "<Figure size 576x288 with 1 Axes>"
      ]
     },
     "metadata": {
      "needs_background": "light"
     },
     "output_type": "display_data"
    }
   ],
   "source": [
    "data_genre_median = data_genre['median'].sort_values(by='total_sales', ascending=False)\n",
    "data_genre_median.plot(kind='bar', subplots=True, figsize=(8, 4), legend=False)\n",
    "plt.title('Медианные продажи на 1 игру в зависимости от жанра, млн. копий')\n",
    "plt.xlabel('Жанр')\n",
    "plt.ylabel('млн. копий')\n",
    "plt.show()"
   ]
  },
  {
   "cell_type": "markdown",
   "id": "5990d94f",
   "metadata": {},
   "source": [
    "<blockquote>\n",
    "<b>Выводы</b>\n",
    "    \n",
    "1. Среди всех игровых платформ наиболее популярными являются следующие жанры в порядке убывания популярности: Shooter, Sports, Role-Plaing, Platform.\n",
    "2. Action, Fighting, Racing по популярности занияли 5, 6 и 7 место соответственно с одинаковыми средними продажами.\n",
    "3. Средние продажи по жанрам Shooter, Sports, Platform, Role_Plaing значительно превышают медианные. Это говорит о том, что в данных жанрах присутствуеют игры-бестселлеры, объемы продаж которых, значительно превышают объемы продаж других игр. \n",
    "</blockquote>"
   ]
  },
  {
   "cell_type": "markdown",
   "id": "504c2f32",
   "metadata": {},
   "source": [
    "#### Влияние региона на продажи."
   ]
  },
  {
   "cell_type": "code",
   "execution_count": 62,
   "id": "bdef23fc",
   "metadata": {},
   "outputs": [],
   "source": [
    "#Создание датафрейма продаж (общее количество и доли в процентах) по платформам с учетом региона продаж.\n",
    "data_region_sales = data_filtered.pivot_table(index='platform', \n",
    "                                              values=['na_sales', 'eu_sales', 'jp_sales'], \n",
    "                                              aggfunc={'na_sales':'sum', 'eu_sales':'sum', 'jp_sales':'sum'}).reset_index()\n",
    "data_region_sales['part_eu_sales'] = data_region_sales['eu_sales'] / data_region_sales['eu_sales'].sum() * 100\n",
    "data_region_sales['part_jp_sales'] = data_region_sales['jp_sales'] / data_region_sales['jp_sales'].sum() * 100\n",
    "data_region_sales['part_na_sales'] = data_region_sales['na_sales'] / data_region_sales['na_sales'].sum() * 100\n",
    "#display(data_region_sales)"
   ]
  },
  {
   "cell_type": "code",
   "execution_count": 63,
   "id": "9a654825",
   "metadata": {
    "scrolled": true
   },
   "outputs": [
    {
     "data": {
      "image/png": "[encoded data removed]",
      "text/plain": [
       "<Figure size 1152x288 with 3 Axes>"
      ]
     },
     "metadata": {},
     "output_type": "display_data"
    }
   ],
   "source": [
    "#Построение графика продаж для Северной Америки\n",
    "data_na_sales = data_region_sales.sort_values(by='part_na_sales', ascending=False)[:5]\n",
    "data_eu_sales = data_region_sales.sort_values(by='part_eu_sales', ascending=False)[:5]\n",
    "data_jp_sales = data_region_sales.sort_values(by='part_jp_sales', ascending=False)[:5]\n",
    "\n",
    "sns.set(rc={'figure.figsize':(16, 4)})\n",
    "\n",
    "plt.subplot(1, 3, 1)\n",
    "sns.barplot(x=data_na_sales['platform'], y=data_na_sales['part_na_sales'])\n",
    "plt.title('Доля продаж в Северной Америке, %')\n",
    "plt.xlabel('Платформа')\n",
    "plt.ylabel('% от общего объема продаж')\n",
    "\n",
    "plt.subplot(1, 3, 2)\n",
    "sns.barplot(x=data_eu_sales['platform'], y=data_eu_sales['part_eu_sales'])\n",
    "plt.title('Доля продаж в Европе, %')\n",
    "plt.xlabel('Платформа')\n",
    "plt.ylabel('% от общего объема продаж')\n",
    "\n",
    "plt.subplot(1, 3, 3)\n",
    "sns.barplot(x=data_jp_sales['platform'], y=data_jp_sales['part_jp_sales'])\n",
    "plt.title('Доля продаж в Японии, %')\n",
    "plt.xlabel('Платформа')\n",
    "plt.ylabel('% от общего объема продаж')\n",
    "\n",
    "plt.show()"
   ]
  },
  {
   "cell_type": "markdown",
   "id": "b8c8fe56",
   "metadata": {},
   "source": [
    "<blockquote>\n",
    "<b>Выводы</b>\n",
    "    \n",
    "1. В Северной Америке платформы PS4, XOne, Xbox заняли примерно одинаковые доли от 19 до 26 %. Несколько меньшую долю имеет платформа PS3 - 15 %. Доля 3DS не превысила 10 %.\n",
    "2. В Европе доля продаж по платформе PS4 составляет около 37 %, на втором месте идет PS3 с долей порядка 17 %. XOne и Xbox имеют долю от 10 до 15 %. Доля 3DS также не превысила 10 %.\n",
    "3. В Японии в отличии от Европы и Северной Америки продажи электронных игр сосредоточены на платформе 3DS (более 50 %). Платформа PS3 преобладает над PS4: 20 % против 12 %. Также встречаются продажи по платформе WiiU. Практически отсутствуют продажи игр для платформ от Microsoft X360.\n",
    "</blockquote>"
   ]
  },
  {
   "cell_type": "markdown",
   "id": "15c652e6",
   "metadata": {},
   "source": [
    "#### Влияние жанра и региона на продажи."
   ]
  },
  {
   "cell_type": "code",
   "execution_count": 64,
   "id": "498c1ea9",
   "metadata": {
    "scrolled": true
   },
   "outputs": [],
   "source": [
    "#Создание датафрейма продаж (общее количество и доли в процентах) по жанрам с учетом региона продаж.\n",
    "data_region_genre_sales = data_filtered.pivot_table(index='genre', \n",
    "                                              values=['na_sales', 'eu_sales', 'jp_sales'], \n",
    "                                              aggfunc={'na_sales':'sum', 'eu_sales':'sum', 'jp_sales':'sum'}).reset_index()\n",
    "data_region_genre_sales['part_eu_sales'] = data_region_genre_sales['eu_sales'] / data_region_genre_sales['eu_sales'].sum() * 100\n",
    "data_region_genre_sales['part_jp_sales'] = data_region_genre_sales['jp_sales'] / data_region_genre_sales['jp_sales'].sum() * 100\n",
    "data_region_genre_sales['part_na_sales'] = data_region_genre_sales['na_sales'] / data_region_genre_sales['na_sales'].sum() * 100\n",
    "#display(data_region_genre_sales)"
   ]
  },
  {
   "cell_type": "code",
   "execution_count": 65,
   "id": "43d0c9ce",
   "metadata": {},
   "outputs": [
    {
     "data": {
      "image/png": "[encoded data removed]",
      "text/plain": [
       "<Figure size 1152x288 with 3 Axes>"
      ]
     },
     "metadata": {},
     "output_type": "display_data"
    }
   ],
   "source": [
    "#Построение графика продаж для Северной Америки\n",
    "data_na_sales = data_region_genre_sales.sort_values(by='part_na_sales', ascending=False)[:5]\n",
    "data_eu_sales = data_region_genre_sales.sort_values(by='part_eu_sales', ascending=False)[:5]\n",
    "data_jp_sales = data_region_genre_sales.sort_values(by='part_jp_sales', ascending=False)[:5]\n",
    "\n",
    "sns.set(rc={'figure.figsize':(16, 4)})\n",
    "\n",
    "plt.subplot(1, 3, 1)\n",
    "sns.barplot(x=data_na_sales['genre'], y=data_na_sales['part_na_sales'])\n",
    "plt.title('Доля продаж в Северной Америке, %')\n",
    "plt.xlabel('Жанр')\n",
    "plt.ylabel('% от общего объема продаж')\n",
    "\n",
    "plt.subplot(1, 3, 2)\n",
    "sns.barplot(x=data_eu_sales['genre'], y=data_eu_sales['part_eu_sales'])\n",
    "plt.title('Доля продаж в Европе, %')\n",
    "plt.xlabel('Жанр')\n",
    "plt.ylabel('% от общего объема продаж')\n",
    "\n",
    "plt.subplot(1, 3, 3)\n",
    "sns.barplot(x=data_jp_sales['genre'], y=data_jp_sales['part_jp_sales'])\n",
    "plt.title('Доля продаж в Японии, %')\n",
    "plt.xlabel('Жанр')\n",
    "plt.ylabel('% от общего объема продаж')\n",
    "\n",
    "plt.show()"
   ]
  },
  {
   "cell_type": "markdown",
   "id": "fa7d8e70",
   "metadata": {},
   "source": [
    "<blockquote>\n",
    "<b>Выводы</b>\n",
    "    \n",
    "1. Жанры Action, Shooter, Sports, Role-Playing наиболее популярны в Северной Америке, Европе. Остальные жанры имеют долю до 5 %.\n",
    "2. Жанры Action и Role-Playing наиболее популярны в Японии. Остальные жанры имеют долю до 5 %.\n",
    "</blockquote>"
   ]
  },
  {
   "cell_type": "markdown",
   "id": "8e20ab5f",
   "metadata": {},
   "source": [
    "#### Общие продажи в зависимости от возрастного рейтинга игры по регионам."
   ]
  },
  {
   "cell_type": "code",
   "execution_count": 66,
   "id": "fb29c902",
   "metadata": {},
   "outputs": [
    {
     "data": {
      "text/html": [
       "<div>\n",
       "<style scoped>\n",
       "    .dataframe tbody tr th:only-of-type {\n",
       "        vertical-align: middle;\n",
       "    }\n",
       "\n",
       "    .dataframe tbody tr th {\n",
       "        vertical-align: top;\n",
       "    }\n",
       "\n",
       "    .dataframe thead th {\n",
       "        text-align: right;\n",
       "    }\n",
       "</style>\n",
       "<table border=\"1\" class=\"dataframe\">\n",
       "  <thead>\n",
       "    <tr style=\"text-align: right;\">\n",
       "      <th></th>\n",
       "      <th>rating</th>\n",
       "      <th>eu_sales</th>\n",
       "      <th>jp_sales</th>\n",
       "      <th>na_sales</th>\n",
       "      <th>part_eu_sales</th>\n",
       "      <th>part_jp_sales</th>\n",
       "      <th>part_na_sales</th>\n",
       "    </tr>\n",
       "  </thead>\n",
       "  <tbody>\n",
       "    <tr>\n",
       "      <th>0</th>\n",
       "      <td>E</td>\n",
       "      <td>80.67</td>\n",
       "      <td>14.94</td>\n",
       "      <td>77.93</td>\n",
       "      <td>21.274856</td>\n",
       "      <td>12.570467</td>\n",
       "      <td>18.313202</td>\n",
       "    </tr>\n",
       "    <tr>\n",
       "      <th>1</th>\n",
       "      <td>E10+</td>\n",
       "      <td>36.72</td>\n",
       "      <td>5.61</td>\n",
       "      <td>47.57</td>\n",
       "      <td>9.684055</td>\n",
       "      <td>4.720236</td>\n",
       "      <td>11.178738</td>\n",
       "    </tr>\n",
       "    <tr>\n",
       "      <th>2</th>\n",
       "      <td>M</td>\n",
       "      <td>144.18</td>\n",
       "      <td>12.69</td>\n",
       "      <td>163.78</td>\n",
       "      <td>38.024157</td>\n",
       "      <td>10.677324</td>\n",
       "      <td>38.487569</td>\n",
       "    </tr>\n",
       "    <tr>\n",
       "      <th>3</th>\n",
       "      <td>T</td>\n",
       "      <td>40.70</td>\n",
       "      <td>15.36</td>\n",
       "      <td>48.39</td>\n",
       "      <td>10.733688</td>\n",
       "      <td>12.923854</td>\n",
       "      <td>11.371434</td>\n",
       "    </tr>\n",
       "    <tr>\n",
       "      <th>4</th>\n",
       "      <td>no rating</td>\n",
       "      <td>76.91</td>\n",
       "      <td>70.25</td>\n",
       "      <td>87.87</td>\n",
       "      <td>20.283243</td>\n",
       "      <td>59.108119</td>\n",
       "      <td>20.649058</td>\n",
       "    </tr>\n",
       "  </tbody>\n",
       "</table>\n",
       "</div>"
      ],
      "text/plain": [
       "      rating  eu_sales  jp_sales  na_sales  part_eu_sales  part_jp_sales  \\\n",
       "0          E     80.67     14.94     77.93      21.274856      12.570467   \n",
       "1       E10+     36.72      5.61     47.57       9.684055       4.720236   \n",
       "2          M    144.18     12.69    163.78      38.024157      10.677324   \n",
       "3          T     40.70     15.36     48.39      10.733688      12.923854   \n",
       "4  no rating     76.91     70.25     87.87      20.283243      59.108119   \n",
       "\n",
       "   part_na_sales  \n",
       "0      18.313202  \n",
       "1      11.178738  \n",
       "2      38.487569  \n",
       "3      11.371434  \n",
       "4      20.649058  "
      ]
     },
     "metadata": {},
     "output_type": "display_data"
    }
   ],
   "source": [
    "#Создание датафрейма продаж (общее количество и доли в процентах) по ретингам с учетом региона продаж.\n",
    "data_region_rating_sales = data_filtered.pivot_table(index='rating', \n",
    "                                              values=['na_sales', 'eu_sales', 'jp_sales'], \n",
    "                                              aggfunc={'na_sales':'sum', 'eu_sales':'sum', 'jp_sales':'sum'}).reset_index()\n",
    "data_region_rating_sales['part_eu_sales'] = data_region_rating_sales['eu_sales'] / data_region_rating_sales['eu_sales'].sum() * 100\n",
    "data_region_rating_sales['part_jp_sales'] = data_region_rating_sales['jp_sales'] / data_region_rating_sales['jp_sales'].sum() * 100\n",
    "data_region_rating_sales['part_na_sales'] = data_region_rating_sales['na_sales'] / data_region_rating_sales['na_sales'].sum() * 100\n",
    "display(data_region_rating_sales)"
   ]
  },
  {
   "cell_type": "code",
   "execution_count": 67,
   "id": "b9040036",
   "metadata": {
    "scrolled": true
   },
   "outputs": [
    {
     "data": {
      "image/png": "[encoded data removed]",
      "text/plain": [
       "<Figure size 1152x288 with 3 Axes>"
      ]
     },
     "metadata": {},
     "output_type": "display_data"
    }
   ],
   "source": [
    "#Построение графика продаж для Северной Америки\n",
    "data_na_sales = data_region_rating_sales.sort_values(by='part_na_sales', ascending=False)[:5]\n",
    "data_eu_sales = data_region_rating_sales.sort_values(by='part_eu_sales', ascending=False)[:5]\n",
    "data_jp_sales = data_region_rating_sales.sort_values(by='part_jp_sales', ascending=False)[:5]\n",
    "\n",
    "sns.set(rc={'figure.figsize':(16, 4)})\n",
    "\n",
    "plt.subplot(1, 3, 1)\n",
    "sns.barplot(x=data_na_sales['rating'], y=data_na_sales['part_na_sales'])\n",
    "plt.title('Доля продаж в Северной Америке, %')\n",
    "plt.xlabel('Рейтинг')\n",
    "plt.ylabel('% от общего объема продаж')\n",
    "\n",
    "plt.subplot(1, 3, 2)\n",
    "sns.barplot(x=data_eu_sales['rating'], y=data_eu_sales['part_eu_sales'])\n",
    "plt.title('Доля продаж в Европе, %')\n",
    "plt.xlabel('Рейтинг')\n",
    "plt.ylabel('% от общего объема продаж')\n",
    "\n",
    "plt.subplot(1, 3, 3)\n",
    "sns.barplot(x=data_jp_sales['rating'], y=data_jp_sales['part_jp_sales'])\n",
    "plt.title('Доля продаж в Японии, %')\n",
    "plt.xlabel('Рейтинг')\n",
    "plt.ylabel('% от общего объема продаж')\n",
    "\n",
    "plt.show()"
   ]
  },
  {
   "cell_type": "markdown",
   "id": "84df8012",
   "metadata": {},
   "source": [
    "<blockquote>\n",
    "<b>Выводы</b>\n",
    "    \n",
    "1. Игры с рейтингом \"no rating\" (искусственное наименование) это в большинстве случае онлайн игры.    \n",
    "2. Рейтинг \"M\" преобладает в Северной Америке и Европе с долей около 37 %. На втором месте в Северной Америке идут игры с рейтингом \"no rating\" c долей около 20 %. На третьем месте идет рейтинг \"Е\". \n",
    "3. В Европе второе и третье место заняли игры с рейтингом \"Е\" и \"no rating\" с долей около 20 %.\n",
    "4. Игры с рейтингами \"Т\" и \"Е10+\" в Северной Америке и Европе имеют долю равные доли около 10 %.\n",
    "5. В Японии в отличии от Северной Америки и Европы на первом месте идут игры рейтингом \"no rating\", игрый с рейтингами \"Т\", \"Е\" и \"М\" имеют долю продаж около 10 % каждая. В Японии наибольшее распространены онлайн игры.\n",
    "\n",
    "Примечание:\n",
    "- \"no rating\" -  преимущественно онлайн игры;\n",
    "- \"E\" - для всех;\n",
    "- \"Е10+\" - для всех от 10 лет и старше;\n",
    "- \"Т\" - подросткам;\n",
    "- \"М\" - для взрослых;\n",
    "</blockquote>"
   ]
  },
  {
   "cell_type": "markdown",
   "id": "138aee12",
   "metadata": {},
   "source": [
    "<blockquote>\n",
    "<b>Выводы по разделу 3</b>\n",
    "\n",
    "1. Наибольшую популярность имеют платформы от Sony, Microsoft и Nintendo. Их платформы сменяя поколения неуклонно держат лидерство в последние десятилетия. В Европе и Северной Америке большую долю продаж электроных игр приходится на платформы раных поколений от Sony и Microsoft, в Японии от Nintendo.\n",
    "2. Практически все игровые платформы утрачивают долю рынка - это связано с развитием индустрии электронных игр для мобильных телефонов. Наибольшую долю в данный момент из традиционных платформ имеет PS4 от Sony.\n",
    "3. Игры для персональных компьютеров утрачивают долю в общем объеме продаж во всех регионах.\n",
    "4. Наблюдается различие в предпочтении игровых жанров между европескими и азиатскими потребителями. Так в Японии преобладает жанр Role-plaing и Action, а в Северной Америке и Европе - Action и Shooter. В Японии преобладают онлайн игры с долей более 50 %, в Европе и Северной Америке доля онлайн игр не составляет порядка 20 %.\n",
    "\n",
    "</blockquote>"
   ]
  },
  {
   "cell_type": "markdown",
   "id": "9482e9a7",
   "metadata": {},
   "source": [
    "## Проверка гипотез"
   ]
  },
  {
   "cell_type": "markdown",
   "id": "affa11ca",
   "metadata": {},
   "source": [
    "### Гипотеза №1"
   ]
  },
  {
   "cell_type": "markdown",
   "id": "21aee98e",
   "metadata": {},
   "source": [
    "Основная гипотеза: \"Средние пользовательские рейтинги платформ Xbox One и PC одинаковы\".\n",
    "\n",
    "Альтернативная гипотеза: \"Средние пользовательские рейтинги платформ Xbox One и PC различаются\"."
   ]
  },
  {
   "cell_type": "code",
   "execution_count": 68,
   "id": "94f2f0a8",
   "metadata": {
    "scrolled": true
   },
   "outputs": [],
   "source": [
    "#Создание датафрейма для проверки гипотезы.\n",
    "data_stat_hyp = data_filtered[(data_filtered['platform'] == 'XOne') | (data_filtered['platform'] == 'PC')]\n",
    "data_stat_hyp = data_stat_hyp.dropna(subset=['user_score'])\n",
    "data_stat_hyp['user_score'] = data_stat_hyp['user_score'].astype('float64')\n",
    "#data_stat_hyp.info()"
   ]
  },
  {
   "cell_type": "code",
   "execution_count": 69,
   "id": "105942b3",
   "metadata": {},
   "outputs": [],
   "source": [
    "#print(data_stat_hyp[data_stat_hyp['platform'] == 'XOne']['user_score'].describe())\n",
    "#print(data_stat_hyp[data_stat_hyp['platform'] == 'PC']['user_score'].describe())"
   ]
  },
  {
   "cell_type": "code",
   "execution_count": 70,
   "id": "d30d3154",
   "metadata": {
    "scrolled": true
   },
   "outputs": [
    {
     "name": "stdout",
     "output_type": "stream",
     "text": [
      "p-значение:  0.14012658403611647\n",
      "Не получилось отвергнуть нулевую гипотезу\n"
     ]
    }
   ],
   "source": [
    "alpha = .05 # критический уровень статистической значимости. \n",
    "# Если p-value окажется меньше него гипотезу отвергнуть мы не сможем.\n",
    "\n",
    "# equal_var = False так как условия тарифов сильно различаются.\n",
    "results = st.ttest_ind(\n",
    "    data_stat_hyp[data_stat_hyp['platform'] == 'XOne']['user_score'], \n",
    "   data_stat_hyp[data_stat_hyp['platform'] == 'PC']['user_score'])\n",
    "\n",
    "print('p-значение: ', results.pvalue)\n",
    "\n",
    "if results.pvalue < alpha:\n",
    "    print(\"Отвергаем нулевую гипотезу\")\n",
    "else:\n",
    "    print(\"Не получилось отвергнуть нулевую гипотезу\")"
   ]
  },
  {
   "cell_type": "markdown",
   "id": "2119f605",
   "metadata": {},
   "source": [
    "<blockquote>\n",
    "<b>Выводы</b>\n",
    "    \n",
    "1. Средние пользовательские рейтинги платформ Xbox One и PC вероятно одинаковы.\n",
    "</blockquote>"
   ]
  },
  {
   "cell_type": "markdown",
   "id": "296d6dbb",
   "metadata": {},
   "source": [
    "### Гипотеза №2"
   ]
  },
  {
   "cell_type": "markdown",
   "id": "483bac4a",
   "metadata": {},
   "source": [
    "Основная гипотеза: \"Средние пользовательские рейтинги жанров Action и Sports одинаковы\".\n",
    "\n",
    "Альтернативная гипотеза: \"Средние пользовательские рейтинги жанров Action и Sports различаются\"."
   ]
  },
  {
   "cell_type": "code",
   "execution_count": 71,
   "id": "449d113d",
   "metadata": {},
   "outputs": [
    {
     "name": "stdout",
     "output_type": "stream",
     "text": [
      "<class 'pandas.core.frame.DataFrame'>\n",
      "Int64Index: 508 entries, 16 to 16421\n",
      "Data columns (total 12 columns):\n",
      " #   Column           Non-Null Count  Dtype  \n",
      "---  ------           --------------  -----  \n",
      " 0   name             508 non-null    string \n",
      " 1   platform         508 non-null    string \n",
      " 2   year_of_release  508 non-null    int64  \n",
      " 3   genre            508 non-null    string \n",
      " 4   na_sales         508 non-null    float64\n",
      " 5   eu_sales         508 non-null    float64\n",
      " 6   jp_sales         508 non-null    float64\n",
      " 7   other_sales      508 non-null    float64\n",
      " 8   critic_score     396 non-null    float64\n",
      " 9   user_score       508 non-null    float64\n",
      " 10  rating           508 non-null    string \n",
      " 11  total_sales      508 non-null    float64\n",
      "dtypes: float64(7), int64(1), string(4)\n",
      "memory usage: 51.6 KB\n"
     ]
    }
   ],
   "source": [
    "#Создание датафрейма для проверки гипотезы.\n",
    "data_stat_hyp = data_filtered[(data_filtered['genre'] == 'Action') | (data_filtered['genre'] == 'Sports')]\n",
    "data_stat_hyp = data_stat_hyp.dropna(subset=['user_score'])\n",
    "data_stat_hyp['user_score'] = data_stat_hyp['user_score'].astype('float64')\n",
    "data_stat_hyp.info()"
   ]
  },
  {
   "cell_type": "code",
   "execution_count": 72,
   "id": "d6100e21",
   "metadata": {
    "scrolled": true
   },
   "outputs": [],
   "source": [
    "#print(data_stat_hyp[data_stat_hyp['genre'] == 'Action']['user_score'].describe())\n",
    "#print(data_stat_hyp[data_stat_hyp['genre'] == 'Sports']['user_score'].describe())"
   ]
  },
  {
   "cell_type": "code",
   "execution_count": 73,
   "id": "29c3da87",
   "metadata": {},
   "outputs": [
    {
     "name": "stdout",
     "output_type": "stream",
     "text": [
      "p-значение:  4.736936203116832e-25\n",
      "Отвергаем нулевую гипотезу\n"
     ]
    }
   ],
   "source": [
    "alpha = .05 # критический уровень статистической значимости. \n",
    "# Если p-value окажется меньше него гипотезу отвергнуть мы не сможем.\n",
    "\n",
    "# equal_var = False так как условия тарифов сильно различаются.\n",
    "results = st.ttest_ind(\n",
    "    data_stat_hyp[data_stat_hyp['genre'] == 'Action']['user_score'], \n",
    "   data_stat_hyp[data_stat_hyp['genre'] == 'Sports']['user_score'])\n",
    "\n",
    "print('p-значение: ', results.pvalue)\n",
    "\n",
    "if results.pvalue < alpha:\n",
    "    print(\"Отвергаем нулевую гипотезу\")\n",
    "else:\n",
    "    print(\"Не получилось отвергнуть нулевую гипотезу\")"
   ]
  },
  {
   "cell_type": "markdown",
   "id": "a34c7383",
   "metadata": {},
   "source": [
    "<blockquote>\n",
    "<b>Выводы</b>\n",
    "    \n",
    "1. Средние пользовательские рейтинги жанров Action и Sports вероятно различаются.\n",
    "</blockquote>"
   ]
  },
  {
   "cell_type": "markdown",
   "id": "77a230ab",
   "metadata": {},
   "source": [
    "<blockquote>\n",
    "<b>Выводы по разделу 4</b>\n",
    "\n",
    "Гипотезы подтвердились:\n",
    "    \n",
    "    - средние пользовательские рейтинги платформ Xbox One и PC вероятно одинаковы;\n",
    "    - средние пользовательские рейтинги жанров Action и Sports вероятно различаются.\n",
    "</blockquote>"
   ]
  },
  {
   "cell_type": "markdown",
   "id": "111375e5",
   "metadata": {},
   "source": [
    "## Общие выводы"
   ]
  },
  {
   "cell_type": "markdown",
   "id": "9997c5f4",
   "metadata": {},
   "source": [
    "<blockquote>\n",
    "<b>Выводы по результатам работы</b>\n",
    "    \n",
    "1. Рынок электронных игр в последние годы далек от объема продаж в 2008 - 2012 годах.\n",
    "2. В ближайщие годы мы можем ориентироваться на совокупный объем продаж в диапазоне 400 - 600 млн. копий, с вероятностью снижения данного показателя. Большую конкуренцию в последние годы создают игры для мобильных телефонов, данный факт необходимо учитывать при работе с долгоиграющими проектами.\n",
    "3. Sony, Microsoft и Nintendo являются главными производителями игровых консолей удерживающих первые строчки по распространенности. Поколения игровых консолей данных производителей сменя друг друга удерживают долю рынка.\n",
    "4. Большая доля игр продаются тиражом не более 2 млн. копий. Наиболее успешные игры преодолевают это значение.\n",
    "5. Среди последних поколений игровых платформ разных производителей (Sony, Microsoft, Nintendo).\n",
    "6. Наблюдается слабая прямая корреляция между объемом продаж и оценкой игры критиками для всех платформ (PS4, XOne, 3DS). Также наблюдается слабая прямая корреляция между объемом продаж и оценкой игры критиками для платформы 3DS, при этом аналогичной корреляции не наблюдается для платформ PS4 и XOne. Агрессивный маркетинг способствует увеличению продаж.\n",
    "7. Оценки пользователей за частую меньше оценок критиков для платформ PS4 и XOne, в тоже время для платформы 3DS данные показатели примерно равны.\n",
    "8. Наибольшую популярность имеют жанры игр подразумевающие активное участие игрока в игровом процессе. Так популярны такие жанры как: Action, Shooter, Sports а также те игры в которых игроку дается возможность перевоплотиться - Role_Plaing.\n",
    "9. Action, Shooter и Sports наиболее популярны в Северной Америке, Европе и других странах. В Японии пользуются спросом Action и Role-plaing.\n",
    "10. На данный момент игровая индустрия покрывает все возрастные группы, на первое место выходят игры с рейтингом для взрослых. Значительная доля идет без рейтинга - онлайн игры, так, например, в Японии доля продаж онлайн игр превышает 50 %.\n",
    "11. Средние пользовательские рейтинги платформ Xbox One и PC вероятно одинаковы. Что говорит, о том, пользователи данных платформ имеют одинаковае интересы и модель поведения.\n",
    "12. Средние пользовательские рейтинги жанров Action и Sports вероятно различаются. Возможно это связано с различной моделью поведения пользователей или качеством игр.\n",
    "\n",
    "<b>Подход к оценке успешности продукта:</b>\n",
    "1. Наиболее успешные продажи в зависимости от территории покажут игры следующих жанров:\n",
    "    - Северная Америка, Европа и другие страны: Action, Shooter, Sports, Role-plaing;\n",
    "    - Япония:  Action, Role-plaing.\n",
    "2. Стоит отметить, что онлайн игры также могут показывать высокие продажи, например, в Японии (возможно и в других Азиатских странах).\n",
    "3. В ближайшие годы следует отдать предпочтение следующим игровым платформам: PS4, XOne, 3DS. Игры для данных игровых платформ будут наиболее востребованы.\n",
    "4. В Северной Америке, Европе и других странах  объем продаж имеет слабую корреляцию с оценками критиков. Таким образом, искусственно повышая оценки играм можно несколько повысить объемы продаж. Данный факт необходимо учитывать при разработке маркетингового плана выхода игры на рынок. В Японии дополнительно необходимо заручиться поддержкой игроков.\n",
    "</blockquote>"
   ]
  }
 ],
 "metadata": {
  "ExecuteTimeLog": [
   {
    "duration": 101,
    "start_time": "2022-04-30T19:06:45.283Z"
   },
   {
    "duration": 70,
    "start_time": "2022-04-30T19:09:12.046Z"
   },
   {
    "duration": 1726,
    "start_time": "2022-04-30T19:09:16.996Z"
   },
   {
    "duration": 57,
    "start_time": "2022-04-30T19:09:18.725Z"
   },
   {
    "duration": 43,
    "start_time": "2022-04-30T19:09:18.784Z"
   },
   {
    "duration": 5,
    "start_time": "2022-04-30T19:09:18.830Z"
   },
   {
    "duration": 18,
    "start_time": "2022-04-30T19:09:18.854Z"
   },
   {
    "duration": 111,
    "start_time": "2022-04-30T19:09:18.875Z"
   },
   {
    "duration": 16,
    "start_time": "2022-04-30T19:09:18.988Z"
   },
   {
    "duration": 20,
    "start_time": "2022-04-30T19:09:19.006Z"
   },
   {
    "duration": 47,
    "start_time": "2022-04-30T19:09:19.029Z"
   },
   {
    "duration": 33,
    "start_time": "2022-04-30T19:09:19.082Z"
   },
   {
    "duration": 35,
    "start_time": "2022-04-30T19:09:19.118Z"
   },
   {
    "duration": 43,
    "start_time": "2022-04-30T19:09:19.156Z"
   },
   {
    "duration": 11,
    "start_time": "2022-04-30T19:09:19.202Z"
   },
   {
    "duration": 26,
    "start_time": "2022-04-30T19:09:19.216Z"
   },
   {
    "duration": 28,
    "start_time": "2022-04-30T19:09:19.245Z"
   },
   {
    "duration": 594,
    "start_time": "2022-04-30T19:09:19.276Z"
   },
   {
    "duration": 11,
    "start_time": "2022-04-30T19:09:19.873Z"
   },
   {
    "duration": 25,
    "start_time": "2022-04-30T19:09:19.886Z"
   },
   {
    "duration": 52,
    "start_time": "2022-04-30T19:09:19.914Z"
   },
   {
    "duration": 468,
    "start_time": "2022-04-30T19:09:19.968Z"
   },
   {
    "duration": 6,
    "start_time": "2022-04-30T19:09:20.439Z"
   },
   {
    "duration": 31,
    "start_time": "2022-04-30T19:09:20.448Z"
   },
   {
    "duration": 11,
    "start_time": "2022-04-30T19:09:20.482Z"
   },
   {
    "duration": 18,
    "start_time": "2022-04-30T19:09:20.495Z"
   },
   {
    "duration": 400,
    "start_time": "2022-04-30T19:09:20.515Z"
   },
   {
    "duration": 360,
    "start_time": "2022-04-30T19:09:20.918Z"
   },
   {
    "duration": 12,
    "start_time": "2022-04-30T19:09:21.281Z"
   },
   {
    "duration": 9,
    "start_time": "2022-04-30T19:09:21.300Z"
   },
   {
    "duration": 43,
    "start_time": "2022-04-30T19:09:21.312Z"
   },
   {
    "duration": 13,
    "start_time": "2022-04-30T19:09:21.359Z"
   },
   {
    "duration": 14,
    "start_time": "2022-04-30T19:09:21.375Z"
   },
   {
    "duration": 17,
    "start_time": "2022-04-30T19:09:21.391Z"
   },
   {
    "duration": 7,
    "start_time": "2022-04-30T19:09:21.410Z"
   },
   {
    "duration": 601,
    "start_time": "2022-04-30T19:09:21.419Z"
   },
   {
    "duration": 8,
    "start_time": "2022-04-30T19:09:22.022Z"
   },
   {
    "duration": 20,
    "start_time": "2022-04-30T19:09:22.032Z"
   },
   {
    "duration": 29,
    "start_time": "2022-04-30T19:09:22.056Z"
   },
   {
    "duration": 10,
    "start_time": "2022-04-30T19:09:22.087Z"
   },
   {
    "duration": 426,
    "start_time": "2022-04-30T19:09:22.099Z"
   },
   {
    "duration": 23,
    "start_time": "2022-04-30T19:09:22.528Z"
   },
   {
    "duration": 41,
    "start_time": "2022-04-30T19:09:22.555Z"
   },
   {
    "duration": 30,
    "start_time": "2022-04-30T19:09:22.599Z"
   },
   {
    "duration": 45,
    "start_time": "2022-04-30T19:09:22.632Z"
   },
   {
    "duration": 384,
    "start_time": "2022-04-30T19:09:22.680Z"
   },
   {
    "duration": 8,
    "start_time": "2022-04-30T19:09:23.067Z"
   },
   {
    "duration": 456,
    "start_time": "2022-04-30T19:09:23.077Z"
   },
   {
    "duration": 44,
    "start_time": "2022-04-30T19:09:23.536Z"
   },
   {
    "duration": 30,
    "start_time": "2022-04-30T19:09:23.583Z"
   },
   {
    "duration": 13,
    "start_time": "2022-04-30T19:09:23.615Z"
   },
   {
    "duration": 13,
    "start_time": "2022-04-30T19:09:23.653Z"
   },
   {
    "duration": 290,
    "start_time": "2022-04-30T19:09:23.668Z"
   },
   {
    "duration": 31,
    "start_time": "2022-04-30T19:09:23.961Z"
   },
   {
    "duration": 192,
    "start_time": "2022-04-30T19:09:23.994Z"
   },
   {
    "duration": 0,
    "start_time": "2022-04-30T19:09:24.188Z"
   },
   {
    "duration": 0,
    "start_time": "2022-04-30T19:09:24.189Z"
   },
   {
    "duration": 0,
    "start_time": "2022-04-30T19:09:24.191Z"
   },
   {
    "duration": 0,
    "start_time": "2022-04-30T19:09:24.192Z"
   },
   {
    "duration": 30,
    "start_time": "2022-04-30T19:39:56.771Z"
   },
   {
    "duration": 90,
    "start_time": "2022-04-30T19:41:36.276Z"
   },
   {
    "duration": 102,
    "start_time": "2022-04-30T20:00:15.266Z"
   },
   {
    "duration": 22,
    "start_time": "2022-04-30T20:01:39.050Z"
   },
   {
    "duration": 1421,
    "start_time": "2022-04-30T20:03:07.438Z"
   },
   {
    "duration": 47,
    "start_time": "2022-04-30T20:03:08.861Z"
   },
   {
    "duration": 54,
    "start_time": "2022-04-30T20:03:08.911Z"
   },
   {
    "duration": 5,
    "start_time": "2022-04-30T20:03:08.969Z"
   },
   {
    "duration": 40,
    "start_time": "2022-04-30T20:03:08.976Z"
   },
   {
    "duration": 90,
    "start_time": "2022-04-30T20:03:09.018Z"
   },
   {
    "duration": 14,
    "start_time": "2022-04-30T20:03:09.111Z"
   },
   {
    "duration": 25,
    "start_time": "2022-04-30T20:03:09.128Z"
   },
   {
    "duration": 13,
    "start_time": "2022-04-30T20:03:09.156Z"
   },
   {
    "duration": 46,
    "start_time": "2022-04-30T20:03:09.174Z"
   },
   {
    "duration": 45,
    "start_time": "2022-04-30T20:03:09.223Z"
   },
   {
    "duration": 37,
    "start_time": "2022-04-30T20:03:09.271Z"
   },
   {
    "duration": 10,
    "start_time": "2022-04-30T20:03:09.311Z"
   },
   {
    "duration": 29,
    "start_time": "2022-04-30T20:03:09.323Z"
   },
   {
    "duration": 16,
    "start_time": "2022-04-30T20:03:09.354Z"
   },
   {
    "duration": 568,
    "start_time": "2022-04-30T20:03:09.373Z"
   },
   {
    "duration": 15,
    "start_time": "2022-04-30T20:03:09.943Z"
   },
   {
    "duration": 24,
    "start_time": "2022-04-30T20:03:09.961Z"
   },
   {
    "duration": 23,
    "start_time": "2022-04-30T20:03:09.987Z"
   },
   {
    "duration": 504,
    "start_time": "2022-04-30T20:03:10.012Z"
   },
   {
    "duration": 7,
    "start_time": "2022-04-30T20:03:10.519Z"
   },
   {
    "duration": 32,
    "start_time": "2022-04-30T20:03:10.528Z"
   },
   {
    "duration": 10,
    "start_time": "2022-04-30T20:03:10.562Z"
   },
   {
    "duration": 26,
    "start_time": "2022-04-30T20:03:10.574Z"
   },
   {
    "duration": 521,
    "start_time": "2022-04-30T20:03:10.602Z"
   },
   {
    "duration": 512,
    "start_time": "2022-04-30T20:03:11.126Z"
   },
   {
    "duration": 19,
    "start_time": "2022-04-30T20:03:11.641Z"
   },
   {
    "duration": 12,
    "start_time": "2022-04-30T20:03:11.668Z"
   },
   {
    "duration": 10,
    "start_time": "2022-04-30T20:03:11.682Z"
   },
   {
    "duration": 11,
    "start_time": "2022-04-30T20:03:11.694Z"
   },
   {
    "duration": 46,
    "start_time": "2022-04-30T20:03:11.708Z"
   },
   {
    "duration": 15,
    "start_time": "2022-04-30T20:03:11.756Z"
   },
   {
    "duration": 9,
    "start_time": "2022-04-30T20:03:11.773Z"
   },
   {
    "duration": 567,
    "start_time": "2022-04-30T20:03:11.784Z"
   },
   {
    "duration": 8,
    "start_time": "2022-04-30T20:03:12.354Z"
   },
   {
    "duration": 28,
    "start_time": "2022-04-30T20:03:12.363Z"
   },
   {
    "duration": 14,
    "start_time": "2022-04-30T20:03:12.393Z"
   },
   {
    "duration": 6,
    "start_time": "2022-04-30T20:03:12.408Z"
   },
   {
    "duration": 571,
    "start_time": "2022-04-30T20:03:12.416Z"
   },
   {
    "duration": 7,
    "start_time": "2022-04-30T20:03:12.990Z"
   },
   {
    "duration": 14,
    "start_time": "2022-04-30T20:03:12.999Z"
   },
   {
    "duration": 12,
    "start_time": "2022-04-30T20:03:13.016Z"
   },
   {
    "duration": 28,
    "start_time": "2022-04-30T20:03:13.030Z"
   },
   {
    "duration": 380,
    "start_time": "2022-04-30T20:03:13.060Z"
   },
   {
    "duration": 14,
    "start_time": "2022-04-30T20:03:13.442Z"
   },
   {
    "duration": 433,
    "start_time": "2022-04-30T20:03:13.459Z"
   },
   {
    "duration": 30,
    "start_time": "2022-04-30T20:03:13.894Z"
   },
   {
    "duration": 55,
    "start_time": "2022-04-30T20:03:13.926Z"
   },
   {
    "duration": 10,
    "start_time": "2022-04-30T20:03:13.983Z"
   },
   {
    "duration": 11,
    "start_time": "2022-04-30T20:03:13.997Z"
   },
   {
    "duration": 289,
    "start_time": "2022-04-30T20:03:14.011Z"
   },
   {
    "duration": 27,
    "start_time": "2022-04-30T20:03:14.303Z"
   },
   {
    "duration": 177,
    "start_time": "2022-04-30T20:03:14.332Z"
   },
   {
    "duration": 0,
    "start_time": "2022-04-30T20:03:14.512Z"
   },
   {
    "duration": 0,
    "start_time": "2022-04-30T20:03:14.514Z"
   },
   {
    "duration": 0,
    "start_time": "2022-04-30T20:03:14.516Z"
   },
   {
    "duration": 0,
    "start_time": "2022-04-30T20:03:14.518Z"
   },
   {
    "duration": 1415,
    "start_time": "2022-05-05T17:11:37.892Z"
   },
   {
    "duration": 46,
    "start_time": "2022-05-05T17:11:39.309Z"
   },
   {
    "duration": 39,
    "start_time": "2022-05-05T17:11:39.357Z"
   },
   {
    "duration": 3,
    "start_time": "2022-05-05T17:11:39.397Z"
   },
   {
    "duration": 12,
    "start_time": "2022-05-05T17:11:39.403Z"
   },
   {
    "duration": 74,
    "start_time": "2022-05-05T17:11:39.417Z"
   },
   {
    "duration": 7,
    "start_time": "2022-05-05T17:11:39.493Z"
   },
   {
    "duration": 21,
    "start_time": "2022-05-05T17:11:39.502Z"
   },
   {
    "duration": 5,
    "start_time": "2022-05-05T17:11:39.526Z"
   },
   {
    "duration": 15,
    "start_time": "2022-05-05T17:11:39.533Z"
   },
   {
    "duration": 49,
    "start_time": "2022-05-05T17:11:39.550Z"
   },
   {
    "duration": 22,
    "start_time": "2022-05-05T17:11:39.601Z"
   },
   {
    "duration": 17,
    "start_time": "2022-05-05T17:11:39.624Z"
   },
   {
    "duration": 36,
    "start_time": "2022-05-05T17:11:39.644Z"
   },
   {
    "duration": 10,
    "start_time": "2022-05-05T17:11:39.688Z"
   },
   {
    "duration": 28,
    "start_time": "2022-05-05T17:11:39.700Z"
   },
   {
    "duration": 7,
    "start_time": "2022-05-05T17:11:39.730Z"
   },
   {
    "duration": 137,
    "start_time": "2022-05-05T17:11:39.738Z"
   },
   {
    "duration": 3,
    "start_time": "2022-05-05T17:11:39.877Z"
   },
   {
    "duration": 26,
    "start_time": "2022-05-05T17:11:39.882Z"
   },
   {
    "duration": 339,
    "start_time": "2022-05-05T17:11:39.909Z"
   },
   {
    "duration": 7,
    "start_time": "2022-05-05T17:11:40.250Z"
   },
   {
    "duration": 30,
    "start_time": "2022-05-05T17:11:40.258Z"
   },
   {
    "duration": 21,
    "start_time": "2022-05-05T17:11:40.291Z"
   },
   {
    "duration": 275,
    "start_time": "2022-05-05T17:11:40.314Z"
   },
   {
    "duration": 5,
    "start_time": "2022-05-05T17:11:40.591Z"
   },
   {
    "duration": 16,
    "start_time": "2022-05-05T17:11:40.598Z"
   },
   {
    "duration": 6,
    "start_time": "2022-05-05T17:11:40.616Z"
   },
   {
    "duration": 17,
    "start_time": "2022-05-05T17:11:40.624Z"
   },
   {
    "duration": 220,
    "start_time": "2022-05-05T17:11:40.644Z"
   },
   {
    "duration": 213,
    "start_time": "2022-05-05T17:11:40.866Z"
   },
   {
    "duration": 11,
    "start_time": "2022-05-05T17:11:41.082Z"
   },
   {
    "duration": 11,
    "start_time": "2022-05-05T17:11:41.096Z"
   },
   {
    "duration": 8,
    "start_time": "2022-05-05T17:11:41.110Z"
   },
   {
    "duration": 8,
    "start_time": "2022-05-05T17:11:41.120Z"
   },
   {
    "duration": 10,
    "start_time": "2022-05-05T17:11:41.130Z"
   },
   {
    "duration": 36,
    "start_time": "2022-05-05T17:11:41.141Z"
   },
   {
    "duration": 316,
    "start_time": "2022-05-05T17:11:41.179Z"
   },
   {
    "duration": 7,
    "start_time": "2022-05-05T17:11:41.497Z"
   },
   {
    "duration": 19,
    "start_time": "2022-05-05T17:11:41.506Z"
   },
   {
    "duration": 28,
    "start_time": "2022-05-05T17:11:41.531Z"
   },
   {
    "duration": 13,
    "start_time": "2022-05-05T17:11:41.562Z"
   },
   {
    "duration": 25,
    "start_time": "2022-05-05T17:11:41.577Z"
   },
   {
    "duration": 230,
    "start_time": "2022-05-05T17:11:41.603Z"
   },
   {
    "duration": 7,
    "start_time": "2022-05-05T17:11:41.834Z"
   },
   {
    "duration": 13,
    "start_time": "2022-05-05T17:11:41.843Z"
   },
   {
    "duration": 22,
    "start_time": "2022-05-05T17:11:41.874Z"
   },
   {
    "duration": 8,
    "start_time": "2022-05-05T17:11:41.898Z"
   },
   {
    "duration": 6,
    "start_time": "2022-05-05T17:11:41.908Z"
   },
   {
    "duration": 328,
    "start_time": "2022-05-05T17:11:41.916Z"
   },
   {
    "duration": 7,
    "start_time": "2022-05-05T17:11:42.246Z"
   },
   {
    "duration": 13,
    "start_time": "2022-05-05T17:11:42.254Z"
   },
   {
    "duration": 42,
    "start_time": "2022-05-05T17:11:42.269Z"
   },
   {
    "duration": 190,
    "start_time": "2022-05-05T17:11:42.313Z"
   },
   {
    "duration": 192,
    "start_time": "2022-05-05T17:11:42.504Z"
   },
   {
    "duration": 17,
    "start_time": "2022-05-05T17:11:42.698Z"
   },
   {
    "duration": 403,
    "start_time": "2022-05-05T17:11:42.717Z"
   },
   {
    "duration": 16,
    "start_time": "2022-05-05T17:11:43.121Z"
   },
   {
    "duration": 417,
    "start_time": "2022-05-05T17:11:43.139Z"
   },
   {
    "duration": 48,
    "start_time": "2022-05-05T17:11:43.558Z"
   },
   {
    "duration": 437,
    "start_time": "2022-05-05T17:11:43.609Z"
   },
   {
    "duration": 133,
    "start_time": "2022-05-05T17:11:44.048Z"
   },
   {
    "duration": 0,
    "start_time": "2022-05-05T17:11:44.183Z"
   },
   {
    "duration": 0,
    "start_time": "2022-05-05T17:11:44.185Z"
   },
   {
    "duration": 0,
    "start_time": "2022-05-05T17:11:44.187Z"
   },
   {
    "duration": 0,
    "start_time": "2022-05-05T17:11:44.188Z"
   },
   {
    "duration": 0,
    "start_time": "2022-05-05T17:11:44.190Z"
   },
   {
    "duration": 7,
    "start_time": "2022-05-05T17:13:52.219Z"
   },
   {
    "duration": 18,
    "start_time": "2022-05-05T17:14:03.931Z"
   },
   {
    "duration": 3,
    "start_time": "2022-05-05T17:14:33.771Z"
   },
   {
    "duration": 1285,
    "start_time": "2022-05-05T17:14:47.754Z"
   },
   {
    "duration": 48,
    "start_time": "2022-05-05T17:14:49.041Z"
   },
   {
    "duration": 32,
    "start_time": "2022-05-05T17:14:49.092Z"
   },
   {
    "duration": 4,
    "start_time": "2022-05-05T17:14:49.126Z"
   },
   {
    "duration": 12,
    "start_time": "2022-05-05T17:14:49.133Z"
   },
   {
    "duration": 75,
    "start_time": "2022-05-05T17:14:49.147Z"
   },
   {
    "duration": 5,
    "start_time": "2022-05-05T17:14:49.223Z"
   },
   {
    "duration": 13,
    "start_time": "2022-05-05T17:14:49.230Z"
   },
   {
    "duration": 4,
    "start_time": "2022-05-05T17:14:49.245Z"
   },
   {
    "duration": 48,
    "start_time": "2022-05-05T17:14:49.251Z"
   },
   {
    "duration": 21,
    "start_time": "2022-05-05T17:14:49.301Z"
   },
   {
    "duration": 23,
    "start_time": "2022-05-05T17:14:49.324Z"
   },
   {
    "duration": 25,
    "start_time": "2022-05-05T17:14:49.349Z"
   },
   {
    "duration": 12,
    "start_time": "2022-05-05T17:14:49.378Z"
   },
   {
    "duration": 2,
    "start_time": "2022-05-05T17:14:49.394Z"
   },
   {
    "duration": 27,
    "start_time": "2022-05-05T17:14:49.398Z"
   },
   {
    "duration": 7,
    "start_time": "2022-05-05T17:14:49.427Z"
   },
   {
    "duration": 183,
    "start_time": "2022-05-05T17:14:49.436Z"
   },
   {
    "duration": 2,
    "start_time": "2022-05-05T17:14:49.622Z"
   },
   {
    "duration": 7,
    "start_time": "2022-05-05T17:14:49.626Z"
   },
   {
    "duration": 330,
    "start_time": "2022-05-05T17:14:49.635Z"
   },
   {
    "duration": 16,
    "start_time": "2022-05-05T17:14:49.966Z"
   },
   {
    "duration": 35,
    "start_time": "2022-05-05T17:14:49.983Z"
   },
   {
    "duration": 16,
    "start_time": "2022-05-05T17:14:50.020Z"
   },
   {
    "duration": 284,
    "start_time": "2022-05-05T17:14:50.038Z"
   },
   {
    "duration": 5,
    "start_time": "2022-05-05T17:14:50.324Z"
   },
   {
    "duration": 18,
    "start_time": "2022-05-05T17:14:50.330Z"
   },
   {
    "duration": 10,
    "start_time": "2022-05-05T17:14:50.349Z"
   },
   {
    "duration": 14,
    "start_time": "2022-05-05T17:14:50.360Z"
   },
   {
    "duration": 225,
    "start_time": "2022-05-05T17:14:50.376Z"
   },
   {
    "duration": 213,
    "start_time": "2022-05-05T17:14:50.604Z"
   },
   {
    "duration": 7,
    "start_time": "2022-05-05T17:14:50.819Z"
   },
   {
    "duration": 11,
    "start_time": "2022-05-05T17:14:50.828Z"
   },
   {
    "duration": 12,
    "start_time": "2022-05-05T17:14:50.841Z"
   },
   {
    "duration": 22,
    "start_time": "2022-05-05T17:14:50.856Z"
   },
   {
    "duration": 16,
    "start_time": "2022-05-05T17:14:50.880Z"
   },
   {
    "duration": 8,
    "start_time": "2022-05-05T17:14:50.898Z"
   },
   {
    "duration": 325,
    "start_time": "2022-05-05T17:14:50.909Z"
   },
   {
    "duration": 7,
    "start_time": "2022-05-05T17:14:51.235Z"
   },
   {
    "duration": 8,
    "start_time": "2022-05-05T17:14:51.244Z"
   },
   {
    "duration": 23,
    "start_time": "2022-05-05T17:14:51.255Z"
   },
   {
    "duration": 7,
    "start_time": "2022-05-05T17:14:51.279Z"
   },
   {
    "duration": 11,
    "start_time": "2022-05-05T17:14:51.293Z"
   },
   {
    "duration": 235,
    "start_time": "2022-05-05T17:14:51.306Z"
   },
   {
    "duration": 7,
    "start_time": "2022-05-05T17:14:51.543Z"
   },
   {
    "duration": 12,
    "start_time": "2022-05-05T17:14:51.551Z"
   },
   {
    "duration": 9,
    "start_time": "2022-05-05T17:14:51.576Z"
   },
   {
    "duration": 16,
    "start_time": "2022-05-05T17:14:51.587Z"
   },
   {
    "duration": 10,
    "start_time": "2022-05-05T17:14:51.604Z"
   },
   {
    "duration": 313,
    "start_time": "2022-05-05T17:14:51.616Z"
   },
   {
    "duration": 7,
    "start_time": "2022-05-05T17:14:51.931Z"
   },
   {
    "duration": 9,
    "start_time": "2022-05-05T17:14:51.940Z"
   },
   {
    "duration": 47,
    "start_time": "2022-05-05T17:14:51.950Z"
   },
   {
    "duration": 200,
    "start_time": "2022-05-05T17:14:51.999Z"
   },
   {
    "duration": 179,
    "start_time": "2022-05-05T17:14:52.201Z"
   },
   {
    "duration": 21,
    "start_time": "2022-05-05T17:14:52.382Z"
   },
   {
    "duration": 402,
    "start_time": "2022-05-05T17:14:52.405Z"
   },
   {
    "duration": 17,
    "start_time": "2022-05-05T17:14:52.809Z"
   },
   {
    "duration": 412,
    "start_time": "2022-05-05T17:14:52.827Z"
   },
   {
    "duration": 43,
    "start_time": "2022-05-05T17:14:53.240Z"
   },
   {
    "duration": 403,
    "start_time": "2022-05-05T17:14:53.285Z"
   },
   {
    "duration": 7,
    "start_time": "2022-05-05T17:14:53.690Z"
   },
   {
    "duration": 9,
    "start_time": "2022-05-05T17:14:53.699Z"
   },
   {
    "duration": 13,
    "start_time": "2022-05-05T17:14:53.709Z"
   },
   {
    "duration": 166,
    "start_time": "2022-05-05T17:14:53.724Z"
   },
   {
    "duration": 0,
    "start_time": "2022-05-05T17:14:53.892Z"
   },
   {
    "duration": 0,
    "start_time": "2022-05-05T17:14:53.894Z"
   },
   {
    "duration": 24,
    "start_time": "2022-05-05T17:15:00.716Z"
   },
   {
    "duration": 1230,
    "start_time": "2022-05-05T17:15:34.665Z"
   },
   {
    "duration": 55,
    "start_time": "2022-05-05T17:15:35.899Z"
   },
   {
    "duration": 48,
    "start_time": "2022-05-05T17:15:35.957Z"
   },
   {
    "duration": 4,
    "start_time": "2022-05-05T17:15:36.009Z"
   },
   {
    "duration": 14,
    "start_time": "2022-05-05T17:15:36.016Z"
   },
   {
    "duration": 74,
    "start_time": "2022-05-05T17:15:36.032Z"
   },
   {
    "duration": 5,
    "start_time": "2022-05-05T17:15:36.108Z"
   },
   {
    "duration": 19,
    "start_time": "2022-05-05T17:15:36.115Z"
   },
   {
    "duration": 5,
    "start_time": "2022-05-05T17:15:36.136Z"
   },
   {
    "duration": 37,
    "start_time": "2022-05-05T17:15:36.143Z"
   },
   {
    "duration": 31,
    "start_time": "2022-05-05T17:15:36.182Z"
   },
   {
    "duration": 30,
    "start_time": "2022-05-05T17:15:36.215Z"
   },
   {
    "duration": 46,
    "start_time": "2022-05-05T17:15:36.247Z"
   },
   {
    "duration": 20,
    "start_time": "2022-05-05T17:15:36.297Z"
   },
   {
    "duration": 2,
    "start_time": "2022-05-05T17:15:36.320Z"
   },
   {
    "duration": 42,
    "start_time": "2022-05-05T17:15:36.324Z"
   },
   {
    "duration": 10,
    "start_time": "2022-05-05T17:15:36.378Z"
   },
   {
    "duration": 138,
    "start_time": "2022-05-05T17:15:36.390Z"
   },
   {
    "duration": 3,
    "start_time": "2022-05-05T17:15:36.529Z"
   },
   {
    "duration": 14,
    "start_time": "2022-05-05T17:15:36.534Z"
   },
   {
    "duration": 367,
    "start_time": "2022-05-05T17:15:36.549Z"
   },
   {
    "duration": 10,
    "start_time": "2022-05-05T17:15:36.919Z"
   },
   {
    "duration": 21,
    "start_time": "2022-05-05T17:15:36.930Z"
   },
   {
    "duration": 46,
    "start_time": "2022-05-05T17:15:36.952Z"
   },
   {
    "duration": 292,
    "start_time": "2022-05-05T17:15:37.002Z"
   },
   {
    "duration": 8,
    "start_time": "2022-05-05T17:15:37.296Z"
   },
   {
    "duration": 20,
    "start_time": "2022-05-05T17:15:37.306Z"
   },
   {
    "duration": 12,
    "start_time": "2022-05-05T17:15:37.328Z"
   },
   {
    "duration": 13,
    "start_time": "2022-05-05T17:15:37.342Z"
   },
   {
    "duration": 240,
    "start_time": "2022-05-05T17:15:37.357Z"
   },
   {
    "duration": 217,
    "start_time": "2022-05-05T17:15:37.599Z"
   },
   {
    "duration": 9,
    "start_time": "2022-05-05T17:15:37.818Z"
   },
   {
    "duration": 14,
    "start_time": "2022-05-05T17:15:37.829Z"
   },
   {
    "duration": 7,
    "start_time": "2022-05-05T17:15:37.845Z"
   },
   {
    "duration": 10,
    "start_time": "2022-05-05T17:15:37.881Z"
   },
   {
    "duration": 29,
    "start_time": "2022-05-05T17:15:37.893Z"
   },
   {
    "duration": 22,
    "start_time": "2022-05-05T17:15:37.924Z"
   },
   {
    "duration": 375,
    "start_time": "2022-05-05T17:15:37.948Z"
   },
   {
    "duration": 6,
    "start_time": "2022-05-05T17:15:38.325Z"
   },
   {
    "duration": 10,
    "start_time": "2022-05-05T17:15:38.334Z"
   },
   {
    "duration": 7,
    "start_time": "2022-05-05T17:15:38.349Z"
   },
   {
    "duration": 32,
    "start_time": "2022-05-05T17:15:38.374Z"
   },
   {
    "duration": 11,
    "start_time": "2022-05-05T17:15:38.409Z"
   },
   {
    "duration": 247,
    "start_time": "2022-05-05T17:15:38.421Z"
   },
   {
    "duration": 11,
    "start_time": "2022-05-05T17:15:38.670Z"
   },
   {
    "duration": 18,
    "start_time": "2022-05-05T17:15:38.683Z"
   },
   {
    "duration": 20,
    "start_time": "2022-05-05T17:15:38.706Z"
   },
   {
    "duration": 13,
    "start_time": "2022-05-05T17:15:38.728Z"
   },
   {
    "duration": 6,
    "start_time": "2022-05-05T17:15:38.743Z"
   },
   {
    "duration": 359,
    "start_time": "2022-05-05T17:15:38.750Z"
   },
   {
    "duration": 8,
    "start_time": "2022-05-05T17:15:39.111Z"
   },
   {
    "duration": 20,
    "start_time": "2022-05-05T17:15:39.120Z"
   },
   {
    "duration": 50,
    "start_time": "2022-05-05T17:15:39.142Z"
   },
   {
    "duration": 191,
    "start_time": "2022-05-05T17:15:39.194Z"
   },
   {
    "duration": 173,
    "start_time": "2022-05-05T17:15:39.388Z"
   },
   {
    "duration": 30,
    "start_time": "2022-05-05T17:15:39.563Z"
   },
   {
    "duration": 434,
    "start_time": "2022-05-05T17:15:39.595Z"
   },
   {
    "duration": 17,
    "start_time": "2022-05-05T17:15:40.031Z"
   },
   {
    "duration": 440,
    "start_time": "2022-05-05T17:15:40.049Z"
   },
   {
    "duration": 25,
    "start_time": "2022-05-05T17:15:40.493Z"
   },
   {
    "duration": 407,
    "start_time": "2022-05-05T17:15:40.520Z"
   },
   {
    "duration": 122,
    "start_time": "2022-05-05T17:15:40.929Z"
   },
   {
    "duration": 0,
    "start_time": "2022-05-05T17:15:41.052Z"
   },
   {
    "duration": 0,
    "start_time": "2022-05-05T17:15:41.053Z"
   },
   {
    "duration": 0,
    "start_time": "2022-05-05T17:15:41.054Z"
   },
   {
    "duration": 0,
    "start_time": "2022-05-05T17:15:41.055Z"
   },
   {
    "duration": 0,
    "start_time": "2022-05-05T17:15:41.057Z"
   },
   {
    "duration": 8,
    "start_time": "2022-05-05T17:18:11.222Z"
   },
   {
    "duration": 16,
    "start_time": "2022-05-05T17:18:20.446Z"
   },
   {
    "duration": 8,
    "start_time": "2022-05-05T17:18:26.026Z"
   },
   {
    "duration": 18,
    "start_time": "2022-05-05T17:19:13.596Z"
   },
   {
    "duration": 18,
    "start_time": "2022-05-05T17:19:21.715Z"
   },
   {
    "duration": 12,
    "start_time": "2022-05-05T17:24:02.087Z"
   },
   {
    "duration": 1255,
    "start_time": "2022-05-05T17:25:36.307Z"
   },
   {
    "duration": 61,
    "start_time": "2022-05-05T17:25:37.565Z"
   },
   {
    "duration": 33,
    "start_time": "2022-05-05T17:25:37.628Z"
   },
   {
    "duration": 3,
    "start_time": "2022-05-05T17:25:37.663Z"
   },
   {
    "duration": 22,
    "start_time": "2022-05-05T17:25:37.672Z"
   },
   {
    "duration": 106,
    "start_time": "2022-05-05T17:25:37.696Z"
   },
   {
    "duration": 8,
    "start_time": "2022-05-05T17:25:37.805Z"
   },
   {
    "duration": 18,
    "start_time": "2022-05-05T17:25:37.815Z"
   },
   {
    "duration": 6,
    "start_time": "2022-05-05T17:25:37.836Z"
   },
   {
    "duration": 37,
    "start_time": "2022-05-05T17:25:37.844Z"
   },
   {
    "duration": 37,
    "start_time": "2022-05-05T17:25:37.885Z"
   },
   {
    "duration": 23,
    "start_time": "2022-05-05T17:25:37.924Z"
   },
   {
    "duration": 49,
    "start_time": "2022-05-05T17:25:37.949Z"
   },
   {
    "duration": 11,
    "start_time": "2022-05-05T17:25:38.004Z"
   },
   {
    "duration": 5,
    "start_time": "2022-05-05T17:25:38.018Z"
   },
   {
    "duration": 67,
    "start_time": "2022-05-05T17:25:38.026Z"
   },
   {
    "duration": 11,
    "start_time": "2022-05-05T17:25:38.095Z"
   },
   {
    "duration": 128,
    "start_time": "2022-05-05T17:25:38.107Z"
   },
   {
    "duration": 3,
    "start_time": "2022-05-05T17:25:38.237Z"
   },
   {
    "duration": 10,
    "start_time": "2022-05-05T17:25:38.242Z"
   },
   {
    "duration": 369,
    "start_time": "2022-05-05T17:25:38.254Z"
   },
   {
    "duration": 9,
    "start_time": "2022-05-05T17:25:38.625Z"
   },
   {
    "duration": 40,
    "start_time": "2022-05-05T17:25:38.637Z"
   },
   {
    "duration": 23,
    "start_time": "2022-05-05T17:25:38.678Z"
   },
   {
    "duration": 343,
    "start_time": "2022-05-05T17:25:38.703Z"
   },
   {
    "duration": 9,
    "start_time": "2022-05-05T17:25:39.048Z"
   },
   {
    "duration": 33,
    "start_time": "2022-05-05T17:25:39.060Z"
   },
   {
    "duration": 15,
    "start_time": "2022-05-05T17:25:39.096Z"
   },
   {
    "duration": 21,
    "start_time": "2022-05-05T17:25:39.114Z"
   },
   {
    "duration": 271,
    "start_time": "2022-05-05T17:25:39.138Z"
   },
   {
    "duration": 259,
    "start_time": "2022-05-05T17:25:39.412Z"
   },
   {
    "duration": 16,
    "start_time": "2022-05-05T17:25:39.673Z"
   },
   {
    "duration": 20,
    "start_time": "2022-05-05T17:25:39.691Z"
   },
   {
    "duration": 8,
    "start_time": "2022-05-05T17:25:39.713Z"
   },
   {
    "duration": 8,
    "start_time": "2022-05-05T17:25:39.723Z"
   },
   {
    "duration": 16,
    "start_time": "2022-05-05T17:25:39.733Z"
   },
   {
    "duration": 24,
    "start_time": "2022-05-05T17:25:39.751Z"
   },
   {
    "duration": 358,
    "start_time": "2022-05-05T17:25:39.783Z"
   },
   {
    "duration": 7,
    "start_time": "2022-05-05T17:25:40.143Z"
   },
   {
    "duration": 29,
    "start_time": "2022-05-05T17:25:40.152Z"
   },
   {
    "duration": 16,
    "start_time": "2022-05-05T17:25:40.192Z"
   },
   {
    "duration": 13,
    "start_time": "2022-05-05T17:25:40.210Z"
   },
   {
    "duration": 6,
    "start_time": "2022-05-05T17:25:40.225Z"
   },
   {
    "duration": 277,
    "start_time": "2022-05-05T17:25:40.233Z"
   },
   {
    "duration": 8,
    "start_time": "2022-05-05T17:25:40.511Z"
   },
   {
    "duration": 15,
    "start_time": "2022-05-05T17:25:40.521Z"
   },
   {
    "duration": 9,
    "start_time": "2022-05-05T17:25:40.538Z"
   },
   {
    "duration": 34,
    "start_time": "2022-05-05T17:25:40.549Z"
   },
   {
    "duration": 23,
    "start_time": "2022-05-05T17:25:40.585Z"
   },
   {
    "duration": 323,
    "start_time": "2022-05-05T17:25:40.611Z"
   },
   {
    "duration": 6,
    "start_time": "2022-05-05T17:25:40.936Z"
   },
   {
    "duration": 39,
    "start_time": "2022-05-05T17:25:40.944Z"
   },
   {
    "duration": 39,
    "start_time": "2022-05-05T17:25:40.986Z"
   },
   {
    "duration": 212,
    "start_time": "2022-05-05T17:25:41.027Z"
   },
   {
    "duration": 207,
    "start_time": "2022-05-05T17:25:41.241Z"
   },
   {
    "duration": 35,
    "start_time": "2022-05-05T17:25:41.450Z"
   },
   {
    "duration": 441,
    "start_time": "2022-05-05T17:25:41.487Z"
   },
   {
    "duration": 18,
    "start_time": "2022-05-05T17:25:41.931Z"
   },
   {
    "duration": 452,
    "start_time": "2022-05-05T17:25:41.951Z"
   },
   {
    "duration": 28,
    "start_time": "2022-05-05T17:25:42.405Z"
   },
   {
    "duration": 446,
    "start_time": "2022-05-05T17:25:42.435Z"
   },
   {
    "duration": 16,
    "start_time": "2022-05-05T17:25:42.886Z"
   },
   {
    "duration": 16,
    "start_time": "2022-05-05T17:25:42.904Z"
   },
   {
    "duration": 15,
    "start_time": "2022-05-05T17:25:42.923Z"
   },
   {
    "duration": 169,
    "start_time": "2022-05-05T17:25:42.941Z"
   },
   {
    "duration": 0,
    "start_time": "2022-05-05T17:25:43.113Z"
   },
   {
    "duration": 0,
    "start_time": "2022-05-05T17:25:43.116Z"
   },
   {
    "duration": 26,
    "start_time": "2022-05-05T17:25:54.621Z"
   },
   {
    "duration": 1264,
    "start_time": "2022-05-05T17:26:00.111Z"
   },
   {
    "duration": 49,
    "start_time": "2022-05-05T17:26:01.377Z"
   },
   {
    "duration": 47,
    "start_time": "2022-05-05T17:26:01.428Z"
   },
   {
    "duration": 3,
    "start_time": "2022-05-05T17:26:01.478Z"
   },
   {
    "duration": 26,
    "start_time": "2022-05-05T17:26:01.485Z"
   },
   {
    "duration": 63,
    "start_time": "2022-05-05T17:26:01.513Z"
   },
   {
    "duration": 6,
    "start_time": "2022-05-05T17:26:01.578Z"
   },
   {
    "duration": 32,
    "start_time": "2022-05-05T17:26:01.587Z"
   },
   {
    "duration": 7,
    "start_time": "2022-05-05T17:26:01.621Z"
   },
   {
    "duration": 22,
    "start_time": "2022-05-05T17:26:01.630Z"
   },
   {
    "duration": 45,
    "start_time": "2022-05-05T17:26:01.654Z"
   },
   {
    "duration": 30,
    "start_time": "2022-05-05T17:26:01.701Z"
   },
   {
    "duration": 43,
    "start_time": "2022-05-05T17:26:01.733Z"
   },
   {
    "duration": 11,
    "start_time": "2022-05-05T17:26:01.784Z"
   },
   {
    "duration": 23,
    "start_time": "2022-05-05T17:26:01.797Z"
   },
   {
    "duration": 50,
    "start_time": "2022-05-05T17:26:01.822Z"
   },
   {
    "duration": 15,
    "start_time": "2022-05-05T17:26:01.875Z"
   },
   {
    "duration": 140,
    "start_time": "2022-05-05T17:26:01.893Z"
   },
   {
    "duration": 4,
    "start_time": "2022-05-05T17:26:02.035Z"
   },
   {
    "duration": 15,
    "start_time": "2022-05-05T17:26:02.041Z"
   },
   {
    "duration": 400,
    "start_time": "2022-05-05T17:26:02.058Z"
   },
   {
    "duration": 17,
    "start_time": "2022-05-05T17:26:02.461Z"
   },
   {
    "duration": 83,
    "start_time": "2022-05-05T17:26:02.482Z"
   },
   {
    "duration": 48,
    "start_time": "2022-05-05T17:26:02.567Z"
   },
   {
    "duration": 300,
    "start_time": "2022-05-05T17:26:02.618Z"
   },
   {
    "duration": 6,
    "start_time": "2022-05-05T17:26:02.920Z"
   },
   {
    "duration": 17,
    "start_time": "2022-05-05T17:26:02.928Z"
   },
   {
    "duration": 7,
    "start_time": "2022-05-05T17:26:02.947Z"
   },
   {
    "duration": 14,
    "start_time": "2022-05-05T17:26:02.955Z"
   },
   {
    "duration": 248,
    "start_time": "2022-05-05T17:26:02.971Z"
   },
   {
    "duration": 216,
    "start_time": "2022-05-05T17:26:03.220Z"
   },
   {
    "duration": 8,
    "start_time": "2022-05-05T17:26:03.438Z"
   },
   {
    "duration": 9,
    "start_time": "2022-05-05T17:26:03.447Z"
   },
   {
    "duration": 11,
    "start_time": "2022-05-05T17:26:03.473Z"
   },
   {
    "duration": 18,
    "start_time": "2022-05-05T17:26:03.485Z"
   },
   {
    "duration": 13,
    "start_time": "2022-05-05T17:26:03.505Z"
   },
   {
    "duration": 6,
    "start_time": "2022-05-05T17:26:03.520Z"
   },
   {
    "duration": 338,
    "start_time": "2022-05-05T17:26:03.528Z"
   },
   {
    "duration": 17,
    "start_time": "2022-05-05T17:26:03.869Z"
   },
   {
    "duration": 13,
    "start_time": "2022-05-05T17:26:03.890Z"
   },
   {
    "duration": 8,
    "start_time": "2022-05-05T17:26:03.909Z"
   },
   {
    "duration": 12,
    "start_time": "2022-05-05T17:26:03.919Z"
   },
   {
    "duration": 8,
    "start_time": "2022-05-05T17:26:03.933Z"
   },
   {
    "duration": 283,
    "start_time": "2022-05-05T17:26:03.943Z"
   },
   {
    "duration": 8,
    "start_time": "2022-05-05T17:26:04.229Z"
   },
   {
    "duration": 7,
    "start_time": "2022-05-05T17:26:04.240Z"
   },
   {
    "duration": 46,
    "start_time": "2022-05-05T17:26:04.249Z"
   },
   {
    "duration": 19,
    "start_time": "2022-05-05T17:26:04.297Z"
   },
   {
    "duration": 10,
    "start_time": "2022-05-05T17:26:04.317Z"
   },
   {
    "duration": 365,
    "start_time": "2022-05-05T17:26:04.329Z"
   },
   {
    "duration": 9,
    "start_time": "2022-05-05T17:26:04.697Z"
   },
   {
    "duration": 13,
    "start_time": "2022-05-05T17:26:04.709Z"
   },
   {
    "duration": 28,
    "start_time": "2022-05-05T17:26:04.724Z"
   },
   {
    "duration": 257,
    "start_time": "2022-05-05T17:26:04.754Z"
   },
   {
    "duration": 208,
    "start_time": "2022-05-05T17:26:05.013Z"
   },
   {
    "duration": 18,
    "start_time": "2022-05-05T17:26:05.223Z"
   },
   {
    "duration": 467,
    "start_time": "2022-05-05T17:26:05.243Z"
   },
   {
    "duration": 19,
    "start_time": "2022-05-05T17:26:05.712Z"
   },
   {
    "duration": 442,
    "start_time": "2022-05-05T17:26:05.733Z"
   },
   {
    "duration": 27,
    "start_time": "2022-05-05T17:26:06.177Z"
   },
   {
    "duration": 417,
    "start_time": "2022-05-05T17:26:06.206Z"
   },
   {
    "duration": 9,
    "start_time": "2022-05-05T17:26:06.625Z"
   },
   {
    "duration": 4,
    "start_time": "2022-05-05T17:26:06.636Z"
   },
   {
    "duration": 10,
    "start_time": "2022-05-05T17:26:06.642Z"
   },
   {
    "duration": 22,
    "start_time": "2022-05-05T17:26:06.674Z"
   },
   {
    "duration": 8,
    "start_time": "2022-05-05T17:26:06.698Z"
   },
   {
    "duration": 14,
    "start_time": "2022-05-05T17:26:06.708Z"
   },
   {
    "duration": 1199,
    "start_time": "2022-05-05T17:27:33.693Z"
   },
   {
    "duration": 40,
    "start_time": "2022-05-05T17:27:34.894Z"
   },
   {
    "duration": 44,
    "start_time": "2022-05-05T17:27:34.935Z"
   },
   {
    "duration": 5,
    "start_time": "2022-05-05T17:27:34.982Z"
   },
   {
    "duration": 28,
    "start_time": "2022-05-05T17:27:34.989Z"
   },
   {
    "duration": 69,
    "start_time": "2022-05-05T17:27:35.019Z"
   },
   {
    "duration": 5,
    "start_time": "2022-05-05T17:27:35.090Z"
   },
   {
    "duration": 16,
    "start_time": "2022-05-05T17:27:35.097Z"
   },
   {
    "duration": 8,
    "start_time": "2022-05-05T17:27:35.114Z"
   },
   {
    "duration": 13,
    "start_time": "2022-05-05T17:27:35.124Z"
   },
   {
    "duration": 39,
    "start_time": "2022-05-05T17:27:35.139Z"
   },
   {
    "duration": 27,
    "start_time": "2022-05-05T17:27:35.179Z"
   },
   {
    "duration": 18,
    "start_time": "2022-05-05T17:27:35.208Z"
   },
   {
    "duration": 8,
    "start_time": "2022-05-05T17:27:35.230Z"
   },
   {
    "duration": 5,
    "start_time": "2022-05-05T17:27:35.239Z"
   },
   {
    "duration": 55,
    "start_time": "2022-05-05T17:27:35.246Z"
   },
   {
    "duration": 8,
    "start_time": "2022-05-05T17:27:35.303Z"
   },
   {
    "duration": 135,
    "start_time": "2022-05-05T17:27:35.313Z"
   },
   {
    "duration": 3,
    "start_time": "2022-05-05T17:27:35.449Z"
   },
   {
    "duration": 15,
    "start_time": "2022-05-05T17:27:35.454Z"
   },
   {
    "duration": 375,
    "start_time": "2022-05-05T17:27:35.471Z"
   },
   {
    "duration": 8,
    "start_time": "2022-05-05T17:27:35.848Z"
   },
   {
    "duration": 34,
    "start_time": "2022-05-05T17:27:35.858Z"
   },
   {
    "duration": 22,
    "start_time": "2022-05-05T17:27:35.895Z"
   },
   {
    "duration": 299,
    "start_time": "2022-05-05T17:27:35.919Z"
   },
   {
    "duration": 6,
    "start_time": "2022-05-05T17:27:36.219Z"
   },
   {
    "duration": 18,
    "start_time": "2022-05-05T17:27:36.226Z"
   },
   {
    "duration": 6,
    "start_time": "2022-05-05T17:27:36.246Z"
   },
   {
    "duration": 27,
    "start_time": "2022-05-05T17:27:36.253Z"
   },
   {
    "duration": 213,
    "start_time": "2022-05-05T17:27:36.282Z"
   },
   {
    "duration": 216,
    "start_time": "2022-05-05T17:27:36.497Z"
   },
   {
    "duration": 8,
    "start_time": "2022-05-05T17:27:36.715Z"
   },
   {
    "duration": 8,
    "start_time": "2022-05-05T17:27:36.725Z"
   },
   {
    "duration": 9,
    "start_time": "2022-05-05T17:27:36.735Z"
   },
   {
    "duration": 7,
    "start_time": "2022-05-05T17:27:36.745Z"
   },
   {
    "duration": 42,
    "start_time": "2022-05-05T17:27:36.754Z"
   },
   {
    "duration": 6,
    "start_time": "2022-05-05T17:27:36.798Z"
   },
   {
    "duration": 317,
    "start_time": "2022-05-05T17:27:36.806Z"
   },
   {
    "duration": 9,
    "start_time": "2022-05-05T17:27:37.124Z"
   },
   {
    "duration": 25,
    "start_time": "2022-05-05T17:27:37.135Z"
   },
   {
    "duration": 13,
    "start_time": "2022-05-05T17:27:37.164Z"
   },
   {
    "duration": 20,
    "start_time": "2022-05-05T17:27:37.182Z"
   },
   {
    "duration": 7,
    "start_time": "2022-05-05T17:27:37.204Z"
   },
   {
    "duration": 236,
    "start_time": "2022-05-05T17:27:37.213Z"
   },
   {
    "duration": 6,
    "start_time": "2022-05-05T17:27:37.451Z"
   },
   {
    "duration": 25,
    "start_time": "2022-05-05T17:27:37.459Z"
   },
   {
    "duration": 15,
    "start_time": "2022-05-05T17:27:37.486Z"
   },
   {
    "duration": 10,
    "start_time": "2022-05-05T17:27:37.503Z"
   },
   {
    "duration": 8,
    "start_time": "2022-05-05T17:27:37.514Z"
   },
   {
    "duration": 316,
    "start_time": "2022-05-05T17:27:37.524Z"
   },
   {
    "duration": 7,
    "start_time": "2022-05-05T17:27:37.842Z"
   },
   {
    "duration": 11,
    "start_time": "2022-05-05T17:27:37.851Z"
   },
   {
    "duration": 27,
    "start_time": "2022-05-05T17:27:37.872Z"
   },
   {
    "duration": 200,
    "start_time": "2022-05-05T17:27:37.901Z"
   },
   {
    "duration": 181,
    "start_time": "2022-05-05T17:27:38.103Z"
   },
   {
    "duration": 20,
    "start_time": "2022-05-05T17:27:38.286Z"
   },
   {
    "duration": 427,
    "start_time": "2022-05-05T17:27:38.307Z"
   },
   {
    "duration": 18,
    "start_time": "2022-05-05T17:27:38.735Z"
   },
   {
    "duration": 428,
    "start_time": "2022-05-05T17:27:38.755Z"
   },
   {
    "duration": 30,
    "start_time": "2022-05-05T17:27:39.185Z"
   },
   {
    "duration": 419,
    "start_time": "2022-05-05T17:27:39.216Z"
   },
   {
    "duration": 9,
    "start_time": "2022-05-05T17:27:39.637Z"
   },
   {
    "duration": 5,
    "start_time": "2022-05-05T17:27:39.648Z"
   },
   {
    "duration": 31,
    "start_time": "2022-05-05T17:27:39.655Z"
   },
   {
    "duration": 30,
    "start_time": "2022-05-05T17:27:39.688Z"
   },
   {
    "duration": 3,
    "start_time": "2022-05-05T17:27:39.720Z"
   },
   {
    "duration": 10,
    "start_time": "2022-05-05T17:27:39.725Z"
   },
   {
    "duration": 1150,
    "start_time": "2022-09-21T12:17:16.396Z"
   },
   {
    "duration": 92,
    "start_time": "2022-09-21T12:17:19.474Z"
   },
   {
    "duration": 30,
    "start_time": "2022-09-21T12:17:20.378Z"
   },
   {
    "duration": 4,
    "start_time": "2022-09-21T12:17:21.779Z"
   },
   {
    "duration": 11,
    "start_time": "2022-09-21T12:17:22.640Z"
   },
   {
    "duration": 54,
    "start_time": "2022-09-21T12:17:25.542Z"
   },
   {
    "duration": 3,
    "start_time": "2022-09-21T12:20:56.732Z"
   },
   {
    "duration": 60,
    "start_time": "2022-09-21T12:20:56.737Z"
   },
   {
    "duration": 43,
    "start_time": "2022-09-21T12:20:56.800Z"
   },
   {
    "duration": 3,
    "start_time": "2022-09-21T12:20:56.844Z"
   },
   {
    "duration": 42,
    "start_time": "2022-09-21T12:20:56.849Z"
   },
   {
    "duration": 23,
    "start_time": "2022-09-21T12:20:56.893Z"
   },
   {
    "duration": 25,
    "start_time": "2022-09-21T12:20:56.918Z"
   },
   {
    "duration": 17,
    "start_time": "2022-09-21T12:20:56.945Z"
   },
   {
    "duration": 13,
    "start_time": "2022-09-21T12:20:56.965Z"
   },
   {
    "duration": 27,
    "start_time": "2022-09-21T12:20:56.981Z"
   },
   {
    "duration": 30,
    "start_time": "2022-09-21T12:20:57.012Z"
   },
   {
    "duration": 51,
    "start_time": "2022-09-21T12:20:57.044Z"
   },
   {
    "duration": 24,
    "start_time": "2022-09-21T12:20:57.097Z"
   },
   {
    "duration": 16,
    "start_time": "2022-09-21T12:20:57.122Z"
   },
   {
    "duration": 3,
    "start_time": "2022-09-21T12:20:57.140Z"
   },
   {
    "duration": 59,
    "start_time": "2022-09-21T12:20:57.145Z"
   },
   {
    "duration": 11,
    "start_time": "2022-09-21T12:20:57.206Z"
   },
   {
    "duration": 147,
    "start_time": "2022-09-21T12:20:57.218Z"
   },
   {
    "duration": 2,
    "start_time": "2022-09-21T12:20:57.367Z"
   },
   {
    "duration": 9,
    "start_time": "2022-09-21T12:20:57.371Z"
   },
   {
    "duration": 413,
    "start_time": "2022-09-21T12:20:57.382Z"
   },
   {
    "duration": 10,
    "start_time": "2022-09-21T12:20:57.797Z"
   },
   {
    "duration": 26,
    "start_time": "2022-09-21T12:20:57.810Z"
   },
   {
    "duration": 43,
    "start_time": "2022-09-21T12:20:57.838Z"
   },
   {
    "duration": 257,
    "start_time": "2022-09-21T12:20:57.883Z"
   },
   {
    "duration": 6,
    "start_time": "2022-09-21T12:20:58.142Z"
   },
   {
    "duration": 27,
    "start_time": "2022-09-21T12:20:58.150Z"
   },
   {
    "duration": 10,
    "start_time": "2022-09-21T12:20:58.178Z"
   },
   {
    "duration": 24,
    "start_time": "2022-09-21T12:20:58.192Z"
   },
   {
    "duration": 244,
    "start_time": "2022-09-21T12:20:58.218Z"
   },
   {
    "duration": 233,
    "start_time": "2022-09-21T12:20:58.463Z"
   },
   {
    "duration": 13,
    "start_time": "2022-09-21T12:20:58.697Z"
   },
   {
    "duration": 30,
    "start_time": "2022-09-21T12:20:58.715Z"
   },
   {
    "duration": 25,
    "start_time": "2022-09-21T12:20:58.747Z"
   },
   {
    "duration": 8,
    "start_time": "2022-09-21T12:20:58.774Z"
   },
   {
    "duration": 23,
    "start_time": "2022-09-21T12:20:58.784Z"
   },
   {
    "duration": 10,
    "start_time": "2022-09-21T12:20:58.809Z"
   },
   {
    "duration": 321,
    "start_time": "2022-09-21T12:20:58.821Z"
   },
   {
    "duration": 6,
    "start_time": "2022-09-21T12:20:59.144Z"
   },
   {
    "duration": 11,
    "start_time": "2022-09-21T12:20:59.152Z"
   },
   {
    "duration": 9,
    "start_time": "2022-09-21T12:20:59.181Z"
   },
   {
    "duration": 8,
    "start_time": "2022-09-21T12:20:59.192Z"
   },
   {
    "duration": 13,
    "start_time": "2022-09-21T12:20:59.202Z"
   },
   {
    "duration": 342,
    "start_time": "2022-09-21T12:20:59.217Z"
   },
   {
    "duration": 7,
    "start_time": "2022-09-21T12:20:59.560Z"
   },
   {
    "duration": 10,
    "start_time": "2022-09-21T12:20:59.578Z"
   },
   {
    "duration": 21,
    "start_time": "2022-09-21T12:20:59.590Z"
   },
   {
    "duration": 15,
    "start_time": "2022-09-21T12:20:59.613Z"
   },
   {
    "duration": 7,
    "start_time": "2022-09-21T12:20:59.630Z"
   },
   {
    "duration": 234,
    "start_time": "2022-09-21T12:20:59.639Z"
   },
   {
    "duration": 7,
    "start_time": "2022-09-21T12:20:59.877Z"
   },
   {
    "duration": 14,
    "start_time": "2022-09-21T12:20:59.885Z"
   },
   {
    "duration": 25,
    "start_time": "2022-09-21T12:20:59.902Z"
   },
   {
    "duration": 207,
    "start_time": "2022-09-21T12:20:59.929Z"
   },
   {
    "duration": 251,
    "start_time": "2022-09-21T12:21:00.137Z"
   },
   {
    "duration": 17,
    "start_time": "2022-09-21T12:21:00.391Z"
   },
   {
    "duration": 490,
    "start_time": "2022-09-21T12:21:00.410Z"
   },
   {
    "duration": 22,
    "start_time": "2022-09-21T12:21:00.902Z"
   },
   {
    "duration": 419,
    "start_time": "2022-09-21T12:21:00.927Z"
   },
   {
    "duration": 32,
    "start_time": "2022-09-21T12:21:01.348Z"
   },
   {
    "duration": 415,
    "start_time": "2022-09-21T12:21:01.382Z"
   },
   {
    "duration": 10,
    "start_time": "2022-09-21T12:21:01.799Z"
   },
   {
    "duration": 25,
    "start_time": "2022-09-21T12:21:01.810Z"
   },
   {
    "duration": 41,
    "start_time": "2022-09-21T12:21:01.837Z"
   },
   {
    "duration": 44,
    "start_time": "2022-09-21T12:21:01.880Z"
   },
   {
    "duration": 21,
    "start_time": "2022-09-21T12:21:01.927Z"
   },
   {
    "duration": 18,
    "start_time": "2022-09-21T12:21:01.950Z"
   }
  ],
  "kernelspec": {
   "display_name": "Python 3",
   "language": "python",
   "name": "python3"
  },
  "language_info": {
   "codemirror_mode": {
    "name": "ipython",
    "version": 3
   },
   "file_extension": ".py",
   "mimetype": "text/x-python",
   "name": "python",
   "nbconvert_exporter": "python",
   "pygments_lexer": "ipython3",
   "version": "3.8.10"
  },
  "toc": {
   "base_numbering": 1,
   "nav_menu": {},
   "number_sections": true,
   "sideBar": true,
   "skip_h1_title": true,
   "title_cell": "Table of Contents",
   "title_sidebar": "Contents",
   "toc_cell": true,
   "toc_position": {},
   "toc_section_display": true,
   "toc_window_display": false
  }
 },
 "nbformat": 4,
 "nbformat_minor": 5
}
